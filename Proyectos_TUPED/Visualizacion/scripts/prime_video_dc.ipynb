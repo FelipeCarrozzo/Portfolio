{
 "cells": [
  {
   "cell_type": "code",
   "execution_count": 1,
   "metadata": {},
   "outputs": [],
   "source": [
    "import pandas as pd\n",
    "import numpy as np\n",
    "import matplotlib.pyplot as plt"
   ]
  },
  {
   "cell_type": "code",
   "execution_count": 2,
   "metadata": {},
   "outputs": [],
   "source": [
    "rutera = 'C:/Users/felip/OneDrive/Documentos/TUPED/3erAño/Visualizacion/data/amazon_prime_users.csv'\n",
    "df = pd.read_csv(rutera)"
   ]
  },
  {
   "cell_type": "code",
   "execution_count": 3,
   "metadata": {},
   "outputs": [
    {
     "name": "stdout",
     "output_type": "stream",
     "text": [
      "          User ID  Feedback/Ratings  Customer Support Interactions\n",
      "count  2500.00000       2500.000000                    2500.000000\n",
      "mean   1250.50000          4.004760                       4.951600\n",
      "std     721.83216          0.580769                       3.191572\n",
      "min       1.00000          3.000000                       0.000000\n",
      "25%     625.75000          3.500000                       2.000000\n",
      "50%    1250.50000          4.000000                       5.000000\n",
      "75%    1875.25000          4.500000                       8.000000\n",
      "max    2500.00000          5.000000                      10.000000\n"
     ]
    }
   ],
   "source": [
    "#VISUALIZACION DE DATOS\n",
    "print(df.describe())"
   ]
  },
  {
   "cell_type": "code",
   "execution_count": 4,
   "metadata": {},
   "outputs": [
    {
     "name": "stdout",
     "output_type": "stream",
     "text": [
      "<class 'pandas.core.frame.DataFrame'>\n",
      "RangeIndex: 2500 entries, 0 to 2499\n",
      "Data columns (total 19 columns):\n",
      " #   Column                         Non-Null Count  Dtype  \n",
      "---  ------                         --------------  -----  \n",
      " 0   User ID                        2500 non-null   int64  \n",
      " 1   Name                           2500 non-null   object \n",
      " 2   Email Address                  2500 non-null   object \n",
      " 3   Username                       2500 non-null   object \n",
      " 4   Date of Birth                  2500 non-null   object \n",
      " 5   Gender                         2500 non-null   object \n",
      " 6   Location                       2500 non-null   object \n",
      " 7   Membership Start Date          2500 non-null   object \n",
      " 8   Membership End Date            2500 non-null   object \n",
      " 9   Subscription Plan              2500 non-null   object \n",
      " 10  Payment Information            2500 non-null   object \n",
      " 11  Renewal Status                 2500 non-null   object \n",
      " 12  Usage Frequency                2500 non-null   object \n",
      " 13  Purchase History               2500 non-null   object \n",
      " 14  Favorite Genres                2500 non-null   object \n",
      " 15  Devices Used                   2500 non-null   object \n",
      " 16  Engagement Metrics             2500 non-null   object \n",
      " 17  Feedback/Ratings               2500 non-null   float64\n",
      " 18  Customer Support Interactions  2500 non-null   int64  \n",
      "dtypes: float64(1), int64(2), object(16)\n",
      "memory usage: 371.2+ KB\n",
      "None\n"
     ]
    }
   ],
   "source": [
    "print(df.info())"
   ]
  },
  {
   "cell_type": "code",
   "execution_count": 5,
   "metadata": {},
   "outputs": [],
   "source": [
    "#cambio datos a tipo fecha\n",
    "df['Date of Birth'] = pd.to_datetime(df['Date of Birth'])\n",
    "df['Membership Start Date'] = pd.to_datetime(df['Membership Start Date'])\n",
    "df['Membership End Date'] = pd.to_datetime(df['Membership End Date'])"
   ]
  },
  {
   "cell_type": "code",
   "execution_count": 7,
   "metadata": {},
   "outputs": [
    {
     "name": "stdout",
     "output_type": "stream",
     "text": [
      "<class 'pandas.core.frame.DataFrame'>\n",
      "RangeIndex: 2500 entries, 0 to 2499\n",
      "Data columns (total 19 columns):\n",
      " #   Column                         Non-Null Count  Dtype         \n",
      "---  ------                         --------------  -----         \n",
      " 0   User ID                        2500 non-null   int64         \n",
      " 1   Name                           2500 non-null   object        \n",
      " 2   Email Address                  2500 non-null   object        \n",
      " 3   Username                       2500 non-null   object        \n",
      " 4   Date of Birth                  2500 non-null   datetime64[ns]\n",
      " 5   Gender                         2500 non-null   object        \n",
      " 6   Location                       2500 non-null   object        \n",
      " 7   Membership Start Date          2500 non-null   datetime64[ns]\n",
      " 8   Membership End Date            2500 non-null   datetime64[ns]\n",
      " 9   Subscription Plan              2500 non-null   object        \n",
      " 10  Payment Information            2500 non-null   object        \n",
      " 11  Renewal Status                 2500 non-null   object        \n",
      " 12  Usage Frequency                2500 non-null   object        \n",
      " 13  Purchase History               2500 non-null   object        \n",
      " 14  Favorite Genres                2500 non-null   object        \n",
      " 15  Devices Used                   2500 non-null   object        \n",
      " 16  Engagement Metrics             2500 non-null   object        \n",
      " 17  Feedback/Ratings               2500 non-null   float64       \n",
      " 18  Customer Support Interactions  2500 non-null   int64         \n",
      "dtypes: datetime64[ns](3), float64(1), int64(2), object(13)\n",
      "memory usage: 371.2+ KB\n",
      "None\n"
     ]
    }
   ],
   "source": [
    "print(df.info())"
   ]
  },
  {
   "cell_type": "code",
   "execution_count": 8,
   "metadata": {},
   "outputs": [
    {
     "name": "stdout",
     "output_type": "stream",
     "text": [
      "   User ID              Name                   Email Address  \\\n",
      "0        1     Ronald Murphy      williamholland@example.com   \n",
      "1        2       Scott Allen             scott22@example.org   \n",
      "2        3  Jonathan Parrish            brooke16@example.org   \n",
      "3        4    Megan Williams         elizabeth31@example.net   \n",
      "4        5     Kathryn Brown  pattersonalexandra@example.org   \n",
      "\n",
      "             Username Date of Birth  Gender        Location  \\\n",
      "0      williamholland    1953-06-03    Male  Rebeccachester   \n",
      "1             scott22    1978-07-08    Male   Mcphersonview   \n",
      "2            brooke16    1994-12-06  Female       Youngfort   \n",
      "3         elizabeth31    1964-12-22  Female    Feliciashire   \n",
      "4  pattersonalexandra    1961-06-04    Male    Port Deborah   \n",
      "\n",
      "  Membership Start Date Membership End Date Subscription Plan  \\\n",
      "0            2024-01-15          2025-01-14            Annual   \n",
      "1            2024-01-07          2025-01-06           Monthly   \n",
      "2            2024-04-13          2025-04-13           Monthly   \n",
      "3            2024-01-24          2025-01-23           Monthly   \n",
      "4            2024-02-14          2025-02-13            Annual   \n",
      "\n",
      "  Payment Information Renewal Status Usage Frequency Purchase History  \\\n",
      "0          Mastercard         Manual         Regular      Electronics   \n",
      "1                Visa         Manual         Regular      Electronics   \n",
      "2          Mastercard         Manual         Regular            Books   \n",
      "3                Amex     Auto-renew         Regular      Electronics   \n",
      "4                Visa     Auto-renew        Frequent         Clothing   \n",
      "\n",
      "  Favorite Genres Devices Used Engagement Metrics  Feedback/Ratings  \\\n",
      "0     Documentary     Smart TV             Medium               3.6   \n",
      "1          Horror   Smartphone             Medium               3.8   \n",
      "2          Comedy     Smart TV                Low               3.3   \n",
      "3     Documentary     Smart TV               High               3.3   \n",
      "4           Drama     Smart TV                Low               4.3   \n",
      "\n",
      "   Customer Support Interactions  \n",
      "0                              3  \n",
      "1                              7  \n",
      "2                              8  \n",
      "3                              7  \n",
      "4                              1  \n"
     ]
    }
   ],
   "source": [
    "#head\n",
    "print(df.head())"
   ]
  },
  {
   "cell_type": "code",
   "execution_count": 9,
   "metadata": {},
   "outputs": [
    {
     "name": "stdout",
     "output_type": "stream",
     "text": [
      "User ID                                   int64\n",
      "Name                                     object\n",
      "Email Address                            object\n",
      "Username                                 object\n",
      "Date of Birth                    datetime64[ns]\n",
      "Gender                                   object\n",
      "Location                                 object\n",
      "Membership Start Date            datetime64[ns]\n",
      "Membership End Date              datetime64[ns]\n",
      "Subscription Plan                        object\n",
      "Payment Information                      object\n",
      "Renewal Status                           object\n",
      "Usage Frequency                          object\n",
      "Purchase History                         object\n",
      "Favorite Genres                          object\n",
      "Devices Used                             object\n",
      "Engagement Metrics                       object\n",
      "Feedback/Ratings                        float64\n",
      "Customer Support Interactions             int64\n",
      "dtype: object\n"
     ]
    }
   ],
   "source": [
    "#tipo de dato de cada variable\n",
    "print(df.dtypes)\n"
   ]
  },
  {
   "cell_type": "code",
   "execution_count": 10,
   "metadata": {},
   "outputs": [
    {
     "data": {
      "text/plain": [
       "<Axes: xlabel='Gender'>"
      ]
     },
     "execution_count": 10,
     "metadata": {},
     "output_type": "execute_result"
    },
    {
     "data": {
      "image/png": "[encoded data removed]",
      "text/plain": [
       "<Figure size 640x480 with 1 Axes>"
      ]
     },
     "metadata": {},
     "output_type": "display_data"
    }
   ],
   "source": [
    "genero = pd.DataFrame(df['Gender'].value_counts())\n",
    "genero.plot(kind='bar')"
   ]
  }
 ],
 "metadata": {
  "kernelspec": {
   "display_name": "Python 3",
   "language": "python",
   "name": "python3"
  },
  "language_info": {
   "codemirror_mode": {
    "name": "ipython",
    "version": 3
   },
   "file_extension": ".py",
   "mimetype": "text/x-python",
   "name": "python",
   "nbconvert_exporter": "python",
   "pygments_lexer": "ipython3",
   "version": "3.11.5"
  }
 },
 "nbformat": 4,
 "nbformat_minor": 2
}
