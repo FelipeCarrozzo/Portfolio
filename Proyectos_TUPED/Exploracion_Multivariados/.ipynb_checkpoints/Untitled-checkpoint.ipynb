{
 "cells": [
  {
   "cell_type": "code",
   "execution_count": 1,
   "id": "d65d8161",
   "metadata": {},
   "outputs": [
    {
     "name": "stderr",
     "output_type": "stream",
     "text": [
      "also installing the dependencies 'remotes', 'glue', 'lifecycle', 'R.methodsS3', 'R.oo', 'R.utils', 'cyclocomp', 'rex', 'brew', 'cli', 'commonmark', 'desc', 'pkgload', 'rlang', 'stringr', 'magrittr', 'R.cache', 'rprojroot', 'vctrs', 'collections', 'fs', 'lintr', 'R6', 'roxygen2', 'styler', 'xml2', 'xmlparsedata'\n",
      "\n"
     ]
    },
    {
     "name": "stdout",
     "output_type": "stream",
     "text": [
      "\n",
      "  There are binary versions available but the source versions are later:\n",
      "               binary source needs_compilation\n",
      "remotes         2.3.0  2.4.2             FALSE\n",
      "glue            1.4.2  1.6.2              TRUE\n",
      "lifecycle       1.0.0  1.0.3             FALSE\n",
      "R.methodsS3     1.8.1  1.8.2             FALSE\n",
      "R.oo           1.24.0 1.25.0             FALSE\n",
      "R.utils        2.10.1 2.12.2             FALSE\n",
      "rex             1.2.0  1.2.1             FALSE\n",
      "brew            1.0-6  1.0-8             FALSE\n",
      "cli             2.5.0  3.6.1              TRUE\n",
      "commonmark        1.7  1.9.0              TRUE\n",
      "desc            1.3.0  1.4.2             FALSE\n",
      "pkgload         1.2.1  1.3.2             FALSE\n",
      "rlang          0.4.11  1.1.1              TRUE\n",
      "stringr         1.4.0  1.5.0             FALSE\n",
      "magrittr        2.0.1  2.0.3              TRUE\n",
      "R.cache        0.15.0 0.16.0             FALSE\n",
      "rprojroot       2.0.2  2.0.3             FALSE\n",
      "vctrs           0.3.8  0.6.2              TRUE\n",
      "collections     0.3.5  0.3.7              TRUE\n",
      "fs              1.5.0  1.6.2              TRUE\n",
      "lintr           2.0.1  3.0.2             FALSE\n",
      "R6              2.5.0  2.5.1             FALSE\n",
      "roxygen2        7.1.1  7.2.3              TRUE\n",
      "styler          1.4.1  1.9.1             FALSE\n",
      "xml2            1.3.2  1.3.4              TRUE\n",
      "languageserver 0.3.10 0.3.15              TRUE\n",
      "\n",
      "  Binaries will be installed\n",
      "package 'glue' successfully unpacked and MD5 sums checked\n",
      "package 'cyclocomp' successfully unpacked and MD5 sums checked\n",
      "package 'cli' successfully unpacked and MD5 sums checked\n",
      "package 'commonmark' successfully unpacked and MD5 sums checked\n",
      "package 'rlang' successfully unpacked and MD5 sums checked\n",
      "package 'magrittr' successfully unpacked and MD5 sums checked\n",
      "package 'vctrs' successfully unpacked and MD5 sums checked\n",
      "package 'collections' successfully unpacked and MD5 sums checked\n",
      "package 'fs' successfully unpacked and MD5 sums checked\n",
      "package 'roxygen2' successfully unpacked and MD5 sums checked\n",
      "package 'xml2' successfully unpacked and MD5 sums checked\n",
      "package 'xmlparsedata' successfully unpacked and MD5 sums checked\n",
      "package 'languageserver' successfully unpacked and MD5 sums checked\n",
      "\n",
      "The downloaded binary packages are in\n",
      "\tC:\\Users\\usr\\AppData\\Local\\Temp\\RtmpK8KA75\\downloaded_packages\n"
     ]
    },
    {
     "name": "stderr",
     "output_type": "stream",
     "text": [
      "installing the source packages 'remotes', 'lifecycle', 'R.methodsS3', 'R.oo', 'R.utils', 'rex', 'brew', 'desc', 'pkgload', 'stringr', 'R.cache', 'rprojroot', 'lintr', 'R6', 'styler'\n",
      "\n",
      "Warning message in install.packages(\"languageserver\"):\n",
      "\"installation of package 'lifecycle' had non-zero exit status\"Warning message in install.packages(\"languageserver\"):\n",
      "\"installation of package 'stringr' had non-zero exit status\"Warning message in install.packages(\"languageserver\"):\n",
      "\"installation of package 'lintr' had non-zero exit status\"Warning message in install.packages(\"languageserver\"):\n",
      "\"installation of package 'pkgload' had non-zero exit status\""
     ]
    }
   ],
   "source": [
    "install.packages(\"languageserver\")"
   ]
  }
 ],
 "metadata": {
  "kernelspec": {
   "display_name": "R",
   "language": "R",
   "name": "ir"
  },
  "language_info": {
   "codemirror_mode": "r",
   "file_extension": ".r",
   "mimetype": "text/x-r-source",
   "name": "R",
   "pygments_lexer": "r",
   "version": "3.6.1"
  }
 },
 "nbformat": 4,
 "nbformat_minor": 5
}
