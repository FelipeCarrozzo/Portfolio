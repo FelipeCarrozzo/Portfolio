{
 "cells": [
  {
   "cell_type": "markdown",
   "id": "ffef24c5",
   "metadata": {},
   "source": [
    "**HACER UNA TABLA DE FRECUENCIAS COMPLETA A PARTIR DE UN DATASET**"
   ]
  },
  {
   "cell_type": "code",
   "execution_count": null,
   "id": "97c86a59",
   "metadata": {},
   "outputs": [],
   "source": [
    "tabla_frec <- count(DATASET, VARIABLE) %>% mutate(fi = n/sum(n), fip= fi*100, Ni = cumsum(n), Fi = cumsum(n)/sum(n))\n",
    "tabla_frec "
   ]
  },
  {
   "cell_type": "markdown",
   "id": "26998f49",
   "metadata": {},
   "source": [
    "**MEDIDAS DE TENDENCIA CENTRAL**"
   ]
  },
  {
   "cell_type": "code",
   "execution_count": null,
   "id": "82809370",
   "metadata": {},
   "outputs": [],
   "source": [
    "csNat <- filter(primaria, asignatura==\"LENGUA\", anioCursado == \"PRIMERO\")\n",
    "csNat %>% group_by(asignatura) %>%\n",
    "      summarise(conteo=n(),\n",
    "            media=mean(promedio, na.rm = TRUE), \n",
    "            varianza=var(promedio, na.rm = TRUE),\n",
    "            desvio=sd(promedio, na.rm = TRUE),\n",
    "            Minimo=min(promedio, na.rm = TRUE),\n",
    "            Maximo=max(promedio, na.rm = TRUE),\n",
    "            IQR=IQR(promedio, na.rm = TRUE),\n",
    "            Rango = Maximo-Minimo,\n",
    "            Mediana=median(promedio, na.rm = TRUE),\n",
    "            Q1=quantile(promedio, 0,25,na.rm = TRUE),\n",
    "            Q3=quantile(promedio, 0,75,na.rm = TRUE),\n",
    "            sup=Q3 + 1.5 * IQR,\n",
    "            inf=Q1 -1.5 * IQR,\n",
    "            cv=sd(promedio, na.rm = TRUE) /mean(promedio, na.rm = TRUE) * 100)"
   ]
  }
 ],
 "metadata": {
  "kernelspec": {
   "display_name": "R",
   "language": "R",
   "name": "ir"
  },
  "language_info": {
   "codemirror_mode": "r",
   "file_extension": ".r",
   "mimetype": "text/x-r-source",
   "name": "R",
   "pygments_lexer": "r",
   "version": "3.6.1"
  }
 },
 "nbformat": 4,
 "nbformat_minor": 5
}
