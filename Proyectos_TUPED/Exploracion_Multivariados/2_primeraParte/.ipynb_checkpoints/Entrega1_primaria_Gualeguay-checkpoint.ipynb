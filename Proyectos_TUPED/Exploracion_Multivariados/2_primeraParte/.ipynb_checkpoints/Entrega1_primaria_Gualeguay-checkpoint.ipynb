{
 "cells": [
  {
   "cell_type": "markdown",
   "id": "b087d92f",
   "metadata": {},
   "source": [
    "# Exploración de Datos Multivariados\n",
    "## Tecnicatura Universitaria en Procesamiento y Explotación de Datos - Facultad de Ingeniería (UNER)\n",
    "### Carrozzo, Felipe - Ré, Lautaro"
   ]
  },
  {
   "cell_type": "markdown",
   "id": "e632819a",
   "metadata": {},
   "source": [
    "---"
   ]
  },
  {
   "cell_type": "markdown",
   "id": "ca35c610",
   "metadata": {},
   "source": [
    "### Guía 1"
   ]
  },
  {
   "cell_type": "markdown",
   "id": "26d1788f",
   "metadata": {},
   "source": [
    "### INSTALACIÓN DE PAQUETES Y CARGA DE LIBRERIAS"
   ]
  },
  {
   "cell_type": "code",
   "execution_count": 1,
   "id": "0a258150",
   "metadata": {
    "vscode": {
     "languageId": "r"
    }
   },
   "outputs": [
    {
     "name": "stderr",
     "output_type": "stream",
     "text": [
      "Warning message:\n",
      "\"package 'readxl' was built under R version 3.6.3\""
     ]
    }
   ],
   "source": [
    "library(readxl)\n",
    " "
   ]
  },
  {
   "cell_type": "markdown",
   "id": "34bf4219",
   "metadata": {},
   "source": [
    "--- "
   ]
  },
  {
   "cell_type": "markdown",
   "id": "668e0dac",
   "metadata": {},
   "source": [
    "#### 1. Lectura de Datos"
   ]
  },
  {
   "cell_type": "code",
   "execution_count": 2,
   "id": "4f3ce368",
   "metadata": {
    "vscode": {
     "languageId": "r"
    }
   },
   "outputs": [],
   "source": [
    "options(warn=-1)\n",
    "GUALEGUAY_original <- read_excel(\"C:/Users/Usuario/OneDrive/Documentos/EDM/GUALEGUAY3.xlsx\")"
   ]
  },
  {
   "cell_type": "markdown",
   "id": "33a704df",
   "metadata": {},
   "source": [
    "---"
   ]
  },
  {
   "cell_type": "markdown",
   "id": "deccbf82",
   "metadata": {},
   "source": [
    "#### 2. Exploración de datos"
   ]
  },
  {
   "cell_type": "code",
   "execution_count": 3,
   "id": "ee7c4439",
   "metadata": {
    "vscode": {
     "languageId": "r"
    }
   },
   "outputs": [
    {
     "data": {
      "text/html": [
       "<ol class=list-inline>\n",
       "\t<li>656615</li>\n",
       "\t<li>26</li>\n",
       "</ol>\n"
      ],
      "text/latex": [
       "\\begin{enumerate*}\n",
       "\\item 656615\n",
       "\\item 26\n",
       "\\end{enumerate*}\n"
      ],
      "text/markdown": [
       "1. 656615\n",
       "2. 26\n",
       "\n",
       "\n"
      ],
      "text/plain": [
       "[1] 656615     26"
      ]
     },
     "metadata": {},
     "output_type": "display_data"
    },
    {
     "data": {
      "text/html": [
       "<ol class=list-inline>\n",
       "\t<li>'CUE'</li>\n",
       "\t<li>'departamento'</li>\n",
       "\t<li>'localidad'</li>\n",
       "\t<li>'CodigoPostal'</li>\n",
       "\t<li>'EsPrivada'</li>\n",
       "\t<li>'turno'</li>\n",
       "\t<li>'curso'</li>\n",
       "\t<li>'periodoEvaluatorio'</li>\n",
       "\t<li>'idalumno'</li>\n",
       "\t<li>'Documento'</li>\n",
       "\t<li>'anioLectivo'</li>\n",
       "\t<li>'asignatura'</li>\n",
       "\t<li>'nota'</li>\n",
       "\t<li>'observaciones'</li>\n",
       "\t<li>'idSubOrganizacion'</li>\n",
       "\t<li>'idDivision'</li>\n",
       "\t<li>'NivelEnsenanza'</li>\n",
       "\t<li>'orden'</li>\n",
       "\t<li>'motivo_ausente'</li>\n",
       "\t<li>'idOrganizaciones'</li>\n",
       "\t<li>'ddivision'</li>\n",
       "\t<li>'Nivel'</li>\n",
       "\t<li>'esMultianio'</li>\n",
       "\t<li>'IdModEnsenanza'</li>\n",
       "\t<li>'Modalidad'</li>\n",
       "\t<li>'ModEnsenaza'</li>\n",
       "</ol>\n"
      ],
      "text/latex": [
       "\\begin{enumerate*}\n",
       "\\item 'CUE'\n",
       "\\item 'departamento'\n",
       "\\item 'localidad'\n",
       "\\item 'CodigoPostal'\n",
       "\\item 'EsPrivada'\n",
       "\\item 'turno'\n",
       "\\item 'curso'\n",
       "\\item 'periodoEvaluatorio'\n",
       "\\item 'idalumno'\n",
       "\\item 'Documento'\n",
       "\\item 'anioLectivo'\n",
       "\\item 'asignatura'\n",
       "\\item 'nota'\n",
       "\\item 'observaciones'\n",
       "\\item 'idSubOrganizacion'\n",
       "\\item 'idDivision'\n",
       "\\item 'NivelEnsenanza'\n",
       "\\item 'orden'\n",
       "\\item 'motivo\\_ausente'\n",
       "\\item 'idOrganizaciones'\n",
       "\\item 'ddivision'\n",
       "\\item 'Nivel'\n",
       "\\item 'esMultianio'\n",
       "\\item 'IdModEnsenanza'\n",
       "\\item 'Modalidad'\n",
       "\\item 'ModEnsenaza'\n",
       "\\end{enumerate*}\n"
      ],
      "text/markdown": [
       "1. 'CUE'\n",
       "2. 'departamento'\n",
       "3. 'localidad'\n",
       "4. 'CodigoPostal'\n",
       "5. 'EsPrivada'\n",
       "6. 'turno'\n",
       "7. 'curso'\n",
       "8. 'periodoEvaluatorio'\n",
       "9. 'idalumno'\n",
       "10. 'Documento'\n",
       "11. 'anioLectivo'\n",
       "12. 'asignatura'\n",
       "13. 'nota'\n",
       "14. 'observaciones'\n",
       "15. 'idSubOrganizacion'\n",
       "16. 'idDivision'\n",
       "17. 'NivelEnsenanza'\n",
       "18. 'orden'\n",
       "19. 'motivo_ausente'\n",
       "20. 'idOrganizaciones'\n",
       "21. 'ddivision'\n",
       "22. 'Nivel'\n",
       "23. 'esMultianio'\n",
       "24. 'IdModEnsenanza'\n",
       "25. 'Modalidad'\n",
       "26. 'ModEnsenaza'\n",
       "\n",
       "\n"
      ],
      "text/plain": [
       " [1] \"CUE\"                \"departamento\"       \"localidad\"         \n",
       " [4] \"CodigoPostal\"       \"EsPrivada\"          \"turno\"             \n",
       " [7] \"curso\"              \"periodoEvaluatorio\" \"idalumno\"          \n",
       "[10] \"Documento\"          \"anioLectivo\"        \"asignatura\"        \n",
       "[13] \"nota\"               \"observaciones\"      \"idSubOrganizacion\" \n",
       "[16] \"idDivision\"         \"NivelEnsenanza\"     \"orden\"             \n",
       "[19] \"motivo_ausente\"     \"idOrganizaciones\"   \"ddivision\"         \n",
       "[22] \"Nivel\"              \"esMultianio\"        \"IdModEnsenanza\"    \n",
       "[25] \"Modalidad\"          \"ModEnsenaza\"       "
      ]
     },
     "metadata": {},
     "output_type": "display_data"
    },
    {
     "data": {
      "text/html": [
       "26"
      ],
      "text/latex": [
       "26"
      ],
      "text/markdown": [
       "26"
      ],
      "text/plain": [
       "[1] 26"
      ]
     },
     "metadata": {},
     "output_type": "display_data"
    },
    {
     "data": {
      "text/html": [
       "656615"
      ],
      "text/latex": [
       "656615"
      ],
      "text/markdown": [
       "656615"
      ],
      "text/plain": [
       "[1] 656615"
      ]
     },
     "metadata": {},
     "output_type": "display_data"
    },
    {
     "data": {
      "text/html": [
       "<table>\n",
       "<thead><tr><th scope=col>CUE</th><th scope=col>departamento</th><th scope=col>localidad</th><th scope=col>CodigoPostal</th><th scope=col>EsPrivada</th><th scope=col>turno</th><th scope=col>curso</th><th scope=col>periodoEvaluatorio</th><th scope=col>idalumno</th><th scope=col>Documento</th><th scope=col>...</th><th scope=col>NivelEnsenanza</th><th scope=col>orden</th><th scope=col>motivo_ausente</th><th scope=col>idOrganizaciones</th><th scope=col>ddivision</th><th scope=col>Nivel</th><th scope=col>esMultianio</th><th scope=col>IdModEnsenanza</th><th scope=col>Modalidad</th><th scope=col>ModEnsenaza</th></tr></thead>\n",
       "<tbody>\n",
       "\t<tr><td>6000752         </td><td>GUALEGUAY       </td><td>GUALEGUAY       </td><td>0               </td><td>N               </td><td>ROTATIVO        </td><td>1-6 - A Prim    </td><td>Primer Trimestre</td><td>781926          </td><td>54916911        </td><td>...             </td><td>PRIMARIO        </td><td>1               </td><td>NA              </td><td>324             </td><td>A               </td><td>2               </td><td>S               </td><td>5               </td><td>Primaria        </td><td>Comun           </td></tr>\n",
       "\t<tr><td>6000752         </td><td>GUALEGUAY       </td><td>GUALEGUAY       </td><td>0               </td><td>N               </td><td>ROTATIVO        </td><td>1-6 - A Prim    </td><td>Primer Trimestre</td><td>846914          </td><td>55244514        </td><td>...             </td><td>PRIMARIO        </td><td>1               </td><td>NA              </td><td>324             </td><td>A               </td><td>2               </td><td>S               </td><td>5               </td><td>Primaria        </td><td>Comun           </td></tr>\n",
       "\t<tr><td>6000752         </td><td>GUALEGUAY       </td><td>GUALEGUAY       </td><td>0               </td><td>N               </td><td>ROTATIVO        </td><td>1-6 - A Prim    </td><td>Primer Trimestre</td><td>781915          </td><td>55244551        </td><td>...             </td><td>PRIMARIO        </td><td>1               </td><td>NA              </td><td>324             </td><td>A               </td><td>2               </td><td>S               </td><td>5               </td><td>Primaria        </td><td>Comun           </td></tr>\n",
       "\t<tr><td>6000752         </td><td>GUALEGUAY       </td><td>GUALEGUAY       </td><td>0               </td><td>N               </td><td>ROTATIVO        </td><td>1-6 - A Prim    </td><td>Primer Trimestre</td><td>625546          </td><td>52492412        </td><td>...             </td><td>PRIMARIO        </td><td>1               </td><td>NA              </td><td>324             </td><td>A               </td><td>2               </td><td>S               </td><td>5               </td><td>Primaria        </td><td>Comun           </td></tr>\n",
       "\t<tr><td>6000752         </td><td>GUALEGUAY       </td><td>GUALEGUAY       </td><td>0               </td><td>N               </td><td>ROTATIVO        </td><td>1-6 - A Prim    </td><td>Primer Trimestre</td><td>846907          </td><td>48825145        </td><td>...             </td><td>PRIMARIO        </td><td>1               </td><td>NA              </td><td>324             </td><td>A               </td><td>2               </td><td>S               </td><td>5               </td><td>Primaria        </td><td>Comun           </td></tr>\n",
       "\t<tr><td>6000752         </td><td>GUALEGUAY       </td><td>GUALEGUAY       </td><td>0               </td><td>N               </td><td>ROTATIVO        </td><td>1-6 - A Prim    </td><td>Primer Trimestre</td><td>846906          </td><td>51117292        </td><td>...             </td><td>PRIMARIO        </td><td>1               </td><td>NA              </td><td>324             </td><td>A               </td><td>2               </td><td>S               </td><td>5               </td><td>Primaria        </td><td>Comun           </td></tr>\n",
       "\t<tr><td>6000752         </td><td>GUALEGUAY       </td><td>GUALEGUAY       </td><td>0               </td><td>N               </td><td>ROTATIVO        </td><td>1-6 - A Prim    </td><td>Primer Trimestre</td><td>846915          </td><td>55244506        </td><td>...             </td><td>PRIMARIO        </td><td>1               </td><td>NA              </td><td>324             </td><td>A               </td><td>2               </td><td>S               </td><td>5               </td><td>Primaria        </td><td>Comun           </td></tr>\n",
       "\t<tr><td>6000752         </td><td>GUALEGUAY       </td><td>GUALEGUAY       </td><td>0               </td><td>N               </td><td>ROTATIVO        </td><td>1-6 - A Prim    </td><td>Primer Trimestre</td><td>516893          </td><td>52258865        </td><td>...             </td><td>PRIMARIO        </td><td>1               </td><td>NA              </td><td>324             </td><td>A               </td><td>2               </td><td>S               </td><td>5               </td><td>Primaria        </td><td>Comun           </td></tr>\n",
       "\t<tr><td>6000752         </td><td>GUALEGUAY       </td><td>GUALEGUAY       </td><td>0               </td><td>N               </td><td>ROTATIVO        </td><td>1-6 - A Prim    </td><td>Primer Trimestre</td><td>781926          </td><td>54916911        </td><td>...             </td><td>PRIMARIO        </td><td>1               </td><td>NA              </td><td>324             </td><td>A               </td><td>2               </td><td>S               </td><td>5               </td><td>Primaria        </td><td>Comun           </td></tr>\n",
       "\t<tr><td>6000752         </td><td>GUALEGUAY       </td><td>GUALEGUAY       </td><td>0               </td><td>N               </td><td>ROTATIVO        </td><td>1-6 - A Prim    </td><td>Primer Trimestre</td><td>516892          </td><td>52493131        </td><td>...             </td><td>PRIMARIO        </td><td>1               </td><td>NA              </td><td>324             </td><td>A               </td><td>2               </td><td>S               </td><td>5               </td><td>Primaria        </td><td>Comun           </td></tr>\n",
       "</tbody>\n",
       "</table>\n"
      ],
      "text/latex": [
       "\\begin{tabular}{r|llllllllllllllllllllllllll}\n",
       " CUE & departamento & localidad & CodigoPostal & EsPrivada & turno & curso & periodoEvaluatorio & idalumno & Documento & ... & NivelEnsenanza & orden & motivo\\_ausente & idOrganizaciones & ddivision & Nivel & esMultianio & IdModEnsenanza & Modalidad & ModEnsenaza\\\\\n",
       "\\hline\n",
       "\t 6000752          & GUALEGUAY        & GUALEGUAY        & 0                & N                & ROTATIVO         & 1-6 - A Prim     & Primer Trimestre & 781926           & 54916911         & ...              & PRIMARIO         & 1                & NA               & 324              & A                & 2                & S                & 5                & Primaria         & Comun           \\\\\n",
       "\t 6000752          & GUALEGUAY        & GUALEGUAY        & 0                & N                & ROTATIVO         & 1-6 - A Prim     & Primer Trimestre & 846914           & 55244514         & ...              & PRIMARIO         & 1                & NA               & 324              & A                & 2                & S                & 5                & Primaria         & Comun           \\\\\n",
       "\t 6000752          & GUALEGUAY        & GUALEGUAY        & 0                & N                & ROTATIVO         & 1-6 - A Prim     & Primer Trimestre & 781915           & 55244551         & ...              & PRIMARIO         & 1                & NA               & 324              & A                & 2                & S                & 5                & Primaria         & Comun           \\\\\n",
       "\t 6000752          & GUALEGUAY        & GUALEGUAY        & 0                & N                & ROTATIVO         & 1-6 - A Prim     & Primer Trimestre & 625546           & 52492412         & ...              & PRIMARIO         & 1                & NA               & 324              & A                & 2                & S                & 5                & Primaria         & Comun           \\\\\n",
       "\t 6000752          & GUALEGUAY        & GUALEGUAY        & 0                & N                & ROTATIVO         & 1-6 - A Prim     & Primer Trimestre & 846907           & 48825145         & ...              & PRIMARIO         & 1                & NA               & 324              & A                & 2                & S                & 5                & Primaria         & Comun           \\\\\n",
       "\t 6000752          & GUALEGUAY        & GUALEGUAY        & 0                & N                & ROTATIVO         & 1-6 - A Prim     & Primer Trimestre & 846906           & 51117292         & ...              & PRIMARIO         & 1                & NA               & 324              & A                & 2                & S                & 5                & Primaria         & Comun           \\\\\n",
       "\t 6000752          & GUALEGUAY        & GUALEGUAY        & 0                & N                & ROTATIVO         & 1-6 - A Prim     & Primer Trimestre & 846915           & 55244506         & ...              & PRIMARIO         & 1                & NA               & 324              & A                & 2                & S                & 5                & Primaria         & Comun           \\\\\n",
       "\t 6000752          & GUALEGUAY        & GUALEGUAY        & 0                & N                & ROTATIVO         & 1-6 - A Prim     & Primer Trimestre & 516893           & 52258865         & ...              & PRIMARIO         & 1                & NA               & 324              & A                & 2                & S                & 5                & Primaria         & Comun           \\\\\n",
       "\t 6000752          & GUALEGUAY        & GUALEGUAY        & 0                & N                & ROTATIVO         & 1-6 - A Prim     & Primer Trimestre & 781926           & 54916911         & ...              & PRIMARIO         & 1                & NA               & 324              & A                & 2                & S                & 5                & Primaria         & Comun           \\\\\n",
       "\t 6000752          & GUALEGUAY        & GUALEGUAY        & 0                & N                & ROTATIVO         & 1-6 - A Prim     & Primer Trimestre & 516892           & 52493131         & ...              & PRIMARIO         & 1                & NA               & 324              & A                & 2                & S                & 5                & Primaria         & Comun           \\\\\n",
       "\\end{tabular}\n"
      ],
      "text/markdown": [
       "\n",
       "| CUE | departamento | localidad | CodigoPostal | EsPrivada | turno | curso | periodoEvaluatorio | idalumno | Documento | ... | NivelEnsenanza | orden | motivo_ausente | idOrganizaciones | ddivision | Nivel | esMultianio | IdModEnsenanza | Modalidad | ModEnsenaza |\n",
       "|---|---|---|---|---|---|---|---|---|---|---|---|---|---|---|---|---|---|---|---|---|\n",
       "| 6000752          | GUALEGUAY        | GUALEGUAY        | 0                | N                | ROTATIVO         | 1-6 - A Prim     | Primer Trimestre | 781926           | 54916911         | ...              | PRIMARIO         | 1                | NA               | 324              | A                | 2                | S                | 5                | Primaria         | Comun            |\n",
       "| 6000752          | GUALEGUAY        | GUALEGUAY        | 0                | N                | ROTATIVO         | 1-6 - A Prim     | Primer Trimestre | 846914           | 55244514         | ...              | PRIMARIO         | 1                | NA               | 324              | A                | 2                | S                | 5                | Primaria         | Comun            |\n",
       "| 6000752          | GUALEGUAY        | GUALEGUAY        | 0                | N                | ROTATIVO         | 1-6 - A Prim     | Primer Trimestre | 781915           | 55244551         | ...              | PRIMARIO         | 1                | NA               | 324              | A                | 2                | S                | 5                | Primaria         | Comun            |\n",
       "| 6000752          | GUALEGUAY        | GUALEGUAY        | 0                | N                | ROTATIVO         | 1-6 - A Prim     | Primer Trimestre | 625546           | 52492412         | ...              | PRIMARIO         | 1                | NA               | 324              | A                | 2                | S                | 5                | Primaria         | Comun            |\n",
       "| 6000752          | GUALEGUAY        | GUALEGUAY        | 0                | N                | ROTATIVO         | 1-6 - A Prim     | Primer Trimestre | 846907           | 48825145         | ...              | PRIMARIO         | 1                | NA               | 324              | A                | 2                | S                | 5                | Primaria         | Comun            |\n",
       "| 6000752          | GUALEGUAY        | GUALEGUAY        | 0                | N                | ROTATIVO         | 1-6 - A Prim     | Primer Trimestre | 846906           | 51117292         | ...              | PRIMARIO         | 1                | NA               | 324              | A                | 2                | S                | 5                | Primaria         | Comun            |\n",
       "| 6000752          | GUALEGUAY        | GUALEGUAY        | 0                | N                | ROTATIVO         | 1-6 - A Prim     | Primer Trimestre | 846915           | 55244506         | ...              | PRIMARIO         | 1                | NA               | 324              | A                | 2                | S                | 5                | Primaria         | Comun            |\n",
       "| 6000752          | GUALEGUAY        | GUALEGUAY        | 0                | N                | ROTATIVO         | 1-6 - A Prim     | Primer Trimestre | 516893           | 52258865         | ...              | PRIMARIO         | 1                | NA               | 324              | A                | 2                | S                | 5                | Primaria         | Comun            |\n",
       "| 6000752          | GUALEGUAY        | GUALEGUAY        | 0                | N                | ROTATIVO         | 1-6 - A Prim     | Primer Trimestre | 781926           | 54916911         | ...              | PRIMARIO         | 1                | NA               | 324              | A                | 2                | S                | 5                | Primaria         | Comun            |\n",
       "| 6000752          | GUALEGUAY        | GUALEGUAY        | 0                | N                | ROTATIVO         | 1-6 - A Prim     | Primer Trimestre | 516892           | 52493131         | ...              | PRIMARIO         | 1                | NA               | 324              | A                | 2                | S                | 5                | Primaria         | Comun            |\n",
       "\n"
      ],
      "text/plain": [
       "   CUE     departamento localidad CodigoPostal EsPrivada turno    curso       \n",
       "1  6000752 GUALEGUAY    GUALEGUAY 0            N         ROTATIVO 1-6 - A Prim\n",
       "2  6000752 GUALEGUAY    GUALEGUAY 0            N         ROTATIVO 1-6 - A Prim\n",
       "3  6000752 GUALEGUAY    GUALEGUAY 0            N         ROTATIVO 1-6 - A Prim\n",
       "4  6000752 GUALEGUAY    GUALEGUAY 0            N         ROTATIVO 1-6 - A Prim\n",
       "5  6000752 GUALEGUAY    GUALEGUAY 0            N         ROTATIVO 1-6 - A Prim\n",
       "6  6000752 GUALEGUAY    GUALEGUAY 0            N         ROTATIVO 1-6 - A Prim\n",
       "7  6000752 GUALEGUAY    GUALEGUAY 0            N         ROTATIVO 1-6 - A Prim\n",
       "8  6000752 GUALEGUAY    GUALEGUAY 0            N         ROTATIVO 1-6 - A Prim\n",
       "9  6000752 GUALEGUAY    GUALEGUAY 0            N         ROTATIVO 1-6 - A Prim\n",
       "10 6000752 GUALEGUAY    GUALEGUAY 0            N         ROTATIVO 1-6 - A Prim\n",
       "   periodoEvaluatorio idalumno Documento ... NivelEnsenanza orden\n",
       "1  Primer Trimestre   781926   54916911  ... PRIMARIO       1    \n",
       "2  Primer Trimestre   846914   55244514  ... PRIMARIO       1    \n",
       "3  Primer Trimestre   781915   55244551  ... PRIMARIO       1    \n",
       "4  Primer Trimestre   625546   52492412  ... PRIMARIO       1    \n",
       "5  Primer Trimestre   846907   48825145  ... PRIMARIO       1    \n",
       "6  Primer Trimestre   846906   51117292  ... PRIMARIO       1    \n",
       "7  Primer Trimestre   846915   55244506  ... PRIMARIO       1    \n",
       "8  Primer Trimestre   516893   52258865  ... PRIMARIO       1    \n",
       "9  Primer Trimestre   781926   54916911  ... PRIMARIO       1    \n",
       "10 Primer Trimestre   516892   52493131  ... PRIMARIO       1    \n",
       "   motivo_ausente idOrganizaciones ddivision Nivel esMultianio IdModEnsenanza\n",
       "1  NA             324              A         2     S           5             \n",
       "2  NA             324              A         2     S           5             \n",
       "3  NA             324              A         2     S           5             \n",
       "4  NA             324              A         2     S           5             \n",
       "5  NA             324              A         2     S           5             \n",
       "6  NA             324              A         2     S           5             \n",
       "7  NA             324              A         2     S           5             \n",
       "8  NA             324              A         2     S           5             \n",
       "9  NA             324              A         2     S           5             \n",
       "10 NA             324              A         2     S           5             \n",
       "   Modalidad ModEnsenaza\n",
       "1  Primaria  Comun      \n",
       "2  Primaria  Comun      \n",
       "3  Primaria  Comun      \n",
       "4  Primaria  Comun      \n",
       "5  Primaria  Comun      \n",
       "6  Primaria  Comun      \n",
       "7  Primaria  Comun      \n",
       "8  Primaria  Comun      \n",
       "9  Primaria  Comun      \n",
       "10 Primaria  Comun      "
      ]
     },
     "metadata": {},
     "output_type": "display_data"
    },
    {
     "name": "stdout",
     "output_type": "stream",
     "text": [
      "Classes 'tbl_df', 'tbl' and 'data.frame':\t656615 obs. of  26 variables:\n",
      " $ CUE               : num  6e+06 6e+06 6e+06 6e+06 6e+06 ...\n",
      " $ departamento      : chr  \"GUALEGUAY\" \"GUALEGUAY\" \"GUALEGUAY\" \"GUALEGUAY\" ...\n",
      " $ localidad         : chr  \"GUALEGUAY\" \"GUALEGUAY\" \"GUALEGUAY\" \"GUALEGUAY\" ...\n",
      " $ CodigoPostal      : num  0 0 0 0 0 0 0 0 0 0 ...\n",
      " $ EsPrivada         : chr  \"N\" \"N\" \"N\" \"N\" ...\n",
      " $ turno             : chr  \"ROTATIVO\" \"ROTATIVO\" \"ROTATIVO\" \"ROTATIVO\" ...\n",
      " $ curso             : chr  \"1-6 - A Prim\" \"1-6 - A Prim\" \"1-6 - A Prim\" \"1-6 - A Prim\" ...\n",
      " $ periodoEvaluatorio: chr  \"Primer Trimestre\" \"Primer Trimestre\" \"Primer Trimestre\" \"Primer Trimestre\" ...\n",
      " $ idalumno          : num  781926 846914 781915 625546 846907 ...\n",
      " $ Documento         : num  54916911 55244514 55244551 52492412 48825145 ...\n",
      " $ anioLectivo       : num  2022 2022 2022 2022 2022 ...\n",
      " $ asignatura        : chr  \"LENGUA\" \"LENGUA\" \"LENGUA\" \"LENGUA\" ...\n",
      " $ nota              : chr  \"9\" \"9\" \"9\" \"6\" ...\n",
      " $ observaciones     : chr  NA NA NA NA ...\n",
      " $ idSubOrganizacion : num  603 603 603 603 603 603 603 603 603 603 ...\n",
      " $ idDivision        : num  72269 72269 72269 72269 72269 ...\n",
      " $ NivelEnsenanza    : chr  \"PRIMARIO\" \"PRIMARIO\" \"PRIMARIO\" \"PRIMARIO\" ...\n",
      " $ orden             : num  1 1 1 1 1 1 1 1 1 1 ...\n",
      " $ motivo_ausente    : logi  NA NA NA NA NA NA ...\n",
      " $ idOrganizaciones  : num  324 324 324 324 324 324 324 324 324 324 ...\n",
      " $ ddivision         : chr  \"A\" \"A\" \"A\" \"A\" ...\n",
      " $ Nivel             : num  2 2 2 2 2 2 2 2 2 2 ...\n",
      " $ esMultianio       : chr  \"S\" \"S\" \"S\" \"S\" ...\n",
      " $ IdModEnsenanza    : num  5 5 5 5 5 5 5 5 5 5 ...\n",
      " $ Modalidad         : chr  \"Primaria\" \"Primaria\" \"Primaria\" \"Primaria\" ...\n",
      " $ ModEnsenaza       : chr  \"Comun\" \"Comun\" \"Comun\" \"Comun\" ...\n"
     ]
    },
    {
     "data": {
      "text/html": [
       "<table>\n",
       "<thead><tr><th scope=col>CUE</th><th scope=col>departamento</th><th scope=col>localidad</th><th scope=col>CodigoPostal</th><th scope=col>EsPrivada</th><th scope=col>turno</th><th scope=col>curso</th><th scope=col>periodoEvaluatorio</th><th scope=col>idalumno</th><th scope=col>Documento</th><th scope=col>...</th><th scope=col>NivelEnsenanza</th><th scope=col>orden</th><th scope=col>motivo_ausente</th><th scope=col>idOrganizaciones</th><th scope=col>ddivision</th><th scope=col>Nivel</th><th scope=col>esMultianio</th><th scope=col>IdModEnsenanza</th><th scope=col>Modalidad</th><th scope=col>ModEnsenaza</th></tr></thead>\n",
       "<tbody>\n",
       "\t<tr><td>6000752         </td><td>GUALEGUAY       </td><td>GUALEGUAY       </td><td>0               </td><td>N               </td><td>ROTATIVO        </td><td>1-6 - A Prim    </td><td>Primer Trimestre</td><td>516892          </td><td>52493131        </td><td>...             </td><td>PRIMARIO        </td><td>1               </td><td>NA              </td><td>324             </td><td>A               </td><td>2               </td><td>S               </td><td>5               </td><td>Primaria        </td><td>Comun           </td></tr>\n",
       "</tbody>\n",
       "</table>\n"
      ],
      "text/latex": [
       "\\begin{tabular}{r|llllllllllllllllllllllllll}\n",
       " CUE & departamento & localidad & CodigoPostal & EsPrivada & turno & curso & periodoEvaluatorio & idalumno & Documento & ... & NivelEnsenanza & orden & motivo\\_ausente & idOrganizaciones & ddivision & Nivel & esMultianio & IdModEnsenanza & Modalidad & ModEnsenaza\\\\\n",
       "\\hline\n",
       "\t 6000752          & GUALEGUAY        & GUALEGUAY        & 0                & N                & ROTATIVO         & 1-6 - A Prim     & Primer Trimestre & 516892           & 52493131         & ...              & PRIMARIO         & 1                & NA               & 324              & A                & 2                & S                & 5                & Primaria         & Comun           \\\\\n",
       "\\end{tabular}\n"
      ],
      "text/markdown": [
       "\n",
       "| CUE | departamento | localidad | CodigoPostal | EsPrivada | turno | curso | periodoEvaluatorio | idalumno | Documento | ... | NivelEnsenanza | orden | motivo_ausente | idOrganizaciones | ddivision | Nivel | esMultianio | IdModEnsenanza | Modalidad | ModEnsenaza |\n",
       "|---|---|---|---|---|---|---|---|---|---|---|---|---|---|---|---|---|---|---|---|---|\n",
       "| 6000752          | GUALEGUAY        | GUALEGUAY        | 0                | N                | ROTATIVO         | 1-6 - A Prim     | Primer Trimestre | 516892           | 52493131         | ...              | PRIMARIO         | 1                | NA               | 324              | A                | 2                | S                | 5                | Primaria         | Comun            |\n",
       "\n"
      ],
      "text/plain": [
       "  CUE     departamento localidad CodigoPostal EsPrivada turno    curso       \n",
       "1 6000752 GUALEGUAY    GUALEGUAY 0            N         ROTATIVO 1-6 - A Prim\n",
       "  periodoEvaluatorio idalumno Documento ... NivelEnsenanza orden motivo_ausente\n",
       "1 Primer Trimestre   516892   52493131  ... PRIMARIO       1     NA            \n",
       "  idOrganizaciones ddivision Nivel esMultianio IdModEnsenanza Modalidad\n",
       "1 324              A         2     S           5              Primaria \n",
       "  ModEnsenaza\n",
       "1 Comun      "
      ]
     },
     "metadata": {},
     "output_type": "display_data"
    },
    {
     "data": {
      "text/html": [
       "<table>\n",
       "<thead><tr><th scope=col>Documento</th></tr></thead>\n",
       "<tbody>\n",
       "\t<tr><td>54916911</td></tr>\n",
       "\t<tr><td>55244514</td></tr>\n",
       "\t<tr><td>55244551</td></tr>\n",
       "\t<tr><td>52492412</td></tr>\n",
       "\t<tr><td>48825145</td></tr>\n",
       "\t<tr><td>51117292</td></tr>\n",
       "</tbody>\n",
       "</table>\n"
      ],
      "text/latex": [
       "\\begin{tabular}{r|l}\n",
       " Documento\\\\\n",
       "\\hline\n",
       "\t 54916911\\\\\n",
       "\t 55244514\\\\\n",
       "\t 55244551\\\\\n",
       "\t 52492412\\\\\n",
       "\t 48825145\\\\\n",
       "\t 51117292\\\\\n",
       "\\end{tabular}\n"
      ],
      "text/markdown": [
       "\n",
       "| Documento |\n",
       "|---|\n",
       "| 54916911 |\n",
       "| 55244514 |\n",
       "| 55244551 |\n",
       "| 52492412 |\n",
       "| 48825145 |\n",
       "| 51117292 |\n",
       "\n"
      ],
      "text/plain": [
       "  Documento\n",
       "1 54916911 \n",
       "2 55244514 \n",
       "3 55244551 \n",
       "4 52492412 \n",
       "5 48825145 \n",
       "6 51117292 "
      ]
     },
     "metadata": {},
     "output_type": "display_data"
    },
    {
     "data": {
      "text/html": [
       "<table>\n",
       "<thead><tr><th scope=col>localidad</th></tr></thead>\n",
       "<tbody>\n",
       "\t<tr><td>GUALEGUAY</td></tr>\n",
       "\t<tr><td>GUALEGUAY</td></tr>\n",
       "\t<tr><td>GUALEGUAY</td></tr>\n",
       "\t<tr><td>GUALEGUAY</td></tr>\n",
       "\t<tr><td>GUALEGUAY</td></tr>\n",
       "\t<tr><td>GUALEGUAY</td></tr>\n",
       "</tbody>\n",
       "</table>\n"
      ],
      "text/latex": [
       "\\begin{tabular}{r|l}\n",
       " localidad\\\\\n",
       "\\hline\n",
       "\t GUALEGUAY\\\\\n",
       "\t GUALEGUAY\\\\\n",
       "\t GUALEGUAY\\\\\n",
       "\t GUALEGUAY\\\\\n",
       "\t GUALEGUAY\\\\\n",
       "\t GUALEGUAY\\\\\n",
       "\\end{tabular}\n"
      ],
      "text/markdown": [
       "\n",
       "| localidad |\n",
       "|---|\n",
       "| GUALEGUAY |\n",
       "| GUALEGUAY |\n",
       "| GUALEGUAY |\n",
       "| GUALEGUAY |\n",
       "| GUALEGUAY |\n",
       "| GUALEGUAY |\n",
       "\n"
      ],
      "text/plain": [
       "  localidad\n",
       "1 GUALEGUAY\n",
       "2 GUALEGUAY\n",
       "3 GUALEGUAY\n",
       "4 GUALEGUAY\n",
       "5 GUALEGUAY\n",
       "6 GUALEGUAY"
      ]
     },
     "metadata": {},
     "output_type": "display_data"
    }
   ],
   "source": [
    "# Información del Dataset\n",
    "options(warn=0)\n",
    "\n",
    "dim(GUALEGUAY_original)        # Dimensión\n",
    "names(GUALEGUAY_original)      # Nombres de columnas\n",
    "length(GUALEGUAY_original)     # Cantidad de columnas\n",
    "nrow(GUALEGUAY_original)       # Cantidad de filas\n",
    "\n",
    "head(GUALEGUAY_original,10)    # Muestra los primeros 10 datos\n",
    "str(GUALEGUAY_original)        # Muestra declaración de variables\n",
    "\n",
    "GUALEGUAY_original[10,]        # Muestra fila 10\n",
    "head(GUALEGUAY_original[,10])  # Muestra columna 10\n",
    "head(GUALEGUAY_original[,'localidad']) # Muestra columna \"localidad\""
   ]
  },
  {
   "cell_type": "code",
   "execution_count": 4,
   "id": "00452c16",
   "metadata": {
    "vscode": {
     "languageId": "r"
    }
   },
   "outputs": [
    {
     "data": {
      "text/plain": [
       "      CUE          departamento        localidad          CodigoPostal \n",
       " Min.   :6000752   Length:656615      Length:656615      Min.   :   0  \n",
       " 1st Qu.:6002930   Class :character   Class :character   1st Qu.:3142  \n",
       " Median :6003206   Mode  :character   Mode  :character   Median :3190  \n",
       " Mean   :6003625                                         Mean   :3136  \n",
       " 3rd Qu.:6005176                                         3rd Qu.:3190  \n",
       " Max.   :6006512                                         Max.   :3194  \n",
       "                                                                       \n",
       "  EsPrivada            turno              curso           periodoEvaluatorio\n",
       " Length:656615      Length:656615      Length:656615      Length:656615     \n",
       " Class :character   Class :character   Class :character   Class :character  \n",
       " Mode  :character   Mode  :character   Mode  :character   Mode  :character  \n",
       "                                                                            \n",
       "                                                                            \n",
       "                                                                            \n",
       "                                                                            \n",
       "    idalumno         Documento         anioLectivo    asignatura       \n",
       " Min.   :    704   Min.   :    7999   Min.   :2015   Length:656615     \n",
       " 1st Qu.: 310710   1st Qu.:44875675   1st Qu.:2019   Class :character  \n",
       " Median : 564881   Median :47844504   Median :2022   Mode  :character  \n",
       " Mean   : 524696   Mean   :48038530   Mean   :2021                     \n",
       " 3rd Qu.: 704174   3rd Qu.:52144774   3rd Qu.:2022                     \n",
       " Max.   :1099361   Max.   :95935969   Max.   :2022                     \n",
       "                                                                       \n",
       "     nota           observaciones      idSubOrganizacion   idDivision    \n",
       " Length:656615      Length:656615      Min.   : 603      Min.   : 57165  \n",
       " Class :character   Class :character   1st Qu.:2657      1st Qu.: 81205  \n",
       " Mode  :character   Mode  :character   Median :2969      Median : 96118  \n",
       "                                       Mean   :3223      Mean   : 92239  \n",
       "                                       3rd Qu.:3293      3rd Qu.:102264  \n",
       "                                       Max.   :7413      Max.   :122461  \n",
       "                                                                         \n",
       " NivelEnsenanza         orden       motivo_ausente idOrganizaciones\n",
       " Length:656615      Min.   :1.000   Mode:logical   Min.   : 324    \n",
       " Class :character   1st Qu.:1.000   NA's:656615    1st Qu.:1300    \n",
       " Mode  :character   Median :2.000                  Median :1427    \n",
       "                    Mean   :2.191                  Mean   :1569    \n",
       "                    3rd Qu.:3.000                  3rd Qu.:1562    \n",
       "                    Max.   :6.000                  Max.   :3610    \n",
       "                                                                   \n",
       "  ddivision             Nivel       esMultianio        IdModEnsenanza  \n",
       " Length:656615      Min.   :1.000   Length:656615      Min.   : 1.000  \n",
       " Class :character   1st Qu.:2.000   Class :character   1st Qu.: 5.000  \n",
       " Mode  :character   Median :3.000   Mode  :character   Median : 5.000  \n",
       "                    Mean   :2.643                      Mean   : 4.282  \n",
       "                    3rd Qu.:3.000                      3rd Qu.: 5.000  \n",
       "                    Max.   :3.000                      Max.   :15.000  \n",
       "                    NA's   :95                         NA's   :95      \n",
       "  Modalidad         ModEnsenaza       \n",
       " Length:656615      Length:656615     \n",
       " Class :character   Class :character  \n",
       " Mode  :character   Mode  :character  \n",
       "                                      \n",
       "                                      \n",
       "                                      \n",
       "                                      "
      ]
     },
     "metadata": {},
     "output_type": "display_data"
    }
   ],
   "source": [
    "summary(GUALEGUAY_original) # Muestra cantidad de datos por variable y NA"
   ]
  },
  {
   "cell_type": "markdown",
   "id": "e329b164",
   "metadata": {},
   "source": [
    "\n",
    "----------------------------------------------------------------------------------------------------------------\n"
   ]
  },
  {
   "cell_type": "markdown",
   "id": "883a98f5",
   "metadata": {},
   "source": [
    "### Muestro las frecuencias de las variables para determinar si eliminarlas o si aportan información"
   ]
  },
  {
   "cell_type": "markdown",
   "id": "ee413cd3",
   "metadata": {},
   "source": [
    "Las siguiente variables no serán utilizadas, ya que no aportan información al estudio."
   ]
  },
  {
   "cell_type": "code",
   "execution_count": 5,
   "id": "aefacb83",
   "metadata": {
    "vscode": {
     "languageId": "r"
    }
   },
   "outputs": [
    {
     "data": {
      "text/plain": [
       "      1   1 CB  1 MMO  1 TCN  1 TEE  1 TME  1 TMR  1 TPA      2  2 ALT  2 TEE      3      4      5      6      a      A A Econ. y Adm Anexo Esc. 7 Anexo Esc. 7 S.L.     Aº      b      B B Econ. y Adm      C C Econ. y Adm.  Ciclo      D      E      F      I      M     NI   NULL  RURAL      S\n",
       "                                                                                                                                                                                                                                                                                                   \n",
       "  10539     29    826     92   6854    241     39    183  11943      1    950   7276   3063   3358    135    144 355467          1906         3960              1556   1241    792 151510          1189  62705            534      2  24413   3705    666    515     24      6     95    642     14"
      ]
     },
     "metadata": {},
     "output_type": "display_data"
    }
   ],
   "source": [
    "ftable(GUALEGUAY_original$ddivision) # no es relevante saber la división del alumno\n",
    "#ftable(GUALEGUAY_original$observaciones)\n",
    "#ftable(GUALEGUAY_original$motivo_ausente)"
   ]
  },
  {
   "cell_type": "markdown",
   "id": "8c02ae2c",
   "metadata": {},
   "source": [
    "\n",
    "----------------------------------------------------------------------------------------------------------------\n"
   ]
  },
  {
   "cell_type": "markdown",
   "id": "80acc308",
   "metadata": {},
   "source": [
    "Variables que son útiles, pero necesitan ser filtradas al crear el dataset limpio."
   ]
  },
  {
   "cell_type": "code",
   "execution_count": 6,
   "id": "76a2e2ff",
   "metadata": {
    "vscode": {
     "languageId": "r"
    }
   },
   "outputs": [
    {
     "data": {
      "text/plain": [
       " Adultos Agrotécnica  Comun Ed.Especial Escuelas NINA   NULL Técnica\n",
       "                                                                    \n",
       "  127665         350 511933          22           652     95   15898"
      ]
     },
     "metadata": {},
     "output_type": "display_data"
    },
    {
     "data": {
      "text/plain": [
       "   2015   2016   2017   2018   2019   2020   2021   2022\n",
       "                                                        \n",
       "     10  12268  14901  88616  94714     27     31 446048"
      ]
     },
     "metadata": {},
     "output_type": "display_data"
    },
    {
     "data": {
      "text/plain": [
       " Diciembre Febrero  Junio Primer Trimestre Promoción Segundo Trimestre Tercer Trimestre\n",
       "                                                                                       \n",
       "     19757    3080     13           220612     42253            200631           170269"
      ]
     },
     "metadata": {},
     "output_type": "display_data"
    }
   ],
   "source": [
    "# Eliminar modalidades de enseñanza que no sean (Comun, Técnica y Agrotécnica) y sumar Técnica con Agrotécnica\n",
    "ftable(GUALEGUAY_original$ModEnsenaza)\n",
    "\n",
    "# Eliminar años que no sean 2022\n",
    "ftable(GUALEGUAY_original$anioLectivo)\n",
    "\n",
    "# Reemplazar \"Junio\" por \"Segundo Trimestre\"\n",
    "ftable(GUALEGUAY_original$periodoEvaluatorio)"
   ]
  },
  {
   "cell_type": "markdown",
   "id": "93a8c0bd",
   "metadata": {},
   "source": [
    "\n",
    "----------------------------------------------------------------------------------------------------------------\n"
   ]
  },
  {
   "cell_type": "markdown",
   "id": "50b9055d",
   "metadata": {},
   "source": [
    "Analizo nivel, modalidades de enseñanza y modalidades de escuelas."
   ]
  },
  {
   "cell_type": "code",
   "execution_count": 7,
   "id": "6ff382f1",
   "metadata": {
    "vscode": {
     "languageId": "r"
    }
   },
   "outputs": [
    {
     "data": {
      "text/plain": [
       "      1      2      3\n",
       "                     \n",
       "     15 234447 422058"
      ]
     },
     "metadata": {},
     "output_type": "display_data"
    },
    {
     "data": {
      "text/plain": [
       "  EGB 3 PRIMARIO SECUNDARIO\n",
       "                           \n",
       "  39335   234607     382673"
      ]
     },
     "metadata": {},
     "output_type": "display_data"
    },
    {
     "data": {
      "text/plain": [
       " Inicial   NULL Primaria Secundaria Secundaria 3 años\n",
       "                                                     \n",
       "      15     95   234447     325938             96120"
      ]
     },
     "metadata": {},
     "output_type": "display_data"
    }
   ],
   "source": [
    "ftable(GUALEGUAY_original$Nivel)\n",
    "ftable(GUALEGUAY_original$NivelEnsenanza)\n",
    "ftable(GUALEGUAY_original$Modalidad)"
   ]
  },
  {
   "cell_type": "code",
   "execution_count": 8,
   "id": "40a4f865",
   "metadata": {
    "vscode": {
     "languageId": "r"
    }
   },
   "outputs": [
    {
     "data": {
      "text/plain": [
       " Adultos Agrotécnica  Comun Ed.Especial Escuelas NINA   NULL Técnica\n",
       "                                                                    \n",
       "  127665         350 511933          22           652     95   15898"
      ]
     },
     "metadata": {},
     "output_type": "display_data"
    },
    {
     "data": {
      "text/plain": [
       "    Adultos Agrotécnica  Comun Ed.Especial Escuelas NINA   NULL Técnica\n",
       "                                                                       \n",
       "1    127665           0      0           0             0      0       0\n",
       "4         0           0      0          22             0      0       0\n",
       "5         0           0 511933           0             0      0       0\n",
       "7         0           0      0           0             0      0   15898\n",
       "8         0         350      0           0             0      0       0\n",
       "15        0           0      0           0           652      0       0"
      ]
     },
     "metadata": {},
     "output_type": "display_data"
    },
    {
     "data": {
      "text/plain": [
       "                   Adultos Agrotécnica  Comun Ed.Especial Escuelas NINA   NULL Técnica\n",
       "                                                                                      \n",
       "Inicial                  0           0      9           6             0      0       0\n",
       "NULL                     0           0      0           0             0     95       0\n",
       "Primaria               146           0 233633          16           652      0       0\n",
       "Secundaria           32379         350 277311           0             0      0   15898\n",
       "Secundaria 3 años    95140           0    980           0             0      0       0"
      ]
     },
     "metadata": {},
     "output_type": "display_data"
    }
   ],
   "source": [
    "ftable(GUALEGUAY_original$ModEnsenaza)\n",
    "ftable(GUALEGUAY_original$IdModEnsenanza,GUALEGUAY_original$ModEnsenaza)\n",
    "ftable(GUALEGUAY_original$Modalidad,GUALEGUAY_original$ModEnsenaza)"
   ]
  },
  {
   "cell_type": "markdown",
   "id": "afd532ff",
   "metadata": {},
   "source": [
    "\n",
    "\n",
    "No se tomarán en cuenta las escuelas multiaño."
   ]
  },
  {
   "cell_type": "code",
   "execution_count": 9,
   "id": "3b4f4b49",
   "metadata": {
    "scrolled": false,
    "vscode": {
     "languageId": "r"
    }
   },
   "outputs": [
    {
     "data": {
      "text/plain": [
       "      Adultos Agrotécnica  Comun Ed.Especial Escuelas NINA   NULL Técnica\n",
       "                                                                         \n",
       "N      127449         350 497536           0             0      0   15898\n",
       "NULL        0           0      0           0             0     95       0\n",
       "S         144           0  14397          22           652      0       0"
      ]
     },
     "metadata": {},
     "output_type": "display_data"
    }
   ],
   "source": [
    "ftable(GUALEGUAY_original$esMultianio,GUALEGUAY_original$ModEnsenaza)"
   ]
  },
  {
   "cell_type": "markdown",
   "id": "aa85b119",
   "metadata": {},
   "source": [
    "\n",
    "----------------------------------------------------------------------------------------------------------------\n"
   ]
  },
  {
   "cell_type": "markdown",
   "id": "14b3b5ee",
   "metadata": {},
   "source": [
    "Analizo las variales \"curso\", \"ddivision\" y turno, para determinar cuales serán relevantes para este trabajo.  \n",
    "Las variables \"curso\" y \"turno\" serán las que queden en el dataset limpio."
   ]
  },
  {
   "cell_type": "code",
   "execution_count": 10,
   "id": "1daee42b",
   "metadata": {
    "vscode": {
     "languageId": "r"
    }
   },
   "outputs": [
    {
     "data": {
      "text/html": [
       "<ol class=list-inline>\n",
       "\t<li>'1-6 - A Prim'</li>\n",
       "\t<li>'1°-6° - A Prim'</li>\n",
       "\t<li>'1° a 6° - A Prim'</li>\n",
       "\t<li>'3-4-5-6 - A Prim'</li>\n",
       "\t<li>'1-2 - A Prim'</li>\n",
       "\t<li>'1- 6 - A Prim'</li>\n",
       "\t<li>'Sala 4 y 5 - A Prim'</li>\n",
       "\t<li>'1 y 2 - A Prim'</li>\n",
       "\t<li>'3 y 4 - A Prim'</li>\n",
       "\t<li>'5 y 6 - A Prim'</li>\n",
       "\t<li>'1-6º - I Prim'</li>\n",
       "\t<li>'1-3 - A Prim'</li>\n",
       "\t<li>'4-6 - A Prim'</li>\n",
       "\t<li>'1-6 - a Prim'</li>\n",
       "\t<li>'4, 5 y 6 - A Prim'</li>\n",
       "\t<li>'1, 2 y 3 - A Prim'</li>\n",
       "\t<li>'4 - B Prim'</li>\n",
       "\t<li>'2 - B Prim'</li>\n",
       "\t<li>'6 - A Prim'</li>\n",
       "\t<li>'3 - A Prim'</li>\n",
       "\t<li>'1 - A Prim'</li>\n",
       "\t<li>'4 - A Prim'</li>\n",
       "\t<li>'5 - A Prim'</li>\n",
       "\t<li>'2 - A Prim'</li>\n",
       "\t<li>'1 - B CBC'</li>\n",
       "\t<li>'1 - A CBC'</li>\n",
       "\t<li>'4 - A 3322E'</li>\n",
       "\t<li>'4 - A 3322S'</li>\n",
       "\t<li>'6 - A 3322S'</li>\n",
       "\t<li>'5 - A 3322S'</li>\n",
       "\t<li>'5 - A 3322E'</li>\n",
       "\t<li>'6 - A 3322E'</li>\n",
       "\t<li>'4 - B 3322E'</li>\n",
       "\t<li>'2 - A CBC'</li>\n",
       "\t<li>'2 - B CBC'</li>\n",
       "\t<li>'3 - A CBC'</li>\n",
       "\t<li>'3 - B CBC'</li>\n",
       "\t<li>'4-6 - I Prim'</li>\n",
       "\t<li>'4 - B 3322N'</li>\n",
       "\t<li>'3°° - A 4000S'</li>\n",
       "\t<li>'5 - B 3322N'</li>\n",
       "\t<li>'2°° - A 4000S'</li>\n",
       "\t<li>'1°° - A 4000S'</li>\n",
       "\t<li>'6 - B 3322N'</li>\n",
       "\t<li>'5º y 6º - A Prim'</li>\n",
       "\t<li>'1,2 y 3 - A Prim'</li>\n",
       "\t<li>'1 - 6 - A Prim'</li>\n",
       "\t<li>'2 - F Prim'</li>\n",
       "\t<li>'5 - C Prim'</li>\n",
       "\t<li>'6 - C Prim'</li>\n",
       "\t<li>'3 - D Prim'</li>\n",
       "\t<li>'3 - B Prim'</li>\n",
       "\t<li>'5 - B Prim'</li>\n",
       "\t<li>'6 - B Prim'</li>\n",
       "\t<li>'4 - E Prim'</li>\n",
       "\t<li>'5 - D Prim'</li>\n",
       "\t<li>'3 - C Prim'</li>\n",
       "\t<li>'4 - C Prim'</li>\n",
       "\t<li>'2 - D Prim'</li>\n",
       "\t<li>'4 - D Prim'</li>\n",
       "\t<li>'6 - D Prim'</li>\n",
       "\t<li>'2 - C Prim'</li>\n",
       "\t<li>'1 - D Prim'</li>\n",
       "\t<li>'1 - E Prim'</li>\n",
       "\t<li>'1 - C Prim'</li>\n",
       "\t<li>'2 - E Prim'</li>\n",
       "\t<li>'1 - B Prim'</li>\n",
       "\t<li>'2 - U EGB'</li>\n",
       "\t<li>'4, 5 Y 6 - A Prim'</li>\n",
       "\t<li>'5 - M Prim'</li>\n",
       "\t<li>'4° - D Prim'</li>\n",
       "\t<li>'2º - A 4000E'</li>\n",
       "\t<li>'1 - A 4000E'</li>\n",
       "\t<li>'2 - A 4000E'</li>\n",
       "\t<li>'3 - A 4000E'</li>\n",
       "\t<li>'3° - B CBC'</li>\n",
       "\t<li>'3 - 2 ALT RCBEAT'</li>\n",
       "\t<li>'3-4 - A Prim'</li>\n",
       "\t<li>'5-6 - A Prim'</li>\n",
       "\t<li>'3º - A 4000E'</li>\n",
       "\t<li>'1º - C 4000E'</li>\n",
       "\t<li>'2 - C CBC'</li>\n",
       "\t<li>'2º - B 4000E'</li>\n",
       "\t<li>'1º - B 4000E'</li>\n",
       "\t<li>'1º - A 4000E'</li>\n",
       "\t<li>'3º - B 4000E'</li>\n",
       "\t<li>'4 - B 3322S'</li>\n",
       "\t<li>'1 - C CBC'</li>\n",
       "\t<li>'5 - B 3322S'</li>\n",
       "\t<li>'2 - D CBC'</li>\n",
       "\t<li>'1 - D CBC'</li>\n",
       "\t<li>'3er Ciclo - Ciclo 625/11'</li>\n",
       "\t<li>'1°, 2° y 3° - C 485/10E'</li>\n",
       "\t<li>'1°, 2° y 3° - A 625/11'</li>\n",
       "\t<li>'1°, 2° y 3° - B 625/11'</li>\n",
       "\t<li>'4 Y 5 - A Prim'</li>\n",
       "\t<li>'3 - E Prim'</li>\n",
       "\t<li>'4 - Aº 3322N'</li>\n",
       "\t<li>'5 - A 3322N'</li>\n",
       "\t<li>'3 - C CBC'</li>\n",
       "\t<li>'4 - 2 TEE TELECTR'</li>\n",
       "\t<li>'7 - 1 TEE TELECTR'</li>\n",
       "\t<li>'5 - 2 TEE TELECTR'</li>\n",
       "\t<li>'5 - 1 TEE TELECTR'</li>\n",
       "\t<li>'4 - 1 TEE TELECTR'</li>\n",
       "\t<li>'3 - 2 RCBCET'</li>\n",
       "\t<li>'4 - 1 MMO MMOBR'</li>\n",
       "\t<li>'2 - 1 RCBCET'</li>\n",
       "\t<li>'2 - 2 RCBCET'</li>\n",
       "\t<li>'6 - 1 TEE TELECTR'</li>\n",
       "\t<li>'3 - 1 RCBCET'</li>\n",
       "\t<li>'1 - 1 RCBCET'</li>\n",
       "\t<li>'1 - 2 RCBCET'</li>\n",
       "\t<li>'4 y 5 - A Prim'</li>\n",
       "\t<li>'1 - 1 Prim'</li>\n",
       "\t<li>'3 - 3 Prim'</li>\n",
       "\t<li>'5 - 3 Prim'</li>\n",
       "\t<li>'1 - 3 Prim'</li>\n",
       "\t<li>'1 - 2 Prim'</li>\n",
       "\t<li>'6 - 2 Prim'</li>\n",
       "\t<li>'3 - 2 Prim'</li>\n",
       "\t<li>'2 - 1 Prim'</li>\n",
       "\t<li>'2 - 3 Prim'</li>\n",
       "\t<li>'2 - 2 Prim'</li>\n",
       "\t<li>'4 - 1 Prim'</li>\n",
       "\t<li>'3 - 1 Prim'</li>\n",
       "\t<li>'5 - 2 Prim'</li>\n",
       "\t<li>'6 - 1 Prim'</li>\n",
       "\t<li>'4 - 2 Prim'</li>\n",
       "\t<li>'4 - 3 Prim'</li>\n",
       "\t<li>'5 - 1 Prim'</li>\n",
       "\t<li>'6° - 3 Prim'</li>\n",
       "\t<li>'6 - 2 3322N'</li>\n",
       "\t<li>'6 - 4 401Ef'</li>\n",
       "\t<li>'3 - 5 CBC'</li>\n",
       "\t<li>'2 - 6 CBC'</li>\n",
       "\t<li>'6 - 1 3322E'</li>\n",
       "\t<li>'3 - 4 CBC'</li>\n",
       "\t<li>'5 - 5 401Ef'</li>\n",
       "\t<li>'1 - 2 CBC'</li>\n",
       "\t<li>'4 - 5 401Ef'</li>\n",
       "\t<li>'5 - 4 3322N'</li>\n",
       "\t<li>'1 - 4 CBC'</li>\n",
       "\t<li>'4 - 1 3322E'</li>\n",
       "\t<li>'2 - 3 CBC'</li>\n",
       "\t<li>'2 - 5 CBC'</li>\n",
       "\t<li>'5 - 2 3322N'</li>\n",
       "\t<li>'4 - 3 3322S'</li>\n",
       "\t<li>'4 - 2 3322N'</li>\n",
       "\t<li>'4 - 4 3322N'</li>\n",
       "\t<li>'1 - 3 CBC'</li>\n",
       "\t<li>'3 - 2 CBC'</li>\n",
       "\t<li>'1 - 1 CBC'</li>\n",
       "\t<li>'1 - 5 CBC'</li>\n",
       "\t<li>'2 - 2 CBC'</li>\n",
       "\t<li>'5 - 1 3322E'</li>\n",
       "\t<li>'5 - 3 3322S'</li>\n",
       "\t<li>'2 - 4 CBC'</li>\n",
       "\t<li>'6 - 3 3322S'</li>\n",
       "\t<li>'2 - 1 CBC'</li>\n",
       "\t<li>'3 - 3 CBC'</li>\n",
       "\t<li>'6 - B 3322E'</li>\n",
       "\t<li>'5 - B 3322E'</li>\n",
       "\t<li>'6 - B 3322S'</li>\n",
       "\t<li>'5to - 3 Prim'</li>\n",
       "\t<li>'3ro - 4 Prim'</li>\n",
       "\t<li>'6to - 3 Prim'</li>\n",
       "\t<li>'3ro - 3 Prim'</li>\n",
       "\t<li>'3ro - 2 Prim'</li>\n",
       "\t<li>'4to - 2 Prim'</li>\n",
       "\t<li>'4to - 1 Prim'</li>\n",
       "\t<li>'2do - 1 Prim'</li>\n",
       "\t<li>'3ro - 1 Prim'</li>\n",
       "\t<li>'1ro - 2 Prim'</li>\n",
       "\t<li>'6to - 2 Prim'</li>\n",
       "\t<li>'1ro - 1 Prim'</li>\n",
       "\t<li>'2do - 2 Prim'</li>\n",
       "\t<li>'2do - 3 Prim'</li>\n",
       "\t<li>'6to - 1 Prim'</li>\n",
       "\t<li>'5to - 1 Prim'</li>\n",
       "\t<li>'5to - 2 Prim'</li>\n",
       "\t<li>'1ro - 3 Prim'</li>\n",
       "\t<li>'1°- 3° - A Prim'</li>\n",
       "\t<li>'4°- 6° - A Prim'</li>\n",
       "\t<li>'3 - b CBC'</li>\n",
       "\t<li>'4 - A 3322N'</li>\n",
       "\t<li>'1 - F CBC'</li>\n",
       "\t<li>'2 - E CBC'</li>\n",
       "\t<li>'3 - B 4000E'</li>\n",
       "\t<li>'2 - B 4000E'</li>\n",
       "\t<li>'1 - B 4000E'</li>\n",
       "\t<li>'4 - A 3322C'</li>\n",
       "\t<li>'5 - A 3322C'</li>\n",
       "\t<li>'6 - A 3322C'</li>\n",
       "\t<li>'CN - RURAL CNR'</li>\n",
       "\t<li>'6 - A 3322N'</li>\n",
       "\t<li>'4 - A 3322A'</li>\n",
       "\t<li>'5 - A 3322A'</li>\n",
       "\t<li>'6 - A 3322A'</li>\n",
       "\t<li>'6 - B 3322T'</li>\n",
       "\t<li>'4 - B 3322T'</li>\n",
       "\t<li>'5 - B 3322T'</li>\n",
       "\t<li>'4 - C 3322A'</li>\n",
       "\t<li>'4 - B 3322C'</li>\n",
       "\t<li>'5 - B 3322C'</li>\n",
       "\t<li>'5 - C 3322S'</li>\n",
       "\t<li>'6 - C 3322S'</li>\n",
       "\t<li>'1 - E CBC'</li>\n",
       "\t<li>'3 - D CBC'</li>\n",
       "\t<li>'4 - C 3322S'</li>\n",
       "\t<li>'2 - F CBC'</li>\n",
       "\t<li>'1 - C 4000E'</li>\n",
       "\t<li>'1º - C 4000S'</li>\n",
       "\t<li>'1º - Anexo Esc. 7 S.L. 4000S'</li>\n",
       "\t<li>'1º - A 4000S'</li>\n",
       "\t<li>'3º - Anexo Esc. 7 4000S'</li>\n",
       "\t<li>'2º - A 4000S'</li>\n",
       "\t<li>'3º - A 4000S'</li>\n",
       "\t<li>'2º - Anexo Esc. 7 S.L. 4000S'</li>\n",
       "\t<li>'1º - B 4000S'</li>\n",
       "\t<li>'2º - B 4000S'</li>\n",
       "\t<li>'2 - D 4000S'</li>\n",
       "\t<li>'3 - C 4000T'</li>\n",
       "\t<li>'2 - C 4000T'</li>\n",
       "\t<li>'1 - D 4000S'</li>\n",
       "\t<li>'3 - D 4000S'</li>\n",
       "\t<li>'2 - C 4000E'</li>\n",
       "\t<li>'1 - C 4000T'</li>\n",
       "\t<li>'1 - C Econ. y Adm. 485/10E'</li>\n",
       "\t<li>'2 - A Econ. y Adm 485/10E'</li>\n",
       "\t<li>'1 - A Econ. y Adm 485/10E'</li>\n",
       "\t<li>'2 - C 485/10E'</li>\n",
       "\t<li>'1 - B Econ. y Adm 485/10E'</li>\n",
       "\t<li>'2 - B 485/10E'</li>\n",
       "\t<li>'3 - B Econ. y Adm 485/10E'</li>\n",
       "\t<li>'3 - A Econ. y Adm 485/10E'</li>\n",
       "</ol>\n"
      ],
      "text/latex": [
       "\\begin{enumerate*}\n",
       "\\item '1-6 - A Prim'\n",
       "\\item '1°-6° - A Prim'\n",
       "\\item '1° a 6° - A Prim'\n",
       "\\item '3-4-5-6 - A Prim'\n",
       "\\item '1-2 - A Prim'\n",
       "\\item '1- 6 - A Prim'\n",
       "\\item 'Sala 4 y 5 - A Prim'\n",
       "\\item '1 y 2 - A Prim'\n",
       "\\item '3 y 4 - A Prim'\n",
       "\\item '5 y 6 - A Prim'\n",
       "\\item '1-6º - I Prim'\n",
       "\\item '1-3 - A Prim'\n",
       "\\item '4-6 - A Prim'\n",
       "\\item '1-6 - a Prim'\n",
       "\\item '4, 5 y 6 - A Prim'\n",
       "\\item '1, 2 y 3 - A Prim'\n",
       "\\item '4 - B Prim'\n",
       "\\item '2 - B Prim'\n",
       "\\item '6 - A Prim'\n",
       "\\item '3 - A Prim'\n",
       "\\item '1 - A Prim'\n",
       "\\item '4 - A Prim'\n",
       "\\item '5 - A Prim'\n",
       "\\item '2 - A Prim'\n",
       "\\item '1 - B CBC'\n",
       "\\item '1 - A CBC'\n",
       "\\item '4 - A 3322E'\n",
       "\\item '4 - A 3322S'\n",
       "\\item '6 - A 3322S'\n",
       "\\item '5 - A 3322S'\n",
       "\\item '5 - A 3322E'\n",
       "\\item '6 - A 3322E'\n",
       "\\item '4 - B 3322E'\n",
       "\\item '2 - A CBC'\n",
       "\\item '2 - B CBC'\n",
       "\\item '3 - A CBC'\n",
       "\\item '3 - B CBC'\n",
       "\\item '4-6 - I Prim'\n",
       "\\item '4 - B 3322N'\n",
       "\\item '3°° - A 4000S'\n",
       "\\item '5 - B 3322N'\n",
       "\\item '2°° - A 4000S'\n",
       "\\item '1°° - A 4000S'\n",
       "\\item '6 - B 3322N'\n",
       "\\item '5º y 6º - A Prim'\n",
       "\\item '1,2 y 3 - A Prim'\n",
       "\\item '1 - 6 - A Prim'\n",
       "\\item '2 - F Prim'\n",
       "\\item '5 - C Prim'\n",
       "\\item '6 - C Prim'\n",
       "\\item '3 - D Prim'\n",
       "\\item '3 - B Prim'\n",
       "\\item '5 - B Prim'\n",
       "\\item '6 - B Prim'\n",
       "\\item '4 - E Prim'\n",
       "\\item '5 - D Prim'\n",
       "\\item '3 - C Prim'\n",
       "\\item '4 - C Prim'\n",
       "\\item '2 - D Prim'\n",
       "\\item '4 - D Prim'\n",
       "\\item '6 - D Prim'\n",
       "\\item '2 - C Prim'\n",
       "\\item '1 - D Prim'\n",
       "\\item '1 - E Prim'\n",
       "\\item '1 - C Prim'\n",
       "\\item '2 - E Prim'\n",
       "\\item '1 - B Prim'\n",
       "\\item '2 - U EGB'\n",
       "\\item '4, 5 Y 6 - A Prim'\n",
       "\\item '5 - M Prim'\n",
       "\\item '4° - D Prim'\n",
       "\\item '2º - A 4000E'\n",
       "\\item '1 - A 4000E'\n",
       "\\item '2 - A 4000E'\n",
       "\\item '3 - A 4000E'\n",
       "\\item '3° - B CBC'\n",
       "\\item '3 - 2 ALT RCBEAT'\n",
       "\\item '3-4 - A Prim'\n",
       "\\item '5-6 - A Prim'\n",
       "\\item '3º - A 4000E'\n",
       "\\item '1º - C 4000E'\n",
       "\\item '2 - C CBC'\n",
       "\\item '2º - B 4000E'\n",
       "\\item '1º - B 4000E'\n",
       "\\item '1º - A 4000E'\n",
       "\\item '3º - B 4000E'\n",
       "\\item '4 - B 3322S'\n",
       "\\item '1 - C CBC'\n",
       "\\item '5 - B 3322S'\n",
       "\\item '2 - D CBC'\n",
       "\\item '1 - D CBC'\n",
       "\\item '3er Ciclo - Ciclo 625/11'\n",
       "\\item '1°, 2° y 3° - C 485/10E'\n",
       "\\item '1°, 2° y 3° - A 625/11'\n",
       "\\item '1°, 2° y 3° - B 625/11'\n",
       "\\item '4 Y 5 - A Prim'\n",
       "\\item '3 - E Prim'\n",
       "\\item '4 - Aº 3322N'\n",
       "\\item '5 - A 3322N'\n",
       "\\item '3 - C CBC'\n",
       "\\item '4 - 2 TEE TELECTR'\n",
       "\\item '7 - 1 TEE TELECTR'\n",
       "\\item '5 - 2 TEE TELECTR'\n",
       "\\item '5 - 1 TEE TELECTR'\n",
       "\\item '4 - 1 TEE TELECTR'\n",
       "\\item '3 - 2 RCBCET'\n",
       "\\item '4 - 1 MMO MMOBR'\n",
       "\\item '2 - 1 RCBCET'\n",
       "\\item '2 - 2 RCBCET'\n",
       "\\item '6 - 1 TEE TELECTR'\n",
       "\\item '3 - 1 RCBCET'\n",
       "\\item '1 - 1 RCBCET'\n",
       "\\item '1 - 2 RCBCET'\n",
       "\\item '4 y 5 - A Prim'\n",
       "\\item '1 - 1 Prim'\n",
       "\\item '3 - 3 Prim'\n",
       "\\item '5 - 3 Prim'\n",
       "\\item '1 - 3 Prim'\n",
       "\\item '1 - 2 Prim'\n",
       "\\item '6 - 2 Prim'\n",
       "\\item '3 - 2 Prim'\n",
       "\\item '2 - 1 Prim'\n",
       "\\item '2 - 3 Prim'\n",
       "\\item '2 - 2 Prim'\n",
       "\\item '4 - 1 Prim'\n",
       "\\item '3 - 1 Prim'\n",
       "\\item '5 - 2 Prim'\n",
       "\\item '6 - 1 Prim'\n",
       "\\item '4 - 2 Prim'\n",
       "\\item '4 - 3 Prim'\n",
       "\\item '5 - 1 Prim'\n",
       "\\item '6° - 3 Prim'\n",
       "\\item '6 - 2 3322N'\n",
       "\\item '6 - 4 401Ef'\n",
       "\\item '3 - 5 CBC'\n",
       "\\item '2 - 6 CBC'\n",
       "\\item '6 - 1 3322E'\n",
       "\\item '3 - 4 CBC'\n",
       "\\item '5 - 5 401Ef'\n",
       "\\item '1 - 2 CBC'\n",
       "\\item '4 - 5 401Ef'\n",
       "\\item '5 - 4 3322N'\n",
       "\\item '1 - 4 CBC'\n",
       "\\item '4 - 1 3322E'\n",
       "\\item '2 - 3 CBC'\n",
       "\\item '2 - 5 CBC'\n",
       "\\item '5 - 2 3322N'\n",
       "\\item '4 - 3 3322S'\n",
       "\\item '4 - 2 3322N'\n",
       "\\item '4 - 4 3322N'\n",
       "\\item '1 - 3 CBC'\n",
       "\\item '3 - 2 CBC'\n",
       "\\item '1 - 1 CBC'\n",
       "\\item '1 - 5 CBC'\n",
       "\\item '2 - 2 CBC'\n",
       "\\item '5 - 1 3322E'\n",
       "\\item '5 - 3 3322S'\n",
       "\\item '2 - 4 CBC'\n",
       "\\item '6 - 3 3322S'\n",
       "\\item '2 - 1 CBC'\n",
       "\\item '3 - 3 CBC'\n",
       "\\item '6 - B 3322E'\n",
       "\\item '5 - B 3322E'\n",
       "\\item '6 - B 3322S'\n",
       "\\item '5to - 3 Prim'\n",
       "\\item '3ro - 4 Prim'\n",
       "\\item '6to - 3 Prim'\n",
       "\\item '3ro - 3 Prim'\n",
       "\\item '3ro - 2 Prim'\n",
       "\\item '4to - 2 Prim'\n",
       "\\item '4to - 1 Prim'\n",
       "\\item '2do - 1 Prim'\n",
       "\\item '3ro - 1 Prim'\n",
       "\\item '1ro - 2 Prim'\n",
       "\\item '6to - 2 Prim'\n",
       "\\item '1ro - 1 Prim'\n",
       "\\item '2do - 2 Prim'\n",
       "\\item '2do - 3 Prim'\n",
       "\\item '6to - 1 Prim'\n",
       "\\item '5to - 1 Prim'\n",
       "\\item '5to - 2 Prim'\n",
       "\\item '1ro - 3 Prim'\n",
       "\\item '1°- 3° - A Prim'\n",
       "\\item '4°- 6° - A Prim'\n",
       "\\item '3 - b CBC'\n",
       "\\item '4 - A 3322N'\n",
       "\\item '1 - F CBC'\n",
       "\\item '2 - E CBC'\n",
       "\\item '3 - B 4000E'\n",
       "\\item '2 - B 4000E'\n",
       "\\item '1 - B 4000E'\n",
       "\\item '4 - A 3322C'\n",
       "\\item '5 - A 3322C'\n",
       "\\item '6 - A 3322C'\n",
       "\\item 'CN - RURAL CNR'\n",
       "\\item '6 - A 3322N'\n",
       "\\item '4 - A 3322A'\n",
       "\\item '5 - A 3322A'\n",
       "\\item '6 - A 3322A'\n",
       "\\item '6 - B 3322T'\n",
       "\\item '4 - B 3322T'\n",
       "\\item '5 - B 3322T'\n",
       "\\item '4 - C 3322A'\n",
       "\\item '4 - B 3322C'\n",
       "\\item '5 - B 3322C'\n",
       "\\item '5 - C 3322S'\n",
       "\\item '6 - C 3322S'\n",
       "\\item '1 - E CBC'\n",
       "\\item '3 - D CBC'\n",
       "\\item '4 - C 3322S'\n",
       "\\item '2 - F CBC'\n",
       "\\item '1 - C 4000E'\n",
       "\\item '1º - C 4000S'\n",
       "\\item '1º - Anexo Esc. 7 S.L. 4000S'\n",
       "\\item '1º - A 4000S'\n",
       "\\item '3º - Anexo Esc. 7 4000S'\n",
       "\\item '2º - A 4000S'\n",
       "\\item '3º - A 4000S'\n",
       "\\item '2º - Anexo Esc. 7 S.L. 4000S'\n",
       "\\item '1º - B 4000S'\n",
       "\\item '2º - B 4000S'\n",
       "\\item '2 - D 4000S'\n",
       "\\item '3 - C 4000T'\n",
       "\\item '2 - C 4000T'\n",
       "\\item '1 - D 4000S'\n",
       "\\item '3 - D 4000S'\n",
       "\\item '2 - C 4000E'\n",
       "\\item '1 - C 4000T'\n",
       "\\item '1 - C Econ. y Adm. 485/10E'\n",
       "\\item '2 - A Econ. y Adm 485/10E'\n",
       "\\item '1 - A Econ. y Adm 485/10E'\n",
       "\\item '2 - C 485/10E'\n",
       "\\item '1 - B Econ. y Adm 485/10E'\n",
       "\\item '2 - B 485/10E'\n",
       "\\item '3 - B Econ. y Adm 485/10E'\n",
       "\\item '3 - A Econ. y Adm 485/10E'\n",
       "\\end{enumerate*}\n"
      ],
      "text/markdown": [
       "1. '1-6 - A Prim'\n",
       "2. '1°-6° - A Prim'\n",
       "3. '1° a 6° - A Prim'\n",
       "4. '3-4-5-6 - A Prim'\n",
       "5. '1-2 - A Prim'\n",
       "6. '1- 6 - A Prim'\n",
       "7. 'Sala 4 y 5 - A Prim'\n",
       "8. '1 y 2 - A Prim'\n",
       "9. '3 y 4 - A Prim'\n",
       "10. '5 y 6 - A Prim'\n",
       "11. '1-6º - I Prim'\n",
       "12. '1-3 - A Prim'\n",
       "13. '4-6 - A Prim'\n",
       "14. '1-6 - a Prim'\n",
       "15. '4, 5 y 6 - A Prim'\n",
       "16. '1, 2 y 3 - A Prim'\n",
       "17. '4 - B Prim'\n",
       "18. '2 - B Prim'\n",
       "19. '6 - A Prim'\n",
       "20. '3 - A Prim'\n",
       "21. '1 - A Prim'\n",
       "22. '4 - A Prim'\n",
       "23. '5 - A Prim'\n",
       "24. '2 - A Prim'\n",
       "25. '1 - B CBC'\n",
       "26. '1 - A CBC'\n",
       "27. '4 - A 3322E'\n",
       "28. '4 - A 3322S'\n",
       "29. '6 - A 3322S'\n",
       "30. '5 - A 3322S'\n",
       "31. '5 - A 3322E'\n",
       "32. '6 - A 3322E'\n",
       "33. '4 - B 3322E'\n",
       "34. '2 - A CBC'\n",
       "35. '2 - B CBC'\n",
       "36. '3 - A CBC'\n",
       "37. '3 - B CBC'\n",
       "38. '4-6 - I Prim'\n",
       "39. '4 - B 3322N'\n",
       "40. '3°° - A 4000S'\n",
       "41. '5 - B 3322N'\n",
       "42. '2°° - A 4000S'\n",
       "43. '1°° - A 4000S'\n",
       "44. '6 - B 3322N'\n",
       "45. '5º y 6º - A Prim'\n",
       "46. '1,2 y 3 - A Prim'\n",
       "47. '1 - 6 - A Prim'\n",
       "48. '2 - F Prim'\n",
       "49. '5 - C Prim'\n",
       "50. '6 - C Prim'\n",
       "51. '3 - D Prim'\n",
       "52. '3 - B Prim'\n",
       "53. '5 - B Prim'\n",
       "54. '6 - B Prim'\n",
       "55. '4 - E Prim'\n",
       "56. '5 - D Prim'\n",
       "57. '3 - C Prim'\n",
       "58. '4 - C Prim'\n",
       "59. '2 - D Prim'\n",
       "60. '4 - D Prim'\n",
       "61. '6 - D Prim'\n",
       "62. '2 - C Prim'\n",
       "63. '1 - D Prim'\n",
       "64. '1 - E Prim'\n",
       "65. '1 - C Prim'\n",
       "66. '2 - E Prim'\n",
       "67. '1 - B Prim'\n",
       "68. '2 - U EGB'\n",
       "69. '4, 5 Y 6 - A Prim'\n",
       "70. '5 - M Prim'\n",
       "71. '4° - D Prim'\n",
       "72. '2º - A 4000E'\n",
       "73. '1 - A 4000E'\n",
       "74. '2 - A 4000E'\n",
       "75. '3 - A 4000E'\n",
       "76. '3° - B CBC'\n",
       "77. '3 - 2 ALT RCBEAT'\n",
       "78. '3-4 - A Prim'\n",
       "79. '5-6 - A Prim'\n",
       "80. '3º - A 4000E'\n",
       "81. '1º - C 4000E'\n",
       "82. '2 - C CBC'\n",
       "83. '2º - B 4000E'\n",
       "84. '1º - B 4000E'\n",
       "85. '1º - A 4000E'\n",
       "86. '3º - B 4000E'\n",
       "87. '4 - B 3322S'\n",
       "88. '1 - C CBC'\n",
       "89. '5 - B 3322S'\n",
       "90. '2 - D CBC'\n",
       "91. '1 - D CBC'\n",
       "92. '3er Ciclo - Ciclo 625/11'\n",
       "93. '1°, 2° y 3° - C 485/10E'\n",
       "94. '1°, 2° y 3° - A 625/11'\n",
       "95. '1°, 2° y 3° - B 625/11'\n",
       "96. '4 Y 5 - A Prim'\n",
       "97. '3 - E Prim'\n",
       "98. '4 - Aº 3322N'\n",
       "99. '5 - A 3322N'\n",
       "100. '3 - C CBC'\n",
       "101. '4 - 2 TEE TELECTR'\n",
       "102. '7 - 1 TEE TELECTR'\n",
       "103. '5 - 2 TEE TELECTR'\n",
       "104. '5 - 1 TEE TELECTR'\n",
       "105. '4 - 1 TEE TELECTR'\n",
       "106. '3 - 2 RCBCET'\n",
       "107. '4 - 1 MMO MMOBR'\n",
       "108. '2 - 1 RCBCET'\n",
       "109. '2 - 2 RCBCET'\n",
       "110. '6 - 1 TEE TELECTR'\n",
       "111. '3 - 1 RCBCET'\n",
       "112. '1 - 1 RCBCET'\n",
       "113. '1 - 2 RCBCET'\n",
       "114. '4 y 5 - A Prim'\n",
       "115. '1 - 1 Prim'\n",
       "116. '3 - 3 Prim'\n",
       "117. '5 - 3 Prim'\n",
       "118. '1 - 3 Prim'\n",
       "119. '1 - 2 Prim'\n",
       "120. '6 - 2 Prim'\n",
       "121. '3 - 2 Prim'\n",
       "122. '2 - 1 Prim'\n",
       "123. '2 - 3 Prim'\n",
       "124. '2 - 2 Prim'\n",
       "125. '4 - 1 Prim'\n",
       "126. '3 - 1 Prim'\n",
       "127. '5 - 2 Prim'\n",
       "128. '6 - 1 Prim'\n",
       "129. '4 - 2 Prim'\n",
       "130. '4 - 3 Prim'\n",
       "131. '5 - 1 Prim'\n",
       "132. '6° - 3 Prim'\n",
       "133. '6 - 2 3322N'\n",
       "134. '6 - 4 401Ef'\n",
       "135. '3 - 5 CBC'\n",
       "136. '2 - 6 CBC'\n",
       "137. '6 - 1 3322E'\n",
       "138. '3 - 4 CBC'\n",
       "139. '5 - 5 401Ef'\n",
       "140. '1 - 2 CBC'\n",
       "141. '4 - 5 401Ef'\n",
       "142. '5 - 4 3322N'\n",
       "143. '1 - 4 CBC'\n",
       "144. '4 - 1 3322E'\n",
       "145. '2 - 3 CBC'\n",
       "146. '2 - 5 CBC'\n",
       "147. '5 - 2 3322N'\n",
       "148. '4 - 3 3322S'\n",
       "149. '4 - 2 3322N'\n",
       "150. '4 - 4 3322N'\n",
       "151. '1 - 3 CBC'\n",
       "152. '3 - 2 CBC'\n",
       "153. '1 - 1 CBC'\n",
       "154. '1 - 5 CBC'\n",
       "155. '2 - 2 CBC'\n",
       "156. '5 - 1 3322E'\n",
       "157. '5 - 3 3322S'\n",
       "158. '2 - 4 CBC'\n",
       "159. '6 - 3 3322S'\n",
       "160. '2 - 1 CBC'\n",
       "161. '3 - 3 CBC'\n",
       "162. '6 - B 3322E'\n",
       "163. '5 - B 3322E'\n",
       "164. '6 - B 3322S'\n",
       "165. '5to - 3 Prim'\n",
       "166. '3ro - 4 Prim'\n",
       "167. '6to - 3 Prim'\n",
       "168. '3ro - 3 Prim'\n",
       "169. '3ro - 2 Prim'\n",
       "170. '4to - 2 Prim'\n",
       "171. '4to - 1 Prim'\n",
       "172. '2do - 1 Prim'\n",
       "173. '3ro - 1 Prim'\n",
       "174. '1ro - 2 Prim'\n",
       "175. '6to - 2 Prim'\n",
       "176. '1ro - 1 Prim'\n",
       "177. '2do - 2 Prim'\n",
       "178. '2do - 3 Prim'\n",
       "179. '6to - 1 Prim'\n",
       "180. '5to - 1 Prim'\n",
       "181. '5to - 2 Prim'\n",
       "182. '1ro - 3 Prim'\n",
       "183. '1°- 3° - A Prim'\n",
       "184. '4°- 6° - A Prim'\n",
       "185. '3 - b CBC'\n",
       "186. '4 - A 3322N'\n",
       "187. '1 - F CBC'\n",
       "188. '2 - E CBC'\n",
       "189. '3 - B 4000E'\n",
       "190. '2 - B 4000E'\n",
       "191. '1 - B 4000E'\n",
       "192. '4 - A 3322C'\n",
       "193. '5 - A 3322C'\n",
       "194. '6 - A 3322C'\n",
       "195. 'CN - RURAL CNR'\n",
       "196. '6 - A 3322N'\n",
       "197. '4 - A 3322A'\n",
       "198. '5 - A 3322A'\n",
       "199. '6 - A 3322A'\n",
       "200. '6 - B 3322T'\n",
       "201. '4 - B 3322T'\n",
       "202. '5 - B 3322T'\n",
       "203. '4 - C 3322A'\n",
       "204. '4 - B 3322C'\n",
       "205. '5 - B 3322C'\n",
       "206. '5 - C 3322S'\n",
       "207. '6 - C 3322S'\n",
       "208. '1 - E CBC'\n",
       "209. '3 - D CBC'\n",
       "210. '4 - C 3322S'\n",
       "211. '2 - F CBC'\n",
       "212. '1 - C 4000E'\n",
       "213. '1º - C 4000S'\n",
       "214. '1º - Anexo Esc. 7 S.L. 4000S'\n",
       "215. '1º - A 4000S'\n",
       "216. '3º - Anexo Esc. 7 4000S'\n",
       "217. '2º - A 4000S'\n",
       "218. '3º - A 4000S'\n",
       "219. '2º - Anexo Esc. 7 S.L. 4000S'\n",
       "220. '1º - B 4000S'\n",
       "221. '2º - B 4000S'\n",
       "222. '2 - D 4000S'\n",
       "223. '3 - C 4000T'\n",
       "224. '2 - C 4000T'\n",
       "225. '1 - D 4000S'\n",
       "226. '3 - D 4000S'\n",
       "227. '2 - C 4000E'\n",
       "228. '1 - C 4000T'\n",
       "229. '1 - C Econ. y Adm. 485/10E'\n",
       "230. '2 - A Econ. y Adm 485/10E'\n",
       "231. '1 - A Econ. y Adm 485/10E'\n",
       "232. '2 - C 485/10E'\n",
       "233. '1 - B Econ. y Adm 485/10E'\n",
       "234. '2 - B 485/10E'\n",
       "235. '3 - B Econ. y Adm 485/10E'\n",
       "236. '3 - A Econ. y Adm 485/10E'\n",
       "\n",
       "\n"
      ],
      "text/plain": [
       "  [1] \"1-6 - A Prim\"                 \"1°-6° - A Prim\"              \n",
       "  [3] \"1° a 6° - A Prim\"             \"3-4-5-6 - A Prim\"            \n",
       "  [5] \"1-2 - A Prim\"                 \"1- 6 - A Prim\"               \n",
       "  [7] \"Sala 4 y 5 - A Prim\"          \"1 y 2 - A Prim\"              \n",
       "  [9] \"3 y 4 - A Prim\"               \"5 y 6 - A Prim\"              \n",
       " [11] \"1-6º - I Prim\"                \"1-3 - A Prim\"                \n",
       " [13] \"4-6 - A Prim\"                 \"1-6 - a Prim\"                \n",
       " [15] \"4, 5 y 6 - A Prim\"            \"1, 2 y 3 - A Prim\"           \n",
       " [17] \"4 - B Prim\"                   \"2 - B Prim\"                  \n",
       " [19] \"6 - A Prim\"                   \"3 - A Prim\"                  \n",
       " [21] \"1 - A Prim\"                   \"4 - A Prim\"                  \n",
       " [23] \"5 - A Prim\"                   \"2 - A Prim\"                  \n",
       " [25] \"1 - B CBC\"                    \"1 - A CBC\"                   \n",
       " [27] \"4 - A 3322E\"                  \"4 - A 3322S\"                 \n",
       " [29] \"6 - A 3322S\"                  \"5 - A 3322S\"                 \n",
       " [31] \"5 - A 3322E\"                  \"6 - A 3322E\"                 \n",
       " [33] \"4 - B 3322E\"                  \"2 - A CBC\"                   \n",
       " [35] \"2 - B CBC\"                    \"3 - A CBC\"                   \n",
       " [37] \"3 - B CBC\"                    \"4-6 - I Prim\"                \n",
       " [39] \"4 - B 3322N\"                  \"3°° - A 4000S\"               \n",
       " [41] \"5 - B 3322N\"                  \"2°° - A 4000S\"               \n",
       " [43] \"1°° - A 4000S\"                \"6 - B 3322N\"                 \n",
       " [45] \"5º y 6º - A Prim\"             \"1,2 y 3 - A Prim\"            \n",
       " [47] \"1 - 6 - A Prim\"               \"2 - F Prim\"                  \n",
       " [49] \"5 - C Prim\"                   \"6 - C Prim\"                  \n",
       " [51] \"3 - D Prim\"                   \"3 - B Prim\"                  \n",
       " [53] \"5 - B Prim\"                   \"6 - B Prim\"                  \n",
       " [55] \"4 - E Prim\"                   \"5 - D Prim\"                  \n",
       " [57] \"3 - C Prim\"                   \"4 - C Prim\"                  \n",
       " [59] \"2 - D Prim\"                   \"4 - D Prim\"                  \n",
       " [61] \"6 - D Prim\"                   \"2 - C Prim\"                  \n",
       " [63] \"1 - D Prim\"                   \"1 - E Prim\"                  \n",
       " [65] \"1 - C Prim\"                   \"2 - E Prim\"                  \n",
       " [67] \"1 - B Prim\"                   \"2 - U EGB\"                   \n",
       " [69] \"4, 5 Y 6 - A Prim\"            \"5 - M Prim\"                  \n",
       " [71] \"4° - D Prim\"                  \"2º - A 4000E\"                \n",
       " [73] \"1 - A 4000E\"                  \"2 - A 4000E\"                 \n",
       " [75] \"3 - A 4000E\"                  \"3° - B CBC\"                  \n",
       " [77] \"3 - 2 ALT RCBEAT\"             \"3-4 - A Prim\"                \n",
       " [79] \"5-6 - A Prim\"                 \"3º - A 4000E\"                \n",
       " [81] \"1º - C 4000E\"                 \"2 - C CBC\"                   \n",
       " [83] \"2º - B 4000E\"                 \"1º - B 4000E\"                \n",
       " [85] \"1º - A 4000E\"                 \"3º - B 4000E\"                \n",
       " [87] \"4 - B 3322S\"                  \"1 - C CBC\"                   \n",
       " [89] \"5 - B 3322S\"                  \"2 - D CBC\"                   \n",
       " [91] \"1 - D CBC\"                    \"3er Ciclo - Ciclo 625/11\"    \n",
       " [93] \"1°, 2° y 3° - C 485/10E\"      \"1°, 2° y 3° - A 625/11\"      \n",
       " [95] \"1°, 2° y 3° - B 625/11\"       \"4 Y 5 - A Prim\"              \n",
       " [97] \"3 - E Prim\"                   \"4 - Aº 3322N\"                \n",
       " [99] \"5 - A 3322N\"                  \"3 - C CBC\"                   \n",
       "[101] \"4 - 2 TEE TELECTR\"            \"7 - 1 TEE TELECTR\"           \n",
       "[103] \"5 - 2 TEE TELECTR\"            \"5 - 1 TEE TELECTR\"           \n",
       "[105] \"4 - 1 TEE TELECTR\"            \"3 - 2 RCBCET\"                \n",
       "[107] \"4 - 1 MMO MMOBR\"              \"2 - 1 RCBCET\"                \n",
       "[109] \"2 - 2 RCBCET\"                 \"6 - 1 TEE TELECTR\"           \n",
       "[111] \"3 - 1 RCBCET\"                 \"1 - 1 RCBCET\"                \n",
       "[113] \"1 - 2 RCBCET\"                 \"4 y 5 - A Prim\"              \n",
       "[115] \"1 - 1 Prim\"                   \"3 - 3 Prim\"                  \n",
       "[117] \"5 - 3 Prim\"                   \"1 - 3 Prim\"                  \n",
       "[119] \"1 - 2 Prim\"                   \"6 - 2 Prim\"                  \n",
       "[121] \"3 - 2 Prim\"                   \"2 - 1 Prim\"                  \n",
       "[123] \"2 - 3 Prim\"                   \"2 - 2 Prim\"                  \n",
       "[125] \"4 - 1 Prim\"                   \"3 - 1 Prim\"                  \n",
       "[127] \"5 - 2 Prim\"                   \"6 - 1 Prim\"                  \n",
       "[129] \"4 - 2 Prim\"                   \"4 - 3 Prim\"                  \n",
       "[131] \"5 - 1 Prim\"                   \"6° - 3 Prim\"                 \n",
       "[133] \"6 - 2 3322N\"                  \"6 - 4 401Ef\"                 \n",
       "[135] \"3 - 5 CBC\"                    \"2 - 6 CBC\"                   \n",
       "[137] \"6 - 1 3322E\"                  \"3 - 4 CBC\"                   \n",
       "[139] \"5 - 5 401Ef\"                  \"1 - 2 CBC\"                   \n",
       "[141] \"4 - 5 401Ef\"                  \"5 - 4 3322N\"                 \n",
       "[143] \"1 - 4 CBC\"                    \"4 - 1 3322E\"                 \n",
       "[145] \"2 - 3 CBC\"                    \"2 - 5 CBC\"                   \n",
       "[147] \"5 - 2 3322N\"                  \"4 - 3 3322S\"                 \n",
       "[149] \"4 - 2 3322N\"                  \"4 - 4 3322N\"                 \n",
       "[151] \"1 - 3 CBC\"                    \"3 - 2 CBC\"                   \n",
       "[153] \"1 - 1 CBC\"                    \"1 - 5 CBC\"                   \n",
       "[155] \"2 - 2 CBC\"                    \"5 - 1 3322E\"                 \n",
       "[157] \"5 - 3 3322S\"                  \"2 - 4 CBC\"                   \n",
       "[159] \"6 - 3 3322S\"                  \"2 - 1 CBC\"                   \n",
       "[161] \"3 - 3 CBC\"                    \"6 - B 3322E\"                 \n",
       "[163] \"5 - B 3322E\"                  \"6 - B 3322S\"                 \n",
       "[165] \"5to - 3 Prim\"                 \"3ro - 4 Prim\"                \n",
       "[167] \"6to - 3 Prim\"                 \"3ro - 3 Prim\"                \n",
       "[169] \"3ro - 2 Prim\"                 \"4to - 2 Prim\"                \n",
       "[171] \"4to - 1 Prim\"                 \"2do - 1 Prim\"                \n",
       "[173] \"3ro - 1 Prim\"                 \"1ro - 2 Prim\"                \n",
       "[175] \"6to - 2 Prim\"                 \"1ro - 1 Prim\"                \n",
       "[177] \"2do - 2 Prim\"                 \"2do - 3 Prim\"                \n",
       "[179] \"6to - 1 Prim\"                 \"5to - 1 Prim\"                \n",
       "[181] \"5to - 2 Prim\"                 \"1ro - 3 Prim\"                \n",
       "[183] \"1°- 3° - A Prim\"              \"4°- 6° - A Prim\"             \n",
       "[185] \"3 - b CBC\"                    \"4 - A 3322N\"                 \n",
       "[187] \"1 - F CBC\"                    \"2 - E CBC\"                   \n",
       "[189] \"3 - B 4000E\"                  \"2 - B 4000E\"                 \n",
       "[191] \"1 - B 4000E\"                  \"4 - A 3322C\"                 \n",
       "[193] \"5 - A 3322C\"                  \"6 - A 3322C\"                 \n",
       "[195] \"CN - RURAL CNR\"               \"6 - A 3322N\"                 \n",
       "[197] \"4 - A 3322A\"                  \"5 - A 3322A\"                 \n",
       "[199] \"6 - A 3322A\"                  \"6 - B 3322T\"                 \n",
       "[201] \"4 - B 3322T\"                  \"5 - B 3322T\"                 \n",
       "[203] \"4 - C 3322A\"                  \"4 - B 3322C\"                 \n",
       "[205] \"5 - B 3322C\"                  \"5 - C 3322S\"                 \n",
       "[207] \"6 - C 3322S\"                  \"1 - E CBC\"                   \n",
       "[209] \"3 - D CBC\"                    \"4 - C 3322S\"                 \n",
       "[211] \"2 - F CBC\"                    \"1 - C 4000E\"                 \n",
       "[213] \"1º - C 4000S\"                 \"1º - Anexo Esc. 7 S.L. 4000S\"\n",
       "[215] \"1º - A 4000S\"                 \"3º - Anexo Esc. 7 4000S\"     \n",
       "[217] \"2º - A 4000S\"                 \"3º - A 4000S\"                \n",
       "[219] \"2º - Anexo Esc. 7 S.L. 4000S\" \"1º - B 4000S\"                \n",
       "[221] \"2º - B 4000S\"                 \"2 - D 4000S\"                 \n",
       "[223] \"3 - C 4000T\"                  \"2 - C 4000T\"                 \n",
       "[225] \"1 - D 4000S\"                  \"3 - D 4000S\"                 \n",
       "[227] \"2 - C 4000E\"                  \"1 - C 4000T\"                 \n",
       "[229] \"1 - C Econ. y Adm. 485/10E\"   \"2 - A Econ. y Adm 485/10E\"   \n",
       "[231] \"1 - A Econ. y Adm 485/10E\"    \"2 - C 485/10E\"               \n",
       "[233] \"1 - B Econ. y Adm 485/10E\"    \"2 - B 485/10E\"               \n",
       "[235] \"3 - B Econ. y Adm 485/10E\"    \"3 - A Econ. y Adm 485/10E\"   "
      ]
     },
     "metadata": {},
     "output_type": "display_data"
    },
    {
     "data": {
      "text/html": [
       "236"
      ],
      "text/latex": [
       "236"
      ],
      "text/markdown": [
       "236"
      ],
      "text/plain": [
       "[1] 236"
      ]
     },
     "metadata": {},
     "output_type": "display_data"
    },
    {
     "data": {
      "text/html": [
       "<ol class=list-inline>\n",
       "\t<li>'A'</li>\n",
       "\t<li>'D'</li>\n",
       "\t<li>'I'</li>\n",
       "\t<li>'B'</li>\n",
       "\t<li>'1'</li>\n",
       "\t<li>'a'</li>\n",
       "\t<li>'1 TEE'</li>\n",
       "\t<li>'1 MMO'</li>\n",
       "\t<li>'Aº'</li>\n",
       "\t<li>'C'</li>\n",
       "\t<li>'F'</li>\n",
       "\t<li>'E'</li>\n",
       "\t<li>'3'</li>\n",
       "\t<li>'M'</li>\n",
       "\t<li>'NI'</li>\n",
       "\t<li>'1 TCN'</li>\n",
       "\t<li>'1 TME'</li>\n",
       "\t<li>'A Econ. y Adm'</li>\n",
       "\t<li>'2'</li>\n",
       "\t<li>'1 TPA'</li>\n",
       "\t<li>'2 ALT'</li>\n",
       "\t<li>'Anexo Esc. 7'</li>\n",
       "\t<li>'Anexo Esc. 7 S.L.'</li>\n",
       "\t<li>'RURAL'</li>\n",
       "\t<li>'Ciclo'</li>\n",
       "\t<li>'2 TEE'</li>\n",
       "\t<li>'1 CB'</li>\n",
       "\t<li>'4'</li>\n",
       "\t<li>'5'</li>\n",
       "\t<li>'6'</li>\n",
       "\t<li>'B Econ. y Adm'</li>\n",
       "\t<li>'b'</li>\n",
       "\t<li>'NULL'</li>\n",
       "\t<li>'1 TMR'</li>\n",
       "\t<li>'S'</li>\n",
       "\t<li>'C Econ. y Adm.'</li>\n",
       "</ol>\n"
      ],
      "text/latex": [
       "\\begin{enumerate*}\n",
       "\\item 'A'\n",
       "\\item 'D'\n",
       "\\item 'I'\n",
       "\\item 'B'\n",
       "\\item '1'\n",
       "\\item 'a'\n",
       "\\item '1 TEE'\n",
       "\\item '1 MMO'\n",
       "\\item 'Aº'\n",
       "\\item 'C'\n",
       "\\item 'F'\n",
       "\\item 'E'\n",
       "\\item '3'\n",
       "\\item 'M'\n",
       "\\item 'NI'\n",
       "\\item '1 TCN'\n",
       "\\item '1 TME'\n",
       "\\item 'A Econ. y Adm'\n",
       "\\item '2'\n",
       "\\item '1 TPA'\n",
       "\\item '2 ALT'\n",
       "\\item 'Anexo Esc. 7'\n",
       "\\item 'Anexo Esc. 7 S.L.'\n",
       "\\item 'RURAL'\n",
       "\\item 'Ciclo'\n",
       "\\item '2 TEE'\n",
       "\\item '1 CB'\n",
       "\\item '4'\n",
       "\\item '5'\n",
       "\\item '6'\n",
       "\\item 'B Econ. y Adm'\n",
       "\\item 'b'\n",
       "\\item 'NULL'\n",
       "\\item '1 TMR'\n",
       "\\item 'S'\n",
       "\\item 'C Econ. y Adm.'\n",
       "\\end{enumerate*}\n"
      ],
      "text/markdown": [
       "1. 'A'\n",
       "2. 'D'\n",
       "3. 'I'\n",
       "4. 'B'\n",
       "5. '1'\n",
       "6. 'a'\n",
       "7. '1 TEE'\n",
       "8. '1 MMO'\n",
       "9. 'Aº'\n",
       "10. 'C'\n",
       "11. 'F'\n",
       "12. 'E'\n",
       "13. '3'\n",
       "14. 'M'\n",
       "15. 'NI'\n",
       "16. '1 TCN'\n",
       "17. '1 TME'\n",
       "18. 'A Econ. y Adm'\n",
       "19. '2'\n",
       "20. '1 TPA'\n",
       "21. '2 ALT'\n",
       "22. 'Anexo Esc. 7'\n",
       "23. 'Anexo Esc. 7 S.L.'\n",
       "24. 'RURAL'\n",
       "25. 'Ciclo'\n",
       "26. '2 TEE'\n",
       "27. '1 CB'\n",
       "28. '4'\n",
       "29. '5'\n",
       "30. '6'\n",
       "31. 'B Econ. y Adm'\n",
       "32. 'b'\n",
       "33. 'NULL'\n",
       "34. '1 TMR'\n",
       "35. 'S'\n",
       "36. 'C Econ. y Adm.'\n",
       "\n",
       "\n"
      ],
      "text/plain": [
       " [1] \"A\"                 \"D\"                 \"I\"                \n",
       " [4] \"B\"                 \"1\"                 \"a\"                \n",
       " [7] \"1 TEE\"             \"1 MMO\"             \"Aº\"               \n",
       "[10] \"C\"                 \"F\"                 \"E\"                \n",
       "[13] \"3\"                 \"M\"                 \"NI\"               \n",
       "[16] \"1 TCN\"             \"1 TME\"             \"A Econ. y Adm\"    \n",
       "[19] \"2\"                 \"1 TPA\"             \"2 ALT\"            \n",
       "[22] \"Anexo Esc. 7\"      \"Anexo Esc. 7 S.L.\" \"RURAL\"            \n",
       "[25] \"Ciclo\"             \"2 TEE\"             \"1 CB\"             \n",
       "[28] \"4\"                 \"5\"                 \"6\"                \n",
       "[31] \"B Econ. y Adm\"     \"b\"                 \"NULL\"             \n",
       "[34] \"1 TMR\"             \"S\"                 \"C Econ. y Adm.\"   "
      ]
     },
     "metadata": {},
     "output_type": "display_data"
    },
    {
     "data": {
      "text/html": [
       "36"
      ],
      "text/latex": [
       "36"
      ],
      "text/markdown": [
       "36"
      ],
      "text/plain": [
       "[1] 36"
      ]
     },
     "metadata": {},
     "output_type": "display_data"
    },
    {
     "data": {
      "text/html": [
       "<ol class=list-inline>\n",
       "\t<li>'ROTATIVO'</li>\n",
       "\t<li>'MAÑANA'</li>\n",
       "\t<li>'TARDE'</li>\n",
       "\t<li>'NOCHE'</li>\n",
       "\t<li>'DIURNO'</li>\n",
       "\t<li>'COMPLETO'</li>\n",
       "\t<li>'VESPERTINO'</li>\n",
       "</ol>\n"
      ],
      "text/latex": [
       "\\begin{enumerate*}\n",
       "\\item 'ROTATIVO'\n",
       "\\item 'MAÑANA'\n",
       "\\item 'TARDE'\n",
       "\\item 'NOCHE'\n",
       "\\item 'DIURNO'\n",
       "\\item 'COMPLETO'\n",
       "\\item 'VESPERTINO'\n",
       "\\end{enumerate*}\n"
      ],
      "text/markdown": [
       "1. 'ROTATIVO'\n",
       "2. 'MAÑANA'\n",
       "3. 'TARDE'\n",
       "4. 'NOCHE'\n",
       "5. 'DIURNO'\n",
       "6. 'COMPLETO'\n",
       "7. 'VESPERTINO'\n",
       "\n",
       "\n"
      ],
      "text/plain": [
       "[1] \"ROTATIVO\"   \"MAÑANA\"     \"TARDE\"      \"NOCHE\"      \"DIURNO\"    \n",
       "[6] \"COMPLETO\"   \"VESPERTINO\""
      ]
     },
     "metadata": {},
     "output_type": "display_data"
    },
    {
     "data": {
      "text/html": [
       "7"
      ],
      "text/latex": [
       "7"
      ],
      "text/markdown": [
       "7"
      ],
      "text/plain": [
       "[1] 7"
      ]
     },
     "metadata": {},
     "output_type": "display_data"
    }
   ],
   "source": [
    "unique(GUALEGUAY_original$curso)\n",
    "length(unique(GUALEGUAY_original$curso))\n",
    "\n",
    "unique(GUALEGUAY_original$ddivision)\n",
    "length(unique(GUALEGUAY_original$ddivision))\n",
    "\n",
    "unique(GUALEGUAY_original$turno)\n",
    "length(unique(GUALEGUAY_original$turno))"
   ]
  },
  {
   "cell_type": "markdown",
   "id": "4820023d",
   "metadata": {},
   "source": [
    "---"
   ]
  },
  {
   "cell_type": "markdown",
   "id": "c51522a5",
   "metadata": {},
   "source": [
    "#### 3. Arreglo de Datos"
   ]
  },
  {
   "cell_type": "code",
   "execution_count": 11,
   "id": "b479be67",
   "metadata": {
    "vscode": {
     "languageId": "r"
    }
   },
   "outputs": [
    {
     "name": "stderr",
     "output_type": "stream",
     "text": [
      "\n",
      "Attaching package: 'dplyr'\n",
      "\n",
      "The following objects are masked from 'package:stats':\n",
      "\n",
      "    filter, lag\n",
      "\n",
      "The following objects are masked from 'package:base':\n",
      "\n",
      "    intersect, setdiff, setequal, union\n",
      "\n"
     ]
    }
   ],
   "source": [
    "library(dplyr)"
   ]
  },
  {
   "cell_type": "markdown",
   "id": "b99c6d8f",
   "metadata": {},
   "source": [
    "--------------"
   ]
  },
  {
   "cell_type": "markdown",
   "id": "15a108f0",
   "metadata": {},
   "source": [
    "Renombro las variables para que sea mas claro que datos contiene.  \n",
    "Además aplico CammelCase a todas las variables, corrijo errores de ortografía y me aseguro que ninguna contenga caracteres especiales."
   ]
  },
  {
   "cell_type": "code",
   "execution_count": 12,
   "id": "9f661f79",
   "metadata": {
    "vscode": {
     "languageId": "r"
    }
   },
   "outputs": [
    {
     "data": {
      "text/html": [
       "<ol class=list-inline>\n",
       "\t<li>'CUE'</li>\n",
       "\t<li>'departamento'</li>\n",
       "\t<li>'localidad'</li>\n",
       "\t<li>'CodigoPostal'</li>\n",
       "\t<li>'EsPrivada'</li>\n",
       "\t<li>'turno'</li>\n",
       "\t<li>'curso'</li>\n",
       "\t<li>'periodoEvaluatorio'</li>\n",
       "\t<li>'idalumno'</li>\n",
       "\t<li>'Documento'</li>\n",
       "\t<li>'anioLectivo'</li>\n",
       "\t<li>'asignatura'</li>\n",
       "\t<li>'nota'</li>\n",
       "\t<li>'observaciones'</li>\n",
       "\t<li>'idSubOrganizacion'</li>\n",
       "\t<li>'idDivision'</li>\n",
       "\t<li>'NivelEnsenanza'</li>\n",
       "\t<li>'orden'</li>\n",
       "\t<li>'motivo_ausente'</li>\n",
       "\t<li>'idOrganizaciones'</li>\n",
       "\t<li>'ddivision'</li>\n",
       "\t<li>'Nivel'</li>\n",
       "\t<li>'esMultianio'</li>\n",
       "\t<li>'IdModEnsenanza'</li>\n",
       "\t<li>'Modalidad'</li>\n",
       "\t<li>'ModEnsenaza'</li>\n",
       "</ol>\n"
      ],
      "text/latex": [
       "\\begin{enumerate*}\n",
       "\\item 'CUE'\n",
       "\\item 'departamento'\n",
       "\\item 'localidad'\n",
       "\\item 'CodigoPostal'\n",
       "\\item 'EsPrivada'\n",
       "\\item 'turno'\n",
       "\\item 'curso'\n",
       "\\item 'periodoEvaluatorio'\n",
       "\\item 'idalumno'\n",
       "\\item 'Documento'\n",
       "\\item 'anioLectivo'\n",
       "\\item 'asignatura'\n",
       "\\item 'nota'\n",
       "\\item 'observaciones'\n",
       "\\item 'idSubOrganizacion'\n",
       "\\item 'idDivision'\n",
       "\\item 'NivelEnsenanza'\n",
       "\\item 'orden'\n",
       "\\item 'motivo\\_ausente'\n",
       "\\item 'idOrganizaciones'\n",
       "\\item 'ddivision'\n",
       "\\item 'Nivel'\n",
       "\\item 'esMultianio'\n",
       "\\item 'IdModEnsenanza'\n",
       "\\item 'Modalidad'\n",
       "\\item 'ModEnsenaza'\n",
       "\\end{enumerate*}\n"
      ],
      "text/markdown": [
       "1. 'CUE'\n",
       "2. 'departamento'\n",
       "3. 'localidad'\n",
       "4. 'CodigoPostal'\n",
       "5. 'EsPrivada'\n",
       "6. 'turno'\n",
       "7. 'curso'\n",
       "8. 'periodoEvaluatorio'\n",
       "9. 'idalumno'\n",
       "10. 'Documento'\n",
       "11. 'anioLectivo'\n",
       "12. 'asignatura'\n",
       "13. 'nota'\n",
       "14. 'observaciones'\n",
       "15. 'idSubOrganizacion'\n",
       "16. 'idDivision'\n",
       "17. 'NivelEnsenanza'\n",
       "18. 'orden'\n",
       "19. 'motivo_ausente'\n",
       "20. 'idOrganizaciones'\n",
       "21. 'ddivision'\n",
       "22. 'Nivel'\n",
       "23. 'esMultianio'\n",
       "24. 'IdModEnsenanza'\n",
       "25. 'Modalidad'\n",
       "26. 'ModEnsenaza'\n",
       "\n",
       "\n"
      ],
      "text/plain": [
       " [1] \"CUE\"                \"departamento\"       \"localidad\"         \n",
       " [4] \"CodigoPostal\"       \"EsPrivada\"          \"turno\"             \n",
       " [7] \"curso\"              \"periodoEvaluatorio\" \"idalumno\"          \n",
       "[10] \"Documento\"          \"anioLectivo\"        \"asignatura\"        \n",
       "[13] \"nota\"               \"observaciones\"      \"idSubOrganizacion\" \n",
       "[16] \"idDivision\"         \"NivelEnsenanza\"     \"orden\"             \n",
       "[19] \"motivo_ausente\"     \"idOrganizaciones\"   \"ddivision\"         \n",
       "[22] \"Nivel\"              \"esMultianio\"        \"IdModEnsenanza\"    \n",
       "[25] \"Modalidad\"          \"ModEnsenaza\"       "
      ]
     },
     "metadata": {},
     "output_type": "display_data"
    },
    {
     "data": {
      "text/html": [
       "<ol class=list-inline>\n",
       "\t<li>656615</li>\n",
       "\t<li>26</li>\n",
       "</ol>\n"
      ],
      "text/latex": [
       "\\begin{enumerate*}\n",
       "\\item 656615\n",
       "\\item 26\n",
       "\\end{enumerate*}\n"
      ],
      "text/markdown": [
       "1. 656615\n",
       "2. 26\n",
       "\n",
       "\n"
      ],
      "text/plain": [
       "[1] 656615     26"
      ]
     },
     "metadata": {},
     "output_type": "display_data"
    },
    {
     "data": {
      "text/html": [
       "<ol class=list-inline>\n",
       "\t<li>'CUE'</li>\n",
       "\t<li>'departamento'</li>\n",
       "\t<li>'localidad'</li>\n",
       "\t<li>'codigoPostal'</li>\n",
       "\t<li>'esPrivada'</li>\n",
       "\t<li>'turno'</li>\n",
       "\t<li>'curso'</li>\n",
       "\t<li>'periodoEvaluatorio'</li>\n",
       "\t<li>'idAlumno'</li>\n",
       "\t<li>'documento'</li>\n",
       "\t<li>'anioLectivo'</li>\n",
       "\t<li>'asignatura'</li>\n",
       "\t<li>'nota'</li>\n",
       "\t<li>'observaciones'</li>\n",
       "\t<li>'idSubOrganizacion'</li>\n",
       "\t<li>'idDivision'</li>\n",
       "\t<li>'nivelEnsenanza'</li>\n",
       "\t<li>'orden'</li>\n",
       "\t<li>'motivoAusente'</li>\n",
       "\t<li>'idOrganizaciones'</li>\n",
       "\t<li>'division'</li>\n",
       "\t<li>'nivel'</li>\n",
       "\t<li>'esMultianio'</li>\n",
       "\t<li>'idModEnsenanza'</li>\n",
       "\t<li>'modalidad'</li>\n",
       "\t<li>'modEnsenanza'</li>\n",
       "</ol>\n"
      ],
      "text/latex": [
       "\\begin{enumerate*}\n",
       "\\item 'CUE'\n",
       "\\item 'departamento'\n",
       "\\item 'localidad'\n",
       "\\item 'codigoPostal'\n",
       "\\item 'esPrivada'\n",
       "\\item 'turno'\n",
       "\\item 'curso'\n",
       "\\item 'periodoEvaluatorio'\n",
       "\\item 'idAlumno'\n",
       "\\item 'documento'\n",
       "\\item 'anioLectivo'\n",
       "\\item 'asignatura'\n",
       "\\item 'nota'\n",
       "\\item 'observaciones'\n",
       "\\item 'idSubOrganizacion'\n",
       "\\item 'idDivision'\n",
       "\\item 'nivelEnsenanza'\n",
       "\\item 'orden'\n",
       "\\item 'motivoAusente'\n",
       "\\item 'idOrganizaciones'\n",
       "\\item 'division'\n",
       "\\item 'nivel'\n",
       "\\item 'esMultianio'\n",
       "\\item 'idModEnsenanza'\n",
       "\\item 'modalidad'\n",
       "\\item 'modEnsenanza'\n",
       "\\end{enumerate*}\n"
      ],
      "text/markdown": [
       "1. 'CUE'\n",
       "2. 'departamento'\n",
       "3. 'localidad'\n",
       "4. 'codigoPostal'\n",
       "5. 'esPrivada'\n",
       "6. 'turno'\n",
       "7. 'curso'\n",
       "8. 'periodoEvaluatorio'\n",
       "9. 'idAlumno'\n",
       "10. 'documento'\n",
       "11. 'anioLectivo'\n",
       "12. 'asignatura'\n",
       "13. 'nota'\n",
       "14. 'observaciones'\n",
       "15. 'idSubOrganizacion'\n",
       "16. 'idDivision'\n",
       "17. 'nivelEnsenanza'\n",
       "18. 'orden'\n",
       "19. 'motivoAusente'\n",
       "20. 'idOrganizaciones'\n",
       "21. 'division'\n",
       "22. 'nivel'\n",
       "23. 'esMultianio'\n",
       "24. 'idModEnsenanza'\n",
       "25. 'modalidad'\n",
       "26. 'modEnsenanza'\n",
       "\n",
       "\n"
      ],
      "text/plain": [
       " [1] \"CUE\"                \"departamento\"       \"localidad\"         \n",
       " [4] \"codigoPostal\"       \"esPrivada\"          \"turno\"             \n",
       " [7] \"curso\"              \"periodoEvaluatorio\" \"idAlumno\"          \n",
       "[10] \"documento\"          \"anioLectivo\"        \"asignatura\"        \n",
       "[13] \"nota\"               \"observaciones\"      \"idSubOrganizacion\" \n",
       "[16] \"idDivision\"         \"nivelEnsenanza\"     \"orden\"             \n",
       "[19] \"motivoAusente\"      \"idOrganizaciones\"   \"division\"          \n",
       "[22] \"nivel\"              \"esMultianio\"        \"idModEnsenanza\"    \n",
       "[25] \"modalidad\"          \"modEnsenanza\"      "
      ]
     },
     "metadata": {},
     "output_type": "display_data"
    },
    {
     "data": {
      "text/html": [
       "<ol class=list-inline>\n",
       "\t<li>656615</li>\n",
       "\t<li>26</li>\n",
       "</ol>\n"
      ],
      "text/latex": [
       "\\begin{enumerate*}\n",
       "\\item 656615\n",
       "\\item 26\n",
       "\\end{enumerate*}\n"
      ],
      "text/markdown": [
       "1. 656615\n",
       "2. 26\n",
       "\n",
       "\n"
      ],
      "text/plain": [
       "[1] 656615     26"
      ]
     },
     "metadata": {},
     "output_type": "display_data"
    }
   ],
   "source": [
    "# Renombrar variables\n",
    "GUALEGUAY_variablesRenombradas <- rename(GUALEGUAY_original, codigoPostal = CodigoPostal, esPrivada = EsPrivada, idAlumno = idalumno, documento = Documento, nivelEnsenanza = NivelEnsenanza, motivoAusente = motivo_ausente, division = ddivision, nivel = Nivel, idModEnsenanza = IdModEnsenanza, modalidad = Modalidad, modEnsenanza = ModEnsenaza)\n",
    "\n",
    "# Dataset original\n",
    "names(GUALEGUAY_original)\n",
    "dim(GUALEGUAY_original)\n",
    "\n",
    "# Dataset con las variables renombradas\n",
    "names(GUALEGUAY_variablesRenombradas)\n",
    "dim(GUALEGUAY_variablesRenombradas)"
   ]
  },
  {
   "cell_type": "markdown",
   "id": "d3dea7ae",
   "metadata": {},
   "source": [
    "-----------"
   ]
  },
  {
   "cell_type": "markdown",
   "id": "061c2a9a",
   "metadata": {},
   "source": [
    "Elimino variables que no son relevantes para este estudio, creo un dataset con las variables esenciales, y ordeno sus columnas."
   ]
  },
  {
   "cell_type": "code",
   "execution_count": 13,
   "id": "12b07ce2",
   "metadata": {
    "vscode": {
     "languageId": "r"
    }
   },
   "outputs": [
    {
     "data": {
      "text/html": [
       "<ol class=list-inline>\n",
       "\t<li>'CUE'</li>\n",
       "\t<li>'departamento'</li>\n",
       "\t<li>'localidad'</li>\n",
       "\t<li>'codigoPostal'</li>\n",
       "\t<li>'esPrivada'</li>\n",
       "\t<li>'turno'</li>\n",
       "\t<li>'curso'</li>\n",
       "\t<li>'periodoEvaluatorio'</li>\n",
       "\t<li>'idAlumno'</li>\n",
       "\t<li>'documento'</li>\n",
       "\t<li>'anioLectivo'</li>\n",
       "\t<li>'asignatura'</li>\n",
       "\t<li>'nota'</li>\n",
       "\t<li>'observaciones'</li>\n",
       "\t<li>'idSubOrganizacion'</li>\n",
       "\t<li>'idDivision'</li>\n",
       "\t<li>'nivelEnsenanza'</li>\n",
       "\t<li>'orden'</li>\n",
       "\t<li>'motivoAusente'</li>\n",
       "\t<li>'idOrganizaciones'</li>\n",
       "\t<li>'division'</li>\n",
       "\t<li>'nivel'</li>\n",
       "\t<li>'esMultianio'</li>\n",
       "\t<li>'idModEnsenanza'</li>\n",
       "\t<li>'modalidad'</li>\n",
       "\t<li>'modEnsenanza'</li>\n",
       "</ol>\n"
      ],
      "text/latex": [
       "\\begin{enumerate*}\n",
       "\\item 'CUE'\n",
       "\\item 'departamento'\n",
       "\\item 'localidad'\n",
       "\\item 'codigoPostal'\n",
       "\\item 'esPrivada'\n",
       "\\item 'turno'\n",
       "\\item 'curso'\n",
       "\\item 'periodoEvaluatorio'\n",
       "\\item 'idAlumno'\n",
       "\\item 'documento'\n",
       "\\item 'anioLectivo'\n",
       "\\item 'asignatura'\n",
       "\\item 'nota'\n",
       "\\item 'observaciones'\n",
       "\\item 'idSubOrganizacion'\n",
       "\\item 'idDivision'\n",
       "\\item 'nivelEnsenanza'\n",
       "\\item 'orden'\n",
       "\\item 'motivoAusente'\n",
       "\\item 'idOrganizaciones'\n",
       "\\item 'division'\n",
       "\\item 'nivel'\n",
       "\\item 'esMultianio'\n",
       "\\item 'idModEnsenanza'\n",
       "\\item 'modalidad'\n",
       "\\item 'modEnsenanza'\n",
       "\\end{enumerate*}\n"
      ],
      "text/markdown": [
       "1. 'CUE'\n",
       "2. 'departamento'\n",
       "3. 'localidad'\n",
       "4. 'codigoPostal'\n",
       "5. 'esPrivada'\n",
       "6. 'turno'\n",
       "7. 'curso'\n",
       "8. 'periodoEvaluatorio'\n",
       "9. 'idAlumno'\n",
       "10. 'documento'\n",
       "11. 'anioLectivo'\n",
       "12. 'asignatura'\n",
       "13. 'nota'\n",
       "14. 'observaciones'\n",
       "15. 'idSubOrganizacion'\n",
       "16. 'idDivision'\n",
       "17. 'nivelEnsenanza'\n",
       "18. 'orden'\n",
       "19. 'motivoAusente'\n",
       "20. 'idOrganizaciones'\n",
       "21. 'division'\n",
       "22. 'nivel'\n",
       "23. 'esMultianio'\n",
       "24. 'idModEnsenanza'\n",
       "25. 'modalidad'\n",
       "26. 'modEnsenanza'\n",
       "\n",
       "\n"
      ],
      "text/plain": [
       " [1] \"CUE\"                \"departamento\"       \"localidad\"         \n",
       " [4] \"codigoPostal\"       \"esPrivada\"          \"turno\"             \n",
       " [7] \"curso\"              \"periodoEvaluatorio\" \"idAlumno\"          \n",
       "[10] \"documento\"          \"anioLectivo\"        \"asignatura\"        \n",
       "[13] \"nota\"               \"observaciones\"      \"idSubOrganizacion\" \n",
       "[16] \"idDivision\"         \"nivelEnsenanza\"     \"orden\"             \n",
       "[19] \"motivoAusente\"      \"idOrganizaciones\"   \"division\"          \n",
       "[22] \"nivel\"              \"esMultianio\"        \"idModEnsenanza\"    \n",
       "[25] \"modalidad\"          \"modEnsenanza\"      "
      ]
     },
     "metadata": {},
     "output_type": "display_data"
    },
    {
     "data": {
      "text/html": [
       "<ol class=list-inline>\n",
       "\t<li>656615</li>\n",
       "\t<li>26</li>\n",
       "</ol>\n"
      ],
      "text/latex": [
       "\\begin{enumerate*}\n",
       "\\item 656615\n",
       "\\item 26\n",
       "\\end{enumerate*}\n"
      ],
      "text/markdown": [
       "1. 656615\n",
       "2. 26\n",
       "\n",
       "\n"
      ],
      "text/plain": [
       "[1] 656615     26"
      ]
     },
     "metadata": {},
     "output_type": "display_data"
    },
    {
     "data": {
      "text/html": [
       "<ol class=list-inline>\n",
       "\t<li>'CUE'</li>\n",
       "\t<li>'departamento'</li>\n",
       "\t<li>'localidad'</li>\n",
       "\t<li>'codigoPostal'</li>\n",
       "\t<li>'esPrivada'</li>\n",
       "\t<li>'turno'</li>\n",
       "\t<li>'curso'</li>\n",
       "\t<li>'periodoEvaluatorio'</li>\n",
       "\t<li>'idAlumno'</li>\n",
       "\t<li>'documento'</li>\n",
       "\t<li>'anioLectivo'</li>\n",
       "\t<li>'asignatura'</li>\n",
       "\t<li>'nota'</li>\n",
       "\t<li>'nivelEnsenanza'</li>\n",
       "\t<li>'nivel'</li>\n",
       "\t<li>'esMultianio'</li>\n",
       "\t<li>'idModEnsenanza'</li>\n",
       "\t<li>'modalidad'</li>\n",
       "\t<li>'modEnsenanza'</li>\n",
       "</ol>\n"
      ],
      "text/latex": [
       "\\begin{enumerate*}\n",
       "\\item 'CUE'\n",
       "\\item 'departamento'\n",
       "\\item 'localidad'\n",
       "\\item 'codigoPostal'\n",
       "\\item 'esPrivada'\n",
       "\\item 'turno'\n",
       "\\item 'curso'\n",
       "\\item 'periodoEvaluatorio'\n",
       "\\item 'idAlumno'\n",
       "\\item 'documento'\n",
       "\\item 'anioLectivo'\n",
       "\\item 'asignatura'\n",
       "\\item 'nota'\n",
       "\\item 'nivelEnsenanza'\n",
       "\\item 'nivel'\n",
       "\\item 'esMultianio'\n",
       "\\item 'idModEnsenanza'\n",
       "\\item 'modalidad'\n",
       "\\item 'modEnsenanza'\n",
       "\\end{enumerate*}\n"
      ],
      "text/markdown": [
       "1. 'CUE'\n",
       "2. 'departamento'\n",
       "3. 'localidad'\n",
       "4. 'codigoPostal'\n",
       "5. 'esPrivada'\n",
       "6. 'turno'\n",
       "7. 'curso'\n",
       "8. 'periodoEvaluatorio'\n",
       "9. 'idAlumno'\n",
       "10. 'documento'\n",
       "11. 'anioLectivo'\n",
       "12. 'asignatura'\n",
       "13. 'nota'\n",
       "14. 'nivelEnsenanza'\n",
       "15. 'nivel'\n",
       "16. 'esMultianio'\n",
       "17. 'idModEnsenanza'\n",
       "18. 'modalidad'\n",
       "19. 'modEnsenanza'\n",
       "\n",
       "\n"
      ],
      "text/plain": [
       " [1] \"CUE\"                \"departamento\"       \"localidad\"         \n",
       " [4] \"codigoPostal\"       \"esPrivada\"          \"turno\"             \n",
       " [7] \"curso\"              \"periodoEvaluatorio\" \"idAlumno\"          \n",
       "[10] \"documento\"          \"anioLectivo\"        \"asignatura\"        \n",
       "[13] \"nota\"               \"nivelEnsenanza\"     \"nivel\"             \n",
       "[16] \"esMultianio\"        \"idModEnsenanza\"     \"modalidad\"         \n",
       "[19] \"modEnsenanza\"      "
      ]
     },
     "metadata": {},
     "output_type": "display_data"
    },
    {
     "data": {
      "text/html": [
       "<ol class=list-inline>\n",
       "\t<li>656615</li>\n",
       "\t<li>19</li>\n",
       "</ol>\n"
      ],
      "text/latex": [
       "\\begin{enumerate*}\n",
       "\\item 656615\n",
       "\\item 19\n",
       "\\end{enumerate*}\n"
      ],
      "text/markdown": [
       "1. 656615\n",
       "2. 19\n",
       "\n",
       "\n"
      ],
      "text/plain": [
       "[1] 656615     19"
      ]
     },
     "metadata": {},
     "output_type": "display_data"
    },
    {
     "name": "stdout",
     "output_type": "stream",
     "text": [
      "Classes 'tbl_df', 'tbl' and 'data.frame':\t656615 obs. of  19 variables:\n",
      " $ CUE               : num  6e+06 6e+06 6e+06 6e+06 6e+06 ...\n",
      " $ departamento      : chr  \"GUALEGUAY\" \"GUALEGUAY\" \"GUALEGUAY\" \"GUALEGUAY\" ...\n",
      " $ localidad         : chr  \"GUALEGUAY\" \"GUALEGUAY\" \"GUALEGUAY\" \"GUALEGUAY\" ...\n",
      " $ codigoPostal      : num  0 0 0 0 0 0 0 0 0 0 ...\n",
      " $ esPrivada         : chr  \"N\" \"N\" \"N\" \"N\" ...\n",
      " $ turno             : chr  \"ROTATIVO\" \"ROTATIVO\" \"ROTATIVO\" \"ROTATIVO\" ...\n",
      " $ curso             : chr  \"1-6 - A Prim\" \"1-6 - A Prim\" \"1-6 - A Prim\" \"1-6 - A Prim\" ...\n",
      " $ periodoEvaluatorio: chr  \"Primer Trimestre\" \"Primer Trimestre\" \"Primer Trimestre\" \"Primer Trimestre\" ...\n",
      " $ idAlumno          : num  781926 846914 781915 625546 846907 ...\n",
      " $ documento         : num  54916911 55244514 55244551 52492412 48825145 ...\n",
      " $ anioLectivo       : num  2022 2022 2022 2022 2022 ...\n",
      " $ asignatura        : chr  \"LENGUA\" \"LENGUA\" \"LENGUA\" \"LENGUA\" ...\n",
      " $ nota              : chr  \"9\" \"9\" \"9\" \"6\" ...\n",
      " $ nivelEnsenanza    : chr  \"PRIMARIO\" \"PRIMARIO\" \"PRIMARIO\" \"PRIMARIO\" ...\n",
      " $ nivel             : num  2 2 2 2 2 2 2 2 2 2 ...\n",
      " $ esMultianio       : chr  \"S\" \"S\" \"S\" \"S\" ...\n",
      " $ idModEnsenanza    : num  5 5 5 5 5 5 5 5 5 5 ...\n",
      " $ modalidad         : chr  \"Primaria\" \"Primaria\" \"Primaria\" \"Primaria\" ...\n",
      " $ modEnsenanza      : chr  \"Comun\" \"Comun\" \"Comun\" \"Comun\" ...\n"
     ]
    },
    {
     "data": {
      "text/html": [
       "<ol class=list-inline>\n",
       "\t<li>'CUE'</li>\n",
       "\t<li>'departamento'</li>\n",
       "\t<li>'localidad'</li>\n",
       "\t<li>'codigoPostal'</li>\n",
       "\t<li>'anioLectivo'</li>\n",
       "\t<li>'esPrivada'</li>\n",
       "\t<li>'esMultianio'</li>\n",
       "\t<li>'nivel'</li>\n",
       "\t<li>'nivelEnsenanza'</li>\n",
       "\t<li>'modalidad'</li>\n",
       "\t<li>'idModEnsenanza'</li>\n",
       "\t<li>'modEnsenanza'</li>\n",
       "\t<li>'curso'</li>\n",
       "\t<li>'turno'</li>\n",
       "\t<li>'idAlumno'</li>\n",
       "\t<li>'documento'</li>\n",
       "\t<li>'asignatura'</li>\n",
       "\t<li>'periodoEvaluatorio'</li>\n",
       "\t<li>'nota'</li>\n",
       "</ol>\n"
      ],
      "text/latex": [
       "\\begin{enumerate*}\n",
       "\\item 'CUE'\n",
       "\\item 'departamento'\n",
       "\\item 'localidad'\n",
       "\\item 'codigoPostal'\n",
       "\\item 'anioLectivo'\n",
       "\\item 'esPrivada'\n",
       "\\item 'esMultianio'\n",
       "\\item 'nivel'\n",
       "\\item 'nivelEnsenanza'\n",
       "\\item 'modalidad'\n",
       "\\item 'idModEnsenanza'\n",
       "\\item 'modEnsenanza'\n",
       "\\item 'curso'\n",
       "\\item 'turno'\n",
       "\\item 'idAlumno'\n",
       "\\item 'documento'\n",
       "\\item 'asignatura'\n",
       "\\item 'periodoEvaluatorio'\n",
       "\\item 'nota'\n",
       "\\end{enumerate*}\n"
      ],
      "text/markdown": [
       "1. 'CUE'\n",
       "2. 'departamento'\n",
       "3. 'localidad'\n",
       "4. 'codigoPostal'\n",
       "5. 'anioLectivo'\n",
       "6. 'esPrivada'\n",
       "7. 'esMultianio'\n",
       "8. 'nivel'\n",
       "9. 'nivelEnsenanza'\n",
       "10. 'modalidad'\n",
       "11. 'idModEnsenanza'\n",
       "12. 'modEnsenanza'\n",
       "13. 'curso'\n",
       "14. 'turno'\n",
       "15. 'idAlumno'\n",
       "16. 'documento'\n",
       "17. 'asignatura'\n",
       "18. 'periodoEvaluatorio'\n",
       "19. 'nota'\n",
       "\n",
       "\n"
      ],
      "text/plain": [
       " [1] \"CUE\"                \"departamento\"       \"localidad\"         \n",
       " [4] \"codigoPostal\"       \"anioLectivo\"        \"esPrivada\"         \n",
       " [7] \"esMultianio\"        \"nivel\"              \"nivelEnsenanza\"    \n",
       "[10] \"modalidad\"          \"idModEnsenanza\"     \"modEnsenanza\"      \n",
       "[13] \"curso\"              \"turno\"              \"idAlumno\"          \n",
       "[16] \"documento\"          \"asignatura\"         \"periodoEvaluatorio\"\n",
       "[19] \"nota\"              "
      ]
     },
     "metadata": {},
     "output_type": "display_data"
    },
    {
     "data": {
      "text/html": [
       "<ol class=list-inline>\n",
       "\t<li>656615</li>\n",
       "\t<li>19</li>\n",
       "</ol>\n"
      ],
      "text/latex": [
       "\\begin{enumerate*}\n",
       "\\item 656615\n",
       "\\item 19\n",
       "\\end{enumerate*}\n"
      ],
      "text/markdown": [
       "1. 656615\n",
       "2. 19\n",
       "\n",
       "\n"
      ],
      "text/plain": [
       "[1] 656615     19"
      ]
     },
     "metadata": {},
     "output_type": "display_data"
    },
    {
     "data": {
      "text/html": [
       "<table>\n",
       "<thead><tr><th scope=col>CUE</th><th scope=col>departamento</th><th scope=col>localidad</th><th scope=col>codigoPostal</th><th scope=col>anioLectivo</th><th scope=col>esPrivada</th><th scope=col>esMultianio</th><th scope=col>nivel</th><th scope=col>nivelEnsenanza</th><th scope=col>modalidad</th><th scope=col>idModEnsenanza</th><th scope=col>modEnsenanza</th><th scope=col>curso</th><th scope=col>turno</th><th scope=col>idAlumno</th><th scope=col>documento</th><th scope=col>asignatura</th><th scope=col>periodoEvaluatorio</th><th scope=col>nota</th></tr></thead>\n",
       "<tbody>\n",
       "\t<tr><td>6000752         </td><td>GUALEGUAY       </td><td>GUALEGUAY       </td><td>0               </td><td>2022            </td><td>N               </td><td>S               </td><td>2               </td><td>PRIMARIO        </td><td>Primaria        </td><td>5               </td><td>Comun           </td><td>1-6 - A Prim    </td><td>ROTATIVO        </td><td>781926          </td><td>54916911        </td><td>LENGUA          </td><td>Primer Trimestre</td><td>9               </td></tr>\n",
       "\t<tr><td>6000752         </td><td>GUALEGUAY       </td><td>GUALEGUAY       </td><td>0               </td><td>2022            </td><td>N               </td><td>S               </td><td>2               </td><td>PRIMARIO        </td><td>Primaria        </td><td>5               </td><td>Comun           </td><td>1-6 - A Prim    </td><td>ROTATIVO        </td><td>846914          </td><td>55244514        </td><td>LENGUA          </td><td>Primer Trimestre</td><td>9               </td></tr>\n",
       "</tbody>\n",
       "</table>\n"
      ],
      "text/latex": [
       "\\begin{tabular}{r|lllllllllllllllllll}\n",
       " CUE & departamento & localidad & codigoPostal & anioLectivo & esPrivada & esMultianio & nivel & nivelEnsenanza & modalidad & idModEnsenanza & modEnsenanza & curso & turno & idAlumno & documento & asignatura & periodoEvaluatorio & nota\\\\\n",
       "\\hline\n",
       "\t 6000752          & GUALEGUAY        & GUALEGUAY        & 0                & 2022             & N                & S                & 2                & PRIMARIO         & Primaria         & 5                & Comun            & 1-6 - A Prim     & ROTATIVO         & 781926           & 54916911         & LENGUA           & Primer Trimestre & 9               \\\\\n",
       "\t 6000752          & GUALEGUAY        & GUALEGUAY        & 0                & 2022             & N                & S                & 2                & PRIMARIO         & Primaria         & 5                & Comun            & 1-6 - A Prim     & ROTATIVO         & 846914           & 55244514         & LENGUA           & Primer Trimestre & 9               \\\\\n",
       "\\end{tabular}\n"
      ],
      "text/markdown": [
       "\n",
       "| CUE | departamento | localidad | codigoPostal | anioLectivo | esPrivada | esMultianio | nivel | nivelEnsenanza | modalidad | idModEnsenanza | modEnsenanza | curso | turno | idAlumno | documento | asignatura | periodoEvaluatorio | nota |\n",
       "|---|---|---|---|---|---|---|---|---|---|---|---|---|---|---|---|---|---|---|\n",
       "| 6000752          | GUALEGUAY        | GUALEGUAY        | 0                | 2022             | N                | S                | 2                | PRIMARIO         | Primaria         | 5                | Comun            | 1-6 - A Prim     | ROTATIVO         | 781926           | 54916911         | LENGUA           | Primer Trimestre | 9                |\n",
       "| 6000752          | GUALEGUAY        | GUALEGUAY        | 0                | 2022             | N                | S                | 2                | PRIMARIO         | Primaria         | 5                | Comun            | 1-6 - A Prim     | ROTATIVO         | 846914           | 55244514         | LENGUA           | Primer Trimestre | 9                |\n",
       "\n"
      ],
      "text/plain": [
       "  CUE     departamento localidad codigoPostal anioLectivo esPrivada esMultianio\n",
       "1 6000752 GUALEGUAY    GUALEGUAY 0            2022        N         S          \n",
       "2 6000752 GUALEGUAY    GUALEGUAY 0            2022        N         S          \n",
       "  nivel nivelEnsenanza modalidad idModEnsenanza modEnsenanza curso       \n",
       "1 2     PRIMARIO       Primaria  5              Comun        1-6 - A Prim\n",
       "2 2     PRIMARIO       Primaria  5              Comun        1-6 - A Prim\n",
       "  turno    idAlumno documento asignatura periodoEvaluatorio nota\n",
       "1 ROTATIVO 781926   54916911  LENGUA     Primer Trimestre   9   \n",
       "2 ROTATIVO 846914   55244514  LENGUA     Primer Trimestre   9   "
      ]
     },
     "metadata": {},
     "output_type": "display_data"
    }
   ],
   "source": [
    "# Eliminar variables\n",
    "GUALEGUAY_variablesEsenciales <- select(GUALEGUAY_variablesRenombradas, -c('observaciones', 'idSubOrganizacion', 'idDivision', 'orden', 'motivoAusente', 'idOrganizaciones', 'division'))\n",
    "\n",
    "# Dataset con todas las variables\n",
    "names(GUALEGUAY_variablesRenombradas)\n",
    "dim(GUALEGUAY_variablesRenombradas)\n",
    "\n",
    "\n",
    "# Dataset con las variables esenciales\n",
    "names(GUALEGUAY_variablesEsenciales)\n",
    "dim(GUALEGUAY_variablesEsenciales)\n",
    "str(GUALEGUAY_variablesEsenciales)\n",
    "# Reordeno las columnas del dataset\n",
    "GUALEGUAY_variablesEsencialesOrdenadas <- select(GUALEGUAY_variablesEsenciales, 'CUE', 'departamento', 'localidad', 'codigoPostal', 'anioLectivo', 'esPrivada', 'esMultianio', 'nivel', 'nivelEnsenanza', 'modalidad', 'idModEnsenanza', 'modEnsenanza', 'curso', 'turno', 'idAlumno', 'documento', 'asignatura', 'periodoEvaluatorio', 'nota')\n",
    "names(GUALEGUAY_variablesEsencialesOrdenadas)\n",
    "dim(GUALEGUAY_variablesEsencialesOrdenadas)\n",
    "head(GUALEGUAY_variablesEsencialesOrdenadas, 2)"
   ]
  },
  {
   "cell_type": "markdown",
   "id": "06faf54c",
   "metadata": {},
   "source": [
    "---------------"
   ]
  },
  {
   "cell_type": "markdown",
   "id": "b9cf8277",
   "metadata": {},
   "source": [
    "Muestro los datos de la variable \"periodoEvaluatorio\" para poder realizar un correcto filtrado de los trimestres."
   ]
  },
  {
   "cell_type": "code",
   "execution_count": 14,
   "id": "53284825",
   "metadata": {
    "vscode": {
     "languageId": "r"
    }
   },
   "outputs": [
    {
     "data": {
      "text/plain": [
       " Diciembre Febrero  Junio Primer Trimestre Promoción Segundo Trimestre Tercer Trimestre\n",
       "                                                                                       \n",
       "     19757    3080     13           220612     42253            200631           170269"
      ]
     },
     "metadata": {},
     "output_type": "display_data"
    }
   ],
   "source": [
    "ftable(GUALEGUAY_variablesEsencialesOrdenadas$periodoEvaluatorio)"
   ]
  },
  {
   "cell_type": "code",
   "execution_count": 15,
   "id": "560802f8",
   "metadata": {
    "vscode": {
     "languageId": "r"
    }
   },
   "outputs": [],
   "source": [
    "library('stringr')"
   ]
  },
  {
   "cell_type": "markdown",
   "id": "e45c8f11",
   "metadata": {},
   "source": [
    "Realizo una pequeña limpieza a la variable \"periodoEvaluatorio\", para que los registros que contengan el dato \"Junio\", sean reemplazados por el dato \"Segundo Trimestre\"."
   ]
  },
  {
   "cell_type": "code",
   "execution_count": 16,
   "id": "1b15901a",
   "metadata": {
    "vscode": {
     "languageId": "r"
    }
   },
   "outputs": [
    {
     "data": {
      "text/html": [
       "<ol class=list-inline>\n",
       "\t<li>'CUE'</li>\n",
       "\t<li>'departamento'</li>\n",
       "\t<li>'localidad'</li>\n",
       "\t<li>'codigoPostal'</li>\n",
       "\t<li>'anioLectivo'</li>\n",
       "\t<li>'esPrivada'</li>\n",
       "\t<li>'esMultianio'</li>\n",
       "\t<li>'nivel'</li>\n",
       "\t<li>'nivelEnsenanza'</li>\n",
       "\t<li>'modalidad'</li>\n",
       "\t<li>'idModEnsenanza'</li>\n",
       "\t<li>'modEnsenanza'</li>\n",
       "\t<li>'curso'</li>\n",
       "\t<li>'turno'</li>\n",
       "\t<li>'idAlumno'</li>\n",
       "\t<li>'documento'</li>\n",
       "\t<li>'asignatura'</li>\n",
       "\t<li>'periodoEvaluatorio'</li>\n",
       "\t<li>'nota'</li>\n",
       "</ol>\n"
      ],
      "text/latex": [
       "\\begin{enumerate*}\n",
       "\\item 'CUE'\n",
       "\\item 'departamento'\n",
       "\\item 'localidad'\n",
       "\\item 'codigoPostal'\n",
       "\\item 'anioLectivo'\n",
       "\\item 'esPrivada'\n",
       "\\item 'esMultianio'\n",
       "\\item 'nivel'\n",
       "\\item 'nivelEnsenanza'\n",
       "\\item 'modalidad'\n",
       "\\item 'idModEnsenanza'\n",
       "\\item 'modEnsenanza'\n",
       "\\item 'curso'\n",
       "\\item 'turno'\n",
       "\\item 'idAlumno'\n",
       "\\item 'documento'\n",
       "\\item 'asignatura'\n",
       "\\item 'periodoEvaluatorio'\n",
       "\\item 'nota'\n",
       "\\end{enumerate*}\n"
      ],
      "text/markdown": [
       "1. 'CUE'\n",
       "2. 'departamento'\n",
       "3. 'localidad'\n",
       "4. 'codigoPostal'\n",
       "5. 'anioLectivo'\n",
       "6. 'esPrivada'\n",
       "7. 'esMultianio'\n",
       "8. 'nivel'\n",
       "9. 'nivelEnsenanza'\n",
       "10. 'modalidad'\n",
       "11. 'idModEnsenanza'\n",
       "12. 'modEnsenanza'\n",
       "13. 'curso'\n",
       "14. 'turno'\n",
       "15. 'idAlumno'\n",
       "16. 'documento'\n",
       "17. 'asignatura'\n",
       "18. 'periodoEvaluatorio'\n",
       "19. 'nota'\n",
       "\n",
       "\n"
      ],
      "text/plain": [
       " [1] \"CUE\"                \"departamento\"       \"localidad\"         \n",
       " [4] \"codigoPostal\"       \"anioLectivo\"        \"esPrivada\"         \n",
       " [7] \"esMultianio\"        \"nivel\"              \"nivelEnsenanza\"    \n",
       "[10] \"modalidad\"          \"idModEnsenanza\"     \"modEnsenanza\"      \n",
       "[13] \"curso\"              \"turno\"              \"idAlumno\"          \n",
       "[16] \"documento\"          \"asignatura\"         \"periodoEvaluatorio\"\n",
       "[19] \"nota\"              "
      ]
     },
     "metadata": {},
     "output_type": "display_data"
    },
    {
     "data": {
      "text/html": [
       "<ol class=list-inline>\n",
       "\t<li>656615</li>\n",
       "\t<li>19</li>\n",
       "</ol>\n"
      ],
      "text/latex": [
       "\\begin{enumerate*}\n",
       "\\item 656615\n",
       "\\item 19\n",
       "\\end{enumerate*}\n"
      ],
      "text/markdown": [
       "1. 656615\n",
       "2. 19\n",
       "\n",
       "\n"
      ],
      "text/plain": [
       "[1] 656615     19"
      ]
     },
     "metadata": {},
     "output_type": "display_data"
    },
    {
     "data": {
      "text/plain": [
       " Diciembre Febrero Primer Trimestre Promoción Segundo Trimestre Tercer Trimestre\n",
       "                                                                                \n",
       "     19757    3080           220612     42253            200644           170269"
      ]
     },
     "metadata": {},
     "output_type": "display_data"
    }
   ],
   "source": [
    "# Reemplazo los datos \"Junio\" por \"Segundo Trimestre\"\n",
    "GUALEGUAY_variablesEsencialesOrdenadas$periodoEvaluatorio <- str_replace(GUALEGUAY_variablesEsencialesOrdenadas$periodoEvaluatorio, \"Junio\", \"Segundo Trimestre\")\n",
    "\n",
    "# Compruebo que el dataset siga con todas sus variables y registros\n",
    "names(GUALEGUAY_variablesEsencialesOrdenadas)\n",
    "dim(GUALEGUAY_variablesEsencialesOrdenadas)\n",
    "\n",
    "# Compruebo que se haya realizado correctamente la actualización de datos\n",
    "ftable(GUALEGUAY_variablesEsencialesOrdenadas$periodoEvaluatorio)"
   ]
  },
  {
   "cell_type": "markdown",
   "id": "d0e75b1d",
   "metadata": {},
   "source": [
    "Creo variables necesarias para resolver el análisis.  \n",
    "(Todavía no separo los niveles de enseñanza, voy a crear, organizar y filtrar todas las variables necesarias, y luego los separo)."
   ]
  },
  {
   "cell_type": "code",
   "execution_count": 17,
   "id": "f0dedd70",
   "metadata": {
    "vscode": {
     "languageId": "r"
    }
   },
   "outputs": [
    {
     "data": {
      "text/html": [
       "<ol class=list-inline>\n",
       "\t<li>'CUE'</li>\n",
       "\t<li>'departamento'</li>\n",
       "\t<li>'localidad'</li>\n",
       "\t<li>'codigoPostal'</li>\n",
       "\t<li>'anioLectivo'</li>\n",
       "\t<li>'esPrivada'</li>\n",
       "\t<li>'esMultianio'</li>\n",
       "\t<li>'nivel'</li>\n",
       "\t<li>'nivelEnsenanza'</li>\n",
       "\t<li>'modalidad'</li>\n",
       "\t<li>'idModEnsenanza'</li>\n",
       "\t<li>'modEnsenanza'</li>\n",
       "\t<li>'curso'</li>\n",
       "\t<li>'turno'</li>\n",
       "\t<li>'idAlumno'</li>\n",
       "\t<li>'documento'</li>\n",
       "\t<li>'asignatura'</li>\n",
       "\t<li>'periodoEvaluatorio'</li>\n",
       "\t<li>'notaPrimerT'</li>\n",
       "</ol>\n"
      ],
      "text/latex": [
       "\\begin{enumerate*}\n",
       "\\item 'CUE'\n",
       "\\item 'departamento'\n",
       "\\item 'localidad'\n",
       "\\item 'codigoPostal'\n",
       "\\item 'anioLectivo'\n",
       "\\item 'esPrivada'\n",
       "\\item 'esMultianio'\n",
       "\\item 'nivel'\n",
       "\\item 'nivelEnsenanza'\n",
       "\\item 'modalidad'\n",
       "\\item 'idModEnsenanza'\n",
       "\\item 'modEnsenanza'\n",
       "\\item 'curso'\n",
       "\\item 'turno'\n",
       "\\item 'idAlumno'\n",
       "\\item 'documento'\n",
       "\\item 'asignatura'\n",
       "\\item 'periodoEvaluatorio'\n",
       "\\item 'notaPrimerT'\n",
       "\\end{enumerate*}\n"
      ],
      "text/markdown": [
       "1. 'CUE'\n",
       "2. 'departamento'\n",
       "3. 'localidad'\n",
       "4. 'codigoPostal'\n",
       "5. 'anioLectivo'\n",
       "6. 'esPrivada'\n",
       "7. 'esMultianio'\n",
       "8. 'nivel'\n",
       "9. 'nivelEnsenanza'\n",
       "10. 'modalidad'\n",
       "11. 'idModEnsenanza'\n",
       "12. 'modEnsenanza'\n",
       "13. 'curso'\n",
       "14. 'turno'\n",
       "15. 'idAlumno'\n",
       "16. 'documento'\n",
       "17. 'asignatura'\n",
       "18. 'periodoEvaluatorio'\n",
       "19. 'notaPrimerT'\n",
       "\n",
       "\n"
      ],
      "text/plain": [
       " [1] \"CUE\"                \"departamento\"       \"localidad\"         \n",
       " [4] \"codigoPostal\"       \"anioLectivo\"        \"esPrivada\"         \n",
       " [7] \"esMultianio\"        \"nivel\"              \"nivelEnsenanza\"    \n",
       "[10] \"modalidad\"          \"idModEnsenanza\"     \"modEnsenanza\"      \n",
       "[13] \"curso\"              \"turno\"              \"idAlumno\"          \n",
       "[16] \"documento\"          \"asignatura\"         \"periodoEvaluatorio\"\n",
       "[19] \"notaPrimerT\"       "
      ]
     },
     "metadata": {},
     "output_type": "display_data"
    },
    {
     "data": {
      "text/html": [
       "<ol class=list-inline>\n",
       "\t<li>220612</li>\n",
       "\t<li>19</li>\n",
       "</ol>\n"
      ],
      "text/latex": [
       "\\begin{enumerate*}\n",
       "\\item 220612\n",
       "\\item 19\n",
       "\\end{enumerate*}\n"
      ],
      "text/markdown": [
       "1. 220612\n",
       "2. 19\n",
       "\n",
       "\n"
      ],
      "text/plain": [
       "[1] 220612     19"
      ]
     },
     "metadata": {},
     "output_type": "display_data"
    },
    {
     "data": {
      "text/html": [
       "<table>\n",
       "<thead><tr><th scope=col>CUE</th><th scope=col>departamento</th><th scope=col>localidad</th><th scope=col>codigoPostal</th><th scope=col>anioLectivo</th><th scope=col>esPrivada</th><th scope=col>esMultianio</th><th scope=col>nivel</th><th scope=col>nivelEnsenanza</th><th scope=col>modalidad</th><th scope=col>idModEnsenanza</th><th scope=col>modEnsenanza</th><th scope=col>curso</th><th scope=col>turno</th><th scope=col>idAlumno</th><th scope=col>documento</th><th scope=col>asignatura</th><th scope=col>periodoEvaluatorio</th><th scope=col>notaPrimerT</th></tr></thead>\n",
       "<tbody>\n",
       "\t<tr><td>6000752         </td><td>GUALEGUAY       </td><td>GUALEGUAY       </td><td>0               </td><td>2022            </td><td>N               </td><td>S               </td><td>2               </td><td>PRIMARIO        </td><td>Primaria        </td><td>5               </td><td>Comun           </td><td>1-6 - A Prim    </td><td>ROTATIVO        </td><td>781926          </td><td>54916911        </td><td>LENGUA          </td><td>Primer Trimestre</td><td>9               </td></tr>\n",
       "</tbody>\n",
       "</table>\n"
      ],
      "text/latex": [
       "\\begin{tabular}{r|lllllllllllllllllll}\n",
       " CUE & departamento & localidad & codigoPostal & anioLectivo & esPrivada & esMultianio & nivel & nivelEnsenanza & modalidad & idModEnsenanza & modEnsenanza & curso & turno & idAlumno & documento & asignatura & periodoEvaluatorio & notaPrimerT\\\\\n",
       "\\hline\n",
       "\t 6000752          & GUALEGUAY        & GUALEGUAY        & 0                & 2022             & N                & S                & 2                & PRIMARIO         & Primaria         & 5                & Comun            & 1-6 - A Prim     & ROTATIVO         & 781926           & 54916911         & LENGUA           & Primer Trimestre & 9               \\\\\n",
       "\\end{tabular}\n"
      ],
      "text/markdown": [
       "\n",
       "| CUE | departamento | localidad | codigoPostal | anioLectivo | esPrivada | esMultianio | nivel | nivelEnsenanza | modalidad | idModEnsenanza | modEnsenanza | curso | turno | idAlumno | documento | asignatura | periodoEvaluatorio | notaPrimerT |\n",
       "|---|---|---|---|---|---|---|---|---|---|---|---|---|---|---|---|---|---|---|\n",
       "| 6000752          | GUALEGUAY        | GUALEGUAY        | 0                | 2022             | N                | S                | 2                | PRIMARIO         | Primaria         | 5                | Comun            | 1-6 - A Prim     | ROTATIVO         | 781926           | 54916911         | LENGUA           | Primer Trimestre | 9                |\n",
       "\n"
      ],
      "text/plain": [
       "  CUE     departamento localidad codigoPostal anioLectivo esPrivada esMultianio\n",
       "1 6000752 GUALEGUAY    GUALEGUAY 0            2022        N         S          \n",
       "  nivel nivelEnsenanza modalidad idModEnsenanza modEnsenanza curso       \n",
       "1 2     PRIMARIO       Primaria  5              Comun        1-6 - A Prim\n",
       "  turno    idAlumno documento asignatura periodoEvaluatorio notaPrimerT\n",
       "1 ROTATIVO 781926   54916911  LENGUA     Primer Trimestre   9          "
      ]
     },
     "metadata": {},
     "output_type": "display_data"
    },
    {
     "data": {
      "text/html": [
       "<ol class=list-inline>\n",
       "\t<li>'CUE'</li>\n",
       "\t<li>'departamento'</li>\n",
       "\t<li>'localidad'</li>\n",
       "\t<li>'codigoPostal'</li>\n",
       "\t<li>'anioLectivo'</li>\n",
       "\t<li>'esPrivada'</li>\n",
       "\t<li>'esMultianio'</li>\n",
       "\t<li>'nivel'</li>\n",
       "\t<li>'nivelEnsenanza'</li>\n",
       "\t<li>'modalidad'</li>\n",
       "\t<li>'idModEnsenanza'</li>\n",
       "\t<li>'modEnsenanza'</li>\n",
       "\t<li>'curso'</li>\n",
       "\t<li>'turno'</li>\n",
       "\t<li>'idAlumno'</li>\n",
       "\t<li>'documento'</li>\n",
       "\t<li>'asignatura'</li>\n",
       "\t<li>'periodoEvaluatorio'</li>\n",
       "\t<li>'notaSegundoT'</li>\n",
       "</ol>\n"
      ],
      "text/latex": [
       "\\begin{enumerate*}\n",
       "\\item 'CUE'\n",
       "\\item 'departamento'\n",
       "\\item 'localidad'\n",
       "\\item 'codigoPostal'\n",
       "\\item 'anioLectivo'\n",
       "\\item 'esPrivada'\n",
       "\\item 'esMultianio'\n",
       "\\item 'nivel'\n",
       "\\item 'nivelEnsenanza'\n",
       "\\item 'modalidad'\n",
       "\\item 'idModEnsenanza'\n",
       "\\item 'modEnsenanza'\n",
       "\\item 'curso'\n",
       "\\item 'turno'\n",
       "\\item 'idAlumno'\n",
       "\\item 'documento'\n",
       "\\item 'asignatura'\n",
       "\\item 'periodoEvaluatorio'\n",
       "\\item 'notaSegundoT'\n",
       "\\end{enumerate*}\n"
      ],
      "text/markdown": [
       "1. 'CUE'\n",
       "2. 'departamento'\n",
       "3. 'localidad'\n",
       "4. 'codigoPostal'\n",
       "5. 'anioLectivo'\n",
       "6. 'esPrivada'\n",
       "7. 'esMultianio'\n",
       "8. 'nivel'\n",
       "9. 'nivelEnsenanza'\n",
       "10. 'modalidad'\n",
       "11. 'idModEnsenanza'\n",
       "12. 'modEnsenanza'\n",
       "13. 'curso'\n",
       "14. 'turno'\n",
       "15. 'idAlumno'\n",
       "16. 'documento'\n",
       "17. 'asignatura'\n",
       "18. 'periodoEvaluatorio'\n",
       "19. 'notaSegundoT'\n",
       "\n",
       "\n"
      ],
      "text/plain": [
       " [1] \"CUE\"                \"departamento\"       \"localidad\"         \n",
       " [4] \"codigoPostal\"       \"anioLectivo\"        \"esPrivada\"         \n",
       " [7] \"esMultianio\"        \"nivel\"              \"nivelEnsenanza\"    \n",
       "[10] \"modalidad\"          \"idModEnsenanza\"     \"modEnsenanza\"      \n",
       "[13] \"curso\"              \"turno\"              \"idAlumno\"          \n",
       "[16] \"documento\"          \"asignatura\"         \"periodoEvaluatorio\"\n",
       "[19] \"notaSegundoT\"      "
      ]
     },
     "metadata": {},
     "output_type": "display_data"
    },
    {
     "data": {
      "text/html": [
       "<ol class=list-inline>\n",
       "\t<li>200644</li>\n",
       "\t<li>19</li>\n",
       "</ol>\n"
      ],
      "text/latex": [
       "\\begin{enumerate*}\n",
       "\\item 200644\n",
       "\\item 19\n",
       "\\end{enumerate*}\n"
      ],
      "text/markdown": [
       "1. 200644\n",
       "2. 19\n",
       "\n",
       "\n"
      ],
      "text/plain": [
       "[1] 200644     19"
      ]
     },
     "metadata": {},
     "output_type": "display_data"
    },
    {
     "data": {
      "text/html": [
       "<table>\n",
       "<thead><tr><th scope=col>CUE</th><th scope=col>departamento</th><th scope=col>localidad</th><th scope=col>codigoPostal</th><th scope=col>anioLectivo</th><th scope=col>esPrivada</th><th scope=col>esMultianio</th><th scope=col>nivel</th><th scope=col>nivelEnsenanza</th><th scope=col>modalidad</th><th scope=col>idModEnsenanza</th><th scope=col>modEnsenanza</th><th scope=col>curso</th><th scope=col>turno</th><th scope=col>idAlumno</th><th scope=col>documento</th><th scope=col>asignatura</th><th scope=col>periodoEvaluatorio</th><th scope=col>notaSegundoT</th></tr></thead>\n",
       "<tbody>\n",
       "\t<tr><td>6000752          </td><td>GUALEGUAY        </td><td>GUALEGUAY        </td><td>0                </td><td>2022             </td><td>N                </td><td>S                </td><td>2                </td><td>PRIMARIO         </td><td>Primaria         </td><td>5                </td><td>Comun            </td><td>1-6 - A Prim     </td><td>ROTATIVO         </td><td>781926           </td><td>54916911         </td><td>LENGUA           </td><td>Segundo Trimestre</td><td>9                </td></tr>\n",
       "</tbody>\n",
       "</table>\n"
      ],
      "text/latex": [
       "\\begin{tabular}{r|lllllllllllllllllll}\n",
       " CUE & departamento & localidad & codigoPostal & anioLectivo & esPrivada & esMultianio & nivel & nivelEnsenanza & modalidad & idModEnsenanza & modEnsenanza & curso & turno & idAlumno & documento & asignatura & periodoEvaluatorio & notaSegundoT\\\\\n",
       "\\hline\n",
       "\t 6000752           & GUALEGUAY         & GUALEGUAY         & 0                 & 2022              & N                 & S                 & 2                 & PRIMARIO          & Primaria          & 5                 & Comun             & 1-6 - A Prim      & ROTATIVO          & 781926            & 54916911          & LENGUA            & Segundo Trimestre & 9                \\\\\n",
       "\\end{tabular}\n"
      ],
      "text/markdown": [
       "\n",
       "| CUE | departamento | localidad | codigoPostal | anioLectivo | esPrivada | esMultianio | nivel | nivelEnsenanza | modalidad | idModEnsenanza | modEnsenanza | curso | turno | idAlumno | documento | asignatura | periodoEvaluatorio | notaSegundoT |\n",
       "|---|---|---|---|---|---|---|---|---|---|---|---|---|---|---|---|---|---|---|\n",
       "| 6000752           | GUALEGUAY         | GUALEGUAY         | 0                 | 2022              | N                 | S                 | 2                 | PRIMARIO          | Primaria          | 5                 | Comun             | 1-6 - A Prim      | ROTATIVO          | 781926            | 54916911          | LENGUA            | Segundo Trimestre | 9                 |\n",
       "\n"
      ],
      "text/plain": [
       "  CUE     departamento localidad codigoPostal anioLectivo esPrivada esMultianio\n",
       "1 6000752 GUALEGUAY    GUALEGUAY 0            2022        N         S          \n",
       "  nivel nivelEnsenanza modalidad idModEnsenanza modEnsenanza curso       \n",
       "1 2     PRIMARIO       Primaria  5              Comun        1-6 - A Prim\n",
       "  turno    idAlumno documento asignatura periodoEvaluatorio notaSegundoT\n",
       "1 ROTATIVO 781926   54916911  LENGUA     Segundo Trimestre  9           "
      ]
     },
     "metadata": {},
     "output_type": "display_data"
    },
    {
     "data": {
      "text/html": [
       "<ol class=list-inline>\n",
       "\t<li>'CUE'</li>\n",
       "\t<li>'departamento'</li>\n",
       "\t<li>'localidad'</li>\n",
       "\t<li>'codigoPostal'</li>\n",
       "\t<li>'anioLectivo'</li>\n",
       "\t<li>'esPrivada'</li>\n",
       "\t<li>'esMultianio'</li>\n",
       "\t<li>'nivel'</li>\n",
       "\t<li>'nivelEnsenanza'</li>\n",
       "\t<li>'modalidad'</li>\n",
       "\t<li>'idModEnsenanza'</li>\n",
       "\t<li>'modEnsenanza'</li>\n",
       "\t<li>'curso'</li>\n",
       "\t<li>'turno'</li>\n",
       "\t<li>'idAlumno'</li>\n",
       "\t<li>'documento'</li>\n",
       "\t<li>'asignatura'</li>\n",
       "\t<li>'periodoEvaluatorio'</li>\n",
       "\t<li>'notaTercerT'</li>\n",
       "</ol>\n"
      ],
      "text/latex": [
       "\\begin{enumerate*}\n",
       "\\item 'CUE'\n",
       "\\item 'departamento'\n",
       "\\item 'localidad'\n",
       "\\item 'codigoPostal'\n",
       "\\item 'anioLectivo'\n",
       "\\item 'esPrivada'\n",
       "\\item 'esMultianio'\n",
       "\\item 'nivel'\n",
       "\\item 'nivelEnsenanza'\n",
       "\\item 'modalidad'\n",
       "\\item 'idModEnsenanza'\n",
       "\\item 'modEnsenanza'\n",
       "\\item 'curso'\n",
       "\\item 'turno'\n",
       "\\item 'idAlumno'\n",
       "\\item 'documento'\n",
       "\\item 'asignatura'\n",
       "\\item 'periodoEvaluatorio'\n",
       "\\item 'notaTercerT'\n",
       "\\end{enumerate*}\n"
      ],
      "text/markdown": [
       "1. 'CUE'\n",
       "2. 'departamento'\n",
       "3. 'localidad'\n",
       "4. 'codigoPostal'\n",
       "5. 'anioLectivo'\n",
       "6. 'esPrivada'\n",
       "7. 'esMultianio'\n",
       "8. 'nivel'\n",
       "9. 'nivelEnsenanza'\n",
       "10. 'modalidad'\n",
       "11. 'idModEnsenanza'\n",
       "12. 'modEnsenanza'\n",
       "13. 'curso'\n",
       "14. 'turno'\n",
       "15. 'idAlumno'\n",
       "16. 'documento'\n",
       "17. 'asignatura'\n",
       "18. 'periodoEvaluatorio'\n",
       "19. 'notaTercerT'\n",
       "\n",
       "\n"
      ],
      "text/plain": [
       " [1] \"CUE\"                \"departamento\"       \"localidad\"         \n",
       " [4] \"codigoPostal\"       \"anioLectivo\"        \"esPrivada\"         \n",
       " [7] \"esMultianio\"        \"nivel\"              \"nivelEnsenanza\"    \n",
       "[10] \"modalidad\"          \"idModEnsenanza\"     \"modEnsenanza\"      \n",
       "[13] \"curso\"              \"turno\"              \"idAlumno\"          \n",
       "[16] \"documento\"          \"asignatura\"         \"periodoEvaluatorio\"\n",
       "[19] \"notaTercerT\"       "
      ]
     },
     "metadata": {},
     "output_type": "display_data"
    },
    {
     "data": {
      "text/html": [
       "<ol class=list-inline>\n",
       "\t<li>170269</li>\n",
       "\t<li>19</li>\n",
       "</ol>\n"
      ],
      "text/latex": [
       "\\begin{enumerate*}\n",
       "\\item 170269\n",
       "\\item 19\n",
       "\\end{enumerate*}\n"
      ],
      "text/markdown": [
       "1. 170269\n",
       "2. 19\n",
       "\n",
       "\n"
      ],
      "text/plain": [
       "[1] 170269     19"
      ]
     },
     "metadata": {},
     "output_type": "display_data"
    },
    {
     "data": {
      "text/html": [
       "<table>\n",
       "<thead><tr><th scope=col>CUE</th><th scope=col>departamento</th><th scope=col>localidad</th><th scope=col>codigoPostal</th><th scope=col>anioLectivo</th><th scope=col>esPrivada</th><th scope=col>esMultianio</th><th scope=col>nivel</th><th scope=col>nivelEnsenanza</th><th scope=col>modalidad</th><th scope=col>idModEnsenanza</th><th scope=col>modEnsenanza</th><th scope=col>curso</th><th scope=col>turno</th><th scope=col>idAlumno</th><th scope=col>documento</th><th scope=col>asignatura</th><th scope=col>periodoEvaluatorio</th><th scope=col>notaTercerT</th></tr></thead>\n",
       "<tbody>\n",
       "\t<tr><td>6000752              </td><td>GUALEGUAY            </td><td>GUALEGUAY            </td><td>0                    </td><td>2022                 </td><td>N                    </td><td>S                    </td><td>2                    </td><td>PRIMARIO             </td><td>Primaria             </td><td>5                    </td><td>Comun                </td><td>1-6 - A Prim         </td><td>ROTATIVO             </td><td>781926               </td><td>54916911             </td><td>EDUCACION TECNOLOGICA</td><td>Tercer Trimestre     </td><td>9                    </td></tr>\n",
       "</tbody>\n",
       "</table>\n"
      ],
      "text/latex": [
       "\\begin{tabular}{r|lllllllllllllllllll}\n",
       " CUE & departamento & localidad & codigoPostal & anioLectivo & esPrivada & esMultianio & nivel & nivelEnsenanza & modalidad & idModEnsenanza & modEnsenanza & curso & turno & idAlumno & documento & asignatura & periodoEvaluatorio & notaTercerT\\\\\n",
       "\\hline\n",
       "\t 6000752               & GUALEGUAY             & GUALEGUAY             & 0                     & 2022                  & N                     & S                     & 2                     & PRIMARIO              & Primaria              & 5                     & Comun                 & 1-6 - A Prim          & ROTATIVO              & 781926                & 54916911              & EDUCACION TECNOLOGICA & Tercer Trimestre      & 9                    \\\\\n",
       "\\end{tabular}\n"
      ],
      "text/markdown": [
       "\n",
       "| CUE | departamento | localidad | codigoPostal | anioLectivo | esPrivada | esMultianio | nivel | nivelEnsenanza | modalidad | idModEnsenanza | modEnsenanza | curso | turno | idAlumno | documento | asignatura | periodoEvaluatorio | notaTercerT |\n",
       "|---|---|---|---|---|---|---|---|---|---|---|---|---|---|---|---|---|---|---|\n",
       "| 6000752               | GUALEGUAY             | GUALEGUAY             | 0                     | 2022                  | N                     | S                     | 2                     | PRIMARIO              | Primaria              | 5                     | Comun                 | 1-6 - A Prim          | ROTATIVO              | 781926                | 54916911              | EDUCACION TECNOLOGICA | Tercer Trimestre      | 9                     |\n",
       "\n"
      ],
      "text/plain": [
       "  CUE     departamento localidad codigoPostal anioLectivo esPrivada esMultianio\n",
       "1 6000752 GUALEGUAY    GUALEGUAY 0            2022        N         S          \n",
       "  nivel nivelEnsenanza modalidad idModEnsenanza modEnsenanza curso       \n",
       "1 2     PRIMARIO       Primaria  5              Comun        1-6 - A Prim\n",
       "  turno    idAlumno documento asignatura            periodoEvaluatorio\n",
       "1 ROTATIVO 781926   54916911  EDUCACION TECNOLOGICA Tercer Trimestre  \n",
       "  notaTercerT\n",
       "1 9          "
      ]
     },
     "metadata": {},
     "output_type": "display_data"
    }
   ],
   "source": [
    "# Crear variables de trimestres filtrando por \"periodoEvaluatorio\"\n",
    "\n",
    "# Primer Trimestre\n",
    "GUALEGUAY_primerTrimestre <- filter(GUALEGUAY_variablesEsencialesOrdenadas, periodoEvaluatorio==\"Primer Trimestre\")\n",
    "GUALEGUAY_primerTrimestre <- rename(GUALEGUAY_primerTrimestre, notaPrimerT = nota)\n",
    "names(GUALEGUAY_primerTrimestre)\n",
    "dim(GUALEGUAY_primerTrimestre)\n",
    "head(GUALEGUAY_primerTrimestre,1)\n",
    "\n",
    "# Segundo Trimestre\n",
    "GUALEGUAY_segundoTrimestre <- filter(GUALEGUAY_variablesEsencialesOrdenadas, periodoEvaluatorio==\"Segundo Trimestre\")\n",
    "GUALEGUAY_segundoTrimestre <- rename(GUALEGUAY_segundoTrimestre, notaSegundoT = nota)\n",
    "names(GUALEGUAY_segundoTrimestre)\n",
    "dim(GUALEGUAY_segundoTrimestre)\n",
    "head(GUALEGUAY_segundoTrimestre,1)\n",
    "\n",
    "# Tercer Trimestre\n",
    "GUALEGUAY_tercerTrimestre <- filter(GUALEGUAY_variablesEsencialesOrdenadas, periodoEvaluatorio==\"Tercer Trimestre\")\n",
    "GUALEGUAY_tercerTrimestre <- rename(GUALEGUAY_tercerTrimestre, notaTercerT = nota)\n",
    "names(GUALEGUAY_tercerTrimestre)\n",
    "dim(GUALEGUAY_tercerTrimestre)\n",
    "head(GUALEGUAY_tercerTrimestre,1)"
   ]
  },
  {
   "cell_type": "markdown",
   "id": "13d980d2",
   "metadata": {},
   "source": [
    "Combino los dataframes de los trimestres, para luego unificarlos en el dataframe principal."
   ]
  },
  {
   "cell_type": "code",
   "execution_count": 18,
   "id": "ff41efef",
   "metadata": {
    "vscode": {
     "languageId": "r"
    }
   },
   "outputs": [
    {
     "data": {
      "text/html": [
       "<ol class=list-inline>\n",
       "\t<li>'idAlumno'</li>\n",
       "\t<li>'documento'</li>\n",
       "\t<li>'asignatura'</li>\n",
       "\t<li>'CUE.x'</li>\n",
       "\t<li>'departamento.x'</li>\n",
       "\t<li>'localidad.x'</li>\n",
       "\t<li>'codigoPostal.x'</li>\n",
       "\t<li>'anioLectivo.x'</li>\n",
       "\t<li>'esPrivada.x'</li>\n",
       "\t<li>'esMultianio.x'</li>\n",
       "\t<li>'nivel.x'</li>\n",
       "\t<li>'nivelEnsenanza.x'</li>\n",
       "\t<li>'modalidad.x'</li>\n",
       "\t<li>'idModEnsenanza.x'</li>\n",
       "\t<li>'modEnsenanza.x'</li>\n",
       "\t<li>'curso.x'</li>\n",
       "\t<li>'turno.x'</li>\n",
       "\t<li>'periodoEvaluatorio.x'</li>\n",
       "\t<li>'notaPrimerT'</li>\n",
       "\t<li>'CUE.y'</li>\n",
       "\t<li>'departamento.y'</li>\n",
       "\t<li>'localidad.y'</li>\n",
       "\t<li>'codigoPostal.y'</li>\n",
       "\t<li>'anioLectivo.y'</li>\n",
       "\t<li>'esPrivada.y'</li>\n",
       "\t<li>'esMultianio.y'</li>\n",
       "\t<li>'nivel.y'</li>\n",
       "\t<li>'nivelEnsenanza.y'</li>\n",
       "\t<li>'modalidad.y'</li>\n",
       "\t<li>'idModEnsenanza.y'</li>\n",
       "\t<li>'modEnsenanza.y'</li>\n",
       "\t<li>'curso.y'</li>\n",
       "\t<li>'turno.y'</li>\n",
       "\t<li>'periodoEvaluatorio.y'</li>\n",
       "\t<li>'notaSegundoT'</li>\n",
       "</ol>\n"
      ],
      "text/latex": [
       "\\begin{enumerate*}\n",
       "\\item 'idAlumno'\n",
       "\\item 'documento'\n",
       "\\item 'asignatura'\n",
       "\\item 'CUE.x'\n",
       "\\item 'departamento.x'\n",
       "\\item 'localidad.x'\n",
       "\\item 'codigoPostal.x'\n",
       "\\item 'anioLectivo.x'\n",
       "\\item 'esPrivada.x'\n",
       "\\item 'esMultianio.x'\n",
       "\\item 'nivel.x'\n",
       "\\item 'nivelEnsenanza.x'\n",
       "\\item 'modalidad.x'\n",
       "\\item 'idModEnsenanza.x'\n",
       "\\item 'modEnsenanza.x'\n",
       "\\item 'curso.x'\n",
       "\\item 'turno.x'\n",
       "\\item 'periodoEvaluatorio.x'\n",
       "\\item 'notaPrimerT'\n",
       "\\item 'CUE.y'\n",
       "\\item 'departamento.y'\n",
       "\\item 'localidad.y'\n",
       "\\item 'codigoPostal.y'\n",
       "\\item 'anioLectivo.y'\n",
       "\\item 'esPrivada.y'\n",
       "\\item 'esMultianio.y'\n",
       "\\item 'nivel.y'\n",
       "\\item 'nivelEnsenanza.y'\n",
       "\\item 'modalidad.y'\n",
       "\\item 'idModEnsenanza.y'\n",
       "\\item 'modEnsenanza.y'\n",
       "\\item 'curso.y'\n",
       "\\item 'turno.y'\n",
       "\\item 'periodoEvaluatorio.y'\n",
       "\\item 'notaSegundoT'\n",
       "\\end{enumerate*}\n"
      ],
      "text/markdown": [
       "1. 'idAlumno'\n",
       "2. 'documento'\n",
       "3. 'asignatura'\n",
       "4. 'CUE.x'\n",
       "5. 'departamento.x'\n",
       "6. 'localidad.x'\n",
       "7. 'codigoPostal.x'\n",
       "8. 'anioLectivo.x'\n",
       "9. 'esPrivada.x'\n",
       "10. 'esMultianio.x'\n",
       "11. 'nivel.x'\n",
       "12. 'nivelEnsenanza.x'\n",
       "13. 'modalidad.x'\n",
       "14. 'idModEnsenanza.x'\n",
       "15. 'modEnsenanza.x'\n",
       "16. 'curso.x'\n",
       "17. 'turno.x'\n",
       "18. 'periodoEvaluatorio.x'\n",
       "19. 'notaPrimerT'\n",
       "20. 'CUE.y'\n",
       "21. 'departamento.y'\n",
       "22. 'localidad.y'\n",
       "23. 'codigoPostal.y'\n",
       "24. 'anioLectivo.y'\n",
       "25. 'esPrivada.y'\n",
       "26. 'esMultianio.y'\n",
       "27. 'nivel.y'\n",
       "28. 'nivelEnsenanza.y'\n",
       "29. 'modalidad.y'\n",
       "30. 'idModEnsenanza.y'\n",
       "31. 'modEnsenanza.y'\n",
       "32. 'curso.y'\n",
       "33. 'turno.y'\n",
       "34. 'periodoEvaluatorio.y'\n",
       "35. 'notaSegundoT'\n",
       "\n",
       "\n"
      ],
      "text/plain": [
       " [1] \"idAlumno\"             \"documento\"            \"asignatura\"          \n",
       " [4] \"CUE.x\"                \"departamento.x\"       \"localidad.x\"         \n",
       " [7] \"codigoPostal.x\"       \"anioLectivo.x\"        \"esPrivada.x\"         \n",
       "[10] \"esMultianio.x\"        \"nivel.x\"              \"nivelEnsenanza.x\"    \n",
       "[13] \"modalidad.x\"          \"idModEnsenanza.x\"     \"modEnsenanza.x\"      \n",
       "[16] \"curso.x\"              \"turno.x\"              \"periodoEvaluatorio.x\"\n",
       "[19] \"notaPrimerT\"          \"CUE.y\"                \"departamento.y\"      \n",
       "[22] \"localidad.y\"          \"codigoPostal.y\"       \"anioLectivo.y\"       \n",
       "[25] \"esPrivada.y\"          \"esMultianio.y\"        \"nivel.y\"             \n",
       "[28] \"nivelEnsenanza.y\"     \"modalidad.y\"          \"idModEnsenanza.y\"    \n",
       "[31] \"modEnsenanza.y\"       \"curso.y\"              \"turno.y\"             \n",
       "[34] \"periodoEvaluatorio.y\" \"notaSegundoT\"        "
      ]
     },
     "metadata": {},
     "output_type": "display_data"
    },
    {
     "data": {
      "text/html": [
       "<ol class=list-inline>\n",
       "\t<li>259225</li>\n",
       "\t<li>35</li>\n",
       "</ol>\n"
      ],
      "text/latex": [
       "\\begin{enumerate*}\n",
       "\\item 259225\n",
       "\\item 35\n",
       "\\end{enumerate*}\n"
      ],
      "text/markdown": [
       "1. 259225\n",
       "2. 35\n",
       "\n",
       "\n"
      ],
      "text/plain": [
       "[1] 259225     35"
      ]
     },
     "metadata": {},
     "output_type": "display_data"
    },
    {
     "data": {
      "text/html": [
       "<table>\n",
       "<thead><tr><th scope=col>idAlumno</th><th scope=col>documento</th><th scope=col>asignatura</th><th scope=col>CUE.x</th><th scope=col>departamento.x</th><th scope=col>localidad.x</th><th scope=col>codigoPostal.x</th><th scope=col>anioLectivo.x</th><th scope=col>esPrivada.x</th><th scope=col>esMultianio.x</th><th scope=col>...</th><th scope=col>esMultianio.y</th><th scope=col>nivel.y</th><th scope=col>nivelEnsenanza.y</th><th scope=col>modalidad.y</th><th scope=col>idModEnsenanza.y</th><th scope=col>modEnsenanza.y</th><th scope=col>curso.y</th><th scope=col>turno.y</th><th scope=col>periodoEvaluatorio.y</th><th scope=col>notaSegundoT</th></tr></thead>\n",
       "<tbody>\n",
       "\t<tr><td>1000114          </td><td>50072015         </td><td>ARTES VISUALES   </td><td>6005352          </td><td>GUALEGUAY        </td><td>GUALEGUAY        </td><td>3190             </td><td>2022             </td><td>N                </td><td>N                </td><td>...              </td><td>N                </td><td>3                </td><td>SECUNDARIO       </td><td>Secundaria       </td><td>5                </td><td>Comun            </td><td>1 - E CBC        </td><td>TARDE            </td><td>Segundo Trimestre</td><td>8                </td></tr>\n",
       "</tbody>\n",
       "</table>\n"
      ],
      "text/latex": [
       "\\begin{tabular}{r|lllllllllllllllllllllllllllllllllll}\n",
       " idAlumno & documento & asignatura & CUE.x & departamento.x & localidad.x & codigoPostal.x & anioLectivo.x & esPrivada.x & esMultianio.x & ... & esMultianio.y & nivel.y & nivelEnsenanza.y & modalidad.y & idModEnsenanza.y & modEnsenanza.y & curso.y & turno.y & periodoEvaluatorio.y & notaSegundoT\\\\\n",
       "\\hline\n",
       "\t 1000114           & 50072015          & ARTES VISUALES    & 6005352           & GUALEGUAY         & GUALEGUAY         & 3190              & 2022              & N                 & N                 & ...               & N                 & 3                 & SECUNDARIO        & Secundaria        & 5                 & Comun             & 1 - E CBC         & TARDE             & Segundo Trimestre & 8                \\\\\n",
       "\\end{tabular}\n"
      ],
      "text/markdown": [
       "\n",
       "| idAlumno | documento | asignatura | CUE.x | departamento.x | localidad.x | codigoPostal.x | anioLectivo.x | esPrivada.x | esMultianio.x | ... | esMultianio.y | nivel.y | nivelEnsenanza.y | modalidad.y | idModEnsenanza.y | modEnsenanza.y | curso.y | turno.y | periodoEvaluatorio.y | notaSegundoT |\n",
       "|---|---|---|---|---|---|---|---|---|---|---|---|---|---|---|---|---|---|---|---|---|\n",
       "| 1000114           | 50072015          | ARTES VISUALES    | 6005352           | GUALEGUAY         | GUALEGUAY         | 3190              | 2022              | N                 | N                 | ...               | N                 | 3                 | SECUNDARIO        | Secundaria        | 5                 | Comun             | 1 - E CBC         | TARDE             | Segundo Trimestre | 8                 |\n",
       "\n"
      ],
      "text/plain": [
       "  idAlumno documento asignatura     CUE.x   departamento.x localidad.x\n",
       "1 1000114  50072015  ARTES VISUALES 6005352 GUALEGUAY      GUALEGUAY  \n",
       "  codigoPostal.x anioLectivo.x esPrivada.x esMultianio.x ... esMultianio.y\n",
       "1 3190           2022          N           N             ... N            \n",
       "  nivel.y nivelEnsenanza.y modalidad.y idModEnsenanza.y modEnsenanza.y\n",
       "1 3       SECUNDARIO       Secundaria  5                Comun         \n",
       "  curso.y   turno.y periodoEvaluatorio.y notaSegundoT\n",
       "1 1 - E CBC TARDE   Segundo Trimestre    8           "
      ]
     },
     "metadata": {},
     "output_type": "display_data"
    },
    {
     "data": {
      "text/html": [
       "<ol class=list-inline>\n",
       "\t<li>'idAlumno'</li>\n",
       "\t<li>'documento'</li>\n",
       "\t<li>'asignatura'</li>\n",
       "\t<li>'CUE.x'</li>\n",
       "\t<li>'departamento.x'</li>\n",
       "\t<li>'localidad.x'</li>\n",
       "\t<li>'codigoPostal.x'</li>\n",
       "\t<li>'anioLectivo.x'</li>\n",
       "\t<li>'esPrivada.x'</li>\n",
       "\t<li>'esMultianio.x'</li>\n",
       "\t<li>'nivel.x'</li>\n",
       "\t<li>'nivelEnsenanza.x'</li>\n",
       "\t<li>'modalidad.x'</li>\n",
       "\t<li>'idModEnsenanza.x'</li>\n",
       "\t<li>'modEnsenanza.x'</li>\n",
       "\t<li>'curso.x'</li>\n",
       "\t<li>'turno.x'</li>\n",
       "\t<li>'periodoEvaluatorio.x'</li>\n",
       "\t<li>'notaPrimerT'</li>\n",
       "\t<li>'CUE.y'</li>\n",
       "\t<li>'departamento.y'</li>\n",
       "\t<li>'localidad.y'</li>\n",
       "\t<li>'codigoPostal.y'</li>\n",
       "\t<li>'anioLectivo.y'</li>\n",
       "\t<li>'esPrivada.y'</li>\n",
       "\t<li>'esMultianio.y'</li>\n",
       "\t<li>'nivel.y'</li>\n",
       "\t<li>'nivelEnsenanza.y'</li>\n",
       "\t<li>'modalidad.y'</li>\n",
       "\t<li>'idModEnsenanza.y'</li>\n",
       "\t<li>'modEnsenanza.y'</li>\n",
       "\t<li>'curso.y'</li>\n",
       "\t<li>'turno.y'</li>\n",
       "\t<li>'periodoEvaluatorio.y'</li>\n",
       "\t<li>'notaSegundoT'</li>\n",
       "\t<li>'CUE'</li>\n",
       "\t<li>'departamento'</li>\n",
       "\t<li>'localidad'</li>\n",
       "\t<li>'codigoPostal'</li>\n",
       "\t<li>'anioLectivo'</li>\n",
       "\t<li>'esPrivada'</li>\n",
       "\t<li>'esMultianio'</li>\n",
       "\t<li>'nivel'</li>\n",
       "\t<li>'nivelEnsenanza'</li>\n",
       "\t<li>'modalidad'</li>\n",
       "\t<li>'idModEnsenanza'</li>\n",
       "\t<li>'modEnsenanza'</li>\n",
       "\t<li>'curso'</li>\n",
       "\t<li>'turno'</li>\n",
       "\t<li>'periodoEvaluatorio'</li>\n",
       "\t<li>'notaTercerT'</li>\n",
       "</ol>\n"
      ],
      "text/latex": [
       "\\begin{enumerate*}\n",
       "\\item 'idAlumno'\n",
       "\\item 'documento'\n",
       "\\item 'asignatura'\n",
       "\\item 'CUE.x'\n",
       "\\item 'departamento.x'\n",
       "\\item 'localidad.x'\n",
       "\\item 'codigoPostal.x'\n",
       "\\item 'anioLectivo.x'\n",
       "\\item 'esPrivada.x'\n",
       "\\item 'esMultianio.x'\n",
       "\\item 'nivel.x'\n",
       "\\item 'nivelEnsenanza.x'\n",
       "\\item 'modalidad.x'\n",
       "\\item 'idModEnsenanza.x'\n",
       "\\item 'modEnsenanza.x'\n",
       "\\item 'curso.x'\n",
       "\\item 'turno.x'\n",
       "\\item 'periodoEvaluatorio.x'\n",
       "\\item 'notaPrimerT'\n",
       "\\item 'CUE.y'\n",
       "\\item 'departamento.y'\n",
       "\\item 'localidad.y'\n",
       "\\item 'codigoPostal.y'\n",
       "\\item 'anioLectivo.y'\n",
       "\\item 'esPrivada.y'\n",
       "\\item 'esMultianio.y'\n",
       "\\item 'nivel.y'\n",
       "\\item 'nivelEnsenanza.y'\n",
       "\\item 'modalidad.y'\n",
       "\\item 'idModEnsenanza.y'\n",
       "\\item 'modEnsenanza.y'\n",
       "\\item 'curso.y'\n",
       "\\item 'turno.y'\n",
       "\\item 'periodoEvaluatorio.y'\n",
       "\\item 'notaSegundoT'\n",
       "\\item 'CUE'\n",
       "\\item 'departamento'\n",
       "\\item 'localidad'\n",
       "\\item 'codigoPostal'\n",
       "\\item 'anioLectivo'\n",
       "\\item 'esPrivada'\n",
       "\\item 'esMultianio'\n",
       "\\item 'nivel'\n",
       "\\item 'nivelEnsenanza'\n",
       "\\item 'modalidad'\n",
       "\\item 'idModEnsenanza'\n",
       "\\item 'modEnsenanza'\n",
       "\\item 'curso'\n",
       "\\item 'turno'\n",
       "\\item 'periodoEvaluatorio'\n",
       "\\item 'notaTercerT'\n",
       "\\end{enumerate*}\n"
      ],
      "text/markdown": [
       "1. 'idAlumno'\n",
       "2. 'documento'\n",
       "3. 'asignatura'\n",
       "4. 'CUE.x'\n",
       "5. 'departamento.x'\n",
       "6. 'localidad.x'\n",
       "7. 'codigoPostal.x'\n",
       "8. 'anioLectivo.x'\n",
       "9. 'esPrivada.x'\n",
       "10. 'esMultianio.x'\n",
       "11. 'nivel.x'\n",
       "12. 'nivelEnsenanza.x'\n",
       "13. 'modalidad.x'\n",
       "14. 'idModEnsenanza.x'\n",
       "15. 'modEnsenanza.x'\n",
       "16. 'curso.x'\n",
       "17. 'turno.x'\n",
       "18. 'periodoEvaluatorio.x'\n",
       "19. 'notaPrimerT'\n",
       "20. 'CUE.y'\n",
       "21. 'departamento.y'\n",
       "22. 'localidad.y'\n",
       "23. 'codigoPostal.y'\n",
       "24. 'anioLectivo.y'\n",
       "25. 'esPrivada.y'\n",
       "26. 'esMultianio.y'\n",
       "27. 'nivel.y'\n",
       "28. 'nivelEnsenanza.y'\n",
       "29. 'modalidad.y'\n",
       "30. 'idModEnsenanza.y'\n",
       "31. 'modEnsenanza.y'\n",
       "32. 'curso.y'\n",
       "33. 'turno.y'\n",
       "34. 'periodoEvaluatorio.y'\n",
       "35. 'notaSegundoT'\n",
       "36. 'CUE'\n",
       "37. 'departamento'\n",
       "38. 'localidad'\n",
       "39. 'codigoPostal'\n",
       "40. 'anioLectivo'\n",
       "41. 'esPrivada'\n",
       "42. 'esMultianio'\n",
       "43. 'nivel'\n",
       "44. 'nivelEnsenanza'\n",
       "45. 'modalidad'\n",
       "46. 'idModEnsenanza'\n",
       "47. 'modEnsenanza'\n",
       "48. 'curso'\n",
       "49. 'turno'\n",
       "50. 'periodoEvaluatorio'\n",
       "51. 'notaTercerT'\n",
       "\n",
       "\n"
      ],
      "text/plain": [
       " [1] \"idAlumno\"             \"documento\"            \"asignatura\"          \n",
       " [4] \"CUE.x\"                \"departamento.x\"       \"localidad.x\"         \n",
       " [7] \"codigoPostal.x\"       \"anioLectivo.x\"        \"esPrivada.x\"         \n",
       "[10] \"esMultianio.x\"        \"nivel.x\"              \"nivelEnsenanza.x\"    \n",
       "[13] \"modalidad.x\"          \"idModEnsenanza.x\"     \"modEnsenanza.x\"      \n",
       "[16] \"curso.x\"              \"turno.x\"              \"periodoEvaluatorio.x\"\n",
       "[19] \"notaPrimerT\"          \"CUE.y\"                \"departamento.y\"      \n",
       "[22] \"localidad.y\"          \"codigoPostal.y\"       \"anioLectivo.y\"       \n",
       "[25] \"esPrivada.y\"          \"esMultianio.y\"        \"nivel.y\"             \n",
       "[28] \"nivelEnsenanza.y\"     \"modalidad.y\"          \"idModEnsenanza.y\"    \n",
       "[31] \"modEnsenanza.y\"       \"curso.y\"              \"turno.y\"             \n",
       "[34] \"periodoEvaluatorio.y\" \"notaSegundoT\"         \"CUE\"                 \n",
       "[37] \"departamento\"         \"localidad\"            \"codigoPostal\"        \n",
       "[40] \"anioLectivo\"          \"esPrivada\"            \"esMultianio\"         \n",
       "[43] \"nivel\"                \"nivelEnsenanza\"       \"modalidad\"           \n",
       "[46] \"idModEnsenanza\"       \"modEnsenanza\"         \"curso\"               \n",
       "[49] \"turno\"                \"periodoEvaluatorio\"   \"notaTercerT\"         "
      ]
     },
     "metadata": {},
     "output_type": "display_data"
    },
    {
     "data": {
      "text/html": [
       "<ol class=list-inline>\n",
       "\t<li>360544</li>\n",
       "\t<li>51</li>\n",
       "</ol>\n"
      ],
      "text/latex": [
       "\\begin{enumerate*}\n",
       "\\item 360544\n",
       "\\item 51\n",
       "\\end{enumerate*}\n"
      ],
      "text/markdown": [
       "1. 360544\n",
       "2. 51\n",
       "\n",
       "\n"
      ],
      "text/plain": [
       "[1] 360544     51"
      ]
     },
     "metadata": {},
     "output_type": "display_data"
    },
    {
     "data": {
      "text/html": [
       "<table>\n",
       "<thead><tr><th scope=col>idAlumno</th><th scope=col>documento</th><th scope=col>asignatura</th><th scope=col>CUE.x</th><th scope=col>departamento.x</th><th scope=col>localidad.x</th><th scope=col>codigoPostal.x</th><th scope=col>anioLectivo.x</th><th scope=col>esPrivada.x</th><th scope=col>esMultianio.x</th><th scope=col>...</th><th scope=col>esMultianio</th><th scope=col>nivel</th><th scope=col>nivelEnsenanza</th><th scope=col>modalidad</th><th scope=col>idModEnsenanza</th><th scope=col>modEnsenanza</th><th scope=col>curso</th><th scope=col>turno</th><th scope=col>periodoEvaluatorio</th><th scope=col>notaTercerT</th></tr></thead>\n",
       "<tbody>\n",
       "\t<tr><td>1000114            </td><td>50072015           </td><td>LENGUA Y LITERATURA</td><td>6005352            </td><td>GUALEGUAY          </td><td>GUALEGUAY          </td><td>3190               </td><td>2022               </td><td>N                  </td><td>N                  </td><td>...                </td><td>N                  </td><td>3                  </td><td>SECUNDARIO         </td><td>Secundaria         </td><td>5                  </td><td>Comun              </td><td>1 - E CBC          </td><td>TARDE              </td><td>Tercer Trimestre   </td><td>9                  </td></tr>\n",
       "</tbody>\n",
       "</table>\n"
      ],
      "text/latex": [
       "\\begin{tabular}{r|lllllllllllllllllllllllllllllllllllllllllllllllllll}\n",
       " idAlumno & documento & asignatura & CUE.x & departamento.x & localidad.x & codigoPostal.x & anioLectivo.x & esPrivada.x & esMultianio.x & ... & esMultianio & nivel & nivelEnsenanza & modalidad & idModEnsenanza & modEnsenanza & curso & turno & periodoEvaluatorio & notaTercerT\\\\\n",
       "\\hline\n",
       "\t 1000114             & 50072015            & LENGUA Y LITERATURA & 6005352             & GUALEGUAY           & GUALEGUAY           & 3190                & 2022                & N                   & N                   & ...                 & N                   & 3                   & SECUNDARIO          & Secundaria          & 5                   & Comun               & 1 - E CBC           & TARDE               & Tercer Trimestre    & 9                  \\\\\n",
       "\\end{tabular}\n"
      ],
      "text/markdown": [
       "\n",
       "| idAlumno | documento | asignatura | CUE.x | departamento.x | localidad.x | codigoPostal.x | anioLectivo.x | esPrivada.x | esMultianio.x | ... | esMultianio | nivel | nivelEnsenanza | modalidad | idModEnsenanza | modEnsenanza | curso | turno | periodoEvaluatorio | notaTercerT |\n",
       "|---|---|---|---|---|---|---|---|---|---|---|---|---|---|---|---|---|---|---|---|---|\n",
       "| 1000114             | 50072015            | LENGUA Y LITERATURA | 6005352             | GUALEGUAY           | GUALEGUAY           | 3190                | 2022                | N                   | N                   | ...                 | N                   | 3                   | SECUNDARIO          | Secundaria          | 5                   | Comun               | 1 - E CBC           | TARDE               | Tercer Trimestre    | 9                   |\n",
       "\n"
      ],
      "text/plain": [
       "  idAlumno documento asignatura          CUE.x   departamento.x localidad.x\n",
       "1 1000114  50072015  LENGUA Y LITERATURA 6005352 GUALEGUAY      GUALEGUAY  \n",
       "  codigoPostal.x anioLectivo.x esPrivada.x esMultianio.x ... esMultianio nivel\n",
       "1 3190           2022          N           N             ... N           3    \n",
       "  nivelEnsenanza modalidad  idModEnsenanza modEnsenanza curso     turno\n",
       "1 SECUNDARIO     Secundaria 5              Comun        1 - E CBC TARDE\n",
       "  periodoEvaluatorio notaTercerT\n",
       "1 Tercer Trimestre   9          "
      ]
     },
     "metadata": {},
     "output_type": "display_data"
    }
   ],
   "source": [
    "# Combino el Primer Trimestre con el Segundo\n",
    "GUALEGUAY_primerSegundoTrimestre <- merge(x = GUALEGUAY_primerTrimestre, y = GUALEGUAY_segundoTrimestre, by = c(\"idAlumno\", \"documento\", \"asignatura\"))\n",
    "names(GUALEGUAY_primerSegundoTrimestre)\n",
    "dim(GUALEGUAY_primerSegundoTrimestre)\n",
    "head(GUALEGUAY_primerSegundoTrimestre,1)\n",
    "\n",
    "# Combino el resultado del dataframe anterior con el dataframe del Tercer Trimestre\n",
    "GUALEGUAY_tresTrimestres <- merge(x = GUALEGUAY_primerSegundoTrimestre, y = GUALEGUAY_tercerTrimestre, by = c(\"idAlumno\", \"documento\", \"asignatura\"))\n",
    "names(GUALEGUAY_tresTrimestres)\n",
    "dim(GUALEGUAY_tresTrimestres)\n",
    "head(GUALEGUAY_tresTrimestres,1)"
   ]
  },
  {
   "cell_type": "markdown",
   "id": "1a52ef3f",
   "metadata": {},
   "source": [
    "Unifico los dataframes de los 3 Trimestres, y creo variables para un mejor análisis."
   ]
  },
  {
   "cell_type": "code",
   "execution_count": 19,
   "id": "d2dccfbd",
   "metadata": {
    "vscode": {
     "languageId": "r"
    }
   },
   "outputs": [
    {
     "data": {
      "text/html": [
       "<ol class=list-inline>\n",
       "\t<li>'CUE'</li>\n",
       "\t<li>'departamento'</li>\n",
       "\t<li>'localidad'</li>\n",
       "\t<li>'codigoPostal'</li>\n",
       "\t<li>'anioLectivo'</li>\n",
       "\t<li>'esPrivada'</li>\n",
       "\t<li>'esMultianio'</li>\n",
       "\t<li>'nivel'</li>\n",
       "\t<li>'nivelEnsenanza'</li>\n",
       "\t<li>'modalidad'</li>\n",
       "\t<li>'idModEnsenanza'</li>\n",
       "\t<li>'modEnsenanza'</li>\n",
       "\t<li>'curso'</li>\n",
       "\t<li>'turno'</li>\n",
       "\t<li>'idAlumno'</li>\n",
       "\t<li>'documento'</li>\n",
       "\t<li>'asignatura'</li>\n",
       "\t<li>'periodoEvaluatorio'</li>\n",
       "\t<li>'notaPrimerT'</li>\n",
       "\t<li>'notaSegundoT'</li>\n",
       "\t<li>'notaTercerT'</li>\n",
       "</ol>\n"
      ],
      "text/latex": [
       "\\begin{enumerate*}\n",
       "\\item 'CUE'\n",
       "\\item 'departamento'\n",
       "\\item 'localidad'\n",
       "\\item 'codigoPostal'\n",
       "\\item 'anioLectivo'\n",
       "\\item 'esPrivada'\n",
       "\\item 'esMultianio'\n",
       "\\item 'nivel'\n",
       "\\item 'nivelEnsenanza'\n",
       "\\item 'modalidad'\n",
       "\\item 'idModEnsenanza'\n",
       "\\item 'modEnsenanza'\n",
       "\\item 'curso'\n",
       "\\item 'turno'\n",
       "\\item 'idAlumno'\n",
       "\\item 'documento'\n",
       "\\item 'asignatura'\n",
       "\\item 'periodoEvaluatorio'\n",
       "\\item 'notaPrimerT'\n",
       "\\item 'notaSegundoT'\n",
       "\\item 'notaTercerT'\n",
       "\\end{enumerate*}\n"
      ],
      "text/markdown": [
       "1. 'CUE'\n",
       "2. 'departamento'\n",
       "3. 'localidad'\n",
       "4. 'codigoPostal'\n",
       "5. 'anioLectivo'\n",
       "6. 'esPrivada'\n",
       "7. 'esMultianio'\n",
       "8. 'nivel'\n",
       "9. 'nivelEnsenanza'\n",
       "10. 'modalidad'\n",
       "11. 'idModEnsenanza'\n",
       "12. 'modEnsenanza'\n",
       "13. 'curso'\n",
       "14. 'turno'\n",
       "15. 'idAlumno'\n",
       "16. 'documento'\n",
       "17. 'asignatura'\n",
       "18. 'periodoEvaluatorio'\n",
       "19. 'notaPrimerT'\n",
       "20. 'notaSegundoT'\n",
       "21. 'notaTercerT'\n",
       "\n",
       "\n"
      ],
      "text/plain": [
       " [1] \"CUE\"                \"departamento\"       \"localidad\"         \n",
       " [4] \"codigoPostal\"       \"anioLectivo\"        \"esPrivada\"         \n",
       " [7] \"esMultianio\"        \"nivel\"              \"nivelEnsenanza\"    \n",
       "[10] \"modalidad\"          \"idModEnsenanza\"     \"modEnsenanza\"      \n",
       "[13] \"curso\"              \"turno\"              \"idAlumno\"          \n",
       "[16] \"documento\"          \"asignatura\"         \"periodoEvaluatorio\"\n",
       "[19] \"notaPrimerT\"        \"notaSegundoT\"       \"notaTercerT\"       "
      ]
     },
     "metadata": {},
     "output_type": "display_data"
    },
    {
     "data": {
      "text/html": [
       "<ol class=list-inline>\n",
       "\t<li>360544</li>\n",
       "\t<li>21</li>\n",
       "</ol>\n"
      ],
      "text/latex": [
       "\\begin{enumerate*}\n",
       "\\item 360544\n",
       "\\item 21\n",
       "\\end{enumerate*}\n"
      ],
      "text/markdown": [
       "1. 360544\n",
       "2. 21\n",
       "\n",
       "\n"
      ],
      "text/plain": [
       "[1] 360544     21"
      ]
     },
     "metadata": {},
     "output_type": "display_data"
    },
    {
     "data": {
      "text/html": [
       "<table>\n",
       "<thead><tr><th scope=col>CUE</th><th scope=col>departamento</th><th scope=col>localidad</th><th scope=col>codigoPostal</th><th scope=col>anioLectivo</th><th scope=col>esPrivada</th><th scope=col>esMultianio</th><th scope=col>nivel</th><th scope=col>nivelEnsenanza</th><th scope=col>modalidad</th><th scope=col>...</th><th scope=col>modEnsenanza</th><th scope=col>curso</th><th scope=col>turno</th><th scope=col>idAlumno</th><th scope=col>documento</th><th scope=col>asignatura</th><th scope=col>periodoEvaluatorio</th><th scope=col>notaPrimerT</th><th scope=col>notaSegundoT</th><th scope=col>notaTercerT</th></tr></thead>\n",
       "<tbody>\n",
       "\t<tr><td>6005352            </td><td>GUALEGUAY          </td><td>GUALEGUAY          </td><td>3190               </td><td>2022               </td><td>N                  </td><td>N                  </td><td>3                  </td><td>SECUNDARIO         </td><td>Secundaria         </td><td>...                </td><td>Comun              </td><td>1 - E CBC          </td><td>TARDE              </td><td>1000114            </td><td>50072015           </td><td>LENGUA Y LITERATURA</td><td>Tercer Trimestre   </td><td>9                  </td><td>9                  </td><td>9                  </td></tr>\n",
       "\t<tr><td>6005352            </td><td>GUALEGUAY          </td><td>GUALEGUAY          </td><td>3190               </td><td>2022               </td><td>N                  </td><td>N                  </td><td>3                  </td><td>SECUNDARIO         </td><td>Secundaria         </td><td>...                </td><td>Comun              </td><td>4 - B 3322E        </td><td>TARDE              </td><td>1000116            </td><td>47526536           </td><td>ARTES VISUALES     </td><td>Tercer Trimestre   </td><td>7                  </td><td>7                  </td><td>8                  </td></tr>\n",
       "\t<tr><td>6005352            </td><td>GUALEGUAY          </td><td>GUALEGUAY          </td><td>3190               </td><td>2022               </td><td>N                  </td><td>N                  </td><td>3                  </td><td>SECUNDARIO         </td><td>Secundaria         </td><td>...                </td><td>Comun              </td><td>4 - B 3322E        </td><td>TARDE              </td><td>1000116            </td><td>47526536           </td><td>BIOLOGIA           </td><td>Tercer Trimestre   </td><td>7                  </td><td>8                  </td><td>9                  </td></tr>\n",
       "\t<tr><td>6005352            </td><td>GUALEGUAY          </td><td>GUALEGUAY          </td><td>3190               </td><td>2022               </td><td>N                  </td><td>N                  </td><td>3                  </td><td>SECUNDARIO         </td><td>Secundaria         </td><td>...                </td><td>Comun              </td><td>4 - B 3322E        </td><td>TARDE              </td><td>1000116            </td><td>47526536           </td><td>ECONOMIA           </td><td>Tercer Trimestre   </td><td>7                  </td><td>6                  </td><td>4                  </td></tr>\n",
       "\t<tr><td>6005352            </td><td>GUALEGUAY          </td><td>GUALEGUAY          </td><td>3190               </td><td>2022               </td><td>N                  </td><td>N                  </td><td>3                  </td><td>SECUNDARIO         </td><td>Secundaria         </td><td>...                </td><td>Comun              </td><td>4 - B 3322E        </td><td>TARDE              </td><td>1000116            </td><td>47526536           </td><td>EDUCACION FISICA   </td><td>Tercer Trimestre   </td><td>9                  </td><td>9                  </td><td>8                  </td></tr>\n",
       "</tbody>\n",
       "</table>\n"
      ],
      "text/latex": [
       "\\begin{tabular}{r|lllllllllllllllllllll}\n",
       " CUE & departamento & localidad & codigoPostal & anioLectivo & esPrivada & esMultianio & nivel & nivelEnsenanza & modalidad & ... & modEnsenanza & curso & turno & idAlumno & documento & asignatura & periodoEvaluatorio & notaPrimerT & notaSegundoT & notaTercerT\\\\\n",
       "\\hline\n",
       "\t 6005352             & GUALEGUAY           & GUALEGUAY           & 3190                & 2022                & N                   & N                   & 3                   & SECUNDARIO          & Secundaria          & ...                 & Comun               & 1 - E CBC           & TARDE               & 1000114             & 50072015            & LENGUA Y LITERATURA & Tercer Trimestre    & 9                   & 9                   & 9                  \\\\\n",
       "\t 6005352             & GUALEGUAY           & GUALEGUAY           & 3190                & 2022                & N                   & N                   & 3                   & SECUNDARIO          & Secundaria          & ...                 & Comun               & 4 - B 3322E         & TARDE               & 1000116             & 47526536            & ARTES VISUALES      & Tercer Trimestre    & 7                   & 7                   & 8                  \\\\\n",
       "\t 6005352             & GUALEGUAY           & GUALEGUAY           & 3190                & 2022                & N                   & N                   & 3                   & SECUNDARIO          & Secundaria          & ...                 & Comun               & 4 - B 3322E         & TARDE               & 1000116             & 47526536            & BIOLOGIA            & Tercer Trimestre    & 7                   & 8                   & 9                  \\\\\n",
       "\t 6005352             & GUALEGUAY           & GUALEGUAY           & 3190                & 2022                & N                   & N                   & 3                   & SECUNDARIO          & Secundaria          & ...                 & Comun               & 4 - B 3322E         & TARDE               & 1000116             & 47526536            & ECONOMIA            & Tercer Trimestre    & 7                   & 6                   & 4                  \\\\\n",
       "\t 6005352             & GUALEGUAY           & GUALEGUAY           & 3190                & 2022                & N                   & N                   & 3                   & SECUNDARIO          & Secundaria          & ...                 & Comun               & 4 - B 3322E         & TARDE               & 1000116             & 47526536            & EDUCACION FISICA    & Tercer Trimestre    & 9                   & 9                   & 8                  \\\\\n",
       "\\end{tabular}\n"
      ],
      "text/markdown": [
       "\n",
       "| CUE | departamento | localidad | codigoPostal | anioLectivo | esPrivada | esMultianio | nivel | nivelEnsenanza | modalidad | ... | modEnsenanza | curso | turno | idAlumno | documento | asignatura | periodoEvaluatorio | notaPrimerT | notaSegundoT | notaTercerT |\n",
       "|---|---|---|---|---|---|---|---|---|---|---|---|---|---|---|---|---|---|---|---|---|\n",
       "| 6005352             | GUALEGUAY           | GUALEGUAY           | 3190                | 2022                | N                   | N                   | 3                   | SECUNDARIO          | Secundaria          | ...                 | Comun               | 1 - E CBC           | TARDE               | 1000114             | 50072015            | LENGUA Y LITERATURA | Tercer Trimestre    | 9                   | 9                   | 9                   |\n",
       "| 6005352             | GUALEGUAY           | GUALEGUAY           | 3190                | 2022                | N                   | N                   | 3                   | SECUNDARIO          | Secundaria          | ...                 | Comun               | 4 - B 3322E         | TARDE               | 1000116             | 47526536            | ARTES VISUALES      | Tercer Trimestre    | 7                   | 7                   | 8                   |\n",
       "| 6005352             | GUALEGUAY           | GUALEGUAY           | 3190                | 2022                | N                   | N                   | 3                   | SECUNDARIO          | Secundaria          | ...                 | Comun               | 4 - B 3322E         | TARDE               | 1000116             | 47526536            | BIOLOGIA            | Tercer Trimestre    | 7                   | 8                   | 9                   |\n",
       "| 6005352             | GUALEGUAY           | GUALEGUAY           | 3190                | 2022                | N                   | N                   | 3                   | SECUNDARIO          | Secundaria          | ...                 | Comun               | 4 - B 3322E         | TARDE               | 1000116             | 47526536            | ECONOMIA            | Tercer Trimestre    | 7                   | 6                   | 4                   |\n",
       "| 6005352             | GUALEGUAY           | GUALEGUAY           | 3190                | 2022                | N                   | N                   | 3                   | SECUNDARIO          | Secundaria          | ...                 | Comun               | 4 - B 3322E         | TARDE               | 1000116             | 47526536            | EDUCACION FISICA    | Tercer Trimestre    | 9                   | 9                   | 8                   |\n",
       "\n"
      ],
      "text/plain": [
       "  CUE     departamento localidad codigoPostal anioLectivo esPrivada esMultianio\n",
       "1 6005352 GUALEGUAY    GUALEGUAY 3190         2022        N         N          \n",
       "2 6005352 GUALEGUAY    GUALEGUAY 3190         2022        N         N          \n",
       "3 6005352 GUALEGUAY    GUALEGUAY 3190         2022        N         N          \n",
       "4 6005352 GUALEGUAY    GUALEGUAY 3190         2022        N         N          \n",
       "5 6005352 GUALEGUAY    GUALEGUAY 3190         2022        N         N          \n",
       "  nivel nivelEnsenanza modalidad  ... modEnsenanza curso       turno idAlumno\n",
       "1 3     SECUNDARIO     Secundaria ... Comun        1 - E CBC   TARDE 1000114 \n",
       "2 3     SECUNDARIO     Secundaria ... Comun        4 - B 3322E TARDE 1000116 \n",
       "3 3     SECUNDARIO     Secundaria ... Comun        4 - B 3322E TARDE 1000116 \n",
       "4 3     SECUNDARIO     Secundaria ... Comun        4 - B 3322E TARDE 1000116 \n",
       "5 3     SECUNDARIO     Secundaria ... Comun        4 - B 3322E TARDE 1000116 \n",
       "  documento asignatura          periodoEvaluatorio notaPrimerT notaSegundoT\n",
       "1 50072015  LENGUA Y LITERATURA Tercer Trimestre   9           9           \n",
       "2 47526536  ARTES VISUALES      Tercer Trimestre   7           7           \n",
       "3 47526536  BIOLOGIA            Tercer Trimestre   7           8           \n",
       "4 47526536  ECONOMIA            Tercer Trimestre   7           6           \n",
       "5 47526536  EDUCACION FISICA    Tercer Trimestre   9           9           \n",
       "  notaTercerT\n",
       "1 9          \n",
       "2 8          \n",
       "3 9          \n",
       "4 4          \n",
       "5 8          "
      ]
     },
     "metadata": {},
     "output_type": "display_data"
    }
   ],
   "source": [
    "GUALEGUAY_notas <- select(GUALEGUAY_tresTrimestres, 'CUE', 'departamento', 'localidad', 'codigoPostal', 'anioLectivo', 'esPrivada', 'esMultianio', 'nivel', 'nivelEnsenanza', 'modalidad', 'idModEnsenanza', 'modEnsenanza', 'curso', 'turno', 'idAlumno', 'documento', 'asignatura', 'periodoEvaluatorio', 'notaPrimerT', 'notaSegundoT', 'notaTercerT')\n",
    "names(GUALEGUAY_notas)\n",
    "dim(GUALEGUAY_notas)\n",
    "head(GUALEGUAY_notas,5)"
   ]
  },
  {
   "cell_type": "markdown",
   "id": "66f631a4",
   "metadata": {},
   "source": [
    "Creo variable promedio para almacenar dicho valor de cada alumno en cada asignatura."
   ]
  },
  {
   "cell_type": "code",
   "execution_count": 20,
   "id": "b8b3ac5a",
   "metadata": {
    "vscode": {
     "languageId": "r"
    }
   },
   "outputs": [
    {
     "name": "stderr",
     "output_type": "stream",
     "text": [
      "Warning message in eval(expr, envir, enclos):\n",
      "\"NAs introducidos por coerción\"Warning message in eval(expr, envir, enclos):\n",
      "\"NAs introducidos por coerción\"Warning message in eval(expr, envir, enclos):\n",
      "\"NAs introducidos por coerción\""
     ]
    },
    {
     "data": {
      "text/html": [
       "<table>\n",
       "<thead><tr><th scope=col>CUE</th><th scope=col>departamento</th><th scope=col>localidad</th><th scope=col>codigoPostal</th><th scope=col>anioLectivo</th><th scope=col>esPrivada</th><th scope=col>esMultianio</th><th scope=col>nivel</th><th scope=col>nivelEnsenanza</th><th scope=col>modalidad</th><th scope=col>...</th><th scope=col>curso</th><th scope=col>turno</th><th scope=col>idAlumno</th><th scope=col>documento</th><th scope=col>asignatura</th><th scope=col>periodoEvaluatorio</th><th scope=col>notaPrimerT</th><th scope=col>notaSegundoT</th><th scope=col>notaTercerT</th><th scope=col>promedio</th></tr></thead>\n",
       "<tbody>\n",
       "\t<tr><td>6005352            </td><td>GUALEGUAY          </td><td>GUALEGUAY          </td><td>3190               </td><td>2022               </td><td>N                  </td><td>N                  </td><td>3                  </td><td>SECUNDARIO         </td><td>Secundaria         </td><td>...                </td><td>1 - E CBC          </td><td>TARDE              </td><td>1000114            </td><td>50072015           </td><td>LENGUA Y LITERATURA</td><td>Tercer Trimestre   </td><td>9                  </td><td>9                  </td><td>9                  </td><td>9.00               </td></tr>\n",
       "\t<tr><td>6005352            </td><td>GUALEGUAY          </td><td>GUALEGUAY          </td><td>3190               </td><td>2022               </td><td>N                  </td><td>N                  </td><td>3                  </td><td>SECUNDARIO         </td><td>Secundaria         </td><td>...                </td><td>4 - B 3322E        </td><td>TARDE              </td><td>1000116            </td><td>47526536           </td><td>ARTES VISUALES     </td><td>Tercer Trimestre   </td><td>7                  </td><td>7                  </td><td>8                  </td><td>7.33               </td></tr>\n",
       "\t<tr><td>6005352            </td><td>GUALEGUAY          </td><td>GUALEGUAY          </td><td>3190               </td><td>2022               </td><td>N                  </td><td>N                  </td><td>3                  </td><td>SECUNDARIO         </td><td>Secundaria         </td><td>...                </td><td>4 - B 3322E        </td><td>TARDE              </td><td>1000116            </td><td>47526536           </td><td>BIOLOGIA           </td><td>Tercer Trimestre   </td><td>7                  </td><td>8                  </td><td>9                  </td><td>8.00               </td></tr>\n",
       "\t<tr><td>6005352            </td><td>GUALEGUAY          </td><td>GUALEGUAY          </td><td>3190               </td><td>2022               </td><td>N                  </td><td>N                  </td><td>3                  </td><td>SECUNDARIO         </td><td>Secundaria         </td><td>...                </td><td>4 - B 3322E        </td><td>TARDE              </td><td>1000116            </td><td>47526536           </td><td>ECONOMIA           </td><td>Tercer Trimestre   </td><td>7                  </td><td>6                  </td><td>4                  </td><td>5.67               </td></tr>\n",
       "\t<tr><td>6005352            </td><td>GUALEGUAY          </td><td>GUALEGUAY          </td><td>3190               </td><td>2022               </td><td>N                  </td><td>N                  </td><td>3                  </td><td>SECUNDARIO         </td><td>Secundaria         </td><td>...                </td><td>4 - B 3322E        </td><td>TARDE              </td><td>1000116            </td><td>47526536           </td><td>EDUCACION FISICA   </td><td>Tercer Trimestre   </td><td>9                  </td><td>9                  </td><td>8                  </td><td>8.67               </td></tr>\n",
       "\t<tr><td>6005352            </td><td>GUALEGUAY          </td><td>GUALEGUAY          </td><td>3190               </td><td>2022               </td><td>N                  </td><td>N                  </td><td>3                  </td><td>SECUNDARIO         </td><td>Secundaria         </td><td>...                </td><td>4 - B 3322E        </td><td>TARDE              </td><td>1000116            </td><td>47526536           </td><td>FISICA             </td><td>Tercer Trimestre   </td><td>4                  </td><td>4                  </td><td>3                  </td><td>3.67               </td></tr>\n",
       "</tbody>\n",
       "</table>\n"
      ],
      "text/latex": [
       "\\begin{tabular}{r|llllllllllllllllllllll}\n",
       " CUE & departamento & localidad & codigoPostal & anioLectivo & esPrivada & esMultianio & nivel & nivelEnsenanza & modalidad & ... & curso & turno & idAlumno & documento & asignatura & periodoEvaluatorio & notaPrimerT & notaSegundoT & notaTercerT & promedio\\\\\n",
       "\\hline\n",
       "\t 6005352             & GUALEGUAY           & GUALEGUAY           & 3190                & 2022                & N                   & N                   & 3                   & SECUNDARIO          & Secundaria          & ...                 & 1 - E CBC           & TARDE               & 1000114             & 50072015            & LENGUA Y LITERATURA & Tercer Trimestre    & 9                   & 9                   & 9                   & 9.00               \\\\\n",
       "\t 6005352             & GUALEGUAY           & GUALEGUAY           & 3190                & 2022                & N                   & N                   & 3                   & SECUNDARIO          & Secundaria          & ...                 & 4 - B 3322E         & TARDE               & 1000116             & 47526536            & ARTES VISUALES      & Tercer Trimestre    & 7                   & 7                   & 8                   & 7.33               \\\\\n",
       "\t 6005352             & GUALEGUAY           & GUALEGUAY           & 3190                & 2022                & N                   & N                   & 3                   & SECUNDARIO          & Secundaria          & ...                 & 4 - B 3322E         & TARDE               & 1000116             & 47526536            & BIOLOGIA            & Tercer Trimestre    & 7                   & 8                   & 9                   & 8.00               \\\\\n",
       "\t 6005352             & GUALEGUAY           & GUALEGUAY           & 3190                & 2022                & N                   & N                   & 3                   & SECUNDARIO          & Secundaria          & ...                 & 4 - B 3322E         & TARDE               & 1000116             & 47526536            & ECONOMIA            & Tercer Trimestre    & 7                   & 6                   & 4                   & 5.67               \\\\\n",
       "\t 6005352             & GUALEGUAY           & GUALEGUAY           & 3190                & 2022                & N                   & N                   & 3                   & SECUNDARIO          & Secundaria          & ...                 & 4 - B 3322E         & TARDE               & 1000116             & 47526536            & EDUCACION FISICA    & Tercer Trimestre    & 9                   & 9                   & 8                   & 8.67               \\\\\n",
       "\t 6005352             & GUALEGUAY           & GUALEGUAY           & 3190                & 2022                & N                   & N                   & 3                   & SECUNDARIO          & Secundaria          & ...                 & 4 - B 3322E         & TARDE               & 1000116             & 47526536            & FISICA              & Tercer Trimestre    & 4                   & 4                   & 3                   & 3.67               \\\\\n",
       "\\end{tabular}\n"
      ],
      "text/markdown": [
       "\n",
       "| CUE | departamento | localidad | codigoPostal | anioLectivo | esPrivada | esMultianio | nivel | nivelEnsenanza | modalidad | ... | curso | turno | idAlumno | documento | asignatura | periodoEvaluatorio | notaPrimerT | notaSegundoT | notaTercerT | promedio |\n",
       "|---|---|---|---|---|---|---|---|---|---|---|---|---|---|---|---|---|---|---|---|---|\n",
       "| 6005352             | GUALEGUAY           | GUALEGUAY           | 3190                | 2022                | N                   | N                   | 3                   | SECUNDARIO          | Secundaria          | ...                 | 1 - E CBC           | TARDE               | 1000114             | 50072015            | LENGUA Y LITERATURA | Tercer Trimestre    | 9                   | 9                   | 9                   | 9.00                |\n",
       "| 6005352             | GUALEGUAY           | GUALEGUAY           | 3190                | 2022                | N                   | N                   | 3                   | SECUNDARIO          | Secundaria          | ...                 | 4 - B 3322E         | TARDE               | 1000116             | 47526536            | ARTES VISUALES      | Tercer Trimestre    | 7                   | 7                   | 8                   | 7.33                |\n",
       "| 6005352             | GUALEGUAY           | GUALEGUAY           | 3190                | 2022                | N                   | N                   | 3                   | SECUNDARIO          | Secundaria          | ...                 | 4 - B 3322E         | TARDE               | 1000116             | 47526536            | BIOLOGIA            | Tercer Trimestre    | 7                   | 8                   | 9                   | 8.00                |\n",
       "| 6005352             | GUALEGUAY           | GUALEGUAY           | 3190                | 2022                | N                   | N                   | 3                   | SECUNDARIO          | Secundaria          | ...                 | 4 - B 3322E         | TARDE               | 1000116             | 47526536            | ECONOMIA            | Tercer Trimestre    | 7                   | 6                   | 4                   | 5.67                |\n",
       "| 6005352             | GUALEGUAY           | GUALEGUAY           | 3190                | 2022                | N                   | N                   | 3                   | SECUNDARIO          | Secundaria          | ...                 | 4 - B 3322E         | TARDE               | 1000116             | 47526536            | EDUCACION FISICA    | Tercer Trimestre    | 9                   | 9                   | 8                   | 8.67                |\n",
       "| 6005352             | GUALEGUAY           | GUALEGUAY           | 3190                | 2022                | N                   | N                   | 3                   | SECUNDARIO          | Secundaria          | ...                 | 4 - B 3322E         | TARDE               | 1000116             | 47526536            | FISICA              | Tercer Trimestre    | 4                   | 4                   | 3                   | 3.67                |\n",
       "\n"
      ],
      "text/plain": [
       "  CUE     departamento localidad codigoPostal anioLectivo esPrivada esMultianio\n",
       "1 6005352 GUALEGUAY    GUALEGUAY 3190         2022        N         N          \n",
       "2 6005352 GUALEGUAY    GUALEGUAY 3190         2022        N         N          \n",
       "3 6005352 GUALEGUAY    GUALEGUAY 3190         2022        N         N          \n",
       "4 6005352 GUALEGUAY    GUALEGUAY 3190         2022        N         N          \n",
       "5 6005352 GUALEGUAY    GUALEGUAY 3190         2022        N         N          \n",
       "6 6005352 GUALEGUAY    GUALEGUAY 3190         2022        N         N          \n",
       "  nivel nivelEnsenanza modalidad  ... curso       turno idAlumno documento\n",
       "1 3     SECUNDARIO     Secundaria ... 1 - E CBC   TARDE 1000114  50072015 \n",
       "2 3     SECUNDARIO     Secundaria ... 4 - B 3322E TARDE 1000116  47526536 \n",
       "3 3     SECUNDARIO     Secundaria ... 4 - B 3322E TARDE 1000116  47526536 \n",
       "4 3     SECUNDARIO     Secundaria ... 4 - B 3322E TARDE 1000116  47526536 \n",
       "5 3     SECUNDARIO     Secundaria ... 4 - B 3322E TARDE 1000116  47526536 \n",
       "6 3     SECUNDARIO     Secundaria ... 4 - B 3322E TARDE 1000116  47526536 \n",
       "  asignatura          periodoEvaluatorio notaPrimerT notaSegundoT notaTercerT\n",
       "1 LENGUA Y LITERATURA Tercer Trimestre   9           9            9          \n",
       "2 ARTES VISUALES      Tercer Trimestre   7           7            8          \n",
       "3 BIOLOGIA            Tercer Trimestre   7           8            9          \n",
       "4 ECONOMIA            Tercer Trimestre   7           6            4          \n",
       "5 EDUCACION FISICA    Tercer Trimestre   9           9            8          \n",
       "6 FISICA              Tercer Trimestre   4           4            3          \n",
       "  promedio\n",
       "1 9.00    \n",
       "2 7.33    \n",
       "3 8.00    \n",
       "4 5.67    \n",
       "5 8.67    \n",
       "6 3.67    "
      ]
     },
     "metadata": {},
     "output_type": "display_data"
    }
   ],
   "source": [
    "GUALEGUAY_notas$promedio <- round((as.numeric(GUALEGUAY_notas$notaPrimerT) + as.numeric(GUALEGUAY_notas$notaSegundoT) + as.numeric(GUALEGUAY_notas$notaTercerT)) / 3,2)\n",
    "head(GUALEGUAY_notas)"
   ]
  },
  {
   "cell_type": "markdown",
   "id": "bdd8c783",
   "metadata": {},
   "source": [
    "Aplico la función mutate() para almacenar el dato \"Aprobado\" o \"Rinde\", en la variable \"resultado\", siempre dependiendo del dato almacenado en la variable \"promedio\"."
   ]
  },
  {
   "cell_type": "code",
   "execution_count": 21,
   "id": "de929e1c",
   "metadata": {
    "vscode": {
     "languageId": "r"
    }
   },
   "outputs": [
    {
     "data": {
      "text/html": [
       "<ol class=list-inline>\n",
       "\t<li>'CUE'</li>\n",
       "\t<li>'departamento'</li>\n",
       "\t<li>'localidad'</li>\n",
       "\t<li>'codigoPostal'</li>\n",
       "\t<li>'anioLectivo'</li>\n",
       "\t<li>'esPrivada'</li>\n",
       "\t<li>'esMultianio'</li>\n",
       "\t<li>'nivel'</li>\n",
       "\t<li>'nivelEnsenanza'</li>\n",
       "\t<li>'modalidad'</li>\n",
       "\t<li>'idModEnsenanza'</li>\n",
       "\t<li>'modEnsenanza'</li>\n",
       "\t<li>'curso'</li>\n",
       "\t<li>'turno'</li>\n",
       "\t<li>'idAlumno'</li>\n",
       "\t<li>'documento'</li>\n",
       "\t<li>'asignatura'</li>\n",
       "\t<li>'periodoEvaluatorio'</li>\n",
       "\t<li>'notaPrimerT'</li>\n",
       "\t<li>'notaSegundoT'</li>\n",
       "\t<li>'notaTercerT'</li>\n",
       "\t<li>'promedio'</li>\n",
       "\t<li>'resultado'</li>\n",
       "</ol>\n"
      ],
      "text/latex": [
       "\\begin{enumerate*}\n",
       "\\item 'CUE'\n",
       "\\item 'departamento'\n",
       "\\item 'localidad'\n",
       "\\item 'codigoPostal'\n",
       "\\item 'anioLectivo'\n",
       "\\item 'esPrivada'\n",
       "\\item 'esMultianio'\n",
       "\\item 'nivel'\n",
       "\\item 'nivelEnsenanza'\n",
       "\\item 'modalidad'\n",
       "\\item 'idModEnsenanza'\n",
       "\\item 'modEnsenanza'\n",
       "\\item 'curso'\n",
       "\\item 'turno'\n",
       "\\item 'idAlumno'\n",
       "\\item 'documento'\n",
       "\\item 'asignatura'\n",
       "\\item 'periodoEvaluatorio'\n",
       "\\item 'notaPrimerT'\n",
       "\\item 'notaSegundoT'\n",
       "\\item 'notaTercerT'\n",
       "\\item 'promedio'\n",
       "\\item 'resultado'\n",
       "\\end{enumerate*}\n"
      ],
      "text/markdown": [
       "1. 'CUE'\n",
       "2. 'departamento'\n",
       "3. 'localidad'\n",
       "4. 'codigoPostal'\n",
       "5. 'anioLectivo'\n",
       "6. 'esPrivada'\n",
       "7. 'esMultianio'\n",
       "8. 'nivel'\n",
       "9. 'nivelEnsenanza'\n",
       "10. 'modalidad'\n",
       "11. 'idModEnsenanza'\n",
       "12. 'modEnsenanza'\n",
       "13. 'curso'\n",
       "14. 'turno'\n",
       "15. 'idAlumno'\n",
       "16. 'documento'\n",
       "17. 'asignatura'\n",
       "18. 'periodoEvaluatorio'\n",
       "19. 'notaPrimerT'\n",
       "20. 'notaSegundoT'\n",
       "21. 'notaTercerT'\n",
       "22. 'promedio'\n",
       "23. 'resultado'\n",
       "\n",
       "\n"
      ],
      "text/plain": [
       " [1] \"CUE\"                \"departamento\"       \"localidad\"         \n",
       " [4] \"codigoPostal\"       \"anioLectivo\"        \"esPrivada\"         \n",
       " [7] \"esMultianio\"        \"nivel\"              \"nivelEnsenanza\"    \n",
       "[10] \"modalidad\"          \"idModEnsenanza\"     \"modEnsenanza\"      \n",
       "[13] \"curso\"              \"turno\"              \"idAlumno\"          \n",
       "[16] \"documento\"          \"asignatura\"         \"periodoEvaluatorio\"\n",
       "[19] \"notaPrimerT\"        \"notaSegundoT\"       \"notaTercerT\"       \n",
       "[22] \"promedio\"           \"resultado\"         "
      ]
     },
     "metadata": {},
     "output_type": "display_data"
    },
    {
     "data": {
      "text/html": [
       "<ol class=list-inline>\n",
       "\t<li>360544</li>\n",
       "\t<li>23</li>\n",
       "</ol>\n"
      ],
      "text/latex": [
       "\\begin{enumerate*}\n",
       "\\item 360544\n",
       "\\item 23\n",
       "\\end{enumerate*}\n"
      ],
      "text/markdown": [
       "1. 360544\n",
       "2. 23\n",
       "\n",
       "\n"
      ],
      "text/plain": [
       "[1] 360544     23"
      ]
     },
     "metadata": {},
     "output_type": "display_data"
    },
    {
     "data": {
      "text/html": [
       "<table>\n",
       "<thead><tr><th scope=col>CUE</th><th scope=col>departamento</th><th scope=col>localidad</th><th scope=col>codigoPostal</th><th scope=col>anioLectivo</th><th scope=col>esPrivada</th><th scope=col>esMultianio</th><th scope=col>nivel</th><th scope=col>nivelEnsenanza</th><th scope=col>modalidad</th><th scope=col>...</th><th scope=col>turno</th><th scope=col>idAlumno</th><th scope=col>documento</th><th scope=col>asignatura</th><th scope=col>periodoEvaluatorio</th><th scope=col>notaPrimerT</th><th scope=col>notaSegundoT</th><th scope=col>notaTercerT</th><th scope=col>promedio</th><th scope=col>resultado</th></tr></thead>\n",
       "<tbody>\n",
       "\t<tr><td>6005352            </td><td>GUALEGUAY          </td><td>GUALEGUAY          </td><td>3190               </td><td>2022               </td><td>N                  </td><td>N                  </td><td>3                  </td><td>SECUNDARIO         </td><td>Secundaria         </td><td>...                </td><td>TARDE              </td><td>1000114            </td><td>50072015           </td><td>LENGUA Y LITERATURA</td><td>Tercer Trimestre   </td><td>9                  </td><td>9                  </td><td>9                  </td><td>9.00               </td><td>Aprobado           </td></tr>\n",
       "\t<tr><td>6005352            </td><td>GUALEGUAY          </td><td>GUALEGUAY          </td><td>3190               </td><td>2022               </td><td>N                  </td><td>N                  </td><td>3                  </td><td>SECUNDARIO         </td><td>Secundaria         </td><td>...                </td><td>TARDE              </td><td>1000116            </td><td>47526536           </td><td>ARTES VISUALES     </td><td>Tercer Trimestre   </td><td>7                  </td><td>7                  </td><td>8                  </td><td>7.33               </td><td>Aprobado           </td></tr>\n",
       "\t<tr><td>6005352            </td><td>GUALEGUAY          </td><td>GUALEGUAY          </td><td>3190               </td><td>2022               </td><td>N                  </td><td>N                  </td><td>3                  </td><td>SECUNDARIO         </td><td>Secundaria         </td><td>...                </td><td>TARDE              </td><td>1000116            </td><td>47526536           </td><td>BIOLOGIA           </td><td>Tercer Trimestre   </td><td>7                  </td><td>8                  </td><td>9                  </td><td>8.00               </td><td>Aprobado           </td></tr>\n",
       "\t<tr><td>6005352            </td><td>GUALEGUAY          </td><td>GUALEGUAY          </td><td>3190               </td><td>2022               </td><td>N                  </td><td>N                  </td><td>3                  </td><td>SECUNDARIO         </td><td>Secundaria         </td><td>...                </td><td>TARDE              </td><td>1000116            </td><td>47526536           </td><td>ECONOMIA           </td><td>Tercer Trimestre   </td><td>7                  </td><td>6                  </td><td>4                  </td><td>5.67               </td><td>Rinde              </td></tr>\n",
       "\t<tr><td>6005352            </td><td>GUALEGUAY          </td><td>GUALEGUAY          </td><td>3190               </td><td>2022               </td><td>N                  </td><td>N                  </td><td>3                  </td><td>SECUNDARIO         </td><td>Secundaria         </td><td>...                </td><td>TARDE              </td><td>1000116            </td><td>47526536           </td><td>EDUCACION FISICA   </td><td>Tercer Trimestre   </td><td>9                  </td><td>9                  </td><td>8                  </td><td>8.67               </td><td>Aprobado           </td></tr>\n",
       "\t<tr><td>6005352            </td><td>GUALEGUAY          </td><td>GUALEGUAY          </td><td>3190               </td><td>2022               </td><td>N                  </td><td>N                  </td><td>3                  </td><td>SECUNDARIO         </td><td>Secundaria         </td><td>...                </td><td>TARDE              </td><td>1000116            </td><td>47526536           </td><td>FISICA             </td><td>Tercer Trimestre   </td><td>4                  </td><td>4                  </td><td>3                  </td><td>3.67               </td><td>Rinde              </td></tr>\n",
       "</tbody>\n",
       "</table>\n"
      ],
      "text/latex": [
       "\\begin{tabular}{r|lllllllllllllllllllllll}\n",
       " CUE & departamento & localidad & codigoPostal & anioLectivo & esPrivada & esMultianio & nivel & nivelEnsenanza & modalidad & ... & turno & idAlumno & documento & asignatura & periodoEvaluatorio & notaPrimerT & notaSegundoT & notaTercerT & promedio & resultado\\\\\n",
       "\\hline\n",
       "\t 6005352             & GUALEGUAY           & GUALEGUAY           & 3190                & 2022                & N                   & N                   & 3                   & SECUNDARIO          & Secundaria          & ...                 & TARDE               & 1000114             & 50072015            & LENGUA Y LITERATURA & Tercer Trimestre    & 9                   & 9                   & 9                   & 9.00                & Aprobado           \\\\\n",
       "\t 6005352             & GUALEGUAY           & GUALEGUAY           & 3190                & 2022                & N                   & N                   & 3                   & SECUNDARIO          & Secundaria          & ...                 & TARDE               & 1000116             & 47526536            & ARTES VISUALES      & Tercer Trimestre    & 7                   & 7                   & 8                   & 7.33                & Aprobado           \\\\\n",
       "\t 6005352             & GUALEGUAY           & GUALEGUAY           & 3190                & 2022                & N                   & N                   & 3                   & SECUNDARIO          & Secundaria          & ...                 & TARDE               & 1000116             & 47526536            & BIOLOGIA            & Tercer Trimestre    & 7                   & 8                   & 9                   & 8.00                & Aprobado           \\\\\n",
       "\t 6005352             & GUALEGUAY           & GUALEGUAY           & 3190                & 2022                & N                   & N                   & 3                   & SECUNDARIO          & Secundaria          & ...                 & TARDE               & 1000116             & 47526536            & ECONOMIA            & Tercer Trimestre    & 7                   & 6                   & 4                   & 5.67                & Rinde              \\\\\n",
       "\t 6005352             & GUALEGUAY           & GUALEGUAY           & 3190                & 2022                & N                   & N                   & 3                   & SECUNDARIO          & Secundaria          & ...                 & TARDE               & 1000116             & 47526536            & EDUCACION FISICA    & Tercer Trimestre    & 9                   & 9                   & 8                   & 8.67                & Aprobado           \\\\\n",
       "\t 6005352             & GUALEGUAY           & GUALEGUAY           & 3190                & 2022                & N                   & N                   & 3                   & SECUNDARIO          & Secundaria          & ...                 & TARDE               & 1000116             & 47526536            & FISICA              & Tercer Trimestre    & 4                   & 4                   & 3                   & 3.67                & Rinde              \\\\\n",
       "\\end{tabular}\n"
      ],
      "text/markdown": [
       "\n",
       "| CUE | departamento | localidad | codigoPostal | anioLectivo | esPrivada | esMultianio | nivel | nivelEnsenanza | modalidad | ... | turno | idAlumno | documento | asignatura | periodoEvaluatorio | notaPrimerT | notaSegundoT | notaTercerT | promedio | resultado |\n",
       "|---|---|---|---|---|---|---|---|---|---|---|---|---|---|---|---|---|---|---|---|---|\n",
       "| 6005352             | GUALEGUAY           | GUALEGUAY           | 3190                | 2022                | N                   | N                   | 3                   | SECUNDARIO          | Secundaria          | ...                 | TARDE               | 1000114             | 50072015            | LENGUA Y LITERATURA | Tercer Trimestre    | 9                   | 9                   | 9                   | 9.00                | Aprobado            |\n",
       "| 6005352             | GUALEGUAY           | GUALEGUAY           | 3190                | 2022                | N                   | N                   | 3                   | SECUNDARIO          | Secundaria          | ...                 | TARDE               | 1000116             | 47526536            | ARTES VISUALES      | Tercer Trimestre    | 7                   | 7                   | 8                   | 7.33                | Aprobado            |\n",
       "| 6005352             | GUALEGUAY           | GUALEGUAY           | 3190                | 2022                | N                   | N                   | 3                   | SECUNDARIO          | Secundaria          | ...                 | TARDE               | 1000116             | 47526536            | BIOLOGIA            | Tercer Trimestre    | 7                   | 8                   | 9                   | 8.00                | Aprobado            |\n",
       "| 6005352             | GUALEGUAY           | GUALEGUAY           | 3190                | 2022                | N                   | N                   | 3                   | SECUNDARIO          | Secundaria          | ...                 | TARDE               | 1000116             | 47526536            | ECONOMIA            | Tercer Trimestre    | 7                   | 6                   | 4                   | 5.67                | Rinde               |\n",
       "| 6005352             | GUALEGUAY           | GUALEGUAY           | 3190                | 2022                | N                   | N                   | 3                   | SECUNDARIO          | Secundaria          | ...                 | TARDE               | 1000116             | 47526536            | EDUCACION FISICA    | Tercer Trimestre    | 9                   | 9                   | 8                   | 8.67                | Aprobado            |\n",
       "| 6005352             | GUALEGUAY           | GUALEGUAY           | 3190                | 2022                | N                   | N                   | 3                   | SECUNDARIO          | Secundaria          | ...                 | TARDE               | 1000116             | 47526536            | FISICA              | Tercer Trimestre    | 4                   | 4                   | 3                   | 3.67                | Rinde               |\n",
       "\n"
      ],
      "text/plain": [
       "  CUE     departamento localidad codigoPostal anioLectivo esPrivada esMultianio\n",
       "1 6005352 GUALEGUAY    GUALEGUAY 3190         2022        N         N          \n",
       "2 6005352 GUALEGUAY    GUALEGUAY 3190         2022        N         N          \n",
       "3 6005352 GUALEGUAY    GUALEGUAY 3190         2022        N         N          \n",
       "4 6005352 GUALEGUAY    GUALEGUAY 3190         2022        N         N          \n",
       "5 6005352 GUALEGUAY    GUALEGUAY 3190         2022        N         N          \n",
       "6 6005352 GUALEGUAY    GUALEGUAY 3190         2022        N         N          \n",
       "  nivel nivelEnsenanza modalidad  ... turno idAlumno documento\n",
       "1 3     SECUNDARIO     Secundaria ... TARDE 1000114  50072015 \n",
       "2 3     SECUNDARIO     Secundaria ... TARDE 1000116  47526536 \n",
       "3 3     SECUNDARIO     Secundaria ... TARDE 1000116  47526536 \n",
       "4 3     SECUNDARIO     Secundaria ... TARDE 1000116  47526536 \n",
       "5 3     SECUNDARIO     Secundaria ... TARDE 1000116  47526536 \n",
       "6 3     SECUNDARIO     Secundaria ... TARDE 1000116  47526536 \n",
       "  asignatura          periodoEvaluatorio notaPrimerT notaSegundoT notaTercerT\n",
       "1 LENGUA Y LITERATURA Tercer Trimestre   9           9            9          \n",
       "2 ARTES VISUALES      Tercer Trimestre   7           7            8          \n",
       "3 BIOLOGIA            Tercer Trimestre   7           8            9          \n",
       "4 ECONOMIA            Tercer Trimestre   7           6            4          \n",
       "5 EDUCACION FISICA    Tercer Trimestre   9           9            8          \n",
       "6 FISICA              Tercer Trimestre   4           4            3          \n",
       "  promedio resultado\n",
       "1 9.00     Aprobado \n",
       "2 7.33     Aprobado \n",
       "3 8.00     Aprobado \n",
       "4 5.67     Rinde    \n",
       "5 8.67     Aprobado \n",
       "6 3.67     Rinde    "
      ]
     },
     "metadata": {},
     "output_type": "display_data"
    }
   ],
   "source": [
    "# Creo variable \"resultado\" que depende de cuál caso se cumple en la variable \"promedio\"\n",
    "GUALEGUAY_notas <- GUALEGUAY_notas %>% mutate(resultado = case_when(\n",
    "    promedio >= 6 ~ \"Aprobado\",\n",
    "    promedio < 6 ~ \"Rinde\",\n",
    "    TRUE ~ \"sin registro completo\"))\n",
    "\n",
    "names(GUALEGUAY_notas)\n",
    "dim(GUALEGUAY_notas)\n",
    "head(GUALEGUAY_notas)"
   ]
  },
  {
   "cell_type": "markdown",
   "id": "99849b9c",
   "metadata": {},
   "source": [
    "\n",
    "=========================================================================================\n"
   ]
  },
  {
   "cell_type": "markdown",
   "id": "2283be95",
   "metadata": {},
   "source": [
    "Limpieza de cadenas con librería \"stringr\"  \n",
    "(Librería importada previamente unos bloques arriba, para una pequeña limpieza)"
   ]
  },
  {
   "cell_type": "code",
   "execution_count": 22,
   "id": "ee41ef16",
   "metadata": {
    "vscode": {
     "languageId": "r"
    }
   },
   "outputs": [
    {
     "data": {
      "text/plain": [
       "\n",
       "                                                 Abriendo el juego \n",
       "                                                                 5 \n",
       "                                                 Abriendo el Juego \n",
       "                                                                43 \n",
       "                                    Acomp. al Estudio Cs Naturales \n",
       "                                                                66 \n",
       "                                   ACOMP. AL ESTUDIO CS. NATURALES \n",
       "                                                                25 \n",
       "                                    ACOMP. AL ESTUDIO CS. SOCIALES \n",
       "                                                                25 \n",
       "                                     Acomp. al estudio Cs.Sociales \n",
       "                                                                65 \n",
       "                                          Acomp. al Estudio Lengua \n",
       "                                                                66 \n",
       "                                          ACOMP. AL ESTUDIO LENGUA \n",
       "                                                                25 \n",
       "                                      Acomp. al Estudio Matemática \n",
       "                                                                66 \n",
       "                      ACOMPAÑAMIENTO  AL ESTUDIO CIENCIAS SOCIALES \n",
       "                                                                26 \n",
       "                                         Acompañamiento al estudio \n",
       "                                                                55 \n",
       "                                         Acompañamiento al Estudio \n",
       "                                                                94 \n",
       "                                         ACOMPAÑAMIENTO AL ESTUDIO \n",
       "                                                               216 \n",
       "                      ACOMPAÑAMIENTO AL ESTUDIO CIENCIAS NATURALES \n",
       "                                                                26 \n",
       "                                  ACOMPAÑAMIENTO AL ESTUDIO LENGUA \n",
       "                                                                26 \n",
       "                    ACOMPAÑAMIENTO AL ESTUDIO LENGUA/ CS. SOCIALES \n",
       "                                                                48 \n",
       "                        ACOMPAÑAMIENTO AL ESTUDIO MAT/CS NATURALES \n",
       "                                                                48 \n",
       "                              Acompañaminto al Est Leng.y Cs.Soc.. \n",
       "                                                                62 \n",
       "                                  Acompañaminto al Est Mat.Cs.Nat. \n",
       "                                                                62 \n",
       "                                            Actividades corporales \n",
       "                                                                19 \n",
       "                                                     Agropecuarias \n",
       "                                                               165 \n",
       "                                         ALFABETIZACIÓN CIENTÍFICA \n",
       "                                                               139 \n",
       "                                               ANALISIS MATEMATICO \n",
       "                                                                82 \n",
       "                                        Arte Lúdico y Experimental \n",
       "                                                                25 \n",
       "                                                    ARTES VISUALES \n",
       "                                                             19623 \n",
       "                                             Artesanías Regionales \n",
       "                                                                94 \n",
       "                                                          BIOLOGIA \n",
       "                                                             22871 \n",
       "                                           CIENCIAS DE LA TIERRA I \n",
       "                                                                90 \n",
       "                                                CIENCIAS NATURALES \n",
       "                                                              7045 \n",
       "                                     CIENCIAS NATURALES (BIOLOGIA) \n",
       "                                                               128 \n",
       "                                       CIENCIAS NATURALES (FISICA) \n",
       "                                                                10 \n",
       "                                       CIENCIAS NATURALES BIOLOGIA \n",
       "                                                               243 \n",
       "                                 CIENCIAS NATURALES FISICO-QUIMICA \n",
       "                                                               271 \n",
       "                                                 CIENCIAS SOCIALES \n",
       "                                                              7000 \n",
       "                                     CIENCIAS SOCIALES (GEOGRAFIA) \n",
       "                                                               333 \n",
       "                                      CIENCIAS SOCIALES (HISTORIA) \n",
       "                                                               331 \n",
       "                                            CIRCUITOS TURISTICOS I \n",
       "                                                                69 \n",
       "                                           CIRCUITOS TURISTICOS II \n",
       "                                                                40 \n",
       "                                         COMPUTADORAS ELECTRONICAS \n",
       "                                                                48 \n",
       "                      COMUNICACION, EDUCACION Y NUEVAS TECNOLOGIAS \n",
       "                                                                 7 \n",
       "                                                    COMUNICACIONES \n",
       "                                                                33 \n",
       "                       COSTURA, RECICLADO Y REALIZACIÓN DE PRENDAS \n",
       "                                                                18 \n",
       "                                            CULTURA Y COMUNICACION \n",
       "                                                                13 \n",
       "                               CULTURAS Y ESTETICAS CONTEMPORANEAS \n",
       "                                                                16 \n",
       "                   CULTURAS Y ESTETICAS CONTEMPORANEAS I, II y III \n",
       "                                                                22 \n",
       "                                                             DANZA \n",
       "                                                                26 \n",
       "                                             DANZA    TEATRALIZADA \n",
       "                                                                19 \n",
       "                                                DANZA TEATRALIZADA \n",
       "                                                               167 \n",
       "                                                            DANZAS \n",
       "                                                                58 \n",
       "                                     Danzas folkloricas Argentinas \n",
       "                                                                46 \n",
       "                                                           DEPORTE \n",
       "                                                               216 \n",
       "                                         Deporte y Vida en la Nat. \n",
       "                                                                59 \n",
       "                                      DEPORTE, RECREACION Y JUEGOS \n",
       "                                                               117 \n",
       "                                                          DEPORTES \n",
       "                                                                70 \n",
       "                                                           DERECHO \n",
       "                                                               640 \n",
       "                                                 DERECHO COMERCIAL \n",
       "                                                               837 \n",
       "                              DESARROLLO DE LOCALIDADES TURISTICAS \n",
       "                                                                40 \n",
       "                                                    DIBUJO TECNICO \n",
       "                                                               308 \n",
       "                    DISEÑOS Y REPARACION EN CARPINTERIA Y HERRERIA \n",
       "                                                                 9 \n",
       "                                                             E.R.E \n",
       "                                                               292 \n",
       "                                                            ECO 99 \n",
       "                                                                51 \n",
       "                                                          ECOLOGIA \n",
       "                                                               102 \n",
       "                                                          ECONOMIA \n",
       "                                                              1780 \n",
       "                                                       ECONOMIA II \n",
       "                                                               201 \n",
       "                                               Educ. para la salud \n",
       "                                                                47 \n",
       "                                            Educación agropecuaria \n",
       "                                                                34 \n",
       "                                                  EDUCACION FISICA \n",
       "                                                             31410 \n",
       "                                                 EDUCACION MUSICAL \n",
       "                                                              6860 \n",
       "                                                 Educación Musical \n",
       "                                                                19 \n",
       "                                             EDUCACION TECNOLOGICA \n",
       "                                                             18411 \n",
       "                                  Educaciòn y Pràcticas en Valores \n",
       "                                                                34 \n",
       "                                                     ELECTRONICA I \n",
       "                                                                65 \n",
       "                                                    ELECTRONICA II \n",
       "                                                                33 \n",
       "                                                Expresión Corporal \n",
       "                                                                55 \n",
       "                                                         FILOSOFIA \n",
       "                                                              1064 \n",
       "                                                      FILOSOFIA II \n",
       "                                                               209 \n",
       "                                                            FISICA \n",
       "                                                              4258 \n",
       "                                                  FISICA Y QUIMICA \n",
       "                                                              7920 \n",
       "                                  Folklore y Danzas contemporáneas \n",
       "                                                                94 \n",
       "                                       FORMACION ETICA Y CIUDADANA \n",
       "                                                             27820 \n",
       "                                                  FORMATO NARRANDO \n",
       "                                                                57 \n",
       "                                                 FORMATO TECNOARTE \n",
       "                                                                35 \n",
       "                                                         GEOGRAFIA \n",
       "                                                             29708 \n",
       "                                               GEOGRAFIA AMBIENTAL \n",
       "                                                               211 \n",
       "                                                          HISTORIA \n",
       "                                                             29771 \n",
       "                      HUERTA, JARDINES Y DISEÑO DE ESPACIOS VERDES \n",
       "                                                                 8 \n",
       "                                         IDIOMA EXTRANJERO: INGLÉS \n",
       "                                                               164 \n",
       "                                          IDIOMA EXTRANJERO:INGLES \n",
       "                                                                26 \n",
       "                                         IDIOMA EXTRANJERO; INGLES \n",
       "                                                                26 \n",
       "                                                       INFORMATICA \n",
       "                                                                54 \n",
       "                                     INFORMATICA Y MULTIMEDIA (FC) \n",
       "                                                                56 \n",
       "                                     INFORMÁTICA Y MULTIMEDIA (FC) \n",
       "                                                               532 \n",
       "                      INFRAESTRUCTURA TURISTICA Y TURISMO TERMAL I \n",
       "                                                                57 \n",
       "                     INFRAESTRUCTURA TURISTICA Y TURISMO TERMAL II \n",
       "                                                                40 \n",
       "                                                            INGLES \n",
       "                                                               131 \n",
       "                                                            Inglés \n",
       "                                                                94 \n",
       "                                                            INGLÉS \n",
       "                                                               267 \n",
       "                                                INICIACION MUSICAL \n",
       "                                                                30 \n",
       "                                                Iniciación Musical \n",
       "                                                                12 \n",
       "                                                Iniciaciòn Musical \n",
       "                                                                49 \n",
       "                    INSERCIÓN LABORAL Y FORMACIÓN DE EMPRENDEDORES \n",
       "                                                                 9 \n",
       "                                                   INSTRUMENTACION \n",
       "                                                                33 \n",
       "                                         Intervenciones Artisticas \n",
       "                                                                66 \n",
       "                                  INTRODUCCION A LA ADMINISTRACION \n",
       "                                                              1058 \n",
       "                                    INTRODUCCION A LA HOSPITALIDAD \n",
       "                                                                53 \n",
       "                INTRODUCCION A LA INVESTIGACION EN CIENCIAS NATURA \n",
       "                                                                57 \n",
       "             INTRODUCCION A LA INVESTIGACION EN CIENCIAS NATURALES \n",
       "                                                                49 \n",
       "                                           INTRODUCCION AL TURISMO \n",
       "                                                                53 \n",
       "                                       LABORATORIO DE COMPUTADORAS \n",
       "                                                                48 \n",
       "                                                     LABORATORIO I \n",
       "                                                                66 \n",
       "                                                    LABORATORIO II \n",
       "                                                                33 \n",
       "                                                   LABORATORIO III \n",
       "                                                                48 \n",
       "                         LEGISLACION LABORAL Y PRACTICA IMPOSITIVA \n",
       "                                                               791 \n",
       "                                                            LENGUA \n",
       "                                                              7070 \n",
       "                                                 Lengua Ext.Ingles \n",
       "                                                                73 \n",
       "                                        LENGUA EXTRANJERA (INGLES) \n",
       "                                                               479 \n",
       "                                          Lengua extranjera:Inglés \n",
       "                                                                55 \n",
       "                                               LENGUA Y LITERATURA \n",
       "                                                             19912 \n",
       "                                         LENGUAJE CORPORAL Y DANZA \n",
       "                                                                23 \n",
       "                                   LENGUAJE Y PRODUCCION MUSICAL I \n",
       "                                                                29 \n",
       "                                  LENGUAJE Y PRODUCCION MUSICAL II \n",
       "                                                                23 \n",
       "                                    LENGUAJE Y PRODUCCION VISUAL I \n",
       "                                                                29 \n",
       "                                   LENGUAJE Y PRODUCCION VISUAL II \n",
       "                                                                23 \n",
       "                                               LENGUAS EXTRANJERAS \n",
       "                                                             29766 \n",
       "                                                         LITERARIO \n",
       "                                                                53 \n",
       "                                              LITERATURA ARGENTINA \n",
       "                                                               684 \n",
       "                                        LITERATURA LATINOAMERICANA \n",
       "                                                               768 \n",
       "                                                     MACROECONOMIA \n",
       "                                                               836 \n",
       "                                               MAQUINAS ELECTRICAS \n",
       "                                                                33 \n",
       "                                               MARKETING TURISTICO \n",
       "                                                                69 \n",
       "                                                        MATEMATICA \n",
       "                                                             37828 \n",
       "                                              MATEMÁTICA EN JUEGOS \n",
       "                                                                51 \n",
       "                                   METODOLOGIA DE LA INVESTIGACION \n",
       "                                                               194 \n",
       "                                                     MICROECONOMIA \n",
       "                                                              1053 \n",
       "                                                            MUSICA \n",
       "                                                             12884 \n",
       "                                 Música Creatividad y comunicación \n",
       "                                                                30 \n",
       "                                Música, Creatividad y Comunicación \n",
       "                                                                 7 \n",
       "                          OPINION PUBLICA Y MEDIOS DE COMUNICACION \n",
       "                                                                 7 \n",
       "                                           ORGANIZACION INDUSTRIAL \n",
       "                                                                48 \n",
       "                                        PRACTICAS COMUNICACIONALES \n",
       "                                                                14 \n",
       "                                              PRACTICAS EDUCATIVAS \n",
       "                                                               719 \n",
       "                                PRINCIPIOS BASICOS DE CONTABILIDAD \n",
       "                                                              1031 \n",
       "                                 PROD. VEGETAL (PARQUE Y JARDINES) \n",
       "                                                                12 \n",
       "                                      PRODUCCIÓN DE ALIMENTOS (FC) \n",
       "                                                                42 \n",
       "                  PRODUCCION MULTIMEDIAL EN LENGUAJES ARTISTICOS I \n",
       "                                                                23 \n",
       "                                            PRODUCCIÓN RADIAL (FC) \n",
       "                                                                40 \n",
       "                                         PRODUCCIÓN VEGETAL I (FC) \n",
       "                                                                42 \n",
       "                                        PRODUCCIÓN VEGETAL II (FC) \n",
       "                                                                20 \n",
       "                                PRODUCCIONES ARTISTICAS INTEGRADAS \n",
       "                                                                23 \n",
       "                                                      Programación \n",
       "                                                                55 \n",
       "                                                      PROGRAMACIÓN \n",
       "                                                                76 \n",
       "                                                          PROYECTO \n",
       "                                                                29 \n",
       "                            PROYECTO DE PRACTICA PROFESIONALIZANTE \n",
       "                                                               160 \n",
       "                          PROYECTO DE PRACTICAS PROFESIONALIZANTES \n",
       "                                                                70 \n",
       "                                    PROYECTO ORIENTACION Y TUTORIA \n",
       "                                                               945 \n",
       "                                                         PROYECTOS \n",
       "                                                                18 \n",
       "                                                        PSICOLOGIA \n",
       "                                                              1984 \n",
       "                                                           QUIMICA \n",
       "                                                              4532 \n",
       "                                                       RADIOTEATRO \n",
       "                                                               153 \n",
       "                            Reciclado de materiales y manualidades \n",
       "                                                                94 \n",
       "                                                RELACIONES HUMANAS \n",
       "                                                                48 \n",
       "                                           RESOLUCIÓN DE PROBLEMAS \n",
       "                                                               139 \n",
       "                                 SEMINARIO DE PRACTICA PROFESIONAL \n",
       "                                                                40 \n",
       "                                   SISTEMA DE INFORMACION CONTABLE \n",
       "                                                               834 \n",
       "                                        SISTEMAS DE COMUNICACIONES \n",
       "                                                                33 \n",
       "                                               SISTEMAS DE CONTROL \n",
       "                                                                48 \n",
       "                                            SISTEMAS DE TELEVISION \n",
       "                                                                48 \n",
       "                                                        SOCIOLOGIA \n",
       "                                                               395 \n",
       "                                                             T.I.C \n",
       "                                                                94 \n",
       "                                                            TALLER \n",
       "                                                               307 \n",
       "                                             TALLER ARTES VISUALES \n",
       "                                                                45 \n",
       "                                          TALLER DE ARTES VISUALES \n",
       "                                                                12 \n",
       "                                                  TALLER DE HUERTA \n",
       "                                                                50 \n",
       "                                                  TALLER DE INGLES \n",
       "                                                                89 \n",
       "                                                   TALLER DE RADIO \n",
       "                                                                35 \n",
       "                                                     TALLER DE TIC \n",
       "                                                                51 \n",
       "                                                    Taller de TIC. \n",
       "                                                                73 \n",
       "                                   TALLER ECONOMIA Y GLOBALIZACION \n",
       "                                                                54 \n",
       "                                                TALLER ELECTRONICA \n",
       "                                                                23 \n",
       "                                           TALLER II (ELECTRONICA) \n",
       "                                                                13 \n",
       "                                                     TALLER INGLES \n",
       "                                                                91 \n",
       "                                            TALLER LECTO ESCRITURA \n",
       "                                                               117 \n",
       "                                                        TALLER TIC \n",
       "                                                                70 \n",
       "                                        TALLLER  DE ARTES VISUALES \n",
       "                                                                12 \n",
       "TE - SISTEMAS Y EQUIPOS DE COMUNICACIÓN - ESPECIALIDAD ELECTRÓNICA \n",
       "                                                                15 \n",
       "                                                            TEATRO \n",
       "                                                                56 \n",
       "                                                  Teatro y Titeres \n",
       "                                                                29 \n",
       "                                                TECNICAS DIGITALES \n",
       "                                                                33 \n",
       "                       TECNOLOGIA DE LA INFORMACION Y COMUNICACION \n",
       "                                                               825 \n",
       "                    TECNOLOGIA DE LA INFORMACION Y LA COMUNICACION \n",
       "                                                               916 \n",
       "                        TECNOLOGIA DE LOS COMPONENTES ELECTRONICOS \n",
       "                                                                65 \n",
       "                                         TEORIA DE LOS CIRCUITOS I \n",
       "                                                                66 \n",
       "                                        TEORIA DE LOS CIRCUITOS II \n",
       "                                                                33 \n",
       "                            TEORIA Y GESTION DE LAS ORGANIZACIONES \n",
       "                                                              1419 \n",
       "                          TEORIA Y GESTION DE LAS ORGANIZACIONES I \n",
       "                                                               638 \n",
       "                         TEORIA Y GESTION DE LAS ORGANIZACIONES II \n",
       "                                                               469 \n",
       "                                 TEORIAS DE LA COMUNICACION I Y II \n",
       "                                                                14 \n",
       "                                                               TIC \n",
       "                                                               275 \n",
       "                                               TUTORIA DISCIPLINAR \n",
       "                                                                17 \n",
       "                                                          TUTORIAS \n",
       "                                                              3658 \n",
       "                                            TUTORIAS DISCIPLINARES \n",
       "                                                               218 \n",
       "                          Uso Sustentable de los Recursos Nat (FC) \n",
       "                                                                10 \n",
       "                         USO SUSTENTABLE DE LOS RECURSOS NAT. (FC) \n",
       "                                                                46 \n",
       "                                                   Yoga para Niños \n",
       "                                                                22 "
      ]
     },
     "metadata": {},
     "output_type": "display_data"
    }
   ],
   "source": [
    "# Muestro todas las asignaturas del dataset, para poder realizar una limpieza de las cadenas.\n",
    "table(GUALEGUAY_notas$asignatura)"
   ]
  },
  {
   "cell_type": "code",
   "execution_count": 23,
   "id": "b0a62890",
   "metadata": {
    "vscode": {
     "languageId": "r"
    }
   },
   "outputs": [
    {
     "data": {
      "text/html": [
       "<table>\n",
       "<thead><tr><th scope=col>CUE</th><th scope=col>departamento</th><th scope=col>localidad</th><th scope=col>codigoPostal</th><th scope=col>anioLectivo</th><th scope=col>esPrivada</th><th scope=col>esMultianio</th><th scope=col>nivel</th><th scope=col>nivelEnsenanza</th><th scope=col>modalidad</th><th scope=col>...</th><th scope=col>turno</th><th scope=col>idAlumno</th><th scope=col>documento</th><th scope=col>asignatura</th><th scope=col>periodoEvaluatorio</th><th scope=col>notaPrimerT</th><th scope=col>notaSegundoT</th><th scope=col>notaTercerT</th><th scope=col>promedio</th><th scope=col>resultado</th></tr></thead>\n",
       "<tbody>\n",
       "\t<tr><td>6005352            </td><td>GUALEGUAY          </td><td>GUALEGUAY          </td><td>3190               </td><td>2022               </td><td>N                  </td><td>N                  </td><td>3                  </td><td>SECUNDARIO         </td><td>Secundaria         </td><td>...                </td><td>TARDE              </td><td>1000114            </td><td>50072015           </td><td>LENGUA Y LITERATURA</td><td>Tercer Trimestre   </td><td>9                  </td><td>9                  </td><td>9                  </td><td>9.00               </td><td>Aprobado           </td></tr>\n",
       "\t<tr><td>6005352            </td><td>GUALEGUAY          </td><td>GUALEGUAY          </td><td>3190               </td><td>2022               </td><td>N                  </td><td>N                  </td><td>3                  </td><td>SECUNDARIO         </td><td>Secundaria         </td><td>...                </td><td>TARDE              </td><td>1000116            </td><td>47526536           </td><td>ARTES VISUALES     </td><td>Tercer Trimestre   </td><td>7                  </td><td>7                  </td><td>8                  </td><td>7.33               </td><td>Aprobado           </td></tr>\n",
       "</tbody>\n",
       "</table>\n"
      ],
      "text/latex": [
       "\\begin{tabular}{r|lllllllllllllllllllllll}\n",
       " CUE & departamento & localidad & codigoPostal & anioLectivo & esPrivada & esMultianio & nivel & nivelEnsenanza & modalidad & ... & turno & idAlumno & documento & asignatura & periodoEvaluatorio & notaPrimerT & notaSegundoT & notaTercerT & promedio & resultado\\\\\n",
       "\\hline\n",
       "\t 6005352             & GUALEGUAY           & GUALEGUAY           & 3190                & 2022                & N                   & N                   & 3                   & SECUNDARIO          & Secundaria          & ...                 & TARDE               & 1000114             & 50072015            & LENGUA Y LITERATURA & Tercer Trimestre    & 9                   & 9                   & 9                   & 9.00                & Aprobado           \\\\\n",
       "\t 6005352             & GUALEGUAY           & GUALEGUAY           & 3190                & 2022                & N                   & N                   & 3                   & SECUNDARIO          & Secundaria          & ...                 & TARDE               & 1000116             & 47526536            & ARTES VISUALES      & Tercer Trimestre    & 7                   & 7                   & 8                   & 7.33                & Aprobado           \\\\\n",
       "\\end{tabular}\n"
      ],
      "text/markdown": [
       "\n",
       "| CUE | departamento | localidad | codigoPostal | anioLectivo | esPrivada | esMultianio | nivel | nivelEnsenanza | modalidad | ... | turno | idAlumno | documento | asignatura | periodoEvaluatorio | notaPrimerT | notaSegundoT | notaTercerT | promedio | resultado |\n",
       "|---|---|---|---|---|---|---|---|---|---|---|---|---|---|---|---|---|---|---|---|---|\n",
       "| 6005352             | GUALEGUAY           | GUALEGUAY           | 3190                | 2022                | N                   | N                   | 3                   | SECUNDARIO          | Secundaria          | ...                 | TARDE               | 1000114             | 50072015            | LENGUA Y LITERATURA | Tercer Trimestre    | 9                   | 9                   | 9                   | 9.00                | Aprobado            |\n",
       "| 6005352             | GUALEGUAY           | GUALEGUAY           | 3190                | 2022                | N                   | N                   | 3                   | SECUNDARIO          | Secundaria          | ...                 | TARDE               | 1000116             | 47526536            | ARTES VISUALES      | Tercer Trimestre    | 7                   | 7                   | 8                   | 7.33                | Aprobado            |\n",
       "\n"
      ],
      "text/plain": [
       "  CUE     departamento localidad codigoPostal anioLectivo esPrivada esMultianio\n",
       "1 6005352 GUALEGUAY    GUALEGUAY 3190         2022        N         N          \n",
       "2 6005352 GUALEGUAY    GUALEGUAY 3190         2022        N         N          \n",
       "  nivel nivelEnsenanza modalidad  ... turno idAlumno documento\n",
       "1 3     SECUNDARIO     Secundaria ... TARDE 1000114  50072015 \n",
       "2 3     SECUNDARIO     Secundaria ... TARDE 1000116  47526536 \n",
       "  asignatura          periodoEvaluatorio notaPrimerT notaSegundoT notaTercerT\n",
       "1 LENGUA Y LITERATURA Tercer Trimestre   9           9            9          \n",
       "2 ARTES VISUALES      Tercer Trimestre   7           7            8          \n",
       "  promedio resultado\n",
       "1 9.00     Aprobado \n",
       "2 7.33     Aprobado "
      ]
     },
     "metadata": {},
     "output_type": "display_data"
    },
    {
     "data": {
      "text/html": [
       "<table>\n",
       "<thead><tr><th scope=col>CUE</th><th scope=col>departamento</th><th scope=col>localidad</th><th scope=col>codigoPostal</th><th scope=col>anioLectivo</th><th scope=col>esPrivada</th><th scope=col>esMultianio</th><th scope=col>nivel</th><th scope=col>nivelEnsenanza</th><th scope=col>modalidad</th><th scope=col>...</th><th scope=col>turno</th><th scope=col>idAlumno</th><th scope=col>documento</th><th scope=col>asignatura</th><th scope=col>periodoEvaluatorio</th><th scope=col>notaPrimerT</th><th scope=col>notaSegundoT</th><th scope=col>notaTercerT</th><th scope=col>promedio</th><th scope=col>resultado</th></tr></thead>\n",
       "<tbody>\n",
       "\t<tr><td>6005352            </td><td>GUALEGUAY          </td><td>GUALEGUAY          </td><td>3190               </td><td>2022               </td><td>N                  </td><td>N                  </td><td>3                  </td><td>SECUNDARIO         </td><td>Secundaria         </td><td>...                </td><td>TARDE              </td><td>1000114            </td><td>50072015           </td><td>LENGUA Y LITERATURA</td><td>Tercer Trimestre   </td><td>9                  </td><td>9                  </td><td>9                  </td><td>9.00               </td><td>Aprobado           </td></tr>\n",
       "\t<tr><td>6005352            </td><td>GUALEGUAY          </td><td>GUALEGUAY          </td><td>3190               </td><td>2022               </td><td>N                  </td><td>N                  </td><td>3                  </td><td>SECUNDARIO         </td><td>Secundaria         </td><td>...                </td><td>TARDE              </td><td>1000116            </td><td>47526536           </td><td>ARTES VISUALES     </td><td>Tercer Trimestre   </td><td>7                  </td><td>7                  </td><td>8                  </td><td>7.33               </td><td>Aprobado           </td></tr>\n",
       "</tbody>\n",
       "</table>\n"
      ],
      "text/latex": [
       "\\begin{tabular}{r|lllllllllllllllllllllll}\n",
       " CUE & departamento & localidad & codigoPostal & anioLectivo & esPrivada & esMultianio & nivel & nivelEnsenanza & modalidad & ... & turno & idAlumno & documento & asignatura & periodoEvaluatorio & notaPrimerT & notaSegundoT & notaTercerT & promedio & resultado\\\\\n",
       "\\hline\n",
       "\t 6005352             & GUALEGUAY           & GUALEGUAY           & 3190                & 2022                & N                   & N                   & 3                   & SECUNDARIO          & Secundaria          & ...                 & TARDE               & 1000114             & 50072015            & LENGUA Y LITERATURA & Tercer Trimestre    & 9                   & 9                   & 9                   & 9.00                & Aprobado           \\\\\n",
       "\t 6005352             & GUALEGUAY           & GUALEGUAY           & 3190                & 2022                & N                   & N                   & 3                   & SECUNDARIO          & Secundaria          & ...                 & TARDE               & 1000116             & 47526536            & ARTES VISUALES      & Tercer Trimestre    & 7                   & 7                   & 8                   & 7.33                & Aprobado           \\\\\n",
       "\\end{tabular}\n"
      ],
      "text/markdown": [
       "\n",
       "| CUE | departamento | localidad | codigoPostal | anioLectivo | esPrivada | esMultianio | nivel | nivelEnsenanza | modalidad | ... | turno | idAlumno | documento | asignatura | periodoEvaluatorio | notaPrimerT | notaSegundoT | notaTercerT | promedio | resultado |\n",
       "|---|---|---|---|---|---|---|---|---|---|---|---|---|---|---|---|---|---|---|---|---|\n",
       "| 6005352             | GUALEGUAY           | GUALEGUAY           | 3190                | 2022                | N                   | N                   | 3                   | SECUNDARIO          | Secundaria          | ...                 | TARDE               | 1000114             | 50072015            | LENGUA Y LITERATURA | Tercer Trimestre    | 9                   | 9                   | 9                   | 9.00                | Aprobado            |\n",
       "| 6005352             | GUALEGUAY           | GUALEGUAY           | 3190                | 2022                | N                   | N                   | 3                   | SECUNDARIO          | Secundaria          | ...                 | TARDE               | 1000116             | 47526536            | ARTES VISUALES      | Tercer Trimestre    | 7                   | 7                   | 8                   | 7.33                | Aprobado            |\n",
       "\n"
      ],
      "text/plain": [
       "  CUE     departamento localidad codigoPostal anioLectivo esPrivada esMultianio\n",
       "1 6005352 GUALEGUAY    GUALEGUAY 3190         2022        N         N          \n",
       "2 6005352 GUALEGUAY    GUALEGUAY 3190         2022        N         N          \n",
       "  nivel nivelEnsenanza modalidad  ... turno idAlumno documento\n",
       "1 3     SECUNDARIO     Secundaria ... TARDE 1000114  50072015 \n",
       "2 3     SECUNDARIO     Secundaria ... TARDE 1000116  47526536 \n",
       "  asignatura          periodoEvaluatorio notaPrimerT notaSegundoT notaTercerT\n",
       "1 LENGUA Y LITERATURA Tercer Trimestre   9           9            9          \n",
       "2 ARTES VISUALES      Tercer Trimestre   7           7            8          \n",
       "  promedio resultado\n",
       "1 9.00     Aprobado \n",
       "2 7.33     Aprobado "
      ]
     },
     "metadata": {},
     "output_type": "display_data"
    },
    {
     "data": {
      "text/plain": [
       "\n",
       "                                                 ABRIENDO EL JUEGO \n",
       "                                                                48 \n",
       "                                    ACOMP. AL ESTUDIO CS NATURALES \n",
       "                                                                66 \n",
       "                                   ACOMP. AL ESTUDIO CS. NATURALES \n",
       "                                                                25 \n",
       "                                    ACOMP. AL ESTUDIO CS. SOCIALES \n",
       "                                                                25 \n",
       "                                     ACOMP. AL ESTUDIO CS.SOCIALES \n",
       "                                                                65 \n",
       "                                          ACOMP. AL ESTUDIO LENGUA \n",
       "                                                                91 \n",
       "                                      ACOMP. AL ESTUDIO MATEMÁTICA \n",
       "                                                                66 \n",
       "                      ACOMPAÑAMIENTO  AL ESTUDIO CIENCIAS SOCIALES \n",
       "                                                                26 \n",
       "                                         ACOMPAÑAMIENTO AL ESTUDIO \n",
       "                                                               365 \n",
       "                      ACOMPAÑAMIENTO AL ESTUDIO CIENCIAS NATURALES \n",
       "                                                                26 \n",
       "                                  ACOMPAÑAMIENTO AL ESTUDIO LENGUA \n",
       "                                                                26 \n",
       "                    ACOMPAÑAMIENTO AL ESTUDIO LENGUA/ CS. SOCIALES \n",
       "                                                                48 \n",
       "                        ACOMPAÑAMIENTO AL ESTUDIO MAT/CS NATURALES \n",
       "                                                                48 \n",
       "                              ACOMPAÑAMINTO AL EST LENG.Y CS.SOC.. \n",
       "                                                                62 \n",
       "                                  ACOMPAÑAMINTO AL EST MAT.CS.NAT. \n",
       "                                                                62 \n",
       "                                            ACTIVIDADES CORPORALES \n",
       "                                                                19 \n",
       "                                                     AGROPECUARIAS \n",
       "                                                               165 \n",
       "                                         ALFABETIZACIÓN CIENTÍFICA \n",
       "                                                               139 \n",
       "                                               ANALISIS MATEMATICO \n",
       "                                                                82 \n",
       "                                        ARTE LÚDICO Y EXPERIMENTAL \n",
       "                                                                25 \n",
       "                                                    ARTES VISUALES \n",
       "                                                             19623 \n",
       "                                             ARTESANÍAS REGIONALES \n",
       "                                                                94 \n",
       "                                                          BIOLOGIA \n",
       "                                                             22871 \n",
       "                                           CIENCIAS DE LA TIERRA I \n",
       "                                                                90 \n",
       "                                                CIENCIAS NATURALES \n",
       "                                                              7045 \n",
       "                                     CIENCIAS NATURALES (BIOLOGIA) \n",
       "                                                               128 \n",
       "                                       CIENCIAS NATURALES (FISICA) \n",
       "                                                                10 \n",
       "                                       CIENCIAS NATURALES BIOLOGIA \n",
       "                                                               243 \n",
       "                                 CIENCIAS NATURALES FISICO-QUIMICA \n",
       "                                                               271 \n",
       "                                                 CIENCIAS SOCIALES \n",
       "                                                              7000 \n",
       "                                     CIENCIAS SOCIALES (GEOGRAFIA) \n",
       "                                                               333 \n",
       "                                      CIENCIAS SOCIALES (HISTORIA) \n",
       "                                                               331 \n",
       "                                            CIRCUITOS TURISTICOS I \n",
       "                                                                69 \n",
       "                                           CIRCUITOS TURISTICOS II \n",
       "                                                                40 \n",
       "                                         COMPUTADORAS ELECTRONICAS \n",
       "                                                                48 \n",
       "                      COMUNICACION, EDUCACION Y NUEVAS TECNOLOGIAS \n",
       "                                                                 7 \n",
       "                                                    COMUNICACIONES \n",
       "                                                                33 \n",
       "                       COSTURA, RECICLADO Y REALIZACIÓN DE PRENDAS \n",
       "                                                                18 \n",
       "                                            CULTURA Y COMUNICACION \n",
       "                                                                13 \n",
       "                               CULTURAS Y ESTETICAS CONTEMPORANEAS \n",
       "                                                                16 \n",
       "                   CULTURAS Y ESTETICAS CONTEMPORANEAS I, II Y III \n",
       "                                                                22 \n",
       "                                                             DANZA \n",
       "                                                                26 \n",
       "                                             DANZA    TEATRALIZADA \n",
       "                                                                19 \n",
       "                                                DANZA TEATRALIZADA \n",
       "                                                               167 \n",
       "                                                            DANZAS \n",
       "                                                                58 \n",
       "                                     DANZAS FOLKLORICAS ARGENTINAS \n",
       "                                                                46 \n",
       "                                                           DEPORTE \n",
       "                                                               216 \n",
       "                                         DEPORTE Y VIDA EN LA NAT. \n",
       "                                                                59 \n",
       "                                      DEPORTE, RECREACION Y JUEGOS \n",
       "                                                               117 \n",
       "                                                          DEPORTES \n",
       "                                                                70 \n",
       "                                                           DERECHO \n",
       "                                                               640 \n",
       "                                                 DERECHO COMERCIAL \n",
       "                                                               837 \n",
       "                              DESARROLLO DE LOCALIDADES TURISTICAS \n",
       "                                                                40 \n",
       "                                                    DIBUJO TECNICO \n",
       "                                                               308 \n",
       "                    DISEÑOS Y REPARACION EN CARPINTERIA Y HERRERIA \n",
       "                                                                 9 \n",
       "                                                             E.R.E \n",
       "                                                               292 \n",
       "                                                            ECO 99 \n",
       "                                                                51 \n",
       "                                                          ECOLOGIA \n",
       "                                                               102 \n",
       "                                                          ECONOMIA \n",
       "                                                              1780 \n",
       "                                                       ECONOMIA II \n",
       "                                                               201 \n",
       "                                               EDUC. PARA LA SALUD \n",
       "                                                                47 \n",
       "                                            EDUCACIÓN AGROPECUARIA \n",
       "                                                                34 \n",
       "                                                  EDUCACION FISICA \n",
       "                                                             31410 \n",
       "                                                 EDUCACION MUSICAL \n",
       "                                                              6860 \n",
       "                                                 EDUCACIÓN MUSICAL \n",
       "                                                                19 \n",
       "                                             EDUCACION TECNOLOGICA \n",
       "                                                             18411 \n",
       "                                  EDUCACIÒN Y PRÀCTICAS EN VALORES \n",
       "                                                                34 \n",
       "                                                     ELECTRONICA I \n",
       "                                                                65 \n",
       "                                                    ELECTRONICA II \n",
       "                                                                33 \n",
       "                                                EXPRESIÓN CORPORAL \n",
       "                                                                55 \n",
       "                                                         FILOSOFIA \n",
       "                                                              1064 \n",
       "                                                      FILOSOFIA II \n",
       "                                                               209 \n",
       "                                                            FISICA \n",
       "                                                              4258 \n",
       "                                                  FISICA Y QUIMICA \n",
       "                                                              7920 \n",
       "                                  FOLKLORE Y DANZAS CONTEMPORÁNEAS \n",
       "                                                                94 \n",
       "                                       FORMACION ETICA Y CIUDADANA \n",
       "                                                             27820 \n",
       "                                                  FORMATO NARRANDO \n",
       "                                                                57 \n",
       "                                                 FORMATO TECNOARTE \n",
       "                                                                35 \n",
       "                                                         GEOGRAFIA \n",
       "                                                             29708 \n",
       "                                               GEOGRAFIA AMBIENTAL \n",
       "                                                               211 \n",
       "                                                          HISTORIA \n",
       "                                                             29771 \n",
       "                      HUERTA, JARDINES Y DISEÑO DE ESPACIOS VERDES \n",
       "                                                                 8 \n",
       "                                         IDIOMA EXTRANJERO: INGLÉS \n",
       "                                                               164 \n",
       "                                          IDIOMA EXTRANJERO:INGLES \n",
       "                                                                26 \n",
       "                                         IDIOMA EXTRANJERO; INGLES \n",
       "                                                                26 \n",
       "                                                       INFORMATICA \n",
       "                                                                54 \n",
       "                                     INFORMATICA Y MULTIMEDIA (FC) \n",
       "                                                                56 \n",
       "                                     INFORMÁTICA Y MULTIMEDIA (FC) \n",
       "                                                               532 \n",
       "                      INFRAESTRUCTURA TURISTICA Y TURISMO TERMAL I \n",
       "                                                                57 \n",
       "                     INFRAESTRUCTURA TURISTICA Y TURISMO TERMAL II \n",
       "                                                                40 \n",
       "                                                            INGLES \n",
       "                                                               131 \n",
       "                                                            INGLÉS \n",
       "                                                               361 \n",
       "                                                INICIACION MUSICAL \n",
       "                                                                30 \n",
       "                                                INICIACIÓN MUSICAL \n",
       "                                                                12 \n",
       "                                                INICIACIÒN MUSICAL \n",
       "                                                                49 \n",
       "                    INSERCIÓN LABORAL Y FORMACIÓN DE EMPRENDEDORES \n",
       "                                                                 9 \n",
       "                                                   INSTRUMENTACION \n",
       "                                                                33 \n",
       "                                         INTERVENCIONES ARTISTICAS \n",
       "                                                                66 \n",
       "                                  INTRODUCCION A LA ADMINISTRACION \n",
       "                                                              1058 \n",
       "                                    INTRODUCCION A LA HOSPITALIDAD \n",
       "                                                                53 \n",
       "                INTRODUCCION A LA INVESTIGACION EN CIENCIAS NATURA \n",
       "                                                                57 \n",
       "             INTRODUCCION A LA INVESTIGACION EN CIENCIAS NATURALES \n",
       "                                                                49 \n",
       "                                           INTRODUCCION AL TURISMO \n",
       "                                                                53 \n",
       "                                       LABORATORIO DE COMPUTADORAS \n",
       "                                                                48 \n",
       "                                                     LABORATORIO I \n",
       "                                                                66 \n",
       "                                                    LABORATORIO II \n",
       "                                                                33 \n",
       "                                                   LABORATORIO III \n",
       "                                                                48 \n",
       "                         LEGISLACION LABORAL Y PRACTICA IMPOSITIVA \n",
       "                                                               791 \n",
       "                                                            LENGUA \n",
       "                                                              7070 \n",
       "                                                 LENGUA EXT.INGLES \n",
       "                                                                73 \n",
       "                                        LENGUA EXTRANJERA (INGLES) \n",
       "                                                               479 \n",
       "                                          LENGUA EXTRANJERA:INGLÉS \n",
       "                                                                55 \n",
       "                                               LENGUA Y LITERATURA \n",
       "                                                             19912 \n",
       "                                         LENGUAJE CORPORAL Y DANZA \n",
       "                                                                23 \n",
       "                                   LENGUAJE Y PRODUCCION MUSICAL I \n",
       "                                                                29 \n",
       "                                  LENGUAJE Y PRODUCCION MUSICAL II \n",
       "                                                                23 \n",
       "                                    LENGUAJE Y PRODUCCION VISUAL I \n",
       "                                                                29 \n",
       "                                   LENGUAJE Y PRODUCCION VISUAL II \n",
       "                                                                23 \n",
       "                                               LENGUAS EXTRANJERAS \n",
       "                                                             29766 \n",
       "                                                         LITERARIO \n",
       "                                                                53 \n",
       "                                              LITERATURA ARGENTINA \n",
       "                                                               684 \n",
       "                                        LITERATURA LATINOAMERICANA \n",
       "                                                               768 \n",
       "                                                     MACROECONOMIA \n",
       "                                                               836 \n",
       "                                               MAQUINAS ELECTRICAS \n",
       "                                                                33 \n",
       "                                               MARKETING TURISTICO \n",
       "                                                                69 \n",
       "                                                        MATEMATICA \n",
       "                                                             37828 \n",
       "                                              MATEMÁTICA EN JUEGOS \n",
       "                                                                51 \n",
       "                                   METODOLOGIA DE LA INVESTIGACION \n",
       "                                                               194 \n",
       "                                                     MICROECONOMIA \n",
       "                                                              1053 \n",
       "                                                            MUSICA \n",
       "                                                             12884 \n",
       "                                 MÚSICA CREATIVIDAD Y COMUNICACIÓN \n",
       "                                                                30 \n",
       "                                MÚSICA, CREATIVIDAD Y COMUNICACIÓN \n",
       "                                                                 7 \n",
       "                          OPINION PUBLICA Y MEDIOS DE COMUNICACION \n",
       "                                                                 7 \n",
       "                                           ORGANIZACION INDUSTRIAL \n",
       "                                                                48 \n",
       "                                        PRACTICAS COMUNICACIONALES \n",
       "                                                                14 \n",
       "                                              PRACTICAS EDUCATIVAS \n",
       "                                                               719 \n",
       "                                PRINCIPIOS BASICOS DE CONTABILIDAD \n",
       "                                                              1031 \n",
       "                                 PROD. VEGETAL (PARQUE Y JARDINES) \n",
       "                                                                12 \n",
       "                                      PRODUCCIÓN DE ALIMENTOS (FC) \n",
       "                                                                42 \n",
       "                  PRODUCCION MULTIMEDIAL EN LENGUAJES ARTISTICOS I \n",
       "                                                                23 \n",
       "                                            PRODUCCIÓN RADIAL (FC) \n",
       "                                                                40 \n",
       "                                         PRODUCCIÓN VEGETAL I (FC) \n",
       "                                                                42 \n",
       "                                        PRODUCCIÓN VEGETAL II (FC) \n",
       "                                                                20 \n",
       "                                PRODUCCIONES ARTISTICAS INTEGRADAS \n",
       "                                                                23 \n",
       "                                                      PROGRAMACIÓN \n",
       "                                                               131 \n",
       "                                                          PROYECTO \n",
       "                                                                29 \n",
       "                            PROYECTO DE PRACTICA PROFESIONALIZANTE \n",
       "                                                               160 \n",
       "                          PROYECTO DE PRACTICAS PROFESIONALIZANTES \n",
       "                                                                70 \n",
       "                                    PROYECTO ORIENTACION Y TUTORIA \n",
       "                                                               945 \n",
       "                                                         PROYECTOS \n",
       "                                                                18 \n",
       "                                                        PSICOLOGIA \n",
       "                                                              1984 \n",
       "                                                           QUIMICA \n",
       "                                                              4532 \n",
       "                                                       RADIOTEATRO \n",
       "                                                               153 \n",
       "                            RECICLADO DE MATERIALES Y MANUALIDADES \n",
       "                                                                94 \n",
       "                                                RELACIONES HUMANAS \n",
       "                                                                48 \n",
       "                                           RESOLUCIÓN DE PROBLEMAS \n",
       "                                                               139 \n",
       "                                 SEMINARIO DE PRACTICA PROFESIONAL \n",
       "                                                                40 \n",
       "                                   SISTEMA DE INFORMACION CONTABLE \n",
       "                                                               834 \n",
       "                                        SISTEMAS DE COMUNICACIONES \n",
       "                                                                33 \n",
       "                                               SISTEMAS DE CONTROL \n",
       "                                                                48 \n",
       "                                            SISTEMAS DE TELEVISION \n",
       "                                                                48 \n",
       "                                                        SOCIOLOGIA \n",
       "                                                               395 \n",
       "                                                             T.I.C \n",
       "                                                                94 \n",
       "                                                            TALLER \n",
       "                                                               307 \n",
       "                                             TALLER ARTES VISUALES \n",
       "                                                                45 \n",
       "                                          TALLER DE ARTES VISUALES \n",
       "                                                                12 \n",
       "                                                  TALLER DE HUERTA \n",
       "                                                                50 \n",
       "                                                  TALLER DE INGLES \n",
       "                                                                89 \n",
       "                                                   TALLER DE RADIO \n",
       "                                                                35 \n",
       "                                                     TALLER DE TIC \n",
       "                                                                51 \n",
       "                                                    TALLER DE TIC. \n",
       "                                                                73 \n",
       "                                   TALLER ECONOMIA Y GLOBALIZACION \n",
       "                                                                54 \n",
       "                                                TALLER ELECTRONICA \n",
       "                                                                23 \n",
       "                                           TALLER II (ELECTRONICA) \n",
       "                                                                13 \n",
       "                                                     TALLER INGLES \n",
       "                                                                91 \n",
       "                                            TALLER LECTO ESCRITURA \n",
       "                                                               117 \n",
       "                                                        TALLER TIC \n",
       "                                                                70 \n",
       "                                        TALLLER  DE ARTES VISUALES \n",
       "                                                                12 \n",
       "TE - SISTEMAS Y EQUIPOS DE COMUNICACIÓN - ESPECIALIDAD ELECTRÓNICA \n",
       "                                                                15 \n",
       "                                                            TEATRO \n",
       "                                                                56 \n",
       "                                                  TEATRO Y TITERES \n",
       "                                                                29 \n",
       "                                                TECNICAS DIGITALES \n",
       "                                                                33 \n",
       "                       TECNOLOGIA DE LA INFORMACION Y COMUNICACION \n",
       "                                                               825 \n",
       "                    TECNOLOGIA DE LA INFORMACION Y LA COMUNICACION \n",
       "                                                               916 \n",
       "                        TECNOLOGIA DE LOS COMPONENTES ELECTRONICOS \n",
       "                                                                65 \n",
       "                                         TEORIA DE LOS CIRCUITOS I \n",
       "                                                                66 \n",
       "                                        TEORIA DE LOS CIRCUITOS II \n",
       "                                                                33 \n",
       "                            TEORIA Y GESTION DE LAS ORGANIZACIONES \n",
       "                                                              1419 \n",
       "                          TEORIA Y GESTION DE LAS ORGANIZACIONES I \n",
       "                                                               638 \n",
       "                         TEORIA Y GESTION DE LAS ORGANIZACIONES II \n",
       "                                                               469 \n",
       "                                 TEORIAS DE LA COMUNICACION I Y II \n",
       "                                                                14 \n",
       "                                                               TIC \n",
       "                                                               275 \n",
       "                                               TUTORIA DISCIPLINAR \n",
       "                                                                17 \n",
       "                                                          TUTORIAS \n",
       "                                                              3658 \n",
       "                                            TUTORIAS DISCIPLINARES \n",
       "                                                               218 \n",
       "                          USO SUSTENTABLE DE LOS RECURSOS NAT (FC) \n",
       "                                                                10 \n",
       "                         USO SUSTENTABLE DE LOS RECURSOS NAT. (FC) \n",
       "                                                                46 \n",
       "                                                   YOGA PARA NIÑOS \n",
       "                                                                22 "
      ]
     },
     "metadata": {},
     "output_type": "display_data"
    }
   ],
   "source": [
    "# Muestro dataset antes de la limpieza\n",
    "head(GUALEGUAY_notas, 2)\n",
    "\n",
    "# Convierto a mayúsculas todas las cadenas de las asignaturas\n",
    "GUALEGUAY_notas$asignatura <- toupper(GUALEGUAY_notas$asignatura)\n",
    "\n",
    "# Muestro dataset luego de convertir todas las letras de las asignaturas en mayúsculas\n",
    "head(GUALEGUAY_notas, 2)\n",
    "table(GUALEGUAY_notas$asignatura)"
   ]
  },
  {
   "cell_type": "markdown",
   "id": "9bceeae5",
   "metadata": {},
   "source": [
    "### Muestro variables relevantes del dataframe, para luego filtrar en base a los parámetros adecuados."
   ]
  },
  {
   "cell_type": "code",
   "execution_count": 24,
   "id": "d21c9908",
   "metadata": {
    "vscode": {
     "languageId": "r"
    }
   },
   "outputs": [
    {
     "data": {
      "text/html": [
       "<ol class=list-inline>\n",
       "\t<li>'CUE'</li>\n",
       "\t<li>'departamento'</li>\n",
       "\t<li>'localidad'</li>\n",
       "\t<li>'codigoPostal'</li>\n",
       "\t<li>'anioLectivo'</li>\n",
       "\t<li>'esPrivada'</li>\n",
       "\t<li>'esMultianio'</li>\n",
       "\t<li>'nivel'</li>\n",
       "\t<li>'nivelEnsenanza'</li>\n",
       "\t<li>'modalidad'</li>\n",
       "\t<li>'idModEnsenanza'</li>\n",
       "\t<li>'modEnsenanza'</li>\n",
       "\t<li>'curso'</li>\n",
       "\t<li>'turno'</li>\n",
       "\t<li>'idAlumno'</li>\n",
       "\t<li>'documento'</li>\n",
       "\t<li>'asignatura'</li>\n",
       "\t<li>'periodoEvaluatorio'</li>\n",
       "\t<li>'notaPrimerT'</li>\n",
       "\t<li>'notaSegundoT'</li>\n",
       "\t<li>'notaTercerT'</li>\n",
       "\t<li>'promedio'</li>\n",
       "\t<li>'resultado'</li>\n",
       "</ol>\n"
      ],
      "text/latex": [
       "\\begin{enumerate*}\n",
       "\\item 'CUE'\n",
       "\\item 'departamento'\n",
       "\\item 'localidad'\n",
       "\\item 'codigoPostal'\n",
       "\\item 'anioLectivo'\n",
       "\\item 'esPrivada'\n",
       "\\item 'esMultianio'\n",
       "\\item 'nivel'\n",
       "\\item 'nivelEnsenanza'\n",
       "\\item 'modalidad'\n",
       "\\item 'idModEnsenanza'\n",
       "\\item 'modEnsenanza'\n",
       "\\item 'curso'\n",
       "\\item 'turno'\n",
       "\\item 'idAlumno'\n",
       "\\item 'documento'\n",
       "\\item 'asignatura'\n",
       "\\item 'periodoEvaluatorio'\n",
       "\\item 'notaPrimerT'\n",
       "\\item 'notaSegundoT'\n",
       "\\item 'notaTercerT'\n",
       "\\item 'promedio'\n",
       "\\item 'resultado'\n",
       "\\end{enumerate*}\n"
      ],
      "text/markdown": [
       "1. 'CUE'\n",
       "2. 'departamento'\n",
       "3. 'localidad'\n",
       "4. 'codigoPostal'\n",
       "5. 'anioLectivo'\n",
       "6. 'esPrivada'\n",
       "7. 'esMultianio'\n",
       "8. 'nivel'\n",
       "9. 'nivelEnsenanza'\n",
       "10. 'modalidad'\n",
       "11. 'idModEnsenanza'\n",
       "12. 'modEnsenanza'\n",
       "13. 'curso'\n",
       "14. 'turno'\n",
       "15. 'idAlumno'\n",
       "16. 'documento'\n",
       "17. 'asignatura'\n",
       "18. 'periodoEvaluatorio'\n",
       "19. 'notaPrimerT'\n",
       "20. 'notaSegundoT'\n",
       "21. 'notaTercerT'\n",
       "22. 'promedio'\n",
       "23. 'resultado'\n",
       "\n",
       "\n"
      ],
      "text/plain": [
       " [1] \"CUE\"                \"departamento\"       \"localidad\"         \n",
       " [4] \"codigoPostal\"       \"anioLectivo\"        \"esPrivada\"         \n",
       " [7] \"esMultianio\"        \"nivel\"              \"nivelEnsenanza\"    \n",
       "[10] \"modalidad\"          \"idModEnsenanza\"     \"modEnsenanza\"      \n",
       "[13] \"curso\"              \"turno\"              \"idAlumno\"          \n",
       "[16] \"documento\"          \"asignatura\"         \"periodoEvaluatorio\"\n",
       "[19] \"notaPrimerT\"        \"notaSegundoT\"       \"notaTercerT\"       \n",
       "[22] \"promedio\"           \"resultado\"         "
      ]
     },
     "metadata": {},
     "output_type": "display_data"
    },
    {
     "data": {
      "text/html": [
       "<ol class=list-inline>\n",
       "\t<li>360544</li>\n",
       "\t<li>23</li>\n",
       "</ol>\n"
      ],
      "text/latex": [
       "\\begin{enumerate*}\n",
       "\\item 360544\n",
       "\\item 23\n",
       "\\end{enumerate*}\n"
      ],
      "text/markdown": [
       "1. 360544\n",
       "2. 23\n",
       "\n",
       "\n"
      ],
      "text/plain": [
       "[1] 360544     23"
      ]
     },
     "metadata": {},
     "output_type": "display_data"
    },
    {
     "data": {
      "text/html": [
       "<table>\n",
       "<thead><tr><th scope=col>CUE</th><th scope=col>departamento</th><th scope=col>localidad</th><th scope=col>codigoPostal</th><th scope=col>anioLectivo</th><th scope=col>esPrivada</th><th scope=col>esMultianio</th><th scope=col>nivel</th><th scope=col>nivelEnsenanza</th><th scope=col>modalidad</th><th scope=col>...</th><th scope=col>turno</th><th scope=col>idAlumno</th><th scope=col>documento</th><th scope=col>asignatura</th><th scope=col>periodoEvaluatorio</th><th scope=col>notaPrimerT</th><th scope=col>notaSegundoT</th><th scope=col>notaTercerT</th><th scope=col>promedio</th><th scope=col>resultado</th></tr></thead>\n",
       "<tbody>\n",
       "\t<tr><td>6005352            </td><td>GUALEGUAY          </td><td>GUALEGUAY          </td><td>3190               </td><td>2022               </td><td>N                  </td><td>N                  </td><td>3                  </td><td>SECUNDARIO         </td><td>Secundaria         </td><td>...                </td><td>TARDE              </td><td>1000114            </td><td>50072015           </td><td>LENGUA Y LITERATURA</td><td>Tercer Trimestre   </td><td>9                  </td><td>9                  </td><td>9                  </td><td>9.00               </td><td>Aprobado           </td></tr>\n",
       "\t<tr><td>6005352            </td><td>GUALEGUAY          </td><td>GUALEGUAY          </td><td>3190               </td><td>2022               </td><td>N                  </td><td>N                  </td><td>3                  </td><td>SECUNDARIO         </td><td>Secundaria         </td><td>...                </td><td>TARDE              </td><td>1000116            </td><td>47526536           </td><td>ARTES VISUALES     </td><td>Tercer Trimestre   </td><td>7                  </td><td>7                  </td><td>8                  </td><td>7.33               </td><td>Aprobado           </td></tr>\n",
       "\t<tr><td>6005352            </td><td>GUALEGUAY          </td><td>GUALEGUAY          </td><td>3190               </td><td>2022               </td><td>N                  </td><td>N                  </td><td>3                  </td><td>SECUNDARIO         </td><td>Secundaria         </td><td>...                </td><td>TARDE              </td><td>1000116            </td><td>47526536           </td><td>BIOLOGIA           </td><td>Tercer Trimestre   </td><td>7                  </td><td>8                  </td><td>9                  </td><td>8.00               </td><td>Aprobado           </td></tr>\n",
       "\t<tr><td>6005352            </td><td>GUALEGUAY          </td><td>GUALEGUAY          </td><td>3190               </td><td>2022               </td><td>N                  </td><td>N                  </td><td>3                  </td><td>SECUNDARIO         </td><td>Secundaria         </td><td>...                </td><td>TARDE              </td><td>1000116            </td><td>47526536           </td><td>ECONOMIA           </td><td>Tercer Trimestre   </td><td>7                  </td><td>6                  </td><td>4                  </td><td>5.67               </td><td>Rinde              </td></tr>\n",
       "\t<tr><td>6005352            </td><td>GUALEGUAY          </td><td>GUALEGUAY          </td><td>3190               </td><td>2022               </td><td>N                  </td><td>N                  </td><td>3                  </td><td>SECUNDARIO         </td><td>Secundaria         </td><td>...                </td><td>TARDE              </td><td>1000116            </td><td>47526536           </td><td>EDUCACION FISICA   </td><td>Tercer Trimestre   </td><td>9                  </td><td>9                  </td><td>8                  </td><td>8.67               </td><td>Aprobado           </td></tr>\n",
       "\t<tr><td>6005352            </td><td>GUALEGUAY          </td><td>GUALEGUAY          </td><td>3190               </td><td>2022               </td><td>N                  </td><td>N                  </td><td>3                  </td><td>SECUNDARIO         </td><td>Secundaria         </td><td>...                </td><td>TARDE              </td><td>1000116            </td><td>47526536           </td><td>FISICA             </td><td>Tercer Trimestre   </td><td>4                  </td><td>4                  </td><td>3                  </td><td>3.67               </td><td>Rinde              </td></tr>\n",
       "</tbody>\n",
       "</table>\n"
      ],
      "text/latex": [
       "\\begin{tabular}{r|lllllllllllllllllllllll}\n",
       " CUE & departamento & localidad & codigoPostal & anioLectivo & esPrivada & esMultianio & nivel & nivelEnsenanza & modalidad & ... & turno & idAlumno & documento & asignatura & periodoEvaluatorio & notaPrimerT & notaSegundoT & notaTercerT & promedio & resultado\\\\\n",
       "\\hline\n",
       "\t 6005352             & GUALEGUAY           & GUALEGUAY           & 3190                & 2022                & N                   & N                   & 3                   & SECUNDARIO          & Secundaria          & ...                 & TARDE               & 1000114             & 50072015            & LENGUA Y LITERATURA & Tercer Trimestre    & 9                   & 9                   & 9                   & 9.00                & Aprobado           \\\\\n",
       "\t 6005352             & GUALEGUAY           & GUALEGUAY           & 3190                & 2022                & N                   & N                   & 3                   & SECUNDARIO          & Secundaria          & ...                 & TARDE               & 1000116             & 47526536            & ARTES VISUALES      & Tercer Trimestre    & 7                   & 7                   & 8                   & 7.33                & Aprobado           \\\\\n",
       "\t 6005352             & GUALEGUAY           & GUALEGUAY           & 3190                & 2022                & N                   & N                   & 3                   & SECUNDARIO          & Secundaria          & ...                 & TARDE               & 1000116             & 47526536            & BIOLOGIA            & Tercer Trimestre    & 7                   & 8                   & 9                   & 8.00                & Aprobado           \\\\\n",
       "\t 6005352             & GUALEGUAY           & GUALEGUAY           & 3190                & 2022                & N                   & N                   & 3                   & SECUNDARIO          & Secundaria          & ...                 & TARDE               & 1000116             & 47526536            & ECONOMIA            & Tercer Trimestre    & 7                   & 6                   & 4                   & 5.67                & Rinde              \\\\\n",
       "\t 6005352             & GUALEGUAY           & GUALEGUAY           & 3190                & 2022                & N                   & N                   & 3                   & SECUNDARIO          & Secundaria          & ...                 & TARDE               & 1000116             & 47526536            & EDUCACION FISICA    & Tercer Trimestre    & 9                   & 9                   & 8                   & 8.67                & Aprobado           \\\\\n",
       "\t 6005352             & GUALEGUAY           & GUALEGUAY           & 3190                & 2022                & N                   & N                   & 3                   & SECUNDARIO          & Secundaria          & ...                 & TARDE               & 1000116             & 47526536            & FISICA              & Tercer Trimestre    & 4                   & 4                   & 3                   & 3.67                & Rinde              \\\\\n",
       "\\end{tabular}\n"
      ],
      "text/markdown": [
       "\n",
       "| CUE | departamento | localidad | codigoPostal | anioLectivo | esPrivada | esMultianio | nivel | nivelEnsenanza | modalidad | ... | turno | idAlumno | documento | asignatura | periodoEvaluatorio | notaPrimerT | notaSegundoT | notaTercerT | promedio | resultado |\n",
       "|---|---|---|---|---|---|---|---|---|---|---|---|---|---|---|---|---|---|---|---|---|\n",
       "| 6005352             | GUALEGUAY           | GUALEGUAY           | 3190                | 2022                | N                   | N                   | 3                   | SECUNDARIO          | Secundaria          | ...                 | TARDE               | 1000114             | 50072015            | LENGUA Y LITERATURA | Tercer Trimestre    | 9                   | 9                   | 9                   | 9.00                | Aprobado            |\n",
       "| 6005352             | GUALEGUAY           | GUALEGUAY           | 3190                | 2022                | N                   | N                   | 3                   | SECUNDARIO          | Secundaria          | ...                 | TARDE               | 1000116             | 47526536            | ARTES VISUALES      | Tercer Trimestre    | 7                   | 7                   | 8                   | 7.33                | Aprobado            |\n",
       "| 6005352             | GUALEGUAY           | GUALEGUAY           | 3190                | 2022                | N                   | N                   | 3                   | SECUNDARIO          | Secundaria          | ...                 | TARDE               | 1000116             | 47526536            | BIOLOGIA            | Tercer Trimestre    | 7                   | 8                   | 9                   | 8.00                | Aprobado            |\n",
       "| 6005352             | GUALEGUAY           | GUALEGUAY           | 3190                | 2022                | N                   | N                   | 3                   | SECUNDARIO          | Secundaria          | ...                 | TARDE               | 1000116             | 47526536            | ECONOMIA            | Tercer Trimestre    | 7                   | 6                   | 4                   | 5.67                | Rinde               |\n",
       "| 6005352             | GUALEGUAY           | GUALEGUAY           | 3190                | 2022                | N                   | N                   | 3                   | SECUNDARIO          | Secundaria          | ...                 | TARDE               | 1000116             | 47526536            | EDUCACION FISICA    | Tercer Trimestre    | 9                   | 9                   | 8                   | 8.67                | Aprobado            |\n",
       "| 6005352             | GUALEGUAY           | GUALEGUAY           | 3190                | 2022                | N                   | N                   | 3                   | SECUNDARIO          | Secundaria          | ...                 | TARDE               | 1000116             | 47526536            | FISICA              | Tercer Trimestre    | 4                   | 4                   | 3                   | 3.67                | Rinde               |\n",
       "\n"
      ],
      "text/plain": [
       "  CUE     departamento localidad codigoPostal anioLectivo esPrivada esMultianio\n",
       "1 6005352 GUALEGUAY    GUALEGUAY 3190         2022        N         N          \n",
       "2 6005352 GUALEGUAY    GUALEGUAY 3190         2022        N         N          \n",
       "3 6005352 GUALEGUAY    GUALEGUAY 3190         2022        N         N          \n",
       "4 6005352 GUALEGUAY    GUALEGUAY 3190         2022        N         N          \n",
       "5 6005352 GUALEGUAY    GUALEGUAY 3190         2022        N         N          \n",
       "6 6005352 GUALEGUAY    GUALEGUAY 3190         2022        N         N          \n",
       "  nivel nivelEnsenanza modalidad  ... turno idAlumno documento\n",
       "1 3     SECUNDARIO     Secundaria ... TARDE 1000114  50072015 \n",
       "2 3     SECUNDARIO     Secundaria ... TARDE 1000116  47526536 \n",
       "3 3     SECUNDARIO     Secundaria ... TARDE 1000116  47526536 \n",
       "4 3     SECUNDARIO     Secundaria ... TARDE 1000116  47526536 \n",
       "5 3     SECUNDARIO     Secundaria ... TARDE 1000116  47526536 \n",
       "6 3     SECUNDARIO     Secundaria ... TARDE 1000116  47526536 \n",
       "  asignatura          periodoEvaluatorio notaPrimerT notaSegundoT notaTercerT\n",
       "1 LENGUA Y LITERATURA Tercer Trimestre   9           9            9          \n",
       "2 ARTES VISUALES      Tercer Trimestre   7           7            8          \n",
       "3 BIOLOGIA            Tercer Trimestre   7           8            9          \n",
       "4 ECONOMIA            Tercer Trimestre   7           6            4          \n",
       "5 EDUCACION FISICA    Tercer Trimestre   9           9            8          \n",
       "6 FISICA              Tercer Trimestre   4           4            3          \n",
       "  promedio resultado\n",
       "1 9.00     Aprobado \n",
       "2 7.33     Aprobado \n",
       "3 8.00     Aprobado \n",
       "4 5.67     Rinde    \n",
       "5 8.67     Aprobado \n",
       "6 3.67     Rinde    "
      ]
     },
     "metadata": {},
     "output_type": "display_data"
    },
    {
     "data": {
      "text/plain": [
       "    EGB 3 PRIMARIO SECUNDARIO\n",
       "                             \n",
       "2       0    60816          0\n",
       "3   28975       40     270713"
      ]
     },
     "metadata": {},
     "output_type": "display_data"
    },
    {
     "data": {
      "text/plain": [
       " Primaria Secundaria Secundaria 3 años\n",
       "                                      \n",
       "    60816     232384             67344"
      ]
     },
     "metadata": {},
     "output_type": "display_data"
    },
    {
     "data": {
      "text/plain": [
       "    Adultos Agrotécnica  Comun Escuelas NINA Técnica\n",
       "                                                    \n",
       "1     90517           0      0             0       0\n",
       "5         0           0 263501             0       0\n",
       "7         0           0      0             0    6133\n",
       "8         0         191      0             0       0\n",
       "15        0           0      0           202       0"
      ]
     },
     "metadata": {},
     "output_type": "display_data"
    },
    {
     "data": {
      "text/plain": [
       "            Adultos Agrotécnica  Comun Escuelas NINA Técnica\n",
       "                                                            \n",
       "EGB 3           173          12  28596             0     194\n",
       "PRIMARIO         43           0  60611           202       0\n",
       "SECUNDARIO    90301         179 174294             0    5939"
      ]
     },
     "metadata": {},
     "output_type": "display_data"
    }
   ],
   "source": [
    "names(GUALEGUAY_notas)\n",
    "dim(GUALEGUAY_notas)\n",
    "head(GUALEGUAY_notas)\n",
    "ftable(GUALEGUAY_notas$nivel, GUALEGUAY_notas$nivelEnsenanza)\n",
    "ftable(GUALEGUAY_notas$modalidad)\n",
    "ftable(GUALEGUAY_notas$idModEnsenanza, GUALEGUAY_notas$modEnsenanza)\n",
    "ftable(GUALEGUAY_notas$nivelEnsenanza, GUALEGUAY_notas$modEnsenanza)"
   ]
  },
  {
   "cell_type": "markdown",
   "id": "b9cc8dbd",
   "metadata": {},
   "source": [
    "Filtro el dataframe en base a los requisitos que se piden en la consigna.  \n",
    "(Enseñanza común y técnica, primaria y secundaria, año lectivo 2022)"
   ]
  },
  {
   "cell_type": "code",
   "execution_count": 25,
   "id": "de571cd7",
   "metadata": {
    "vscode": {
     "languageId": "r"
    }
   },
   "outputs": [
    {
     "data": {
      "text/plain": [
       "    Agrotécnica  Comun Escuelas NINA Técnica\n",
       "                                            \n",
       "5             0 263501             0       0\n",
       "7             0      0             0    6133\n",
       "8           191      0             0       0\n",
       "15            0      0           202       0"
      ]
     },
     "metadata": {},
     "output_type": "display_data"
    },
    {
     "data": {
      "text/plain": [
       "            Agrotécnica  Comun Escuelas NINA Técnica\n",
       "                                                    \n",
       "EGB 3                12  28596             0     194\n",
       "PRIMARIO              0  60611           202       0\n",
       "SECUNDARIO          179 174294             0    5939"
      ]
     },
     "metadata": {},
     "output_type": "display_data"
    },
    {
     "data": {
      "text/plain": [
       "   2022\n",
       "       \n",
       " 121852"
      ]
     },
     "metadata": {},
     "output_type": "display_data"
    }
   ],
   "source": [
    "# Filtro modalidades de enseñanza que no se piden en la consinga (Adultos)\n",
    "GUALEGUAY_notasFiltradas <- filter(GUALEGUAY_notas, modEnsenanza==\"Agrotécnica\" | modEnsenanza==\"Comun\" | modEnsenanza==\"Escuelas NINA\" | modEnsenanza==\"Técnica\")\n",
    "ftable(GUALEGUAY_notasFiltradas$idModEnsenanza, GUALEGUAY_notasFiltradas$modEnsenanza)\n",
    "ftable(GUALEGUAY_notasFiltradas$nivelEnsenanza, GUALEGUAY_notasFiltradas$modEnsenanza)\n",
    "\n",
    "# Selecciono los registros que pertenecen al año lectivo 2022\n",
    "GUALEGUAY_notasFiltradas <- filter(GUALEGUAY_notasFiltradas, anioLectivo==2022)\n",
    "ftable(GUALEGUAY_notasFiltradas$anioLectivo)"
   ]
  },
  {
   "cell_type": "markdown",
   "id": "97e76486",
   "metadata": {},
   "source": [
    "Creo una variable año cursado, filtrando por la variable curso"
   ]
  },
  {
   "cell_type": "code",
   "execution_count": 26,
   "id": "091a8a9f",
   "metadata": {
    "vscode": {
     "languageId": "r"
    }
   },
   "outputs": [
    {
     "data": {
      "text/plain": [
       "\n",
       "    1- 6 - A Prim      1-2 - A Prim      1-3 - A Prim      1-6 - a Prim \n",
       "               32               165               407                40 \n",
       "     1-6 - A Prim     1-6º - I Prim        1 - 1 Prim      1 - 1 RCBCET \n",
       "              869                48                96               299 \n",
       "       1 - 2 Prim      1 - 2 RCBCET        1 - 3 Prim         1 - 5 CBC \n",
       "               96               324               104               140 \n",
       "   1 - 6 - A Prim       1 - A 4000E         1 - A CBC        1 - A Prim \n",
       "               32               113              3917              3413 \n",
       "        1 - B CBC        1 - B Prim         1 - C CBC        1 - C Prim \n",
       "             2188              2577               392              1593 \n",
       "        1 - D CBC        1 - D Prim         1 - E CBC        1 - E Prim \n",
       "              390               519                14               160 \n",
       "        1 - F CBC    1 y 2 - A Prim 1, 2 y 3 - A Prim  1,2 y 3 - A Prim \n",
       "               32               359                48                84 \n",
       "  1°- 3° - A Prim    1°-6° - A Prim     1°° - A 4000S      1ro - 1 Prim \n",
       "               48                32               119                96 \n",
       "     1ro - 2 Prim      1ro - 3 Prim         2 - 1 CBC        2 - 1 Prim \n",
       "               96                96               198               109 \n",
       "     2 - 1 RCBCET         2 - 2 CBC        2 - 2 Prim      2 - 2 RCBCET \n",
       "              344               144               112               335 \n",
       "        2 - 3 CBC        2 - 3 Prim         2 - 4 CBC         2 - 5 CBC \n",
       "              165               112               164               228 \n",
       "      2 - A 4000E         2 - A CBC        2 - A Prim         2 - B CBC \n",
       "               63              3841              3227              1890 \n",
       "       2 - B Prim         2 - C CBC        2 - C Prim         2 - D CBC \n",
       "             2562               288              1652               236 \n",
       "       2 - D Prim         2 - E CBC        2 - E Prim        2 - F Prim \n",
       "              870                22               280               120 \n",
       "    2°° - A 4000S      2do - 1 Prim      2do - 2 Prim      2do - 3 Prim \n",
       "              128               120               128                84 \n",
       " 3-4-5-6 - A Prim      3-4 - A Prim        3 - 1 Prim      3 - 1 RCBCET \n",
       "               80               141               104               389 \n",
       "        3 - 2 CBC        3 - 2 Prim      3 - 2 RCBCET        3 - 3 Prim \n",
       "              312                96               410                80 \n",
       "        3 - 4 CBC         3 - 5 CBC       3 - A 4000E         3 - A CBC \n",
       "              240               156               176              5439 \n",
       "       3 - A Prim         3 - b CBC         3 - B CBC        3 - B Prim \n",
       "             3425               228              1492              2408 \n",
       "        3 - C CBC        3 - C Prim        3 - D Prim        3 - E Prim \n",
       "              555              1449               567               176 \n",
       "   3 y 4 - A Prim     3°° - A 4000S      3ro - 1 Prim      3ro - 2 Prim \n",
       "              167               126               128               104 \n",
       "     3ro - 3 Prim      3ro - 4 Prim      4-6 - A Prim      4-6 - I Prim \n",
       "               96               120               486                56 \n",
       "  4 - 1 MMO MMOBR        4 - 1 Prim 4 - 1 TEE TELECTR        4 - 2 Prim \n",
       "              239               136               156               240 \n",
       "       4 - 3 Prim       4 - A 3322A       4 - A 3322C       4 - A 3322E \n",
       "               96               433               205              5134 \n",
       "      4 - A 3322N       4 - A 3322S        4 - A Prim      4 - Aº 3322N \n",
       "             1038              1975              3710               366 \n",
       "      4 - B 3322E       4 - B 3322N       4 - B 3322S       4 - B 3322T \n",
       "              256               494               128                21 \n",
       "       4 - B Prim       4 - C 3322S        4 - C Prim        4 - D Prim \n",
       "             2822               226              1770               476 \n",
       "       4 - E Prim 4, 5 y 6 - A Prim 4, 5 Y 6 - A Prim   4°- 6° - A Prim \n",
       "              264                85                72                16 \n",
       "      4° - D Prim      4to - 1 Prim      4to - 2 Prim      5-6 - A Prim \n",
       "              367               104                80               132 \n",
       "       5 - 1 Prim 5 - 1 TEE TELECTR        5 - 2 Prim 5 - 2 TEE TELECTR \n",
       "              154               350               158               220 \n",
       "       5 - 3 Prim       5 - A 3322A       5 - A 3322C       5 - A 3322E \n",
       "              130               862               266              6656 \n",
       "      5 - A 3322N       5 - A 3322S        5 - A Prim       5 - B 3322E \n",
       "              835              2285              3815               954 \n",
       "      5 - B 3322N       5 - B 3322S        5 - B Prim       5 - C 3322S \n",
       "              386               262              3164               410 \n",
       "       5 - C Prim        5 - D Prim        5 - M Prim    5 y 6 - A Prim \n",
       "             1616               436                 8               271 \n",
       " 5º y 6º - A Prim      5to - 1 Prim      5to - 2 Prim      5to - 3 Prim \n",
       "              105               120               120               112 \n",
       "       6 - 1 Prim 6 - 1 TEE TELECTR        6 - 2 Prim       6 - A 3322A \n",
       "              144               174               204               429 \n",
       "      6 - A 3322C       6 - A 3322E       6 - A 3322N       6 - A 3322S \n",
       "               84              6364               519              2508 \n",
       "       6 - A Prim       6 - B 3322N       6 - B 3322S        6 - B Prim \n",
       "             4235               795               138              3175 \n",
       "       6 - C Prim        6 - D Prim       6° - 3 Prim      6to - 1 Prim \n",
       "             1455               538               191               104 \n",
       "     6to - 2 Prim      6to - 3 Prim 7 - 1 TEE TELECTR    CN - RURAL CNR \n",
       "               11                88               245               149 "
      ]
     },
     "metadata": {},
     "output_type": "display_data"
    }
   ],
   "source": [
    "# Muestro cursos de la variable \"curso\"\n",
    "table(GUALEGUAY_notasFiltradas$curso)"
   ]
  },
  {
   "cell_type": "code",
   "execution_count": 27,
   "id": "7f5248d9",
   "metadata": {
    "vscode": {
     "languageId": "r"
    }
   },
   "outputs": [
    {
     "data": {
      "text/plain": [
       "\n",
       "    1     2     3     4     5     6     7     C \n",
       "18938 17422 18664 21451 23827 21156   245   149 "
      ]
     },
     "metadata": {},
     "output_type": "display_data"
    }
   ],
   "source": [
    "GUALEGUAY_notasFiltradas$curso <- as.character(GUALEGUAY_notasFiltradas$curso)\n",
    "GUALEGUAY_notasFiltradas$anioCursado <- str_sub(GUALEGUAY_notasFiltradas$curso,1, 1)\n",
    "\n",
    "# Muestro los años que quedan después del filtrado\n",
    "table(GUALEGUAY_notasFiltradas$anioCursado)"
   ]
  },
  {
   "cell_type": "code",
   "execution_count": 28,
   "id": "b4f93bcf",
   "metadata": {
    "vscode": {
     "languageId": "r"
    }
   },
   "outputs": [],
   "source": [
    "GUALEGUAY_notasFiltradas$anioCursado <- str_replace (GUALEGUAY_notasFiltradas$anioCursado, \"1\" , \"PRIMERO\")\n",
    "GUALEGUAY_notasFiltradas$anioCursado <- str_replace (GUALEGUAY_notasFiltradas$anioCursado, \"2\" , \"SEGUNDO\")\n",
    "GUALEGUAY_notasFiltradas$anioCursado <- str_replace (GUALEGUAY_notasFiltradas$anioCursado, \"3\" , \"TERCERO\")\n",
    "GUALEGUAY_notasFiltradas$anioCursado <- str_replace (GUALEGUAY_notasFiltradas$anioCursado, \"4\" , \"CUARTO\")\n",
    "GUALEGUAY_notasFiltradas$anioCursado <- str_replace (GUALEGUAY_notasFiltradas$anioCursado, \"5\" , \"QUINTO\")\n",
    "GUALEGUAY_notasFiltradas$anioCursado <- str_replace (GUALEGUAY_notasFiltradas$anioCursado, \"6\" , \"SEXTO\")\n",
    "GUALEGUAY_notasFiltradas$anioCursado <- str_replace (GUALEGUAY_notasFiltradas$anioCursado, \"7\" , \"SEPTIMO\")"
   ]
  },
  {
   "cell_type": "code",
   "execution_count": 29,
   "id": "74d9edca",
   "metadata": {
    "vscode": {
     "languageId": "r"
    }
   },
   "outputs": [
    {
     "data": {
      "text/plain": [
       "     C CUARTO PRIMERO QUINTO SEGUNDO SEPTIMO SEXTO TERCERO\n",
       "                                                          \n",
       "   149  21451   18938  23827   17422     245 21156   18664"
      ]
     },
     "metadata": {},
     "output_type": "display_data"
    },
    {
     "data": {
      "text/html": [
       "<ol class=list-inline>\n",
       "\t<li>'PRIMERO'</li>\n",
       "\t<li>'CUARTO'</li>\n",
       "\t<li>'CUARTO'</li>\n",
       "\t<li>'CUARTO'</li>\n",
       "\t<li>'CUARTO'</li>\n",
       "\t<li>'CUARTO'</li>\n",
       "\t<li>'CUARTO'</li>\n",
       "\t<li>'CUARTO'</li>\n",
       "\t<li>'CUARTO'</li>\n",
       "\t<li>'CUARTO'</li>\n",
       "\t<li>'CUARTO'</li>\n",
       "\t<li>'CUARTO'</li>\n",
       "\t<li>'CUARTO'</li>\n",
       "\t<li>'CUARTO'</li>\n",
       "\t<li>'CUARTO'</li>\n",
       "\t<li>'CUARTO'</li>\n",
       "\t<li>'CUARTO'</li>\n",
       "\t<li>'TERCERO'</li>\n",
       "\t<li>'TERCERO'</li>\n",
       "\t<li>'TERCERO'</li>\n",
       "</ol>\n"
      ],
      "text/latex": [
       "\\begin{enumerate*}\n",
       "\\item 'PRIMERO'\n",
       "\\item 'CUARTO'\n",
       "\\item 'CUARTO'\n",
       "\\item 'CUARTO'\n",
       "\\item 'CUARTO'\n",
       "\\item 'CUARTO'\n",
       "\\item 'CUARTO'\n",
       "\\item 'CUARTO'\n",
       "\\item 'CUARTO'\n",
       "\\item 'CUARTO'\n",
       "\\item 'CUARTO'\n",
       "\\item 'CUARTO'\n",
       "\\item 'CUARTO'\n",
       "\\item 'CUARTO'\n",
       "\\item 'CUARTO'\n",
       "\\item 'CUARTO'\n",
       "\\item 'CUARTO'\n",
       "\\item 'TERCERO'\n",
       "\\item 'TERCERO'\n",
       "\\item 'TERCERO'\n",
       "\\end{enumerate*}\n"
      ],
      "text/markdown": [
       "1. 'PRIMERO'\n",
       "2. 'CUARTO'\n",
       "3. 'CUARTO'\n",
       "4. 'CUARTO'\n",
       "5. 'CUARTO'\n",
       "6. 'CUARTO'\n",
       "7. 'CUARTO'\n",
       "8. 'CUARTO'\n",
       "9. 'CUARTO'\n",
       "10. 'CUARTO'\n",
       "11. 'CUARTO'\n",
       "12. 'CUARTO'\n",
       "13. 'CUARTO'\n",
       "14. 'CUARTO'\n",
       "15. 'CUARTO'\n",
       "16. 'CUARTO'\n",
       "17. 'CUARTO'\n",
       "18. 'TERCERO'\n",
       "19. 'TERCERO'\n",
       "20. 'TERCERO'\n",
       "\n",
       "\n"
      ],
      "text/plain": [
       " [1] \"PRIMERO\" \"CUARTO\"  \"CUARTO\"  \"CUARTO\"  \"CUARTO\"  \"CUARTO\"  \"CUARTO\" \n",
       " [8] \"CUARTO\"  \"CUARTO\"  \"CUARTO\"  \"CUARTO\"  \"CUARTO\"  \"CUARTO\"  \"CUARTO\" \n",
       "[15] \"CUARTO\"  \"CUARTO\"  \"CUARTO\"  \"TERCERO\" \"TERCERO\" \"TERCERO\""
      ]
     },
     "metadata": {},
     "output_type": "display_data"
    }
   ],
   "source": [
    "ftable(GUALEGUAY_notasFiltradas$anioCursado)\n",
    "head(GUALEGUAY_notasFiltradas$anioCursado,20)\n",
    "GUALEGUAY_notasFiltradas <- filter(GUALEGUAY_notasFiltradas, \n",
    "                                   anioCursado == \"PRIMERO\" | anioCursado == \"SEGUNDO\" | anioCursado == \"TERCERO\"|anioCursado == \"CUARTO\" |anioCursado == \"QUINTO\" |anioCursado == \"SEXTO\" | anioCursado == \"SEPTIMO\")"
   ]
  },
  {
   "cell_type": "markdown",
   "id": "fa25c2c6",
   "metadata": {},
   "source": [
    "--------------"
   ]
  },
  {
   "cell_type": "markdown",
   "id": "6bf62430",
   "metadata": {},
   "source": [
    "### Creo Dataset Gualeguay Primaria"
   ]
  },
  {
   "cell_type": "code",
   "execution_count": 30,
   "id": "2a11d3f5",
   "metadata": {
    "vscode": {
     "languageId": "r"
    }
   },
   "outputs": [
    {
     "data": {
      "text/html": [
       "<ol class=list-inline>\n",
       "\t<li>'CUE'</li>\n",
       "\t<li>'departamento'</li>\n",
       "\t<li>'localidad'</li>\n",
       "\t<li>'codigoPostal'</li>\n",
       "\t<li>'anioLectivo'</li>\n",
       "\t<li>'esPrivada'</li>\n",
       "\t<li>'esMultianio'</li>\n",
       "\t<li>'nivel'</li>\n",
       "\t<li>'nivelEnsenanza'</li>\n",
       "\t<li>'modalidad'</li>\n",
       "\t<li>'idModEnsenanza'</li>\n",
       "\t<li>'modEnsenanza'</li>\n",
       "\t<li>'curso'</li>\n",
       "\t<li>'turno'</li>\n",
       "\t<li>'idAlumno'</li>\n",
       "\t<li>'documento'</li>\n",
       "\t<li>'asignatura'</li>\n",
       "\t<li>'periodoEvaluatorio'</li>\n",
       "\t<li>'notaPrimerT'</li>\n",
       "\t<li>'notaSegundoT'</li>\n",
       "\t<li>'notaTercerT'</li>\n",
       "\t<li>'promedio'</li>\n",
       "\t<li>'resultado'</li>\n",
       "\t<li>'anioCursado'</li>\n",
       "</ol>\n"
      ],
      "text/latex": [
       "\\begin{enumerate*}\n",
       "\\item 'CUE'\n",
       "\\item 'departamento'\n",
       "\\item 'localidad'\n",
       "\\item 'codigoPostal'\n",
       "\\item 'anioLectivo'\n",
       "\\item 'esPrivada'\n",
       "\\item 'esMultianio'\n",
       "\\item 'nivel'\n",
       "\\item 'nivelEnsenanza'\n",
       "\\item 'modalidad'\n",
       "\\item 'idModEnsenanza'\n",
       "\\item 'modEnsenanza'\n",
       "\\item 'curso'\n",
       "\\item 'turno'\n",
       "\\item 'idAlumno'\n",
       "\\item 'documento'\n",
       "\\item 'asignatura'\n",
       "\\item 'periodoEvaluatorio'\n",
       "\\item 'notaPrimerT'\n",
       "\\item 'notaSegundoT'\n",
       "\\item 'notaTercerT'\n",
       "\\item 'promedio'\n",
       "\\item 'resultado'\n",
       "\\item 'anioCursado'\n",
       "\\end{enumerate*}\n"
      ],
      "text/markdown": [
       "1. 'CUE'\n",
       "2. 'departamento'\n",
       "3. 'localidad'\n",
       "4. 'codigoPostal'\n",
       "5. 'anioLectivo'\n",
       "6. 'esPrivada'\n",
       "7. 'esMultianio'\n",
       "8. 'nivel'\n",
       "9. 'nivelEnsenanza'\n",
       "10. 'modalidad'\n",
       "11. 'idModEnsenanza'\n",
       "12. 'modEnsenanza'\n",
       "13. 'curso'\n",
       "14. 'turno'\n",
       "15. 'idAlumno'\n",
       "16. 'documento'\n",
       "17. 'asignatura'\n",
       "18. 'periodoEvaluatorio'\n",
       "19. 'notaPrimerT'\n",
       "20. 'notaSegundoT'\n",
       "21. 'notaTercerT'\n",
       "22. 'promedio'\n",
       "23. 'resultado'\n",
       "24. 'anioCursado'\n",
       "\n",
       "\n"
      ],
      "text/plain": [
       " [1] \"CUE\"                \"departamento\"       \"localidad\"         \n",
       " [4] \"codigoPostal\"       \"anioLectivo\"        \"esPrivada\"         \n",
       " [7] \"esMultianio\"        \"nivel\"              \"nivelEnsenanza\"    \n",
       "[10] \"modalidad\"          \"idModEnsenanza\"     \"modEnsenanza\"      \n",
       "[13] \"curso\"              \"turno\"              \"idAlumno\"          \n",
       "[16] \"documento\"          \"asignatura\"         \"periodoEvaluatorio\"\n",
       "[19] \"notaPrimerT\"        \"notaSegundoT\"       \"notaTercerT\"       \n",
       "[22] \"promedio\"           \"resultado\"          \"anioCursado\"       "
      ]
     },
     "metadata": {},
     "output_type": "display_data"
    },
    {
     "data": {
      "text/html": [
       "<ol class=list-inline>\n",
       "\t<li>60793</li>\n",
       "\t<li>24</li>\n",
       "</ol>\n"
      ],
      "text/latex": [
       "\\begin{enumerate*}\n",
       "\\item 60793\n",
       "\\item 24\n",
       "\\end{enumerate*}\n"
      ],
      "text/markdown": [
       "1. 60793\n",
       "2. 24\n",
       "\n",
       "\n"
      ],
      "text/plain": [
       "[1] 60793    24"
      ]
     },
     "metadata": {},
     "output_type": "display_data"
    },
    {
     "data": {
      "text/html": [
       "<table>\n",
       "<thead><tr><th scope=col>CUE</th><th scope=col>departamento</th><th scope=col>localidad</th><th scope=col>codigoPostal</th><th scope=col>anioLectivo</th><th scope=col>esPrivada</th><th scope=col>esMultianio</th><th scope=col>nivel</th><th scope=col>nivelEnsenanza</th><th scope=col>modalidad</th><th scope=col>...</th><th scope=col>idAlumno</th><th scope=col>documento</th><th scope=col>asignatura</th><th scope=col>periodoEvaluatorio</th><th scope=col>notaPrimerT</th><th scope=col>notaSegundoT</th><th scope=col>notaTercerT</th><th scope=col>promedio</th><th scope=col>resultado</th><th scope=col>anioCursado</th></tr></thead>\n",
       "<tbody>\n",
       "\t<tr><td>6002936           </td><td>GUALEGUAY         </td><td>GUALEGUAY         </td><td>0                 </td><td>2022              </td><td>N                 </td><td>S                 </td><td>2                 </td><td>PRIMARIO          </td><td>Primaria          </td><td>...               </td><td>1000320           </td><td>53996334          </td><td>CIENCIAS NATURALES</td><td>Tercer Trimestre  </td><td>7                 </td><td>8                 </td><td>9                 </td><td>8.00              </td><td>Aprobado          </td><td>TERCERO           </td></tr>\n",
       "\t<tr><td>6002936           </td><td>GUALEGUAY         </td><td>GUALEGUAY         </td><td>0                 </td><td>2022              </td><td>N                 </td><td>S                 </td><td>2                 </td><td>PRIMARIO          </td><td>Primaria          </td><td>...               </td><td>1000320           </td><td>53996334          </td><td>CIENCIAS SOCIALES </td><td>Tercer Trimestre  </td><td>7                 </td><td>8                 </td><td>9                 </td><td>8.00              </td><td>Aprobado          </td><td>TERCERO           </td></tr>\n",
       "\t<tr><td>6002936           </td><td>GUALEGUAY         </td><td>GUALEGUAY         </td><td>0                 </td><td>2022              </td><td>N                 </td><td>S                 </td><td>2                 </td><td>PRIMARIO          </td><td>Primaria          </td><td>...               </td><td>1000320           </td><td>53996334          </td><td>EDUCACION FISICA  </td><td>Tercer Trimestre  </td><td>9                 </td><td>9                 </td><td>10                </td><td>9.33              </td><td>Aprobado          </td><td>TERCERO           </td></tr>\n",
       "\t<tr><td>6002936           </td><td>GUALEGUAY         </td><td>GUALEGUAY         </td><td>0                 </td><td>2022              </td><td>N                 </td><td>S                 </td><td>2                 </td><td>PRIMARIO          </td><td>Primaria          </td><td>...               </td><td>1000320           </td><td>53996334          </td><td>EDUCACION MUSICAL </td><td>Tercer Trimestre  </td><td>8                 </td><td>10                </td><td>10                </td><td>9.33              </td><td>Aprobado          </td><td>TERCERO           </td></tr>\n",
       "\t<tr><td>6002936           </td><td>GUALEGUAY         </td><td>GUALEGUAY         </td><td>0                 </td><td>2022              </td><td>N                 </td><td>S                 </td><td>2                 </td><td>PRIMARIO          </td><td>Primaria          </td><td>...               </td><td>1000320           </td><td>53996334          </td><td>LENGUA            </td><td>Tercer Trimestre  </td><td>7                 </td><td>7                 </td><td>8                 </td><td>7.33              </td><td>Aprobado          </td><td>TERCERO           </td></tr>\n",
       "\t<tr><td>6002936           </td><td>GUALEGUAY         </td><td>GUALEGUAY         </td><td>0                 </td><td>2022              </td><td>N                 </td><td>S                 </td><td>2                 </td><td>PRIMARIO          </td><td>Primaria          </td><td>...               </td><td>1000320           </td><td>53996334          </td><td>MATEMATICA        </td><td>Tercer Trimestre  </td><td>7                 </td><td>7                 </td><td>8                 </td><td>7.33              </td><td>Aprobado          </td><td>TERCERO           </td></tr>\n",
       "</tbody>\n",
       "</table>\n"
      ],
      "text/latex": [
       "\\begin{tabular}{r|llllllllllllllllllllllll}\n",
       " CUE & departamento & localidad & codigoPostal & anioLectivo & esPrivada & esMultianio & nivel & nivelEnsenanza & modalidad & ... & idAlumno & documento & asignatura & periodoEvaluatorio & notaPrimerT & notaSegundoT & notaTercerT & promedio & resultado & anioCursado\\\\\n",
       "\\hline\n",
       "\t 6002936            & GUALEGUAY          & GUALEGUAY          & 0                  & 2022               & N                  & S                  & 2                  & PRIMARIO           & Primaria           & ...                & 1000320            & 53996334           & CIENCIAS NATURALES & Tercer Trimestre   & 7                  & 8                  & 9                  & 8.00               & Aprobado           & TERCERO           \\\\\n",
       "\t 6002936            & GUALEGUAY          & GUALEGUAY          & 0                  & 2022               & N                  & S                  & 2                  & PRIMARIO           & Primaria           & ...                & 1000320            & 53996334           & CIENCIAS SOCIALES  & Tercer Trimestre   & 7                  & 8                  & 9                  & 8.00               & Aprobado           & TERCERO           \\\\\n",
       "\t 6002936            & GUALEGUAY          & GUALEGUAY          & 0                  & 2022               & N                  & S                  & 2                  & PRIMARIO           & Primaria           & ...                & 1000320            & 53996334           & EDUCACION FISICA   & Tercer Trimestre   & 9                  & 9                  & 10                 & 9.33               & Aprobado           & TERCERO           \\\\\n",
       "\t 6002936            & GUALEGUAY          & GUALEGUAY          & 0                  & 2022               & N                  & S                  & 2                  & PRIMARIO           & Primaria           & ...                & 1000320            & 53996334           & EDUCACION MUSICAL  & Tercer Trimestre   & 8                  & 10                 & 10                 & 9.33               & Aprobado           & TERCERO           \\\\\n",
       "\t 6002936            & GUALEGUAY          & GUALEGUAY          & 0                  & 2022               & N                  & S                  & 2                  & PRIMARIO           & Primaria           & ...                & 1000320            & 53996334           & LENGUA             & Tercer Trimestre   & 7                  & 7                  & 8                  & 7.33               & Aprobado           & TERCERO           \\\\\n",
       "\t 6002936            & GUALEGUAY          & GUALEGUAY          & 0                  & 2022               & N                  & S                  & 2                  & PRIMARIO           & Primaria           & ...                & 1000320            & 53996334           & MATEMATICA         & Tercer Trimestre   & 7                  & 7                  & 8                  & 7.33               & Aprobado           & TERCERO           \\\\\n",
       "\\end{tabular}\n"
      ],
      "text/markdown": [
       "\n",
       "| CUE | departamento | localidad | codigoPostal | anioLectivo | esPrivada | esMultianio | nivel | nivelEnsenanza | modalidad | ... | idAlumno | documento | asignatura | periodoEvaluatorio | notaPrimerT | notaSegundoT | notaTercerT | promedio | resultado | anioCursado |\n",
       "|---|---|---|---|---|---|---|---|---|---|---|---|---|---|---|---|---|---|---|---|---|\n",
       "| 6002936            | GUALEGUAY          | GUALEGUAY          | 0                  | 2022               | N                  | S                  | 2                  | PRIMARIO           | Primaria           | ...                | 1000320            | 53996334           | CIENCIAS NATURALES | Tercer Trimestre   | 7                  | 8                  | 9                  | 8.00               | Aprobado           | TERCERO            |\n",
       "| 6002936            | GUALEGUAY          | GUALEGUAY          | 0                  | 2022               | N                  | S                  | 2                  | PRIMARIO           | Primaria           | ...                | 1000320            | 53996334           | CIENCIAS SOCIALES  | Tercer Trimestre   | 7                  | 8                  | 9                  | 8.00               | Aprobado           | TERCERO            |\n",
       "| 6002936            | GUALEGUAY          | GUALEGUAY          | 0                  | 2022               | N                  | S                  | 2                  | PRIMARIO           | Primaria           | ...                | 1000320            | 53996334           | EDUCACION FISICA   | Tercer Trimestre   | 9                  | 9                  | 10                 | 9.33               | Aprobado           | TERCERO            |\n",
       "| 6002936            | GUALEGUAY          | GUALEGUAY          | 0                  | 2022               | N                  | S                  | 2                  | PRIMARIO           | Primaria           | ...                | 1000320            | 53996334           | EDUCACION MUSICAL  | Tercer Trimestre   | 8                  | 10                 | 10                 | 9.33               | Aprobado           | TERCERO            |\n",
       "| 6002936            | GUALEGUAY          | GUALEGUAY          | 0                  | 2022               | N                  | S                  | 2                  | PRIMARIO           | Primaria           | ...                | 1000320            | 53996334           | LENGUA             | Tercer Trimestre   | 7                  | 7                  | 8                  | 7.33               | Aprobado           | TERCERO            |\n",
       "| 6002936            | GUALEGUAY          | GUALEGUAY          | 0                  | 2022               | N                  | S                  | 2                  | PRIMARIO           | Primaria           | ...                | 1000320            | 53996334           | MATEMATICA         | Tercer Trimestre   | 7                  | 7                  | 8                  | 7.33               | Aprobado           | TERCERO            |\n",
       "\n"
      ],
      "text/plain": [
       "  CUE     departamento localidad codigoPostal anioLectivo esPrivada esMultianio\n",
       "1 6002936 GUALEGUAY    GUALEGUAY 0            2022        N         S          \n",
       "2 6002936 GUALEGUAY    GUALEGUAY 0            2022        N         S          \n",
       "3 6002936 GUALEGUAY    GUALEGUAY 0            2022        N         S          \n",
       "4 6002936 GUALEGUAY    GUALEGUAY 0            2022        N         S          \n",
       "5 6002936 GUALEGUAY    GUALEGUAY 0            2022        N         S          \n",
       "6 6002936 GUALEGUAY    GUALEGUAY 0            2022        N         S          \n",
       "  nivel nivelEnsenanza modalidad ... idAlumno documento asignatura        \n",
       "1 2     PRIMARIO       Primaria  ... 1000320  53996334  CIENCIAS NATURALES\n",
       "2 2     PRIMARIO       Primaria  ... 1000320  53996334  CIENCIAS SOCIALES \n",
       "3 2     PRIMARIO       Primaria  ... 1000320  53996334  EDUCACION FISICA  \n",
       "4 2     PRIMARIO       Primaria  ... 1000320  53996334  EDUCACION MUSICAL \n",
       "5 2     PRIMARIO       Primaria  ... 1000320  53996334  LENGUA            \n",
       "6 2     PRIMARIO       Primaria  ... 1000320  53996334  MATEMATICA        \n",
       "  periodoEvaluatorio notaPrimerT notaSegundoT notaTercerT promedio resultado\n",
       "1 Tercer Trimestre   7           8            9           8.00     Aprobado \n",
       "2 Tercer Trimestre   7           8            9           8.00     Aprobado \n",
       "3 Tercer Trimestre   9           9            10          9.33     Aprobado \n",
       "4 Tercer Trimestre   8           10           10          9.33     Aprobado \n",
       "5 Tercer Trimestre   7           7            8           7.33     Aprobado \n",
       "6 Tercer Trimestre   7           7            8           7.33     Aprobado \n",
       "  anioCursado\n",
       "1 TERCERO    \n",
       "2 TERCERO    \n",
       "3 TERCERO    \n",
       "4 TERCERO    \n",
       "5 TERCERO    \n",
       "6 TERCERO    "
      ]
     },
     "metadata": {},
     "output_type": "display_data"
    }
   ],
   "source": [
    "# Creo el dataset de las notas de Primaria (Falta procesar asignaturas y años de cursado)\n",
    "GUALEGUAY_primariaNotas <- filter(GUALEGUAY_notasFiltradas, nivelEnsenanza==\"PRIMARIO\")\n",
    "\n",
    "names(GUALEGUAY_primariaNotas)\n",
    "dim(GUALEGUAY_primariaNotas)\n",
    "head(GUALEGUAY_primariaNotas)"
   ]
  },
  {
   "cell_type": "markdown",
   "id": "4d5d5fc3",
   "metadata": {},
   "source": [
    "### Creo Dataset Gualeguay Secundaria y EGB 3"
   ]
  },
  {
   "cell_type": "code",
   "execution_count": 31,
   "id": "63f8b6a2",
   "metadata": {
    "vscode": {
     "languageId": "r"
    }
   },
   "outputs": [
    {
     "data": {
      "text/html": [
       "<ol class=list-inline>\n",
       "\t<li>'CUE'</li>\n",
       "\t<li>'departamento'</li>\n",
       "\t<li>'localidad'</li>\n",
       "\t<li>'codigoPostal'</li>\n",
       "\t<li>'anioLectivo'</li>\n",
       "\t<li>'esPrivada'</li>\n",
       "\t<li>'esMultianio'</li>\n",
       "\t<li>'nivel'</li>\n",
       "\t<li>'nivelEnsenanza'</li>\n",
       "\t<li>'modalidad'</li>\n",
       "\t<li>'idModEnsenanza'</li>\n",
       "\t<li>'modEnsenanza'</li>\n",
       "\t<li>'curso'</li>\n",
       "\t<li>'turno'</li>\n",
       "\t<li>'idAlumno'</li>\n",
       "\t<li>'documento'</li>\n",
       "\t<li>'asignatura'</li>\n",
       "\t<li>'periodoEvaluatorio'</li>\n",
       "\t<li>'notaPrimerT'</li>\n",
       "\t<li>'notaSegundoT'</li>\n",
       "\t<li>'notaTercerT'</li>\n",
       "\t<li>'promedio'</li>\n",
       "\t<li>'resultado'</li>\n",
       "\t<li>'anioCursado'</li>\n",
       "</ol>\n"
      ],
      "text/latex": [
       "\\begin{enumerate*}\n",
       "\\item 'CUE'\n",
       "\\item 'departamento'\n",
       "\\item 'localidad'\n",
       "\\item 'codigoPostal'\n",
       "\\item 'anioLectivo'\n",
       "\\item 'esPrivada'\n",
       "\\item 'esMultianio'\n",
       "\\item 'nivel'\n",
       "\\item 'nivelEnsenanza'\n",
       "\\item 'modalidad'\n",
       "\\item 'idModEnsenanza'\n",
       "\\item 'modEnsenanza'\n",
       "\\item 'curso'\n",
       "\\item 'turno'\n",
       "\\item 'idAlumno'\n",
       "\\item 'documento'\n",
       "\\item 'asignatura'\n",
       "\\item 'periodoEvaluatorio'\n",
       "\\item 'notaPrimerT'\n",
       "\\item 'notaSegundoT'\n",
       "\\item 'notaTercerT'\n",
       "\\item 'promedio'\n",
       "\\item 'resultado'\n",
       "\\item 'anioCursado'\n",
       "\\end{enumerate*}\n"
      ],
      "text/markdown": [
       "1. 'CUE'\n",
       "2. 'departamento'\n",
       "3. 'localidad'\n",
       "4. 'codigoPostal'\n",
       "5. 'anioLectivo'\n",
       "6. 'esPrivada'\n",
       "7. 'esMultianio'\n",
       "8. 'nivel'\n",
       "9. 'nivelEnsenanza'\n",
       "10. 'modalidad'\n",
       "11. 'idModEnsenanza'\n",
       "12. 'modEnsenanza'\n",
       "13. 'curso'\n",
       "14. 'turno'\n",
       "15. 'idAlumno'\n",
       "16. 'documento'\n",
       "17. 'asignatura'\n",
       "18. 'periodoEvaluatorio'\n",
       "19. 'notaPrimerT'\n",
       "20. 'notaSegundoT'\n",
       "21. 'notaTercerT'\n",
       "22. 'promedio'\n",
       "23. 'resultado'\n",
       "24. 'anioCursado'\n",
       "\n",
       "\n"
      ],
      "text/plain": [
       " [1] \"CUE\"                \"departamento\"       \"localidad\"         \n",
       " [4] \"codigoPostal\"       \"anioLectivo\"        \"esPrivada\"         \n",
       " [7] \"esMultianio\"        \"nivel\"              \"nivelEnsenanza\"    \n",
       "[10] \"modalidad\"          \"idModEnsenanza\"     \"modEnsenanza\"      \n",
       "[13] \"curso\"              \"turno\"              \"idAlumno\"          \n",
       "[16] \"documento\"          \"asignatura\"         \"periodoEvaluatorio\"\n",
       "[19] \"notaPrimerT\"        \"notaSegundoT\"       \"notaTercerT\"       \n",
       "[22] \"promedio\"           \"resultado\"          \"anioCursado\"       "
      ]
     },
     "metadata": {},
     "output_type": "display_data"
    },
    {
     "data": {
      "text/html": [
       "<ol class=list-inline>\n",
       "\t<li>60910</li>\n",
       "\t<li>24</li>\n",
       "</ol>\n"
      ],
      "text/latex": [
       "\\begin{enumerate*}\n",
       "\\item 60910\n",
       "\\item 24\n",
       "\\end{enumerate*}\n"
      ],
      "text/markdown": [
       "1. 60910\n",
       "2. 24\n",
       "\n",
       "\n"
      ],
      "text/plain": [
       "[1] 60910    24"
      ]
     },
     "metadata": {},
     "output_type": "display_data"
    },
    {
     "data": {
      "text/html": [
       "<table>\n",
       "<thead><tr><th scope=col>CUE</th><th scope=col>departamento</th><th scope=col>localidad</th><th scope=col>codigoPostal</th><th scope=col>anioLectivo</th><th scope=col>esPrivada</th><th scope=col>esMultianio</th><th scope=col>nivel</th><th scope=col>nivelEnsenanza</th><th scope=col>modalidad</th><th scope=col>...</th><th scope=col>idAlumno</th><th scope=col>documento</th><th scope=col>asignatura</th><th scope=col>periodoEvaluatorio</th><th scope=col>notaPrimerT</th><th scope=col>notaSegundoT</th><th scope=col>notaTercerT</th><th scope=col>promedio</th><th scope=col>resultado</th><th scope=col>anioCursado</th></tr></thead>\n",
       "<tbody>\n",
       "\t<tr><td>6005352            </td><td>GUALEGUAY          </td><td>GUALEGUAY          </td><td>3190               </td><td>2022               </td><td>N                  </td><td>N                  </td><td>3                  </td><td>SECUNDARIO         </td><td>Secundaria         </td><td>...                </td><td>1000114            </td><td>50072015           </td><td>LENGUA Y LITERATURA</td><td>Tercer Trimestre   </td><td>9                  </td><td>9                  </td><td>9                  </td><td>9.00               </td><td>Aprobado           </td><td>PRIMERO            </td></tr>\n",
       "\t<tr><td>6005352            </td><td>GUALEGUAY          </td><td>GUALEGUAY          </td><td>3190               </td><td>2022               </td><td>N                  </td><td>N                  </td><td>3                  </td><td>SECUNDARIO         </td><td>Secundaria         </td><td>...                </td><td>1000116            </td><td>47526536           </td><td>ARTES VISUALES     </td><td>Tercer Trimestre   </td><td>7                  </td><td>7                  </td><td>8                  </td><td>7.33               </td><td>Aprobado           </td><td>CUARTO             </td></tr>\n",
       "\t<tr><td>6005352            </td><td>GUALEGUAY          </td><td>GUALEGUAY          </td><td>3190               </td><td>2022               </td><td>N                  </td><td>N                  </td><td>3                  </td><td>SECUNDARIO         </td><td>Secundaria         </td><td>...                </td><td>1000116            </td><td>47526536           </td><td>BIOLOGIA           </td><td>Tercer Trimestre   </td><td>7                  </td><td>8                  </td><td>9                  </td><td>8.00               </td><td>Aprobado           </td><td>CUARTO             </td></tr>\n",
       "\t<tr><td>6005352            </td><td>GUALEGUAY          </td><td>GUALEGUAY          </td><td>3190               </td><td>2022               </td><td>N                  </td><td>N                  </td><td>3                  </td><td>SECUNDARIO         </td><td>Secundaria         </td><td>...                </td><td>1000116            </td><td>47526536           </td><td>ECONOMIA           </td><td>Tercer Trimestre   </td><td>7                  </td><td>6                  </td><td>4                  </td><td>5.67               </td><td>Rinde              </td><td>CUARTO             </td></tr>\n",
       "\t<tr><td>6005352            </td><td>GUALEGUAY          </td><td>GUALEGUAY          </td><td>3190               </td><td>2022               </td><td>N                  </td><td>N                  </td><td>3                  </td><td>SECUNDARIO         </td><td>Secundaria         </td><td>...                </td><td>1000116            </td><td>47526536           </td><td>EDUCACION FISICA   </td><td>Tercer Trimestre   </td><td>9                  </td><td>9                  </td><td>8                  </td><td>8.67               </td><td>Aprobado           </td><td>CUARTO             </td></tr>\n",
       "\t<tr><td>6005352            </td><td>GUALEGUAY          </td><td>GUALEGUAY          </td><td>3190               </td><td>2022               </td><td>N                  </td><td>N                  </td><td>3                  </td><td>SECUNDARIO         </td><td>Secundaria         </td><td>...                </td><td>1000116            </td><td>47526536           </td><td>FISICA             </td><td>Tercer Trimestre   </td><td>4                  </td><td>4                  </td><td>3                  </td><td>3.67               </td><td>Rinde              </td><td>CUARTO             </td></tr>\n",
       "</tbody>\n",
       "</table>\n"
      ],
      "text/latex": [
       "\\begin{tabular}{r|llllllllllllllllllllllll}\n",
       " CUE & departamento & localidad & codigoPostal & anioLectivo & esPrivada & esMultianio & nivel & nivelEnsenanza & modalidad & ... & idAlumno & documento & asignatura & periodoEvaluatorio & notaPrimerT & notaSegundoT & notaTercerT & promedio & resultado & anioCursado\\\\\n",
       "\\hline\n",
       "\t 6005352             & GUALEGUAY           & GUALEGUAY           & 3190                & 2022                & N                   & N                   & 3                   & SECUNDARIO          & Secundaria          & ...                 & 1000114             & 50072015            & LENGUA Y LITERATURA & Tercer Trimestre    & 9                   & 9                   & 9                   & 9.00                & Aprobado            & PRIMERO            \\\\\n",
       "\t 6005352             & GUALEGUAY           & GUALEGUAY           & 3190                & 2022                & N                   & N                   & 3                   & SECUNDARIO          & Secundaria          & ...                 & 1000116             & 47526536            & ARTES VISUALES      & Tercer Trimestre    & 7                   & 7                   & 8                   & 7.33                & Aprobado            & CUARTO             \\\\\n",
       "\t 6005352             & GUALEGUAY           & GUALEGUAY           & 3190                & 2022                & N                   & N                   & 3                   & SECUNDARIO          & Secundaria          & ...                 & 1000116             & 47526536            & BIOLOGIA            & Tercer Trimestre    & 7                   & 8                   & 9                   & 8.00                & Aprobado            & CUARTO             \\\\\n",
       "\t 6005352             & GUALEGUAY           & GUALEGUAY           & 3190                & 2022                & N                   & N                   & 3                   & SECUNDARIO          & Secundaria          & ...                 & 1000116             & 47526536            & ECONOMIA            & Tercer Trimestre    & 7                   & 6                   & 4                   & 5.67                & Rinde               & CUARTO             \\\\\n",
       "\t 6005352             & GUALEGUAY           & GUALEGUAY           & 3190                & 2022                & N                   & N                   & 3                   & SECUNDARIO          & Secundaria          & ...                 & 1000116             & 47526536            & EDUCACION FISICA    & Tercer Trimestre    & 9                   & 9                   & 8                   & 8.67                & Aprobado            & CUARTO             \\\\\n",
       "\t 6005352             & GUALEGUAY           & GUALEGUAY           & 3190                & 2022                & N                   & N                   & 3                   & SECUNDARIO          & Secundaria          & ...                 & 1000116             & 47526536            & FISICA              & Tercer Trimestre    & 4                   & 4                   & 3                   & 3.67                & Rinde               & CUARTO             \\\\\n",
       "\\end{tabular}\n"
      ],
      "text/markdown": [
       "\n",
       "| CUE | departamento | localidad | codigoPostal | anioLectivo | esPrivada | esMultianio | nivel | nivelEnsenanza | modalidad | ... | idAlumno | documento | asignatura | periodoEvaluatorio | notaPrimerT | notaSegundoT | notaTercerT | promedio | resultado | anioCursado |\n",
       "|---|---|---|---|---|---|---|---|---|---|---|---|---|---|---|---|---|---|---|---|---|\n",
       "| 6005352             | GUALEGUAY           | GUALEGUAY           | 3190                | 2022                | N                   | N                   | 3                   | SECUNDARIO          | Secundaria          | ...                 | 1000114             | 50072015            | LENGUA Y LITERATURA | Tercer Trimestre    | 9                   | 9                   | 9                   | 9.00                | Aprobado            | PRIMERO             |\n",
       "| 6005352             | GUALEGUAY           | GUALEGUAY           | 3190                | 2022                | N                   | N                   | 3                   | SECUNDARIO          | Secundaria          | ...                 | 1000116             | 47526536            | ARTES VISUALES      | Tercer Trimestre    | 7                   | 7                   | 8                   | 7.33                | Aprobado            | CUARTO              |\n",
       "| 6005352             | GUALEGUAY           | GUALEGUAY           | 3190                | 2022                | N                   | N                   | 3                   | SECUNDARIO          | Secundaria          | ...                 | 1000116             | 47526536            | BIOLOGIA            | Tercer Trimestre    | 7                   | 8                   | 9                   | 8.00                | Aprobado            | CUARTO              |\n",
       "| 6005352             | GUALEGUAY           | GUALEGUAY           | 3190                | 2022                | N                   | N                   | 3                   | SECUNDARIO          | Secundaria          | ...                 | 1000116             | 47526536            | ECONOMIA            | Tercer Trimestre    | 7                   | 6                   | 4                   | 5.67                | Rinde               | CUARTO              |\n",
       "| 6005352             | GUALEGUAY           | GUALEGUAY           | 3190                | 2022                | N                   | N                   | 3                   | SECUNDARIO          | Secundaria          | ...                 | 1000116             | 47526536            | EDUCACION FISICA    | Tercer Trimestre    | 9                   | 9                   | 8                   | 8.67                | Aprobado            | CUARTO              |\n",
       "| 6005352             | GUALEGUAY           | GUALEGUAY           | 3190                | 2022                | N                   | N                   | 3                   | SECUNDARIO          | Secundaria          | ...                 | 1000116             | 47526536            | FISICA              | Tercer Trimestre    | 4                   | 4                   | 3                   | 3.67                | Rinde               | CUARTO              |\n",
       "\n"
      ],
      "text/plain": [
       "  CUE     departamento localidad codigoPostal anioLectivo esPrivada esMultianio\n",
       "1 6005352 GUALEGUAY    GUALEGUAY 3190         2022        N         N          \n",
       "2 6005352 GUALEGUAY    GUALEGUAY 3190         2022        N         N          \n",
       "3 6005352 GUALEGUAY    GUALEGUAY 3190         2022        N         N          \n",
       "4 6005352 GUALEGUAY    GUALEGUAY 3190         2022        N         N          \n",
       "5 6005352 GUALEGUAY    GUALEGUAY 3190         2022        N         N          \n",
       "6 6005352 GUALEGUAY    GUALEGUAY 3190         2022        N         N          \n",
       "  nivel nivelEnsenanza modalidad  ... idAlumno documento asignatura         \n",
       "1 3     SECUNDARIO     Secundaria ... 1000114  50072015  LENGUA Y LITERATURA\n",
       "2 3     SECUNDARIO     Secundaria ... 1000116  47526536  ARTES VISUALES     \n",
       "3 3     SECUNDARIO     Secundaria ... 1000116  47526536  BIOLOGIA           \n",
       "4 3     SECUNDARIO     Secundaria ... 1000116  47526536  ECONOMIA           \n",
       "5 3     SECUNDARIO     Secundaria ... 1000116  47526536  EDUCACION FISICA   \n",
       "6 3     SECUNDARIO     Secundaria ... 1000116  47526536  FISICA             \n",
       "  periodoEvaluatorio notaPrimerT notaSegundoT notaTercerT promedio resultado\n",
       "1 Tercer Trimestre   9           9            9           9.00     Aprobado \n",
       "2 Tercer Trimestre   7           7            8           7.33     Aprobado \n",
       "3 Tercer Trimestre   7           8            9           8.00     Aprobado \n",
       "4 Tercer Trimestre   7           6            4           5.67     Rinde    \n",
       "5 Tercer Trimestre   9           9            8           8.67     Aprobado \n",
       "6 Tercer Trimestre   4           4            3           3.67     Rinde    \n",
       "  anioCursado\n",
       "1 PRIMERO    \n",
       "2 CUARTO     \n",
       "3 CUARTO     \n",
       "4 CUARTO     \n",
       "5 CUARTO     \n",
       "6 CUARTO     "
      ]
     },
     "metadata": {},
     "output_type": "display_data"
    }
   ],
   "source": [
    "# Creo el dataset de las notas de Secundaria y EGB 3 (Falta procesar asignaturas y años de cursado)\n",
    "GUALEGUAY_secundariaNotas <- filter(GUALEGUAY_notasFiltradas, nivelEnsenanza==\"SECUNDARIO\" | nivelEnsenanza==\"EGB 3\")\n",
    "\n",
    "names(GUALEGUAY_secundariaNotas)\n",
    "dim(GUALEGUAY_secundariaNotas)\n",
    "head(GUALEGUAY_secundariaNotas)"
   ]
  },
  {
   "cell_type": "markdown",
   "id": "ea83bdc1",
   "metadata": {},
   "source": [
    "---------------"
   ]
  },
  {
   "cell_type": "markdown",
   "id": "87b23295",
   "metadata": {},
   "source": [
    "### Procesamiento de asignaturas y años de cursado de los datasets \"Primaria\" y \"Secundaria\""
   ]
  },
  {
   "cell_type": "markdown",
   "id": "2731a476",
   "metadata": {},
   "source": [
    "Corrijo todas las cadenas que hacen referencia a una misma asignatura, pero están representadas de distinta manera."
   ]
  },
  {
   "cell_type": "code",
   "execution_count": 32,
   "id": "1641b07c",
   "metadata": {
    "vscode": {
     "languageId": "r"
    }
   },
   "outputs": [
    {
     "data": {
      "text/plain": [
       "\n",
       "                             ABRIENDO EL JUEGO \n",
       "                                            48 \n",
       "                ACOMP. AL ESTUDIO CS NATURALES \n",
       "                                            66 \n",
       "               ACOMP. AL ESTUDIO CS. NATURALES \n",
       "                                            25 \n",
       "                ACOMP. AL ESTUDIO CS. SOCIALES \n",
       "                                            25 \n",
       "                 ACOMP. AL ESTUDIO CS.SOCIALES \n",
       "                                            65 \n",
       "                      ACOMP. AL ESTUDIO LENGUA \n",
       "                                            91 \n",
       "                  ACOMP. AL ESTUDIO MATEMÁTICA \n",
       "                                            66 \n",
       "  ACOMPAÑAMIENTO  AL ESTUDIO CIENCIAS SOCIALES \n",
       "                                            26 \n",
       "                     ACOMPAÑAMIENTO AL ESTUDIO \n",
       "                                           365 \n",
       "  ACOMPAÑAMIENTO AL ESTUDIO CIENCIAS NATURALES \n",
       "                                            26 \n",
       "              ACOMPAÑAMIENTO AL ESTUDIO LENGUA \n",
       "                                            26 \n",
       "ACOMPAÑAMIENTO AL ESTUDIO LENGUA/ CS. SOCIALES \n",
       "                                            48 \n",
       "    ACOMPAÑAMIENTO AL ESTUDIO MAT/CS NATURALES \n",
       "                                            48 \n",
       "          ACOMPAÑAMINTO AL EST LENG.Y CS.SOC.. \n",
       "                                            62 \n",
       "              ACOMPAÑAMINTO AL EST MAT.CS.NAT. \n",
       "                                            62 \n",
       "                        ACTIVIDADES CORPORALES \n",
       "                                            19 \n",
       "                                 AGROPECUARIAS \n",
       "                                           165 \n",
       "                     ALFABETIZACIÓN CIENTÍFICA \n",
       "                                           139 \n",
       "                    ARTE LÚDICO Y EXPERIMENTAL \n",
       "                                            25 \n",
       "                                ARTES VISUALES \n",
       "                                          6777 \n",
       "                         ARTESANÍAS REGIONALES \n",
       "                                            94 \n",
       "                            CIENCIAS NATURALES \n",
       "                                          7041 \n",
       "                             CIENCIAS SOCIALES \n",
       "                                          6996 \n",
       "                                         DANZA \n",
       "                                            26 \n",
       "                         DANZA    TEATRALIZADA \n",
       "                                            19 \n",
       "                            DANZA TEATRALIZADA \n",
       "                                           167 \n",
       "                                        DANZAS \n",
       "                                            58 \n",
       "                 DANZAS FOLKLORICAS ARGENTINAS \n",
       "                                            46 \n",
       "                                       DEPORTE \n",
       "                                           216 \n",
       "                     DEPORTE Y VIDA EN LA NAT. \n",
       "                                            59 \n",
       "                  DEPORTE, RECREACION Y JUEGOS \n",
       "                                           117 \n",
       "                                      DEPORTES \n",
       "                                            70 \n",
       "                                         E.R.E \n",
       "                                           292 \n",
       "                                        ECO 99 \n",
       "                                            51 \n",
       "                           EDUC. PARA LA SALUD \n",
       "                                            47 \n",
       "                        EDUCACIÓN AGROPECUARIA \n",
       "                                            34 \n",
       "                              EDUCACION FISICA \n",
       "                                          6815 \n",
       "                             EDUCACION MUSICAL \n",
       "                                          6860 \n",
       "                             EDUCACIÓN MUSICAL \n",
       "                                            19 \n",
       "                         EDUCACION TECNOLOGICA \n",
       "                                          6567 \n",
       "              EDUCACIÒN Y PRÀCTICAS EN VALORES \n",
       "                                            34 \n",
       "                            EXPRESIÓN CORPORAL \n",
       "                                            55 \n",
       "              FOLKLORE Y DANZAS CONTEMPORÁNEAS \n",
       "                                            94 \n",
       "                     IDIOMA EXTRANJERO: INGLÉS \n",
       "                                           164 \n",
       "                      IDIOMA EXTRANJERO:INGLES \n",
       "                                            26 \n",
       "                     IDIOMA EXTRANJERO; INGLES \n",
       "                                            26 \n",
       "                                        INGLES \n",
       "                                           131 \n",
       "                                        INGLÉS \n",
       "                                           361 \n",
       "                            INICIACION MUSICAL \n",
       "                                            30 \n",
       "                            INICIACIÓN MUSICAL \n",
       "                                            12 \n",
       "                            INICIACIÒN MUSICAL \n",
       "                                            49 \n",
       "                     INTERVENCIONES ARTISTICAS \n",
       "                                            66 \n",
       "                                        LENGUA \n",
       "                                          7064 \n",
       "                             LENGUA EXT.INGLES \n",
       "                                            73 \n",
       "                      LENGUA EXTRANJERA:INGLÉS \n",
       "                                            55 \n",
       "                                     LITERARIO \n",
       "                                            53 \n",
       "                                    MATEMATICA \n",
       "                                          7059 \n",
       "                          MATEMÁTICA EN JUEGOS \n",
       "                                            51 \n",
       "             MÚSICA CREATIVIDAD Y COMUNICACIÓN \n",
       "                                            30 \n",
       "            MÚSICA, CREATIVIDAD Y COMUNICACIÓN \n",
       "                                             7 \n",
       "                                  PROGRAMACIÓN \n",
       "                                           131 \n",
       "                                   RADIOTEATRO \n",
       "                                           153 \n",
       "        RECICLADO DE MATERIALES Y MANUALIDADES \n",
       "                                            94 \n",
       "                       RESOLUCIÓN DE PROBLEMAS \n",
       "                                           139 \n",
       "                                         T.I.C \n",
       "                                            94 \n",
       "                                        TALLER \n",
       "                                            11 \n",
       "                         TALLER ARTES VISUALES \n",
       "                                            45 \n",
       "                      TALLER DE ARTES VISUALES \n",
       "                                            12 \n",
       "                              TALLER DE HUERTA \n",
       "                                            50 \n",
       "                              TALLER DE INGLES \n",
       "                                            89 \n",
       "                                 TALLER DE TIC \n",
       "                                            51 \n",
       "                                TALLER DE TIC. \n",
       "                                            73 \n",
       "                                 TALLER INGLES \n",
       "                                            91 \n",
       "                        TALLER LECTO ESCRITURA \n",
       "                                           117 \n",
       "                                    TALLER TIC \n",
       "                                            70 \n",
       "                    TALLLER  DE ARTES VISUALES \n",
       "                                            12 \n",
       "                                        TEATRO \n",
       "                                            27 \n",
       "                              TEATRO Y TITERES \n",
       "                                            29 \n",
       "                                           TIC \n",
       "                                           275 \n",
       "                               YOGA PARA NIÑOS \n",
       "                                            22 "
      ]
     },
     "metadata": {},
     "output_type": "display_data"
    },
    {
     "data": {
      "text/plain": [
       "\n",
       "                                               ANALISIS MATEMATICO \n",
       "                                                                41 \n",
       "                                                    ARTES VISUALES \n",
       "                                                              2886 \n",
       "                                                          BIOLOGIA \n",
       "                                                              4317 \n",
       "                                           CIENCIAS DE LA TIERRA I \n",
       "                                                                57 \n",
       "                                     CIENCIAS NATURALES (BIOLOGIA) \n",
       "                                                                12 \n",
       "                                       CIENCIAS NATURALES BIOLOGIA \n",
       "                                                               243 \n",
       "                                 CIENCIAS NATURALES FISICO-QUIMICA \n",
       "                                                               271 \n",
       "                                     CIENCIAS SOCIALES (GEOGRAFIA) \n",
       "                                                               175 \n",
       "                                      CIENCIAS SOCIALES (HISTORIA) \n",
       "                                                               173 \n",
       "                                         COMPUTADORAS ELECTRONICAS \n",
       "                                                                15 \n",
       "                      COMUNICACION, EDUCACION Y NUEVAS TECNOLOGIAS \n",
       "                                                                 7 \n",
       "                                                    COMUNICACIONES \n",
       "                                                                13 \n",
       "                       COSTURA, RECICLADO Y REALIZACIÓN DE PRENDAS \n",
       "                                                                18 \n",
       "                                            CULTURA Y COMUNICACION \n",
       "                                                                13 \n",
       "                   CULTURAS Y ESTETICAS CONTEMPORANEAS I, II Y III \n",
       "                                                                22 \n",
       "                                                           DERECHO \n",
       "                                                               124 \n",
       "                                                 DERECHO COMERCIAL \n",
       "                                                               160 \n",
       "                                                    DIBUJO TECNICO \n",
       "                                                               172 \n",
       "                    DISEÑOS Y REPARACION EN CARPINTERIA Y HERRERIA \n",
       "                                                                 9 \n",
       "                                                          ECOLOGIA \n",
       "                                                                45 \n",
       "                                                          ECONOMIA \n",
       "                                                               418 \n",
       "                                                       ECONOMIA II \n",
       "                                                                90 \n",
       "                                                  EDUCACION FISICA \n",
       "                                                              5962 \n",
       "                                             EDUCACION TECNOLOGICA \n",
       "                                                              2050 \n",
       "                                                     ELECTRONICA I \n",
       "                                                                40 \n",
       "                                                    ELECTRONICA II \n",
       "                                                                13 \n",
       "                                                         FILOSOFIA \n",
       "                                                               426 \n",
       "                                                      FILOSOFIA II \n",
       "                                                               118 \n",
       "                                                            FISICA \n",
       "                                                               860 \n",
       "                                                  FISICA Y QUIMICA \n",
       "                                                              1769 \n",
       "                                       FORMACION ETICA Y CIUDADANA \n",
       "                                                              5901 \n",
       "                                                  FORMATO NARRANDO \n",
       "                                                                57 \n",
       "                                                 FORMATO TECNOARTE \n",
       "                                                                35 \n",
       "                                                         GEOGRAFIA \n",
       "                                                              5614 \n",
       "                                               GEOGRAFIA AMBIENTAL \n",
       "                                                               120 \n",
       "                                                          HISTORIA \n",
       "                                                              5556 \n",
       "                      HUERTA, JARDINES Y DISEÑO DE ESPACIOS VERDES \n",
       "                                                                 8 \n",
       "                                     INFORMATICA Y MULTIMEDIA (FC) \n",
       "                                                                14 \n",
       "                                     INFORMÁTICA Y MULTIMEDIA (FC) \n",
       "                                                                61 \n",
       "                    INSERCIÓN LABORAL Y FORMACIÓN DE EMPRENDEDORES \n",
       "                                                                 9 \n",
       "                                                   INSTRUMENTACION \n",
       "                                                                13 \n",
       "                                  INTRODUCCION A LA ADMINISTRACION \n",
       "                                                               193 \n",
       "             INTRODUCCION A LA INVESTIGACION EN CIENCIAS NATURALES \n",
       "                                                                49 \n",
       "                                       LABORATORIO DE COMPUTADORAS \n",
       "                                                                15 \n",
       "                                                     LABORATORIO I \n",
       "                                                                41 \n",
       "                                                    LABORATORIO II \n",
       "                                                                13 \n",
       "                                                   LABORATORIO III \n",
       "                                                                15 \n",
       "                         LEGISLACION LABORAL Y PRACTICA IMPOSITIVA \n",
       "                                                               158 \n",
       "                                        LENGUA EXTRANJERA (INGLES) \n",
       "                                                               243 \n",
       "                                               LENGUA Y LITERATURA \n",
       "                                                              3086 \n",
       "                                         LENGUAJE CORPORAL Y DANZA \n",
       "                                                                13 \n",
       "                                   LENGUAJE Y PRODUCCION MUSICAL I \n",
       "                                                                22 \n",
       "                                  LENGUAJE Y PRODUCCION MUSICAL II \n",
       "                                                                13 \n",
       "                                    LENGUAJE Y PRODUCCION VISUAL I \n",
       "                                                                22 \n",
       "                                   LENGUAJE Y PRODUCCION VISUAL II \n",
       "                                                                13 \n",
       "                                               LENGUAS EXTRANJERAS \n",
       "                                                              5584 \n",
       "                                              LITERATURA ARGENTINA \n",
       "                                                               303 \n",
       "                                        LITERATURA LATINOAMERICANA \n",
       "                                                               356 \n",
       "                                                     MACROECONOMIA \n",
       "                                                               158 \n",
       "                                               MAQUINAS ELECTRICAS \n",
       "                                                                13 \n",
       "                                                        MATEMATICA \n",
       "                                                              5857 \n",
       "                                   METODOLOGIA DE LA INVESTIGACION \n",
       "                                                               103 \n",
       "                                                     MICROECONOMIA \n",
       "                                                               173 \n",
       "                                                            MUSICA \n",
       "                                                              2866 \n",
       "                          OPINION PUBLICA Y MEDIOS DE COMUNICACION \n",
       "                                                                 7 \n",
       "                                           ORGANIZACION INDUSTRIAL \n",
       "                                                                15 \n",
       "                                        PRACTICAS COMUNICACIONALES \n",
       "                                                                14 \n",
       "                                              PRACTICAS EDUCATIVAS \n",
       "                                                               337 \n",
       "                                PRINCIPIOS BASICOS DE CONTABILIDAD \n",
       "                                                               172 \n",
       "                                 PROD. VEGETAL (PARQUE Y JARDINES) \n",
       "                                                                12 \n",
       "                                      PRODUCCIÓN DE ALIMENTOS (FC) \n",
       "                                                                 9 \n",
       "                  PRODUCCION MULTIMEDIAL EN LENGUAJES ARTISTICOS I \n",
       "                                                                13 \n",
       "                                            PRODUCCIÓN RADIAL (FC) \n",
       "                                                                 6 \n",
       "                                         PRODUCCIÓN VEGETAL I (FC) \n",
       "                                                                 9 \n",
       "                                PRODUCCIONES ARTISTICAS INTEGRADAS \n",
       "                                                                13 \n",
       "                                                          PROYECTO \n",
       "                                                                29 \n",
       "                          PROYECTO DE PRACTICAS PROFESIONALIZANTES \n",
       "                                                                69 \n",
       "                                    PROYECTO ORIENTACION Y TUTORIA \n",
       "                                                               160 \n",
       "                                                         PROYECTOS \n",
       "                                                                18 \n",
       "                                                        PSICOLOGIA \n",
       "                                                               439 \n",
       "                                                           QUIMICA \n",
       "                                                               942 \n",
       "                                                RELACIONES HUMANAS \n",
       "                                                                15 \n",
       "                                   SISTEMA DE INFORMACION CONTABLE \n",
       "                                                               156 \n",
       "                                               SISTEMAS DE CONTROL \n",
       "                                                                15 \n",
       "                                            SISTEMAS DE TELEVISION \n",
       "                                                                15 \n",
       "                                                        SOCIOLOGIA \n",
       "                                                               131 \n",
       "                                                            TALLER \n",
       "                                                                28 \n",
       "                                                   TALLER DE RADIO \n",
       "                                                                35 \n",
       "                                                TALLER ELECTRONICA \n",
       "                                                                23 \n",
       "                                           TALLER II (ELECTRONICA) \n",
       "                                                                13 \n",
       "TE - SISTEMAS Y EQUIPOS DE COMUNICACIÓN - ESPECIALIDAD ELECTRÓNICA \n",
       "                                                                15 \n",
       "                                                            TEATRO \n",
       "                                                                22 \n",
       "                                                TECNICAS DIGITALES \n",
       "                                                                13 \n",
       "                       TECNOLOGIA DE LA INFORMACION Y COMUNICACION \n",
       "                                                               412 \n",
       "                    TECNOLOGIA DE LA INFORMACION Y LA COMUNICACION \n",
       "                                                                54 \n",
       "                        TECNOLOGIA DE LOS COMPONENTES ELECTRONICOS \n",
       "                                                                40 \n",
       "                                         TEORIA DE LOS CIRCUITOS I \n",
       "                                                                41 \n",
       "                                        TEORIA DE LOS CIRCUITOS II \n",
       "                                                                13 \n",
       "                            TEORIA Y GESTION DE LAS ORGANIZACIONES \n",
       "                                                               309 \n",
       "                          TEORIA Y GESTION DE LAS ORGANIZACIONES I \n",
       "                                                                 6 \n",
       "                         TEORIA Y GESTION DE LAS ORGANIZACIONES II \n",
       "                                                                16 \n",
       "                                 TEORIAS DE LA COMUNICACION I Y II \n",
       "                                                                14 \n",
       "                                                          TUTORIAS \n",
       "                                                                30 \n",
       "                         USO SUSTENTABLE DE LOS RECURSOS NAT. (FC) \n",
       "                                                                14 "
      ]
     },
     "metadata": {},
     "output_type": "display_data"
    }
   ],
   "source": [
    "# Creo una copia del dataframe de Primaria y Secundaria, para trabajar las cadenas en uno nuevo\n",
    "GUALEGUAY_primariaAsignaturas <- data.frame(GUALEGUAY_primariaNotas)\n",
    "GUALEGUAY_secundariaAsignaturas <- data.frame(GUALEGUAY_secundariaNotas)\n",
    "\n",
    "table(GUALEGUAY_primariaAsignaturas$asignatura)\n",
    "table(GUALEGUAY_secundariaAsignaturas$asignatura)"
   ]
  },
  {
   "cell_type": "markdown",
   "id": "0128f69e",
   "metadata": {},
   "source": [
    "#### Limpieza de asignaturas de primaria."
   ]
  },
  {
   "cell_type": "code",
   "execution_count": 33,
   "id": "63e5c536",
   "metadata": {
    "vscode": {
     "languageId": "r"
    }
   },
   "outputs": [
    {
     "data": {
      "text/plain": [
       "\n",
       "                             ABRIENDO EL JUEGO \n",
       "                                            48 \n",
       "                ACOMP. AL ESTUDIO CS NATURALES \n",
       "                                            66 \n",
       "               ACOMP. AL ESTUDIO CS. NATURALES \n",
       "                                            25 \n",
       "                ACOMP. AL ESTUDIO CS. SOCIALES \n",
       "                                            25 \n",
       "                 ACOMP. AL ESTUDIO CS.SOCIALES \n",
       "                                            65 \n",
       "                      ACOMP. AL ESTUDIO LENGUA \n",
       "                                            91 \n",
       "                  ACOMP. AL ESTUDIO MATEMÁTICA \n",
       "                                            66 \n",
       "  ACOMPAÑAMIENTO  AL ESTUDIO CIENCIAS SOCIALES \n",
       "                                            26 \n",
       "                     ACOMPAÑAMIENTO AL ESTUDIO \n",
       "                                           365 \n",
       "  ACOMPAÑAMIENTO AL ESTUDIO CIENCIAS NATURALES \n",
       "                                            26 \n",
       "              ACOMPAÑAMIENTO AL ESTUDIO LENGUA \n",
       "                                            26 \n",
       "ACOMPAÑAMIENTO AL ESTUDIO LENGUA/ CS. SOCIALES \n",
       "                                            48 \n",
       "    ACOMPAÑAMIENTO AL ESTUDIO MAT/CS NATURALES \n",
       "                                            48 \n",
       "          ACOMPAÑAMINTO AL EST LENG.Y CS.SOC.. \n",
       "                                            62 \n",
       "              ACOMPAÑAMINTO AL EST MAT.CS.NAT. \n",
       "                                            62 \n",
       "                        ACTIVIDADES CORPORALES \n",
       "                                            19 \n",
       "                                 AGROPECUARIAS \n",
       "                                           165 \n",
       "                     ALFABETIZACIÓN CIENTÍFICA \n",
       "                                           139 \n",
       "                    ARTE LÚDICO Y EXPERIMENTAL \n",
       "                                            25 \n",
       "                                ARTES VISUALES \n",
       "                                          6777 \n",
       "                         ARTESANÍAS REGIONALES \n",
       "                                            94 \n",
       "                            CIENCIAS NATURALES \n",
       "                                          7041 \n",
       "                             CIENCIAS SOCIALES \n",
       "                                          6996 \n",
       "                                         DANZA \n",
       "                                            26 \n",
       "                         DANZA    TEATRALIZADA \n",
       "                                            19 \n",
       "                            DANZA TEATRALIZADA \n",
       "                                           167 \n",
       "                                        DANZAS \n",
       "                                            58 \n",
       "                 DANZAS FOLKLORICAS ARGENTINAS \n",
       "                                            46 \n",
       "                                       DEPORTE \n",
       "                                           216 \n",
       "                     DEPORTE Y VIDA EN LA NAT. \n",
       "                                            59 \n",
       "                  DEPORTE, RECREACION Y JUEGOS \n",
       "                                           117 \n",
       "                                      DEPORTES \n",
       "                                            70 \n",
       "                                         E.R.E \n",
       "                                           292 \n",
       "                                        ECO 99 \n",
       "                                            51 \n",
       "                           EDUC. PARA LA SALUD \n",
       "                                            47 \n",
       "                        EDUCACIÓN AGROPECUARIA \n",
       "                                            34 \n",
       "                              EDUCACION FISICA \n",
       "                                          6815 \n",
       "                             EDUCACION MUSICAL \n",
       "                                          6860 \n",
       "                             EDUCACIÓN MUSICAL \n",
       "                                            19 \n",
       "                         EDUCACION TECNOLOGICA \n",
       "                                          6567 \n",
       "              EDUCACIÒN Y PRÀCTICAS EN VALORES \n",
       "                                            34 \n",
       "                            EXPRESIÓN CORPORAL \n",
       "                                            55 \n",
       "              FOLKLORE Y DANZAS CONTEMPORÁNEAS \n",
       "                                            94 \n",
       "                     IDIOMA EXTRANJERO: INGLÉS \n",
       "                                           164 \n",
       "                      IDIOMA EXTRANJERO:INGLES \n",
       "                                            26 \n",
       "                     IDIOMA EXTRANJERO; INGLES \n",
       "                                            26 \n",
       "                                        INGLES \n",
       "                                           131 \n",
       "                                        INGLÉS \n",
       "                                           361 \n",
       "                            INICIACION MUSICAL \n",
       "                                            30 \n",
       "                            INICIACIÓN MUSICAL \n",
       "                                            12 \n",
       "                            INICIACIÒN MUSICAL \n",
       "                                            49 \n",
       "                     INTERVENCIONES ARTISTICAS \n",
       "                                            66 \n",
       "                                        LENGUA \n",
       "                                          7064 \n",
       "                             LENGUA EXT.INGLES \n",
       "                                            73 \n",
       "                      LENGUA EXTRANJERA:INGLÉS \n",
       "                                            55 \n",
       "                                     LITERARIO \n",
       "                                            53 \n",
       "                                    MATEMATICA \n",
       "                                          7059 \n",
       "                          MATEMÁTICA EN JUEGOS \n",
       "                                            51 \n",
       "             MÚSICA CREATIVIDAD Y COMUNICACIÓN \n",
       "                                            30 \n",
       "            MÚSICA, CREATIVIDAD Y COMUNICACIÓN \n",
       "                                             7 \n",
       "                                  PROGRAMACIÓN \n",
       "                                           131 \n",
       "                                   RADIOTEATRO \n",
       "                                           153 \n",
       "        RECICLADO DE MATERIALES Y MANUALIDADES \n",
       "                                            94 \n",
       "                       RESOLUCIÓN DE PROBLEMAS \n",
       "                                           139 \n",
       "                                         T.I.C \n",
       "                                            94 \n",
       "                                        TALLER \n",
       "                                            11 \n",
       "                         TALLER ARTES VISUALES \n",
       "                                            45 \n",
       "                      TALLER DE ARTES VISUALES \n",
       "                                            12 \n",
       "                              TALLER DE HUERTA \n",
       "                                            50 \n",
       "                              TALLER DE INGLES \n",
       "                                            89 \n",
       "                                 TALLER DE TIC \n",
       "                                            51 \n",
       "                                TALLER DE TIC. \n",
       "                                            73 \n",
       "                                 TALLER INGLES \n",
       "                                            91 \n",
       "                        TALLER LECTO ESCRITURA \n",
       "                                           117 \n",
       "                                    TALLER TIC \n",
       "                                            70 \n",
       "                    TALLLER  DE ARTES VISUALES \n",
       "                                            12 \n",
       "                                        TEATRO \n",
       "                                            27 \n",
       "                              TEATRO Y TITERES \n",
       "                                            29 \n",
       "                                           TIC \n",
       "                                           275 \n",
       "                               YOGA PARA NIÑOS \n",
       "                                            22 "
      ]
     },
     "metadata": {},
     "output_type": "display_data"
    },
    {
     "data": {
      "text/plain": [
       " CIENCIAS NATURALES CIENCIAS SOCIALES EDUCACION FISICA INGLES LENGUA MATEMATICA\n",
       "                                                                               \n",
       "               7041              6996             7277   1016   7064       7110"
      ]
     },
     "metadata": {},
     "output_type": "display_data"
    }
   ],
   "source": [
    "# Asignaturas antes del filtrado\n",
    "table(GUALEGUAY_primariaAsignaturas$asignatura)\n",
    "\n",
    "# Elimino asignaturas de acompañamiento\n",
    "GUALEGUAY_primariaAsignaturas <- filter(GUALEGUAY_primariaAsignaturas, !str_detect(asignatura, \"ACOMP\"))\n",
    "\n",
    "# Reemplazo cadenas por un mismo dato que se refiere a la misma asignatura\n",
    "GUALEGUAY_primariaAsignaturas$asignatura <- gsub(\"^MATEM[AÁ]TICA.*\", \"MATEMATICA\", GUALEGUAY_primariaAsignaturas$asignatura) # Empiece con esa cadena, pueda, o no, contener acento\n",
    "GUALEGUAY_primariaAsignaturas$asignatura <- gsub(\".*INGL[EÉ]S.*\", \"INGLES\", GUALEGUAY_primariaAsignaturas$asignatura)   # \".*\" Una o más ocurrencias de cualquier caracter\n",
    "GUALEGUAY_primariaAsignaturas$asignatura <- gsub(\"DEPORTE.*\", \"EDUCACION FISICA\", GUALEGUAY_primariaAsignaturas$asignatura) # Comience con deporte y pueda, o no, continuar la cadena\n",
    "\n",
    "# Filtro asignaturas esenciales de primaria\n",
    "GUALEGUAY_primariaAsignaturas <- filter(GUALEGUAY_primariaAsignaturas, asignatura==\"MATEMATICA\" | asignatura==\"LENGUA\" | asignatura==\"CIENCIAS SOCIALES\" | asignatura==\"CIENCIAS NATURALES\" | asignatura==\"INGLES\" | asignatura==\"EDUCACION FISICA\")\n",
    "\n",
    "# Asignaturas después del filtrado\n",
    "ftable(GUALEGUAY_primariaAsignaturas$asignatura)"
   ]
  },
  {
   "cell_type": "markdown",
   "id": "5ec5316f",
   "metadata": {},
   "source": [
    "#### Limpieza de asignaturas de secundaria."
   ]
  },
  {
   "cell_type": "code",
   "execution_count": 34,
   "id": "4ef53a01",
   "metadata": {
    "vscode": {
     "languageId": "r"
    }
   },
   "outputs": [
    {
     "data": {
      "text/plain": [
       "\n",
       "                                               ANALISIS MATEMATICO \n",
       "                                                                41 \n",
       "                                                    ARTES VISUALES \n",
       "                                                              2886 \n",
       "                                                          BIOLOGIA \n",
       "                                                              4317 \n",
       "                                           CIENCIAS DE LA TIERRA I \n",
       "                                                                57 \n",
       "                                     CIENCIAS NATURALES (BIOLOGIA) \n",
       "                                                                12 \n",
       "                                       CIENCIAS NATURALES BIOLOGIA \n",
       "                                                               243 \n",
       "                                 CIENCIAS NATURALES FISICO-QUIMICA \n",
       "                                                               271 \n",
       "                                     CIENCIAS SOCIALES (GEOGRAFIA) \n",
       "                                                               175 \n",
       "                                      CIENCIAS SOCIALES (HISTORIA) \n",
       "                                                               173 \n",
       "                                         COMPUTADORAS ELECTRONICAS \n",
       "                                                                15 \n",
       "                      COMUNICACION, EDUCACION Y NUEVAS TECNOLOGIAS \n",
       "                                                                 7 \n",
       "                                                    COMUNICACIONES \n",
       "                                                                13 \n",
       "                       COSTURA, RECICLADO Y REALIZACIÓN DE PRENDAS \n",
       "                                                                18 \n",
       "                                            CULTURA Y COMUNICACION \n",
       "                                                                13 \n",
       "                   CULTURAS Y ESTETICAS CONTEMPORANEAS I, II Y III \n",
       "                                                                22 \n",
       "                                                           DERECHO \n",
       "                                                               124 \n",
       "                                                 DERECHO COMERCIAL \n",
       "                                                               160 \n",
       "                                                    DIBUJO TECNICO \n",
       "                                                               172 \n",
       "                    DISEÑOS Y REPARACION EN CARPINTERIA Y HERRERIA \n",
       "                                                                 9 \n",
       "                                                          ECOLOGIA \n",
       "                                                                45 \n",
       "                                                          ECONOMIA \n",
       "                                                               418 \n",
       "                                                       ECONOMIA II \n",
       "                                                                90 \n",
       "                                                  EDUCACION FISICA \n",
       "                                                              5962 \n",
       "                                             EDUCACION TECNOLOGICA \n",
       "                                                              2050 \n",
       "                                                     ELECTRONICA I \n",
       "                                                                40 \n",
       "                                                    ELECTRONICA II \n",
       "                                                                13 \n",
       "                                                         FILOSOFIA \n",
       "                                                               426 \n",
       "                                                      FILOSOFIA II \n",
       "                                                               118 \n",
       "                                                            FISICA \n",
       "                                                               860 \n",
       "                                                  FISICA Y QUIMICA \n",
       "                                                              1769 \n",
       "                                       FORMACION ETICA Y CIUDADANA \n",
       "                                                              5901 \n",
       "                                                  FORMATO NARRANDO \n",
       "                                                                57 \n",
       "                                                 FORMATO TECNOARTE \n",
       "                                                                35 \n",
       "                                                         GEOGRAFIA \n",
       "                                                              5614 \n",
       "                                               GEOGRAFIA AMBIENTAL \n",
       "                                                               120 \n",
       "                                                          HISTORIA \n",
       "                                                              5556 \n",
       "                      HUERTA, JARDINES Y DISEÑO DE ESPACIOS VERDES \n",
       "                                                                 8 \n",
       "                                     INFORMATICA Y MULTIMEDIA (FC) \n",
       "                                                                14 \n",
       "                                     INFORMÁTICA Y MULTIMEDIA (FC) \n",
       "                                                                61 \n",
       "                    INSERCIÓN LABORAL Y FORMACIÓN DE EMPRENDEDORES \n",
       "                                                                 9 \n",
       "                                                   INSTRUMENTACION \n",
       "                                                                13 \n",
       "                                  INTRODUCCION A LA ADMINISTRACION \n",
       "                                                               193 \n",
       "             INTRODUCCION A LA INVESTIGACION EN CIENCIAS NATURALES \n",
       "                                                                49 \n",
       "                                       LABORATORIO DE COMPUTADORAS \n",
       "                                                                15 \n",
       "                                                     LABORATORIO I \n",
       "                                                                41 \n",
       "                                                    LABORATORIO II \n",
       "                                                                13 \n",
       "                                                   LABORATORIO III \n",
       "                                                                15 \n",
       "                         LEGISLACION LABORAL Y PRACTICA IMPOSITIVA \n",
       "                                                               158 \n",
       "                                        LENGUA EXTRANJERA (INGLES) \n",
       "                                                               243 \n",
       "                                               LENGUA Y LITERATURA \n",
       "                                                              3086 \n",
       "                                         LENGUAJE CORPORAL Y DANZA \n",
       "                                                                13 \n",
       "                                   LENGUAJE Y PRODUCCION MUSICAL I \n",
       "                                                                22 \n",
       "                                  LENGUAJE Y PRODUCCION MUSICAL II \n",
       "                                                                13 \n",
       "                                    LENGUAJE Y PRODUCCION VISUAL I \n",
       "                                                                22 \n",
       "                                   LENGUAJE Y PRODUCCION VISUAL II \n",
       "                                                                13 \n",
       "                                               LENGUAS EXTRANJERAS \n",
       "                                                              5584 \n",
       "                                              LITERATURA ARGENTINA \n",
       "                                                               303 \n",
       "                                        LITERATURA LATINOAMERICANA \n",
       "                                                               356 \n",
       "                                                     MACROECONOMIA \n",
       "                                                               158 \n",
       "                                               MAQUINAS ELECTRICAS \n",
       "                                                                13 \n",
       "                                                        MATEMATICA \n",
       "                                                              5857 \n",
       "                                   METODOLOGIA DE LA INVESTIGACION \n",
       "                                                               103 \n",
       "                                                     MICROECONOMIA \n",
       "                                                               173 \n",
       "                                                            MUSICA \n",
       "                                                              2866 \n",
       "                          OPINION PUBLICA Y MEDIOS DE COMUNICACION \n",
       "                                                                 7 \n",
       "                                           ORGANIZACION INDUSTRIAL \n",
       "                                                                15 \n",
       "                                        PRACTICAS COMUNICACIONALES \n",
       "                                                                14 \n",
       "                                              PRACTICAS EDUCATIVAS \n",
       "                                                               337 \n",
       "                                PRINCIPIOS BASICOS DE CONTABILIDAD \n",
       "                                                               172 \n",
       "                                 PROD. VEGETAL (PARQUE Y JARDINES) \n",
       "                                                                12 \n",
       "                                      PRODUCCIÓN DE ALIMENTOS (FC) \n",
       "                                                                 9 \n",
       "                  PRODUCCION MULTIMEDIAL EN LENGUAJES ARTISTICOS I \n",
       "                                                                13 \n",
       "                                            PRODUCCIÓN RADIAL (FC) \n",
       "                                                                 6 \n",
       "                                         PRODUCCIÓN VEGETAL I (FC) \n",
       "                                                                 9 \n",
       "                                PRODUCCIONES ARTISTICAS INTEGRADAS \n",
       "                                                                13 \n",
       "                                                          PROYECTO \n",
       "                                                                29 \n",
       "                          PROYECTO DE PRACTICAS PROFESIONALIZANTES \n",
       "                                                                69 \n",
       "                                    PROYECTO ORIENTACION Y TUTORIA \n",
       "                                                               160 \n",
       "                                                         PROYECTOS \n",
       "                                                                18 \n",
       "                                                        PSICOLOGIA \n",
       "                                                               439 \n",
       "                                                           QUIMICA \n",
       "                                                               942 \n",
       "                                                RELACIONES HUMANAS \n",
       "                                                                15 \n",
       "                                   SISTEMA DE INFORMACION CONTABLE \n",
       "                                                               156 \n",
       "                                               SISTEMAS DE CONTROL \n",
       "                                                                15 \n",
       "                                            SISTEMAS DE TELEVISION \n",
       "                                                                15 \n",
       "                                                        SOCIOLOGIA \n",
       "                                                               131 \n",
       "                                                            TALLER \n",
       "                                                                28 \n",
       "                                                   TALLER DE RADIO \n",
       "                                                                35 \n",
       "                                                TALLER ELECTRONICA \n",
       "                                                                23 \n",
       "                                           TALLER II (ELECTRONICA) \n",
       "                                                                13 \n",
       "TE - SISTEMAS Y EQUIPOS DE COMUNICACIÓN - ESPECIALIDAD ELECTRÓNICA \n",
       "                                                                15 \n",
       "                                                            TEATRO \n",
       "                                                                22 \n",
       "                                                TECNICAS DIGITALES \n",
       "                                                                13 \n",
       "                       TECNOLOGIA DE LA INFORMACION Y COMUNICACION \n",
       "                                                               412 \n",
       "                    TECNOLOGIA DE LA INFORMACION Y LA COMUNICACION \n",
       "                                                                54 \n",
       "                        TECNOLOGIA DE LOS COMPONENTES ELECTRONICOS \n",
       "                                                                40 \n",
       "                                         TEORIA DE LOS CIRCUITOS I \n",
       "                                                                41 \n",
       "                                        TEORIA DE LOS CIRCUITOS II \n",
       "                                                                13 \n",
       "                            TEORIA Y GESTION DE LAS ORGANIZACIONES \n",
       "                                                               309 \n",
       "                          TEORIA Y GESTION DE LAS ORGANIZACIONES I \n",
       "                                                                 6 \n",
       "                         TEORIA Y GESTION DE LAS ORGANIZACIONES II \n",
       "                                                                16 \n",
       "                                 TEORIAS DE LA COMUNICACION I Y II \n",
       "                                                                14 \n",
       "                                                          TUTORIAS \n",
       "                                                                30 \n",
       "                         USO SUSTENTABLE DE LOS RECURSOS NAT. (FC) \n",
       "                                                                14 "
      ]
     },
     "metadata": {},
     "output_type": "display_data"
    },
    {
     "data": {
      "text/plain": [
       "\n",
       "        BIOLOGIA EDUCACION FISICA           FISICA FISICA Y QUIMICA \n",
       "            4560             5962              860             2040 \n",
       "       GEOGRAFIA         HISTORIA           INGLES           LENGUA \n",
       "            5909             5729              243             3745 \n",
       "      MATEMATICA          QUIMICA \n",
       "            5898              942 "
      ]
     },
     "metadata": {},
     "output_type": "display_data"
    }
   ],
   "source": [
    "# Asignaturas antes del filtrado\n",
    "table(GUALEGUAY_secundariaAsignaturas$asignatura)\n",
    "\n",
    "# Reemplazo cadenas por un mismo dato que se refiere a la misma asignatura\n",
    "GUALEGUAY_secundariaAsignaturas$asignatura <- gsub(\".*MATEM[AÁ]TIC[OA].*\", \"MATEMATICA\", GUALEGUAY_secundariaAsignaturas$asignatura)\n",
    "GUALEGUAY_secundariaAsignaturas$asignatura <- gsub(\".*LITERATURA.*\", \"LENGUA\", GUALEGUAY_secundariaAsignaturas$asignatura) # Todo dato que contenga \"LITERATURA\" se reemplaza a \"LENGUA\"\n",
    "GUALEGUAY_secundariaAsignaturas$asignatura <- gsub(\".*GEOGRAF[IÍ]A.*\", \"GEOGRAFIA\", GUALEGUAY_secundariaAsignaturas$asignatura)\n",
    "GUALEGUAY_secundariaAsignaturas$asignatura <- gsub(\".*HISTORIA.*\", \"HISTORIA\", GUALEGUAY_secundariaAsignaturas$asignatura)\n",
    "GUALEGUAY_secundariaAsignaturas$asignatura <- gsub(\".*BIOLOG[IÍ]A*\", \"BIOLOGIA\", GUALEGUAY_secundariaAsignaturas$asignatura)\n",
    "GUALEGUAY_secundariaAsignaturas$asignatura <- gsub(\"FÍSICA\", \"FISICA\", GUALEGUAY_secundariaAsignaturas$asignatura)\n",
    "GUALEGUAY_secundariaAsignaturas$asignatura <- gsub(\"QUÍMICA\", \"QUIMICA\", GUALEGUAY_secundariaAsignaturas$asignatura)\n",
    "GUALEGUAY_secundariaAsignaturas$asignatura <- gsub(\".*INGL[EÉ]S.*\", \"INGLES\", GUALEGUAY_secundariaAsignaturas$asignatura)\n",
    "# GUALEGUAY_secundariaAsignaturas$asignatura <- gsub(\"LENGUAS EXTRANJERAS\", \"INGLES\", GUALEGUAY_secundariaAsignaturas$asignatura) # Asumimos que las lenguas extranjeras son inglés (PODRÍA NO SER, YA QUE ESTÁ EN PLURAL)\n",
    "GUALEGUAY_secundariaAsignaturas$asignatura <- gsub(\"EDUCACI[OÓ]N F[IÍ]SICA\", \"EDUCACION FISICA\", GUALEGUAY_secundariaAsignaturas$asignatura)\n",
    "GUALEGUAY_secundariaAsignaturas$asignatura <- gsub(\".*F[IÍ]SIC[OA].*QU[IÍ]MICA.*\", \"FISICA Y QUIMICA\", GUALEGUAY_secundariaAsignaturas$asignatura)\n",
    "\n",
    "\n",
    "# Filtro asignaturas esenciales de secundaria \n",
    "GUALEGUAY_secundariaAsignaturas <- filter(GUALEGUAY_secundariaAsignaturas, asignatura==\"MATEMATICA\" | asignatura==\"LENGUA\" | asignatura==\"GEOGRAFIA\" | asignatura==\"HISTORIA\" | asignatura==\"BIOLOGIA\" | asignatura==\"FISICA\" | asignatura==\"QUIMICA\" | asignatura==\"FISICA Y QUIMICA\" | asignatura==\"INGLES\" | asignatura==\"EDUCACION FISICA\")\n",
    "\n",
    "# Asignaturas después del filtrado\n",
    "table(GUALEGUAY_secundariaAsignaturas$asignatura)"
   ]
  },
  {
   "cell_type": "markdown",
   "id": "8a09058f",
   "metadata": {},
   "source": [
    "---"
   ]
  },
  {
   "cell_type": "markdown",
   "id": "5717fe8f",
   "metadata": {},
   "source": [
    "Guardo en dataframes nuevos los 2 datasets ya procesados de Primaria y Secundaria."
   ]
  },
  {
   "cell_type": "code",
   "execution_count": 35,
   "id": "b03591b2",
   "metadata": {
    "vscode": {
     "languageId": "r"
    }
   },
   "outputs": [],
   "source": [
    "# Primaria\n",
    "GUALEGUAYprimaria_limpio <- data.frame(GUALEGUAY_primariaAsignaturas)\n",
    "\n",
    "# Secundaria\n",
    "GUALEGUAYsecundaria_limpio <- data.frame(GUALEGUAY_secundariaAsignaturas)"
   ]
  },
  {
   "cell_type": "markdown",
   "id": "c75a6395",
   "metadata": {},
   "source": [
    "---"
   ]
  },
  {
   "cell_type": "markdown",
   "id": "ddd9dad5",
   "metadata": {},
   "source": [
    "#### Instalo librería necesaria para exportar los dataframes limpios."
   ]
  },
  {
   "cell_type": "code",
   "execution_count": 38,
   "id": "2a9de74e",
   "metadata": {
    "vscode": {
     "languageId": "r"
    }
   },
   "outputs": [
    {
     "name": "stdout",
     "output_type": "stream",
     "text": [
      "\n",
      "  There is a binary version available but the source version is later:\n",
      "        binary source needs_compilation\n",
      "writexl  1.4.0  1.4.2              TRUE\n",
      "\n",
      "  Binaries will be installed\n",
      "package 'writexl' successfully unpacked and MD5 sums checked\n",
      "\n",
      "The downloaded binary packages are in\n",
      "\tC:\\Users\\Usuario\\AppData\\Local\\Temp\\RtmpsvneEp\\downloaded_packages\n"
     ]
    },
    {
     "name": "stderr",
     "output_type": "stream",
     "text": [
      "Warning message:\n",
      "\"package 'writexl' was built under R version 3.6.3\""
     ]
    }
   ],
   "source": [
    "install.packages(\"writexl\")\n",
    "library(\"writexl\")"
   ]
  },
  {
   "cell_type": "markdown",
   "id": "f79eb277",
   "metadata": {},
   "source": [
    "#### Creo los archivos Excel de los dataframes limpios (Ambos niveles, Primaria, Secundaria)"
   ]
  },
  {
   "cell_type": "code",
   "execution_count": 41,
   "id": "2b7ea296",
   "metadata": {
    "vscode": {
     "languageId": "r"
    }
   },
   "outputs": [],
   "source": [
    "# Ambas modalidades\n",
    "write_xlsx (GUALEGUAY_notasFiltradas, \"C:/Users/Usuario/OneDrive/Documentos/EDM/GUALEGUAY_original.xlsx\")\n",
    "\n",
    "# Primaria\n",
    "write_xlsx (GUALEGUAYprimaria_limpio, \"C:/Users/Usuario/OneDrive/Documentos/EDM/GUALEGUAY_primaria.xlsx\")\n",
    "\n",
    "# Secundaria\n",
    "write_xlsx (GUALEGUAYsecundaria_limpio, \"C:/Users/Usuario/OneDrive/Documentos/EDM/GUALEGUAY_secundaria.xlsx\")\n"
   ]
  },
  {
   "cell_type": "markdown",
   "id": "b8387622",
   "metadata": {},
   "source": [
    "# IMPORTO LOS 2 DATASETS LIMPIOS"
   ]
  },
  {
   "cell_type": "code",
   "execution_count": 8,
   "id": "b821747e",
   "metadata": {
    "vscode": {
     "languageId": "r"
    }
   },
   "outputs": [
    {
     "name": "stdout",
     "output_type": "stream",
     "text": [
      "\n",
      "  There is a binary version available but the source version is later:\n",
      "       binary source needs_compilation\n",
      "readxl  1.3.1  1.4.2              TRUE\n",
      "\n",
      "  Binaries will be installed\n"
     ]
    },
    {
     "name": "stderr",
     "output_type": "stream",
     "text": [
      "Warning message:\n",
      "\"package 'readxl' is in use and will not be installed\""
     ]
    }
   ],
   "source": [
    "install.packages('readxl')"
   ]
  },
  {
   "cell_type": "code",
   "execution_count": 1,
   "id": "d5a058a4",
   "metadata": {
    "vscode": {
     "languageId": "r"
    }
   },
   "outputs": [
    {
     "name": "stderr",
     "output_type": "stream",
     "text": [
      "Warning message:\n",
      "\"package 'readxl' was built under R version 3.6.3\""
     ]
    },
    {
     "ename": "ERROR",
     "evalue": "Error in loadNamespace(i, c(lib.loc, .libPaths()), versionCheck = vI[[i]]): namespace 'ellipsis' 0.1.0 is being loaded, but >= 0.2.0 is required\n",
     "output_type": "error",
     "traceback": [
      "Error in loadNamespace(i, c(lib.loc, .libPaths()), versionCheck = vI[[i]]): namespace 'ellipsis' 0.1.0 is being loaded, but >= 0.2.0 is required\nTraceback:\n",
      "1. read_excel(\"C:/Users/usr/Documents/TUPED/2doAño/Exploracion_Multivariados/1_datasetsLimpios/GUALEGUAY_original.xlsx\")",
      "2. read_excel_(path = path, sheet = sheet, range = range, col_names = col_names, \n .     col_types = col_types, na = na, trim_ws = trim_ws, skip = skip, \n .     n_max = n_max, guess_max = guess_max, progress = progress, \n .     .name_repair = .name_repair, format = format)",
      "3. set_readxl_names(read_fun(path = enc2native(normalizePath(path)), \n .     sheet_i = sheet, limits = limits, shim = shim, col_names = col_names, \n .     col_types = col_types, na = na, trim_ws = trim_ws, guess_max = guess_max, \n .     progress = progress), .name_repair = .name_repair)",
      "4. tibble::as_tibble",
      "5. getExportedValue(pkg, name)",
      "6. asNamespace(ns)",
      "7. getNamespace(ns)",
      "8. loadNamespace(name)",
      "9. namespaceImport(ns, loadNamespace(i, c(lib.loc, .libPaths()), \n .     versionCheck = vI[[i]]), from = package)",
      "10. loadNamespace(i, c(lib.loc, .libPaths()), versionCheck = vI[[i]])",
      "11. stop(gettextf(\"namespace %s %s is being loaded, but %s %s is required\", \n  .     sQuote(package), version, zop, zversion), domain = NA)"
     ]
    }
   ],
   "source": [
    "library(readxl)\n",
    "#ESCRITORIO\n",
    "original <- read_excel(\"C:/Users/usr/Documents/TUPED/2doAño/Exploracion_Multivariados/1_datasetsLimpios/GUALEGUAY_original.xlsx\")\n",
    "primaria <- read_excel(\"C:/Users/usr/Documents/TUPED/2doAño/Exploracion_Multivariados/1_datasetsLimpios/GUALEGUAY_primaria.xlsx\")\n",
    "secundaria <- read_excel(\"C:/Users/usr/Documents/TUPED/2doAño/Exploracion_Multivariados/1_datasetsLimpios/GUALEGUAY_secundaria.xlsx\")\n",
    "\n",
    "#PORTATIL\n",
    "# original <- read_excel(\"C:/Users/Usuario/OneDrive/Documentos/EDM/GUALEGUAY_original.xlsx\")\n",
    "# primaria <- read_excel(\"C:/Users/Usuario/OneDrive/Documentos/EDM/GUALEGUAY_primaria.xlsx\")\n",
    "# secundaria <- read_excel(\"C:/Users/Usuario/OneDrive/Documentos/EDM/GUALEGUAY_secundaria.xlsx\")"
   ]
  },
  {
   "cell_type": "code",
   "execution_count": 10,
   "id": "9fe4a858",
   "metadata": {
    "vscode": {
     "languageId": "r"
    }
   },
   "outputs": [
    {
     "name": "stderr",
     "output_type": "stream",
     "text": [
      "Warning message:\n",
      "\"package 'dplyr' was built under R version 3.6.3\""
     ]
    },
    {
     "ename": "ERROR",
     "evalue": "Error: package or namespace load failed for 'dplyr' in loadNamespace(j <- i[[1L]], c(lib.loc, .libPaths()), versionCheck = vI[[j]]):\n there is no package called 'lifecycle'\n",
     "output_type": "error",
     "traceback": [
      "Error: package or namespace load failed for 'dplyr' in loadNamespace(j <- i[[1L]], c(lib.loc, .libPaths()), versionCheck = vI[[j]]):\n there is no package called 'lifecycle'\nTraceback:\n",
      "1. library(dplyr)",
      "2. tryCatch({\n .     attr(package, \"LibPath\") <- which.lib.loc\n .     ns <- loadNamespace(package, lib.loc)\n .     env <- attachNamespace(ns, pos = pos, deps, exclude, include.only)\n . }, error = function(e) {\n .     P <- if (!is.null(cc <- conditionCall(e))) \n .         paste(\" in\", deparse(cc)[1L])\n .     else \"\"\n .     msg <- gettextf(\"package or namespace load failed for %s%s:\\n %s\", \n .         sQuote(package), P, conditionMessage(e))\n .     if (logical.return) \n .         message(paste(\"Error:\", msg), domain = NA)\n .     else stop(msg, call. = FALSE, domain = NA)\n . })",
      "3. tryCatchList(expr, classes, parentenv, handlers)",
      "4. tryCatchOne(expr, names, parentenv, handlers[[1L]])",
      "5. value[[3L]](cond)",
      "6. stop(msg, call. = FALSE, domain = NA)"
     ]
    }
   ],
   "source": [
    "library(dplyr)"
   ]
  },
  {
   "cell_type": "markdown",
   "id": "6f88c1ba",
   "metadata": {},
   "source": [
    "**Veo el estado general del dataset**"
   ]
  },
  {
   "cell_type": "code",
   "execution_count": 2,
   "id": "15687830",
   "metadata": {
    "vscode": {
     "languageId": "r"
    }
   },
   "outputs": [],
   "source": [
    "library(sjmisc)"
   ]
  },
  {
   "cell_type": "code",
   "execution_count": 3,
   "id": "63d2c1a1",
   "metadata": {
    "vscode": {
     "languageId": "r"
    }
   },
   "outputs": [
    {
     "ename": "ERROR",
     "evalue": "Error in loadNamespace(j <- i[[1L]], c(lib.loc, .libPaths()), versionCheck = vI[[j]]): there is no package called 'lifecycle'\n",
     "output_type": "error",
     "traceback": [
      "Error in loadNamespace(j <- i[[1L]], c(lib.loc, .libPaths()), versionCheck = vI[[j]]): there is no package called 'lifecycle'\nTraceback:\n",
      "1. frq(primaria)",
      "2. get_dot_data(x, dplyr::enquos(...))",
      "3. sjmisc::is_empty(qs)",
      "4. dplyr::enquos",
      "5. getExportedValue(pkg, name)",
      "6. asNamespace(ns)",
      "7. getNamespace(ns)",
      "8. loadNamespace(name)",
      "9. namespaceImportFrom(ns, loadNamespace(j <- i[[1L]], c(lib.loc, \n .     .libPaths()), versionCheck = vI[[j]]), i[[2L]], from = package)",
      "10. asNamespace(ns)",
      "11. loadNamespace(j <- i[[1L]], c(lib.loc, .libPaths()), versionCheck = vI[[j]])",
      "12. withRestarts(stop(cond), retry_loadNamespace = function() NULL)",
      "13. withOneRestart(expr, restarts[[1L]])",
      "14. doWithOneRestart(return(expr), restart)"
     ]
    }
   ],
   "source": [
    "frq(primaria)"
   ]
  },
  {
   "cell_type": "markdown",
   "id": "764f3b62",
   "metadata": {},
   "source": [
    "# TABLAS DE FRECUENCIAS"
   ]
  },
  {
   "cell_type": "markdown",
   "id": "c9bca5c2",
   "metadata": {},
   "source": [
    "### Distribucion de Escuelas Privadas y Públicas"
   ]
  },
  {
   "cell_type": "code",
   "execution_count": 17,
   "id": "a8a55545",
   "metadata": {
    "vscode": {
     "languageId": "r"
    }
   },
   "outputs": [
    {
     "name": "stdout",
     "output_type": "stream",
     "text": [
      "[1] \"primaria\"\n"
     ]
    },
    {
     "data": {
      "text/html": [
       "<table>\n",
       "<thead><tr><th scope=col>esPrivada</th><th scope=col>n</th><th scope=col>fi</th><th scope=col>fip</th><th scope=col>Ni</th><th scope=col>Fi</th></tr></thead>\n",
       "<tbody>\n",
       "\t<tr><td>N       </td><td>28938   </td><td>0.792735</td><td>79.27   </td><td>28938   </td><td>0.793   </td></tr>\n",
       "\t<tr><td>S       </td><td> 7566   </td><td>0.207265</td><td>20.73   </td><td>36504   </td><td>1.000   </td></tr>\n",
       "</tbody>\n",
       "</table>\n"
      ],
      "text/latex": [
       "\\begin{tabular}{r|llllll}\n",
       " esPrivada & n & fi & fip & Ni & Fi\\\\\n",
       "\\hline\n",
       "\t N        & 28938    & 0.792735 & 79.27    & 28938    & 0.793   \\\\\n",
       "\t S        &  7566    & 0.207265 & 20.73    & 36504    & 1.000   \\\\\n",
       "\\end{tabular}\n"
      ],
      "text/markdown": [
       "\n",
       "| esPrivada | n | fi | fip | Ni | Fi |\n",
       "|---|---|---|---|---|---|\n",
       "| N        | 28938    | 0.792735 | 79.27    | 28938    | 0.793    |\n",
       "| S        |  7566    | 0.207265 | 20.73    | 36504    | 1.000    |\n",
       "\n"
      ],
      "text/plain": [
       "  esPrivada n     fi       fip   Ni    Fi   \n",
       "1 N         28938 0.792735 79.27 28938 0.793\n",
       "2 S          7566 0.207265 20.73 36504 1.000"
      ]
     },
     "metadata": {},
     "output_type": "display_data"
    },
    {
     "name": "stdout",
     "output_type": "stream",
     "text": [
      "[1] \"secundaria\"\n"
     ]
    },
    {
     "data": {
      "text/html": [
       "<table>\n",
       "<thead><tr><th scope=col>esPrivada</th><th scope=col>n</th><th scope=col>fi</th><th scope=col>fip</th><th scope=col>Ni</th><th scope=col>Fi</th></tr></thead>\n",
       "<tbody>\n",
       "\t<tr><td>N        </td><td>27178    </td><td>0.7573005</td><td>75.73    </td><td>27178    </td><td>0.757    </td></tr>\n",
       "\t<tr><td>S        </td><td> 8710    </td><td>0.2426995</td><td>24.27    </td><td>35888    </td><td>1.000    </td></tr>\n",
       "</tbody>\n",
       "</table>\n"
      ],
      "text/latex": [
       "\\begin{tabular}{r|llllll}\n",
       " esPrivada & n & fi & fip & Ni & Fi\\\\\n",
       "\\hline\n",
       "\t N         & 27178     & 0.7573005 & 75.73     & 27178     & 0.757    \\\\\n",
       "\t S         &  8710     & 0.2426995 & 24.27     & 35888     & 1.000    \\\\\n",
       "\\end{tabular}\n"
      ],
      "text/markdown": [
       "\n",
       "| esPrivada | n | fi | fip | Ni | Fi |\n",
       "|---|---|---|---|---|---|\n",
       "| N         | 27178     | 0.7573005 | 75.73     | 27178     | 0.757     |\n",
       "| S         |  8710     | 0.2426995 | 24.27     | 35888     | 1.000     |\n",
       "\n"
      ],
      "text/plain": [
       "  esPrivada n     fi        fip   Ni    Fi   \n",
       "1 N         27178 0.7573005 75.73 27178 0.757\n",
       "2 S          8710 0.2426995 24.27 35888 1.000"
      ]
     },
     "metadata": {},
     "output_type": "display_data"
    }
   ],
   "source": [
    "# Frecuencias absoluta primaria\n",
    "print(\"primaria\")\n",
    "tabla_frec_pri <- count(primaria, esPrivada) %>% mutate(fi = n/sum(n), fip= round(fi*100,2), Ni = cumsum(n), Fi = round(cumsum(n)/sum(n),3))\n",
    "tabla_frec_pri\n",
    "print(\"secundaria\")\n",
    "tabla_frec_sec <- count(secundaria, esPrivada) %>% mutate(fi = n/sum(n), fip= round(fi*100,2), Ni = cumsum(n), Fi = round(cumsum(n)/sum(n),3))\n",
    "tabla_frec_sec"
   ]
  },
  {
   "cell_type": "markdown",
   "id": "945046a8",
   "metadata": {},
   "source": [
    "### Distribución de Promedios de Materias - LENGUA y MATEMÁTICA en Primaria y Secundaria"
   ]
  },
  {
   "cell_type": "code",
   "execution_count": 63,
   "id": "f19ee2c0",
   "metadata": {
    "scrolled": false,
    "vscode": {
     "languageId": "r"
    }
   },
   "outputs": [
    {
     "data": {
      "text/html": [
       "<table>\n",
       "<thead><tr><th scope=col>promedio</th><th scope=col>n</th><th scope=col>fi</th><th scope=col>fip</th><th scope=col>Ni</th><th scope=col>Fi</th></tr></thead>\n",
       "<tbody>\n",
       "\t<tr><td> 6.00     </td><td>249       </td><td>0.03524915</td><td> 3.52     </td><td> 249      </td><td>0.035     </td></tr>\n",
       "\t<tr><td> 6.33     </td><td>260       </td><td>0.03680634</td><td> 3.68     </td><td> 509      </td><td>0.072     </td></tr>\n",
       "\t<tr><td> 6.67     </td><td>297       </td><td>0.04204417</td><td> 4.20     </td><td> 806      </td><td>0.114     </td></tr>\n",
       "\t<tr><td> 7.00     </td><td>519       </td><td>0.07347112</td><td> 7.35     </td><td>1325      </td><td>0.188     </td></tr>\n",
       "\t<tr><td> 7.33     </td><td>410       </td><td>0.05804077</td><td> 5.80     </td><td>1735      </td><td>0.246     </td></tr>\n",
       "\t<tr><td> 7.67     </td><td>453       </td><td>0.06412797</td><td> 6.41     </td><td>2188      </td><td>0.310     </td></tr>\n",
       "\t<tr><td> 8.00     </td><td>734       </td><td>0.10390713</td><td>10.39     </td><td>2922      </td><td>0.414     </td></tr>\n",
       "\t<tr><td> 8.33     </td><td>529       </td><td>0.07488675</td><td> 7.49     </td><td>3451      </td><td>0.489     </td></tr>\n",
       "\t<tr><td> 8.67     </td><td>572       </td><td>0.08097395</td><td> 8.10     </td><td>4023      </td><td>0.570     </td></tr>\n",
       "\t<tr><td> 9.00     </td><td>762       </td><td>0.10787089</td><td>10.79     </td><td>4785      </td><td>0.677     </td></tr>\n",
       "\t<tr><td> 9.33     </td><td>451       </td><td>0.06384485</td><td> 6.38     </td><td>5236      </td><td>0.741     </td></tr>\n",
       "\t<tr><td> 9.67     </td><td>335       </td><td>0.04742356</td><td> 4.74     </td><td>5571      </td><td>0.789     </td></tr>\n",
       "\t<tr><td>10.00     </td><td> 86       </td><td>0.01217441</td><td> 1.22     </td><td>5657      </td><td>0.801     </td></tr>\n",
       "</tbody>\n",
       "</table>\n"
      ],
      "text/latex": [
       "\\begin{tabular}{r|llllll}\n",
       " promedio & n & fi & fip & Ni & Fi\\\\\n",
       "\\hline\n",
       "\t  6.00      & 249        & 0.03524915 &  3.52      &  249       & 0.035     \\\\\n",
       "\t  6.33      & 260        & 0.03680634 &  3.68      &  509       & 0.072     \\\\\n",
       "\t  6.67      & 297        & 0.04204417 &  4.20      &  806       & 0.114     \\\\\n",
       "\t  7.00      & 519        & 0.07347112 &  7.35      & 1325       & 0.188     \\\\\n",
       "\t  7.33      & 410        & 0.05804077 &  5.80      & 1735       & 0.246     \\\\\n",
       "\t  7.67      & 453        & 0.06412797 &  6.41      & 2188       & 0.310     \\\\\n",
       "\t  8.00      & 734        & 0.10390713 & 10.39      & 2922       & 0.414     \\\\\n",
       "\t  8.33      & 529        & 0.07488675 &  7.49      & 3451       & 0.489     \\\\\n",
       "\t  8.67      & 572        & 0.08097395 &  8.10      & 4023       & 0.570     \\\\\n",
       "\t  9.00      & 762        & 0.10787089 & 10.79      & 4785       & 0.677     \\\\\n",
       "\t  9.33      & 451        & 0.06384485 &  6.38      & 5236       & 0.741     \\\\\n",
       "\t  9.67      & 335        & 0.04742356 &  4.74      & 5571       & 0.789     \\\\\n",
       "\t 10.00      &  86        & 0.01217441 &  1.22      & 5657       & 0.801     \\\\\n",
       "\\end{tabular}\n"
      ],
      "text/markdown": [
       "\n",
       "| promedio | n | fi | fip | Ni | Fi |\n",
       "|---|---|---|---|---|---|\n",
       "|  6.00      | 249        | 0.03524915 |  3.52      |  249       | 0.035      |\n",
       "|  6.33      | 260        | 0.03680634 |  3.68      |  509       | 0.072      |\n",
       "|  6.67      | 297        | 0.04204417 |  4.20      |  806       | 0.114      |\n",
       "|  7.00      | 519        | 0.07347112 |  7.35      | 1325       | 0.188      |\n",
       "|  7.33      | 410        | 0.05804077 |  5.80      | 1735       | 0.246      |\n",
       "|  7.67      | 453        | 0.06412797 |  6.41      | 2188       | 0.310      |\n",
       "|  8.00      | 734        | 0.10390713 | 10.39      | 2922       | 0.414      |\n",
       "|  8.33      | 529        | 0.07488675 |  7.49      | 3451       | 0.489      |\n",
       "|  8.67      | 572        | 0.08097395 |  8.10      | 4023       | 0.570      |\n",
       "|  9.00      | 762        | 0.10787089 | 10.79      | 4785       | 0.677      |\n",
       "|  9.33      | 451        | 0.06384485 |  6.38      | 5236       | 0.741      |\n",
       "|  9.67      | 335        | 0.04742356 |  4.74      | 5571       | 0.789      |\n",
       "| 10.00      |  86        | 0.01217441 |  1.22      | 5657       | 0.801      |\n",
       "\n"
      ],
      "text/plain": [
       "   promedio n   fi         fip   Ni   Fi   \n",
       "1   6.00    249 0.03524915  3.52  249 0.035\n",
       "2   6.33    260 0.03680634  3.68  509 0.072\n",
       "3   6.67    297 0.04204417  4.20  806 0.114\n",
       "4   7.00    519 0.07347112  7.35 1325 0.188\n",
       "5   7.33    410 0.05804077  5.80 1735 0.246\n",
       "6   7.67    453 0.06412797  6.41 2188 0.310\n",
       "7   8.00    734 0.10390713 10.39 2922 0.414\n",
       "8   8.33    529 0.07488675  7.49 3451 0.489\n",
       "9   8.67    572 0.08097395  8.10 4023 0.570\n",
       "10  9.00    762 0.10787089 10.79 4785 0.677\n",
       "11  9.33    451 0.06384485  6.38 5236 0.741\n",
       "12  9.67    335 0.04742356  4.74 5571 0.789\n",
       "13 10.00     86 0.01217441  1.22 5657 0.801"
      ]
     },
     "metadata": {},
     "output_type": "display_data"
    }
   ],
   "source": [
    "lenguaP <- filter(primaria, asignatura == \"LENGUA\")\n",
    "tablaLenguaP <- count(lenguaP, promedio) %>% mutate(fi = n/sum(n), fip= round(fi*100,2), Ni = cumsum(n), Fi = round(cumsum(n)/sum(n),3))\n",
    "tablaLenguaP <- na.omit(tablaLenguaP)\n",
    "tablaLenguaP"
   ]
  },
  {
   "cell_type": "code",
   "execution_count": 65,
   "id": "a1cac18c",
   "metadata": {
    "vscode": {
     "languageId": "r"
    }
   },
   "outputs": [
    {
     "data": {
      "text/html": [
       "<table>\n",
       "<thead><tr><th scope=col>promedio</th><th scope=col>n</th><th scope=col>fi</th><th scope=col>fip</th><th scope=col>Ni</th><th scope=col>Fi</th></tr></thead>\n",
       "<tbody>\n",
       "\t<tr><td> 6.00     </td><td>249       </td><td>0.03524915</td><td> 3.52     </td><td> 249      </td><td>0.035     </td></tr>\n",
       "\t<tr><td> 6.33     </td><td>260       </td><td>0.03680634</td><td> 3.68     </td><td> 509      </td><td>0.072     </td></tr>\n",
       "\t<tr><td> 6.67     </td><td>297       </td><td>0.04204417</td><td> 4.20     </td><td> 806      </td><td>0.114     </td></tr>\n",
       "\t<tr><td> 7.00     </td><td>519       </td><td>0.07347112</td><td> 7.35     </td><td>1325      </td><td>0.188     </td></tr>\n",
       "\t<tr><td> 7.33     </td><td>410       </td><td>0.05804077</td><td> 5.80     </td><td>1735      </td><td>0.246     </td></tr>\n",
       "\t<tr><td> 7.67     </td><td>453       </td><td>0.06412797</td><td> 6.41     </td><td>2188      </td><td>0.310     </td></tr>\n",
       "\t<tr><td> 8.00     </td><td>734       </td><td>0.10390713</td><td>10.39     </td><td>2922      </td><td>0.414     </td></tr>\n",
       "\t<tr><td> 8.33     </td><td>529       </td><td>0.07488675</td><td> 7.49     </td><td>3451      </td><td>0.489     </td></tr>\n",
       "\t<tr><td> 8.67     </td><td>572       </td><td>0.08097395</td><td> 8.10     </td><td>4023      </td><td>0.570     </td></tr>\n",
       "\t<tr><td> 9.00     </td><td>762       </td><td>0.10787089</td><td>10.79     </td><td>4785      </td><td>0.677     </td></tr>\n",
       "\t<tr><td> 9.33     </td><td>451       </td><td>0.06384485</td><td> 6.38     </td><td>5236      </td><td>0.741     </td></tr>\n",
       "\t<tr><td> 9.67     </td><td>335       </td><td>0.04742356</td><td> 4.74     </td><td>5571      </td><td>0.789     </td></tr>\n",
       "\t<tr><td>10.00     </td><td> 86       </td><td>0.01217441</td><td> 1.22     </td><td>5657      </td><td>0.801     </td></tr>\n",
       "</tbody>\n",
       "</table>\n"
      ],
      "text/latex": [
       "\\begin{tabular}{r|llllll}\n",
       " promedio & n & fi & fip & Ni & Fi\\\\\n",
       "\\hline\n",
       "\t  6.00      & 249        & 0.03524915 &  3.52      &  249       & 0.035     \\\\\n",
       "\t  6.33      & 260        & 0.03680634 &  3.68      &  509       & 0.072     \\\\\n",
       "\t  6.67      & 297        & 0.04204417 &  4.20      &  806       & 0.114     \\\\\n",
       "\t  7.00      & 519        & 0.07347112 &  7.35      & 1325       & 0.188     \\\\\n",
       "\t  7.33      & 410        & 0.05804077 &  5.80      & 1735       & 0.246     \\\\\n",
       "\t  7.67      & 453        & 0.06412797 &  6.41      & 2188       & 0.310     \\\\\n",
       "\t  8.00      & 734        & 0.10390713 & 10.39      & 2922       & 0.414     \\\\\n",
       "\t  8.33      & 529        & 0.07488675 &  7.49      & 3451       & 0.489     \\\\\n",
       "\t  8.67      & 572        & 0.08097395 &  8.10      & 4023       & 0.570     \\\\\n",
       "\t  9.00      & 762        & 0.10787089 & 10.79      & 4785       & 0.677     \\\\\n",
       "\t  9.33      & 451        & 0.06384485 &  6.38      & 5236       & 0.741     \\\\\n",
       "\t  9.67      & 335        & 0.04742356 &  4.74      & 5571       & 0.789     \\\\\n",
       "\t 10.00      &  86        & 0.01217441 &  1.22      & 5657       & 0.801     \\\\\n",
       "\\end{tabular}\n"
      ],
      "text/markdown": [
       "\n",
       "| promedio | n | fi | fip | Ni | Fi |\n",
       "|---|---|---|---|---|---|\n",
       "|  6.00      | 249        | 0.03524915 |  3.52      |  249       | 0.035      |\n",
       "|  6.33      | 260        | 0.03680634 |  3.68      |  509       | 0.072      |\n",
       "|  6.67      | 297        | 0.04204417 |  4.20      |  806       | 0.114      |\n",
       "|  7.00      | 519        | 0.07347112 |  7.35      | 1325       | 0.188      |\n",
       "|  7.33      | 410        | 0.05804077 |  5.80      | 1735       | 0.246      |\n",
       "|  7.67      | 453        | 0.06412797 |  6.41      | 2188       | 0.310      |\n",
       "|  8.00      | 734        | 0.10390713 | 10.39      | 2922       | 0.414      |\n",
       "|  8.33      | 529        | 0.07488675 |  7.49      | 3451       | 0.489      |\n",
       "|  8.67      | 572        | 0.08097395 |  8.10      | 4023       | 0.570      |\n",
       "|  9.00      | 762        | 0.10787089 | 10.79      | 4785       | 0.677      |\n",
       "|  9.33      | 451        | 0.06384485 |  6.38      | 5236       | 0.741      |\n",
       "|  9.67      | 335        | 0.04742356 |  4.74      | 5571       | 0.789      |\n",
       "| 10.00      |  86        | 0.01217441 |  1.22      | 5657       | 0.801      |\n",
       "\n"
      ],
      "text/plain": [
       "   promedio n   fi         fip   Ni   Fi   \n",
       "1   6.00    249 0.03524915  3.52  249 0.035\n",
       "2   6.33    260 0.03680634  3.68  509 0.072\n",
       "3   6.67    297 0.04204417  4.20  806 0.114\n",
       "4   7.00    519 0.07347112  7.35 1325 0.188\n",
       "5   7.33    410 0.05804077  5.80 1735 0.246\n",
       "6   7.67    453 0.06412797  6.41 2188 0.310\n",
       "7   8.00    734 0.10390713 10.39 2922 0.414\n",
       "8   8.33    529 0.07488675  7.49 3451 0.489\n",
       "9   8.67    572 0.08097395  8.10 4023 0.570\n",
       "10  9.00    762 0.10787089 10.79 4785 0.677\n",
       "11  9.33    451 0.06384485  6.38 5236 0.741\n",
       "12  9.67    335 0.04742356  4.74 5571 0.789\n",
       "13 10.00     86 0.01217441  1.22 5657 0.801"
      ]
     },
     "metadata": {},
     "output_type": "display_data"
    }
   ],
   "source": [
    "lenguaS <- filter(secundaria, asignatura == \"LENGUA\")\n",
    "tablaLenguaS <- count(lenguaP, promedio) %>% mutate(fi = n/sum(n), fip= round(fi*100,2), Ni = cumsum(n), Fi = round(cumsum(n)/sum(n),3))\n",
    "tablaLenguaS <- na.omit(tablaLenguaP)\n",
    "tablaLenguaS"
   ]
  },
  {
   "cell_type": "code",
   "execution_count": 70,
   "id": "d617ff49",
   "metadata": {
    "scrolled": true,
    "vscode": {
     "languageId": "r"
    }
   },
   "outputs": [
    {
     "data": {
      "text/html": [
       "<table>\n",
       "<thead><tr><th scope=col>promedio</th><th scope=col>n</th><th scope=col>fi</th><th scope=col>fip</th><th scope=col>Ni</th><th scope=col>Fi</th></tr></thead>\n",
       "<tbody>\n",
       "\t<tr><td> 6.00     </td><td> 199      </td><td>0.02798875</td><td> 2.80     </td><td> 199      </td><td>0.028     </td></tr>\n",
       "\t<tr><td> 6.33     </td><td> 217      </td><td>0.03052039</td><td> 3.05     </td><td> 416      </td><td>0.059     </td></tr>\n",
       "\t<tr><td> 6.67     </td><td> 285      </td><td>0.04008439</td><td> 4.01     </td><td> 701      </td><td>0.099     </td></tr>\n",
       "\t<tr><td> 7.00     </td><td> 491      </td><td>0.06905767</td><td> 6.91     </td><td>1192      </td><td>0.168     </td></tr>\n",
       "\t<tr><td> 7.33     </td><td> 438      </td><td>0.06160338</td><td> 6.16     </td><td>1630      </td><td>0.229     </td></tr>\n",
       "\t<tr><td> 7.67     </td><td> 474      </td><td>0.06666667</td><td> 6.67     </td><td>2104      </td><td>0.296     </td></tr>\n",
       "\t<tr><td> 8.00     </td><td> 724      </td><td>0.10182841</td><td>10.18     </td><td>2828      </td><td>0.398     </td></tr>\n",
       "\t<tr><td> 8.33     </td><td> 582      </td><td>0.08185654</td><td> 8.19     </td><td>3410      </td><td>0.480     </td></tr>\n",
       "\t<tr><td> 8.67     </td><td> 572      </td><td>0.08045007</td><td> 8.05     </td><td>3982      </td><td>0.560     </td></tr>\n",
       "\t<tr><td> 9.00     </td><td> 767      </td><td>0.10787623</td><td>10.79     </td><td>4749      </td><td>0.668     </td></tr>\n",
       "\t<tr><td> 9.33     </td><td> 509      </td><td>0.07158931</td><td> 7.16     </td><td>5258      </td><td>0.740     </td></tr>\n",
       "\t<tr><td> 9.67     </td><td> 389      </td><td>0.05471167</td><td> 5.47     </td><td>5647      </td><td>0.794     </td></tr>\n",
       "\t<tr><td>10.00     </td><td> 112      </td><td>0.01575246</td><td> 1.58     </td><td>5759      </td><td>0.810     </td></tr>\n",
       "\t<tr><td>   NA     </td><td>1351      </td><td>0.19001406</td><td>19.00     </td><td>7110      </td><td>1.000     </td></tr>\n",
       "</tbody>\n",
       "</table>\n"
      ],
      "text/latex": [
       "\\begin{tabular}{r|llllll}\n",
       " promedio & n & fi & fip & Ni & Fi\\\\\n",
       "\\hline\n",
       "\t  6.00      &  199       & 0.02798875 &  2.80      &  199       & 0.028     \\\\\n",
       "\t  6.33      &  217       & 0.03052039 &  3.05      &  416       & 0.059     \\\\\n",
       "\t  6.67      &  285       & 0.04008439 &  4.01      &  701       & 0.099     \\\\\n",
       "\t  7.00      &  491       & 0.06905767 &  6.91      & 1192       & 0.168     \\\\\n",
       "\t  7.33      &  438       & 0.06160338 &  6.16      & 1630       & 0.229     \\\\\n",
       "\t  7.67      &  474       & 0.06666667 &  6.67      & 2104       & 0.296     \\\\\n",
       "\t  8.00      &  724       & 0.10182841 & 10.18      & 2828       & 0.398     \\\\\n",
       "\t  8.33      &  582       & 0.08185654 &  8.19      & 3410       & 0.480     \\\\\n",
       "\t  8.67      &  572       & 0.08045007 &  8.05      & 3982       & 0.560     \\\\\n",
       "\t  9.00      &  767       & 0.10787623 & 10.79      & 4749       & 0.668     \\\\\n",
       "\t  9.33      &  509       & 0.07158931 &  7.16      & 5258       & 0.740     \\\\\n",
       "\t  9.67      &  389       & 0.05471167 &  5.47      & 5647       & 0.794     \\\\\n",
       "\t 10.00      &  112       & 0.01575246 &  1.58      & 5759       & 0.810     \\\\\n",
       "\t    NA      & 1351       & 0.19001406 & 19.00      & 7110       & 1.000     \\\\\n",
       "\\end{tabular}\n"
      ],
      "text/markdown": [
       "\n",
       "| promedio | n | fi | fip | Ni | Fi |\n",
       "|---|---|---|---|---|---|\n",
       "|  6.00      |  199       | 0.02798875 |  2.80      |  199       | 0.028      |\n",
       "|  6.33      |  217       | 0.03052039 |  3.05      |  416       | 0.059      |\n",
       "|  6.67      |  285       | 0.04008439 |  4.01      |  701       | 0.099      |\n",
       "|  7.00      |  491       | 0.06905767 |  6.91      | 1192       | 0.168      |\n",
       "|  7.33      |  438       | 0.06160338 |  6.16      | 1630       | 0.229      |\n",
       "|  7.67      |  474       | 0.06666667 |  6.67      | 2104       | 0.296      |\n",
       "|  8.00      |  724       | 0.10182841 | 10.18      | 2828       | 0.398      |\n",
       "|  8.33      |  582       | 0.08185654 |  8.19      | 3410       | 0.480      |\n",
       "|  8.67      |  572       | 0.08045007 |  8.05      | 3982       | 0.560      |\n",
       "|  9.00      |  767       | 0.10787623 | 10.79      | 4749       | 0.668      |\n",
       "|  9.33      |  509       | 0.07158931 |  7.16      | 5258       | 0.740      |\n",
       "|  9.67      |  389       | 0.05471167 |  5.47      | 5647       | 0.794      |\n",
       "| 10.00      |  112       | 0.01575246 |  1.58      | 5759       | 0.810      |\n",
       "|    NA      | 1351       | 0.19001406 | 19.00      | 7110       | 1.000      |\n",
       "\n"
      ],
      "text/plain": [
       "   promedio n    fi         fip   Ni   Fi   \n",
       "1   6.00     199 0.02798875  2.80  199 0.028\n",
       "2   6.33     217 0.03052039  3.05  416 0.059\n",
       "3   6.67     285 0.04008439  4.01  701 0.099\n",
       "4   7.00     491 0.06905767  6.91 1192 0.168\n",
       "5   7.33     438 0.06160338  6.16 1630 0.229\n",
       "6   7.67     474 0.06666667  6.67 2104 0.296\n",
       "7   8.00     724 0.10182841 10.18 2828 0.398\n",
       "8   8.33     582 0.08185654  8.19 3410 0.480\n",
       "9   8.67     572 0.08045007  8.05 3982 0.560\n",
       "10  9.00     767 0.10787623 10.79 4749 0.668\n",
       "11  9.33     509 0.07158931  7.16 5258 0.740\n",
       "12  9.67     389 0.05471167  5.47 5647 0.794\n",
       "13 10.00     112 0.01575246  1.58 5759 0.810\n",
       "14    NA    1351 0.19001406 19.00 7110 1.000"
      ]
     },
     "metadata": {},
     "output_type": "display_data"
    }
   ],
   "source": [
    "matematicaP <- filter(primaria, asignatura == \"MATEMATICA\")\n",
    "tablaMatematicaP <- count(matematica, promedio) %>% mutate(fi = n/sum(n), fip= round(fi*100,2), Ni = cumsum(n), Fi = round(cumsum(n)/sum(n),3))\n",
    "tablaMatematicaP"
   ]
  },
  {
   "cell_type": "code",
   "execution_count": 76,
   "id": "f306e82b",
   "metadata": {
    "vscode": {
     "languageId": "r"
    }
   },
   "outputs": [
    {
     "data": {
      "text/html": [
       "<table>\n",
       "<thead><tr><th scope=col>promedio</th><th scope=col>n</th><th scope=col>fi</th><th scope=col>fip</th><th scope=col>Ni</th><th scope=col>Fi</th></tr></thead>\n",
       "<tbody>\n",
       "\t<tr><td> 6.00     </td><td> 199      </td><td>0.02798875</td><td> 2.80     </td><td> 199      </td><td>0.028     </td></tr>\n",
       "\t<tr><td> 6.33     </td><td> 217      </td><td>0.03052039</td><td> 3.05     </td><td> 416      </td><td>0.059     </td></tr>\n",
       "\t<tr><td> 6.67     </td><td> 285      </td><td>0.04008439</td><td> 4.01     </td><td> 701      </td><td>0.099     </td></tr>\n",
       "\t<tr><td> 7.00     </td><td> 491      </td><td>0.06905767</td><td> 6.91     </td><td>1192      </td><td>0.168     </td></tr>\n",
       "\t<tr><td> 7.33     </td><td> 438      </td><td>0.06160338</td><td> 6.16     </td><td>1630      </td><td>0.229     </td></tr>\n",
       "\t<tr><td> 7.67     </td><td> 474      </td><td>0.06666667</td><td> 6.67     </td><td>2104      </td><td>0.296     </td></tr>\n",
       "\t<tr><td> 8.00     </td><td> 724      </td><td>0.10182841</td><td>10.18     </td><td>2828      </td><td>0.398     </td></tr>\n",
       "\t<tr><td> 8.33     </td><td> 582      </td><td>0.08185654</td><td> 8.19     </td><td>3410      </td><td>0.480     </td></tr>\n",
       "\t<tr><td> 8.67     </td><td> 572      </td><td>0.08045007</td><td> 8.05     </td><td>3982      </td><td>0.560     </td></tr>\n",
       "\t<tr><td> 9.00     </td><td> 767      </td><td>0.10787623</td><td>10.79     </td><td>4749      </td><td>0.668     </td></tr>\n",
       "\t<tr><td> 9.33     </td><td> 509      </td><td>0.07158931</td><td> 7.16     </td><td>5258      </td><td>0.740     </td></tr>\n",
       "\t<tr><td> 9.67     </td><td> 389      </td><td>0.05471167</td><td> 5.47     </td><td>5647      </td><td>0.794     </td></tr>\n",
       "\t<tr><td>10.00     </td><td> 112      </td><td>0.01575246</td><td> 1.58     </td><td>5759      </td><td>0.810     </td></tr>\n",
       "\t<tr><td>   NA     </td><td>1351      </td><td>0.19001406</td><td>19.00     </td><td>7110      </td><td>1.000     </td></tr>\n",
       "</tbody>\n",
       "</table>\n"
      ],
      "text/latex": [
       "\\begin{tabular}{r|llllll}\n",
       " promedio & n & fi & fip & Ni & Fi\\\\\n",
       "\\hline\n",
       "\t  6.00      &  199       & 0.02798875 &  2.80      &  199       & 0.028     \\\\\n",
       "\t  6.33      &  217       & 0.03052039 &  3.05      &  416       & 0.059     \\\\\n",
       "\t  6.67      &  285       & 0.04008439 &  4.01      &  701       & 0.099     \\\\\n",
       "\t  7.00      &  491       & 0.06905767 &  6.91      & 1192       & 0.168     \\\\\n",
       "\t  7.33      &  438       & 0.06160338 &  6.16      & 1630       & 0.229     \\\\\n",
       "\t  7.67      &  474       & 0.06666667 &  6.67      & 2104       & 0.296     \\\\\n",
       "\t  8.00      &  724       & 0.10182841 & 10.18      & 2828       & 0.398     \\\\\n",
       "\t  8.33      &  582       & 0.08185654 &  8.19      & 3410       & 0.480     \\\\\n",
       "\t  8.67      &  572       & 0.08045007 &  8.05      & 3982       & 0.560     \\\\\n",
       "\t  9.00      &  767       & 0.10787623 & 10.79      & 4749       & 0.668     \\\\\n",
       "\t  9.33      &  509       & 0.07158931 &  7.16      & 5258       & 0.740     \\\\\n",
       "\t  9.67      &  389       & 0.05471167 &  5.47      & 5647       & 0.794     \\\\\n",
       "\t 10.00      &  112       & 0.01575246 &  1.58      & 5759       & 0.810     \\\\\n",
       "\t    NA      & 1351       & 0.19001406 & 19.00      & 7110       & 1.000     \\\\\n",
       "\\end{tabular}\n"
      ],
      "text/markdown": [
       "\n",
       "| promedio | n | fi | fip | Ni | Fi |\n",
       "|---|---|---|---|---|---|\n",
       "|  6.00      |  199       | 0.02798875 |  2.80      |  199       | 0.028      |\n",
       "|  6.33      |  217       | 0.03052039 |  3.05      |  416       | 0.059      |\n",
       "|  6.67      |  285       | 0.04008439 |  4.01      |  701       | 0.099      |\n",
       "|  7.00      |  491       | 0.06905767 |  6.91      | 1192       | 0.168      |\n",
       "|  7.33      |  438       | 0.06160338 |  6.16      | 1630       | 0.229      |\n",
       "|  7.67      |  474       | 0.06666667 |  6.67      | 2104       | 0.296      |\n",
       "|  8.00      |  724       | 0.10182841 | 10.18      | 2828       | 0.398      |\n",
       "|  8.33      |  582       | 0.08185654 |  8.19      | 3410       | 0.480      |\n",
       "|  8.67      |  572       | 0.08045007 |  8.05      | 3982       | 0.560      |\n",
       "|  9.00      |  767       | 0.10787623 | 10.79      | 4749       | 0.668      |\n",
       "|  9.33      |  509       | 0.07158931 |  7.16      | 5258       | 0.740      |\n",
       "|  9.67      |  389       | 0.05471167 |  5.47      | 5647       | 0.794      |\n",
       "| 10.00      |  112       | 0.01575246 |  1.58      | 5759       | 0.810      |\n",
       "|    NA      | 1351       | 0.19001406 | 19.00      | 7110       | 1.000      |\n",
       "\n"
      ],
      "text/plain": [
       "   promedio n    fi         fip   Ni   Fi   \n",
       "1   6.00     199 0.02798875  2.80  199 0.028\n",
       "2   6.33     217 0.03052039  3.05  416 0.059\n",
       "3   6.67     285 0.04008439  4.01  701 0.099\n",
       "4   7.00     491 0.06905767  6.91 1192 0.168\n",
       "5   7.33     438 0.06160338  6.16 1630 0.229\n",
       "6   7.67     474 0.06666667  6.67 2104 0.296\n",
       "7   8.00     724 0.10182841 10.18 2828 0.398\n",
       "8   8.33     582 0.08185654  8.19 3410 0.480\n",
       "9   8.67     572 0.08045007  8.05 3982 0.560\n",
       "10  9.00     767 0.10787623 10.79 4749 0.668\n",
       "11  9.33     509 0.07158931  7.16 5258 0.740\n",
       "12  9.67     389 0.05471167  5.47 5647 0.794\n",
       "13 10.00     112 0.01575246  1.58 5759 0.810\n",
       "14    NA    1351 0.19001406 19.00 7110 1.000"
      ]
     },
     "metadata": {},
     "output_type": "display_data"
    }
   ],
   "source": [
    "matematicaS <- filter(secundaria, asignatura == \"MATEMATICA\")\n",
    "tablaMatematicaS <- count(matematica, promedio) %>% mutate(fi = n/sum(n), fip= round(fi*100,2), Ni = cumsum(n), Fi = round(cumsum(n)/sum(n),3))\n",
    "tablaMatematicaS"
   ]
  },
  {
   "cell_type": "markdown",
   "id": "2660e979",
   "metadata": {},
   "source": [
    "### Distribución de la cantidad de estudiantes por año de cursado"
   ]
  },
  {
   "cell_type": "code",
   "execution_count": 20,
   "id": "081ca738",
   "metadata": {
    "scrolled": true,
    "vscode": {
     "languageId": "r"
    }
   },
   "outputs": [
    {
     "data": {
      "text/html": [
       "<table>\n",
       "<thead><tr><th scope=col>anioCursado</th><th scope=col>conteo</th><th scope=col>media</th><th scope=col>varianza</th><th scope=col>desvio</th><th scope=col>Minimo</th><th scope=col>Maximo</th><th scope=col>IQR</th><th scope=col>Rango</th><th scope=col>Mediana</th><th scope=col>cv</th></tr></thead>\n",
       "<tbody>\n",
       "\t<tr><td>PRIMERO  </td><td>6996     </td><td>8.356800 </td><td>0.945955 </td><td>0.9726022</td><td>6        </td><td>10       </td><td>1.33     </td><td>4        </td><td>8.67     </td><td>11.63845 </td></tr>\n",
       "\t<tr><td>SEGUNDO  </td><td>5936     </td><td>8.416843 </td><td>1.081641 </td><td>1.0400197</td><td>6        </td><td>10       </td><td>1.66     </td><td>4        </td><td>8.67     </td><td>12.35641 </td></tr>\n",
       "\t<tr><td>TERCERO  </td><td>5726     </td><td>8.390016 </td><td>1.056352 </td><td>1.0277897</td><td>6        </td><td>10       </td><td>1.66     </td><td>4        </td><td>8.67     </td><td>12.25015 </td></tr>\n",
       "\t<tr><td>CUARTO   </td><td>6288     </td><td>8.302337 </td><td>1.000379 </td><td>1.0001895</td><td>6        </td><td>10       </td><td>1.33     </td><td>4        </td><td>8.33     </td><td>12.04708 </td></tr>\n",
       "\t<tr><td>QUINTO   </td><td>5890     </td><td>8.239293 </td><td>1.067504 </td><td>1.0332008</td><td>6        </td><td>10       </td><td>1.33     </td><td>4        </td><td>8.33     </td><td>12.53992 </td></tr>\n",
       "\t<tr><td>SEXTO    </td><td>5668     </td><td>8.175383 </td><td>1.229010 </td><td>1.1086072</td><td>6        </td><td>10       </td><td>1.67     </td><td>4        </td><td>8.33     </td><td>13.56031 </td></tr>\n",
       "</tbody>\n",
       "</table>\n"
      ],
      "text/latex": [
       "\\begin{tabular}{r|lllllllllll}\n",
       " anioCursado & conteo & media & varianza & desvio & Minimo & Maximo & IQR & Rango & Mediana & cv\\\\\n",
       "\\hline\n",
       "\t PRIMERO   & 6996      & 8.356800  & 0.945955  & 0.9726022 & 6         & 10        & 1.33      & 4         & 8.67      & 11.63845 \\\\\n",
       "\t SEGUNDO   & 5936      & 8.416843  & 1.081641  & 1.0400197 & 6         & 10        & 1.66      & 4         & 8.67      & 12.35641 \\\\\n",
       "\t TERCERO   & 5726      & 8.390016  & 1.056352  & 1.0277897 & 6         & 10        & 1.66      & 4         & 8.67      & 12.25015 \\\\\n",
       "\t CUARTO    & 6288      & 8.302337  & 1.000379  & 1.0001895 & 6         & 10        & 1.33      & 4         & 8.33      & 12.04708 \\\\\n",
       "\t QUINTO    & 5890      & 8.239293  & 1.067504  & 1.0332008 & 6         & 10        & 1.33      & 4         & 8.33      & 12.53992 \\\\\n",
       "\t SEXTO     & 5668      & 8.175383  & 1.229010  & 1.1086072 & 6         & 10        & 1.67      & 4         & 8.33      & 13.56031 \\\\\n",
       "\\end{tabular}\n"
      ],
      "text/markdown": [
       "\n",
       "| anioCursado | conteo | media | varianza | desvio | Minimo | Maximo | IQR | Rango | Mediana | cv |\n",
       "|---|---|---|---|---|---|---|---|---|---|---|\n",
       "| PRIMERO   | 6996      | 8.356800  | 0.945955  | 0.9726022 | 6         | 10        | 1.33      | 4         | 8.67      | 11.63845  |\n",
       "| SEGUNDO   | 5936      | 8.416843  | 1.081641  | 1.0400197 | 6         | 10        | 1.66      | 4         | 8.67      | 12.35641  |\n",
       "| TERCERO   | 5726      | 8.390016  | 1.056352  | 1.0277897 | 6         | 10        | 1.66      | 4         | 8.67      | 12.25015  |\n",
       "| CUARTO    | 6288      | 8.302337  | 1.000379  | 1.0001895 | 6         | 10        | 1.33      | 4         | 8.33      | 12.04708  |\n",
       "| QUINTO    | 5890      | 8.239293  | 1.067504  | 1.0332008 | 6         | 10        | 1.33      | 4         | 8.33      | 12.53992  |\n",
       "| SEXTO     | 5668      | 8.175383  | 1.229010  | 1.1086072 | 6         | 10        | 1.67      | 4         | 8.33      | 13.56031  |\n",
       "\n"
      ],
      "text/plain": [
       "  anioCursado conteo media    varianza desvio    Minimo Maximo IQR  Rango\n",
       "1 PRIMERO     6996   8.356800 0.945955 0.9726022 6      10     1.33 4    \n",
       "2 SEGUNDO     5936   8.416843 1.081641 1.0400197 6      10     1.66 4    \n",
       "3 TERCERO     5726   8.390016 1.056352 1.0277897 6      10     1.66 4    \n",
       "4 CUARTO      6288   8.302337 1.000379 1.0001895 6      10     1.33 4    \n",
       "5 QUINTO      5890   8.239293 1.067504 1.0332008 6      10     1.33 4    \n",
       "6 SEXTO       5668   8.175383 1.229010 1.1086072 6      10     1.67 4    \n",
       "  Mediana cv      \n",
       "1 8.67    11.63845\n",
       "2 8.67    12.35641\n",
       "3 8.67    12.25015\n",
       "4 8.33    12.04708\n",
       "5 8.33    12.53992\n",
       "6 8.33    13.56031"
      ]
     },
     "metadata": {},
     "output_type": "display_data"
    }
   ],
   "source": [
    "primaria %>% group_by(anioCursado) %>%\n",
    "      summarise(conteo=n(),\n",
    "                media=mean(promedio, na.rm = TRUE), \n",
    "                varianza=var(promedio, na.rm = TRUE), \n",
    "                desvio=sd(promedio, na.rm = TRUE),\n",
    "                Minimo=min(promedio, na.rm = TRUE),\n",
    "                Maximo=max(promedio, na.rm = TRUE),\n",
    "                IQR=IQR(promedio, na.rm = TRUE),\n",
    "                Rango = Maximo-Minimo,\n",
    "                Mediana=median(promedio, na.rm = TRUE),\n",
    "                cv=sd(promedio, na.rm = TRUE) /mean(promedio, na.rm = TRUE) * 100) %>%  arrange((factor(anioCursado, levels = c('PRIMERO', 'SEGUNDO', 'TERCERO', 'CUARTO', 'QUINTO', 'SEXTO'))))\n"
   ]
  },
  {
   "cell_type": "markdown",
   "id": "cb4e602e",
   "metadata": {},
   "source": [
    "### Comparación de distribuciones en Matemática según turno mañana y tarde"
   ]
  },
  {
   "cell_type": "code",
   "execution_count": 21,
   "id": "75860538",
   "metadata": {
    "vscode": {
     "languageId": "r"
    }
   },
   "outputs": [
    {
     "name": "stdout",
     "output_type": "stream",
     "text": [
      "[1] \"Turno: mañana\"\n"
     ]
    },
    {
     "data": {
      "text/html": [
       "8.14767258382643"
      ],
      "text/latex": [
       "8.14767258382643"
      ],
      "text/markdown": [
       "8.14767258382643"
      ],
      "text/plain": [
       "[1] 8.147673"
      ]
     },
     "metadata": {},
     "output_type": "display_data"
    },
    {
     "data": {
      "text/html": [
       "<ol class=list-inline>\n",
       "\t<li>507</li>\n",
       "\t<li>4</li>\n",
       "</ol>\n"
      ],
      "text/latex": [
       "\\begin{enumerate*}\n",
       "\\item 507\n",
       "\\item 4\n",
       "\\end{enumerate*}\n"
      ],
      "text/markdown": [
       "1. 507\n",
       "2. 4\n",
       "\n",
       "\n"
      ],
      "text/plain": [
       "[1] 507   4"
      ]
     },
     "metadata": {},
     "output_type": "display_data"
    },
    {
     "name": "stdout",
     "output_type": "stream",
     "text": [
      "[1] \"Turno: tarde\"\n"
     ]
    },
    {
     "data": {
      "text/html": [
       "8.16008305647841"
      ],
      "text/latex": [
       "8.16008305647841"
      ],
      "text/markdown": [
       "8.16008305647841"
      ],
      "text/plain": [
       "[1] 8.160083"
      ]
     },
     "metadata": {},
     "output_type": "display_data"
    },
    {
     "data": {
      "text/html": [
       "<ol class=list-inline>\n",
       "\t<li>602</li>\n",
       "\t<li>4</li>\n",
       "</ol>\n"
      ],
      "text/latex": [
       "\\begin{enumerate*}\n",
       "\\item 602\n",
       "\\item 4\n",
       "\\end{enumerate*}\n"
      ],
      "text/markdown": [
       "1. 602\n",
       "2. 4\n",
       "\n",
       "\n"
      ],
      "text/plain": [
       "[1] 602   4"
      ]
     },
     "metadata": {},
     "output_type": "display_data"
    }
   ],
   "source": [
    "matPrimeroMañana <- filter(primaria, asignatura == \"MATEMATICA\", anioCursado == \"PRIMERO\", turno == \"MAÑANA\")\n",
    "matPrimeroMañana <- select(matPrimeroMañana, asignatura, anioCursado, turno, promedio)\n",
    "matPrimeroMañana <- na.omit(matPrimeroMañana)\n",
    "print(\"Turno: mañana\")\n",
    "mean(matPrimeroMañana$promedio)\n",
    "dim(matPrimeroMañana)\n",
    "\n",
    "matPrimeroTarde <- filter(primaria, asignatura == \"MATEMATICA\", anioCursado == \"PRIMERO\", turno == \"TARDE\")\n",
    "matPrimeroTarde <- select(matPrimeroTarde, asignatura, anioCursado, turno, promedio)\n",
    "matPrimeroTarde <- na.omit(matPrimeroTarde)\n",
    "\n",
    "print(\"Turno: tarde\")\n",
    "mean(matPrimeroTarde$promedio)\n",
    "dim(matPrimeroTarde)"
   ]
  },
  {
   "cell_type": "markdown",
   "id": "88047137",
   "metadata": {},
   "source": [
    "names(primaria)"
   ]
  },
  {
   "cell_type": "markdown",
   "id": "76a7bc78",
   "metadata": {},
   "source": [
    "### Evolución de matemática en primer grado"
   ]
  },
  {
   "cell_type": "code",
   "execution_count": 22,
   "id": "371583c3",
   "metadata": {
    "scrolled": true,
    "vscode": {
     "languageId": "r"
    }
   },
   "outputs": [
    {
     "name": "stderr",
     "output_type": "stream",
     "text": [
      "Warning message in eval(expr, envir, enclos):\n",
      "\"NAs introduced by coercion\""
     ]
    },
    {
     "data": {
      "text/html": [
       "7.61800302571861"
      ],
      "text/latex": [
       "7.61800302571861"
      ],
      "text/markdown": [
       "7.61800302571861"
      ],
      "text/plain": [
       "[1] 7.618003"
      ]
     },
     "metadata": {},
     "output_type": "display_data"
    },
    {
     "name": "stderr",
     "output_type": "stream",
     "text": [
      "Warning message in eval(expr, envir, enclos):\n",
      "\"NAs introduced by coercion\""
     ]
    },
    {
     "data": {
      "text/html": [
       "7.99382716049383"
      ],
      "text/latex": [
       "7.99382716049383"
      ],
      "text/markdown": [
       "7.99382716049383"
      ],
      "text/plain": [
       "[1] 7.993827"
      ]
     },
     "metadata": {},
     "output_type": "display_data"
    },
    {
     "name": "stderr",
     "output_type": "stream",
     "text": [
      "Warning message in eval(expr, envir, enclos):\n",
      "\"NAs introduced by coercion\""
     ]
    },
    {
     "data": {
      "text/html": [
       "8.51227495908347"
      ],
      "text/latex": [
       "8.51227495908347"
      ],
      "text/markdown": [
       "8.51227495908347"
      ],
      "text/plain": [
       "[1] 8.512275"
      ]
     },
     "metadata": {},
     "output_type": "display_data"
    }
   ],
   "source": [
    "matPrimerT <- filter(primaria, asignatura == \"MATEMATICA\", anioCursado == \"PRIMERO\")\n",
    "matPrimerT <- select(matPrimerT, asignatura, anioCursado, notaPrimerT)\n",
    "matPrimerT <- as.numeric(matPrimerT$notaPrimerT)\n",
    "matPrimerT <- na.omit(matPrimerT)\n",
    "mean(matPrimerT)\n",
    "#-------\n",
    "matSegundoT <- filter(primaria, asignatura == \"MATEMATICA\", anioCursado == \"PRIMERO\")\n",
    "matSegundoT <- select(matSegundoT, asignatura, anioCursado, notaSegundoT)\n",
    "matSegundoT <- as.numeric(matSegundoT$notaSegundoT)\n",
    "matSegundoT <- na.omit(matSegundoT)\n",
    "mean(matSegundoT)\n",
    "#-------\n",
    "matTercerT <- filter(primaria, asignatura == \"MATEMATICA\", anioCursado == \"PRIMERO\")\n",
    "matTercerT <- select(matTercerT, asignatura, anioCursado, notaTercerT)\n",
    "matTercerT <- as.numeric(matTercerT$notaTercerT)\n",
    "matTercerT <- na.omit(matTercerT)\n",
    "mean(matTercerT)"
   ]
  },
  {
   "cell_type": "markdown",
   "id": "0e4970cb",
   "metadata": {},
   "source": [
    "# MEDIDAS DE TENDENCIA CENTRAL"
   ]
  },
  {
   "cell_type": "markdown",
   "id": "32ed69fe",
   "metadata": {},
   "source": [
    "### Materias por Grado PRIMARIA"
   ]
  },
  {
   "cell_type": "code",
   "execution_count": 23,
   "id": "f2350c42",
   "metadata": {
    "scrolled": false,
    "vscode": {
     "languageId": "r"
    }
   },
   "outputs": [
    {
     "data": {
      "text/html": [
       "<table>\n",
       "<thead><tr><th scope=col>anioCursado</th><th scope=col>conteo</th><th scope=col>media</th><th scope=col>varianza</th><th scope=col>desvio</th><th scope=col>Minimo</th><th scope=col>Maximo</th><th scope=col>IQR</th><th scope=col>Rango</th><th scope=col>Mediana</th><th scope=col>Q1</th><th scope=col>Q3</th><th scope=col>sup</th><th scope=col>inf</th><th scope=col>cv</th></tr></thead>\n",
       "<tbody>\n",
       "\t<tr><td>PRIMERO  </td><td>1397     </td><td>8.157563 </td><td>1.0156957</td><td>1.0078173</td><td>6        </td><td>10       </td><td>1.67     </td><td>4        </td><td>8.33     </td><td>6        </td><td>6        </td><td>8.505    </td><td>3.495    </td><td>12.35439 </td></tr>\n",
       "\t<tr><td>SEGUNDO  </td><td>1189     </td><td>8.325942 </td><td>1.0386089</td><td>1.0191216</td><td>6        </td><td>10       </td><td>1.33     </td><td>4        </td><td>8.33     </td><td>6        </td><td>6        </td><td>7.995    </td><td>4.005    </td><td>12.24032 </td></tr>\n",
       "\t<tr><td>TERCERO  </td><td>1153     </td><td>8.232967 </td><td>1.0383960</td><td>1.0190172</td><td>6        </td><td>10       </td><td>1.67     </td><td>4        </td><td>8.33     </td><td>6        </td><td>6        </td><td>8.505    </td><td>3.495    </td><td>12.37728 </td></tr>\n",
       "\t<tr><td>CUARTO   </td><td>1198     </td><td>8.137747 </td><td>0.9607514</td><td>0.9801792</td><td>6        </td><td>10       </td><td>1.67     </td><td>4        </td><td>8.00     </td><td>6        </td><td>6        </td><td>8.505    </td><td>3.495    </td><td>12.04485 </td></tr>\n",
       "\t<tr><td>QUINTO   </td><td>1097     </td><td>8.036251 </td><td>1.0042442</td><td>1.0021198</td><td>6        </td><td>10       </td><td>1.34     </td><td>4        </td><td>8.00     </td><td>6        </td><td>6        </td><td>8.010    </td><td>3.990    </td><td>12.46999 </td></tr>\n",
       "\t<tr><td>SEXTO    </td><td>1076     </td><td>7.936475 </td><td>1.1787633</td><td>1.0857087</td><td>6        </td><td>10       </td><td>2.00     </td><td>4        </td><td>8.00     </td><td>6        </td><td>6        </td><td>9.000    </td><td>3.000    </td><td>13.67999 </td></tr>\n",
       "</tbody>\n",
       "</table>\n"
      ],
      "text/latex": [
       "\\begin{tabular}{r|lllllllllllllll}\n",
       " anioCursado & conteo & media & varianza & desvio & Minimo & Maximo & IQR & Rango & Mediana & Q1 & Q3 & sup & inf & cv\\\\\n",
       "\\hline\n",
       "\t PRIMERO   & 1397      & 8.157563  & 1.0156957 & 1.0078173 & 6         & 10        & 1.67      & 4         & 8.33      & 6         & 6         & 8.505     & 3.495     & 12.35439 \\\\\n",
       "\t SEGUNDO   & 1189      & 8.325942  & 1.0386089 & 1.0191216 & 6         & 10        & 1.33      & 4         & 8.33      & 6         & 6         & 7.995     & 4.005     & 12.24032 \\\\\n",
       "\t TERCERO   & 1153      & 8.232967  & 1.0383960 & 1.0190172 & 6         & 10        & 1.67      & 4         & 8.33      & 6         & 6         & 8.505     & 3.495     & 12.37728 \\\\\n",
       "\t CUARTO    & 1198      & 8.137747  & 0.9607514 & 0.9801792 & 6         & 10        & 1.67      & 4         & 8.00      & 6         & 6         & 8.505     & 3.495     & 12.04485 \\\\\n",
       "\t QUINTO    & 1097      & 8.036251  & 1.0042442 & 1.0021198 & 6         & 10        & 1.34      & 4         & 8.00      & 6         & 6         & 8.010     & 3.990     & 12.46999 \\\\\n",
       "\t SEXTO     & 1076      & 7.936475  & 1.1787633 & 1.0857087 & 6         & 10        & 2.00      & 4         & 8.00      & 6         & 6         & 9.000     & 3.000     & 13.67999 \\\\\n",
       "\\end{tabular}\n"
      ],
      "text/markdown": [
       "\n",
       "| anioCursado | conteo | media | varianza | desvio | Minimo | Maximo | IQR | Rango | Mediana | Q1 | Q3 | sup | inf | cv |\n",
       "|---|---|---|---|---|---|---|---|---|---|---|---|---|---|---|\n",
       "| PRIMERO   | 1397      | 8.157563  | 1.0156957 | 1.0078173 | 6         | 10        | 1.67      | 4         | 8.33      | 6         | 6         | 8.505     | 3.495     | 12.35439  |\n",
       "| SEGUNDO   | 1189      | 8.325942  | 1.0386089 | 1.0191216 | 6         | 10        | 1.33      | 4         | 8.33      | 6         | 6         | 7.995     | 4.005     | 12.24032  |\n",
       "| TERCERO   | 1153      | 8.232967  | 1.0383960 | 1.0190172 | 6         | 10        | 1.67      | 4         | 8.33      | 6         | 6         | 8.505     | 3.495     | 12.37728  |\n",
       "| CUARTO    | 1198      | 8.137747  | 0.9607514 | 0.9801792 | 6         | 10        | 1.67      | 4         | 8.00      | 6         | 6         | 8.505     | 3.495     | 12.04485  |\n",
       "| QUINTO    | 1097      | 8.036251  | 1.0042442 | 1.0021198 | 6         | 10        | 1.34      | 4         | 8.00      | 6         | 6         | 8.010     | 3.990     | 12.46999  |\n",
       "| SEXTO     | 1076      | 7.936475  | 1.1787633 | 1.0857087 | 6         | 10        | 2.00      | 4         | 8.00      | 6         | 6         | 9.000     | 3.000     | 13.67999  |\n",
       "\n"
      ],
      "text/plain": [
       "  anioCursado conteo media    varianza  desvio    Minimo Maximo IQR  Rango\n",
       "1 PRIMERO     1397   8.157563 1.0156957 1.0078173 6      10     1.67 4    \n",
       "2 SEGUNDO     1189   8.325942 1.0386089 1.0191216 6      10     1.33 4    \n",
       "3 TERCERO     1153   8.232967 1.0383960 1.0190172 6      10     1.67 4    \n",
       "4 CUARTO      1198   8.137747 0.9607514 0.9801792 6      10     1.67 4    \n",
       "5 QUINTO      1097   8.036251 1.0042442 1.0021198 6      10     1.34 4    \n",
       "6 SEXTO       1076   7.936475 1.1787633 1.0857087 6      10     2.00 4    \n",
       "  Mediana Q1 Q3 sup   inf   cv      \n",
       "1 8.33    6  6  8.505 3.495 12.35439\n",
       "2 8.33    6  6  7.995 4.005 12.24032\n",
       "3 8.33    6  6  8.505 3.495 12.37728\n",
       "4 8.00    6  6  8.505 3.495 12.04485\n",
       "5 8.00    6  6  8.010 3.990 12.46999\n",
       "6 8.00    6  6  9.000 3.000 13.67999"
      ]
     },
     "metadata": {},
     "output_type": "display_data"
    }
   ],
   "source": [
    "matematicaTc <- filter(primaria, asignatura==\"MATEMATICA\")\n",
    "matematicaTc %>% group_by(anioCursado) %>%\n",
    "      summarise(conteo=n(),\n",
    "                media=mean(promedio, na.rm = TRUE), \n",
    "                varianza=var(promedio, na.rm = TRUE), \n",
    "                desvio=sd(promedio, na.rm = TRUE),\n",
    "                Minimo=min(promedio, na.rm = TRUE),\n",
    "                Maximo=max(promedio, na.rm = TRUE),\n",
    "                IQR=IQR(promedio, na.rm = TRUE),\n",
    "                Rango = Maximo-Minimo,\n",
    "                Mediana=median(promedio, na.rm = TRUE),\n",
    "                Q1=quantile(promedio, 0,25,na.rm = TRUE),\n",
    "                Q3=quantile(promedio, 0,75,na.rm = TRUE),\n",
    "                sup=Q3 + 1.5 * IQR,inf=Q1 -1.5 * IQR,\n",
    "                cv=sd(promedio, na.rm = TRUE) /mean(promedio, na.rm = TRUE) * 100) %>%  arrange((factor(anioCursado, levels = c('PRIMERO', 'SEGUNDO', 'TERCERO', 'CUARTO', 'QUINTO', 'SEXTO'))))\n",
    "\n",
    "\n"
   ]
  },
  {
   "cell_type": "code",
   "execution_count": 24,
   "id": "a2a79fb3",
   "metadata": {
    "scrolled": true,
    "vscode": {
     "languageId": "r"
    }
   },
   "outputs": [
    {
     "data": {
      "text/html": [
       "<table>\n",
       "<thead><tr><th scope=col>anioCursado</th><th scope=col>conteo</th><th scope=col>media</th><th scope=col>varianza</th><th scope=col>desvio</th><th scope=col>Minimo</th><th scope=col>Maximo</th><th scope=col>IQR</th><th scope=col>Rango</th><th scope=col>Mediana</th><th scope=col>Q1</th><th scope=col>Q3</th><th scope=col>sup</th><th scope=col>inf</th><th scope=col>cv</th></tr></thead>\n",
       "<tbody>\n",
       "\t<tr><td>PRIMERO  </td><td>1403     </td><td>8.111426 </td><td>1.0174358</td><td>1.0086802</td><td>6        </td><td>10       </td><td>1.67     </td><td>4        </td><td>8.33     </td><td>6        </td><td>6        </td><td>8.505    </td><td>3.495    </td><td>12.43530 </td></tr>\n",
       "\t<tr><td>SEGUNDO  </td><td>1189     </td><td>8.248339 </td><td>1.0919591</td><td>1.0449685</td><td>6        </td><td>10       </td><td>1.67     </td><td>4        </td><td>8.33     </td><td>6        </td><td>6        </td><td>8.505    </td><td>3.495    </td><td>12.66884 </td></tr>\n",
       "\t<tr><td>TERCERO  </td><td>1152     </td><td>8.186663 </td><td>1.0322128</td><td>1.0159787</td><td>6        </td><td>10       </td><td>1.67     </td><td>4        </td><td>8.33     </td><td>6        </td><td>6        </td><td>8.505    </td><td>3.495    </td><td>12.41017 </td></tr>\n",
       "\t<tr><td>CUARTO   </td><td>1200     </td><td>8.060577 </td><td>0.9380947</td><td>0.9685529</td><td>6        </td><td>10       </td><td>1.67     </td><td>4        </td><td>8.00     </td><td>6        </td><td>6        </td><td>8.505    </td><td>3.495    </td><td>12.01593 </td></tr>\n",
       "\t<tr><td>QUINTO   </td><td>1098     </td><td>7.902002 </td><td>1.0701014</td><td>1.0344571</td><td>6        </td><td>10       </td><td>1.67     </td><td>4        </td><td>8.00     </td><td>6        </td><td>6        </td><td>8.505    </td><td>3.495    </td><td>13.09108 </td></tr>\n",
       "\t<tr><td>SEXTO    </td><td>1022     </td><td>7.876399 </td><td>1.2873519</td><td>1.1346153</td><td>6        </td><td>10       </td><td>2.00     </td><td>4        </td><td>8.00     </td><td>6        </td><td>6        </td><td>9.000    </td><td>3.000    </td><td>14.40526 </td></tr>\n",
       "</tbody>\n",
       "</table>\n"
      ],
      "text/latex": [
       "\\begin{tabular}{r|lllllllllllllll}\n",
       " anioCursado & conteo & media & varianza & desvio & Minimo & Maximo & IQR & Rango & Mediana & Q1 & Q3 & sup & inf & cv\\\\\n",
       "\\hline\n",
       "\t PRIMERO   & 1403      & 8.111426  & 1.0174358 & 1.0086802 & 6         & 10        & 1.67      & 4         & 8.33      & 6         & 6         & 8.505     & 3.495     & 12.43530 \\\\\n",
       "\t SEGUNDO   & 1189      & 8.248339  & 1.0919591 & 1.0449685 & 6         & 10        & 1.67      & 4         & 8.33      & 6         & 6         & 8.505     & 3.495     & 12.66884 \\\\\n",
       "\t TERCERO   & 1152      & 8.186663  & 1.0322128 & 1.0159787 & 6         & 10        & 1.67      & 4         & 8.33      & 6         & 6         & 8.505     & 3.495     & 12.41017 \\\\\n",
       "\t CUARTO    & 1200      & 8.060577  & 0.9380947 & 0.9685529 & 6         & 10        & 1.67      & 4         & 8.00      & 6         & 6         & 8.505     & 3.495     & 12.01593 \\\\\n",
       "\t QUINTO    & 1098      & 7.902002  & 1.0701014 & 1.0344571 & 6         & 10        & 1.67      & 4         & 8.00      & 6         & 6         & 8.505     & 3.495     & 13.09108 \\\\\n",
       "\t SEXTO     & 1022      & 7.876399  & 1.2873519 & 1.1346153 & 6         & 10        & 2.00      & 4         & 8.00      & 6         & 6         & 9.000     & 3.000     & 14.40526 \\\\\n",
       "\\end{tabular}\n"
      ],
      "text/markdown": [
       "\n",
       "| anioCursado | conteo | media | varianza | desvio | Minimo | Maximo | IQR | Rango | Mediana | Q1 | Q3 | sup | inf | cv |\n",
       "|---|---|---|---|---|---|---|---|---|---|---|---|---|---|---|\n",
       "| PRIMERO   | 1403      | 8.111426  | 1.0174358 | 1.0086802 | 6         | 10        | 1.67      | 4         | 8.33      | 6         | 6         | 8.505     | 3.495     | 12.43530  |\n",
       "| SEGUNDO   | 1189      | 8.248339  | 1.0919591 | 1.0449685 | 6         | 10        | 1.67      | 4         | 8.33      | 6         | 6         | 8.505     | 3.495     | 12.66884  |\n",
       "| TERCERO   | 1152      | 8.186663  | 1.0322128 | 1.0159787 | 6         | 10        | 1.67      | 4         | 8.33      | 6         | 6         | 8.505     | 3.495     | 12.41017  |\n",
       "| CUARTO    | 1200      | 8.060577  | 0.9380947 | 0.9685529 | 6         | 10        | 1.67      | 4         | 8.00      | 6         | 6         | 8.505     | 3.495     | 12.01593  |\n",
       "| QUINTO    | 1098      | 7.902002  | 1.0701014 | 1.0344571 | 6         | 10        | 1.67      | 4         | 8.00      | 6         | 6         | 8.505     | 3.495     | 13.09108  |\n",
       "| SEXTO     | 1022      | 7.876399  | 1.2873519 | 1.1346153 | 6         | 10        | 2.00      | 4         | 8.00      | 6         | 6         | 9.000     | 3.000     | 14.40526  |\n",
       "\n"
      ],
      "text/plain": [
       "  anioCursado conteo media    varianza  desvio    Minimo Maximo IQR  Rango\n",
       "1 PRIMERO     1403   8.111426 1.0174358 1.0086802 6      10     1.67 4    \n",
       "2 SEGUNDO     1189   8.248339 1.0919591 1.0449685 6      10     1.67 4    \n",
       "3 TERCERO     1152   8.186663 1.0322128 1.0159787 6      10     1.67 4    \n",
       "4 CUARTO      1200   8.060577 0.9380947 0.9685529 6      10     1.67 4    \n",
       "5 QUINTO      1098   7.902002 1.0701014 1.0344571 6      10     1.67 4    \n",
       "6 SEXTO       1022   7.876399 1.2873519 1.1346153 6      10     2.00 4    \n",
       "  Mediana Q1 Q3 sup   inf   cv      \n",
       "1 8.33    6  6  8.505 3.495 12.43530\n",
       "2 8.33    6  6  8.505 3.495 12.66884\n",
       "3 8.33    6  6  8.505 3.495 12.41017\n",
       "4 8.00    6  6  8.505 3.495 12.01593\n",
       "5 8.00    6  6  8.505 3.495 13.09108\n",
       "6 8.00    6  6  9.000 3.000 14.40526"
      ]
     },
     "metadata": {},
     "output_type": "display_data"
    }
   ],
   "source": [
    "lenguaTc <- filter(primaria, asignatura==\"LENGUA\")\n",
    "lenguaTc %>% group_by(anioCursado) %>%\n",
    "      summarise(conteo=n(),\n",
    "                media=mean(promedio, na.rm = TRUE), \n",
    "                varianza=var(promedio, na.rm = TRUE), \n",
    "                desvio=sd(promedio, na.rm = TRUE),\n",
    "                Minimo=min(promedio, na.rm = TRUE),\n",
    "                Maximo=max(promedio, na.rm = TRUE),\n",
    "                IQR=IQR(promedio, na.rm = TRUE),\n",
    "                Rango = Maximo-Minimo,\n",
    "                Mediana=median(promedio, na.rm = TRUE),\n",
    "                Q1=quantile(promedio, 0,25,na.rm = TRUE),\n",
    "                Q3=quantile(promedio, 0,75,na.rm = TRUE),\n",
    "                sup=Q3 + 1.5 * IQR,inf=Q1 -1.5 * IQR,\n",
    "                cv=sd(promedio, na.rm = TRUE) /mean(promedio, na.rm = TRUE) * 100) %>%  arrange((factor(anioCursado, levels = c('PRIMERO', 'SEGUNDO', 'TERCERO', 'CUARTO', 'QUINTO', 'SEXTO'))))"
   ]
  },
  {
   "cell_type": "markdown",
   "id": "cce9c801",
   "metadata": {},
   "source": [
    "### Materias de Primer Grado PRIMARIA"
   ]
  },
  {
   "cell_type": "code",
   "execution_count": 25,
   "id": "8f3b0303",
   "metadata": {
    "vscode": {
     "languageId": "r"
    }
   },
   "outputs": [
    {
     "data": {
      "text/html": [
       "<table>\n",
       "<thead><tr><th scope=col>asignatura</th><th scope=col>conteo</th><th scope=col>media</th><th scope=col>varianza</th><th scope=col>desvio</th><th scope=col>Minimo</th><th scope=col>Maximo</th><th scope=col>IQR</th><th scope=col>Rango</th><th scope=col>Mediana</th><th scope=col>Q1</th><th scope=col>Q3</th><th scope=col>sup</th><th scope=col>inf</th><th scope=col>cv</th></tr></thead>\n",
       "<tbody>\n",
       "\t<tr><td>CIENCIAS NATURALES</td><td>1403              </td><td>8.368755          </td><td>1.0069676         </td><td>1.0034777         </td><td>6.00              </td><td>10.00             </td><td>1.33              </td><td>4.00              </td><td>8.67              </td><td>6.00              </td><td>6.00              </td><td>7.995             </td><td>4.005             </td><td>11.990764         </td></tr>\n",
       "\t<tr><td>CIENCIAS SOCIALES </td><td>1380              </td><td>8.349810          </td><td>1.0274937         </td><td>1.0136537         </td><td>6.00              </td><td>10.00             </td><td>1.33              </td><td>4.00              </td><td>8.67              </td><td>6.00              </td><td>6.00              </td><td>7.995             </td><td>4.005             </td><td>12.139841         </td></tr>\n",
       "\t<tr><td>EDUCACION FISICA  </td><td>1362              </td><td>8.738116          </td><td>0.4742531         </td><td>0.6886604         </td><td>6.33              </td><td>10.00             </td><td>1.00              </td><td>3.67              </td><td>8.67              </td><td>6.33              </td><td>6.33              </td><td>7.830             </td><td>4.830             </td><td> 7.881108         </td></tr>\n",
       "\t<tr><td>INGLES            </td><td>  51              </td><td>8.241765          </td><td>0.3254068         </td><td>0.5704444         </td><td>7.33              </td><td> 9.67             </td><td>0.33              </td><td>2.34              </td><td>8.00              </td><td>7.33              </td><td>7.33              </td><td>7.825             </td><td>6.835             </td><td> 6.921387         </td></tr>\n",
       "\t<tr><td>LENGUA            </td><td>1403              </td><td>8.111426          </td><td>1.0174358         </td><td>1.0086802         </td><td>6.00              </td><td>10.00             </td><td>1.67              </td><td>4.00              </td><td>8.33              </td><td>6.00              </td><td>6.00              </td><td>8.505             </td><td>3.495             </td><td>12.435300         </td></tr>\n",
       "\t<tr><td>MATEMATICA        </td><td>1397              </td><td>8.157563          </td><td>1.0156957         </td><td>1.0078173         </td><td>6.00              </td><td>10.00             </td><td>1.67              </td><td>4.00              </td><td>8.33              </td><td>6.00              </td><td>6.00              </td><td>8.505             </td><td>3.495             </td><td>12.354391         </td></tr>\n",
       "</tbody>\n",
       "</table>\n"
      ],
      "text/latex": [
       "\\begin{tabular}{r|lllllllllllllll}\n",
       " asignatura & conteo & media & varianza & desvio & Minimo & Maximo & IQR & Rango & Mediana & Q1 & Q3 & sup & inf & cv\\\\\n",
       "\\hline\n",
       "\t CIENCIAS NATURALES & 1403               & 8.368755           & 1.0069676          & 1.0034777          & 6.00               & 10.00              & 1.33               & 4.00               & 8.67               & 6.00               & 6.00               & 7.995              & 4.005              & 11.990764         \\\\\n",
       "\t CIENCIAS SOCIALES  & 1380               & 8.349810           & 1.0274937          & 1.0136537          & 6.00               & 10.00              & 1.33               & 4.00               & 8.67               & 6.00               & 6.00               & 7.995              & 4.005              & 12.139841         \\\\\n",
       "\t EDUCACION FISICA   & 1362               & 8.738116           & 0.4742531          & 0.6886604          & 6.33               & 10.00              & 1.00               & 3.67               & 8.67               & 6.33               & 6.33               & 7.830              & 4.830              &  7.881108         \\\\\n",
       "\t INGLES             &   51               & 8.241765           & 0.3254068          & 0.5704444          & 7.33               &  9.67              & 0.33               & 2.34               & 8.00               & 7.33               & 7.33               & 7.825              & 6.835              &  6.921387         \\\\\n",
       "\t LENGUA             & 1403               & 8.111426           & 1.0174358          & 1.0086802          & 6.00               & 10.00              & 1.67               & 4.00               & 8.33               & 6.00               & 6.00               & 8.505              & 3.495              & 12.435300         \\\\\n",
       "\t MATEMATICA         & 1397               & 8.157563           & 1.0156957          & 1.0078173          & 6.00               & 10.00              & 1.67               & 4.00               & 8.33               & 6.00               & 6.00               & 8.505              & 3.495              & 12.354391         \\\\\n",
       "\\end{tabular}\n"
      ],
      "text/markdown": [
       "\n",
       "| asignatura | conteo | media | varianza | desvio | Minimo | Maximo | IQR | Rango | Mediana | Q1 | Q3 | sup | inf | cv |\n",
       "|---|---|---|---|---|---|---|---|---|---|---|---|---|---|---|\n",
       "| CIENCIAS NATURALES | 1403               | 8.368755           | 1.0069676          | 1.0034777          | 6.00               | 10.00              | 1.33               | 4.00               | 8.67               | 6.00               | 6.00               | 7.995              | 4.005              | 11.990764          |\n",
       "| CIENCIAS SOCIALES  | 1380               | 8.349810           | 1.0274937          | 1.0136537          | 6.00               | 10.00              | 1.33               | 4.00               | 8.67               | 6.00               | 6.00               | 7.995              | 4.005              | 12.139841          |\n",
       "| EDUCACION FISICA   | 1362               | 8.738116           | 0.4742531          | 0.6886604          | 6.33               | 10.00              | 1.00               | 3.67               | 8.67               | 6.33               | 6.33               | 7.830              | 4.830              |  7.881108          |\n",
       "| INGLES             |   51               | 8.241765           | 0.3254068          | 0.5704444          | 7.33               |  9.67              | 0.33               | 2.34               | 8.00               | 7.33               | 7.33               | 7.825              | 6.835              |  6.921387          |\n",
       "| LENGUA             | 1403               | 8.111426           | 1.0174358          | 1.0086802          | 6.00               | 10.00              | 1.67               | 4.00               | 8.33               | 6.00               | 6.00               | 8.505              | 3.495              | 12.435300          |\n",
       "| MATEMATICA         | 1397               | 8.157563           | 1.0156957          | 1.0078173          | 6.00               | 10.00              | 1.67               | 4.00               | 8.33               | 6.00               | 6.00               | 8.505              | 3.495              | 12.354391          |\n",
       "\n"
      ],
      "text/plain": [
       "  asignatura         conteo media    varianza  desvio    Minimo Maximo IQR \n",
       "1 CIENCIAS NATURALES 1403   8.368755 1.0069676 1.0034777 6.00   10.00  1.33\n",
       "2 CIENCIAS SOCIALES  1380   8.349810 1.0274937 1.0136537 6.00   10.00  1.33\n",
       "3 EDUCACION FISICA   1362   8.738116 0.4742531 0.6886604 6.33   10.00  1.00\n",
       "4 INGLES               51   8.241765 0.3254068 0.5704444 7.33    9.67  0.33\n",
       "5 LENGUA             1403   8.111426 1.0174358 1.0086802 6.00   10.00  1.67\n",
       "6 MATEMATICA         1397   8.157563 1.0156957 1.0078173 6.00   10.00  1.67\n",
       "  Rango Mediana Q1   Q3   sup   inf   cv       \n",
       "1 4.00  8.67    6.00 6.00 7.995 4.005 11.990764\n",
       "2 4.00  8.67    6.00 6.00 7.995 4.005 12.139841\n",
       "3 3.67  8.67    6.33 6.33 7.830 4.830  7.881108\n",
       "4 2.34  8.00    7.33 7.33 7.825 6.835  6.921387\n",
       "5 4.00  8.33    6.00 6.00 8.505 3.495 12.435300\n",
       "6 4.00  8.33    6.00 6.00 8.505 3.495 12.354391"
      ]
     },
     "metadata": {},
     "output_type": "display_data"
    }
   ],
   "source": [
    "primaria_primero <- filter(primaria, anioCursado==\"PRIMERO\")\n",
    "primaria_primero %>% group_by(asignatura) %>%\n",
    "      summarise(conteo=n(),\n",
    "            media=mean(promedio, na.rm = TRUE), \n",
    "            varianza=var(promedio, na.rm = TRUE),\n",
    "            desvio=sd(promedio, na.rm = TRUE),\n",
    "            Minimo=min(promedio, na.rm = TRUE),\n",
    "            Maximo=max(promedio, na.rm = TRUE),\n",
    "            IQR=IQR(promedio, na.rm = TRUE),\n",
    "            Rango = Maximo-Minimo,\n",
    "            Mediana=median(promedio, na.rm = TRUE),\n",
    "            Q1=quantile(promedio, 0,25,na.rm = TRUE),\n",
    "            Q3=quantile(promedio, 0,75,na.rm = TRUE),\n",
    "            sup=Q3 + 1.5 * IQR,\n",
    "            inf=Q1 -1.5 * IQR,\n",
    "            cv=sd(promedio, na.rm = TRUE)/mean(promedio, na.rm = TRUE) * 100) "
   ]
  },
  {
   "cell_type": "markdown",
   "id": "edbcc6a3",
   "metadata": {},
   "source": [
    "### Resumen de estadísticos de matemática"
   ]
  },
  {
   "cell_type": "code",
   "execution_count": 26,
   "id": "b820118f",
   "metadata": {
    "vscode": {
     "languageId": "r"
    }
   },
   "outputs": [
    {
     "data": {
      "text/html": [
       "<table>\n",
       "<thead><tr><th scope=col>conteo</th><th scope=col>media</th><th scope=col>varianza</th><th scope=col>desvio</th><th scope=col>Minimo</th><th scope=col>Maximo</th><th scope=col>IQR</th><th scope=col>Rango</th><th scope=col>Mediana</th><th scope=col>Q1</th><th scope=col>Q3</th></tr></thead>\n",
       "<tbody>\n",
       "\t<tr><td>7110    </td><td>8.141097</td><td>1.050767</td><td>1.025069</td><td>6       </td><td>10      </td><td>1.67    </td><td>4       </td><td>8.33    </td><td>6       </td><td>6       </td></tr>\n",
       "</tbody>\n",
       "</table>\n"
      ],
      "text/latex": [
       "\\begin{tabular}{r|lllllllllll}\n",
       " conteo & media & varianza & desvio & Minimo & Maximo & IQR & Rango & Mediana & Q1 & Q3\\\\\n",
       "\\hline\n",
       "\t 7110     & 8.141097 & 1.050767 & 1.025069 & 6        & 10       & 1.67     & 4        & 8.33     & 6        & 6       \\\\\n",
       "\\end{tabular}\n"
      ],
      "text/markdown": [
       "\n",
       "| conteo | media | varianza | desvio | Minimo | Maximo | IQR | Rango | Mediana | Q1 | Q3 |\n",
       "|---|---|---|---|---|---|---|---|---|---|---|\n",
       "| 7110     | 8.141097 | 1.050767 | 1.025069 | 6        | 10       | 1.67     | 4        | 8.33     | 6        | 6        |\n",
       "\n"
      ],
      "text/plain": [
       "  conteo media    varianza desvio   Minimo Maximo IQR  Rango Mediana Q1 Q3\n",
       "1 7110   8.141097 1.050767 1.025069 6      10     1.67 4     8.33    6  6 "
      ]
     },
     "metadata": {},
     "output_type": "display_data"
    }
   ],
   "source": [
    "matematica <- filter(primaria, asignatura == \"MATEMATICA\")\n",
    "matematica %>% summarise(conteo=n(), media=mean(promedio, na.rm = TRUE), \n",
    "                     varianza=var(promedio, na.rm = TRUE), \n",
    "                     desvio=sd(promedio, na.rm = TRUE), \n",
    "                     Minimo=min(promedio, na.rm = TRUE), \n",
    "                     Maximo=max(promedio, na.rm = TRUE), \n",
    "                     IQR=IQR(promedio, na.rm = TRUE), \n",
    "                     Rango = Maximo-Minimo, \n",
    "                     Mediana=median(promedio, na.rm = TRUE), \n",
    "                     Q1=quantile(promedio, 0,25,na.rm = TRUE), \n",
    "                     Q3=quantile(promedio, 0,75,na.rm = TRUE))"
   ]
  },
  {
   "cell_type": "markdown",
   "id": "6d73cb29",
   "metadata": {},
   "source": [
    "### Resumen de estadisticos de lengua"
   ]
  },
  {
   "cell_type": "code",
   "execution_count": 27,
   "id": "17308c18",
   "metadata": {
    "scrolled": true,
    "vscode": {
     "languageId": "r"
    }
   },
   "outputs": [
    {
     "data": {
      "text/html": [
       "<table>\n",
       "<thead><tr><th scope=col>conteo</th><th scope=col>media</th><th scope=col>varianza</th><th scope=col>desvio</th><th scope=col>Minimo</th><th scope=col>Maximo</th><th scope=col>IQR</th><th scope=col>Rango</th><th scope=col>Mediana</th><th scope=col>Q1</th><th scope=col>Q3</th></tr></thead>\n",
       "<tbody>\n",
       "\t<tr><td>7064    </td><td>8.067295</td><td>1.08304 </td><td>1.040692</td><td>6       </td><td>10      </td><td>1.67    </td><td>4       </td><td>8       </td><td>6       </td><td>6       </td></tr>\n",
       "</tbody>\n",
       "</table>\n"
      ],
      "text/latex": [
       "\\begin{tabular}{r|lllllllllll}\n",
       " conteo & media & varianza & desvio & Minimo & Maximo & IQR & Rango & Mediana & Q1 & Q3\\\\\n",
       "\\hline\n",
       "\t 7064     & 8.067295 & 1.08304  & 1.040692 & 6        & 10       & 1.67     & 4        & 8        & 6        & 6       \\\\\n",
       "\\end{tabular}\n"
      ],
      "text/markdown": [
       "\n",
       "| conteo | media | varianza | desvio | Minimo | Maximo | IQR | Rango | Mediana | Q1 | Q3 |\n",
       "|---|---|---|---|---|---|---|---|---|---|---|\n",
       "| 7064     | 8.067295 | 1.08304  | 1.040692 | 6        | 10       | 1.67     | 4        | 8        | 6        | 6        |\n",
       "\n"
      ],
      "text/plain": [
       "  conteo media    varianza desvio   Minimo Maximo IQR  Rango Mediana Q1 Q3\n",
       "1 7064   8.067295 1.08304  1.040692 6      10     1.67 4     8       6  6 "
      ]
     },
     "metadata": {},
     "output_type": "display_data"
    }
   ],
   "source": [
    "lengua <- filter(primaria, asignatura == \"LENGUA\")\n",
    "lengua %>% summarise(conteo=n(), media=mean(promedio, na.rm = TRUE), \n",
    "                     varianza=var(promedio, na.rm = TRUE), \n",
    "                     desvio=sd(promedio, na.rm = TRUE), \n",
    "                     Minimo=min(promedio, na.rm = TRUE), \n",
    "                    Maximo=max(promedio, na.rm = TRUE), \n",
    "                     IQR=IQR(promedio, na.rm = TRUE), \n",
    "                     Rango = Maximo-Minimo, \n",
    "                     Mediana=median(promedio, na.rm = TRUE), \n",
    "                     Q1=quantile(promedio, 0,25,na.rm = TRUE), \n",
    "                     Q3=quantile(promedio, 0,75,na.rm = TRUE))"
   ]
  },
  {
   "cell_type": "markdown",
   "id": "ca2d3456",
   "metadata": {},
   "source": [
    "### Promedio con el que terminan la primaria en matemática"
   ]
  },
  {
   "cell_type": "code",
   "execution_count": 28,
   "id": "0f83c141",
   "metadata": {
    "vscode": {
     "languageId": "r"
    }
   },
   "outputs": [
    {
     "data": {
      "text/html": [
       "7.93647531572905"
      ],
      "text/latex": [
       "7.93647531572905"
      ],
      "text/markdown": [
       "7.93647531572905"
      ],
      "text/plain": [
       "[1] 7.936475"
      ]
     },
     "metadata": {},
     "output_type": "display_data"
    }
   ],
   "source": [
    "cursoSextoMatematica <- filter(primaria, asignatura == \"MATEMATICA\", anioCursado == \"SEXTO\")\n",
    "cursoSextoMatematica <- na.omit(cursoSextoMatematica)\n",
    "mean(cursoSextoMatematica$promedio)"
   ]
  },
  {
   "cell_type": "markdown",
   "id": "6ae0e5c7",
   "metadata": {},
   "source": [
    "### Promedio con el que terminan la primaria en lengua"
   ]
  },
  {
   "cell_type": "code",
   "execution_count": 29,
   "id": "7d4850c8",
   "metadata": {
    "vscode": {
     "languageId": "r"
    }
   },
   "outputs": [
    {
     "data": {
      "text/html": [
       "7.87639855942377"
      ],
      "text/latex": [
       "7.87639855942377"
      ],
      "text/markdown": [
       "7.87639855942377"
      ],
      "text/plain": [
       "[1] 7.876399"
      ]
     },
     "metadata": {},
     "output_type": "display_data"
    }
   ],
   "source": [
    "cursoSextoLengua <- filter(primaria, asignatura == \"LENGUA\", anioCursado == \"SEXTO\")\n",
    "cursoSextoLengua <- na.omit(cursoSextoLengua)\n",
    "mean(cursoSextoLengua$promedio)"
   ]
  },
  {
   "cell_type": "markdown",
   "id": "faddc695",
   "metadata": {},
   "source": [
    "### Promedio final de todas las materias de primaria. ¿Con qué nivel ingresan a la secundaria?"
   ]
  },
  {
   "cell_type": "code",
   "execution_count": 30,
   "id": "f0bad152",
   "metadata": {
    "vscode": {
     "languageId": "r"
    }
   },
   "outputs": [
    {
     "name": "stdout",
     "output_type": "stream",
     "text": [
      " chr [1:5668] \"10\" \"10\" \"8\" \"9\" \"10\" \"9\" \"7\" \"6\" \"8\" \"6\" \"6\" \"8\" \"8\" \"8\" ...\n"
     ]
    },
    {
     "name": "stderr",
     "output_type": "stream",
     "text": [
      "Warning message in eval(expr, envir, enclos):\n",
      "\"NAs introduced by coercion\""
     ]
    },
    {
     "name": "stdout",
     "output_type": "stream",
     "text": [
      " chr [1:5668] \"10\" \"10\" \"9\" \"9\" \"10\" \"9\" \"7\" \"7\" \"9\" \"6\" \"6\" \"8\" \"8\" \"9\" ...\n"
     ]
    },
    {
     "name": "stderr",
     "output_type": "stream",
     "text": [
      "Warning message in eval(expr, envir, enclos):\n",
      "\"NAs introduced by coercion\""
     ]
    },
    {
     "name": "stdout",
     "output_type": "stream",
     "text": [
      " chr [1:5668] \"10\" \"10\" \"9\" \"9\" \"10\" \"9\" \"7\" \"7\" \"8\" \"EPAC\" \"EPAC\" \"8\" \"8\" ...\n"
     ]
    },
    {
     "name": "stderr",
     "output_type": "stream",
     "text": [
      "Warning message in eval(expr, envir, enclos):\n",
      "\"NAs introduced by coercion\""
     ]
    }
   ],
   "source": [
    "primariaSexto <- filter(primaria, anioCursado == \"SEXTO\")\n",
    "str(primariaSexto$notaPrimerT)\n",
    "primariaSexto$notaPrimerT <- as.numeric(primariaSexto$notaPrimerT)\n",
    "\n",
    "str(primariaSexto$notaSegundoT)\n",
    "primariaSexto$notaSegundoT <- as.numeric(primariaSexto$notaSegundoT)\n",
    "\n",
    "str(primariaSexto$notaTercerT)\n",
    "primariaSexto$notaTercerT <- as.numeric(primariaSexto$notaTercerT)"
   ]
  },
  {
   "cell_type": "code",
   "execution_count": 31,
   "id": "a07e753a",
   "metadata": {
    "vscode": {
     "languageId": "r"
    }
   },
   "outputs": [
    {
     "data": {
      "text/html": [
       "<table>\n",
       "<thead><tr><th scope=col>asignatura</th><th scope=col>media_primerT</th><th scope=col>media_segundoT</th><th scope=col>media_tercerT</th><th scope=col>min_primerT</th><th scope=col>max_primerT</th><th scope=col>min_segundoT</th><th scope=col>max_segundoT</th><th scope=col>min_tercerT</th><th scope=col>max_tercerT</th><th scope=col>mediana_primerT</th><th scope=col>mediana_segundoT</th><th scope=col>mediana_tercerT</th></tr></thead>\n",
       "<tbody>\n",
       "\t<tr><td>CIENCIAS NATURALES</td><td>7.747890          </td><td>8.006276          </td><td>8.208678          </td><td>6                 </td><td>10                </td><td>6                 </td><td>10                </td><td>6                 </td><td>10                </td><td>8                 </td><td>8                 </td><td>8                 </td></tr>\n",
       "\t<tr><td>CIENCIAS SOCIALES </td><td>7.712137          </td><td>7.944444          </td><td>8.156904          </td><td>6                 </td><td>10                </td><td>6                 </td><td>10                </td><td>6                 </td><td>10                </td><td>8                 </td><td>8                 </td><td>8                 </td></tr>\n",
       "\t<tr><td>EDUCACION FISICA  </td><td>8.314894          </td><td>8.800000          </td><td>9.100855          </td><td>6                 </td><td>10                </td><td>6                 </td><td>10                </td><td>6                 </td><td>10                </td><td>8                 </td><td>9                 </td><td>9                 </td></tr>\n",
       "\t<tr><td>INGLES            </td><td>7.932945          </td><td>8.246334          </td><td>8.404692          </td><td>6                 </td><td>10                </td><td>6                 </td><td>10                </td><td>6                 </td><td>10                </td><td>8                 </td><td>8                 </td><td>9                 </td></tr>\n",
       "\t<tr><td>LENGUA            </td><td>7.483207          </td><td>7.782222          </td><td>8.026346          </td><td>6                 </td><td>10                </td><td>6                 </td><td>10                </td><td>6                 </td><td>10                </td><td>7                 </td><td>8                 </td><td>8                 </td></tr>\n",
       "\t<tr><td>MATEMATICA        </td><td>7.517708          </td><td>7.826271          </td><td>8.096320          </td><td>6                 </td><td>10                </td><td>6                 </td><td>10                </td><td>6                 </td><td>10                </td><td>7                 </td><td>8                 </td><td>8                 </td></tr>\n",
       "</tbody>\n",
       "</table>\n"
      ],
      "text/latex": [
       "\\begin{tabular}{r|lllllllllllll}\n",
       " asignatura & media\\_primerT & media\\_segundoT & media\\_tercerT & min\\_primerT & max\\_primerT & min\\_segundoT & max\\_segundoT & min\\_tercerT & max\\_tercerT & mediana\\_primerT & mediana\\_segundoT & mediana\\_tercerT\\\\\n",
       "\\hline\n",
       "\t CIENCIAS NATURALES & 7.747890           & 8.006276           & 8.208678           & 6                  & 10                 & 6                  & 10                 & 6                  & 10                 & 8                  & 8                  & 8                 \\\\\n",
       "\t CIENCIAS SOCIALES  & 7.712137           & 7.944444           & 8.156904           & 6                  & 10                 & 6                  & 10                 & 6                  & 10                 & 8                  & 8                  & 8                 \\\\\n",
       "\t EDUCACION FISICA   & 8.314894           & 8.800000           & 9.100855           & 6                  & 10                 & 6                  & 10                 & 6                  & 10                 & 8                  & 9                  & 9                 \\\\\n",
       "\t INGLES             & 7.932945           & 8.246334           & 8.404692           & 6                  & 10                 & 6                  & 10                 & 6                  & 10                 & 8                  & 8                  & 9                 \\\\\n",
       "\t LENGUA             & 7.483207           & 7.782222           & 8.026346           & 6                  & 10                 & 6                  & 10                 & 6                  & 10                 & 7                  & 8                  & 8                 \\\\\n",
       "\t MATEMATICA         & 7.517708           & 7.826271           & 8.096320           & 6                  & 10                 & 6                  & 10                 & 6                  & 10                 & 7                  & 8                  & 8                 \\\\\n",
       "\\end{tabular}\n"
      ],
      "text/markdown": [
       "\n",
       "| asignatura | media_primerT | media_segundoT | media_tercerT | min_primerT | max_primerT | min_segundoT | max_segundoT | min_tercerT | max_tercerT | mediana_primerT | mediana_segundoT | mediana_tercerT |\n",
       "|---|---|---|---|---|---|---|---|---|---|---|---|---|\n",
       "| CIENCIAS NATURALES | 7.747890           | 8.006276           | 8.208678           | 6                  | 10                 | 6                  | 10                 | 6                  | 10                 | 8                  | 8                  | 8                  |\n",
       "| CIENCIAS SOCIALES  | 7.712137           | 7.944444           | 8.156904           | 6                  | 10                 | 6                  | 10                 | 6                  | 10                 | 8                  | 8                  | 8                  |\n",
       "| EDUCACION FISICA   | 8.314894           | 8.800000           | 9.100855           | 6                  | 10                 | 6                  | 10                 | 6                  | 10                 | 8                  | 9                  | 9                  |\n",
       "| INGLES             | 7.932945           | 8.246334           | 8.404692           | 6                  | 10                 | 6                  | 10                 | 6                  | 10                 | 8                  | 8                  | 9                  |\n",
       "| LENGUA             | 7.483207           | 7.782222           | 8.026346           | 6                  | 10                 | 6                  | 10                 | 6                  | 10                 | 7                  | 8                  | 8                  |\n",
       "| MATEMATICA         | 7.517708           | 7.826271           | 8.096320           | 6                  | 10                 | 6                  | 10                 | 6                  | 10                 | 7                  | 8                  | 8                  |\n",
       "\n"
      ],
      "text/plain": [
       "  asignatura         media_primerT media_segundoT media_tercerT min_primerT\n",
       "1 CIENCIAS NATURALES 7.747890      8.006276       8.208678      6          \n",
       "2 CIENCIAS SOCIALES  7.712137      7.944444       8.156904      6          \n",
       "3 EDUCACION FISICA   8.314894      8.800000       9.100855      6          \n",
       "4 INGLES             7.932945      8.246334       8.404692      6          \n",
       "5 LENGUA             7.483207      7.782222       8.026346      6          \n",
       "6 MATEMATICA         7.517708      7.826271       8.096320      6          \n",
       "  max_primerT min_segundoT max_segundoT min_tercerT max_tercerT mediana_primerT\n",
       "1 10          6            10           6           10          8              \n",
       "2 10          6            10           6           10          8              \n",
       "3 10          6            10           6           10          8              \n",
       "4 10          6            10           6           10          8              \n",
       "5 10          6            10           6           10          7              \n",
       "6 10          6            10           6           10          7              \n",
       "  mediana_segundoT mediana_tercerT\n",
       "1 8                8              \n",
       "2 8                8              \n",
       "3 9                9              \n",
       "4 8                9              \n",
       "5 8                8              \n",
       "6 8                8              "
      ]
     },
     "metadata": {},
     "output_type": "display_data"
    }
   ],
   "source": [
    "primariaSexto %>% \n",
    "  group_by(asignatura) %>%\n",
    "  summarise(media_primerT=mean(notaPrimerT, na.rm = TRUE),\n",
    "            media_segundoT=mean(notaSegundoT, na.rm = TRUE),\n",
    "            media_tercerT=mean(notaTercerT, na.rm = TRUE),\n",
    "            min_primerT=min(notaPrimerT, na.rm = TRUE),\n",
    "            max_primerT=max(notaPrimerT, na.rm = TRUE),\n",
    "            min_segundoT=min(notaSegundoT, na.rm = TRUE),\n",
    "            max_segundoT=max(notaSegundoT, na.rm = TRUE),\n",
    "            min_tercerT=min(notaTercerT, na.rm = TRUE),\n",
    "            max_tercerT=max(notaTercerT, na.rm = TRUE),\n",
    "            mediana_primerT=median(notaPrimerT, na.rm = TRUE),\n",
    "            mediana_segundoT=median(notaSegundoT, na.rm = TRUE),\n",
    "            mediana_tercerT=median(notaTercerT, na.rm = TRUE))"
   ]
  },
  {
   "cell_type": "markdown",
   "id": "462c4327",
   "metadata": {},
   "source": [
    "# GRÁFICOS ESTADÍSTICOS"
   ]
  },
  {
   "cell_type": "markdown",
   "id": "de801162",
   "metadata": {},
   "source": [
    "## GRAFICO DE TORTA"
   ]
  },
  {
   "cell_type": "markdown",
   "id": "eaec0734",
   "metadata": {},
   "source": [
    "### Districubión De La Cantidad De Estudiantes Por Año De Cursado"
   ]
  },
  {
   "cell_type": "code",
   "execution_count": 32,
   "id": "36e223a7",
   "metadata": {
    "vscode": {
     "languageId": "r"
    }
   },
   "outputs": [
    {
     "data": {
      "text/plain": [
       "\n",
       " CUARTO PRIMERO  QUINTO SEGUNDO SEPTIMO   SEXTO TERCERO \n",
       "     18      16      20      14       0      17      15 "
      ]
     },
     "metadata": {},
     "output_type": "display_data"
    },
    {
     "data": {
      "image/png": "[encoded data removed]",
      "text/plain": [
       "Plot with title \"Distribucion Porcentual de la Matricula\n",
       "    de 2022 en Gualeguay por Año de Cursado\""
      ]
     },
     "metadata": {},
     "output_type": "display_data"
    }
   ],
   "source": [
    "pie_commute <- round(100 * table(original$anioCursado) / length(original$anioCursado))\n",
    "pie_commute\n",
    "colors = rainbow(7)\n",
    "\n",
    "pie(pie_commute, labels = paste0(names(pie_commute),'\\n', pie_commute, ' %'),\n",
    "    col = colors, \n",
    "    radius = .75,\n",
    "    main = \"Distribucion Porcentual de la Matricula\n",
    "    de 2022 en Gualeguay por Año de Cursado\",\n",
    "    col.main = \"black\",\n",
    "    sub = \"Fuente de elaboración propia\",\n",
    "    col.sub = \"blue4\",\n",
    "    density = 1000, angle = seq(20,200,35),\n",
    "    border = '#556B2F')   \n",
    "\n"
   ]
  },
  {
   "cell_type": "markdown",
   "id": "f189835b",
   "metadata": {},
   "source": [
    "### GRÁFICO DE BARRAS"
   ]
  },
  {
   "cell_type": "code",
   "execution_count": 33,
   "id": "cdb25d99",
   "metadata": {
    "vscode": {
     "languageId": "r"
    }
   },
   "outputs": [
    {
     "data": {
      "image/png": "[encoded data removed]",
      "text/plain": [
       "Plot with title \"DISTRICUBIÓN DE LAS NOTAS DE LENGUA\""
      ]
     },
     "metadata": {},
     "output_type": "display_data"
    }
   ],
   "source": [
    "mi_tabla <- table(lengua$promedio)\n",
    "barplot(mi_tabla,las=3,cex.names=0.7, main = \"DISTRICUBIÓN DE LAS NOTAS DE LENGUA\", col = rainbow(6), ylim = c(0, 1000),sub = \"Fuente de elaboración propia\")"
   ]
  },
  {
   "cell_type": "code",
   "execution_count": 48,
   "id": "4005af81",
   "metadata": {
    "vscode": {
     "languageId": "r"
    }
   },
   "outputs": [
    {
     "data": {
      "image/png": "[encoded data removed]",
      "text/plain": [
       "Plot with title \"DISTRICUBIÓN DE LAS NOTAS DE MATEMÁTICA\""
      ]
     },
     "metadata": {},
     "output_type": "display_data"
    }
   ],
   "source": [
    "mi_tabla <- table(matematica$promedio)\n",
    "barplot(mi_tabla,las=3,cex.names=0.7, main = \"DISTRICUBIÓN DE LAS NOTAS DE MATEMÁTICA\", col = rainbow(6), ylim = c(0, 1000),sub = \"Fuente de elaboración propia\")"
   ]
  },
  {
   "cell_type": "markdown",
   "id": "6830fb6d",
   "metadata": {},
   "source": [
    "## HISTOGRAMAS"
   ]
  },
  {
   "cell_type": "markdown",
   "id": "930dcbfc",
   "metadata": {},
   "source": [
    "### Promedio de cada materia en 6to grado"
   ]
  },
  {
   "cell_type": "code",
   "execution_count": 55,
   "id": "1f4c6486",
   "metadata": {
    "vscode": {
     "languageId": "r"
    }
   },
   "outputs": [
    {
     "data": {
      "image/png": "[encoded data removed]",
      "text/plain": [
       "Plot with title \"TITULO\""
      ]
     },
     "metadata": {},
     "output_type": "display_data"
    }
   ],
   "source": [
    "primariaSexto <- filter(primaria, anioCursado == \"SEXTO\")\n",
    "\n",
    "hist(primariaSexto$promedio,col=\"darkolivegreen2\",border=\"royalblue\",\n",
    "     breaks = \"Sturges\", ylim = c(0,1000), xlab=\"Materia\", ylab=\"nombre eje y\", main=\"TITULO\")\n"
   ]
  },
  {
   "cell_type": "code",
   "execution_count": 86,
   "id": "c2e694dd",
   "metadata": {
    "vscode": {
     "languageId": "r"
    }
   },
   "outputs": [
    {
     "data": {
      "image/png": "[encoded data removed]",
      "text/plain": [
       "Plot with title \"Histograma de promedios de LENGUA en primaria\""
      ]
     },
     "metadata": {},
     "output_type": "display_data"
    }
   ],
   "source": [
    "#HISTOGRAMA LENGUA PRIMARIA\n",
    "hist(lenguaP$promedio, col = \"#CAFF70\", border=\"royalblue\",breaks=c(2,3,4,5,6,7,8,9,10),labels=TRUE,ylim = c(0, 2000),density=80,angle=70,xlab=\"notas\", ylab=\"frecuencia absoluta\",\n",
    "     main=\"Histograma de promedios de LENGUA en primaria\", sub=\"Fuente de elaboración propia\")"
   ]
  },
  {
   "cell_type": "code",
   "execution_count": 82,
   "id": "f12921dd",
   "metadata": {
    "vscode": {
     "languageId": "r"
    }
   },
   "outputs": [
    {
     "data": {
      "image/png": "[encoded data removed]",
      "text/plain": [
       "Plot with title \"Histograma de promedios de LENGUA en secundaria\""
      ]
     },
     "metadata": {},
     "output_type": "display_data"
    }
   ],
   "source": [
    "#HISTOGRAMA LENGUA SECUNDARIA\n",
    "hist(lenguaS$promedio, col = \"#CAFF70\", border=\"royalblue\",breaks=c(2,3,4,5,6,7,8,9,10),labels=TRUE,ylim = c(0, 1000),density=80,angle=70,xlab=\"notas\", ylab=\"frecuencia absoluta\",\n",
    "     main=\"Histograma de promedios de LENGUA en secundaria\", sub=\"Fuente de elaboración propia\")"
   ]
  },
  {
   "cell_type": "code",
   "execution_count": 87,
   "id": "c819fb69",
   "metadata": {
    "vscode": {
     "languageId": "r"
    }
   },
   "outputs": [
    {
     "data": {
      "image/png": "[encoded data removed]",
      "text/plain": [
       "Plot with title \"Histograma de promedios de MATEMATICA en primaria\""
      ]
     },
     "metadata": {},
     "output_type": "display_data"
    }
   ],
   "source": [
    "#HISTOGRAMA MATEMATICA PRIMARIA\n",
    "hist(matematicaP$promedio, col = \"#CAFF70\", border=\"royalblue\",breaks=c(2,3,4,5,6,7,8,9,10),labels=TRUE,ylim = c(0, 2000),density=80,angle=70,xlab=\"notas\", ylab=\"frecuencia absoluta\",\n",
    "     main=\"Histograma de promedios de MATEMATICA en primaria\", sub=\"Fuente de elaboración propia\")"
   ]
  },
  {
   "cell_type": "code",
   "execution_count": 90,
   "id": "057dd625",
   "metadata": {
    "vscode": {
     "languageId": "r"
    }
   },
   "outputs": [
    {
     "data": {
      "image/png": "[encoded data removed]",
      "text/plain": [
       "Plot with title \"Histograma de promedios de MATEMATICA en secundaria\""
      ]
     },
     "metadata": {},
     "output_type": "display_data"
    }
   ],
   "source": [
    "#HISTOGRAMA MATEMATICA SECUNDARIA\n",
    "hist(matematicaS$promedio, col = \"#CAFF70\", border=\"royalblue\",breaks=c(2,3,4,5,6,7,8,9,10),labels=TRUE,ylim = c(0, 1500),density=80,angle=70,xlab=\"notas\", ylab=\"frecuencia absoluta\",\n",
    "     main=\"Histograma de promedios de MATEMATICA en secundaria\", sub=\"Fuente de elaboración propia\")"
   ]
  },
  {
   "cell_type": "markdown",
   "id": "1e507927",
   "metadata": {},
   "source": [
    "### BOXPLOTS"
   ]
  },
  {
   "cell_type": "markdown",
   "id": "a00cd515",
   "metadata": {},
   "source": [
    "### Boxplot de Matemática En El Primer Año"
   ]
  },
  {
   "cell_type": "code",
   "execution_count": 92,
   "id": "c55e8ce5",
   "metadata": {
    "vscode": {
     "languageId": "r"
    }
   },
   "outputs": [],
   "source": [
    "primerAñoMatematica <- filter(primaria, asignatura == \"MATEMATICA\" , anioCursado == \"PRIMERO\")"
   ]
  },
  {
   "cell_type": "code",
   "execution_count": 37,
   "id": "a2b32fc5",
   "metadata": {
    "vscode": {
     "languageId": "r"
    }
   },
   "outputs": [
    {
     "data": {
      "image/png": "[encoded data removed]",
      "text/plain": [
       "plot without title"
      ]
     },
     "metadata": {},
     "output_type": "display_data"
    }
   ],
   "source": [
    "boxplot(primerAñoMatematica[!is.na(primerAñoMatematica$promedio),]$promedio,\n",
    "        whisklty = 2,       # Tipo línea bigotes\n",
    "        whisklwd = 2,       # Ancho línea bigotes\n",
    "        whiskcol = \"red\",   # Color bigotes\n",
    "        staplelty = 3,      # Tipo línea barras\n",
    "        staplelwd = 2,      # Ancho línea barras\n",
    "        staplecol = \"blue\",  #Color barras\n",
    "       col =\"yellow\") #color caja\n",
    "\n",
    "# Añadir línea con la media\n",
    "segments(x0 = 0.8, y0 = mean(primerAñoMatematica[!is.na(primerAñoMatematica$promedio),]$promedio),\n",
    "         x1 = 1.2, y1 = mean(primerAñoMatematica[!is.na(primerAñoMatematica$promedio),]$promedio),\n",
    "         col = \"blue\", lwd = 2)\n",
    "#abline(h = mean(VILLAGUAY_Mat_1[!is.na(VILLAGUAY_Mat_1$nota),]$nota), col = 2, lwd = 2) # Línea completa\n",
    "\n",
    "# Añadir punto con la media\n",
    "points(mean(primerAñoMatematica[!is.na(primerAñoMatematica$promedio),]$promedio), col = 3, pch = 19)"
   ]
  },
  {
   "cell_type": "code",
   "execution_count": 38,
   "id": "84eca694",
   "metadata": {
    "vscode": {
     "languageId": "r"
    }
   },
   "outputs": [],
   "source": [
    "primerAñoLengua <- filter(primaria, asignatura == \"LENGUA\" , anioCursado == \"PRIMERO\")"
   ]
  },
  {
   "cell_type": "code",
   "execution_count": 39,
   "id": "b25fa921",
   "metadata": {
    "vscode": {
     "languageId": "r"
    }
   },
   "outputs": [
    {
     "name": "stderr",
     "output_type": "stream",
     "text": [
      "Warning message:\n",
      "\"Length of logical index must be 1 or 1403, not 1397\""
     ]
    },
    {
     "data": {
      "image/png": "[encoded data removed]",
      "text/plain": [
       "plot without title"
      ]
     },
     "metadata": {},
     "output_type": "display_data"
    }
   ],
   "source": [
    "boxplot(primerAñoLengua[!is.na(primerAñoMatematica$promedio),]$promedio,\n",
    "        whisklty = 2,       # Tipo línea bigotes\n",
    "        whisklwd = 2,       # Ancho línea bigotes\n",
    "        whiskcol = \"red\",   # Color bigotes\n",
    "        staplelty = 3,      # Tipo línea barras\n",
    "        staplelwd = 2,      # Ancho línea barras\n",
    "        staplecol = \"blue\",  #Color barras\n",
    "       col =\"yellow\") #color caja\n",
    "\n",
    "# Añadir línea con la media\n",
    "segments(x0 = 0.8, y0 = mean(primerAñoLengua[!is.na(primerAñoLengua$promedio),]$promedio),\n",
    "         x1 = 1.2, y1 = mean(primerAñoLengua[!is.na(primerAñoLengua$promedio),]$promedio),\n",
    "         col = \"blue\", lwd = 2)\n",
    "#abline(h = mean(VILLAGUAY_Mat_1[!is.na(VILLAGUAY_Mat_1$nota),]$nota), col = 2, lwd = 2) # Línea completa\n",
    "\n",
    "# Añadir punto con la media\n",
    "points(mean(primerAñoLengua[!is.na(primerAñoLengua$promedio),]$promedio), col = 3, pch = 19)"
   ]
  },
  {
   "cell_type": "markdown",
   "id": "e840b256",
   "metadata": {},
   "source": [
    "# ANÁLISIS BIVARIADO: NORMALIDAD Y CORRELACIÓN"
   ]
  },
  {
   "cell_type": "markdown",
   "id": "d49a5e5f",
   "metadata": {},
   "source": [
    "## Comparación bivariada usando histogramas superpuestos"
   ]
  },
  {
   "cell_type": "markdown",
   "id": "6fc796fd",
   "metadata": {},
   "source": [
    "### Evolución de primer año en matemáticas durante los 3 trimestres"
   ]
  },
  {
   "cell_type": "code",
   "execution_count": 162,
   "id": "027742a3",
   "metadata": {
    "scrolled": false,
    "vscode": {
     "languageId": "r"
    }
   },
   "outputs": [
    {
     "name": "stderr",
     "output_type": "stream",
     "text": [
      "Warning message in eval(expr, envir, enclos):\n",
      "\"NAs introduced by coercion\"Warning message in eval(expr, envir, enclos):\n",
      "\"NAs introduced by coercion\"Warning message in eval(expr, envir, enclos):\n",
      "\"NAs introduced by coercion\""
     ]
    },
    {
     "data": {
      "image/png": "[encoded data removed]",
      "text/plain": [
       "Plot with title \"Evolución de primer año en matemáticas durante los 3 trimestres\""
      ]
     },
     "metadata": {},
     "output_type": "display_data"
    }
   ],
   "source": [
    "x <- as.numeric(filter(primaria,anioCursado== \"PRIMERO\" & asignatura==\"MATEMATICA\")$notaPrimerT) # Primer grupo\n",
    "\n",
    "y <- as.numeric(filter(primaria, anioCursado == \"PRIMERO\" & asignatura == \"MATEMATICA\")$notaSegundoT)\n",
    "\n",
    "z <-  as.numeric(filter(primaria, anioCursado== \"PRIMERO\" & asignatura==\"MATEMATICA\")$notaTercerT)\n",
    "\n",
    "rojo <- rgb(0.2,0,0, alpha = 0.3)\n",
    "verde <- rgb(0,0.2,0, alpha = 0.3)\n",
    "azul <- rgb(0,0,0.2, alpha = 0.3)\n",
    "\n",
    "hist(x, col = \"red\", border=\"royalblue\",breaks=c(5,6,7,8,9,10),labels=TRUE,ylim = c(0, 600),density=250,\n",
    "     xlab=\"notas\", ylab=\"frecuencia absoluta\", main=\"Evolución de primer año en matemáticas durante los 3 trimestres\")\n",
    "\n",
    "hist(y, add = TRUE, col = \"green\", density=70,breaks=c(6,7,8,9,10),labels=TRUE,include.lowest=TRUE,right=TRUE, xaxp=c(6,10,1))\n",
    "\n",
    "hist(z, add = TRUE, col = \"blue\", density=5,breaks=c(6,7,8,9,10),labels=TRUE,include.lowest=TRUE,right=TRUE, xaxp=c(6,10,1))\n",
    "\n",
    "mean_x <- mean(x,na.rm=TRUE)        \n",
    "mean_y <- mean(y,na.rm=TRUE) \n",
    "mean_z <- mean(z, na.rm=TRUE)   \n",
    "\n",
    "abline(v = mean_x, col = 'chartreuse3') #verde\n",
    "abline(v = mean_y, col = 'darkslategray') #turquesa oscuro\n",
    "abline(v = mean_z, col = 'hotpink1') #rojo\n",
    "\n",
    "# Agrega una leyenda al histograma\n",
    "legend(\"topright\", legend=c(\"Primer T\", 'promedio 1erT', \"segundo T\",'promedio 2erT', \"Tercer T\", 'promedio 3erT'), col=c(\"red\",'chartreuse3', \"green\",'darkslategray', \"blue\",'hotpink1'), lwd=8, pch=5, text.width=0.95, bg='ivory2')"
   ]
  },
  {
   "cell_type": "code",
   "execution_count": 41,
   "id": "c4721ea5",
   "metadata": {
    "scrolled": false,
    "vscode": {
     "languageId": "r"
    }
   },
   "outputs": [
    {
     "name": "stderr",
     "output_type": "stream",
     "text": [
      "Warning message in eval(expr, envir, enclos):\n",
      "\"NAs introduced by coercion\"Warning message in eval(expr, envir, enclos):\n",
      "\"NAs introduced by coercion\"Warning message in eval(expr, envir, enclos):\n",
      "\"NAs introduced by coercion\""
     ]
    },
    {
     "data": {
      "image/png": "[encoded data removed]",
      "text/plain": [
       "Plot with title \"Evolución de primer año en matemáticas durante los 3 trimestres\""
      ]
     },
     "metadata": {},
     "output_type": "display_data"
    }
   ],
   "source": [
    "#COPIA\n",
    "\n",
    "x <- as.numeric(filter(primaria,anioCursado== \"PRIMERO\" & asignatura==\"MATEMATICA\")$notaPrimerT) # Primer grupo\n",
    "\n",
    "y <- as.numeric(filter(primaria, anioCursado == \"PRIMERO\" & asignatura == \"MATEMATICA\")$notaSegundoT)\n",
    "\n",
    "z <-  as.numeric(filter(primaria, anioCursado== \"PRIMERO\" & asignatura==\"MATEMATICA\")$notaTercerT)\n",
    "\n",
    "rojo <- rgb(0.2,0,0, alpha = 0.3)\n",
    "verde <- rgb(0,0.2,0, alpha = 0.3)\n",
    "azul <- rgb(0,0,0.2, alpha = 0.3)\n",
    "\n",
    "hist(x, col = \"red\", border=\"royalblue\",breaks=c(6,7,8,9,10), xaxt = \"n\", labels=TRUE,include.lowest=TRUE,right=TRUE,\n",
    "     ylim = c(0, 600),density=80,angle=70,\n",
    "     xlab=\"notas\", ylab=\"frecuencia absoluta\",\n",
    "     main=\"Evolución de primer año en matemáticas durante los 3 trimestres\")\n",
    "    axis(1, at = c(6, 7,8,9,10))\n",
    "hist(y, add = TRUE, col = \"green\", density=60,breaks=c(6,7,8,9,10), xaxt = \"n\",labels=TRUE,include.lowest=TRUE,right=TRUE)\n",
    "hist(z, add = TRUE, col = \"blue\", density=40,breaks=c(6,7,8,9,10), xaxt = \"n\",labels=TRUE,include.lowest=TRUE,right=TRUE)\n",
    "\n",
    "mean_x <- mean(x,na.rm=TRUE)     \n",
    "med_x <- median(x,na.rm=TRUE)   \n",
    "mean_y <- mean(y,na.rm=TRUE)     \n",
    "med_y <- median(y,na.rm=TRUE)   \n",
    "abline(v = mean_x, col = 'blue')\n",
    "abline(v = med_x, col = 'red')\n",
    "abline(v = mean_y, col = 'black')\n",
    "abline(v = med_y, col = 'green')\n",
    "# Agrega una leyenda al histograma\n",
    "legend(\"topright\", legend=c(\"Primer T\", \"segundo T\", \"Tercer T\"), col=c(\"red\", \"green\", \"blue\"), lwd=5)"
   ]
  },
  {
   "cell_type": "markdown",
   "id": "039e50ef",
   "metadata": {},
   "source": [
    "### Rendimiento de primer grado en matemática -  turno mañana y tuno tarde NO INCLUIR"
   ]
  },
  {
   "cell_type": "code",
   "execution_count": 42,
   "id": "95bf5303",
   "metadata": {
    "scrolled": true,
    "vscode": {
     "languageId": "r"
    }
   },
   "outputs": [
    {
     "data": {
      "text/html": [
       "8.07002004008016"
      ],
      "text/latex": [
       "8.07002004008016"
      ],
      "text/markdown": [
       "8.07002004008016"
      ],
      "text/plain": [
       "[1] 8.07002"
      ]
     },
     "metadata": {},
     "output_type": "display_data"
    },
    {
     "data": {
      "text/html": [
       "8.13003436426117"
      ],
      "text/latex": [
       "8.13003436426117"
      ],
      "text/markdown": [
       "8.13003436426117"
      ],
      "text/plain": [
       "[1] 8.130034"
      ]
     },
     "metadata": {},
     "output_type": "display_data"
    }
   ],
   "source": [
    "primeroMatMañana <- filter(primaria, anioCursado == \"PRIMERO\" & asignatura ==\"LENGUA\" & turno == \"MAÑANA\")\n",
    "primeroMatTarde <- filter(primaria, anioCursado == \"PRIMERO\" & asignatura == \"LENGUA\" & turno == \"TARDE\")\n",
    "\n",
    "primeroMatMañana <- na.omit(primeroMatMañana)\n",
    "primeroMatTarde <- na.omit(primeroMatTarde)\n",
    "\n",
    "mean(primeroMatMañana$promedio)\n",
    "mean(primeroMatTarde$promedio)"
   ]
  },
  {
   "cell_type": "markdown",
   "id": "f6e4526e",
   "metadata": {},
   "source": [
    "# CORRELACIÓN"
   ]
  },
  {
   "cell_type": "code",
   "execution_count": 43,
   "id": "0d0b40cc",
   "metadata": {
    "vscode": {
     "languageId": "r"
    }
   },
   "outputs": [
    {
     "name": "stdout",
     "output_type": "stream",
     "text": [
      "package 'nortest' successfully unpacked and MD5 sums checked\n",
      "\n",
      "The downloaded binary packages are in\n",
      "\tC:\\Users\\usr\\AppData\\Local\\Temp\\RtmpuiA8jW\\downloaded_packages\n"
     ]
    }
   ],
   "source": [
    "install.packages(\"nortest\")\n",
    "library(nortest)"
   ]
  },
  {
   "cell_type": "markdown",
   "id": "2db3be89",
   "metadata": {},
   "source": [
    "### Correlación entre Lengua e Historia"
   ]
  },
  {
   "cell_type": "code",
   "execution_count": 44,
   "id": "c7d15b17",
   "metadata": {
    "vscode": {
     "languageId": "r"
    }
   },
   "outputs": [
    {
     "name": "stdout",
     "output_type": "stream",
     "text": [
      "package 'PerformanceAnalytics' successfully unpacked and MD5 sums checked\n",
      "\n",
      "The downloaded binary packages are in\n",
      "\tC:\\Users\\usr\\AppData\\Local\\Temp\\RtmpuiA8jW\\downloaded_packages\n"
     ]
    },
    {
     "name": "stderr",
     "output_type": "stream",
     "text": [
      "Warning message:\n",
      "\"package 'PerformanceAnalytics' was built under R version 3.6.3\"Loading required package: xts\n",
      "Loading required package: zoo\n",
      "\n",
      "Attaching package: 'zoo'\n",
      "\n",
      "The following objects are masked from 'package:base':\n",
      "\n",
      "    as.Date, as.Date.numeric\n",
      "\n",
      "Registered S3 method overwritten by 'xts':\n",
      "  method     from\n",
      "  as.zoo.xts zoo \n",
      "\n",
      "Attaching package: 'xts'\n",
      "\n",
      "The following objects are masked from 'package:dplyr':\n",
      "\n",
      "    first, last\n",
      "\n",
      "\n",
      "Attaching package: 'PerformanceAnalytics'\n",
      "\n",
      "The following object is masked from 'package:graphics':\n",
      "\n",
      "    legend\n",
      "\n"
     ]
    }
   ],
   "source": [
    "install.packages(\"PerformanceAnalytics\")\n",
    "library(\"PerformanceAnalytics\")"
   ]
  },
  {
   "cell_type": "code",
   "execution_count": 45,
   "id": "45e57a22",
   "metadata": {
    "vscode": {
     "languageId": "r"
    }
   },
   "outputs": [
    {
     "data": {
      "text/html": [
       "<table>\n",
       "<thead><tr><th scope=col>documento</th><th scope=col>notaLengua</th><th scope=col>notaHistoria</th></tr></thead>\n",
       "<tbody>\n",
       "\t<tr><td>53996334</td><td> 7.33   </td><td> 8.00   </td></tr>\n",
       "\t<tr><td>50886606</td><td> 7.67   </td><td> 8.00   </td></tr>\n",
       "\t<tr><td>55356891</td><td> 9.33   </td><td> 9.00   </td></tr>\n",
       "\t<tr><td>53008612</td><td> 9.00   </td><td> 8.67   </td></tr>\n",
       "\t<tr><td>50878517</td><td>10.00   </td><td>10.00   </td></tr>\n",
       "\t<tr><td>53832951</td><td> 9.67   </td><td> 9.67   </td></tr>\n",
       "</tbody>\n",
       "</table>\n"
      ],
      "text/latex": [
       "\\begin{tabular}{r|lll}\n",
       " documento & notaLengua & notaHistoria\\\\\n",
       "\\hline\n",
       "\t 53996334 &  7.33    &  8.00   \\\\\n",
       "\t 50886606 &  7.67    &  8.00   \\\\\n",
       "\t 55356891 &  9.33    &  9.00   \\\\\n",
       "\t 53008612 &  9.00    &  8.67   \\\\\n",
       "\t 50878517 & 10.00    & 10.00   \\\\\n",
       "\t 53832951 &  9.67    &  9.67   \\\\\n",
       "\\end{tabular}\n"
      ],
      "text/markdown": [
       "\n",
       "| documento | notaLengua | notaHistoria |\n",
       "|---|---|---|\n",
       "| 53996334 |  7.33    |  8.00    |\n",
       "| 50886606 |  7.67    |  8.00    |\n",
       "| 55356891 |  9.33    |  9.00    |\n",
       "| 53008612 |  9.00    |  8.67    |\n",
       "| 50878517 | 10.00    | 10.00    |\n",
       "| 53832951 |  9.67    |  9.67    |\n",
       "\n"
      ],
      "text/plain": [
       "  documento notaLengua notaHistoria\n",
       "1 53996334   7.33       8.00       \n",
       "2 50886606   7.67       8.00       \n",
       "3 55356891   9.33       9.00       \n",
       "4 53008612   9.00       8.67       \n",
       "5 50878517  10.00      10.00       \n",
       "6 53832951   9.67       9.67       "
      ]
     },
     "metadata": {},
     "output_type": "display_data"
    },
    {
     "data": {
      "text/plain": [
       "\n",
       "\tPearson's product-moment correlation\n",
       "\n",
       "data:  lenguaHistoria$notaLengua and lenguaHistoria$notaHistoria\n",
       "t = 111, df = 5560, p-value < 2.2e-16\n",
       "alternative hypothesis: true correlation is not equal to 0\n",
       "95 percent confidence interval:\n",
       " 0.8217350 0.8380873\n",
       "sample estimates:\n",
       "      cor \n",
       "0.8300895 \n"
      ]
     },
     "metadata": {},
     "output_type": "display_data"
    },
    {
     "data": {
      "image/png": "[encoded data removed]",
      "text/plain": [
       "plot without title"
      ]
     },
     "metadata": {},
     "output_type": "display_data"
    }
   ],
   "source": [
    "primaria$documento <- as.character(primaria$documento)\n",
    "\n",
    "lenguaHistoria <- (dplyr::select(filter(primaria,asignatura==\"LENGUA\"),\"documento\",\"promedio\"))%>% inner_join(dplyr::select(filter(primaria,asignatura==\"CIENCIAS SOCIALES\"),\"documento\",\"promedio\"),by=\"documento\")\n",
    "\n",
    "lenguaHistoria<-rename(lenguaHistoria,notaLengua=promedio.x, notaHistoria=promedio.y)\n",
    "head(lenguaHistoria)\n",
    "plot(lenguaHistoria$notaLengua, lenguaHistoria$notaHistoria)\n",
    "\n",
    "cor.test(lenguaHistoria$notaLengua, lenguaHistoria$notaHistoria, method = \"pearson\")\n"
   ]
  },
  {
   "cell_type": "markdown",
   "id": "50a21719",
   "metadata": {},
   "source": [
    "### Correlación entre Matemática y Educación Física"
   ]
  },
  {
   "cell_type": "code",
   "execution_count": 46,
   "id": "b8fd533d",
   "metadata": {
    "vscode": {
     "languageId": "r"
    }
   },
   "outputs": [
    {
     "data": {
      "text/html": [
       "<ol class=list-inline>\n",
       "\t<li>5759</li>\n",
       "\t<li>2</li>\n",
       "</ol>\n"
      ],
      "text/latex": [
       "\\begin{enumerate*}\n",
       "\\item 5759\n",
       "\\item 2\n",
       "\\end{enumerate*}\n"
      ],
      "text/markdown": [
       "1. 5759\n",
       "2. 2\n",
       "\n",
       "\n"
      ],
      "text/plain": [
       "[1] 5759    2"
      ]
     },
     "metadata": {},
     "output_type": "display_data"
    },
    {
     "data": {
      "text/html": [
       "<ol class=list-inline>\n",
       "\t<li>5759</li>\n",
       "\t<li>2</li>\n",
       "</ol>\n"
      ],
      "text/latex": [
       "\\begin{enumerate*}\n",
       "\\item 5759\n",
       "\\item 2\n",
       "\\end{enumerate*}\n"
      ],
      "text/markdown": [
       "1. 5759\n",
       "2. 2\n",
       "\n",
       "\n"
      ],
      "text/plain": [
       "[1] 5759    2"
      ]
     },
     "metadata": {},
     "output_type": "display_data"
    },
    {
     "ename": "ERROR",
     "evalue": "Error in is.data.frame(x): object 'cLengua' not found\n",
     "output_type": "error",
     "traceback": [
      "Error in is.data.frame(x): object 'cLengua' not found\nTraceback:\n",
      "1. cor(cLengua$promedio, cMatematica$promedio, method = \"pearson\")",
      "2. is.data.frame(x)"
     ]
    }
   ],
   "source": [
    "cMatematica <- filter(primaria, asignatura== \"MATEMATICA\")\n",
    "cMatematica <- select(cMatematica, asignatura, promedio)\n",
    "cMatematica <- na.omit(cMatematica)\n",
    "dim(cMatematica)\n",
    "\n",
    "cMatematica <- filter(primaria, asignatura == \"MATEMATICA\")\n",
    "cMatematica <- select(cMatematica, asignatura, promedio)\n",
    "cMatematica <- na.omit(cMatematica)\n",
    "dim(cMatematica)\n",
    "\n",
    "corLengua <- cor(cLengua$promedio, cMatematica$promedio, method = \"pearson\")"
   ]
  },
  {
   "cell_type": "code",
   "execution_count": null,
   "id": "4fd4f3a2",
   "metadata": {
    "vscode": {
     "languageId": "r"
    }
   },
   "outputs": [],
   "source": []
  },
  {
   "cell_type": "code",
   "execution_count": null,
   "id": "8489a4f1",
   "metadata": {
    "vscode": {
     "languageId": "r"
    }
   },
   "outputs": [],
   "source": []
  },
  {
   "cell_type": "code",
   "execution_count": null,
   "id": "ef237efd",
   "metadata": {
    "vscode": {
     "languageId": "r"
    }
   },
   "outputs": [],
   "source": []
  }
 ],
 "metadata": {
  "kernelspec": {
   "display_name": "R",
   "language": "R",
   "name": "ir"
  },
  "language_info": {
   "codemirror_mode": "r",
   "file_extension": ".r",
   "mimetype": "text/x-r-source",
   "name": "R",
   "pygments_lexer": "r",
   "version": "3.6.1"
  }
 },
 "nbformat": 4,
 "nbformat_minor": 5
}
