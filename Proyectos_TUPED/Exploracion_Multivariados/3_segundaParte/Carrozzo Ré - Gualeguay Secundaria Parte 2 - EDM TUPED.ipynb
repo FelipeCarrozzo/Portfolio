{
 "cells": [
  {
   "attachments": {},
   "cell_type": "markdown",
   "metadata": {},
   "source": [
    "# Exploración de Datos Multivariados\n",
    "## Tecnicatura Universitaria en Procesamiento y Explotación de Datos - Facultad de Ingeniería (UNER)\n",
    "### Carrozzo, Felipe - Ré, Lautaro"
   ]
  },
  {
   "attachments": {},
   "cell_type": "markdown",
   "metadata": {},
   "source": [
    "## Parte 2"
   ]
  },
  {
   "attachments": {},
   "cell_type": "markdown",
   "metadata": {},
   "source": [
    "---"
   ]
  },
  {
   "attachments": {},
   "cell_type": "markdown",
   "metadata": {},
   "source": [
    "### Importo librerías utilizadas"
   ]
  },
  {
   "cell_type": "code",
   "execution_count": 213,
   "metadata": {
    "vscode": {
     "languageId": "r"
    }
   },
   "outputs": [],
   "source": [
    "library(readxl)\n",
    "library(ggplot2)\n",
    "library(dplyr)\n",
    "library(pwr)\n",
    "library(lsr)\n",
    "library(stringr)\n",
    "# library(rstatix)\n",
    "# library(dmwr2)\n",
    "library(scatterplot3d)\n",
    "# library(ggally)\n",
    "library(devtools)\n",
    "library(aplpack)\n",
    "# library(hotelling)\n",
    "library(heplots)\n",
    "library(psych)\n",
    "library(factoextra)"
   ]
  },
  {
   "attachments": {},
   "cell_type": "markdown",
   "metadata": {},
   "source": [
    "### Importo los datasets utilizados y ya procesados de la Parte 1 del Trabajo"
   ]
  },
  {
   "cell_type": "code",
   "execution_count": 214,
   "metadata": {
    "vscode": {
     "languageId": "r"
    }
   },
   "outputs": [],
   "source": [
    "# Datasets Principales\n",
    "Primaria3 <- read_excel(\"D:/College/Tecnicatura en Procesamiento y Explotación de Datos/2do Año/1er Cuatrimestre/Exploración de Datos Multivariados/TP2/Datasets/Primaria3.xlsx\")\n",
    "Secundaria3 <- read_excel(\"D:/College/Tecnicatura en Procesamiento y Explotación de Datos/2do Año/1er Cuatrimestre/Exploración de Datos Multivariados/TP2/Datasets/Secundaria3.xlsx\")\n",
    "\n",
    "\n",
    "# Datasets Gualeguay\n",
    "GUALEGUAY_original <- read_excel(\"D:/College/Tecnicatura en Procesamiento y Explotación de Datos/2do Año/1er Cuatrimestre/Exploración de Datos Multivariados/TP2/Datasets/GUALEGUAY_TP2.xlsx\")\n",
    "GUALEGUAY_primaria <- read_excel(\"D:/College/Tecnicatura en Procesamiento y Explotación de Datos/2do Año/1er Cuatrimestre/Exploración de Datos Multivariados/TP2/Datasets/GUALEGUAYprimaria_TP2.xlsx\")\n",
    "GUALEGUAY_secundaria <- read_excel(\"D:/College/Tecnicatura en Procesamiento y Explotación de Datos/2do Año/1er Cuatrimestre/Exploración de Datos Multivariados/TP2/Datasets/GUALEGUAYsecundaria_TP2.xlsx\")"
   ]
  },
  {
   "cell_type": "code",
   "execution_count": 215,
   "metadata": {
    "vscode": {
     "languageId": "r"
    }
   },
   "outputs": [
    {
     "data": {
      "text/html": [
       "<ol class=list-inline>\n",
       "\t<li>'Cue_Anexo'</li>\n",
       "\t<li>'Nivel'</li>\n",
       "\t<li>'Modalidad_Educ_Gral'</li>\n",
       "\t<li>'Cue'</li>\n",
       "\t<li>'Estado'</li>\n",
       "\t<li>'Sector'</li>\n",
       "\t<li>'Departamento'</li>\n",
       "\t<li>'NINA'</li>\n",
       "\t<li>'Cant_Secciones'</li>\n",
       "\t<li>'Tipo_titulo'</li>\n",
       "\t<li>'Primero'</li>\n",
       "\t<li>'Segundo'</li>\n",
       "\t<li>'Tercero'</li>\n",
       "\t<li>'Cuarto'</li>\n",
       "\t<li>'Quinto'</li>\n",
       "\t<li>'Sexto'</li>\n",
       "\t<li>'Septimo'</li>\n",
       "\t<li>'Mat_ciclo_basico'</li>\n",
       "\t<li>'Mat_ciclo_orientado'</li>\n",
       "\t<li>'Matricula_Total'</li>\n",
       "\t<li>'Titulo'</li>\n",
       "</ol>\n"
      ],
      "text/latex": [
       "\\begin{enumerate*}\n",
       "\\item 'Cue\\_Anexo'\n",
       "\\item 'Nivel'\n",
       "\\item 'Modalidad\\_Educ\\_Gral'\n",
       "\\item 'Cue'\n",
       "\\item 'Estado'\n",
       "\\item 'Sector'\n",
       "\\item 'Departamento'\n",
       "\\item 'NINA'\n",
       "\\item 'Cant\\_Secciones'\n",
       "\\item 'Tipo\\_titulo'\n",
       "\\item 'Primero'\n",
       "\\item 'Segundo'\n",
       "\\item 'Tercero'\n",
       "\\item 'Cuarto'\n",
       "\\item 'Quinto'\n",
       "\\item 'Sexto'\n",
       "\\item 'Septimo'\n",
       "\\item 'Mat\\_ciclo\\_basico'\n",
       "\\item 'Mat\\_ciclo\\_orientado'\n",
       "\\item 'Matricula\\_Total'\n",
       "\\item 'Titulo'\n",
       "\\end{enumerate*}\n"
      ],
      "text/markdown": [
       "1. 'Cue_Anexo'\n",
       "2. 'Nivel'\n",
       "3. 'Modalidad_Educ_Gral'\n",
       "4. 'Cue'\n",
       "5. 'Estado'\n",
       "6. 'Sector'\n",
       "7. 'Departamento'\n",
       "8. 'NINA'\n",
       "9. 'Cant_Secciones'\n",
       "10. 'Tipo_titulo'\n",
       "11. 'Primero'\n",
       "12. 'Segundo'\n",
       "13. 'Tercero'\n",
       "14. 'Cuarto'\n",
       "15. 'Quinto'\n",
       "16. 'Sexto'\n",
       "17. 'Septimo'\n",
       "18. 'Mat_ciclo_basico'\n",
       "19. 'Mat_ciclo_orientado'\n",
       "20. 'Matricula_Total'\n",
       "21. 'Titulo'\n",
       "\n",
       "\n"
      ],
      "text/plain": [
       " [1] \"Cue_Anexo\"           \"Nivel\"               \"Modalidad_Educ_Gral\"\n",
       " [4] \"Cue\"                 \"Estado\"              \"Sector\"             \n",
       " [7] \"Departamento\"        \"NINA\"                \"Cant_Secciones\"     \n",
       "[10] \"Tipo_titulo\"         \"Primero\"             \"Segundo\"            \n",
       "[13] \"Tercero\"             \"Cuarto\"              \"Quinto\"             \n",
       "[16] \"Sexto\"               \"Septimo\"             \"Mat_ciclo_basico\"   \n",
       "[19] \"Mat_ciclo_orientado\" \"Matricula_Total\"     \"Titulo\"             "
      ]
     },
     "metadata": {},
     "output_type": "display_data"
    },
    {
     "data": {
      "text/html": [
       "<ol class=list-inline>\n",
       "\t<li>572</li>\n",
       "\t<li>21</li>\n",
       "</ol>\n"
      ],
      "text/latex": [
       "\\begin{enumerate*}\n",
       "\\item 572\n",
       "\\item 21\n",
       "\\end{enumerate*}\n"
      ],
      "text/markdown": [
       "1. 572\n",
       "2. 21\n",
       "\n",
       "\n"
      ],
      "text/plain": [
       "[1] 572  21"
      ]
     },
     "metadata": {},
     "output_type": "display_data"
    },
    {
     "data": {
      "text/html": [
       "<table>\n",
       "<thead><tr><th scope=col>Cue_Anexo</th><th scope=col>Nivel</th><th scope=col>Modalidad_Educ_Gral</th><th scope=col>Cue</th><th scope=col>Estado</th><th scope=col>Sector</th><th scope=col>Departamento</th><th scope=col>NINA</th><th scope=col>Cant_Secciones</th><th scope=col>Tipo_titulo</th><th scope=col>...</th><th scope=col>Segundo</th><th scope=col>Tercero</th><th scope=col>Cuarto</th><th scope=col>Quinto</th><th scope=col>Sexto</th><th scope=col>Septimo</th><th scope=col>Mat_ciclo_basico</th><th scope=col>Mat_ciclo_orientado</th><th scope=col>Matricula_Total</th><th scope=col>Titulo</th></tr></thead>\n",
       "<tbody>\n",
       "\t<tr><td>600003600                                                                           </td><td>Secundaria                                                                          </td><td>Común                                                                               </td><td>6000036                                                                             </td><td>Activo                                                                              </td><td>ESTATAL                                                                             </td><td>NA                                                                                  </td><td>no                                                                                  </td><td>18                                                                                  </td><td>Ciclo básico/ educación secundaria básica                                           </td><td>...                                                                                 </td><td>79                                                                                  </td><td>73                                                                                  </td><td>65                                                                                  </td><td>54                                                                                  </td><td>61                                                                                  </td><td>0                                                                                   </td><td>219                                                                                 </td><td>180                                                                                 </td><td>399                                                                                 </td><td>Bachiller en ciencias sociales y humanidades; Bachiller en economía y administración</td></tr>\n",
       "\t<tr><td>600035000                                                                           </td><td>Secundaria                                                                          </td><td>Común                                                                               </td><td>6000350                                                                             </td><td>Activo                                                                              </td><td>ESTATAL                                                                             </td><td>NA                                                                                  </td><td>no                                                                                  </td><td> 6                                                                                  </td><td>Ciclo básico/ educación secundaria básica                                           </td><td>...                                                                                 </td><td>17                                                                                  </td><td>11                                                                                  </td><td> 9                                                                                  </td><td> 7                                                                                  </td><td> 7                                                                                  </td><td>0                                                                                   </td><td> 44                                                                                 </td><td> 23                                                                                 </td><td> 67                                                                                 </td><td>Bachiller en economía y administración                                              </td></tr>\n",
       "</tbody>\n",
       "</table>\n"
      ],
      "text/latex": [
       "\\begin{tabular}{r|lllllllllllllllllllll}\n",
       " Cue\\_Anexo & Nivel & Modalidad\\_Educ\\_Gral & Cue & Estado & Sector & Departamento & NINA & Cant\\_Secciones & Tipo\\_titulo & ... & Segundo & Tercero & Cuarto & Quinto & Sexto & Septimo & Mat\\_ciclo\\_basico & Mat\\_ciclo\\_orientado & Matricula\\_Total & Titulo\\\\\n",
       "\\hline\n",
       "\t 600003600                                                                            & Secundaria                                                                           & Común                                                                                & 6000036                                                                              & Activo                                                                               & ESTATAL                                                                              & NA                                                                                   & no                                                                                   & 18                                                                                   & Ciclo básico/ educación secundaria básica                                            & ...                                                                                  & 79                                                                                   & 73                                                                                   & 65                                                                                   & 54                                                                                   & 61                                                                                   & 0                                                                                    & 219                                                                                  & 180                                                                                  & 399                                                                                  & Bachiller en ciencias sociales y humanidades; Bachiller en economía y administración\\\\\n",
       "\t 600035000                                                                            & Secundaria                                                                           & Común                                                                                & 6000350                                                                              & Activo                                                                               & ESTATAL                                                                              & NA                                                                                   & no                                                                                   &  6                                                                                   & Ciclo básico/ educación secundaria básica                                            & ...                                                                                  & 17                                                                                   & 11                                                                                   &  9                                                                                   &  7                                                                                   &  7                                                                                   & 0                                                                                    &  44                                                                                  &  23                                                                                  &  67                                                                                  & Bachiller en economía y administración                                              \\\\\n",
       "\\end{tabular}\n"
      ],
      "text/markdown": [
       "\n",
       "| Cue_Anexo | Nivel | Modalidad_Educ_Gral | Cue | Estado | Sector | Departamento | NINA | Cant_Secciones | Tipo_titulo | ... | Segundo | Tercero | Cuarto | Quinto | Sexto | Septimo | Mat_ciclo_basico | Mat_ciclo_orientado | Matricula_Total | Titulo |\n",
       "|---|---|---|---|---|---|---|---|---|---|---|---|---|---|---|---|---|---|---|---|---|\n",
       "| 600003600                                                                            | Secundaria                                                                           | Común                                                                                | 6000036                                                                              | Activo                                                                               | ESTATAL                                                                              | NA                                                                                   | no                                                                                   | 18                                                                                   | Ciclo básico/ educación secundaria básica                                            | ...                                                                                  | 79                                                                                   | 73                                                                                   | 65                                                                                   | 54                                                                                   | 61                                                                                   | 0                                                                                    | 219                                                                                  | 180                                                                                  | 399                                                                                  | Bachiller en ciencias sociales y humanidades; Bachiller en economía y administración |\n",
       "| 600035000                                                                            | Secundaria                                                                           | Común                                                                                | 6000350                                                                              | Activo                                                                               | ESTATAL                                                                              | NA                                                                                   | no                                                                                   |  6                                                                                   | Ciclo básico/ educación secundaria básica                                            | ...                                                                                  | 17                                                                                   | 11                                                                                   |  9                                                                                   |  7                                                                                   |  7                                                                                   | 0                                                                                    |  44                                                                                  |  23                                                                                  |  67                                                                                  | Bachiller en economía y administración                                               |\n",
       "\n"
      ],
      "text/plain": [
       "  Cue_Anexo Nivel      Modalidad_Educ_Gral Cue     Estado Sector  Departamento\n",
       "1 600003600 Secundaria Común               6000036 Activo ESTATAL NA          \n",
       "2 600035000 Secundaria Común               6000350 Activo ESTATAL NA          \n",
       "  NINA Cant_Secciones Tipo_titulo                               ... Segundo\n",
       "1 no   18             Ciclo básico/ educación secundaria básica ... 79     \n",
       "2 no    6             Ciclo básico/ educación secundaria básica ... 17     \n",
       "  Tercero Cuarto Quinto Sexto Septimo Mat_ciclo_basico Mat_ciclo_orientado\n",
       "1 73      65     54     61    0       219              180                \n",
       "2 11       9      7      7    0        44               23                \n",
       "  Matricula_Total\n",
       "1 399            \n",
       "2  67            \n",
       "  Titulo                                                                              \n",
       "1 Bachiller en ciencias sociales y humanidades; Bachiller en economía y administración\n",
       "2 Bachiller en economía y administración                                              "
      ]
     },
     "metadata": {},
     "output_type": "display_data"
    }
   ],
   "source": [
    "# Visualización de \"Secundaria3\"\n",
    "names(Secundaria3)\n",
    "dim(Secundaria3)\n",
    "head(Secundaria3, 2)"
   ]
  },
  {
   "cell_type": "code",
   "execution_count": 216,
   "metadata": {
    "vscode": {
     "languageId": "r"
    }
   },
   "outputs": [
    {
     "data": {
      "text/html": [
       "<ol class=list-inline>\n",
       "\t<li>'CUE'</li>\n",
       "\t<li>'departamento'</li>\n",
       "\t<li>'localidad'</li>\n",
       "\t<li>'codigoPostal'</li>\n",
       "\t<li>'anioLectivo'</li>\n",
       "\t<li>'esPrivada'</li>\n",
       "\t<li>'esMultianio'</li>\n",
       "\t<li>'nivelEnsenanza'</li>\n",
       "\t<li>'modEnsenanza'</li>\n",
       "\t<li>'anioCursado'</li>\n",
       "\t<li>'turno'</li>\n",
       "\t<li>'idAlumno'</li>\n",
       "\t<li>'documento'</li>\n",
       "\t<li>'asignatura'</li>\n",
       "\t<li>'notaPrimerT'</li>\n",
       "\t<li>'notaSegundoT'</li>\n",
       "\t<li>'notaTercerT'</li>\n",
       "\t<li>'promedio'</li>\n",
       "\t<li>'resultado'</li>\n",
       "</ol>\n"
      ],
      "text/latex": [
       "\\begin{enumerate*}\n",
       "\\item 'CUE'\n",
       "\\item 'departamento'\n",
       "\\item 'localidad'\n",
       "\\item 'codigoPostal'\n",
       "\\item 'anioLectivo'\n",
       "\\item 'esPrivada'\n",
       "\\item 'esMultianio'\n",
       "\\item 'nivelEnsenanza'\n",
       "\\item 'modEnsenanza'\n",
       "\\item 'anioCursado'\n",
       "\\item 'turno'\n",
       "\\item 'idAlumno'\n",
       "\\item 'documento'\n",
       "\\item 'asignatura'\n",
       "\\item 'notaPrimerT'\n",
       "\\item 'notaSegundoT'\n",
       "\\item 'notaTercerT'\n",
       "\\item 'promedio'\n",
       "\\item 'resultado'\n",
       "\\end{enumerate*}\n"
      ],
      "text/markdown": [
       "1. 'CUE'\n",
       "2. 'departamento'\n",
       "3. 'localidad'\n",
       "4. 'codigoPostal'\n",
       "5. 'anioLectivo'\n",
       "6. 'esPrivada'\n",
       "7. 'esMultianio'\n",
       "8. 'nivelEnsenanza'\n",
       "9. 'modEnsenanza'\n",
       "10. 'anioCursado'\n",
       "11. 'turno'\n",
       "12. 'idAlumno'\n",
       "13. 'documento'\n",
       "14. 'asignatura'\n",
       "15. 'notaPrimerT'\n",
       "16. 'notaSegundoT'\n",
       "17. 'notaTercerT'\n",
       "18. 'promedio'\n",
       "19. 'resultado'\n",
       "\n",
       "\n"
      ],
      "text/plain": [
       " [1] \"CUE\"            \"departamento\"   \"localidad\"      \"codigoPostal\"  \n",
       " [5] \"anioLectivo\"    \"esPrivada\"      \"esMultianio\"    \"nivelEnsenanza\"\n",
       " [9] \"modEnsenanza\"   \"anioCursado\"    \"turno\"          \"idAlumno\"      \n",
       "[13] \"documento\"      \"asignatura\"     \"notaPrimerT\"    \"notaSegundoT\"  \n",
       "[17] \"notaTercerT\"    \"promedio\"       \"resultado\"     "
      ]
     },
     "metadata": {},
     "output_type": "display_data"
    },
    {
     "data": {
      "text/html": [
       "<ol class=list-inline>\n",
       "\t<li>35888</li>\n",
       "\t<li>19</li>\n",
       "</ol>\n"
      ],
      "text/latex": [
       "\\begin{enumerate*}\n",
       "\\item 35888\n",
       "\\item 19\n",
       "\\end{enumerate*}\n"
      ],
      "text/markdown": [
       "1. 35888\n",
       "2. 19\n",
       "\n",
       "\n"
      ],
      "text/plain": [
       "[1] 35888    19"
      ]
     },
     "metadata": {},
     "output_type": "display_data"
    },
    {
     "data": {
      "text/html": [
       "<table>\n",
       "<thead><tr><th scope=col>CUE</th><th scope=col>departamento</th><th scope=col>localidad</th><th scope=col>codigoPostal</th><th scope=col>anioLectivo</th><th scope=col>esPrivada</th><th scope=col>esMultianio</th><th scope=col>nivelEnsenanza</th><th scope=col>modEnsenanza</th><th scope=col>anioCursado</th><th scope=col>turno</th><th scope=col>idAlumno</th><th scope=col>documento</th><th scope=col>asignatura</th><th scope=col>notaPrimerT</th><th scope=col>notaSegundoT</th><th scope=col>notaTercerT</th><th scope=col>promedio</th><th scope=col>resultado</th></tr></thead>\n",
       "<tbody>\n",
       "\t<tr><td>6005352   </td><td>GUALEGUAY </td><td>GUALEGUAY </td><td>3190      </td><td>2022      </td><td>N         </td><td>N         </td><td>SECUNDARIO</td><td>Comun     </td><td>PRIMERO   </td><td>TARDE     </td><td>1000114   </td><td>50072015  </td><td>LENGUA    </td><td>9         </td><td>9         </td><td>9         </td><td>9         </td><td>Aprobado  </td></tr>\n",
       "\t<tr><td>6005352   </td><td>GUALEGUAY </td><td>GUALEGUAY </td><td>3190      </td><td>2022      </td><td>N         </td><td>N         </td><td>SECUNDARIO</td><td>Comun     </td><td>CUARTO    </td><td>TARDE     </td><td>1000116   </td><td>47526536  </td><td>BIOLOGIA  </td><td>7         </td><td>8         </td><td>9         </td><td>8         </td><td>Aprobado  </td></tr>\n",
       "</tbody>\n",
       "</table>\n"
      ],
      "text/latex": [
       "\\begin{tabular}{r|lllllllllllllllllll}\n",
       " CUE & departamento & localidad & codigoPostal & anioLectivo & esPrivada & esMultianio & nivelEnsenanza & modEnsenanza & anioCursado & turno & idAlumno & documento & asignatura & notaPrimerT & notaSegundoT & notaTercerT & promedio & resultado\\\\\n",
       "\\hline\n",
       "\t 6005352    & GUALEGUAY  & GUALEGUAY  & 3190       & 2022       & N          & N          & SECUNDARIO & Comun      & PRIMERO    & TARDE      & 1000114    & 50072015   & LENGUA     & 9          & 9          & 9          & 9          & Aprobado  \\\\\n",
       "\t 6005352    & GUALEGUAY  & GUALEGUAY  & 3190       & 2022       & N          & N          & SECUNDARIO & Comun      & CUARTO     & TARDE      & 1000116    & 47526536   & BIOLOGIA   & 7          & 8          & 9          & 8          & Aprobado  \\\\\n",
       "\\end{tabular}\n"
      ],
      "text/markdown": [
       "\n",
       "| CUE | departamento | localidad | codigoPostal | anioLectivo | esPrivada | esMultianio | nivelEnsenanza | modEnsenanza | anioCursado | turno | idAlumno | documento | asignatura | notaPrimerT | notaSegundoT | notaTercerT | promedio | resultado |\n",
       "|---|---|---|---|---|---|---|---|---|---|---|---|---|---|---|---|---|---|---|\n",
       "| 6005352    | GUALEGUAY  | GUALEGUAY  | 3190       | 2022       | N          | N          | SECUNDARIO | Comun      | PRIMERO    | TARDE      | 1000114    | 50072015   | LENGUA     | 9          | 9          | 9          | 9          | Aprobado   |\n",
       "| 6005352    | GUALEGUAY  | GUALEGUAY  | 3190       | 2022       | N          | N          | SECUNDARIO | Comun      | CUARTO     | TARDE      | 1000116    | 47526536   | BIOLOGIA   | 7          | 8          | 9          | 8          | Aprobado   |\n",
       "\n"
      ],
      "text/plain": [
       "  CUE     departamento localidad codigoPostal anioLectivo esPrivada esMultianio\n",
       "1 6005352 GUALEGUAY    GUALEGUAY 3190         2022        N         N          \n",
       "2 6005352 GUALEGUAY    GUALEGUAY 3190         2022        N         N          \n",
       "  nivelEnsenanza modEnsenanza anioCursado turno idAlumno documento asignatura\n",
       "1 SECUNDARIO     Comun        PRIMERO     TARDE 1000114  50072015  LENGUA    \n",
       "2 SECUNDARIO     Comun        CUARTO      TARDE 1000116  47526536  BIOLOGIA  \n",
       "  notaPrimerT notaSegundoT notaTercerT promedio resultado\n",
       "1 9           9            9           9        Aprobado \n",
       "2 7           8            9           8        Aprobado "
      ]
     },
     "metadata": {},
     "output_type": "display_data"
    }
   ],
   "source": [
    "# Visualización de \"GUALEGUAY_secundaria\"\n",
    "names(GUALEGUAY_secundaria)\n",
    "dim(GUALEGUAY_secundaria)\n",
    "head(GUALEGUAY_secundaria, 2)"
   ]
  },
  {
   "attachments": {},
   "cell_type": "markdown",
   "metadata": {},
   "source": [
    "---"
   ]
  },
  {
   "attachments": {},
   "cell_type": "markdown",
   "metadata": {},
   "source": [
    "## Guía 6"
   ]
  },
  {
   "attachments": {},
   "cell_type": "markdown",
   "metadata": {},
   "source": [
    "Filtro los registros para trabajar solamente con el departamento de Gualeguay"
   ]
  },
  {
   "cell_type": "code",
   "execution_count": 217,
   "metadata": {
    "vscode": {
     "languageId": "r"
    }
   },
   "outputs": [],
   "source": [
    "Secundaria3_GUALEGUAY <- filter(Secundaria3, Departamento == 'GUALEGUAY')"
   ]
  },
  {
   "attachments": {},
   "cell_type": "markdown",
   "metadata": {},
   "source": [
    "1) Analizo si la matrícula del ciclo básico difiere significativamente de la del ciclo orientado en el departamento de Gualeguay."
   ]
  },
  {
   "cell_type": "code",
   "execution_count": 218,
   "metadata": {
    "vscode": {
     "languageId": "r"
    }
   },
   "outputs": [
    {
     "name": "stdout",
     "output_type": "stream",
     "text": [
      "'data.frame':\t34 obs. of  2 variables:\n",
      " $ matricula_ciclo_basico   : num  54 227 260 377 148 15 22 49 67 233 ...\n",
      " $ matricula_ciclo_orientado: num  74 131 253 273 123 21 22 32 58 181 ...\n"
     ]
    }
   ],
   "source": [
    "# Guardo las columnas de las matrículas de ambos ciclos\n",
    "matricula_ciclo_basico <- (Secundaria3_GUALEGUAY$Mat_ciclo_basico)\n",
    "matricula_ciclo_orientado <- (Secundaria3_GUALEGUAY$Mat_ciclo_orientado)\n",
    "\n",
    "matriculas_ambos_ciclos <- data.frame(matricula_ciclo_basico, matricula_ciclo_orientado)\n",
    "str(matriculas_ambos_ciclos)"
   ]
  },
  {
   "attachments": {},
   "cell_type": "markdown",
   "metadata": {},
   "source": [
    "Muestro las medias y medianas de ambos ciclos en una tabla para revisar si ve alguna varianza significativa."
   ]
  },
  {
   "cell_type": "code",
   "execution_count": 219,
   "metadata": {
    "vscode": {
     "languageId": "r"
    }
   },
   "outputs": [
    {
     "data": {
      "text/html": [
       "<table>\n",
       "<thead><tr><th></th><th scope=col>matricula_ciclo_basico</th><th scope=col>matricula_ciclo_orientado</th></tr></thead>\n",
       "<tbody>\n",
       "\t<tr><th scope=row>media</th><td>122.85</td><td>102.53</td></tr>\n",
       "\t<tr><th scope=row>mediana</th><td> 88.50</td><td> 87.00</td></tr>\n",
       "</tbody>\n",
       "</table>\n"
      ],
      "text/latex": [
       "\\begin{tabular}{r|ll}\n",
       "  & matricula\\_ciclo\\_basico & matricula\\_ciclo\\_orientado\\\\\n",
       "\\hline\n",
       "\tmedia & 122.85 & 102.53\\\\\n",
       "\tmediana &  88.50 &  87.00\\\\\n",
       "\\end{tabular}\n"
      ],
      "text/markdown": [
       "\n",
       "| <!--/--> | matricula_ciclo_basico | matricula_ciclo_orientado |\n",
       "|---|---|---|\n",
       "| media | 122.85 | 102.53 |\n",
       "| mediana |  88.50 |  87.00 |\n",
       "\n"
      ],
      "text/plain": [
       "        matricula_ciclo_basico matricula_ciclo_orientado\n",
       "media   122.85                 102.53                   \n",
       "mediana  88.50                  87.00                   "
      ]
     },
     "metadata": {},
     "output_type": "display_data"
    }
   ],
   "source": [
    "t(data.frame(\"media\"=round(apply(matriculas_ambos_ciclos, 2, mean),2),\"mediana\"=round(apply(matriculas_ambos_ciclos, 2, median),2)))"
   ]
  },
  {
   "attachments": {},
   "cell_type": "markdown",
   "metadata": {},
   "source": [
    "Realizo shapiro test para comprobar normalidad de los vectores"
   ]
  },
  {
   "cell_type": "code",
   "execution_count": 220,
   "metadata": {
    "vscode": {
     "languageId": "r"
    }
   },
   "outputs": [
    {
     "data": {
      "text/plain": [
       "\n",
       "\tShapiro-Wilk normality test\n",
       "\n",
       "data:  matricula_ciclo_basico\n",
       "W = 0.86781, p-value = 0.0007187\n"
      ]
     },
     "metadata": {},
     "output_type": "display_data"
    },
    {
     "data": {
      "text/plain": [
       "\n",
       "\tShapiro-Wilk normality test\n",
       "\n",
       "data:  matricula_ciclo_orientado\n",
       "W = 0.90588, p-value = 0.006584\n"
      ]
     },
     "metadata": {},
     "output_type": "display_data"
    }
   ],
   "source": [
    "shapiro.test(matricula_ciclo_basico)\n",
    "shapiro.test(matricula_ciclo_orientado)"
   ]
  },
  {
   "attachments": {},
   "cell_type": "markdown",
   "metadata": {},
   "source": [
    "Se rechaza normalidad para ambos vectores, ya que tienen un p-value menor a '0.05'."
   ]
  },
  {
   "attachments": {},
   "cell_type": "markdown",
   "metadata": {},
   "source": [
    "Procedo a realizar un Test de Wilcoxon"
   ]
  },
  {
   "cell_type": "code",
   "execution_count": 221,
   "metadata": {
    "vscode": {
     "languageId": "r"
    }
   },
   "outputs": [
    {
     "name": "stderr",
     "output_type": "stream",
     "text": [
      "Warning message in wilcox.test.default(x = matricula_ciclo_basico, y = matricula_ciclo_orientado, :\n",
      "\"cannot compute exact p-value with ties\""
     ]
    },
    {
     "data": {
      "text/plain": [
       "\n",
       "\tWilcoxon rank sum test\n",
       "\n",
       "data:  matricula_ciclo_basico and matricula_ciclo_orientado\n",
       "W = 639, p-value = 0.4543\n",
       "alternative hypothesis: true location shift is not equal to 0\n"
      ]
     },
     "metadata": {},
     "output_type": "display_data"
    }
   ],
   "source": [
    "wilcox.test(x = matricula_ciclo_basico,\n",
    "            y = matricula_ciclo_orientado,\n",
    "            alternative = \"two.sided\",\n",
    "            paired = FALSE,\n",
    "            correct = FALSE\n",
    ")"
   ]
  },
  {
   "attachments": {},
   "cell_type": "markdown",
   "metadata": {},
   "source": [
    "El p-value es mayor a '0.05' por lo que podemos afirmar que las matriculas no difieren significativamente."
   ]
  },
  {
   "attachments": {},
   "cell_type": "markdown",
   "metadata": {},
   "source": [
    "---"
   ]
  },
  {
   "attachments": {},
   "cell_type": "markdown",
   "metadata": {},
   "source": [
    "2) Contrasta si la matrícula del departamento asignado es similar en los diferentes años del nivel."
   ]
  },
  {
   "attachments": {},
   "cell_type": "markdown",
   "metadata": {},
   "source": [
    "a) Explora los datos de la muestra mediante gráficos y descriptivos. ¿Observamos diferencias en los valores promedios y de variabilidad por grupos?"
   ]
  },
  {
   "cell_type": "code",
   "execution_count": 222,
   "metadata": {
    "vscode": {
     "languageId": "r"
    }
   },
   "outputs": [
    {
     "name": "stderr",
     "output_type": "stream",
     "text": [
      "Warning message:\n",
      "\"Continuous x aesthetic -- did you forget aes(group=...)?\""
     ]
    },
    {
     "data": {
      "image/png": "[encoded data removed]",
      "text/plain": [
       "plot without title"
      ]
     },
     "metadata": {},
     "output_type": "display_data"
    },
    {
     "data": {
      "image/png": "[encoded data removed]",
      "text/plain": [
       "plot without title"
      ]
     },
     "metadata": {},
     "output_type": "display_data"
    }
   ],
   "source": [
    "boxplot(Secundaria3_GUALEGUAY$Primero, Secundaria3_GUALEGUAY$Segundo, Secundaria3_GUALEGUAY$Tercero)\n",
    "\n",
    "\n",
    "Secundaria3Trimestres_GUALEGUAY <- data.frame(\n",
    "        Trimestre=c(Secundaria3_GUALEGUAY$Primero, Secundaria3_GUALEGUAY$Segundo, Secundaria3_GUALEGUAY$Tercero),\n",
    "        Notas=c(as.numeric(Secundaria3_GUALEGUAY$Primero), as.numeric(Secundaria3_GUALEGUAY$Segundo), as.numeric(Secundaria3_GUALEGUAY$Tercero)))\n",
    "\n",
    "g2 <- ggplot(Secundaria3Trimestres_GUALEGUAY, aes(Trimestre, Notas))\n",
    "g2 + geom_boxplot(aes(fill = Trimestre))"
   ]
  },
  {
   "attachments": {},
   "cell_type": "markdown",
   "metadata": {},
   "source": [
    "---"
   ]
  },
  {
   "attachments": {},
   "cell_type": "markdown",
   "metadata": {},
   "source": [
    "## Guía 7 - Análisis Bivariado Cualitativo"
   ]
  },
  {
   "attachments": {},
   "cell_type": "markdown",
   "metadata": {},
   "source": [
    "1) Creo y modifico variables.  \n",
    "a. Modifico la variable \"resultado\" para que contemple que para aprobar la materia, además de tener el promedio, se necesita aprobar el Tercer Trimestre con una nota mayor o igual a 6."
   ]
  },
  {
   "cell_type": "code",
   "execution_count": 223,
   "metadata": {
    "vscode": {
     "languageId": "r"
    }
   },
   "outputs": [
    {
     "data": {
      "text/plain": [
       " Aprobado Rinde Sin registro completo\n",
       "                                     \n",
       "    22954 12281                   653"
      ]
     },
     "metadata": {},
     "output_type": "display_data"
    }
   ],
   "source": [
    "# Modifico variable \"resultado\" que depende de cuál caso se cumple en la variable \"promedio\"\n",
    "GUALEGUAY_secundaria <- GUALEGUAY_secundaria %>% mutate(resultado = case_when(\n",
    "    promedio >= 6 & notaTercerT >= 6 ~ \"Aprobado\",\n",
    "    promedio < 6 | notaTercerT < 6 ~ \"Rinde\",\n",
    "    TRUE ~ \"Sin registro completo\"))\n",
    "\n",
    "\n",
    "ftable(GUALEGUAY_secundaria$resultado)"
   ]
  },
  {
   "attachments": {},
   "cell_type": "markdown",
   "metadata": {},
   "source": [
    "b. Creo la variable “desempeño”, esta variable clasifica las notas obtenidas."
   ]
  },
  {
   "cell_type": "code",
   "execution_count": 224,
   "metadata": {
    "vscode": {
     "languageId": "r"
    }
   },
   "outputs": [
    {
     "data": {
      "text/plain": [
       " Aprobado Bueno Distinguido Insuficiente Muy bueno Regular Sin registro completo\n",
       "                                                                                \n",
       "     7360  7392        6564          276      8086    5483                   727"
      ]
     },
     "metadata": {},
     "output_type": "display_data"
    }
   ],
   "source": [
    "# Creo variable \"desempeño\" que depende de cuál caso se cumple en la variable \"promedio\"\n",
    "GUALEGUAY_secundaria <- GUALEGUAY_secundaria %>% mutate(desempenio = case_when(\n",
    "    promedio < 4 ~ \"Insuficiente\",\n",
    "    promedio >= 4 & promedio < 6 ~ \"Regular\",\n",
    "    promedio >= 6 & promedio < 7 ~ \"Aprobado\",\n",
    "    promedio >= 7 & promedio < 8 ~ \"Bueno\",\n",
    "    promedio >= 8 & promedio < 9 ~ \"Muy bueno\",\n",
    "    promedio >= 9 & promedio <= 10 ~ \"Distinguido\",\n",
    "    TRUE ~ \"Sin registro completo\")\n",
    "    )\n",
    "\n",
    "\n",
    "ftable(GUALEGUAY_secundaria$desempenio)"
   ]
  },
  {
   "attachments": {},
   "cell_type": "markdown",
   "metadata": {},
   "source": [
    "c. Creo la Variable “eximido”, esta variable mide si un estudiante no se llevó ninguna materia, se llevó entre 1 y 3 materias, se llevó más de tres materias."
   ]
  },
  {
   "cell_type": "code",
   "execution_count": 225,
   "metadata": {
    "vscode": {
     "languageId": "r"
    }
   },
   "outputs": [
    {
     "data": {
      "text/plain": [
       " Eximido No Eximido Parcialmente Eximido\n",
       "                                        \n",
       "    6917      18648                10323"
      ]
     },
     "metadata": {},
     "output_type": "display_data"
    }
   ],
   "source": [
    "# Creo variable \"eximido\"\n",
    "GUALEGUAY_secundaria <- GUALEGUAY_secundaria %>% \n",
    "  group_by(documento) %>%\n",
    "  mutate(asignaturasDesaprobadas = sum(str_detect(resultado, regex(\"Rinde\", ignore_case = TRUE))))\n",
    "\n",
    "GUALEGUAY_secundaria <- GUALEGUAY_secundaria %>% mutate(eximido = case_when(\n",
    "  asignaturasDesaprobadas == 0 ~ \"Eximido\",\n",
    "  asignaturasDesaprobadas >= 1 & asignaturasDesaprobadas <= 3 ~ \"Parcialmente Eximido\",\n",
    "  asignaturasDesaprobadas >= 4  ~ \"No Eximido\",\n",
    "  TRUE ~ \"sin registro completo\"\n",
    "))\n",
    "\n",
    "# Elimino la variable auxiliar \"asignaturasDesaprobadas\", ya que solamente la usamos para crear la variable \"eximido\"\n",
    "GUALEGUAY_secundaria <- subset(GUALEGUAY_secundaria, select = -asignaturasDesaprobadas)\n",
    "\n",
    "ftable(GUALEGUAY_secundaria$eximido)"
   ]
  },
  {
   "attachments": {},
   "cell_type": "markdown",
   "metadata": {},
   "source": [
    "d. Creamos la variable \"orientación\" para expandir nuestro análisis.  \n",
    "Esta variable determinará la orientación ideal del alumno para una carrera universitaria, en base a su mejor rendimiento en las materias troncales en los años cursados del nivel superior."
   ]
  },
  {
   "cell_type": "code",
   "execution_count": 226,
   "metadata": {
    "vscode": {
     "languageId": "r"
    }
   },
   "outputs": [
    {
     "data": {
      "text/plain": [
       " BIOLOGIA EDUCACION FISICA FISICA FISICA Y QUIMICA GEOGRAFIA HISTORIA INGLES LENGUA MATEMATICA QUIMICA\n",
       "                                                                                                      \n",
       "     4560             5962    860             2040      5909     5729    243   3745       5898     942"
      ]
     },
     "metadata": {},
     "output_type": "display_data"
    }
   ],
   "source": [
    "ftable(GUALEGUAY_secundaria$asignatura)"
   ]
  },
  {
   "attachments": {},
   "cell_type": "markdown",
   "metadata": {},
   "source": [
    "Primero realizo un filtrado de asignaturas, donde creo dataframes de cada una, y luego realizo un promedio de sus notas."
   ]
  },
  {
   "cell_type": "code",
   "execution_count": 227,
   "metadata": {
    "vscode": {
     "languageId": "r"
    }
   },
   "outputs": [
    {
     "name": "stdout",
     "output_type": "stream",
     "text": [
      "[1] \"DataFrame Orientación 'CS. Naturales'\"\n"
     ]
    },
    {
     "data": {
      "text/plain": [
       " BIOLOGIA FISICA FISICA Y QUIMICA QUIMICA\n",
       "                                         \n",
       "     4560    860             2040     942"
      ]
     },
     "metadata": {},
     "output_type": "display_data"
    },
    {
     "name": "stdout",
     "output_type": "stream",
     "text": [
      "[1] \"DataFrame Orientación 'CS. Sociales'\"\n"
     ]
    },
    {
     "data": {
      "text/plain": [
       " GEOGRAFIA HISTORIA\n",
       "                   \n",
       "      5909     5729"
      ]
     },
     "metadata": {},
     "output_type": "display_data"
    },
    {
     "name": "stdout",
     "output_type": "stream",
     "text": [
      "[1] \"DataFrame Orientación 'Letras'\"\n"
     ]
    },
    {
     "data": {
      "text/plain": [
       " LENGUA\n",
       "       \n",
       "   3745"
      ]
     },
     "metadata": {},
     "output_type": "display_data"
    },
    {
     "name": "stdout",
     "output_type": "stream",
     "text": [
      "[1] \"DataFrame Orientación 'Lenguas Extranjeras'\"\n"
     ]
    },
    {
     "data": {
      "text/plain": [
       " INGLES\n",
       "       \n",
       "    243"
      ]
     },
     "metadata": {},
     "output_type": "display_data"
    }
   ],
   "source": [
    "# Creo un dataframe con las asignaturas deseadas para la orientación CS Naturales\n",
    "CSNaturales_asignaturas <- c(\"BIOLOGIA\", \"FISICA\", \"FISICA Y QUIMICA\", \"QUIMICA\")\n",
    "\n",
    "GUALEGUAY_secundaria_CSNaturales <- filter(GUALEGUAY_secundaria, asignatura %in% CSNaturales_asignaturas)\n",
    "print(\"DataFrame Orientación 'CS. Naturales'\")\n",
    "ftable(GUALEGUAY_secundaria_CSNaturales$asignatura)\n",
    "\n",
    "\n",
    "# Creo un dataframe con las asignaturas deseadas para la orientación CS Sociales\n",
    "CSSociales_asignaturas <- c(\"GEOGRAFIA\", \"HISTORIA\")\n",
    "\n",
    "GUALEGUAY_secundaria_CSSociales <- filter(GUALEGUAY_secundaria, asignatura %in% CSSociales_asignaturas)\n",
    "print(\"DataFrame Orientación 'CS. Sociales'\")\n",
    "ftable(GUALEGUAY_secundaria_CSSociales$asignatura)\n",
    "\n",
    "\n",
    "# Creo un dataframe con las asignaturas deseadas para la orientación Letras\n",
    "Letras_asignaturas <- c(\"LENGUA\")\n",
    "\n",
    "GUALEGUAY_secundaria_Letras <- filter(GUALEGUAY_secundaria, asignatura %in% Letras_asignaturas)\n",
    "print(\"DataFrame Orientación 'Letras'\")\n",
    "ftable(GUALEGUAY_secundaria_Letras$asignatura)\n",
    "\n",
    "\n",
    "# Creo un dataframe con las asignaturas deseadas para la orientación Lenguas Extranjeras\n",
    "LenguasExtranjeras_asignaturas <- c(\"INGLES\")\n",
    "\n",
    "GUALEGUAY_secundaria_LenguasExtranjeras <- filter(GUALEGUAY_secundaria, asignatura %in% LenguasExtranjeras_asignaturas)\n",
    "print(\"DataFrame Orientación 'Lenguas Extranjeras'\")\n",
    "ftable(GUALEGUAY_secundaria_LenguasExtranjeras$asignatura)"
   ]
  },
  {
   "attachments": {},
   "cell_type": "markdown",
   "metadata": {},
   "source": [
    "Creo las medidas de resumen de cada orientación, para luego determinar cuál sería la ideal para el alumno."
   ]
  },
  {
   "cell_type": "code",
   "execution_count": 228,
   "metadata": {
    "vscode": {
     "languageId": "r"
    }
   },
   "outputs": [],
   "source": [
    "# Calculo los valores de CS Naturales\n",
    "GUALEGUAY_secundaria_CSNaturales_medidas <- \n",
    "    data.frame(\n",
    "        orientacion=\"CS NATURALES\",\n",
    "        media=round(mean(GUALEGUAY_secundaria_CSNaturales$promedio, na.rm = TRUE), 2),\n",
    "        varianza=round(var(GUALEGUAY_secundaria_CSNaturales$promedio, na.rm = TRUE), 2),\n",
    "        desvio=round(sd(GUALEGUAY_secundaria_CSNaturales$promedio, na.rm = TRUE), 2),\n",
    "        Minimo=min(GUALEGUAY_secundaria_CSNaturales$promedio, na.rm = TRUE),\n",
    "        Maximo=max(GUALEGUAY_secundaria_CSNaturales$promedio, na.rm = TRUE)\n",
    "    )\n",
    "\n",
    "\n",
    "# Calculo los valores de CS Sociales\n",
    "GUALEGUAY_secundaria_CSSociales_medidas <- \n",
    "    data.frame(\n",
    "        orientacion=\"CS SOCIALES\",\n",
    "        media=round(mean(GUALEGUAY_secundaria_CSSociales$promedio, na.rm = TRUE), 2),\n",
    "        varianza=round(var(GUALEGUAY_secundaria_CSSociales$promedio, na.rm = TRUE), 2),\n",
    "        desvio=round(sd(GUALEGUAY_secundaria_CSSociales$promedio, na.rm = TRUE), 2),\n",
    "        Minimo=min(GUALEGUAY_secundaria_CSSociales$promedio, na.rm = TRUE),\n",
    "        Maximo=max(GUALEGUAY_secundaria_CSSociales$promedio, na.rm = TRUE)\n",
    "    )\n",
    "\n",
    "\n",
    "# Calculo los valores de Letras\n",
    "GUALEGUAY_secundaria_Letras_medidas <- \n",
    "    data.frame(\n",
    "        orientacion=\"LETRAS\",\n",
    "        media=round(mean(GUALEGUAY_secundaria_Letras$promedio, na.rm = TRUE), 2),\n",
    "        varianza=round(var(GUALEGUAY_secundaria_Letras$promedio, na.rm = TRUE), 2),\n",
    "        desvio=round(sd(GUALEGUAY_secundaria_Letras$promedio, na.rm = TRUE), 2),\n",
    "        Minimo=min(GUALEGUAY_secundaria_Letras$promedio, na.rm = TRUE),\n",
    "        Maximo=max(GUALEGUAY_secundaria_Letras$promedio, na.rm = TRUE)\n",
    "    )\n",
    "\n",
    "\n",
    "# Calculo los valores de Lenguas Extranjeras\n",
    "GUALEGUAY_secundaria_LenguasExtranjeras_medidas <- \n",
    "    data.frame(\n",
    "        orientacion=\"LENGUAS EXTRANJERAS\",\n",
    "        media=round(mean(GUALEGUAY_secundaria_LenguasExtranjeras$promedio, na.rm = TRUE), 2),\n",
    "        varianza=round(var(GUALEGUAY_secundaria_LenguasExtranjeras$promedio, na.rm = TRUE), 2),\n",
    "        desvio=round(sd(GUALEGUAY_secundaria_LenguasExtranjeras$promedio, na.rm = TRUE), 2),\n",
    "        Minimo=min(GUALEGUAY_secundaria_LenguasExtranjeras$promedio, na.rm = TRUE),\n",
    "        Maximo=max(GUALEGUAY_secundaria_LenguasExtranjeras$promedio, na.rm = TRUE)\n",
    "    )"
   ]
  },
  {
   "attachments": {},
   "cell_type": "markdown",
   "metadata": {},
   "source": [
    "Agrupo los DataFrames de cada orientación en uno solo, y muestro sus valores de Medida.  \n",
    "Con esto analizamos cuál es la orientación ideal del alumno, en base a sus mejores promedios."
   ]
  },
  {
   "cell_type": "code",
   "execution_count": 229,
   "metadata": {
    "vscode": {
     "languageId": "r"
    }
   },
   "outputs": [
    {
     "name": "stdout",
     "output_type": "stream",
     "text": [
      "[1] \"Promedios de los alumnos de Gualeguay en cada Orientación \"\n"
     ]
    },
    {
     "data": {
      "text/html": [
       "<table>\n",
       "<thead><tr><th scope=col>orientacion</th><th scope=col>media</th><th scope=col>varianza</th><th scope=col>desvio</th><th scope=col>Minimo</th><th scope=col>Maximo</th></tr></thead>\n",
       "<tbody>\n",
       "\t<tr><td>CS NATURALES       </td><td>7.08               </td><td>2.33               </td><td>1.53               </td><td>2.00               </td><td>10                 </td></tr>\n",
       "\t<tr><td>CS SOCIALES        </td><td>7.42               </td><td>2.11               </td><td>1.45               </td><td>2.00               </td><td>10                 </td></tr>\n",
       "\t<tr><td>LETRAS             </td><td>7.03               </td><td>2.18               </td><td>1.48               </td><td>2.33               </td><td>10                 </td></tr>\n",
       "\t<tr><td>LENGUAS EXTRANJERAS</td><td>6.96               </td><td>2.69               </td><td>1.64               </td><td>4.00               </td><td>10                 </td></tr>\n",
       "</tbody>\n",
       "</table>\n"
      ],
      "text/latex": [
       "\\begin{tabular}{r|llllll}\n",
       " orientacion & media & varianza & desvio & Minimo & Maximo\\\\\n",
       "\\hline\n",
       "\t CS NATURALES        & 7.08                & 2.33                & 1.53                & 2.00                & 10                 \\\\\n",
       "\t CS SOCIALES         & 7.42                & 2.11                & 1.45                & 2.00                & 10                 \\\\\n",
       "\t LETRAS              & 7.03                & 2.18                & 1.48                & 2.33                & 10                 \\\\\n",
       "\t LENGUAS EXTRANJERAS & 6.96                & 2.69                & 1.64                & 4.00                & 10                 \\\\\n",
       "\\end{tabular}\n"
      ],
      "text/markdown": [
       "\n",
       "| orientacion | media | varianza | desvio | Minimo | Maximo |\n",
       "|---|---|---|---|---|---|\n",
       "| CS NATURALES        | 7.08                | 2.33                | 1.53                | 2.00                | 10                  |\n",
       "| CS SOCIALES         | 7.42                | 2.11                | 1.45                | 2.00                | 10                  |\n",
       "| LETRAS              | 7.03                | 2.18                | 1.48                | 2.33                | 10                  |\n",
       "| LENGUAS EXTRANJERAS | 6.96                | 2.69                | 1.64                | 4.00                | 10                  |\n",
       "\n"
      ],
      "text/plain": [
       "  orientacion         media varianza desvio Minimo Maximo\n",
       "1 CS NATURALES        7.08  2.33     1.53   2.00   10    \n",
       "2 CS SOCIALES         7.42  2.11     1.45   2.00   10    \n",
       "3 LETRAS              7.03  2.18     1.48   2.33   10    \n",
       "4 LENGUAS EXTRANJERAS 6.96  2.69     1.64   4.00   10    "
      ]
     },
     "metadata": {},
     "output_type": "display_data"
    }
   ],
   "source": [
    "# Combino los dataframes en uno solo\n",
    "GUALEGUAY_secundaria_OrientacionesYPromedios <- rbind(\n",
    "  GUALEGUAY_secundaria_CSNaturales_medidas,\n",
    "  GUALEGUAY_secundaria_CSSociales_medidas,\n",
    "  GUALEGUAY_secundaria_Letras_medidas,\n",
    "  GUALEGUAY_secundaria_LenguasExtranjeras_medidas\n",
    ")\n",
    "print(\"Promedios de los alumnos de Gualeguay en cada Orientación \")\n",
    "head(GUALEGUAY_secundaria_OrientacionesYPromedios)"
   ]
  },
  {
   "attachments": {},
   "cell_type": "markdown",
   "metadata": {},
   "source": [
    "Luego de todo este análisis, agregamos la variable \"orientacionRecomendada\", al DataFrame principal.  \n",
    "Para crear esta variable, primero creamos una variable para cada promedio de las orientaciones."
   ]
  },
  {
   "cell_type": "code",
   "execution_count": 233,
   "metadata": {
    "vscode": {
     "languageId": "r"
    }
   },
   "outputs": [
    {
     "data": {
      "text/html": [
       "<table>\n",
       "<thead><tr><th scope=col>CUE</th><th scope=col>departamento</th><th scope=col>localidad</th><th scope=col>codigoPostal</th><th scope=col>anioLectivo</th><th scope=col>esPrivada</th><th scope=col>esMultianio</th><th scope=col>nivelEnsenanza</th><th scope=col>modEnsenanza</th><th scope=col>anioCursado</th><th scope=col>...</th><th scope=col>notaTercerT</th><th scope=col>promedio</th><th scope=col>resultado</th><th scope=col>desempenio</th><th scope=col>eximido</th><th scope=col>promedioCSNaturales</th><th scope=col>promedioCSSociales</th><th scope=col>promedioLetras</th><th scope=col>promedioLenguasExtranjeras</th><th scope=col>orientacionRecomendada</th></tr></thead>\n",
       "<tbody>\n",
       "\t<tr><td>6005352             </td><td>GUALEGUAY           </td><td>GUALEGUAY           </td><td>3190                </td><td>2022                </td><td>N                   </td><td>N                   </td><td>SECUNDARIO          </td><td>Comun               </td><td>PRIMERO             </td><td>...                 </td><td>9                   </td><td>9.00                </td><td>Aprobado            </td><td>Distinguido         </td><td>Eximido             </td><td>0.00                </td><td>0.00                </td><td>9.00                </td><td>0                   </td><td>No definida         </td></tr>\n",
       "\t<tr><td>6005352             </td><td>GUALEGUAY           </td><td>GUALEGUAY           </td><td>3190                </td><td>2022                </td><td>N                   </td><td>N                   </td><td>SECUNDARIO          </td><td>Comun               </td><td>CUARTO              </td><td>...                 </td><td>9                   </td><td>8.00                </td><td>Aprobado            </td><td>Muy bueno           </td><td>Parcialmente Eximido</td><td>5.89                </td><td>6.83                </td><td>8.33                </td><td>0                   </td><td>No definida         </td></tr>\n",
       "\t<tr><td>6005352             </td><td>GUALEGUAY           </td><td>GUALEGUAY           </td><td>3190                </td><td>2022                </td><td>N                   </td><td>N                   </td><td>SECUNDARIO          </td><td>Comun               </td><td>CUARTO              </td><td>...                 </td><td>8                   </td><td>8.67                </td><td>Aprobado            </td><td>Muy bueno           </td><td>Parcialmente Eximido</td><td>5.89                </td><td>6.83                </td><td>8.33                </td><td>0                   </td><td>No definida         </td></tr>\n",
       "\t<tr><td>6005352             </td><td>GUALEGUAY           </td><td>GUALEGUAY           </td><td>3190                </td><td>2022                </td><td>N                   </td><td>N                   </td><td>SECUNDARIO          </td><td>Comun               </td><td>CUARTO              </td><td>...                 </td><td>3                   </td><td>3.67                </td><td>Rinde               </td><td>Insuficiente        </td><td>Parcialmente Eximido</td><td>5.89                </td><td>6.83                </td><td>8.33                </td><td>0                   </td><td>No definida         </td></tr>\n",
       "\t<tr><td>6005352             </td><td>GUALEGUAY           </td><td>GUALEGUAY           </td><td>3190                </td><td>2022                </td><td>N                   </td><td>N                   </td><td>SECUNDARIO          </td><td>Comun               </td><td>CUARTO              </td><td>...                 </td><td>5                   </td><td>5.33                </td><td>Rinde               </td><td>Regular             </td><td>Parcialmente Eximido</td><td>5.89                </td><td>6.83                </td><td>8.33                </td><td>0                   </td><td>No definida         </td></tr>\n",
       "</tbody>\n",
       "</table>\n"
      ],
      "text/latex": [
       "\\begin{tabular}{r|llllllllllllllllllllllllll}\n",
       " CUE & departamento & localidad & codigoPostal & anioLectivo & esPrivada & esMultianio & nivelEnsenanza & modEnsenanza & anioCursado & ... & notaTercerT & promedio & resultado & desempenio & eximido & promedioCSNaturales & promedioCSSociales & promedioLetras & promedioLenguasExtranjeras & orientacionRecomendada\\\\\n",
       "\\hline\n",
       "\t 6005352              & GUALEGUAY            & GUALEGUAY            & 3190                 & 2022                 & N                    & N                    & SECUNDARIO           & Comun                & PRIMERO              & ...                  & 9                    & 9.00                 & Aprobado             & Distinguido          & Eximido              & 0.00                 & 0.00                 & 9.00                 & 0                    & No definida         \\\\\n",
       "\t 6005352              & GUALEGUAY            & GUALEGUAY            & 3190                 & 2022                 & N                    & N                    & SECUNDARIO           & Comun                & CUARTO               & ...                  & 9                    & 8.00                 & Aprobado             & Muy bueno            & Parcialmente Eximido & 5.89                 & 6.83                 & 8.33                 & 0                    & No definida         \\\\\n",
       "\t 6005352              & GUALEGUAY            & GUALEGUAY            & 3190                 & 2022                 & N                    & N                    & SECUNDARIO           & Comun                & CUARTO               & ...                  & 8                    & 8.67                 & Aprobado             & Muy bueno            & Parcialmente Eximido & 5.89                 & 6.83                 & 8.33                 & 0                    & No definida         \\\\\n",
       "\t 6005352              & GUALEGUAY            & GUALEGUAY            & 3190                 & 2022                 & N                    & N                    & SECUNDARIO           & Comun                & CUARTO               & ...                  & 3                    & 3.67                 & Rinde                & Insuficiente         & Parcialmente Eximido & 5.89                 & 6.83                 & 8.33                 & 0                    & No definida         \\\\\n",
       "\t 6005352              & GUALEGUAY            & GUALEGUAY            & 3190                 & 2022                 & N                    & N                    & SECUNDARIO           & Comun                & CUARTO               & ...                  & 5                    & 5.33                 & Rinde                & Regular              & Parcialmente Eximido & 5.89                 & 6.83                 & 8.33                 & 0                    & No definida         \\\\\n",
       "\\end{tabular}\n"
      ],
      "text/markdown": [
       "\n",
       "| CUE | departamento | localidad | codigoPostal | anioLectivo | esPrivada | esMultianio | nivelEnsenanza | modEnsenanza | anioCursado | ... | notaTercerT | promedio | resultado | desempenio | eximido | promedioCSNaturales | promedioCSSociales | promedioLetras | promedioLenguasExtranjeras | orientacionRecomendada |\n",
       "|---|---|---|---|---|---|---|---|---|---|---|---|---|---|---|---|---|---|---|---|---|\n",
       "| 6005352              | GUALEGUAY            | GUALEGUAY            | 3190                 | 2022                 | N                    | N                    | SECUNDARIO           | Comun                | PRIMERO              | ...                  | 9                    | 9.00                 | Aprobado             | Distinguido          | Eximido              | 0.00                 | 0.00                 | 9.00                 | 0                    | No definida          |\n",
       "| 6005352              | GUALEGUAY            | GUALEGUAY            | 3190                 | 2022                 | N                    | N                    | SECUNDARIO           | Comun                | CUARTO               | ...                  | 9                    | 8.00                 | Aprobado             | Muy bueno            | Parcialmente Eximido | 5.89                 | 6.83                 | 8.33                 | 0                    | No definida          |\n",
       "| 6005352              | GUALEGUAY            | GUALEGUAY            | 3190                 | 2022                 | N                    | N                    | SECUNDARIO           | Comun                | CUARTO               | ...                  | 8                    | 8.67                 | Aprobado             | Muy bueno            | Parcialmente Eximido | 5.89                 | 6.83                 | 8.33                 | 0                    | No definida          |\n",
       "| 6005352              | GUALEGUAY            | GUALEGUAY            | 3190                 | 2022                 | N                    | N                    | SECUNDARIO           | Comun                | CUARTO               | ...                  | 3                    | 3.67                 | Rinde                | Insuficiente         | Parcialmente Eximido | 5.89                 | 6.83                 | 8.33                 | 0                    | No definida          |\n",
       "| 6005352              | GUALEGUAY            | GUALEGUAY            | 3190                 | 2022                 | N                    | N                    | SECUNDARIO           | Comun                | CUARTO               | ...                  | 5                    | 5.33                 | Rinde                | Regular              | Parcialmente Eximido | 5.89                 | 6.83                 | 8.33                 | 0                    | No definida          |\n",
       "\n"
      ],
      "text/plain": [
       "  CUE     departamento localidad codigoPostal anioLectivo esPrivada esMultianio\n",
       "1 6005352 GUALEGUAY    GUALEGUAY 3190         2022        N         N          \n",
       "2 6005352 GUALEGUAY    GUALEGUAY 3190         2022        N         N          \n",
       "3 6005352 GUALEGUAY    GUALEGUAY 3190         2022        N         N          \n",
       "4 6005352 GUALEGUAY    GUALEGUAY 3190         2022        N         N          \n",
       "5 6005352 GUALEGUAY    GUALEGUAY 3190         2022        N         N          \n",
       "  nivelEnsenanza modEnsenanza anioCursado ... notaTercerT promedio resultado\n",
       "1 SECUNDARIO     Comun        PRIMERO     ... 9           9.00     Aprobado \n",
       "2 SECUNDARIO     Comun        CUARTO      ... 9           8.00     Aprobado \n",
       "3 SECUNDARIO     Comun        CUARTO      ... 8           8.67     Aprobado \n",
       "4 SECUNDARIO     Comun        CUARTO      ... 3           3.67     Rinde    \n",
       "5 SECUNDARIO     Comun        CUARTO      ... 5           5.33     Rinde    \n",
       "  desempenio   eximido              promedioCSNaturales promedioCSSociales\n",
       "1 Distinguido  Eximido              0.00                0.00              \n",
       "2 Muy bueno    Parcialmente Eximido 5.89                6.83              \n",
       "3 Muy bueno    Parcialmente Eximido 5.89                6.83              \n",
       "4 Insuficiente Parcialmente Eximido 5.89                6.83              \n",
       "5 Regular      Parcialmente Eximido 5.89                6.83              \n",
       "  promedioLetras promedioLenguasExtranjeras orientacionRecomendada\n",
       "1 9.00           0                          No definida           \n",
       "2 8.33           0                          No definida           \n",
       "3 8.33           0                          No definida           \n",
       "4 8.33           0                          No definida           \n",
       "5 8.33           0                          No definida           "
      ]
     },
     "metadata": {},
     "output_type": "display_data"
    },
    {
     "name": "stdout",
     "output_type": "stream",
     "text": [
      "[1] \"Promedio 'CS Naturales'\"\n"
     ]
    },
    {
     "data": {
      "text/plain": [
       "    0    2    3 3.34 3.42  3.5 3.66 3.67 3.83 3.84    4 4.17 4.22 4.33 4.34 4.39 4.44  4.5 4.55 4.56 4.58 4.61 4.66 4.67 4.72 4.78 4.83 4.84 4.89 4.92    5 5.06 5.11 5.17 5.22 5.24 5.25 5.28 5.33 5.34 5.36 5.39 5.41 5.42 5.43 5.44 5.45 5.48 5.49  5.5 5.55 5.56 5.58 5.61 5.66 5.67 5.72 5.75 5.78 5.83 5.84 5.85 5.89 5.92 5.94 5.98    6 6.05 6.06 6.11 6.15 6.17 6.18 6.21 6.22 6.24 6.26 6.27 6.28  6.3 6.33 6.34 6.36 6.37 6.39  6.4 6.42 6.44 6.45 6.49  6.5 6.52 6.55 6.56 6.61 6.66 6.67  6.7 6.72 6.73 6.78 6.79 6.82 6.83 6.84 6.85 6.89 6.91 6.92 6.95    7 7.03 7.05 7.06 7.08 7.09  7.1 7.11 7.17  7.2 7.21 7.22 7.24 7.27 7.28  7.3 7.33 7.34 7.39 7.42 7.44 7.45 7.48 7.49  7.5 7.52 7.53 7.55 7.56 7.57 7.58 7.61 7.64 7.66 7.67 7.69 7.72 7.74 7.78 7.79 7.82 7.83 7.84 7.89 7.91 7.92 7.94 7.95 7.96    8 8.03 8.05 8.06 8.09 8.11 8.16 8.17 8.18 8.21 8.22 8.24 8.27 8.28 8.33 8.34 8.36 8.42 8.44 8.45 8.48  8.5 8.51 8.54 8.55 8.56 8.58 8.66 8.67  8.7 8.72 8.73 8.76 8.78 8.79 8.82 8.83 8.84 8.85 8.89 8.91 8.95 8.97    9 9.05 9.06 9.09 9.11 9.12 9.15 9.16 9.17 9.18 9.22 9.24 9.28 9.33 9.34 9.36 9.39 9.44 9.45  9.5 9.55 9.56 9.58 9.61 9.66 9.67  9.7 9.78 9.84   10\n",
       "                                                                                                                                                                                                                                                                                                                                                                                                                                                                                                                                                                                                                                                                                                                                                                                                                                                                                                                                                                                                                                                                                                                                                                                                        \n",
       " 6894   24    4    5   28    7   54   13   42    7   83  231   20  150   56   26   32  116   24   44   84   26   88  127   26  108   54  145  105   36  418   63  156  253   47   83   78   26  357  134  128   26   83   28   54  187   91  101   48  452   42   72  126   49  290  399   26   56  125   49  139   83  138   41   48   83  804   78   26  172   56  531   48   48  123   48   20   96   69   98  648  425   56   38  138   38   56  160  159   48  599   48   64   93   23  358  522   48   49   48  198   48   42  280  330   95  282   39   42   46  818   48   23   48   11   48   47  158  539   47  167  295   48   48   45   48  405  309   71   55  112  151   48   42  460   96   25   65   95   48   59   48   96  311  506   42   78   83  110   48   96  138  318   99   48   11   74   22   83  694   48   26   71   48   97  356  167   48   48  112   48   96   66  317  225   48   84   66  100   48  394   48   48   87   24   27  227  400   48   40  132   96   64   48   42   85  275   48  120   48   49   96  555   52   42  138   70   90   90  239  107   48  124   48   49  325  129   90   23   48   78  176    8    9   48   48  164  141   96   58  159  212"
      ]
     },
     "metadata": {},
     "output_type": "display_data"
    },
    {
     "name": "stdout",
     "output_type": "stream",
     "text": [
      "[1] \"Promedio 'CS Sociales'\"\n"
     ]
    },
    {
     "data": {
      "text/plain": [
       "    0    2 2.33 2.66 2.67    3 3.17 3.22 3.28 3.33  3.5 3.66 3.67 3.75    4 4.08 4.17 4.33 4.34  4.5 4.58 4.66 4.67 4.72 4.83 4.84 4.92 4.96    5 5.08 5.17 5.25 5.33 5.34 5.42  5.5 5.51 5.57 5.58 5.59  5.6 5.66 5.67 5.72 5.73 5.75 5.79  5.8 5.83 5.84 5.89 5.92 5.93 5.94 5.95    6 6.08 6.11 6.13 6.17 6.18  6.2 6.22 6.25 6.28 6.31 6.33 6.34 6.39 6.42 6.44 6.45  6.5 6.51 6.53 6.54 6.55 6.56 6.58  6.6 6.61 6.62 6.66 6.67 6.69 6.72 6.75 6.78 6.79  6.8 6.82 6.83 6.84 6.89 6.92 6.94    7 7.06 7.08 7.11 7.17 7.22 7.23 7.25 7.27 7.28  7.3 7.33 7.34 7.41 7.42 7.44 7.45  7.5 7.53 7.55 7.56 7.58 7.61 7.64 7.66 7.67 7.72 7.73 7.75 7.78 7.79  7.8 7.81 7.83 7.84 7.87 7.89 7.92 7.94 7.95    8 8.03 8.06 8.08 8.11 8.12 8.13 8.16 8.17 8.21 8.22 8.25 8.26 8.27 8.28 8.29 8.31 8.33 8.34 8.36 8.37 8.38 8.39 8.42 8.44 8.45 8.47  8.5 8.53 8.55 8.56 8.58 8.59 8.61 8.66 8.67 8.69 8.72 8.73 8.75 8.78 8.79  8.8 8.83 8.84 8.87 8.89 8.92 8.94 8.95    9 9.04 9.06 9.07 9.08 9.09 9.11 9.12 9.14 9.16 9.17  9.2 9.22 9.25 9.27 9.28 9.33 9.34 9.37 9.39  9.4 9.42 9.44 9.45 9.46 9.47  9.5 9.54 9.56 9.58 9.66 9.67 9.75 9.84 9.92 9.93   10\n",
       "                                                                                                                                                                                                                                                                                                                                                                                                                                                                                                                                                                                                                                                                                                                                                                                                                                                                                                                                                                                                                                                                                                                                                           \n",
       " 1225    2    9    7    4    8   41   63   63   70    7    7    8   28   42   28   43   53   60  151   26  121  101   63   63  137  100   83  421   17  338   28  226  297   41  626   26  128   40   18   10  398  211   37  101   62  112   32  272  286   28   62   32   48   48  997  170  174  101  928   48   10   54  126   48   94  392  544   48  214   38   90  970   26  123   65   71    6  223   20   93  264  415  333   42   85  166   12   38   42   38  360  549  203  127   95 1196   48   56   49 1126  139   38   89   22   54   38  538  399   18   99   37   85  936   10   92   80  198   96   48  437  374  122   10  182  133   65   94   42  426  441   65  108  150   37   80  899   42  170  183   54   65   75  335  248  103   60  205   58   10   86   65   42  421  417   42   38   65   86  102  127    3  124  631   38   42  138   60   36  134  323  507   42  181   20  174   69   38   10  366  406   20  165  156  104  133  627   18   48   10  211   26  135   65   38  344  241   20   69  166   10  138  385  246   18   96   10   65  128   48   65   10  488   65   12   26  113  360   23  158   26   10  195"
      ]
     },
     "metadata": {},
     "output_type": "display_data"
    },
    {
     "name": "stdout",
     "output_type": "stream",
     "text": [
      "[1] \"Promedio 'Letras'\"\n"
     ]
    },
    {
     "data": {
      "text/plain": [
       "    0    3 3.33 3.34  3.5 3.67 3.84    4 4.11 4.22 4.33  4.5 4.66 4.67 4.83 4.84    5 5.17 5.22 5.33 5.34  5.5 5.66 5.67 5.72 5.78 5.83 5.84 5.89 5.92    6 6.17 6.22 6.33 6.44  6.5 6.66 6.67 6.78 6.83 6.84    7 7.17 7.33 7.34  7.5 7.67 7.83 7.84 7.89    8 8.16 8.33 8.34 8.44  8.5 8.66 8.67 8.84    9 9.16 9.33 9.34  9.5 9.67   10\n",
       "                                                                                                                                                                                                                                                                                                                                          \n",
       " 1754   15   98   28   28   51   28  190  126  126  204    9   13  541   59   33  982  203  119 1217   42  107   26 1363   42   56   26   68   63  206 2893   83   53 2126   63  215   50 2368  119   71   79 2431  120 2078   26  182 2002   52   71   56 2367   80 2398   26   56  104   26 2377  109 2367   83 1392    5   98 1171  268"
      ]
     },
     "metadata": {},
     "output_type": "display_data"
    },
    {
     "name": "stdout",
     "output_type": "stream",
     "text": [
      "[1] \"Promedio 'Lenguas Extranjeras'\"\n"
     ]
    },
    {
     "data": {
      "text/plain": [
       "     0     4  4.17  4.33  4.67     5  5.17  5.33  5.67     6  6.17  6.33  6.66  6.67     7  7.33  7.67     8  8.33  8.67     9  9.33  9.67    10\n",
       "                                                                                                                                                \n",
       " 33983    42     7    17    50   114    81    95    77   204    13   116    13    85   102   109   131   182    52   114   112    17    82    90"
      ]
     },
     "metadata": {},
     "output_type": "display_data"
    }
   ],
   "source": [
    "# Guardo el promedio de cada orientación por alumno\n",
    "GUALEGUAY_secundaria <- GUALEGUAY_secundaria %>% \n",
    "  group_by(documento) %>%\n",
    "    mutate(\n",
    "      promedioCSNaturales = round(mean(promedio[asignatura %in% CSNaturales_asignaturas], na.rm = TRUE), 2),\n",
    "      promedioCSSociales = round(mean(promedio[asignatura %in% CSSociales_asignaturas], na.rm = TRUE), 2),\n",
    "      promedioLetras = round(mean(promedio[asignatura %in% Letras_asignaturas], na.rm = TRUE), 2),\n",
    "      promedioLenguasExtranjeras = round(mean(promedio[asignatura %in% LenguasExtranjeras_asignaturas], na.rm = TRUE), 2)\n",
    "    )\n",
    "\n",
    "# Si el valor es \"NaN\", le asigno un 0\n",
    "GUALEGUAY_secundaria <- GUALEGUAY_secundaria %>%\n",
    "  group_by(documento) %>%\n",
    "  mutate(\n",
    "    promedioCSNaturales = round(ifelse(is.nan(promedioCSNaturales), 0, promedioCSNaturales), 2),\n",
    "    promedioCSSociales = round(ifelse(is.nan(promedioCSSociales), 0, promedioCSSociales), 2),\n",
    "    promedioLetras = round(ifelse(is.nan(promedioLetras), 0, promedioLetras), 2),\n",
    "    promedioLenguasExtranjeras = round(ifelse(is.nan(promedioLenguasExtranjeras), 0, promedioLenguasExtranjeras), 2)\n",
    "  )\n",
    "\n",
    "\n",
    "head(GUALEGUAY_secundaria, 5)\n",
    "\n",
    "# Compruebo que sean valores distintos los promedios para cada alumno\n",
    "print(\"Promedio 'CS Naturales'\")\n",
    "ftable(GUALEGUAY_secundaria$promedioCSNaturales)\n",
    "\n",
    "print(\"Promedio 'CS Sociales'\")\n",
    "ftable(GUALEGUAY_secundaria$promedioCSSociales)\n",
    "\n",
    "print(\"Promedio 'Letras'\")\n",
    "ftable(GUALEGUAY_secundaria$promedioLetras)\n",
    "\n",
    "print(\"Promedio 'Lenguas Extranjeras'\")\n",
    "ftable(GUALEGUAY_secundaria$promedioLenguasExtranjeras)"
   ]
  },
  {
   "attachments": {},
   "cell_type": "markdown",
   "metadata": {},
   "source": [
    "Comprobamos cuál es el promedio mas alto del alumno, y guardamos la orientación en la que se destacó, dentro de la variable \"orientacionRecomendada\""
   ]
  },
  {
   "cell_type": "code",
   "execution_count": 237,
   "metadata": {
    "vscode": {
     "languageId": "r"
    }
   },
   "outputs": [
    {
     "data": {
      "text/html": [
       "<table>\n",
       "<thead><tr><th scope=col>CUE</th><th scope=col>departamento</th><th scope=col>localidad</th><th scope=col>codigoPostal</th><th scope=col>anioLectivo</th><th scope=col>esPrivada</th><th scope=col>esMultianio</th><th scope=col>nivelEnsenanza</th><th scope=col>modEnsenanza</th><th scope=col>anioCursado</th><th scope=col>...</th><th scope=col>documento</th><th scope=col>asignatura</th><th scope=col>notaPrimerT</th><th scope=col>notaSegundoT</th><th scope=col>notaTercerT</th><th scope=col>promedio</th><th scope=col>resultado</th><th scope=col>desempenio</th><th scope=col>eximido</th><th scope=col>orientacionRecomendada</th></tr></thead>\n",
       "<tbody>\n",
       "\t<tr><td>6005352             </td><td>GUALEGUAY           </td><td>GUALEGUAY           </td><td>3190                </td><td>2022                </td><td>N                   </td><td>N                   </td><td>SECUNDARIO          </td><td>Comun               </td><td>PRIMERO             </td><td>...                 </td><td>50072015            </td><td>LENGUA              </td><td>9                   </td><td>9                   </td><td>9                   </td><td>9.00                </td><td>Aprobado            </td><td>Distinguido         </td><td>Eximido             </td><td>LETRAS              </td></tr>\n",
       "\t<tr><td>6005352             </td><td>GUALEGUAY           </td><td>GUALEGUAY           </td><td>3190                </td><td>2022                </td><td>N                   </td><td>N                   </td><td>SECUNDARIO          </td><td>Comun               </td><td>CUARTO              </td><td>...                 </td><td>47526536            </td><td>BIOLOGIA            </td><td>7                   </td><td>8                   </td><td>9                   </td><td>8.00                </td><td>Aprobado            </td><td>Muy bueno           </td><td>Parcialmente Eximido</td><td>LETRAS              </td></tr>\n",
       "\t<tr><td>6005352             </td><td>GUALEGUAY           </td><td>GUALEGUAY           </td><td>3190                </td><td>2022                </td><td>N                   </td><td>N                   </td><td>SECUNDARIO          </td><td>Comun               </td><td>CUARTO              </td><td>...                 </td><td>47526536            </td><td>EDUCACION FISICA    </td><td>9                   </td><td>9                   </td><td>8                   </td><td>8.67                </td><td>Aprobado            </td><td>Muy bueno           </td><td>Parcialmente Eximido</td><td>LETRAS              </td></tr>\n",
       "\t<tr><td>6005352             </td><td>GUALEGUAY           </td><td>GUALEGUAY           </td><td>3190                </td><td>2022                </td><td>N                   </td><td>N                   </td><td>SECUNDARIO          </td><td>Comun               </td><td>CUARTO              </td><td>...                 </td><td>47526536            </td><td>FISICA              </td><td>4                   </td><td>4                   </td><td>3                   </td><td>3.67                </td><td>Rinde               </td><td>Insuficiente        </td><td>Parcialmente Eximido</td><td>LETRAS              </td></tr>\n",
       "\t<tr><td>6005352             </td><td>GUALEGUAY           </td><td>GUALEGUAY           </td><td>3190                </td><td>2022                </td><td>N                   </td><td>N                   </td><td>SECUNDARIO          </td><td>Comun               </td><td>CUARTO              </td><td>...                 </td><td>47526536            </td><td>GEOGRAFIA           </td><td>6                   </td><td>5                   </td><td>5                   </td><td>5.33                </td><td>Rinde               </td><td>Regular             </td><td>Parcialmente Eximido</td><td>LETRAS              </td></tr>\n",
       "\t<tr><td>6005352             </td><td>GUALEGUAY           </td><td>GUALEGUAY           </td><td>3190                </td><td>2022                </td><td>N                   </td><td>N                   </td><td>SECUNDARIO          </td><td>Comun               </td><td>CUARTO              </td><td>...                 </td><td>47526536            </td><td>HISTORIA            </td><td>9                   </td><td>7                   </td><td>9                   </td><td>8.33                </td><td>Aprobado            </td><td>Muy bueno           </td><td>Parcialmente Eximido</td><td>LETRAS              </td></tr>\n",
       "</tbody>\n",
       "</table>\n"
      ],
      "text/latex": [
       "\\begin{tabular}{r|llllllllllllllllllllll}\n",
       " CUE & departamento & localidad & codigoPostal & anioLectivo & esPrivada & esMultianio & nivelEnsenanza & modEnsenanza & anioCursado & ... & documento & asignatura & notaPrimerT & notaSegundoT & notaTercerT & promedio & resultado & desempenio & eximido & orientacionRecomendada\\\\\n",
       "\\hline\n",
       "\t 6005352              & GUALEGUAY            & GUALEGUAY            & 3190                 & 2022                 & N                    & N                    & SECUNDARIO           & Comun                & PRIMERO              & ...                  & 50072015             & LENGUA               & 9                    & 9                    & 9                    & 9.00                 & Aprobado             & Distinguido          & Eximido              & LETRAS              \\\\\n",
       "\t 6005352              & GUALEGUAY            & GUALEGUAY            & 3190                 & 2022                 & N                    & N                    & SECUNDARIO           & Comun                & CUARTO               & ...                  & 47526536             & BIOLOGIA             & 7                    & 8                    & 9                    & 8.00                 & Aprobado             & Muy bueno            & Parcialmente Eximido & LETRAS              \\\\\n",
       "\t 6005352              & GUALEGUAY            & GUALEGUAY            & 3190                 & 2022                 & N                    & N                    & SECUNDARIO           & Comun                & CUARTO               & ...                  & 47526536             & EDUCACION FISICA     & 9                    & 9                    & 8                    & 8.67                 & Aprobado             & Muy bueno            & Parcialmente Eximido & LETRAS              \\\\\n",
       "\t 6005352              & GUALEGUAY            & GUALEGUAY            & 3190                 & 2022                 & N                    & N                    & SECUNDARIO           & Comun                & CUARTO               & ...                  & 47526536             & FISICA               & 4                    & 4                    & 3                    & 3.67                 & Rinde                & Insuficiente         & Parcialmente Eximido & LETRAS              \\\\\n",
       "\t 6005352              & GUALEGUAY            & GUALEGUAY            & 3190                 & 2022                 & N                    & N                    & SECUNDARIO           & Comun                & CUARTO               & ...                  & 47526536             & GEOGRAFIA            & 6                    & 5                    & 5                    & 5.33                 & Rinde                & Regular              & Parcialmente Eximido & LETRAS              \\\\\n",
       "\t 6005352              & GUALEGUAY            & GUALEGUAY            & 3190                 & 2022                 & N                    & N                    & SECUNDARIO           & Comun                & CUARTO               & ...                  & 47526536             & HISTORIA             & 9                    & 7                    & 9                    & 8.33                 & Aprobado             & Muy bueno            & Parcialmente Eximido & LETRAS              \\\\\n",
       "\\end{tabular}\n"
      ],
      "text/markdown": [
       "\n",
       "| CUE | departamento | localidad | codigoPostal | anioLectivo | esPrivada | esMultianio | nivelEnsenanza | modEnsenanza | anioCursado | ... | documento | asignatura | notaPrimerT | notaSegundoT | notaTercerT | promedio | resultado | desempenio | eximido | orientacionRecomendada |\n",
       "|---|---|---|---|---|---|---|---|---|---|---|---|---|---|---|---|---|---|---|---|---|\n",
       "| 6005352              | GUALEGUAY            | GUALEGUAY            | 3190                 | 2022                 | N                    | N                    | SECUNDARIO           | Comun                | PRIMERO              | ...                  | 50072015             | LENGUA               | 9                    | 9                    | 9                    | 9.00                 | Aprobado             | Distinguido          | Eximido              | LETRAS               |\n",
       "| 6005352              | GUALEGUAY            | GUALEGUAY            | 3190                 | 2022                 | N                    | N                    | SECUNDARIO           | Comun                | CUARTO               | ...                  | 47526536             | BIOLOGIA             | 7                    | 8                    | 9                    | 8.00                 | Aprobado             | Muy bueno            | Parcialmente Eximido | LETRAS               |\n",
       "| 6005352              | GUALEGUAY            | GUALEGUAY            | 3190                 | 2022                 | N                    | N                    | SECUNDARIO           | Comun                | CUARTO               | ...                  | 47526536             | EDUCACION FISICA     | 9                    | 9                    | 8                    | 8.67                 | Aprobado             | Muy bueno            | Parcialmente Eximido | LETRAS               |\n",
       "| 6005352              | GUALEGUAY            | GUALEGUAY            | 3190                 | 2022                 | N                    | N                    | SECUNDARIO           | Comun                | CUARTO               | ...                  | 47526536             | FISICA               | 4                    | 4                    | 3                    | 3.67                 | Rinde                | Insuficiente         | Parcialmente Eximido | LETRAS               |\n",
       "| 6005352              | GUALEGUAY            | GUALEGUAY            | 3190                 | 2022                 | N                    | N                    | SECUNDARIO           | Comun                | CUARTO               | ...                  | 47526536             | GEOGRAFIA            | 6                    | 5                    | 5                    | 5.33                 | Rinde                | Regular              | Parcialmente Eximido | LETRAS               |\n",
       "| 6005352              | GUALEGUAY            | GUALEGUAY            | 3190                 | 2022                 | N                    | N                    | SECUNDARIO           | Comun                | CUARTO               | ...                  | 47526536             | HISTORIA             | 9                    | 7                    | 9                    | 8.33                 | Aprobado             | Muy bueno            | Parcialmente Eximido | LETRAS               |\n",
       "\n"
      ],
      "text/plain": [
       "  CUE     departamento localidad codigoPostal anioLectivo esPrivada esMultianio\n",
       "1 6005352 GUALEGUAY    GUALEGUAY 3190         2022        N         N          \n",
       "2 6005352 GUALEGUAY    GUALEGUAY 3190         2022        N         N          \n",
       "3 6005352 GUALEGUAY    GUALEGUAY 3190         2022        N         N          \n",
       "4 6005352 GUALEGUAY    GUALEGUAY 3190         2022        N         N          \n",
       "5 6005352 GUALEGUAY    GUALEGUAY 3190         2022        N         N          \n",
       "6 6005352 GUALEGUAY    GUALEGUAY 3190         2022        N         N          \n",
       "  nivelEnsenanza modEnsenanza anioCursado ... documento asignatura      \n",
       "1 SECUNDARIO     Comun        PRIMERO     ... 50072015  LENGUA          \n",
       "2 SECUNDARIO     Comun        CUARTO      ... 47526536  BIOLOGIA        \n",
       "3 SECUNDARIO     Comun        CUARTO      ... 47526536  EDUCACION FISICA\n",
       "4 SECUNDARIO     Comun        CUARTO      ... 47526536  FISICA          \n",
       "5 SECUNDARIO     Comun        CUARTO      ... 47526536  GEOGRAFIA       \n",
       "6 SECUNDARIO     Comun        CUARTO      ... 47526536  HISTORIA        \n",
       "  notaPrimerT notaSegundoT notaTercerT promedio resultado desempenio  \n",
       "1 9           9            9           9.00     Aprobado  Distinguido \n",
       "2 7           8            9           8.00     Aprobado  Muy bueno   \n",
       "3 9           9            8           8.67     Aprobado  Muy bueno   \n",
       "4 4           4            3           3.67     Rinde     Insuficiente\n",
       "5 6           5            5           5.33     Rinde     Regular     \n",
       "6 9           7            9           8.33     Aprobado  Muy bueno   \n",
       "  eximido              orientacionRecomendada\n",
       "1 Eximido              LETRAS                \n",
       "2 Parcialmente Eximido LETRAS                \n",
       "3 Parcialmente Eximido LETRAS                \n",
       "4 Parcialmente Eximido LETRAS                \n",
       "5 Parcialmente Eximido LETRAS                \n",
       "6 Parcialmente Eximido LETRAS                "
      ]
     },
     "metadata": {},
     "output_type": "display_data"
    },
    {
     "data": {
      "text/plain": [
       " CS NATURALES CS SOCIALES LENGUAS EXTRANJERAS LETRAS\n",
       "                                                    \n",
       "         9389       14938                 285  11276"
      ]
     },
     "metadata": {},
     "output_type": "display_data"
    }
   ],
   "source": [
    "# Creo varialbe \"orientacionRecomendada\"\n",
    "GUALEGUAY_secundaria <- GUALEGUAY_secundaria %>% \n",
    "  group_by(documento) %>%\n",
    "    mutate(\n",
    "      orientacionRecomendada = case_when(\n",
    "        promedioCSNaturales >= max(promedioCSNaturales, promedioCSSociales, promedioLetras, promedioLenguasExtranjeras) ~ \"CS NATURALES\",\n",
    "        promedioCSSociales >= max(promedioCSNaturales, promedioCSSociales, promedioLetras, promedioLenguasExtranjeras) ~ \"CS SOCIALES\",\n",
    "        promedioLetras >= max(promedioCSNaturales, promedioCSSociales, promedioLetras, promedioLenguasExtranjeras) ~ \"LETRAS\",\n",
    "        promedioLenguasExtranjeras >= max(promedioCSNaturales, promedioCSSociales, promedioLetras, promedioLenguasExtranjeras) ~ \"LENGUAS EXTRANJERAS\",\n",
    "        TRUE ~ \"No definida\"\n",
    "      )\n",
    "    )\n",
    "\n",
    "\n",
    "# Elimino variables auxiliares de los promedios, ya que solamente las usamos para crear la variable \"eximorientacionRecomendadaido\"\n",
    "GUALEGUAY_secundaria <- select(GUALEGUAY_secundaria, -promedioCSNaturales, -promedioCSSociales, -promedioLetras, -promedioLenguasExtranjeras)\n",
    "\n",
    "\n",
    "head(GUALEGUAY_secundaria)\n",
    "ftable(GUALEGUAY_secundaria$orientacionRecomendada)"
   ]
  },
  {
   "attachments": {},
   "cell_type": "markdown",
   "metadata": {},
   "source": [
    "---"
   ]
  },
  {
   "attachments": {},
   "cell_type": "markdown",
   "metadata": {},
   "source": [
    "Estado actual del dataset con las variables nuevas creadas.  \n",
    "Variables modificadas:  \n",
    "    . resultado  \n",
    "  \n",
    "Variables nuevas:  \n",
    "    . desempenio  \n",
    "    . eximido  \n",
    "    . orientacionRecomendada"
   ]
  },
  {
   "cell_type": "code",
   "execution_count": 232,
   "metadata": {
    "vscode": {
     "languageId": "r"
    }
   },
   "outputs": [
    {
     "data": {
      "text/html": [
       "<ol class=list-inline>\n",
       "\t<li>'CUE'</li>\n",
       "\t<li>'departamento'</li>\n",
       "\t<li>'localidad'</li>\n",
       "\t<li>'codigoPostal'</li>\n",
       "\t<li>'anioLectivo'</li>\n",
       "\t<li>'esPrivada'</li>\n",
       "\t<li>'esMultianio'</li>\n",
       "\t<li>'nivelEnsenanza'</li>\n",
       "\t<li>'modEnsenanza'</li>\n",
       "\t<li>'anioCursado'</li>\n",
       "\t<li>'turno'</li>\n",
       "\t<li>'idAlumno'</li>\n",
       "\t<li>'documento'</li>\n",
       "\t<li>'asignatura'</li>\n",
       "\t<li>'notaPrimerT'</li>\n",
       "\t<li>'notaSegundoT'</li>\n",
       "\t<li>'notaTercerT'</li>\n",
       "\t<li>'promedio'</li>\n",
       "\t<li>'resultado'</li>\n",
       "\t<li>'desempenio'</li>\n",
       "\t<li>'eximido'</li>\n",
       "\t<li>'promedioCSNaturales'</li>\n",
       "\t<li>'promedioCSSociales'</li>\n",
       "\t<li>'promedioLetras'</li>\n",
       "\t<li>'promedioLenguasExtranjeras'</li>\n",
       "\t<li>'orientacionRecomendada'</li>\n",
       "</ol>\n"
      ],
      "text/latex": [
       "\\begin{enumerate*}\n",
       "\\item 'CUE'\n",
       "\\item 'departamento'\n",
       "\\item 'localidad'\n",
       "\\item 'codigoPostal'\n",
       "\\item 'anioLectivo'\n",
       "\\item 'esPrivada'\n",
       "\\item 'esMultianio'\n",
       "\\item 'nivelEnsenanza'\n",
       "\\item 'modEnsenanza'\n",
       "\\item 'anioCursado'\n",
       "\\item 'turno'\n",
       "\\item 'idAlumno'\n",
       "\\item 'documento'\n",
       "\\item 'asignatura'\n",
       "\\item 'notaPrimerT'\n",
       "\\item 'notaSegundoT'\n",
       "\\item 'notaTercerT'\n",
       "\\item 'promedio'\n",
       "\\item 'resultado'\n",
       "\\item 'desempenio'\n",
       "\\item 'eximido'\n",
       "\\item 'promedioCSNaturales'\n",
       "\\item 'promedioCSSociales'\n",
       "\\item 'promedioLetras'\n",
       "\\item 'promedioLenguasExtranjeras'\n",
       "\\item 'orientacionRecomendada'\n",
       "\\end{enumerate*}\n"
      ],
      "text/markdown": [
       "1. 'CUE'\n",
       "2. 'departamento'\n",
       "3. 'localidad'\n",
       "4. 'codigoPostal'\n",
       "5. 'anioLectivo'\n",
       "6. 'esPrivada'\n",
       "7. 'esMultianio'\n",
       "8. 'nivelEnsenanza'\n",
       "9. 'modEnsenanza'\n",
       "10. 'anioCursado'\n",
       "11. 'turno'\n",
       "12. 'idAlumno'\n",
       "13. 'documento'\n",
       "14. 'asignatura'\n",
       "15. 'notaPrimerT'\n",
       "16. 'notaSegundoT'\n",
       "17. 'notaTercerT'\n",
       "18. 'promedio'\n",
       "19. 'resultado'\n",
       "20. 'desempenio'\n",
       "21. 'eximido'\n",
       "22. 'promedioCSNaturales'\n",
       "23. 'promedioCSSociales'\n",
       "24. 'promedioLetras'\n",
       "25. 'promedioLenguasExtranjeras'\n",
       "26. 'orientacionRecomendada'\n",
       "\n",
       "\n"
      ],
      "text/plain": [
       " [1] \"CUE\"                        \"departamento\"              \n",
       " [3] \"localidad\"                  \"codigoPostal\"              \n",
       " [5] \"anioLectivo\"                \"esPrivada\"                 \n",
       " [7] \"esMultianio\"                \"nivelEnsenanza\"            \n",
       " [9] \"modEnsenanza\"               \"anioCursado\"               \n",
       "[11] \"turno\"                      \"idAlumno\"                  \n",
       "[13] \"documento\"                  \"asignatura\"                \n",
       "[15] \"notaPrimerT\"                \"notaSegundoT\"              \n",
       "[17] \"notaTercerT\"                \"promedio\"                  \n",
       "[19] \"resultado\"                  \"desempenio\"                \n",
       "[21] \"eximido\"                    \"promedioCSNaturales\"       \n",
       "[23] \"promedioCSSociales\"         \"promedioLetras\"            \n",
       "[25] \"promedioLenguasExtranjeras\" \"orientacionRecomendada\"    "
      ]
     },
     "metadata": {},
     "output_type": "display_data"
    },
    {
     "data": {
      "text/html": [
       "<ol class=list-inline>\n",
       "\t<li>35888</li>\n",
       "\t<li>26</li>\n",
       "</ol>\n"
      ],
      "text/latex": [
       "\\begin{enumerate*}\n",
       "\\item 35888\n",
       "\\item 26\n",
       "\\end{enumerate*}\n"
      ],
      "text/markdown": [
       "1. 35888\n",
       "2. 26\n",
       "\n",
       "\n"
      ],
      "text/plain": [
       "[1] 35888    26"
      ]
     },
     "metadata": {},
     "output_type": "display_data"
    },
    {
     "data": {
      "text/html": [
       "<table>\n",
       "<thead><tr><th scope=col>CUE</th><th scope=col>departamento</th><th scope=col>localidad</th><th scope=col>codigoPostal</th><th scope=col>anioLectivo</th><th scope=col>esPrivada</th><th scope=col>esMultianio</th><th scope=col>nivelEnsenanza</th><th scope=col>modEnsenanza</th><th scope=col>anioCursado</th><th scope=col>...</th><th scope=col>notaTercerT</th><th scope=col>promedio</th><th scope=col>resultado</th><th scope=col>desempenio</th><th scope=col>eximido</th><th scope=col>promedioCSNaturales</th><th scope=col>promedioCSSociales</th><th scope=col>promedioLetras</th><th scope=col>promedioLenguasExtranjeras</th><th scope=col>orientacionRecomendada</th></tr></thead>\n",
       "<tbody>\n",
       "\t<tr><td>6005352             </td><td>GUALEGUAY           </td><td>GUALEGUAY           </td><td>3190                </td><td>2022                </td><td>N                   </td><td>N                   </td><td>SECUNDARIO          </td><td>Comun               </td><td>PRIMERO             </td><td>...                 </td><td>9                   </td><td>9                   </td><td>Aprobado            </td><td>Distinguido         </td><td>Eximido             </td><td> NaN                </td><td> NaN                </td><td>9.00                </td><td>NaN                 </td><td>No definida         </td></tr>\n",
       "\t<tr><td>6005352             </td><td>GUALEGUAY           </td><td>GUALEGUAY           </td><td>3190                </td><td>2022                </td><td>N                   </td><td>N                   </td><td>SECUNDARIO          </td><td>Comun               </td><td>CUARTO              </td><td>...                 </td><td>9                   </td><td>8                   </td><td>Aprobado            </td><td>Muy bueno           </td><td>Parcialmente Eximido</td><td>5.89                </td><td>6.83                </td><td>8.33                </td><td>NaN                 </td><td>No definida         </td></tr>\n",
       "</tbody>\n",
       "</table>\n"
      ],
      "text/latex": [
       "\\begin{tabular}{r|llllllllllllllllllllllllll}\n",
       " CUE & departamento & localidad & codigoPostal & anioLectivo & esPrivada & esMultianio & nivelEnsenanza & modEnsenanza & anioCursado & ... & notaTercerT & promedio & resultado & desempenio & eximido & promedioCSNaturales & promedioCSSociales & promedioLetras & promedioLenguasExtranjeras & orientacionRecomendada\\\\\n",
       "\\hline\n",
       "\t 6005352              & GUALEGUAY            & GUALEGUAY            & 3190                 & 2022                 & N                    & N                    & SECUNDARIO           & Comun                & PRIMERO              & ...                  & 9                    & 9                    & Aprobado             & Distinguido          & Eximido              &  NaN                 &  NaN                 & 9.00                 & NaN                  & No definida         \\\\\n",
       "\t 6005352              & GUALEGUAY            & GUALEGUAY            & 3190                 & 2022                 & N                    & N                    & SECUNDARIO           & Comun                & CUARTO               & ...                  & 9                    & 8                    & Aprobado             & Muy bueno            & Parcialmente Eximido & 5.89                 & 6.83                 & 8.33                 & NaN                  & No definida         \\\\\n",
       "\\end{tabular}\n"
      ],
      "text/markdown": [
       "\n",
       "| CUE | departamento | localidad | codigoPostal | anioLectivo | esPrivada | esMultianio | nivelEnsenanza | modEnsenanza | anioCursado | ... | notaTercerT | promedio | resultado | desempenio | eximido | promedioCSNaturales | promedioCSSociales | promedioLetras | promedioLenguasExtranjeras | orientacionRecomendada |\n",
       "|---|---|---|---|---|---|---|---|---|---|---|---|---|---|---|---|---|---|---|---|---|\n",
       "| 6005352              | GUALEGUAY            | GUALEGUAY            | 3190                 | 2022                 | N                    | N                    | SECUNDARIO           | Comun                | PRIMERO              | ...                  | 9                    | 9                    | Aprobado             | Distinguido          | Eximido              |  NaN                 |  NaN                 | 9.00                 | NaN                  | No definida          |\n",
       "| 6005352              | GUALEGUAY            | GUALEGUAY            | 3190                 | 2022                 | N                    | N                    | SECUNDARIO           | Comun                | CUARTO               | ...                  | 9                    | 8                    | Aprobado             | Muy bueno            | Parcialmente Eximido | 5.89                 | 6.83                 | 8.33                 | NaN                  | No definida          |\n",
       "\n"
      ],
      "text/plain": [
       "  CUE     departamento localidad codigoPostal anioLectivo esPrivada esMultianio\n",
       "1 6005352 GUALEGUAY    GUALEGUAY 3190         2022        N         N          \n",
       "2 6005352 GUALEGUAY    GUALEGUAY 3190         2022        N         N          \n",
       "  nivelEnsenanza modEnsenanza anioCursado ... notaTercerT promedio resultado\n",
       "1 SECUNDARIO     Comun        PRIMERO     ... 9           9        Aprobado \n",
       "2 SECUNDARIO     Comun        CUARTO      ... 9           8        Aprobado \n",
       "  desempenio  eximido              promedioCSNaturales promedioCSSociales\n",
       "1 Distinguido Eximido               NaN                 NaN              \n",
       "2 Muy bueno   Parcialmente Eximido 5.89                6.83              \n",
       "  promedioLetras promedioLenguasExtranjeras orientacionRecomendada\n",
       "1 9.00           NaN                        No definida           \n",
       "2 8.33           NaN                        No definida           "
      ]
     },
     "metadata": {},
     "output_type": "display_data"
    }
   ],
   "source": [
    "# Visualización de \"GUALEGUAY_secundaria\"\n",
    "names(GUALEGUAY_secundaria)\n",
    "dim(GUALEGUAY_secundaria)\n",
    "head(GUALEGUAY_secundaria, 2)"
   ]
  },
  {
   "attachments": {},
   "cell_type": "markdown",
   "metadata": {},
   "source": [
    "---"
   ]
  },
  {
   "attachments": {},
   "cell_type": "markdown",
   "metadata": {},
   "source": [
    "## Guía 8"
   ]
  },
  {
   "attachments": {},
   "cell_type": "markdown",
   "metadata": {},
   "source": []
  }
 ],
 "metadata": {
  "kernelspec": {
   "display_name": "R",
   "language": "R",
   "name": "ir"
  },
  "language_info": {
   "codemirror_mode": "r",
   "file_extension": ".r",
   "mimetype": "text/x-r-source",
   "name": "R",
   "pygments_lexer": "r",
   "version": "3.6.1"
  },
  "orig_nbformat": 4
 },
 "nbformat": 4,
 "nbformat_minor": 2
}
