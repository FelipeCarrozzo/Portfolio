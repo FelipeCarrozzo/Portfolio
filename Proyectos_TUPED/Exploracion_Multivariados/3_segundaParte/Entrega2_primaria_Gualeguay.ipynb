{
 "cells": [
  {
   "attachments": {},
   "cell_type": "markdown",
   "id": "f0473261",
   "metadata": {},
   "source": [
    "# Exploración de Datos Multivariados\n",
    "## Tecnicatura Universitaria en Procesamiento y Explotación de Datos - Facultad de Ingeniería (UNER)\n",
    "### Carrozzo, Felipe - Ré, Lautaro"
   ]
  },
  {
   "attachments": {},
   "cell_type": "markdown",
   "id": "9223c689",
   "metadata": {},
   "source": [
    "---"
   ]
  },
  {
   "attachments": {},
   "cell_type": "markdown",
   "id": "0f1a333c",
   "metadata": {},
   "source": [
    "### Entrega N°2"
   ]
  },
  {
   "attachments": {},
   "cell_type": "markdown",
   "id": "07ec7dd1",
   "metadata": {},
   "source": [
    "#### Importo los datasets limpios de Gualeguay"
   ]
  },
  {
   "cell_type": "code",
   "execution_count": null,
   "id": "f62cefea",
   "metadata": {
    "vscode": {
     "languageId": "r"
    }
   },
   "outputs": [],
   "source": [
    "library(readxl)\n",
    "library(ggplot2)\n",
    "library(dplyr)\n",
    "library(pwr)\n",
    "library(lsr)\n",
    "library(stringr)\n",
    "# library(rstatix)\n",
    "# library(dmwr2)\n",
    "library(scatterplot3d)\n",
    "# library(ggally)\n",
    "library(devtools)\n",
    "library(aplpack)\n",
    "# library(hotelling)\n",
    "library(heplots)\n",
    "library(psych)\n",
    "library(factoextra)"
   ]
  },
  {
   "cell_type": "code",
   "execution_count": 2,
   "id": "feeffed3",
   "metadata": {
    "vscode": {
     "languageId": "r"
    }
   },
   "outputs": [],
   "source": [
    "#ESCRITORIO\n",
    "original <- read_excel(\"C:/Users/usr/Documents/TUPED/2doAño/Exploracion_Multivariados/1_datasetsLimpios/GUALEGUAY_original.xlsx\")\n",
    "primaria <- read_excel(\"C:/Users/usr/Documents/TUPED/2doAño/Exploracion_Multivariados/1_datasetsLimpios/GUALEGUAY_primaria.xlsx\")\n",
    "\n",
    "#PORTATIL\n",
    "# original <- read_excel(\"C:/Users/Usuario/OneDrive/Documentos/EDM/GUALEGUAY_original.xlsx\")\n",
    "# primaria <- read_excel(\"C:/Users/Usuario/OneDrive/Documentos/EDM/GUALEGUAY_primaria.xlsx\")"
   ]
  },
  {
   "cell_type": "code",
   "execution_count": 4,
   "id": "e2d9b949",
   "metadata": {
    "vscode": {
     "languageId": "r"
    }
   },
   "outputs": [
    {
     "data": {
      "text/html": [
       "<ol class=list-inline>\n",
       "\t<li>'CUE'</li>\n",
       "\t<li>'departamento'</li>\n",
       "\t<li>'localidad'</li>\n",
       "\t<li>'codigoPostal'</li>\n",
       "\t<li>'anioLectivo'</li>\n",
       "\t<li>'esPrivada'</li>\n",
       "\t<li>'esMultianio'</li>\n",
       "\t<li>'nivelEnsenanza'</li>\n",
       "\t<li>'modEnsenanza'</li>\n",
       "\t<li>'turno'</li>\n",
       "\t<li>'idAlumno'</li>\n",
       "\t<li>'documento'</li>\n",
       "\t<li>'asignatura'</li>\n",
       "\t<li>'periodoEvaluatorio'</li>\n",
       "\t<li>'notaPrimerT'</li>\n",
       "\t<li>'notaSegundoT'</li>\n",
       "\t<li>'notaTercerT'</li>\n",
       "\t<li>'promedio'</li>\n",
       "\t<li>'resultado'</li>\n",
       "\t<li>'anioCursado'</li>\n",
       "</ol>\n"
      ],
      "text/latex": [
       "\\begin{enumerate*}\n",
       "\\item 'CUE'\n",
       "\\item 'departamento'\n",
       "\\item 'localidad'\n",
       "\\item 'codigoPostal'\n",
       "\\item 'anioLectivo'\n",
       "\\item 'esPrivada'\n",
       "\\item 'esMultianio'\n",
       "\\item 'nivelEnsenanza'\n",
       "\\item 'modEnsenanza'\n",
       "\\item 'turno'\n",
       "\\item 'idAlumno'\n",
       "\\item 'documento'\n",
       "\\item 'asignatura'\n",
       "\\item 'periodoEvaluatorio'\n",
       "\\item 'notaPrimerT'\n",
       "\\item 'notaSegundoT'\n",
       "\\item 'notaTercerT'\n",
       "\\item 'promedio'\n",
       "\\item 'resultado'\n",
       "\\item 'anioCursado'\n",
       "\\end{enumerate*}\n"
      ],
      "text/markdown": [
       "1. 'CUE'\n",
       "2. 'departamento'\n",
       "3. 'localidad'\n",
       "4. 'codigoPostal'\n",
       "5. 'anioLectivo'\n",
       "6. 'esPrivada'\n",
       "7. 'esMultianio'\n",
       "8. 'nivelEnsenanza'\n",
       "9. 'modEnsenanza'\n",
       "10. 'turno'\n",
       "11. 'idAlumno'\n",
       "12. 'documento'\n",
       "13. 'asignatura'\n",
       "14. 'periodoEvaluatorio'\n",
       "15. 'notaPrimerT'\n",
       "16. 'notaSegundoT'\n",
       "17. 'notaTercerT'\n",
       "18. 'promedio'\n",
       "19. 'resultado'\n",
       "20. 'anioCursado'\n",
       "\n",
       "\n"
      ],
      "text/plain": [
       " [1] \"CUE\"                \"departamento\"       \"localidad\"         \n",
       " [4] \"codigoPostal\"       \"anioLectivo\"        \"esPrivada\"         \n",
       " [7] \"esMultianio\"        \"nivelEnsenanza\"     \"modEnsenanza\"      \n",
       "[10] \"turno\"              \"idAlumno\"           \"documento\"         \n",
       "[13] \"asignatura\"         \"periodoEvaluatorio\" \"notaPrimerT\"       \n",
       "[16] \"notaSegundoT\"       \"notaTercerT\"        \"promedio\"          \n",
       "[19] \"resultado\"          \"anioCursado\"       "
      ]
     },
     "metadata": {},
     "output_type": "display_data"
    }
   ],
   "source": [
    "names(primaria)"
   ]
  },
  {
   "attachments": {},
   "cell_type": "markdown",
   "id": "d824c39c",
   "metadata": {},
   "source": [
    "# **Comparación de Medias y Puntuación Z**"
   ]
  },
  {
   "attachments": {},
   "cell_type": "markdown",
   "id": "7ff98350",
   "metadata": {},
   "source": [
    "### ¿Hay diferencias significativas entre el rendimiento en Matemática de primer año del turno tarde y del turno mañana?"
   ]
  },
  {
   "attachments": {},
   "cell_type": "markdown",
   "id": "2b51add0",
   "metadata": {},
   "source": [
    "#### H0: No existe una diferencia significativa en los promedios de Matemática de primer año en turno mañana y turno tarde de primaria.\n",
    "#### H1: Existe una diferencia significativa en los promedios de Matemática de primer año en turno mañana y tarde de primaria."
   ]
  },
  {
   "cell_type": "code",
   "execution_count": 5,
   "id": "c8d5f659",
   "metadata": {
    "vscode": {
     "languageId": "r"
    }
   },
   "outputs": [],
   "source": [
    "#filtro las variables PRIMARIA\n",
    "mMatematicaP <- filter(primaria, asignatura == \"MATEMATICA\", anioCursado == \"PRIMERO\", turno == \"MAÑANA\")\n",
    "tMatematicaP <- filter(primaria, asignatura == \"MATEMATICA\", anioCursado == \"PRIMERO\", turno == \"TARDE\")\n",
    "#omito NA\n",
    "mMatematicaP <- na.omit(mMatematicaP)\n",
    "tMatematicaP <- na.omit(tMatematicaP)"
   ]
  },
  {
   "cell_type": "code",
   "execution_count": 6,
   "id": "cf60f805",
   "metadata": {
    "vscode": {
     "languageId": "r"
    }
   },
   "outputs": [
    {
     "data": {
      "text/plain": [
       "\n",
       "\tShapiro-Wilk normality test\n",
       "\n",
       "data:  mMatematicaP$promedio\n",
       "W = 0.9534, p-value = 1.467e-11\n"
      ]
     },
     "metadata": {},
     "output_type": "display_data"
    },
    {
     "data": {
      "text/plain": [
       "\n",
       "\tShapiro-Wilk normality test\n",
       "\n",
       "data:  tMatematicaP$promedio\n",
       "W = 0.96131, p-value = 1.724e-11\n"
      ]
     },
     "metadata": {},
     "output_type": "display_data"
    },
    {
     "data": {
      "text/plain": [
       "\n",
       "\tF test to compare two variances\n",
       "\n",
       "data:  mMatematicaP$promedio and tMatematicaP$promedio\n",
       "F = 0.93095, num df = 506, denom df = 601, p-value = 0.4039\n",
       "alternative hypothesis: true ratio of variances is not equal to 1\n",
       "95 percent confidence interval:\n",
       " 0.7879295 1.1012770\n",
       "sample estimates:\n",
       "ratio of variances \n",
       "         0.9309521 \n"
      ]
     },
     "metadata": {},
     "output_type": "display_data"
    }
   ],
   "source": [
    "#Normalidad\n",
    "shapiro.test(mMatematicaP$promedio)\n",
    "shapiro.test(tMatematicaP$promedio)\n",
    "#Homocedasticidad\n",
    "var.test(mMatematicaP$promedio, tMatematicaP$promedio)"
   ]
  },
  {
   "attachments": {},
   "cell_type": "markdown",
   "id": "5535911b",
   "metadata": {},
   "source": [
    "No se cumplen los supuestos de normalidad. Si de varianza. Por lo tanto realizamos Wilcoxon Test."
   ]
  },
  {
   "cell_type": "code",
   "execution_count": 7,
   "id": "40cc0061",
   "metadata": {
    "vscode": {
     "languageId": "r"
    }
   },
   "outputs": [
    {
     "data": {
      "text/plain": [
       "\n",
       "\tWilcoxon rank sum test with continuity correction\n",
       "\n",
       "data:  mMatematicaP$promedio and tMatematicaP$promedio\n",
       "W = 151742, p-value = 0.8701\n",
       "alternative hypothesis: true location shift is not equal to 0\n"
      ]
     },
     "metadata": {},
     "output_type": "display_data"
    }
   ],
   "source": [
    "wilcox.test(mMatematicaP$promedio,tMatematicaP$promedio, alternative = c(\"two.sided\"), paired = FALSE,\n",
    "exact = NULL, correct = TRUE, conf.int = FALSE, conf.level = 0.95)"
   ]
  },
  {
   "attachments": {},
   "cell_type": "markdown",
   "id": "3184527d",
   "metadata": {},
   "source": [
    "No existe suficiente evidencia estadística para rechazar H0. Como se puede apreciar, el P-value de este análisis es \n",
    "0.8701, por lo tanto no hay una diferencia significativa entre la media de cada grupo."
   ]
  },
  {
   "attachments": {},
   "cell_type": "markdown",
   "id": "05e2a0e7",
   "metadata": {},
   "source": [
    "---"
   ]
  },
  {
   "attachments": {},
   "cell_type": "markdown",
   "id": "5dbc82b4",
   "metadata": {},
   "source": [
    "#### **Si un estudiante de tercer año de una escuela de su departamento obtuvo un 5 en Matemática, ¿cómo le fue respecto a los puntajes obtenidos en su curso?**"
   ]
  },
  {
   "cell_type": "code",
   "execution_count": 8,
   "id": "1e862740",
   "metadata": {
    "vscode": {
     "languageId": "r"
    }
   },
   "outputs": [
    {
     "data": {
      "text/html": [
       "8.23296703296703"
      ],
      "text/latex": [
       "8.23296703296703"
      ],
      "text/markdown": [
       "8.23296703296703"
      ],
      "text/plain": [
       "[1] 8.232967"
      ]
     },
     "metadata": {},
     "output_type": "display_data"
    },
    {
     "name": "stdout",
     "output_type": "stream",
     "text": [
      "[1] \"Puntuación Z\"\n"
     ]
    },
    {
     "data": {
      "text/html": [
       "-3.17263248749349"
      ],
      "text/latex": [
       "-3.17263248749349"
      ],
      "text/markdown": [
       "-3.17263248749349"
      ],
      "text/plain": [
       "[1] -3.172632"
      ]
     },
     "metadata": {},
     "output_type": "display_data"
    }
   ],
   "source": [
    "#PRIMARIA - puntuación Z. Puntuación bruta: 5\n",
    "media_terceroP <- filter(primaria, anioCursado == \"TERCERO\", asignatura == \"MATEMATICA\")\n",
    "media_terceroP <- na.omit(media_terceroP)\n",
    "mediaP <- mean(media_terceroP$promedio)\n",
    "mediaP\n",
    "desvP <- sd(media_terceroP$promedio)\n",
    "\n",
    "print(\"Puntuación Z\")\n",
    "z = (5-mediaP)/desvP\n",
    "z"
   ]
  },
  {
   "attachments": {},
   "cell_type": "markdown",
   "id": "70ed2904",
   "metadata": {},
   "source": [
    "Los estudiantes que obtengan un 5 en MATEMATICA estando en tercer grado de la Primaria estarían 3.17 desviaciones estandar por debajo de la media de este grupo. "
   ]
  },
  {
   "attachments": {},
   "cell_type": "markdown",
   "id": "86a3feb7",
   "metadata": {},
   "source": [
    "---"
   ]
  },
  {
   "attachments": {},
   "cell_type": "markdown",
   "id": "52ef2eee",
   "metadata": {},
   "source": [
    "#### ¿Podría afirmar que la media de su departamento en las notas de Matemática de primer año estuvo por encima de 7?\n",
    "#### H0: media >=7\n",
    "#### H1: media <7\n"
   ]
  },
  {
   "cell_type": "code",
   "execution_count": 9,
   "id": "44822ade",
   "metadata": {
    "vscode": {
     "languageId": "r"
    }
   },
   "outputs": [
    {
     "data": {
      "text/html": [
       "7.70879956545356"
      ],
      "text/latex": [
       "7.70879956545356"
      ],
      "text/markdown": [
       "7.70879956545356"
      ],
      "text/plain": [
       "[1] 7.7088"
      ]
     },
     "metadata": {},
     "output_type": "display_data"
    }
   ],
   "source": [
    "matDepto <- filter(original, asignatura == \"MATEMATICA\", anioCursado == \"PRIMERO\")\n",
    "matDepto <- select(matDepto,promedio)\n",
    "matDepto <- na.omit(matDepto)\n",
    "\n",
    "matDeptoMedia <- mean(matDepto$promedio)\n",
    "matDeptoMedia"
   ]
  },
  {
   "cell_type": "code",
   "execution_count": 10,
   "id": "95a072c6",
   "metadata": {
    "vscode": {
     "languageId": "r"
    }
   },
   "outputs": [
    {
     "data": {
      "text/plain": [
       "\n",
       "\tShapiro-Wilk normality test\n",
       "\n",
       "data:  matDepto$promedio\n",
       "W = 0.96057, p-value < 2.2e-16\n"
      ]
     },
     "metadata": {},
     "output_type": "display_data"
    },
    {
     "data": {
      "text/html": [
       "7.70879956545356"
      ],
      "text/latex": [
       "7.70879956545356"
      ],
      "text/markdown": [
       "7.70879956545356"
      ],
      "text/plain": [
       "[1] 7.7088"
      ]
     },
     "metadata": {},
     "output_type": "display_data"
    },
    {
     "data": {
      "text/html": [
       "8"
      ],
      "text/latex": [
       "8"
      ],
      "text/markdown": [
       "8"
      ],
      "text/plain": [
       "[1] 8"
      ]
     },
     "metadata": {},
     "output_type": "display_data"
    }
   ],
   "source": [
    "shapiro.test(matDepto$promedio)\n",
    "mean(matDepto$promedio)\n",
    "median(matDepto$promedio)"
   ]
  },
  {
   "attachments": {},
   "cell_type": "markdown",
   "id": "8d914604",
   "metadata": {},
   "source": [
    "No proviene de una distribución normal"
   ]
  },
  {
   "cell_type": "code",
   "execution_count": 11,
   "id": "d5c83cbd",
   "metadata": {
    "vscode": {
     "languageId": "r"
    }
   },
   "outputs": [
    {
     "data": {
      "text/plain": [
       "\n",
       "\tWilcoxon signed rank test with continuity correction\n",
       "\n",
       "data:  matDepto$promedio\n",
       "V = 1140056, p-value < 2.2e-16\n",
       "alternative hypothesis: true location is not equal to 7\n"
      ]
     },
     "metadata": {},
     "output_type": "display_data"
    }
   ],
   "source": [
    "wilcox.test(matDepto$promedio,alternative = c(\"two.sided\"), paired = FALSE, exact = NULL, correct = TRUE,\n",
    "            conf.int = FALSE, conf.level = 0.95, mu = 7) #mu = valor que quiero contrastar"
   ]
  },
  {
   "attachments": {},
   "cell_type": "markdown",
   "id": "115b1a53",
   "metadata": {},
   "source": [
    "Cuento con evidencia para rechazar H0. Por ende concluyo que la media de mi departamento en las notas Matemática de primer año estuvo por debajo de 7"
   ]
  },
  {
   "attachments": {},
   "cell_type": "markdown",
   "id": "12af36f6",
   "metadata": {},
   "source": [
    "---"
   ]
  },
  {
   "attachments": {},
   "cell_type": "markdown",
   "id": "d6071cdd",
   "metadata": {},
   "source": [
    "### **En su departamento, ¿hay diferencias significativas en el rendimiento en Matemática entre el turno tarde y del turno mañana? También compare con Lengua.**"
   ]
  },
  {
   "cell_type": "code",
   "execution_count": 12,
   "id": "c35f97eb",
   "metadata": {
    "vscode": {
     "languageId": "r"
    }
   },
   "outputs": [],
   "source": [
    "desempenioDepto <- select(original, asignatura, anioCursado, turno, promedio)\n",
    "desempenioDepto <- na.omit(desempenioDepto)"
   ]
  },
  {
   "cell_type": "code",
   "execution_count": 13,
   "id": "aa4c25ad",
   "metadata": {
    "vscode": {
     "languageId": "r"
    }
   },
   "outputs": [
    {
     "data": {
      "text/html": [
       "<table>\n",
       "<thead><tr><th></th><th scope=col>anioCursado</th><th scope=col>MAÑANA</th><th scope=col>TARDE</th></tr></thead>\n",
       "<tbody>\n",
       "\t<tr><th scope=row>2</th><td>PRIMERO </td><td>7.523056</td><td>7.833011</td></tr>\n",
       "\t<tr><th scope=row>4</th><td>SEGUNDO </td><td>7.801034</td><td>7.696019</td></tr>\n",
       "\t<tr><th scope=row>6</th><td>TERCERO </td><td>7.268524</td><td>7.581647</td></tr>\n",
       "\t<tr><th scope=row>1</th><td>CUARTO  </td><td>7.698955</td><td>6.968669</td></tr>\n",
       "\t<tr><th scope=row>3</th><td>QUINTO  </td><td>7.525181</td><td>7.553370</td></tr>\n",
       "\t<tr><th scope=row>5</th><td>SEXTO   </td><td>7.608969</td><td>7.276756</td></tr>\n",
       "</tbody>\n",
       "</table>\n"
      ],
      "text/latex": [
       "\\begin{tabular}{r|lll}\n",
       "  & anioCursado & MAÑANA & TARDE\\\\\n",
       "\\hline\n",
       "\t2 & PRIMERO  & 7.523056 & 7.833011\\\\\n",
       "\t4 & SEGUNDO  & 7.801034 & 7.696019\\\\\n",
       "\t6 & TERCERO  & 7.268524 & 7.581647\\\\\n",
       "\t1 & CUARTO   & 7.698955 & 6.968669\\\\\n",
       "\t3 & QUINTO   & 7.525181 & 7.553370\\\\\n",
       "\t5 & SEXTO    & 7.608969 & 7.276756\\\\\n",
       "\\end{tabular}\n"
      ],
      "text/markdown": [
       "\n",
       "| <!--/--> | anioCursado | MAÑANA | TARDE |\n",
       "|---|---|---|---|\n",
       "| 2 | PRIMERO  | 7.523056 | 7.833011 |\n",
       "| 4 | SEGUNDO  | 7.801034 | 7.696019 |\n",
       "| 6 | TERCERO  | 7.268524 | 7.581647 |\n",
       "| 1 | CUARTO   | 7.698955 | 6.968669 |\n",
       "| 3 | QUINTO   | 7.525181 | 7.553370 |\n",
       "| 5 | SEXTO    | 7.608969 | 7.276756 |\n",
       "\n"
      ],
      "text/plain": [
       "  anioCursado MAÑANA   TARDE   \n",
       "2 PRIMERO     7.523056 7.833011\n",
       "4 SEGUNDO     7.801034 7.696019\n",
       "6 TERCERO     7.268524 7.581647\n",
       "1 CUARTO      7.698955 6.968669\n",
       "3 QUINTO      7.525181 7.553370\n",
       "5 SEXTO       7.608969 7.276756"
      ]
     },
     "metadata": {},
     "output_type": "display_data"
    },
    {
     "data": {
      "text/html": [
       "<table>\n",
       "<thead><tr><th></th><th scope=col>anioCursado</th><th scope=col>MAÑANA</th><th scope=col>TARDE</th></tr></thead>\n",
       "<tbody>\n",
       "\t<tr><th scope=row>2</th><td>PRIMERO </td><td>8.070020</td><td>8.130034</td></tr>\n",
       "\t<tr><th scope=row>4</th><td>SEGUNDO </td><td>8.296891</td><td>8.222707</td></tr>\n",
       "\t<tr><th scope=row>6</th><td>TERCERO </td><td>8.145804</td><td>8.247447</td></tr>\n",
       "\t<tr><th scope=row>1</th><td>CUARTO  </td><td>8.091019</td><td>7.932746</td></tr>\n",
       "\t<tr><th scope=row>3</th><td>QUINTO  </td><td>7.882483</td><td>7.948602</td></tr>\n",
       "\t<tr><th scope=row>5</th><td>SEXTO   </td><td>7.865888</td><td>7.923487</td></tr>\n",
       "</tbody>\n",
       "</table>\n"
      ],
      "text/latex": [
       "\\begin{tabular}{r|lll}\n",
       "  & anioCursado & MAÑANA & TARDE\\\\\n",
       "\\hline\n",
       "\t2 & PRIMERO  & 8.070020 & 8.130034\\\\\n",
       "\t4 & SEGUNDO  & 8.296891 & 8.222707\\\\\n",
       "\t6 & TERCERO  & 8.145804 & 8.247447\\\\\n",
       "\t1 & CUARTO   & 8.091019 & 7.932746\\\\\n",
       "\t3 & QUINTO   & 7.882483 & 7.948602\\\\\n",
       "\t5 & SEXTO    & 7.865888 & 7.923487\\\\\n",
       "\\end{tabular}\n"
      ],
      "text/markdown": [
       "\n",
       "| <!--/--> | anioCursado | MAÑANA | TARDE |\n",
       "|---|---|---|---|\n",
       "| 2 | PRIMERO  | 8.070020 | 8.130034 |\n",
       "| 4 | SEGUNDO  | 8.296891 | 8.222707 |\n",
       "| 6 | TERCERO  | 8.145804 | 8.247447 |\n",
       "| 1 | CUARTO   | 8.091019 | 7.932746 |\n",
       "| 3 | QUINTO   | 7.882483 | 7.948602 |\n",
       "| 5 | SEXTO    | 7.865888 | 7.923487 |\n",
       "\n"
      ],
      "text/plain": [
       "  anioCursado MAÑANA   TARDE   \n",
       "2 PRIMERO     8.070020 8.130034\n",
       "4 SEGUNDO     8.296891 8.222707\n",
       "6 TERCERO     8.145804 8.247447\n",
       "1 CUARTO      8.091019 7.932746\n",
       "3 QUINTO      7.882483 7.948602\n",
       "5 SEXTO       7.865888 7.923487"
      ]
     },
     "metadata": {},
     "output_type": "display_data"
    }
   ],
   "source": [
    "#MATEMATICA\n",
    "mat <- filter(desempenioDepto, asignatura == \"MATEMATICA\", turno == \"MAÑANA\"|turno == \"TARDE\")\n",
    "matProm <- aggregate(promedio ~ anioCursado + turno, data = mat, FUN = mean)\n",
    "\n",
    "tabla_comparativaMatem <- reshape2::dcast(matProm, anioCursado ~ turno, value.var = \"promedio\", mean)\n",
    "# Ordeno la tabla\n",
    "tabla_comparativaMatem$anioCursado <- factor(tabla_comparativaMatem$anioCursado, levels = c('PRIMERO', 'SEGUNDO', 'TERCERO', 'CUARTO', 'QUINTO', 'SEXTO'))\n",
    "tabla_ordenadaMatem <- tabla_comparativaMatem[order(tabla_comparativaMatem$anioCursado), ]\n",
    "tabla_ordenadaMatem\n",
    "#-------\n",
    "#LENGUA\n",
    "lengua <- filter(desempenioDepto, asignatura == \"LENGUA\", turno == \"MAÑANA\"|turno == \"TARDE\")\n",
    "lenguaProm <- aggregate(promedio ~ anioCursado + turno, data = lengua, FUN = mean)\n",
    "\n",
    "tabla_comparativaLengua <- reshape2::dcast(lenguaProm, anioCursado ~ turno, value.var = \"promedio\", mean)\n",
    "# Ordeno la tabla\n",
    "tabla_comparativaLengua$anioCursado <- factor(tabla_comparativaLengua$anioCursado, levels = c('PRIMERO', 'SEGUNDO', 'TERCERO', 'CUARTO', 'QUINTO', 'SEXTO'))\n",
    "tabla_ordenadaLengua <- tabla_comparativaLengua[order(tabla_comparativaLengua$anioCursado), ]\n",
    "tabla_ordenadaLengua"
   ]
  },
  {
   "cell_type": "code",
   "execution_count": 14,
   "id": "1f129f00",
   "metadata": {
    "vscode": {
     "languageId": "r"
    }
   },
   "outputs": [
    {
     "name": "stdout",
     "output_type": "stream",
     "text": [
      "[1] \"Matematica\"\n"
     ]
    },
    {
     "data": {
      "text/plain": [
       "\n",
       "\tShapiro-Wilk normality test\n",
       "\n",
       "data:  tabla_ordenadaMatem$MAÑANA\n",
       "W = 0.95624, p-value = 0.7904\n"
      ]
     },
     "metadata": {},
     "output_type": "display_data"
    },
    {
     "data": {
      "text/plain": [
       "\n",
       "\tShapiro-Wilk normality test\n",
       "\n",
       "data:  tabla_ordenadaMatem$TARDE\n",
       "W = 0.93315, p-value = 0.6046\n"
      ]
     },
     "metadata": {},
     "output_type": "display_data"
    },
    {
     "data": {
      "text/plain": [
       "\n",
       "\tF test to compare two variances\n",
       "\n",
       "data:  tabla_ordenadaMatem$MAÑANA and tabla_ordenadaMatem$TARDE\n",
       "F = 0.3403, num df = 5, denom df = 5, p-value = 0.2618\n",
       "alternative hypothesis: true ratio of variances is not equal to 1\n",
       "95 percent confidence interval:\n",
       " 0.0476192 2.4319494\n",
       "sample estimates:\n",
       "ratio of variances \n",
       "          0.340305 \n"
      ]
     },
     "metadata": {},
     "output_type": "display_data"
    },
    {
     "name": "stdout",
     "output_type": "stream",
     "text": [
      "[1] \"Lengua\"\n"
     ]
    },
    {
     "data": {
      "text/plain": [
       "\n",
       "\tShapiro-Wilk normality test\n",
       "\n",
       "data:  tabla_ordenadaLengua$MAÑANA\n",
       "W = 0.93128, p-value = 0.59\n"
      ]
     },
     "metadata": {},
     "output_type": "display_data"
    },
    {
     "data": {
      "text/plain": [
       "\n",
       "\tShapiro-Wilk normality test\n",
       "\n",
       "data:  tabla_ordenadaLengua$TARDE\n",
       "W = 0.82401, p-value = 0.09555\n"
      ]
     },
     "metadata": {},
     "output_type": "display_data"
    },
    {
     "data": {
      "text/plain": [
       "\n",
       "\tF test to compare two variances\n",
       "\n",
       "data:  tabla_ordenadaLengua$MAÑANA and tabla_ordenadaLengua$TARDE\n",
       "F = 1.1791, num df = 5, denom df = 5, p-value = 0.861\n",
       "alternative hypothesis: true ratio of variances is not equal to 1\n",
       "95 percent confidence interval:\n",
       " 0.164986 8.425962\n",
       "sample estimates:\n",
       "ratio of variances \n",
       "          1.179053 \n"
      ]
     },
     "metadata": {},
     "output_type": "display_data"
    }
   ],
   "source": [
    "#SUPUESTOS PARA MATEMATICA\n",
    "print(\"Matematica\")\n",
    "shapiro.test(tabla_ordenadaMatem$MAÑANA)\n",
    "shapiro.test(tabla_ordenadaMatem$TARDE)\n",
    "var.test(tabla_ordenadaMatem$MAÑANA,tabla_ordenadaMatem$TARDE)\n",
    "#SUPUESTOS PARA LENGUA\n",
    "print(\"Lengua\")\n",
    "shapiro.test(tabla_ordenadaLengua$MAÑANA)\n",
    "shapiro.test(tabla_ordenadaLengua$TARDE)\n",
    "var.test(tabla_ordenadaLengua$MAÑANA,tabla_ordenadaLengua$TARDE)"
   ]
  },
  {
   "attachments": {},
   "cell_type": "markdown",
   "id": "c84912e1",
   "metadata": {},
   "source": [
    "**Los supuestos se cumplen para Matemática y para Lengua**"
   ]
  },
  {
   "attachments": {},
   "cell_type": "markdown",
   "id": "08f166f0",
   "metadata": {},
   "source": [
    "### H0: Existen diferencias significativas en el rendimiento de Matemática entre los turnos.\n",
    "### H1: No existen diferencias significativas en el rendimiento de Matemática entre los turnos."
   ]
  },
  {
   "cell_type": "code",
   "execution_count": 15,
   "id": "2d46b948",
   "metadata": {
    "vscode": {
     "languageId": "r"
    }
   },
   "outputs": [
    {
     "name": "stdout",
     "output_type": "stream",
     "text": [
      "[1] \"T-test MATEMATICA\"\n"
     ]
    },
    {
     "data": {
      "text/plain": [
       "\n",
       "\tTwo Sample t-test\n",
       "\n",
       "data:  tabla_ordenadaMatem$MAÑANA and tabla_ordenadaMatem$TARDE\n",
       "t = 0.58175, df = 10, p-value = 0.5736\n",
       "alternative hypothesis: true difference in means is not equal to 0\n",
       "97 percent confidence interval:\n",
       " -0.2877757  0.4598578\n",
       "sample estimates:\n",
       "mean of x mean of y \n",
       " 7.570953  7.484912 \n"
      ]
     },
     "metadata": {},
     "output_type": "display_data"
    }
   ],
   "source": [
    "print(\"T-test MATEMATICA\")\n",
    "t.test(x=tabla_ordenadaMatem$MAÑANA, y=tabla_ordenadaMatem$TARDE, alternative=\"two.sided\", paired=FALSE, var.equal=TRUE, conf.level=0.97)"
   ]
  },
  {
   "attachments": {},
   "cell_type": "markdown",
   "id": "a83bd7e9",
   "metadata": {},
   "source": [
    "No cuento con evidencia suficiente para rechazar H0. Por ende, concluimos que no existen diferencias significativas en el rendimiento académico de los estudiantes de Matemática entre los turnos mañana y tarde.\n"
   ]
  },
  {
   "attachments": {},
   "cell_type": "markdown",
   "id": "81853ae1",
   "metadata": {},
   "source": [
    "**Tamaño del efecto**"
   ]
  },
  {
   "attachments": {},
   "cell_type": "markdown",
   "id": "3861890d",
   "metadata": {},
   "source": [
    "### H0: Existen diferencias significativas en el rendimiento de Lengua entre los turnos.\n",
    "### H1: No existen diferencias significativas en el rendimiento de Lengua entre los turnos."
   ]
  },
  {
   "cell_type": "code",
   "execution_count": 16,
   "id": "aa484133",
   "metadata": {
    "vscode": {
     "languageId": "r"
    }
   },
   "outputs": [
    {
     "name": "stdout",
     "output_type": "stream",
     "text": [
      "[1] \"T-Test LENGUA\"\n"
     ]
    },
    {
     "data": {
      "text/plain": [
       "\n",
       "\tTwo Sample t-test\n",
       "\n",
       "data:  tabla_ordenadaLengua$MAÑANA and tabla_ordenadaLengua$TARDE\n",
       "t = -0.097175, df = 10, p-value = 0.9245\n",
       "alternative hypothesis: true difference in means is not equal to 0\n",
       "97 percent confidence interval:\n",
       " -0.2382228  0.2205830\n",
       "sample estimates:\n",
       "mean of x mean of y \n",
       " 8.058684  8.067504 \n"
      ]
     },
     "metadata": {},
     "output_type": "display_data"
    }
   ],
   "source": [
    "print(\"T-Test LENGUA\")\n",
    "t.test(x=tabla_ordenadaLengua$MAÑANA, y=tabla_ordenadaLengua$TARDE, alternative=\"two.sided\", paired=FALSE, var.equal=TRUE, conf.level=0.97)"
   ]
  },
  {
   "attachments": {},
   "cell_type": "markdown",
   "id": "694e9292",
   "metadata": {},
   "source": [
    "No cuento con evidencia suficiente para rechazar H0. Por ende, concluimos que no existen diferencias significativas en el rendimiento académico de los estudiantes de Lengua entre los turnos mañana y tarde.\n"
   ]
  },
  {
   "attachments": {},
   "cell_type": "markdown",
   "id": "40c4fced",
   "metadata": {},
   "source": [
    "---"
   ]
  },
  {
   "attachments": {},
   "cell_type": "markdown",
   "id": "eb227e44",
   "metadata": {},
   "source": [
    "\n",
    "# **Comparación de Medias (2da parte)**"
   ]
  },
  {
   "cell_type": "code",
   "execution_count": 17,
   "id": "bdd5eee3",
   "metadata": {
    "vscode": {
     "languageId": "r"
    }
   },
   "outputs": [],
   "source": [
    "matrSecundaria <- read_excel(\"C:/Users/usr/Documents/TUPED/2doAño/Exploracion_Multivariados/1_datasetsLimpios/secundaria3.xlsx\")"
   ]
  },
  {
   "attachments": {},
   "cell_type": "markdown",
   "id": "5f647b9e",
   "metadata": {},
   "source": [
    "### Realizo una exploración de los datos"
   ]
  },
  {
   "cell_type": "code",
   "execution_count": 18,
   "id": "81b050f6",
   "metadata": {
    "vscode": {
     "languageId": "r"
    }
   },
   "outputs": [
    {
     "data": {
      "text/html": [
       "<table>\n",
       "<thead><tr><th scope=col>Cue_Anexo</th><th scope=col>Nivel</th><th scope=col>Modalidad_Educ_Gral</th><th scope=col>Cue</th><th scope=col>Estado</th><th scope=col>Sector</th><th scope=col>Departamento</th><th scope=col>NINA</th><th scope=col>Cant_Secciones</th><th scope=col>Tipo_titulo</th><th scope=col>...</th><th scope=col>Segundo</th><th scope=col>Tercero</th><th scope=col>Cuarto</th><th scope=col>Quinto</th><th scope=col>Sexto</th><th scope=col>Septimo</th><th scope=col>Mat_ciclo_basico</th><th scope=col>Mat_ciclo_orientado</th><th scope=col>Matricula_Total</th><th scope=col>Titulo</th></tr></thead>\n",
       "<tbody>\n",
       "\t<tr><td>600003600                                                                                                                                                                                                              </td><td>Secundaria                                                                                                                                                                                                             </td><td>Común                                                                                                                                                                                                                  </td><td>6000036                                                                                                                                                                                                                </td><td>Activo                                                                                                                                                                                                                 </td><td>ESTATAL                                                                                                                                                                                                                </td><td>NA                                                                                                                                                                                                                     </td><td>no                                                                                                                                                                                                                     </td><td>18                                                                                                                                                                                                                     </td><td>Ciclo básico/ educación secundaria básica                                                                                                                                                                              </td><td>...                                                                                                                                                                                                                    </td><td> 79                                                                                                                                                                                                                    </td><td> 73                                                                                                                                                                                                                    </td><td> 65                                                                                                                                                                                                                    </td><td> 54                                                                                                                                                                                                                    </td><td>61                                                                                                                                                                                                                     </td><td>0                                                                                                                                                                                                                      </td><td>219                                                                                                                                                                                                                    </td><td>180                                                                                                                                                                                                                    </td><td>399                                                                                                                                                                                                                    </td><td>Bachiller en ciencias sociales y humanidades; Bachiller en economía y administración                                                                                                                                   </td></tr>\n",
       "\t<tr><td>600035000                                                                                                                                                                                                              </td><td>Secundaria                                                                                                                                                                                                             </td><td>Común                                                                                                                                                                                                                  </td><td>6000350                                                                                                                                                                                                                </td><td>Activo                                                                                                                                                                                                                 </td><td>ESTATAL                                                                                                                                                                                                                </td><td>NA                                                                                                                                                                                                                     </td><td>no                                                                                                                                                                                                                     </td><td> 6                                                                                                                                                                                                                     </td><td>Ciclo básico/ educación secundaria básica                                                                                                                                                                              </td><td>...                                                                                                                                                                                                                    </td><td> 17                                                                                                                                                                                                                    </td><td> 11                                                                                                                                                                                                                    </td><td>  9                                                                                                                                                                                                                    </td><td>  7                                                                                                                                                                                                                    </td><td> 7                                                                                                                                                                                                                     </td><td>0                                                                                                                                                                                                                      </td><td> 44                                                                                                                                                                                                                    </td><td> 23                                                                                                                                                                                                                    </td><td> 67                                                                                                                                                                                                                    </td><td>Bachiller en economía y administración                                                                                                                                                                                 </td></tr>\n",
       "\t<tr><td>600046400                                                                                                                                                                                                              </td><td>Secundaria                                                                                                                                                                                                             </td><td>Común                                                                                                                                                                                                                  </td><td>6000464                                                                                                                                                                                                                </td><td>Activo                                                                                                                                                                                                                 </td><td>ESTATAL                                                                                                                                                                                                                </td><td>FEDERACION                                                                                                                                                                                                             </td><td>no                                                                                                                                                                                                                     </td><td>13                                                                                                                                                                                                                     </td><td>Ciclo básico/ educación secundaria básica                                                                                                                                                                              </td><td>...                                                                                                                                                                                                                    </td><td> 60                                                                                                                                                                                                                    </td><td> 32                                                                                                                                                                                                                    </td><td> 39                                                                                                                                                                                                                    </td><td> 43                                                                                                                                                                                                                    </td><td>NA                                                                                                                                                                                                                     </td><td>0                                                                                                                                                                                                                      </td><td>157                                                                                                                                                                                                                    </td><td> 99                                                                                                                                                                                                                    </td><td>256                                                                                                                                                                                                                    </td><td>Bachiller con orientación en arte; Bachiller en economía y administración                                                                                                                                              </td></tr>\n",
       "\t<tr><td>600067800                                                                                                                                                                                                              </td><td>Secundaria                                                                                                                                                                                                             </td><td>Común                                                                                                                                                                                                                  </td><td>6000678                                                                                                                                                                                                                </td><td>Activo                                                                                                                                                                                                                 </td><td>ESTATAL                                                                                                                                                                                                                </td><td>NA                                                                                                                                                                                                                     </td><td>no                                                                                                                                                                                                                     </td><td>17                                                                                                                                                                                                                     </td><td>Ciclo básico/ educación secundaria básica                                                                                                                                                                              </td><td>...                                                                                                                                                                                                                    </td><td> 45                                                                                                                                                                                                                    </td><td> 47                                                                                                                                                                                                                    </td><td> 41                                                                                                                                                                                                                    </td><td> 37                                                                                                                                                                                                                    </td><td>40                                                                                                                                                                                                                     </td><td>0                                                                                                                                                                                                                      </td><td>127                                                                                                                                                                                                                    </td><td>118                                                                                                                                                                                                                    </td><td>245                                                                                                                                                                                                                    </td><td>Bachiller en ciencias naturales; Bachiller en economía y administración                                                                                                                                                </td></tr>\n",
       "\t<tr><td>600093400                                                                                                                                                                                                              </td><td>Secundaria                                                                                                                                                                                                             </td><td>Común                                                                                                                                                                                                                  </td><td>6000934                                                                                                                                                                                                                </td><td>Activo                                                                                                                                                                                                                 </td><td>ESTATAL                                                                                                                                                                                                                </td><td>VILLAGUAY                                                                                                                                                                                                              </td><td>no                                                                                                                                                                                                                     </td><td>37                                                                                                                                                                                                                     </td><td>Ciclo básico/ educación secundaria básica                                                                                                                                                                              </td><td>...                                                                                                                                                                                                                    </td><td>146                                                                                                                                                                                                                    </td><td>103                                                                                                                                                                                                                    </td><td>184                                                                                                                                                                                                                    </td><td>120                                                                                                                                                                                                                    </td><td>73                                                                                                                                                                                                                     </td><td>0                                                                                                                                                                                                                      </td><td>345                                                                                                                                                                                                                    </td><td>377                                                                                                                                                                                                                    </td><td>722                                                                                                                                                                                                                    </td><td>Bachiller con orientación en economía y administración; Bachiller con orientación en economía y administración; Bachiller orientado en ciencias naturales; Bachiller con orientación en ciencias sociales y humanidades</td></tr>\n",
       "\t<tr><td>600110200                                                                                                                                                                                                              </td><td>Secundaria                                                                                                                                                                                                             </td><td>Común                                                                                                                                                                                                                  </td><td>6001102                                                                                                                                                                                                                </td><td>Activo                                                                                                                                                                                                                 </td><td>ESTATAL                                                                                                                                                                                                                </td><td>NA                                                                                                                                                                                                                     </td><td>no                                                                                                                                                                                                                     </td><td>14                                                                                                                                                                                                                     </td><td>Ciclo básico/ educación secundaria básica                                                                                                                                                                              </td><td>...                                                                                                                                                                                                                    </td><td> 73                                                                                                                                                                                                                    </td><td> 66                                                                                                                                                                                                                    </td><td> 59                                                                                                                                                                                                                    </td><td> 39                                                                                                                                                                                                                    </td><td>43                                                                                                                                                                                                                     </td><td>0                                                                                                                                                                                                                      </td><td>199                                                                                                                                                                                                                    </td><td>141                                                                                                                                                                                                                    </td><td>340                                                                                                                                                                                                                    </td><td>Bachiller con orientación en ciencias naturales; Bachiller en ciencias sociales y humanidades                                                                                                                          </td></tr>\n",
       "</tbody>\n",
       "</table>\n"
      ],
      "text/latex": [
       "\\begin{tabular}{r|lllllllllllllllllllll}\n",
       " Cue\\_Anexo & Nivel & Modalidad\\_Educ\\_Gral & Cue & Estado & Sector & Departamento & NINA & Cant\\_Secciones & Tipo\\_titulo & ... & Segundo & Tercero & Cuarto & Quinto & Sexto & Septimo & Mat\\_ciclo\\_basico & Mat\\_ciclo\\_orientado & Matricula\\_Total & Titulo\\\\\n",
       "\\hline\n",
       "\t 600003600                                                                                                                                                                                                               & Secundaria                                                                                                                                                                                                              & Común                                                                                                                                                                                                                   & 6000036                                                                                                                                                                                                                 & Activo                                                                                                                                                                                                                  & ESTATAL                                                                                                                                                                                                                 & NA                                                                                                                                                                                                                      & no                                                                                                                                                                                                                      & 18                                                                                                                                                                                                                      & Ciclo básico/ educación secundaria básica                                                                                                                                                                               & ...                                                                                                                                                                                                                     &  79                                                                                                                                                                                                                     &  73                                                                                                                                                                                                                     &  65                                                                                                                                                                                                                     &  54                                                                                                                                                                                                                     & 61                                                                                                                                                                                                                      & 0                                                                                                                                                                                                                       & 219                                                                                                                                                                                                                     & 180                                                                                                                                                                                                                     & 399                                                                                                                                                                                                                     & Bachiller en ciencias sociales y humanidades; Bachiller en economía y administración                                                                                                                                   \\\\\n",
       "\t 600035000                                                                                                                                                                                                               & Secundaria                                                                                                                                                                                                              & Común                                                                                                                                                                                                                   & 6000350                                                                                                                                                                                                                 & Activo                                                                                                                                                                                                                  & ESTATAL                                                                                                                                                                                                                 & NA                                                                                                                                                                                                                      & no                                                                                                                                                                                                                      &  6                                                                                                                                                                                                                      & Ciclo básico/ educación secundaria básica                                                                                                                                                                               & ...                                                                                                                                                                                                                     &  17                                                                                                                                                                                                                     &  11                                                                                                                                                                                                                     &   9                                                                                                                                                                                                                     &   7                                                                                                                                                                                                                     &  7                                                                                                                                                                                                                      & 0                                                                                                                                                                                                                       &  44                                                                                                                                                                                                                     &  23                                                                                                                                                                                                                     &  67                                                                                                                                                                                                                     & Bachiller en economía y administración                                                                                                                                                                                 \\\\\n",
       "\t 600046400                                                                                                                                                                                                               & Secundaria                                                                                                                                                                                                              & Común                                                                                                                                                                                                                   & 6000464                                                                                                                                                                                                                 & Activo                                                                                                                                                                                                                  & ESTATAL                                                                                                                                                                                                                 & FEDERACION                                                                                                                                                                                                              & no                                                                                                                                                                                                                      & 13                                                                                                                                                                                                                      & Ciclo básico/ educación secundaria básica                                                                                                                                                                               & ...                                                                                                                                                                                                                     &  60                                                                                                                                                                                                                     &  32                                                                                                                                                                                                                     &  39                                                                                                                                                                                                                     &  43                                                                                                                                                                                                                     & NA                                                                                                                                                                                                                      & 0                                                                                                                                                                                                                       & 157                                                                                                                                                                                                                     &  99                                                                                                                                                                                                                     & 256                                                                                                                                                                                                                     & Bachiller con orientación en arte; Bachiller en economía y administración                                                                                                                                              \\\\\n",
       "\t 600067800                                                                                                                                                                                                               & Secundaria                                                                                                                                                                                                              & Común                                                                                                                                                                                                                   & 6000678                                                                                                                                                                                                                 & Activo                                                                                                                                                                                                                  & ESTATAL                                                                                                                                                                                                                 & NA                                                                                                                                                                                                                      & no                                                                                                                                                                                                                      & 17                                                                                                                                                                                                                      & Ciclo básico/ educación secundaria básica                                                                                                                                                                               & ...                                                                                                                                                                                                                     &  45                                                                                                                                                                                                                     &  47                                                                                                                                                                                                                     &  41                                                                                                                                                                                                                     &  37                                                                                                                                                                                                                     & 40                                                                                                                                                                                                                      & 0                                                                                                                                                                                                                       & 127                                                                                                                                                                                                                     & 118                                                                                                                                                                                                                     & 245                                                                                                                                                                                                                     & Bachiller en ciencias naturales; Bachiller en economía y administración                                                                                                                                                \\\\\n",
       "\t 600093400                                                                                                                                                                                                               & Secundaria                                                                                                                                                                                                              & Común                                                                                                                                                                                                                   & 6000934                                                                                                                                                                                                                 & Activo                                                                                                                                                                                                                  & ESTATAL                                                                                                                                                                                                                 & VILLAGUAY                                                                                                                                                                                                               & no                                                                                                                                                                                                                      & 37                                                                                                                                                                                                                      & Ciclo básico/ educación secundaria básica                                                                                                                                                                               & ...                                                                                                                                                                                                                     & 146                                                                                                                                                                                                                     & 103                                                                                                                                                                                                                     & 184                                                                                                                                                                                                                     & 120                                                                                                                                                                                                                     & 73                                                                                                                                                                                                                      & 0                                                                                                                                                                                                                       & 345                                                                                                                                                                                                                     & 377                                                                                                                                                                                                                     & 722                                                                                                                                                                                                                     & Bachiller con orientación en economía y administración; Bachiller con orientación en economía y administración; Bachiller orientado en ciencias naturales; Bachiller con orientación en ciencias sociales y humanidades\\\\\n",
       "\t 600110200                                                                                                                                                                                                               & Secundaria                                                                                                                                                                                                              & Común                                                                                                                                                                                                                   & 6001102                                                                                                                                                                                                                 & Activo                                                                                                                                                                                                                  & ESTATAL                                                                                                                                                                                                                 & NA                                                                                                                                                                                                                      & no                                                                                                                                                                                                                      & 14                                                                                                                                                                                                                      & Ciclo básico/ educación secundaria básica                                                                                                                                                                               & ...                                                                                                                                                                                                                     &  73                                                                                                                                                                                                                     &  66                                                                                                                                                                                                                     &  59                                                                                                                                                                                                                     &  39                                                                                                                                                                                                                     & 43                                                                                                                                                                                                                      & 0                                                                                                                                                                                                                       & 199                                                                                                                                                                                                                     & 141                                                                                                                                                                                                                     & 340                                                                                                                                                                                                                     & Bachiller con orientación en ciencias naturales; Bachiller en ciencias sociales y humanidades                                                                                                                          \\\\\n",
       "\\end{tabular}\n"
      ],
      "text/markdown": [
       "\n",
       "| Cue_Anexo | Nivel | Modalidad_Educ_Gral | Cue | Estado | Sector | Departamento | NINA | Cant_Secciones | Tipo_titulo | ... | Segundo | Tercero | Cuarto | Quinto | Sexto | Septimo | Mat_ciclo_basico | Mat_ciclo_orientado | Matricula_Total | Titulo |\n",
       "|---|---|---|---|---|---|---|---|---|---|---|---|---|---|---|---|---|---|---|---|---|\n",
       "| 600003600                                                                                                                                                                                                               | Secundaria                                                                                                                                                                                                              | Común                                                                                                                                                                                                                   | 6000036                                                                                                                                                                                                                 | Activo                                                                                                                                                                                                                  | ESTATAL                                                                                                                                                                                                                 | NA                                                                                                                                                                                                                      | no                                                                                                                                                                                                                      | 18                                                                                                                                                                                                                      | Ciclo básico/ educación secundaria básica                                                                                                                                                                               | ...                                                                                                                                                                                                                     |  79                                                                                                                                                                                                                     |  73                                                                                                                                                                                                                     |  65                                                                                                                                                                                                                     |  54                                                                                                                                                                                                                     | 61                                                                                                                                                                                                                      | 0                                                                                                                                                                                                                       | 219                                                                                                                                                                                                                     | 180                                                                                                                                                                                                                     | 399                                                                                                                                                                                                                     | Bachiller en ciencias sociales y humanidades; Bachiller en economía y administración                                                                                                                                    |\n",
       "| 600035000                                                                                                                                                                                                               | Secundaria                                                                                                                                                                                                              | Común                                                                                                                                                                                                                   | 6000350                                                                                                                                                                                                                 | Activo                                                                                                                                                                                                                  | ESTATAL                                                                                                                                                                                                                 | NA                                                                                                                                                                                                                      | no                                                                                                                                                                                                                      |  6                                                                                                                                                                                                                      | Ciclo básico/ educación secundaria básica                                                                                                                                                                               | ...                                                                                                                                                                                                                     |  17                                                                                                                                                                                                                     |  11                                                                                                                                                                                                                     |   9                                                                                                                                                                                                                     |   7                                                                                                                                                                                                                     |  7                                                                                                                                                                                                                      | 0                                                                                                                                                                                                                       |  44                                                                                                                                                                                                                     |  23                                                                                                                                                                                                                     |  67                                                                                                                                                                                                                     | Bachiller en economía y administración                                                                                                                                                                                  |\n",
       "| 600046400                                                                                                                                                                                                               | Secundaria                                                                                                                                                                                                              | Común                                                                                                                                                                                                                   | 6000464                                                                                                                                                                                                                 | Activo                                                                                                                                                                                                                  | ESTATAL                                                                                                                                                                                                                 | FEDERACION                                                                                                                                                                                                              | no                                                                                                                                                                                                                      | 13                                                                                                                                                                                                                      | Ciclo básico/ educación secundaria básica                                                                                                                                                                               | ...                                                                                                                                                                                                                     |  60                                                                                                                                                                                                                     |  32                                                                                                                                                                                                                     |  39                                                                                                                                                                                                                     |  43                                                                                                                                                                                                                     | NA                                                                                                                                                                                                                      | 0                                                                                                                                                                                                                       | 157                                                                                                                                                                                                                     |  99                                                                                                                                                                                                                     | 256                                                                                                                                                                                                                     | Bachiller con orientación en arte; Bachiller en economía y administración                                                                                                                                               |\n",
       "| 600067800                                                                                                                                                                                                               | Secundaria                                                                                                                                                                                                              | Común                                                                                                                                                                                                                   | 6000678                                                                                                                                                                                                                 | Activo                                                                                                                                                                                                                  | ESTATAL                                                                                                                                                                                                                 | NA                                                                                                                                                                                                                      | no                                                                                                                                                                                                                      | 17                                                                                                                                                                                                                      | Ciclo básico/ educación secundaria básica                                                                                                                                                                               | ...                                                                                                                                                                                                                     |  45                                                                                                                                                                                                                     |  47                                                                                                                                                                                                                     |  41                                                                                                                                                                                                                     |  37                                                                                                                                                                                                                     | 40                                                                                                                                                                                                                      | 0                                                                                                                                                                                                                       | 127                                                                                                                                                                                                                     | 118                                                                                                                                                                                                                     | 245                                                                                                                                                                                                                     | Bachiller en ciencias naturales; Bachiller en economía y administración                                                                                                                                                 |\n",
       "| 600093400                                                                                                                                                                                                               | Secundaria                                                                                                                                                                                                              | Común                                                                                                                                                                                                                   | 6000934                                                                                                                                                                                                                 | Activo                                                                                                                                                                                                                  | ESTATAL                                                                                                                                                                                                                 | VILLAGUAY                                                                                                                                                                                                               | no                                                                                                                                                                                                                      | 37                                                                                                                                                                                                                      | Ciclo básico/ educación secundaria básica                                                                                                                                                                               | ...                                                                                                                                                                                                                     | 146                                                                                                                                                                                                                     | 103                                                                                                                                                                                                                     | 184                                                                                                                                                                                                                     | 120                                                                                                                                                                                                                     | 73                                                                                                                                                                                                                      | 0                                                                                                                                                                                                                       | 345                                                                                                                                                                                                                     | 377                                                                                                                                                                                                                     | 722                                                                                                                                                                                                                     | Bachiller con orientación en economía y administración; Bachiller con orientación en economía y administración; Bachiller orientado en ciencias naturales; Bachiller con orientación en ciencias sociales y humanidades |\n",
       "| 600110200                                                                                                                                                                                                               | Secundaria                                                                                                                                                                                                              | Común                                                                                                                                                                                                                   | 6001102                                                                                                                                                                                                                 | Activo                                                                                                                                                                                                                  | ESTATAL                                                                                                                                                                                                                 | NA                                                                                                                                                                                                                      | no                                                                                                                                                                                                                      | 14                                                                                                                                                                                                                      | Ciclo básico/ educación secundaria básica                                                                                                                                                                               | ...                                                                                                                                                                                                                     |  73                                                                                                                                                                                                                     |  66                                                                                                                                                                                                                     |  59                                                                                                                                                                                                                     |  39                                                                                                                                                                                                                     | 43                                                                                                                                                                                                                      | 0                                                                                                                                                                                                                       | 199                                                                                                                                                                                                                     | 141                                                                                                                                                                                                                     | 340                                                                                                                                                                                                                     | Bachiller con orientación en ciencias naturales; Bachiller en ciencias sociales y humanidades                                                                                                                           |\n",
       "\n"
      ],
      "text/plain": [
       "  Cue_Anexo Nivel      Modalidad_Educ_Gral Cue     Estado Sector  Departamento\n",
       "1 600003600 Secundaria Común               6000036 Activo ESTATAL NA          \n",
       "2 600035000 Secundaria Común               6000350 Activo ESTATAL NA          \n",
       "3 600046400 Secundaria Común               6000464 Activo ESTATAL FEDERACION  \n",
       "4 600067800 Secundaria Común               6000678 Activo ESTATAL NA          \n",
       "5 600093400 Secundaria Común               6000934 Activo ESTATAL VILLAGUAY   \n",
       "6 600110200 Secundaria Común               6001102 Activo ESTATAL NA          \n",
       "  NINA Cant_Secciones Tipo_titulo                               ... Segundo\n",
       "1 no   18             Ciclo básico/ educación secundaria básica ...  79    \n",
       "2 no    6             Ciclo básico/ educación secundaria básica ...  17    \n",
       "3 no   13             Ciclo básico/ educación secundaria básica ...  60    \n",
       "4 no   17             Ciclo básico/ educación secundaria básica ...  45    \n",
       "5 no   37             Ciclo básico/ educación secundaria básica ... 146    \n",
       "6 no   14             Ciclo básico/ educación secundaria básica ...  73    \n",
       "  Tercero Cuarto Quinto Sexto Septimo Mat_ciclo_basico Mat_ciclo_orientado\n",
       "1  73      65     54    61    0       219              180                \n",
       "2  11       9      7     7    0        44               23                \n",
       "3  32      39     43    NA    0       157               99                \n",
       "4  47      41     37    40    0       127              118                \n",
       "5 103     184    120    73    0       345              377                \n",
       "6  66      59     39    43    0       199              141                \n",
       "  Matricula_Total\n",
       "1 399            \n",
       "2  67            \n",
       "3 256            \n",
       "4 245            \n",
       "5 722            \n",
       "6 340            \n",
       "  Titulo                                                                                                                                                                                                                 \n",
       "1 Bachiller en ciencias sociales y humanidades; Bachiller en economía y administración                                                                                                                                   \n",
       "2 Bachiller en economía y administración                                                                                                                                                                                 \n",
       "3 Bachiller con orientación en arte; Bachiller en economía y administración                                                                                                                                              \n",
       "4 Bachiller en ciencias naturales; Bachiller en economía y administración                                                                                                                                                \n",
       "5 Bachiller con orientación en economía y administración; Bachiller con orientación en economía y administración; Bachiller orientado en ciencias naturales; Bachiller con orientación en ciencias sociales y humanidades\n",
       "6 Bachiller con orientación en ciencias naturales; Bachiller en ciencias sociales y humanidades                                                                                                                          "
      ]
     },
     "metadata": {},
     "output_type": "display_data"
    },
    {
     "data": {
      "text/html": [
       "<ol class=list-inline>\n",
       "\t<li>NA</li>\n",
       "\t<li>'FEDERACION'</li>\n",
       "\t<li>'VILLAGUAY'</li>\n",
       "\t<li>'VICTORIA'</li>\n",
       "\t<li>'LA PAZ'</li>\n",
       "\t<li>'DIAMANTE'</li>\n",
       "\t<li>'NOGOYA'</li>\n",
       "\t<li>'COLON'</li>\n",
       "\t<li>'GUALEGUAY'</li>\n",
       "</ol>\n"
      ],
      "text/latex": [
       "\\begin{enumerate*}\n",
       "\\item NA\n",
       "\\item 'FEDERACION'\n",
       "\\item 'VILLAGUAY'\n",
       "\\item 'VICTORIA'\n",
       "\\item 'LA PAZ'\n",
       "\\item 'DIAMANTE'\n",
       "\\item 'NOGOYA'\n",
       "\\item 'COLON'\n",
       "\\item 'GUALEGUAY'\n",
       "\\end{enumerate*}\n"
      ],
      "text/markdown": [
       "1. NA\n",
       "2. 'FEDERACION'\n",
       "3. 'VILLAGUAY'\n",
       "4. 'VICTORIA'\n",
       "5. 'LA PAZ'\n",
       "6. 'DIAMANTE'\n",
       "7. 'NOGOYA'\n",
       "8. 'COLON'\n",
       "9. 'GUALEGUAY'\n",
       "\n",
       "\n"
      ],
      "text/plain": [
       "[1] NA           \"FEDERACION\" \"VILLAGUAY\"  \"VICTORIA\"   \"LA PAZ\"    \n",
       "[6] \"DIAMANTE\"   \"NOGOYA\"     \"COLON\"      \"GUALEGUAY\" "
      ]
     },
     "metadata": {},
     "output_type": "display_data"
    }
   ],
   "source": [
    "head(matrSecundaria)\n",
    "unique(matrSecundaria$Departamento)"
   ]
  },
  {
   "attachments": {},
   "cell_type": "markdown",
   "id": "8a9cb32b",
   "metadata": {},
   "source": [
    "### **Explora los datos de la muestra mediante gráficos y descriptivos. ¿Observamos diferencias en los valores promedios y de variabilidad por grupos?**"
   ]
  },
  {
   "cell_type": "code",
   "execution_count": 19,
   "id": "107819b2",
   "metadata": {
    "vscode": {
     "languageId": "r"
    }
   },
   "outputs": [],
   "source": [
    "gualeguay <- filter(matrSecundaria, Departamento == \"GUALEGUAY\")\n",
    "gualeguay <- select(gualeguay, Modalidad_Educ_Gral, Cue, Estado, Sector,\n",
    "NINA, Cant_Secciones,Tipo_titulo,Primero, Segundo,Tercero, Cuarto, Quinto, \n",
    "Sexto, Septimo, Mat_ciclo_basico, Mat_ciclo_orientado, Matricula_Total)"
   ]
  },
  {
   "cell_type": "code",
   "execution_count": 20,
   "id": "9ddf44e2",
   "metadata": {
    "vscode": {
     "languageId": "r"
    }
   },
   "outputs": [
    {
     "data": {
      "text/html": [
       "<table>\n",
       "<thead><tr><th scope=col>primero</th><th scope=col>segundo</th><th scope=col>tercero</th><th scope=col>cuarto</th><th scope=col>quinto</th><th scope=col>sexto</th><th scope=col>septimo</th></tr></thead>\n",
       "<tbody>\n",
       "\t<tr><td> 15</td><td> 21</td><td> 18</td><td> 34</td><td>14 </td><td>26 </td><td>0  </td></tr>\n",
       "\t<tr><td> 95</td><td> 71</td><td> 61</td><td> 52</td><td>36 </td><td>43 </td><td>0  </td></tr>\n",
       "\t<tr><td> 90</td><td> 81</td><td> 89</td><td> 79</td><td>97 </td><td>77 </td><td>0  </td></tr>\n",
       "\t<tr><td>118</td><td>149</td><td>110</td><td>115</td><td>88 </td><td>70 </td><td>0  </td></tr>\n",
       "\t<tr><td> 48</td><td> 48</td><td> 52</td><td> 53</td><td>32 </td><td>38 </td><td>0  </td></tr>\n",
       "\t<tr><td>  5</td><td>  4</td><td>  6</td><td>  3</td><td> 7 </td><td>11 </td><td>0  </td></tr>\n",
       "</tbody>\n",
       "</table>\n"
      ],
      "text/latex": [
       "\\begin{tabular}{r|lllllll}\n",
       " primero & segundo & tercero & cuarto & quinto & sexto & septimo\\\\\n",
       "\\hline\n",
       "\t  15 &  21 &  18 &  34 & 14  & 26  & 0  \\\\\n",
       "\t  95 &  71 &  61 &  52 & 36  & 43  & 0  \\\\\n",
       "\t  90 &  81 &  89 &  79 & 97  & 77  & 0  \\\\\n",
       "\t 118 & 149 & 110 & 115 & 88  & 70  & 0  \\\\\n",
       "\t  48 &  48 &  52 &  53 & 32  & 38  & 0  \\\\\n",
       "\t   5 &   4 &   6 &   3 &  7  & 11  & 0  \\\\\n",
       "\\end{tabular}\n"
      ],
      "text/markdown": [
       "\n",
       "| primero | segundo | tercero | cuarto | quinto | sexto | septimo |\n",
       "|---|---|---|---|---|---|---|\n",
       "|  15 |  21 |  18 |  34 | 14  | 26  | 0   |\n",
       "|  95 |  71 |  61 |  52 | 36  | 43  | 0   |\n",
       "|  90 |  81 |  89 |  79 | 97  | 77  | 0   |\n",
       "| 118 | 149 | 110 | 115 | 88  | 70  | 0   |\n",
       "|  48 |  48 |  52 |  53 | 32  | 38  | 0   |\n",
       "|   5 |   4 |   6 |   3 |  7  | 11  | 0   |\n",
       "\n"
      ],
      "text/plain": [
       "  primero segundo tercero cuarto quinto sexto septimo\n",
       "1  15      21      18      34    14     26    0      \n",
       "2  95      71      61      52    36     43    0      \n",
       "3  90      81      89      79    97     77    0      \n",
       "4 118     149     110     115    88     70    0      \n",
       "5  48      48      52      53    32     38    0      \n",
       "6   5       4       6       3     7     11    0      "
      ]
     },
     "metadata": {},
     "output_type": "display_data"
    }
   ],
   "source": [
    "#filtro la variable GUALEGUAY y guardo cada año\n",
    "primero <- gualeguay$Primero\n",
    "segundo <- gualeguay$Segundo\n",
    "tercero <- gualeguay$Tercero\n",
    "cuarto <- gualeguay$Cuarto\n",
    "quinto <- gualeguay$Quinto\n",
    "sexto <- gualeguay$Sexto\n",
    "septimo <- gualeguay$Septimo\n",
    "#las junto en un nuevo dataframe\n",
    "aniosMatricula <- data.frame(primero, segundo, tercero, cuarto, quinto, sexto, septimo)\n",
    "aniosMatricula <- na.omit(aniosMatricula)\n",
    "head(aniosMatricula)"
   ]
  },
  {
   "cell_type": "code",
   "execution_count": 21,
   "id": "c9e130e3",
   "metadata": {
    "vscode": {
     "languageId": "r"
    }
   },
   "outputs": [
    {
     "data": {
      "image/png": "[encoded data removed]",
      "text/plain": [
       "Plot with title \"Boxplot - Distribución de matriculas en Gualeguay\""
      ]
     },
     "metadata": {},
     "output_type": "display_data"
    }
   ],
   "source": [
    "boxplot(aniosMatricula$primero,aniosMatricula$segundo,\n",
    "aniosMatricula$tercero, aniosMatricula$cuarto,\n",
    "aniosMatricula$quinto, aniosMatricula$sexto,\n",
    "col = c(\"palegreen3\",\n",
    "\"salmon1\",\"slateblue\", \"gold3\", \"indianred\",\n",
    "\"olivedrab3\",\"palegreen2\"),\n",
    "ylab = \"Cantidad\",\n",
    "xlab=\"Matriculas\",\n",
    "main = \"Boxplot - Distribución de matriculas en Gualeguay\")    \n",
    "\n",
    "nombres <- c(\"Primero\", \"Segundo\", \"Tercero\", \"Cuarto\", \"Quinto\", \"Sexto\", \"Septimo\")\n",
    "axis(side = 1, at = 1:length(nombres), labels = nombres)\n"
   ]
  },
  {
   "attachments": {},
   "cell_type": "markdown",
   "id": "a50c82fd",
   "metadata": {},
   "source": [
    "---"
   ]
  },
  {
   "attachments": {},
   "cell_type": "markdown",
   "id": "12244433",
   "metadata": {
    "vscode": {
     "languageId": "r"
    }
   },
   "source": [
    "# **Análisis Bivariado Cualitativo**"
   ]
  },
  {
   "attachments": {},
   "cell_type": "markdown",
   "id": "e845f22a",
   "metadata": {},
   "source": [
    "**Modifico variable \"resultado\" en primaria y secundaria que depende de cuál caso se cumple en la variable \"promedio\"**"
   ]
  },
  {
   "cell_type": "code",
   "execution_count": 22,
   "id": "00ed60f6",
   "metadata": {
    "vscode": {
     "languageId": "r"
    }
   },
   "outputs": [
    {
     "data": {
      "text/plain": [
       " Aprobado Rinde sin registro completo\n",
       "                                     \n",
       "    78799 38061                  4843"
      ]
     },
     "metadata": {},
     "output_type": "display_data"
    },
    {
     "data": {
      "text/plain": [
       " Aprobado Rinde sin registro completo\n",
       "                                     \n",
       "    23311  9716                  3477"
      ]
     },
     "metadata": {},
     "output_type": "display_data"
    }
   ],
   "source": [
    "original <- original %>% mutate(resultado = case_when(\n",
    "promedio >= 6 & notaTercerT >= 6 ~ \"Aprobado\",\n",
    "promedio < 6 | notaTercerT < 6 ~ \"Rinde\",\n",
    "TRUE ~ \"sin registro completo\"))\n",
    "\n",
    "primaria <- primaria %>% mutate(resultado = case_when(\n",
    "promedio >= 6 & notaTercerT >= 6 ~ \"Aprobado\",\n",
    "promedio < 6 | notaTercerT < 6 ~ \"Rinde\",\n",
    "TRUE ~ \"sin registro completo\"))\n",
    "\n",
    "#checkeo que se haya creado la nueva variable\n",
    "ftable(original$resultado)\n",
    "ftable(primaria$resultado)"
   ]
  },
  {
   "attachments": {},
   "cell_type": "markdown",
   "id": "f582f26c",
   "metadata": {},
   "source": [
    "**Creo la variable 'desempeño' en primaria y secundaria para clasificar las notas obtenidas** "
   ]
  },
  {
   "cell_type": "code",
   "execution_count": 23,
   "id": "3cc7aa4d",
   "metadata": {
    "vscode": {
     "languageId": "r"
    }
   },
   "outputs": [
    {
     "data": {
      "text/plain": [
       " Aprobado Bueno Distinguido Insuficiente Muy bueno Regular Sin registro completo\n",
       "                                                                                \n",
       "    16267 22860       34343          386     34333    8526                  4988"
      ]
     },
     "metadata": {},
     "output_type": "display_data"
    },
    {
     "data": {
      "text/plain": [
       " Aprobado Bueno Distinguido Muy bueno Sin registro completo\n",
       "                                                           \n",
       "     3323  6337       12311     11023                  3510"
      ]
     },
     "metadata": {},
     "output_type": "display_data"
    }
   ],
   "source": [
    "original <- original %>% mutate(desempenio = case_when(\n",
    "    promedio < 4 ~ \"Insuficiente\",\n",
    "    promedio >= 4 & promedio < 6 ~ \"Regular\",\n",
    "    promedio >= 6 & promedio < 7 ~ \"Aprobado\",\n",
    "    promedio >= 7 & promedio < 8 ~ \"Bueno\",\n",
    "    promedio >= 8 & promedio < 9 ~ \"Muy bueno\",\n",
    "    promedio >= 9 & promedio <= 10 ~ \"Distinguido\",\n",
    "    TRUE ~ \"Sin registro completo\"))\n",
    "\n",
    "primaria <- primaria %>% mutate(desempenio = case_when(\n",
    "    promedio < 4 ~ \"Insuficiente\",\n",
    "    promedio >= 4 & promedio < 6 ~ \"Regular\",\n",
    "    promedio >= 6 & promedio < 7 ~ \"Aprobado\",\n",
    "    promedio >= 7 & promedio < 8 ~ \"Bueno\",\n",
    "    promedio >= 8 & promedio < 9 ~ \"Muy bueno\",\n",
    "    promedio >= 9 & promedio <= 10 ~ \"Distinguido\",\n",
    "    TRUE ~ \"Sin registro completo\"))\n",
    "\n",
    "#checkeo que se haya creado la nueva variable\n",
    "ftable(original$desempenio)\n",
    "ftable(primaria$desempenio)"
   ]
  },
  {
   "attachments": {},
   "cell_type": "markdown",
   "id": "2f1524bb",
   "metadata": {},
   "source": [
    "**Creo la variable 'eximido'. Mide si un estudiante no se llevó ninguna materia, se llevó entre 1 y 3 materias, se llevó más de tres materias.**"
   ]
  },
  {
   "cell_type": "code",
   "execution_count": 25,
   "id": "e7664b79",
   "metadata": {
    "vscode": {
     "languageId": "r"
    }
   },
   "outputs": [
    {
     "data": {
      "text/plain": [
       " Eximido NoEximido ParcialmenteEximido\n",
       "                                      \n",
       "   21565     57511               42627"
      ]
     },
     "metadata": {},
     "output_type": "display_data"
    },
    {
     "data": {
      "text/plain": [
       " Eximido NoEximido ParcialmenteEximido\n",
       "                                      \n",
       "   15907      5991               14606"
      ]
     },
     "metadata": {},
     "output_type": "display_data"
    }
   ],
   "source": [
    "original <- original %>%\n",
    "  group_by(documento) %>%\n",
    "  mutate(asignaturasDesaprobadas = sum(str_detect(resultado, regex(\"Rinde\", ignore_case = TRUE))))\n",
    "\n",
    "original <- original %>% \n",
    "  mutate(eximido = case_when(\n",
    "    asignaturasDesaprobadas == 0 ~ \"Eximido\",\n",
    "    asignaturasDesaprobadas < 4 & asignaturasDesaprobadas >= 1 ~ \"ParcialmenteEximido\",\n",
    "    asignaturasDesaprobadas > 3  ~ \"NoEximido\",\n",
    "    TRUE ~ \"sin registro completo\"\n",
    "))\n",
    "\n",
    "primaria <- primaria %>%\n",
    "  group_by(documento) %>%\n",
    "  mutate(asignaturasDesaprobadas = sum(str_detect(resultado, regex(\"Rinde\", ignore_case = TRUE))))\n",
    "primaria <- primaria %>% mutate(eximido = case_when(\n",
    "  asignaturasDesaprobadas == 0 ~ \"Eximido\",\n",
    "  asignaturasDesaprobadas < 4 & asignaturasDesaprobadas >= 1 ~ \"ParcialmenteEximido\",\n",
    "  asignaturasDesaprobadas > 3  ~ \"NoEximido\",\n",
    "  TRUE ~ \"sin registro completo\"\n",
    "))\n",
    "\n",
    "\n",
    "\n",
    "#checkeo que se haya creado la nueva variable\n",
    "ftable(original$eximido)\n",
    "ftable(primaria$eximido)"
   ]
  },
  {
   "attachments": {},
   "cell_type": "markdown",
   "id": "5f3b7d78",
   "metadata": {},
   "source": [
    "### **Realizo un KRUSKAL test (no parametrico) para la variable nueva 'eximido'**\n",
    "### **¿Hay diferencias significativas entre las medias de los valores de eximido?**\n",
    "### H0: No hay diferencias entre las medias de los valores de eximido.\n",
    "### H1: Existen diferencias entre las medias de los valores de eximido.\n"
   ]
  },
  {
   "cell_type": "code",
   "execution_count": 27,
   "id": "67b782f2",
   "metadata": {
    "vscode": {
     "languageId": "r"
    }
   },
   "outputs": [
    {
     "data": {
      "text/html": [
       "<table>\n",
       "<thead><tr><th scope=col>prom</th><th scope=col>eximidos</th></tr></thead>\n",
       "<tbody>\n",
       "\t<tr><td>8.00               </td><td>ParcialmenteEximido</td></tr>\n",
       "\t<tr><td>8.00               </td><td>ParcialmenteEximido</td></tr>\n",
       "\t<tr><td>9.33               </td><td>ParcialmenteEximido</td></tr>\n",
       "\t<tr><td>7.33               </td><td>ParcialmenteEximido</td></tr>\n",
       "\t<tr><td>7.33               </td><td>ParcialmenteEximido</td></tr>\n",
       "\t<tr><td>8.33               </td><td>ParcialmenteEximido</td></tr>\n",
       "</tbody>\n",
       "</table>\n"
      ],
      "text/latex": [
       "\\begin{tabular}{r|ll}\n",
       " prom & eximidos\\\\\n",
       "\\hline\n",
       "\t 8.00                & ParcialmenteEximido\\\\\n",
       "\t 8.00                & ParcialmenteEximido\\\\\n",
       "\t 9.33                & ParcialmenteEximido\\\\\n",
       "\t 7.33                & ParcialmenteEximido\\\\\n",
       "\t 7.33                & ParcialmenteEximido\\\\\n",
       "\t 8.33                & ParcialmenteEximido\\\\\n",
       "\\end{tabular}\n"
      ],
      "text/markdown": [
       "\n",
       "| prom | eximidos |\n",
       "|---|---|\n",
       "| 8.00                | ParcialmenteEximido |\n",
       "| 8.00                | ParcialmenteEximido |\n",
       "| 9.33                | ParcialmenteEximido |\n",
       "| 7.33                | ParcialmenteEximido |\n",
       "| 7.33                | ParcialmenteEximido |\n",
       "| 8.33                | ParcialmenteEximido |\n",
       "\n"
      ],
      "text/plain": [
       "  prom eximidos           \n",
       "1 8.00 ParcialmenteEximido\n",
       "2 8.00 ParcialmenteEximido\n",
       "3 9.33 ParcialmenteEximido\n",
       "4 7.33 ParcialmenteEximido\n",
       "5 7.33 ParcialmenteEximido\n",
       "6 8.33 ParcialmenteEximido"
      ]
     },
     "metadata": {},
     "output_type": "display_data"
    }
   ],
   "source": [
    "#filtro la variable eximido y promedio\n",
    "eximidos <- primaria$eximido\n",
    "prom <- primaria$promedio\n",
    "#las junto en un nuevo dataframe\n",
    "data_eximidos <- data.frame(prom,eximidos)\n",
    "data_eximidos <- na.omit(data_eximidos)\n",
    "head(data_eximidos)"
   ]
  },
  {
   "attachments": {},
   "cell_type": "markdown",
   "id": "0ccc1252",
   "metadata": {},
   "source": [
    "Exploro los datos y visualizo las distribuciones"
   ]
  },
  {
   "cell_type": "code",
   "execution_count": 28,
   "id": "8f765434",
   "metadata": {
    "vscode": {
     "languageId": "r"
    }
   },
   "outputs": [
    {
     "data": {
      "image/png": "[encoded data removed]",
      "text/plain": [
       "plot without title"
      ]
     },
     "metadata": {},
     "output_type": "display_data"
    }
   ],
   "source": [
    "boxplot(data_eximidos$prom ~ data_eximidos$eximidos, col = c(\"palegreen3\", \"salmon1\",\"slateblue\"), ylab = \"Variable Promedios\", xlab=\"Variable Eximidos\")"
   ]
  },
  {
   "attachments": {},
   "cell_type": "markdown",
   "id": "d08309bc",
   "metadata": {},
   "source": [
    "Calculamos la media de cada población"
   ]
  },
  {
   "cell_type": "code",
   "execution_count": null,
   "id": "4945ee89",
   "metadata": {
    "vscode": {
     "languageId": "r"
    }
   },
   "outputs": [
    {
     "data": {
      "text/html": [
       "<table>\n",
       "<thead><tr><th scope=col>eximidos</th><th scope=col>mean</th><th scope=col>datos</th></tr></thead>\n",
       "<tbody>\n",
       "\t<tr><td>Eximido            </td><td>7.6                </td><td> 6525              </td></tr>\n",
       "\t<tr><td>NoEximido          </td><td>7.2                </td><td>18445              </td></tr>\n",
       "\t<tr><td>ParcialmenteEximido</td><td>7.4                </td><td>10191              </td></tr>\n",
       "</tbody>\n",
       "</table>\n"
      ],
      "text/latex": [
       "\\begin{tabular}{r|lll}\n",
       " eximidos & mean & datos\\\\\n",
       "\\hline\n",
       "\t Eximido             & 7.6                 &  6525              \\\\\n",
       "\t NoEximido           & 7.2                 & 18445              \\\\\n",
       "\t ParcialmenteEximido & 7.4                 & 10191              \\\\\n",
       "\\end{tabular}\n"
      ],
      "text/markdown": [
       "\n",
       "| eximidos | mean | datos |\n",
       "|---|---|---|\n",
       "| Eximido             | 7.6                 |  6525               |\n",
       "| NoEximido           | 7.2                 | 18445               |\n",
       "| ParcialmenteEximido | 7.4                 | 10191               |\n",
       "\n"
      ],
      "text/plain": [
       "  eximidos            mean datos\n",
       "1 Eximido             7.6   6525\n",
       "2 NoEximido           7.2  18445\n",
       "3 ParcialmenteEximido 7.4  10191"
      ]
     },
     "metadata": {},
     "output_type": "display_data"
    }
   ],
   "source": [
    "data_eximidos %>% group_by(eximidos) %>% summarise(mean = round(mean(prom),1), datos = n())"
   ]
  },
  {
   "attachments": {},
   "cell_type": "markdown",
   "id": "cdd1dc9b",
   "metadata": {},
   "source": [
    "Como mis poblaciones son de mas de 5000 datos, uso lillie test para verificar la distribución normal"
   ]
  },
  {
   "cell_type": "code",
   "execution_count": 29,
   "id": "abd33a24",
   "metadata": {
    "vscode": {
     "languageId": "r"
    }
   },
   "outputs": [
    {
     "data": {
      "text/plain": [
       "\n",
       "\tLilliefors (Kolmogorov-Smirnov) normality test\n",
       "\n",
       "data:  data_eximidos$prom[data_eximidos$eximidos == \"Eximido\"]\n",
       "D = 0.14066, p-value < 2.2e-16\n"
      ]
     },
     "metadata": {},
     "output_type": "display_data"
    },
    {
     "data": {
      "text/plain": [
       "\n",
       "\tLilliefors (Kolmogorov-Smirnov) normality test\n",
       "\n",
       "data:  data_eximidos$prom[data_eximidos$eximidos == \"NoEximido\"]\n",
       "D = 0.18476, p-value < 2.2e-16\n"
      ]
     },
     "metadata": {},
     "output_type": "display_data"
    },
    {
     "data": {
      "text/plain": [
       "\n",
       "\tLilliefors (Kolmogorov-Smirnov) normality test\n",
       "\n",
       "data:  data_eximidos$prom[data_eximidos$eximidos == \"ParcialmenteEximido\"]\n",
       "D = 0.13752, p-value < 2.2e-16\n"
      ]
     },
     "metadata": {},
     "output_type": "display_data"
    }
   ],
   "source": [
    "library(nortest)\n",
    "lillie.test(data_eximidos$prom[data_eximidos$eximidos == \"Eximido\"])\n",
    "lillie.test(data_eximidos$prom[data_eximidos$eximidos == \"NoEximido\"])\n",
    "lillie.test(data_eximidos$prom[data_eximidos$eximidos == \"ParcialmenteEximido\"])"
   ]
  },
  {
   "attachments": {},
   "cell_type": "markdown",
   "id": "aa5a73bb",
   "metadata": {},
   "source": [
    "**No se verifica que haya normalidad en la distribución. Uso kruskal test (no parametrico).**"
   ]
  },
  {
   "cell_type": "code",
   "execution_count": 30,
   "id": "637b495b",
   "metadata": {
    "vscode": {
     "languageId": "r"
    }
   },
   "outputs": [
    {
     "data": {
      "text/plain": [
       "\n",
       "\tKruskal-Wallis rank sum test\n",
       "\n",
       "data:  prom by eximidos\n",
       "Kruskal-Wallis chi-squared = 12314, df = 2, p-value < 2.2e-16\n"
      ]
     },
     "metadata": {},
     "output_type": "display_data"
    }
   ],
   "source": [
    "kruskal.test(prom ~ eximidos)"
   ]
  },
  {
   "attachments": {},
   "cell_type": "markdown",
   "id": "d4b1f057",
   "metadata": {},
   "source": [
    "Existe la suficiente evidencia estadistica para rechazar H0. Por ende, concluimos que si existen diferencias significativas entre la variable eximido. "
   ]
  },
  {
   "attachments": {},
   "cell_type": "markdown",
   "id": "20c17e5f",
   "metadata": {},
   "source": [
    "---"
   ]
  },
  {
   "attachments": {},
   "cell_type": "markdown",
   "id": "4ea0df0b",
   "metadata": {},
   "source": [
    "#### **Realice un Box Plot comparativo que muestre las notas de matemática de los diferentes años de primaria**"
   ]
  },
  {
   "cell_type": "code",
   "execution_count": 31,
   "id": "f97c3bfc",
   "metadata": {
    "vscode": {
     "languageId": "r"
    }
   },
   "outputs": [
    {
     "name": "stderr",
     "output_type": "stream",
     "text": [
      "Adding missing grouping variables: `documento`\n"
     ]
    },
    {
     "name": "stderr",
     "output_type": "stream",
     "text": [
      "Warning message:\n",
      "\"Removed 1351 rows containing non-finite values (stat_boxplot).\""
     ]
    },
    {
     "data": {
      "image/png": "[encoded data removed]",
      "text/plain": [
       "plot without title"
      ]
     },
     "metadata": {},
     "output_type": "display_data"
    }
   ],
   "source": [
    "#Filtro por asignatura. En este caso matemática.\n",
    "promMatematica <- filter(primaria, asignatura == \"MATEMATICA\")\n",
    "#Selecciono del dataframe 'promMatematica' las variables que voy a usar.\n",
    "promMatematica <- select(promMatematica, promedio, anioCursado,esPrivada)\n",
    "\n",
    "#Hago que los valores de anioCursado estén ordenados (primero, segundo, etc)\n",
    "promMatematica$anioCursado <- factor(promMatematica$anioCursado, levels = c('PRIMERO', 'SEGUNDO', 'TERCERO', 'CUARTO', 'QUINTO', 'SEXTO'))\n",
    "\n",
    "#Grafico un boxplot de los promedios en Matemática comparando los sectores (publico o privado) en cada año\n",
    "ggplot (promMatematica, aes (x = esPrivada, y = promedio, fill = esPrivada)) + \n",
    "  geom_boxplot () +\n",
    "   facet_wrap (~ promMatematica$anioCursado) #graficos por separado\n"
   ]
  },
  {
   "attachments": {},
   "cell_type": "markdown",
   "id": "2e85bce6",
   "metadata": {},
   "source": [
    "Mediante estos gráficos, se puede observar que en todos los años, los promedios más altos de Matemática se encuentran en las escuelas Privadas. "
   ]
  },
  {
   "attachments": {},
   "cell_type": "markdown",
   "id": "59507118",
   "metadata": {},
   "source": [
    "---"
   ]
  },
  {
   "attachments": {},
   "cell_type": "markdown",
   "id": "90e968b5",
   "metadata": {},
   "source": [
    "### **En caso de observar diferencias, realice un contraste que permita medir si las diferencias son significativas.**\n",
    "### H0: no hay diferencias entre los promedios de Matemática según escuelas públicas y privadas.\n",
    "### H1: Existen diferencias entre los promedios de Matemática segun escuelas públicas y privadas."
   ]
  },
  {
   "cell_type": "code",
   "execution_count": 57,
   "id": "3fefcc09",
   "metadata": {
    "vscode": {
     "languageId": "r"
    }
   },
   "outputs": [
    {
     "name": "stderr",
     "output_type": "stream",
     "text": [
      "Adding missing grouping variables: `documento`\n"
     ]
    }
   ],
   "source": [
    "promMatematica  <- filter(primaria, asignatura == \"MATEMATICA\")\n",
    "promMatematica  <- select(promMatematica, promedio, esPrivada)"
   ]
  },
  {
   "cell_type": "code",
   "execution_count": 58,
   "id": "2ffb6972",
   "metadata": {
    "vscode": {
     "languageId": "r"
    }
   },
   "outputs": [
    {
     "data": {
      "text/html": [
       "<table>\n",
       "<thead><tr><th scope=col>prom</th><th scope=col>privada</th></tr></thead>\n",
       "<tbody>\n",
       "\t<tr><td>7.33</td><td>N   </td></tr>\n",
       "\t<tr><td>8.67</td><td>N   </td></tr>\n",
       "\t<tr><td>9.33</td><td>N   </td></tr>\n",
       "\t<tr><td>9.00</td><td>N   </td></tr>\n",
       "\t<tr><td>9.00</td><td>N   </td></tr>\n",
       "\t<tr><td>8.67</td><td>N   </td></tr>\n",
       "</tbody>\n",
       "</table>\n"
      ],
      "text/latex": [
       "\\begin{tabular}{r|ll}\n",
       " prom & privada\\\\\n",
       "\\hline\n",
       "\t 7.33 & N   \\\\\n",
       "\t 8.67 & N   \\\\\n",
       "\t 9.33 & N   \\\\\n",
       "\t 9.00 & N   \\\\\n",
       "\t 9.00 & N   \\\\\n",
       "\t 8.67 & N   \\\\\n",
       "\\end{tabular}\n"
      ],
      "text/markdown": [
       "\n",
       "| prom | privada |\n",
       "|---|---|\n",
       "| 7.33 | N    |\n",
       "| 8.67 | N    |\n",
       "| 9.33 | N    |\n",
       "| 9.00 | N    |\n",
       "| 9.00 | N    |\n",
       "| 8.67 | N    |\n",
       "\n"
      ],
      "text/plain": [
       "  prom privada\n",
       "1 7.33 N      \n",
       "2 8.67 N      \n",
       "3 9.33 N      \n",
       "4 9.00 N      \n",
       "5 9.00 N      \n",
       "6 8.67 N      "
      ]
     },
     "metadata": {},
     "output_type": "display_data"
    }
   ],
   "source": [
    "privada <- promMatematica$esPrivada\n",
    "prom <- promMatematica$promedio\n",
    "#las junto en un nuevo dataframe\n",
    "data_privado <- data.frame(prom,privada)\n",
    "data_privado <- na.omit(data_privado)\n",
    "head(data_privado)"
   ]
  },
  {
   "cell_type": "code",
   "execution_count": 59,
   "id": "5bebbb6e",
   "metadata": {
    "vscode": {
     "languageId": "r"
    }
   },
   "outputs": [
    {
     "data": {
      "image/png": "[encoded data removed]",
      "text/plain": [
       "plot without title"
      ]
     },
     "metadata": {},
     "output_type": "display_data"
    }
   ],
   "source": [
    "boxplot(data_privado$prom ~ data_privado$privada, col = c(\"palegreen3\", \"salmon1\",\"slateblue\"), ylab = \"Variable Promedios\", xlab=\"Variable esPrivada\")"
   ]
  },
  {
   "cell_type": "code",
   "execution_count": 60,
   "id": "23fcf9a0",
   "metadata": {
    "vscode": {
     "languageId": "r"
    }
   },
   "outputs": [
    {
     "data": {
      "text/plain": [
       "\n",
       "\tWilcoxon rank sum test with continuity correction\n",
       "\n",
       "data:  prom by privada\n",
       "W = 2332188, p-value < 2.2e-16\n",
       "alternative hypothesis: true location shift is not equal to 0\n"
      ]
     },
     "metadata": {},
     "output_type": "display_data"
    }
   ],
   "source": [
    "wilcox.test(prom ~ privada)"
   ]
  },
  {
   "attachments": {},
   "cell_type": "markdown",
   "id": "0177c7b4",
   "metadata": {},
   "source": [
    "Hay evidencia estadística sufuciente para rechazar H0. Por ende conluyo que si existe una diferencia significativa entre las medias de las notas de Matemática entre las escuelas Privadas y Públicas."
   ]
  }
 ],
 "metadata": {
  "kernelspec": {
   "display_name": "R",
   "language": "R",
   "name": "ir"
  },
  "language_info": {
   "codemirror_mode": "r",
   "file_extension": ".r",
   "mimetype": "text/x-r-source",
   "name": "R",
   "pygments_lexer": "r",
   "version": "3.6.1"
  }
 },
 "nbformat": 4,
 "nbformat_minor": 5
}
