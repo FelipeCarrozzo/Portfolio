{
  "cells": [
    {
      "cell_type": "code",
      "execution_count": null,
      "id": "6f947ab4",
      "metadata": {
        "id": "6f947ab4",
        "outputId": "b4d75f47-591a-4c5d-aca3-e98216394ded"
      },
      "outputs": [
        {
          "name": "stderr",
          "output_type": "stream",
          "text": [
            "\n",
            "Attaching package: 'dplyr'\n",
            "\n",
            "\n",
            "The following objects are masked from 'package:stats':\n",
            "\n",
            "    filter, lag\n",
            "\n",
            "\n",
            "The following objects are masked from 'package:base':\n",
            "\n",
            "    intersect, setdiff, setequal, union\n",
            "\n",
            "\n"
          ]
        }
      ],
      "source": [
        "options(warn=-1)\n",
        "library(\"readxl\")\n",
        "library(dplyr)"
      ]
    },
    {
      "cell_type": "code",
      "execution_count": null,
      "id": "02444d1a",
      "metadata": {
        "id": "02444d1a",
        "outputId": "8419730b-da31-4023-b2e0-db4b42d18363"
      },
      "outputs": [
        {
          "data": {
            "text/html": [
              "<table class=\"dataframe\">\n",
              "<caption>A tibble: 17 × 8</caption>\n",
              "<thead>\n",
              "\t<tr><th scope=col>Compañía</th><th scope=col>Marca</th><th scope=col>Tipo</th><th scope=col>Valor energetico (kcalorias/100g)</th><th scope=col>Carbohidratos (g/100g)</th><th scope=col>Proteinas (g/100g)</th><th scope=col>Grasas totales (g/100g)</th><th scope=col>Sodio     (mg/100g)</th></tr>\n",
              "\t<tr><th scope=col>&lt;chr&gt;</th><th scope=col>&lt;chr&gt;</th><th scope=col>&lt;chr&gt;</th><th scope=col>&lt;dbl&gt;</th><th scope=col>&lt;chr&gt;</th><th scope=col>&lt;chr&gt;</th><th scope=col>&lt;dbl&gt;</th><th scope=col>&lt;chr&gt;</th></tr>\n",
              "</thead>\n",
              "<tbody>\n",
              "\t<tr><td>A</td><td>Cerealeras </td><td>Salada</td><td>439</td><td>65  </td><td>11 </td><td>15</td><td>574  </td></tr>\n",
              "\t<tr><td>C</td><td>Tiritas    </td><td>Salada</td><td>466</td><td>57  </td><td>10 </td><td>22</td><td>828  </td></tr>\n",
              "\t<tr><td>B</td><td>Expresas   </td><td>Salada</td><td>445</td><td>69  </td><td>11 </td><td>14</td><td>12   </td></tr>\n",
              "\t<tr><td>C</td><td>Negritas   </td><td>Dulce </td><td>478</td><td>67  </td><td>5.6</td><td>21</td><td>363  </td></tr>\n",
              "\t<tr><td>A</td><td>Rellenitas </td><td>Dulce </td><td>464</td><td>70  </td><td>6.3</td><td>18</td><td>263  </td></tr>\n",
              "\t<tr><td>A</td><td>Papitos    </td><td>Dulce </td><td>463</td><td>66  </td><td>7.1</td><td>19</td><td>136  </td></tr>\n",
              "\t<tr><td>B</td><td>Criollas   </td><td>Salada</td><td>438</td><td>69  </td><td>11 </td><td>13</td><td>431  </td></tr>\n",
              "\t<tr><td>A</td><td>Merengueti </td><td>Dulce </td><td>418</td><td>69  </td><td>6.3</td><td>13</td><td>201  </td></tr>\n",
              "\t<tr><td>B</td><td>Frutillitas</td><td>Dulce </td><td>423</td><td>70  </td><td>6.8</td><td>13</td><td>241  </td></tr>\n",
              "\t<tr><td>C</td><td>Mantitas   </td><td>Dulce </td><td>444</td><td>73  </td><td>9  </td><td>13</td><td>375  </td></tr>\n",
              "\t<tr><td>A</td><td>Guindadas  </td><td>Dulce </td><td>407</td><td>70  </td><td>6  </td><td>12</td><td>106.7</td></tr>\n",
              "\t<tr><td>B</td><td>Peponas    </td><td>Dulce </td><td>437</td><td>60  </td><td>6.7</td><td>18</td><td>76.67</td></tr>\n",
              "\t<tr><td>B</td><td>Polvorita  </td><td>Dulce </td><td>410</td><td>56.7</td><td>6.3</td><td>18</td><td>66.7 </td></tr>\n",
              "\t<tr><td>C</td><td>Bizcochos  </td><td>Salada</td><td>493</td><td>60  </td><td>7.6</td><td>24</td><td>1066 </td></tr>\n",
              "\t<tr><td>A</td><td>Caseras    </td><td>Salada</td><td>424</td><td>65  </td><td>11 </td><td>13</td><td>892  </td></tr>\n",
              "\t<tr><td>C</td><td>Granitos   </td><td>Salada</td><td>462</td><td>55  </td><td>11 </td><td>22</td><td>931  </td></tr>\n",
              "\t<tr><td>B</td><td>Baglett    </td><td>Salada</td><td>421</td><td>63  </td><td>11 </td><td>14</td><td>624  </td></tr>\n",
              "</tbody>\n",
              "</table>\n"
            ],
            "text/latex": [
              "A tibble: 17 × 8\n",
              "\\begin{tabular}{llllllll}\n",
              " Compañía & Marca & Tipo & Valor energetico (kcalorias/100g) & Carbohidratos (g/100g) & Proteinas (g/100g) & Grasas totales (g/100g) & Sodio     (mg/100g)\\\\\n",
              " <chr> & <chr> & <chr> & <dbl> & <chr> & <chr> & <dbl> & <chr>\\\\\n",
              "\\hline\n",
              "\t A & Cerealeras  & Salada & 439 & 65   & 11  & 15 & 574  \\\\\n",
              "\t C & Tiritas     & Salada & 466 & 57   & 10  & 22 & 828  \\\\\n",
              "\t B & Expresas    & Salada & 445 & 69   & 11  & 14 & 12   \\\\\n",
              "\t C & Negritas    & Dulce  & 478 & 67   & 5.6 & 21 & 363  \\\\\n",
              "\t A & Rellenitas  & Dulce  & 464 & 70   & 6.3 & 18 & 263  \\\\\n",
              "\t A & Papitos     & Dulce  & 463 & 66   & 7.1 & 19 & 136  \\\\\n",
              "\t B & Criollas    & Salada & 438 & 69   & 11  & 13 & 431  \\\\\n",
              "\t A & Merengueti  & Dulce  & 418 & 69   & 6.3 & 13 & 201  \\\\\n",
              "\t B & Frutillitas & Dulce  & 423 & 70   & 6.8 & 13 & 241  \\\\\n",
              "\t C & Mantitas    & Dulce  & 444 & 73   & 9   & 13 & 375  \\\\\n",
              "\t A & Guindadas   & Dulce  & 407 & 70   & 6   & 12 & 106.7\\\\\n",
              "\t B & Peponas     & Dulce  & 437 & 60   & 6.7 & 18 & 76.67\\\\\n",
              "\t B & Polvorita   & Dulce  & 410 & 56.7 & 6.3 & 18 & 66.7 \\\\\n",
              "\t C & Bizcochos   & Salada & 493 & 60   & 7.6 & 24 & 1066 \\\\\n",
              "\t A & Caseras     & Salada & 424 & 65   & 11  & 13 & 892  \\\\\n",
              "\t C & Granitos    & Salada & 462 & 55   & 11  & 22 & 931  \\\\\n",
              "\t B & Baglett     & Salada & 421 & 63   & 11  & 14 & 624  \\\\\n",
              "\\end{tabular}\n"
            ],
            "text/markdown": [
              "\n",
              "A tibble: 17 × 8\n",
              "\n",
              "| Compañía &lt;chr&gt; | Marca &lt;chr&gt; | Tipo &lt;chr&gt; | Valor energetico (kcalorias/100g) &lt;dbl&gt; | Carbohidratos (g/100g) &lt;chr&gt; | Proteinas (g/100g) &lt;chr&gt; | Grasas totales (g/100g) &lt;dbl&gt; | Sodio     (mg/100g) &lt;chr&gt; |\n",
              "|---|---|---|---|---|---|---|---|\n",
              "| A | Cerealeras  | Salada | 439 | 65   | 11  | 15 | 574   |\n",
              "| C | Tiritas     | Salada | 466 | 57   | 10  | 22 | 828   |\n",
              "| B | Expresas    | Salada | 445 | 69   | 11  | 14 | 12    |\n",
              "| C | Negritas    | Dulce  | 478 | 67   | 5.6 | 21 | 363   |\n",
              "| A | Rellenitas  | Dulce  | 464 | 70   | 6.3 | 18 | 263   |\n",
              "| A | Papitos     | Dulce  | 463 | 66   | 7.1 | 19 | 136   |\n",
              "| B | Criollas    | Salada | 438 | 69   | 11  | 13 | 431   |\n",
              "| A | Merengueti  | Dulce  | 418 | 69   | 6.3 | 13 | 201   |\n",
              "| B | Frutillitas | Dulce  | 423 | 70   | 6.8 | 13 | 241   |\n",
              "| C | Mantitas    | Dulce  | 444 | 73   | 9   | 13 | 375   |\n",
              "| A | Guindadas   | Dulce  | 407 | 70   | 6   | 12 | 106.7 |\n",
              "| B | Peponas     | Dulce  | 437 | 60   | 6.7 | 18 | 76.67 |\n",
              "| B | Polvorita   | Dulce  | 410 | 56.7 | 6.3 | 18 | 66.7  |\n",
              "| C | Bizcochos   | Salada | 493 | 60   | 7.6 | 24 | 1066  |\n",
              "| A | Caseras     | Salada | 424 | 65   | 11  | 13 | 892   |\n",
              "| C | Granitos    | Salada | 462 | 55   | 11  | 22 | 931   |\n",
              "| B | Baglett     | Salada | 421 | 63   | 11  | 14 | 624   |\n",
              "\n"
            ],
            "text/plain": [
              "   Compañía Marca       Tipo   Valor energetico (kcalorias/100g)\n",
              "1  A        Cerealeras  Salada 439                              \n",
              "2  C        Tiritas     Salada 466                              \n",
              "3  B        Expresas    Salada 445                              \n",
              "4  C        Negritas    Dulce  478                              \n",
              "5  A        Rellenitas  Dulce  464                              \n",
              "6  A        Papitos     Dulce  463                              \n",
              "7  B        Criollas    Salada 438                              \n",
              "8  A        Merengueti  Dulce  418                              \n",
              "9  B        Frutillitas Dulce  423                              \n",
              "10 C        Mantitas    Dulce  444                              \n",
              "11 A        Guindadas   Dulce  407                              \n",
              "12 B        Peponas     Dulce  437                              \n",
              "13 B        Polvorita   Dulce  410                              \n",
              "14 C        Bizcochos   Salada 493                              \n",
              "15 A        Caseras     Salada 424                              \n",
              "16 C        Granitos    Salada 462                              \n",
              "17 B        Baglett     Salada 421                              \n",
              "   Carbohidratos (g/100g) Proteinas (g/100g) Grasas totales (g/100g)\n",
              "1  65                     11                 15                     \n",
              "2  57                     10                 22                     \n",
              "3  69                     11                 14                     \n",
              "4  67                     5.6                21                     \n",
              "5  70                     6.3                18                     \n",
              "6  66                     7.1                19                     \n",
              "7  69                     11                 13                     \n",
              "8  69                     6.3                13                     \n",
              "9  70                     6.8                13                     \n",
              "10 73                     9                  13                     \n",
              "11 70                     6                  12                     \n",
              "12 60                     6.7                18                     \n",
              "13 56.7                   6.3                18                     \n",
              "14 60                     7.6                24                     \n",
              "15 65                     11                 13                     \n",
              "16 55                     11                 22                     \n",
              "17 63                     11                 14                     \n",
              "   Sodio     (mg/100g)\n",
              "1  574                \n",
              "2  828                \n",
              "3  12                 \n",
              "4  363                \n",
              "5  263                \n",
              "6  136                \n",
              "7  431                \n",
              "8  201                \n",
              "9  241                \n",
              "10 375                \n",
              "11 106.7              \n",
              "12 76.67              \n",
              "13 66.7               \n",
              "14 1066               \n",
              "15 892                \n",
              "16 931                \n",
              "17 624                "
            ]
          },
          "metadata": {},
          "output_type": "display_data"
        }
      ],
      "source": [
        "galletitas <- read_excel(\"C:/Users/maf01/Desktop/EDM 2023/galletitas.xls\")\n",
        "galletitas"
      ]
    },
    {
      "cell_type": "code",
      "execution_count": null,
      "id": "fc59e264",
      "metadata": {
        "id": "fc59e264"
      },
      "outputs": [],
      "source": [
        "colnames(galletitas)=c(\"Compañia\",\"Marca\",\"Tipo\",\"Calorias\",\"Carbohidratos\",\"Proteinas\",\"Grasas\",\"Sodio\")"
      ]
    },
    {
      "cell_type": "code",
      "execution_count": null,
      "id": "455e6161",
      "metadata": {
        "id": "455e6161",
        "outputId": "483ab47a-fe88-4756-9bfe-4ef2f55c3ed9"
      },
      "outputs": [
        {
          "name": "stdout",
          "output_type": "stream",
          "text": [
            "tibble [17 x 8] (S3: tbl_df/tbl/data.frame)\n",
            " $ Compañia     : chr [1:17] \"A\" \"C\" \"B\" \"C\" ...\n",
            " $ Marca        : chr [1:17] \"Cerealeras\" \"Tiritas\" \"Expresas\" \"Negritas\" ...\n",
            " $ Tipo         : chr [1:17] \"Salada\" \"Salada\" \"Salada\" \"Dulce\" ...\n",
            " $ Calorias     : num [1:17] 439 466 445 478 464 463 438 418 423 444 ...\n",
            " $ Carbohidratos: chr [1:17] \"65\" \"57\" \"69\" \"67\" ...\n",
            " $ Proteinas    : chr [1:17] \"11\" \"10\" \"11\" \"5.6\" ...\n",
            " $ Grasas       : num [1:17] 15 22 14 21 18 19 13 13 13 13 ...\n",
            " $ Sodio        : chr [1:17] \"574\" \"828\" \"12\" \"363\" ...\n"
          ]
        }
      ],
      "source": [
        "str(galletitas)"
      ]
    },
    {
      "cell_type": "code",
      "execution_count": null,
      "id": "8c83e8d8",
      "metadata": {
        "id": "8c83e8d8"
      },
      "outputs": [],
      "source": [
        "galletitas$Compañia<-as.factor(galletitas$Compañia)\n",
        "galletitas$Marca<-as.factor(galletitas$Marca)\n",
        "galletitas$Tipo<-as.factor(galletitas$Tipo)\n",
        "galletitas$Carbohidratos<-as.numeric(galletitas$Carbohidratos)\n",
        "galletitas$'Grasas'<-as.numeric(galletitas$'Grasas')\n",
        "galletitas$'Calorias'<-as.numeric(galletitas$'Calorias')\n",
        "galletitas$'Proteinas'<-as.numeric(galletitas$'Proteinas')\n",
        "galletitas$'Sodio'<-as.numeric(galletitas$'Sodio')"
      ]
    },
    {
      "cell_type": "markdown",
      "id": "1562e43f",
      "metadata": {
        "id": "1562e43f"
      },
      "source": [
        "**Vector de Medias"
      ]
    },
    {
      "cell_type": "code",
      "execution_count": null,
      "id": "fe097b41",
      "metadata": {
        "id": "fe097b41",
        "outputId": "b9a94264-0640-4ee6-9043-3e34588bd433"
      },
      "outputs": [
        {
          "data": {
            "text/html": [
              "<table class=\"dataframe\">\n",
              "<caption>A tibble: 3 × 8</caption>\n",
              "<thead>\n",
              "\t<tr><th scope=col>Compañia</th><th scope=col>Marca</th><th scope=col>Tipo</th><th scope=col>Calorias</th><th scope=col>Carbohidratos</th><th scope=col>Proteinas</th><th scope=col>Grasas</th><th scope=col>Sodio</th></tr>\n",
              "\t<tr><th scope=col>&lt;fct&gt;</th><th scope=col>&lt;dbl&gt;</th><th scope=col>&lt;dbl&gt;</th><th scope=col>&lt;dbl&gt;</th><th scope=col>&lt;dbl&gt;</th><th scope=col>&lt;dbl&gt;</th><th scope=col>&lt;dbl&gt;</th><th scope=col>&lt;dbl&gt;</th></tr>\n",
              "</thead>\n",
              "<tbody>\n",
              "\t<tr><td>A</td><td>NA</td><td>NA</td><td>435.8333</td><td>67.50000</td><td>7.95</td><td>15.0</td><td>362.1167</td></tr>\n",
              "\t<tr><td>B</td><td>NA</td><td>NA</td><td>429.0000</td><td>64.61667</td><td>8.80</td><td>15.0</td><td>241.8950</td></tr>\n",
              "\t<tr><td>C</td><td>NA</td><td>NA</td><td>468.6000</td><td>62.40000</td><td>8.64</td><td>20.4</td><td>712.6000</td></tr>\n",
              "</tbody>\n",
              "</table>\n"
            ],
            "text/latex": [
              "A tibble: 3 × 8\n",
              "\\begin{tabular}{llllllll}\n",
              " Compañia & Marca & Tipo & Calorias & Carbohidratos & Proteinas & Grasas & Sodio\\\\\n",
              " <fct> & <dbl> & <dbl> & <dbl> & <dbl> & <dbl> & <dbl> & <dbl>\\\\\n",
              "\\hline\n",
              "\t A & NA & NA & 435.8333 & 67.50000 & 7.95 & 15.0 & 362.1167\\\\\n",
              "\t B & NA & NA & 429.0000 & 64.61667 & 8.80 & 15.0 & 241.8950\\\\\n",
              "\t C & NA & NA & 468.6000 & 62.40000 & 8.64 & 20.4 & 712.6000\\\\\n",
              "\\end{tabular}\n"
            ],
            "text/markdown": [
              "\n",
              "A tibble: 3 × 8\n",
              "\n",
              "| Compañia &lt;fct&gt; | Marca &lt;dbl&gt; | Tipo &lt;dbl&gt; | Calorias &lt;dbl&gt; | Carbohidratos &lt;dbl&gt; | Proteinas &lt;dbl&gt; | Grasas &lt;dbl&gt; | Sodio &lt;dbl&gt; |\n",
              "|---|---|---|---|---|---|---|---|\n",
              "| A | NA | NA | 435.8333 | 67.50000 | 7.95 | 15.0 | 362.1167 |\n",
              "| B | NA | NA | 429.0000 | 64.61667 | 8.80 | 15.0 | 241.8950 |\n",
              "| C | NA | NA | 468.6000 | 62.40000 | 8.64 | 20.4 | 712.6000 |\n",
              "\n"
            ],
            "text/plain": [
              "  Compañia Marca Tipo Calorias Carbohidratos Proteinas Grasas Sodio   \n",
              "1 A        NA    NA   435.8333 67.50000      7.95      15.0   362.1167\n",
              "2 B        NA    NA   429.0000 64.61667      8.80      15.0   241.8950\n",
              "3 C        NA    NA   468.6000 62.40000      8.64      20.4   712.6000"
            ]
          },
          "metadata": {},
          "output_type": "display_data"
        }
      ],
      "source": [
        "perfil_medio<- galletitas %>% group_by(Compañia) %>% summarise_all(mean)\n",
        "perfil_medio"
      ]
    },
    {
      "cell_type": "markdown",
      "id": "dd209d85",
      "metadata": {
        "id": "dd209d85"
      },
      "source": [
        "**Vector de Medianas"
      ]
    },
    {
      "cell_type": "code",
      "execution_count": null,
      "id": "d5368d54",
      "metadata": {
        "id": "d5368d54",
        "outputId": "2467486f-b349-4d85-c7b5-5feeedafa3fa"
      },
      "outputs": [
        {
          "data": {
            "text/html": [
              "<table class=\"dataframe\">\n",
              "<caption>A matrix: 3 × 5 of type dbl</caption>\n",
              "<thead>\n",
              "\t<tr><th scope=col>Calorias</th><th scope=col>Carbohidratos</th><th scope=col>Proteinas</th><th scope=col>Grasas</th><th scope=col>Sodio</th></tr>\n",
              "</thead>\n",
              "<tbody>\n",
              "\t<tr><td>431.5</td><td>67.5</td><td>6.7</td><td>14</td><td>232.000</td></tr>\n",
              "\t<tr><td>430.0</td><td>66.0</td><td>8.9</td><td>14</td><td>158.835</td></tr>\n",
              "\t<tr><td>466.0</td><td>60.0</td><td>9.0</td><td>22</td><td>828.000</td></tr>\n",
              "</tbody>\n",
              "</table>\n"
            ],
            "text/latex": [
              "A matrix: 3 × 5 of type dbl\n",
              "\\begin{tabular}{lllll}\n",
              " Calorias & Carbohidratos & Proteinas & Grasas & Sodio\\\\\n",
              "\\hline\n",
              "\t 431.5 & 67.5 & 6.7 & 14 & 232.000\\\\\n",
              "\t 430.0 & 66.0 & 8.9 & 14 & 158.835\\\\\n",
              "\t 466.0 & 60.0 & 9.0 & 22 & 828.000\\\\\n",
              "\\end{tabular}\n"
            ],
            "text/markdown": [
              "\n",
              "A matrix: 3 × 5 of type dbl\n",
              "\n",
              "| Calorias | Carbohidratos | Proteinas | Grasas | Sodio |\n",
              "|---|---|---|---|---|\n",
              "| 431.5 | 67.5 | 6.7 | 14 | 232.000 |\n",
              "| 430.0 | 66.0 | 8.9 | 14 | 158.835 |\n",
              "| 466.0 | 60.0 | 9.0 | 22 | 828.000 |\n",
              "\n"
            ],
            "text/plain": [
              "     Calorias Carbohidratos Proteinas Grasas Sodio  \n",
              "[1,] 431.5    67.5          6.7       14     232.000\n",
              "[2,] 430.0    66.0          8.9       14     158.835\n",
              "[3,] 466.0    60.0          9.0       22     828.000"
            ]
          },
          "metadata": {},
          "output_type": "display_data"
        }
      ],
      "source": [
        "vector_medianas<-rbind(apply(filter(galletitas,Compañia==\"A\")[,4:8],2,median), apply(filter(galletitas,Compañia==\"B\")[,4:8],2,median),\n",
        "                       apply(filter(galletitas,Compañia==\"C\")[,4:8],2,median))\n",
        "vector_medianas"
      ]
    },
    {
      "cell_type": "markdown",
      "id": "4adf73b3",
      "metadata": {
        "id": "4adf73b3"
      },
      "source": [
        "**Matriz de Varianza y Covarianza"
      ]
    },
    {
      "cell_type": "code",
      "execution_count": null,
      "id": "cd7f449a",
      "metadata": {
        "id": "cd7f449a",
        "outputId": "dd9a2add-59d6-4729-901f-1018aed605fd"
      },
      "outputs": [
        {
          "data": {
            "text/html": [
              "<table class=\"dataframe\">\n",
              "<caption>A matrix: 5 × 5 of type dbl</caption>\n",
              "<thead>\n",
              "\t<tr><th></th><th scope=col>Calorias</th><th scope=col>Carbohidratos</th><th scope=col>Proteinas</th><th scope=col>Grasas</th><th scope=col>Sodio</th></tr>\n",
              "</thead>\n",
              "<tbody>\n",
              "\t<tr><th scope=row>Calorias</th><td> 566.17</td><td>  -9.50</td><td> -2.07</td><td>  67.80</td><td> -859.24</td></tr>\n",
              "\t<tr><th scope=row>Carbohidratos</th><td>  -9.50</td><td>   5.90</td><td> -5.09</td><td>  -0.80</td><td> -528.65</td></tr>\n",
              "\t<tr><th scope=row>Proteinas</th><td>  -2.07</td><td>  -5.09</td><td>  5.72</td><td>  -1.06</td><td>  676.41</td></tr>\n",
              "\t<tr><th scope=row>Grasas</th><td>  67.80</td><td>  -0.80</td><td> -1.06</td><td>   8.40</td><td> -234.62</td></tr>\n",
              "\t<tr><th scope=row>Sodio</th><td>-859.24</td><td>-528.65</td><td>676.41</td><td>-234.62</td><td>95564.00</td></tr>\n",
              "</tbody>\n",
              "</table>\n"
            ],
            "text/latex": [
              "A matrix: 5 × 5 of type dbl\n",
              "\\begin{tabular}{r|lllll}\n",
              "  & Calorias & Carbohidratos & Proteinas & Grasas & Sodio\\\\\n",
              "\\hline\n",
              "\tCalorias &  566.17 &   -9.50 &  -2.07 &   67.80 &  -859.24\\\\\n",
              "\tCarbohidratos &   -9.50 &    5.90 &  -5.09 &   -0.80 &  -528.65\\\\\n",
              "\tProteinas &   -2.07 &   -5.09 &   5.72 &   -1.06 &   676.41\\\\\n",
              "\tGrasas &   67.80 &   -0.80 &  -1.06 &    8.40 &  -234.62\\\\\n",
              "\tSodio & -859.24 & -528.65 & 676.41 & -234.62 & 95564.00\\\\\n",
              "\\end{tabular}\n"
            ],
            "text/markdown": [
              "\n",
              "A matrix: 5 × 5 of type dbl\n",
              "\n",
              "| <!--/--> | Calorias | Carbohidratos | Proteinas | Grasas | Sodio |\n",
              "|---|---|---|---|---|---|\n",
              "| Calorias |  566.17 |   -9.50 |  -2.07 |   67.80 |  -859.24 |\n",
              "| Carbohidratos |   -9.50 |    5.90 |  -5.09 |   -0.80 |  -528.65 |\n",
              "| Proteinas |   -2.07 |   -5.09 |   5.72 |   -1.06 |   676.41 |\n",
              "| Grasas |   67.80 |   -0.80 |  -1.06 |    8.40 |  -234.62 |\n",
              "| Sodio | -859.24 | -528.65 | 676.41 | -234.62 | 95564.00 |\n",
              "\n"
            ],
            "text/plain": [
              "              Calorias Carbohidratos Proteinas Grasas  Sodio   \n",
              "Calorias       566.17    -9.50        -2.07      67.80  -859.24\n",
              "Carbohidratos   -9.50     5.90        -5.09      -0.80  -528.65\n",
              "Proteinas       -2.07    -5.09         5.72      -1.06   676.41\n",
              "Grasas          67.80    -0.80        -1.06       8.40  -234.62\n",
              "Sodio         -859.24  -528.65       676.41    -234.62 95564.00"
            ]
          },
          "metadata": {},
          "output_type": "display_data"
        },
        {
          "data": {
            "text/html": [
              "<table class=\"dataframe\">\n",
              "<caption>A matrix: 5 × 5 of type dbl</caption>\n",
              "<thead>\n",
              "\t<tr><th></th><th scope=col>Calorias</th><th scope=col>Carbohidratos</th><th scope=col>Proteinas</th><th scope=col>Grasas</th><th scope=col>Sodio</th></tr>\n",
              "</thead>\n",
              "<tbody>\n",
              "\t<tr><th scope=row>Calorias</th><td> 172.40</td><td> 40.74</td><td> 16.02</td><td>  -9.40</td><td> -604.19</td></tr>\n",
              "\t<tr><th scope=row>Carbohidratos</th><td>  40.74</td><td> 30.80</td><td>  6.89</td><td> -11.98</td><td>  269.68</td></tr>\n",
              "\t<tr><th scope=row>Proteinas</th><td>  16.02</td><td>  6.89</td><td>  5.84</td><td>  -3.72</td><td>  307.53</td></tr>\n",
              "\t<tr><th scope=row>Grasas</th><td>  -9.40</td><td>-11.98</td><td> -3.72</td><td>   5.60</td><td> -309.98</td></tr>\n",
              "\t<tr><th scope=row>Sodio</th><td>-604.19</td><td>269.68</td><td>307.53</td><td>-309.98</td><td>58522.01</td></tr>\n",
              "</tbody>\n",
              "</table>\n"
            ],
            "text/latex": [
              "A matrix: 5 × 5 of type dbl\n",
              "\\begin{tabular}{r|lllll}\n",
              "  & Calorias & Carbohidratos & Proteinas & Grasas & Sodio\\\\\n",
              "\\hline\n",
              "\tCalorias &  172.40 &  40.74 &  16.02 &   -9.40 &  -604.19\\\\\n",
              "\tCarbohidratos &   40.74 &  30.80 &   6.89 &  -11.98 &   269.68\\\\\n",
              "\tProteinas &   16.02 &   6.89 &   5.84 &   -3.72 &   307.53\\\\\n",
              "\tGrasas &   -9.40 & -11.98 &  -3.72 &    5.60 &  -309.98\\\\\n",
              "\tSodio & -604.19 & 269.68 & 307.53 & -309.98 & 58522.01\\\\\n",
              "\\end{tabular}\n"
            ],
            "text/markdown": [
              "\n",
              "A matrix: 5 × 5 of type dbl\n",
              "\n",
              "| <!--/--> | Calorias | Carbohidratos | Proteinas | Grasas | Sodio |\n",
              "|---|---|---|---|---|---|\n",
              "| Calorias |  172.40 |  40.74 |  16.02 |   -9.40 |  -604.19 |\n",
              "| Carbohidratos |   40.74 |  30.80 |   6.89 |  -11.98 |   269.68 |\n",
              "| Proteinas |   16.02 |   6.89 |   5.84 |   -3.72 |   307.53 |\n",
              "| Grasas |   -9.40 | -11.98 |  -3.72 |    5.60 |  -309.98 |\n",
              "| Sodio | -604.19 | 269.68 | 307.53 | -309.98 | 58522.01 |\n",
              "\n"
            ],
            "text/plain": [
              "              Calorias Carbohidratos Proteinas Grasas  Sodio   \n",
              "Calorias       172.40   40.74         16.02      -9.40  -604.19\n",
              "Carbohidratos   40.74   30.80          6.89     -11.98   269.68\n",
              "Proteinas       16.02    6.89          5.84      -3.72   307.53\n",
              "Grasas          -9.40  -11.98         -3.72       5.60  -309.98\n",
              "Sodio         -604.19  269.68        307.53    -309.98 58522.01"
            ]
          },
          "metadata": {},
          "output_type": "display_data"
        },
        {
          "data": {
            "text/html": [
              "<table class=\"dataframe\">\n",
              "<caption>A matrix: 5 × 5 of type dbl</caption>\n",
              "<thead>\n",
              "\t<tr><th></th><th scope=col>Calorias</th><th scope=col>Carbohidratos</th><th scope=col>Proteinas</th><th scope=col>Grasas</th><th scope=col>Sodio</th></tr>\n",
              "</thead>\n",
              "<tbody>\n",
              "\t<tr><th scope=row>Calorias</th><td> 334.80</td><td>  -53.30</td><td>-20.48</td><td>  65.20</td><td>  2975.05</td></tr>\n",
              "\t<tr><th scope=row>Carbohidratos</th><td> -53.30</td><td>   55.80</td><td> -8.12</td><td> -26.20</td><td> -2068.55</td></tr>\n",
              "\t<tr><th scope=row>Proteinas</th><td> -20.48</td><td>   -8.12</td><td>  4.47</td><td>  -0.57</td><td>   311.52</td></tr>\n",
              "\t<tr><th scope=row>Grasas</th><td>  65.20</td><td>  -26.20</td><td> -0.57</td><td>  18.30</td><td>  1023.70</td></tr>\n",
              "\t<tr><th scope=row>Sodio</th><td>2975.05</td><td>-2068.55</td><td>311.52</td><td>1023.70</td><td>105525.30</td></tr>\n",
              "</tbody>\n",
              "</table>\n"
            ],
            "text/latex": [
              "A matrix: 5 × 5 of type dbl\n",
              "\\begin{tabular}{r|lllll}\n",
              "  & Calorias & Carbohidratos & Proteinas & Grasas & Sodio\\\\\n",
              "\\hline\n",
              "\tCalorias &  334.80 &   -53.30 & -20.48 &   65.20 &   2975.05\\\\\n",
              "\tCarbohidratos &  -53.30 &    55.80 &  -8.12 &  -26.20 &  -2068.55\\\\\n",
              "\tProteinas &  -20.48 &    -8.12 &   4.47 &   -0.57 &    311.52\\\\\n",
              "\tGrasas &   65.20 &   -26.20 &  -0.57 &   18.30 &   1023.70\\\\\n",
              "\tSodio & 2975.05 & -2068.55 & 311.52 & 1023.70 & 105525.30\\\\\n",
              "\\end{tabular}\n"
            ],
            "text/markdown": [
              "\n",
              "A matrix: 5 × 5 of type dbl\n",
              "\n",
              "| <!--/--> | Calorias | Carbohidratos | Proteinas | Grasas | Sodio |\n",
              "|---|---|---|---|---|---|\n",
              "| Calorias |  334.80 |   -53.30 | -20.48 |   65.20 |   2975.05 |\n",
              "| Carbohidratos |  -53.30 |    55.80 |  -8.12 |  -26.20 |  -2068.55 |\n",
              "| Proteinas |  -20.48 |    -8.12 |   4.47 |   -0.57 |    311.52 |\n",
              "| Grasas |   65.20 |   -26.20 |  -0.57 |   18.30 |   1023.70 |\n",
              "| Sodio | 2975.05 | -2068.55 | 311.52 | 1023.70 | 105525.30 |\n",
              "\n"
            ],
            "text/plain": [
              "              Calorias Carbohidratos Proteinas Grasas  Sodio    \n",
              "Calorias       334.80    -53.30      -20.48      65.20   2975.05\n",
              "Carbohidratos  -53.30     55.80       -8.12     -26.20  -2068.55\n",
              "Proteinas      -20.48     -8.12        4.47      -0.57    311.52\n",
              "Grasas          65.20    -26.20       -0.57      18.30   1023.70\n",
              "Sodio         2975.05  -2068.55      311.52    1023.70 105525.30"
            ]
          },
          "metadata": {},
          "output_type": "display_data"
        }
      ],
      "source": [
        "Comp_A<-filter(galletitas,Compañia==\"A\")\n",
        "round(cov(Comp_A[,4:8]),2)\n",
        "\n",
        "Comp_B<-filter(galletitas,Compañia==\"B\")\n",
        "round(cov(Comp_B[,4:8]),2)\n",
        "\n",
        "Comp_C<-filter(galletitas,Compañia==\"C\")\n",
        "round(cov(Comp_C[,4:8]),2)"
      ]
    },
    {
      "cell_type": "markdown",
      "id": "38aa6e8a",
      "metadata": {
        "id": "38aa6e8a"
      },
      "source": [
        "**Boxplot Comparativos"
      ]
    },
    {
      "cell_type": "code",
      "execution_count": null,
      "id": "45774cd2",
      "metadata": {
        "id": "45774cd2",
        "outputId": "c91cf48f-af74-40bd-ab48-e53d6eea98ae"
      },
      "outputs": [
        {
          "data": {
            "image/png": "[encoded data removed]",
            "text/plain": [
              "plot without title"
            ]
          },
          "metadata": {
            "image/png": {
              "height": 420,
              "width": 420
            }
          },
          "output_type": "display_data"
        }
      ],
      "source": [
        "library(ggplot2)\n",
        "g2 <- ggplot(galletitas, aes(factor(Compañia), Grasas))\n",
        "g2 + geom_boxplot(aes(fill = factor(Compañia)))"
      ]
    },
    {
      "cell_type": "code",
      "execution_count": null,
      "id": "2cf231ae",
      "metadata": {
        "id": "2cf231ae",
        "outputId": "ccc75a77-abf8-4bae-96a1-0be993952f34"
      },
      "outputs": [
        {
          "data": {
            "image/png": "[encoded data removed]",
            "text/plain": [
              "plot without title"
            ]
          },
          "metadata": {
            "image/png": {
              "height": 420,
              "width": 420
            }
          },
          "output_type": "display_data"
        }
      ],
      "source": [
        "g2 <- ggplot(galletitas, aes(factor(Compañia), Sodio))\n",
        "g2 + geom_boxplot(aes(fill = factor(Compañia)))"
      ]
    },
    {
      "cell_type": "code",
      "execution_count": null,
      "id": "89a77ab6",
      "metadata": {
        "scrolled": true,
        "id": "89a77ab6",
        "outputId": "71ac6035-e412-479e-e4fd-d6e751640963"
      },
      "outputs": [
        {
          "data": {
            "image/png": "[encoded data removed]",
            "text/plain": [
              "plot without title"
            ]
          },
          "metadata": {
            "image/png": {
              "height": 420,
              "width": 420
            }
          },
          "output_type": "display_data"
        }
      ],
      "source": [
        "ggplot (galletitas, aes (x = Compañia, y = Sodio, fill = Tipo)) +\n",
        "  geom_boxplot ()"
      ]
    },
    {
      "cell_type": "code",
      "execution_count": null,
      "id": "eaf8bc5d",
      "metadata": {
        "scrolled": true,
        "id": "eaf8bc5d",
        "outputId": "f6e3a849-65e0-445c-dfe8-194a594939ba"
      },
      "outputs": [
        {
          "data": {
            "image/png": "[encoded data removed]",
            "text/plain": [
              "plot without title"
            ]
          },
          "metadata": {
            "image/png": {
              "height": 420,
              "width": 420
            }
          },
          "output_type": "display_data"
        }
      ],
      "source": [
        "ggplot (galletitas, aes (x = Compañia, y = Sodio, fill = Compañia)) +\n",
        "  geom_boxplot () +\n",
        "   facet_wrap (~ Tipo)"
      ]
    },
    {
      "cell_type": "markdown",
      "id": "9cd858ca",
      "metadata": {
        "id": "9cd858ca"
      },
      "source": [
        "**Valores Atípicos"
      ]
    },
    {
      "cell_type": "code",
      "execution_count": null,
      "id": "9f998161",
      "metadata": {
        "id": "9f998161",
        "outputId": "468734e6-7f18-49b3-ea21-f8a94aa128ea"
      },
      "outputs": [
        {
          "name": "stderr",
          "output_type": "stream",
          "text": [
            "\n",
            "Attaching package: 'rstatix'\n",
            "\n",
            "\n",
            "The following object is masked from 'package:stats':\n",
            "\n",
            "    filter\n",
            "\n",
            "\n"
          ]
        },
        {
          "data": {
            "text/html": [
              "<style>\n",
              ".list-inline {list-style: none; margin:0; padding: 0}\n",
              ".list-inline>li {display: inline-block}\n",
              ".list-inline>li:not(:last-child)::after {content: \"\\00b7\"; padding: 0 .5ex}\n",
              "</style>\n",
              "<ol class=list-inline><li>FALSE</li><li>FALSE</li><li>FALSE</li><li>FALSE</li><li>FALSE</li><li>FALSE</li><li>FALSE</li><li>FALSE</li><li>FALSE</li><li>FALSE</li><li>FALSE</li><li>FALSE</li><li>FALSE</li><li>FALSE</li><li>FALSE</li><li>FALSE</li><li>FALSE</li></ol>\n"
            ],
            "text/latex": [
              "\\begin{enumerate*}\n",
              "\\item FALSE\n",
              "\\item FALSE\n",
              "\\item FALSE\n",
              "\\item FALSE\n",
              "\\item FALSE\n",
              "\\item FALSE\n",
              "\\item FALSE\n",
              "\\item FALSE\n",
              "\\item FALSE\n",
              "\\item FALSE\n",
              "\\item FALSE\n",
              "\\item FALSE\n",
              "\\item FALSE\n",
              "\\item FALSE\n",
              "\\item FALSE\n",
              "\\item FALSE\n",
              "\\item FALSE\n",
              "\\end{enumerate*}\n"
            ],
            "text/markdown": [
              "1. FALSE\n",
              "2. FALSE\n",
              "3. FALSE\n",
              "4. FALSE\n",
              "5. FALSE\n",
              "6. FALSE\n",
              "7. FALSE\n",
              "8. FALSE\n",
              "9. FALSE\n",
              "10. FALSE\n",
              "11. FALSE\n",
              "12. FALSE\n",
              "13. FALSE\n",
              "14. FALSE\n",
              "15. FALSE\n",
              "16. FALSE\n",
              "17. FALSE\n",
              "\n",
              "\n"
            ],
            "text/plain": [
              " [1] FALSE FALSE FALSE FALSE FALSE FALSE FALSE FALSE FALSE FALSE FALSE FALSE\n",
              "[13] FALSE FALSE FALSE FALSE FALSE"
            ]
          },
          "metadata": {},
          "output_type": "display_data"
        }
      ],
      "source": [
        "#esta libreria  permite encontrar outliers multivariados\n",
        "library(rstatix) #conda install -c conda-forge r-rstatix\n",
        "mahalanobis_distance(data = galletitas[, c(\"Calorias\", \"Carbohidratos\",\"Proteinas\",\"Grasas\",\"Sodio\")])$is.outlier"
      ]
    },
    {
      "cell_type": "markdown",
      "id": "6f0bc81a",
      "metadata": {
        "id": "6f0bc81a"
      },
      "source": [
        "VALORES MÁS ALEJADOS"
      ]
    },
    {
      "cell_type": "code",
      "execution_count": null,
      "id": "01a41db2",
      "metadata": {
        "id": "01a41db2",
        "outputId": "38b993e2-219e-42e2-a707-d01b4cc08e7c"
      },
      "outputs": [
        {
          "name": "stderr",
          "output_type": "stream",
          "text": [
            "Registered S3 method overwritten by 'quantmod':\n",
            "  method            from\n",
            "  as.zoo.data.frame zoo \n",
            "\n",
            "\n",
            "Attaching package: 'MASS'\n",
            "\n",
            "\n",
            "The following object is masked from 'package:rstatix':\n",
            "\n",
            "    select\n",
            "\n",
            "\n",
            "The following object is masked from 'package:dplyr':\n",
            "\n",
            "    select\n",
            "\n",
            "\n"
          ]
        }
      ],
      "source": [
        "library('DMwR2') #conda install -c conda-forge r-dmwr2\n",
        "library(\"MASS\")\n",
        "library(\"lattice\")\n",
        "library(\"grid\")"
      ]
    },
    {
      "cell_type": "code",
      "execution_count": null,
      "id": "45d008a5",
      "metadata": {
        "id": "45d008a5",
        "outputId": "347d75ed-0a3f-406e-e398-a074b1323716"
      },
      "outputs": [
        {
          "data": {
            "text/html": [
              "<table class=\"dataframe\">\n",
              "<caption>A matrix: 17 × 3 of type dbl</caption>\n",
              "<thead>\n",
              "\t<tr><th scope=col>dcov1</th><th scope=col>dcov2</th><th scope=col>dcov3</th></tr>\n",
              "</thead>\n",
              "<tbody>\n",
              "\t<tr><td>  1.79</td><td> 1.61</td><td> 1.40</td></tr>\n",
              "\t<tr><td>  2.87</td><td> 3.23</td><td> 3.46</td></tr>\n",
              "\t<tr><td>199.43</td><td>40.04</td><td> 7.76</td></tr>\n",
              "\t<tr><td>  4.53</td><td> 4.74</td><td> 4.34</td></tr>\n",
              "\t<tr><td>  4.31</td><td> 4.13</td><td> 3.54</td></tr>\n",
              "\t<tr><td> 73.01</td><td> 8.77</td><td> 2.57</td></tr>\n",
              "\t<tr><td>  6.58</td><td> 4.17</td><td> 2.59</td></tr>\n",
              "\t<tr><td>  5.81</td><td> 6.35</td><td> 2.72</td></tr>\n",
              "\t<tr><td>  2.35</td><td> 2.34</td><td> 1.98</td></tr>\n",
              "\t<tr><td>  7.77</td><td> 4.74</td><td> 2.62</td></tr>\n",
              "\t<tr><td>  7.06</td><td> 7.68</td><td> 4.72</td></tr>\n",
              "\t<tr><td>235.69</td><td>87.56</td><td>11.81</td></tr>\n",
              "\t<tr><td>163.58</td><td>43.90</td><td> 8.85</td></tr>\n",
              "\t<tr><td>147.18</td><td>83.70</td><td> 8.29</td></tr>\n",
              "\t<tr><td> 92.79</td><td>27.37</td><td> 5.59</td></tr>\n",
              "\t<tr><td>  4.04</td><td> 4.43</td><td> 5.16</td></tr>\n",
              "\t<tr><td>  2.90</td><td> 2.80</td><td> 2.58</td></tr>\n",
              "</tbody>\n",
              "</table>\n"
            ],
            "text/latex": [
              "A matrix: 17 × 3 of type dbl\n",
              "\\begin{tabular}{lll}\n",
              " dcov1 & dcov2 & dcov3\\\\\n",
              "\\hline\n",
              "\t   1.79 &  1.61 &  1.40\\\\\n",
              "\t   2.87 &  3.23 &  3.46\\\\\n",
              "\t 199.43 & 40.04 &  7.76\\\\\n",
              "\t   4.53 &  4.74 &  4.34\\\\\n",
              "\t   4.31 &  4.13 &  3.54\\\\\n",
              "\t  73.01 &  8.77 &  2.57\\\\\n",
              "\t   6.58 &  4.17 &  2.59\\\\\n",
              "\t   5.81 &  6.35 &  2.72\\\\\n",
              "\t   2.35 &  2.34 &  1.98\\\\\n",
              "\t   7.77 &  4.74 &  2.62\\\\\n",
              "\t   7.06 &  7.68 &  4.72\\\\\n",
              "\t 235.69 & 87.56 & 11.81\\\\\n",
              "\t 163.58 & 43.90 &  8.85\\\\\n",
              "\t 147.18 & 83.70 &  8.29\\\\\n",
              "\t  92.79 & 27.37 &  5.59\\\\\n",
              "\t   4.04 &  4.43 &  5.16\\\\\n",
              "\t   2.90 &  2.80 &  2.58\\\\\n",
              "\\end{tabular}\n"
            ],
            "text/markdown": [
              "\n",
              "A matrix: 17 × 3 of type dbl\n",
              "\n",
              "| dcov1 | dcov2 | dcov3 |\n",
              "|---|---|---|\n",
              "|   1.79 |  1.61 |  1.40 |\n",
              "|   2.87 |  3.23 |  3.46 |\n",
              "| 199.43 | 40.04 |  7.76 |\n",
              "|   4.53 |  4.74 |  4.34 |\n",
              "|   4.31 |  4.13 |  3.54 |\n",
              "|  73.01 |  8.77 |  2.57 |\n",
              "|   6.58 |  4.17 |  2.59 |\n",
              "|   5.81 |  6.35 |  2.72 |\n",
              "|   2.35 |  2.34 |  1.98 |\n",
              "|   7.77 |  4.74 |  2.62 |\n",
              "|   7.06 |  7.68 |  4.72 |\n",
              "| 235.69 | 87.56 | 11.81 |\n",
              "| 163.58 | 43.90 |  8.85 |\n",
              "| 147.18 | 83.70 |  8.29 |\n",
              "|  92.79 | 27.37 |  5.59 |\n",
              "|   4.04 |  4.43 |  5.16 |\n",
              "|   2.90 |  2.80 |  2.58 |\n",
              "\n"
            ],
            "text/plain": [
              "      dcov1  dcov2 dcov3\n",
              " [1,]   1.79  1.61  1.40\n",
              " [2,]   2.87  3.23  3.46\n",
              " [3,] 199.43 40.04  7.76\n",
              " [4,]   4.53  4.74  4.34\n",
              " [5,]   4.31  4.13  3.54\n",
              " [6,]  73.01  8.77  2.57\n",
              " [7,]   6.58  4.17  2.59\n",
              " [8,]   5.81  6.35  2.72\n",
              " [9,]   2.35  2.34  1.98\n",
              "[10,]   7.77  4.74  2.62\n",
              "[11,]   7.06  7.68  4.72\n",
              "[12,] 235.69 87.56 11.81\n",
              "[13,] 163.58 43.90  8.85\n",
              "[14,] 147.18 83.70  8.29\n",
              "[15,]  92.79 27.37  5.59\n",
              "[16,]   4.04  4.43  5.16\n",
              "[17,]   2.90  2.80  2.58"
            ]
          },
          "metadata": {},
          "output_type": "display_data"
        }
      ],
      "source": [
        "etiqueta<-galletitas[,4:8]\n",
        "cov1=cov.rob(etiqueta,method=\"mcd\",nsamp=\"exact\") #CalculaMCD\n",
        "cov2=cov.rob(etiqueta,method=\"mve\",nsamp=\"best\") #CalculaMVE\n",
        "cov3=cov.rob(etiqueta,method=\"classical\",nsamp=\"best\")\n",
        "#Calculalamatrizdecovarianzasclásica\n",
        "center1=apply(etiqueta,2,mean) #Calculaelvectordemedias\n",
        "center2=apply(etiqueta,2,median) #Calculaelvectordemedianas\n",
        "dcov1=0;dcov2=0;dcov3=0\n",
        "for(i in 1:nrow(etiqueta)){\n",
        "dcov1[i]=mahalanobis(etiqueta[i,],cov1$center,cov1$cov,inverted=FALSE)\n",
        "dcov2[i]=mahalanobis(etiqueta[i,],cov2$center,cov2$cov,inverted=FALSE)\n",
        "dcov3[i]=mahalanobis(etiqueta[i,],cov3$center,cov3$cov,inverted=FALSE)\n",
        "}\n",
        "#Calcula distancias de Mahalanobis utilizando las distintas estimaciones de la matriz de covarianzas\n",
        "round(cbind(dcov1,dcov2,dcov3),2)\n"
      ]
    },
    {
      "cell_type": "code",
      "execution_count": null,
      "id": "4cee080c",
      "metadata": {
        "id": "4cee080c",
        "outputId": "9cacfab7-061b-4ba0-c992-bd1d05f090d8"
      },
      "outputs": [
        {
          "name": "stdout",
          "output_type": "stream",
          "text": [
            "[1]  1 17  7  2\n"
          ]
        }
      ],
      "source": [
        "#Combina las tres distancias\n",
        "distancias.outliers=lofactor(etiqueta,k=4)\n",
        "#observaciones\n",
        "outliers=order(distancias.outliers,decreasing=T)[1:4]\n",
        "#Arroja las observaciones correspondientes a las cuatro distancias mayores\n",
        "print(outliers)"
      ]
    },
    {
      "cell_type": "code",
      "execution_count": null,
      "id": "a99c3423",
      "metadata": {
        "id": "a99c3423",
        "outputId": "151026ed-c8b7-4d80-e8b1-c06f32435d8c"
      },
      "outputs": [
        {
          "data": {
            "text/html": [
              "<table class=\"dataframe\">\n",
              "<caption>A tibble: 4 × 8</caption>\n",
              "<thead>\n",
              "\t<tr><th scope=col>Compañia</th><th scope=col>Marca</th><th scope=col>Tipo</th><th scope=col>Calorias</th><th scope=col>Carbohidratos</th><th scope=col>Proteinas</th><th scope=col>Grasas</th><th scope=col>Sodio</th></tr>\n",
              "\t<tr><th scope=col>&lt;fct&gt;</th><th scope=col>&lt;fct&gt;</th><th scope=col>&lt;fct&gt;</th><th scope=col>&lt;dbl&gt;</th><th scope=col>&lt;dbl&gt;</th><th scope=col>&lt;dbl&gt;</th><th scope=col>&lt;dbl&gt;</th><th scope=col>&lt;dbl&gt;</th></tr>\n",
              "</thead>\n",
              "<tbody>\n",
              "\t<tr><td>A</td><td>Cerealeras</td><td>Salada</td><td>439</td><td>65</td><td>11</td><td>15</td><td>574</td></tr>\n",
              "\t<tr><td>B</td><td>Baglett   </td><td>Salada</td><td>421</td><td>63</td><td>11</td><td>14</td><td>624</td></tr>\n",
              "\t<tr><td>B</td><td>Criollas  </td><td>Salada</td><td>438</td><td>69</td><td>11</td><td>13</td><td>431</td></tr>\n",
              "\t<tr><td>C</td><td>Tiritas   </td><td>Salada</td><td>466</td><td>57</td><td>10</td><td>22</td><td>828</td></tr>\n",
              "</tbody>\n",
              "</table>\n"
            ],
            "text/latex": [
              "A tibble: 4 × 8\n",
              "\\begin{tabular}{llllllll}\n",
              " Compañia & Marca & Tipo & Calorias & Carbohidratos & Proteinas & Grasas & Sodio\\\\\n",
              " <fct> & <fct> & <fct> & <dbl> & <dbl> & <dbl> & <dbl> & <dbl>\\\\\n",
              "\\hline\n",
              "\t A & Cerealeras & Salada & 439 & 65 & 11 & 15 & 574\\\\\n",
              "\t B & Baglett    & Salada & 421 & 63 & 11 & 14 & 624\\\\\n",
              "\t B & Criollas   & Salada & 438 & 69 & 11 & 13 & 431\\\\\n",
              "\t C & Tiritas    & Salada & 466 & 57 & 10 & 22 & 828\\\\\n",
              "\\end{tabular}\n"
            ],
            "text/markdown": [
              "\n",
              "A tibble: 4 × 8\n",
              "\n",
              "| Compañia &lt;fct&gt; | Marca &lt;fct&gt; | Tipo &lt;fct&gt; | Calorias &lt;dbl&gt; | Carbohidratos &lt;dbl&gt; | Proteinas &lt;dbl&gt; | Grasas &lt;dbl&gt; | Sodio &lt;dbl&gt; |\n",
              "|---|---|---|---|---|---|---|---|\n",
              "| A | Cerealeras | Salada | 439 | 65 | 11 | 15 | 574 |\n",
              "| B | Baglett    | Salada | 421 | 63 | 11 | 14 | 624 |\n",
              "| B | Criollas   | Salada | 438 | 69 | 11 | 13 | 431 |\n",
              "| C | Tiritas    | Salada | 466 | 57 | 10 | 22 | 828 |\n",
              "\n"
            ],
            "text/plain": [
              "  Compañia Marca      Tipo   Calorias Carbohidratos Proteinas Grasas Sodio\n",
              "1 A        Cerealeras Salada 439      65            11        15     574  \n",
              "2 B        Baglett    Salada 421      63            11        14     624  \n",
              "3 B        Criollas   Salada 438      69            11        13     431  \n",
              "4 C        Tiritas    Salada 466      57            10        22     828  "
            ]
          },
          "metadata": {},
          "output_type": "display_data"
        }
      ],
      "source": [
        "galletitas[outliers,]"
      ]
    },
    {
      "cell_type": "code",
      "execution_count": null,
      "id": "da86301f",
      "metadata": {
        "id": "da86301f",
        "outputId": "c5b50dd3-1e27-4ea6-d916-ad9e59b14133"
      },
      "outputs": [
        {
          "data": {
            "text/html": [
              "<table class=\"dataframe\">\n",
              "<caption>A tibble: 3 × 8</caption>\n",
              "<thead>\n",
              "\t<tr><th scope=col>Compañia</th><th scope=col>Marca</th><th scope=col>Tipo</th><th scope=col>Calorias</th><th scope=col>Carbohidratos</th><th scope=col>Proteinas</th><th scope=col>Grasas</th><th scope=col>Sodio</th></tr>\n",
              "\t<tr><th scope=col>&lt;fct&gt;</th><th scope=col>&lt;dbl&gt;</th><th scope=col>&lt;dbl&gt;</th><th scope=col>&lt;dbl&gt;</th><th scope=col>&lt;dbl&gt;</th><th scope=col>&lt;dbl&gt;</th><th scope=col>&lt;dbl&gt;</th><th scope=col>&lt;dbl&gt;</th></tr>\n",
              "</thead>\n",
              "<tbody>\n",
              "\t<tr><td>A</td><td>NA</td><td>NA</td><td>435.8333</td><td>67.50000</td><td>7.95</td><td>15.0</td><td>362.1167</td></tr>\n",
              "\t<tr><td>B</td><td>NA</td><td>NA</td><td>429.0000</td><td>64.61667</td><td>8.80</td><td>15.0</td><td>241.8950</td></tr>\n",
              "\t<tr><td>C</td><td>NA</td><td>NA</td><td>468.6000</td><td>62.40000</td><td>8.64</td><td>20.4</td><td>712.6000</td></tr>\n",
              "</tbody>\n",
              "</table>\n"
            ],
            "text/latex": [
              "A tibble: 3 × 8\n",
              "\\begin{tabular}{llllllll}\n",
              " Compañia & Marca & Tipo & Calorias & Carbohidratos & Proteinas & Grasas & Sodio\\\\\n",
              " <fct> & <dbl> & <dbl> & <dbl> & <dbl> & <dbl> & <dbl> & <dbl>\\\\\n",
              "\\hline\n",
              "\t A & NA & NA & 435.8333 & 67.50000 & 7.95 & 15.0 & 362.1167\\\\\n",
              "\t B & NA & NA & 429.0000 & 64.61667 & 8.80 & 15.0 & 241.8950\\\\\n",
              "\t C & NA & NA & 468.6000 & 62.40000 & 8.64 & 20.4 & 712.6000\\\\\n",
              "\\end{tabular}\n"
            ],
            "text/markdown": [
              "\n",
              "A tibble: 3 × 8\n",
              "\n",
              "| Compañia &lt;fct&gt; | Marca &lt;dbl&gt; | Tipo &lt;dbl&gt; | Calorias &lt;dbl&gt; | Carbohidratos &lt;dbl&gt; | Proteinas &lt;dbl&gt; | Grasas &lt;dbl&gt; | Sodio &lt;dbl&gt; |\n",
              "|---|---|---|---|---|---|---|---|\n",
              "| A | NA | NA | 435.8333 | 67.50000 | 7.95 | 15.0 | 362.1167 |\n",
              "| B | NA | NA | 429.0000 | 64.61667 | 8.80 | 15.0 | 241.8950 |\n",
              "| C | NA | NA | 468.6000 | 62.40000 | 8.64 | 20.4 | 712.6000 |\n",
              "\n"
            ],
            "text/plain": [
              "  Compañia Marca Tipo Calorias Carbohidratos Proteinas Grasas Sodio   \n",
              "1 A        NA    NA   435.8333 67.50000      7.95      15.0   362.1167\n",
              "2 B        NA    NA   429.0000 64.61667      8.80      15.0   241.8950\n",
              "3 C        NA    NA   468.6000 62.40000      8.64      20.4   712.6000"
            ]
          },
          "metadata": {},
          "output_type": "display_data"
        }
      ],
      "source": [
        "perfil_medio"
      ]
    },
    {
      "cell_type": "code",
      "execution_count": null,
      "id": "6c4e53d8",
      "metadata": {
        "id": "6c4e53d8",
        "outputId": "20633a60-06b8-4913-9dba-2da3d7bd150b"
      },
      "outputs": [
        {
          "data": {
            "text/html": [
              "<style>\n",
              ".dl-inline {width: auto; margin:0; padding: 0}\n",
              ".dl-inline>dt, .dl-inline>dd {float: none; width: auto; display: inline-block}\n",
              ".dl-inline>dt::after {content: \":\\0020\"; padding-right: .5ex}\n",
              ".dl-inline>dt:not(:first-of-type) {padding-left: .5ex}\n",
              "</style><dl class=dl-inline><dt>Calorias</dt><dd>443.058823529412</dd><dt>Carbohidratos</dt><dd>64.9823529411765</dd><dt>Proteinas</dt><dd>8.45294117647059</dd><dt>Grasas</dt><dd>16.5882352941176</dd><dt>Sodio</dt><dd>422.768823529412</dd></dl>\n"
            ],
            "text/latex": [
              "\\begin{description*}\n",
              "\\item[Calorias] 443.058823529412\n",
              "\\item[Carbohidratos] 64.9823529411765\n",
              "\\item[Proteinas] 8.45294117647059\n",
              "\\item[Grasas] 16.5882352941176\n",
              "\\item[Sodio] 422.768823529412\n",
              "\\end{description*}\n"
            ],
            "text/markdown": [
              "Calorias\n",
              ":   443.058823529412Carbohidratos\n",
              ":   64.9823529411765Proteinas\n",
              ":   8.45294117647059Grasas\n",
              ":   16.5882352941176Sodio\n",
              ":   422.768823529412\n",
              "\n"
            ],
            "text/plain": [
              "     Calorias Carbohidratos     Proteinas        Grasas         Sodio \n",
              "   443.058824     64.982353      8.452941     16.588235    422.768824 "
            ]
          },
          "metadata": {},
          "output_type": "display_data"
        }
      ],
      "source": [
        "center1"
      ]
    },
    {
      "cell_type": "markdown",
      "id": "8434e8c8",
      "metadata": {
        "id": "8434e8c8"
      },
      "source": [
        "**Gráfico 3D podemos mostrar tres variables conjuntas y diferenciar con color por clase"
      ]
    },
    {
      "cell_type": "code",
      "execution_count": null,
      "id": "762eb03e",
      "metadata": {
        "id": "762eb03e"
      },
      "outputs": [],
      "source": [
        "library(scatterplot3d) #conda install -c conda-forge r-scatterplot3d"
      ]
    },
    {
      "cell_type": "code",
      "execution_count": null,
      "id": "13f4dae0",
      "metadata": {
        "id": "13f4dae0",
        "outputId": "c9b01cca-6b39-4286-b1a3-dc74a0df3acb"
      },
      "outputs": [
        {
          "data": {
            "image/png": "[encoded data removed]",
            "text/plain": [
              "Plot with title \"DIAGRAMA DE DISPERSION\""
            ]
          },
          "metadata": {
            "image/png": {
              "height": 420,
              "width": 420
            }
          },
          "output_type": "display_data"
        }
      ],
      "source": [
        "  colors <- c(\"green\", \"red\", \"blue\") #cambie los colores para que azul sea compañia C\n",
        "  colors <- colors[as.factor(galletitas$Compañia)]\n",
        "  with(galletitas, {\n",
        "    s3d <- scatterplot3d(\n",
        "      x = Grasas,\n",
        "      y = Proteinas,\n",
        "      z = Sodio,\n",
        "      color = colors,\n",
        "      pch = 16,\n",
        "      type = \"h\",\n",
        "      main = \"DIAGRAMA DE DISPERSION\",\n",
        "      xlab = \"Grasa\",\n",
        "      ylab = \"Proteinas\",\n",
        "      zlab = \"Sodio\")\n",
        "\n",
        "    # convert 3-D coords to 2D projection\n",
        "    s3d.coords <- s3d$xyz.convert(Grasas, Proteinas, Sodio)\n",
        "\n",
        "    # plot text with 50% shrink and place to right of points\n",
        "    text(s3d.coords$x,\n",
        "        s3d.coords$y,\n",
        "        labels = galletitas$Marca,\n",
        "        cex = .9,\n",
        "        pos = 4)\n",
        "  })"
      ]
    },
    {
      "cell_type": "markdown",
      "id": "34d83994",
      "metadata": {
        "id": "34d83994"
      },
      "source": [
        "# Correlaciones"
      ]
    },
    {
      "cell_type": "code",
      "execution_count": null,
      "id": "81d3de59",
      "metadata": {
        "id": "81d3de59",
        "outputId": "628a404a-16ea-4ebf-b89d-7d284d9acb10"
      },
      "outputs": [
        {
          "name": "stderr",
          "output_type": "stream",
          "text": [
            "Registered S3 method overwritten by 'GGally':\n",
            "  method from   \n",
            "  +.gg   ggplot2\n",
            "\n"
          ]
        },
        {
          "data": {
            "image/png": "[encoded data removed]",
            "text/plain": [
              "plot without title"
            ]
          },
          "metadata": {
            "image/png": {
              "height": 420,
              "width": 420
            }
          },
          "output_type": "display_data"
        }
      ],
      "source": [
        "library(\"GGally\") #conda install -c conda-forge r-ggally\n",
        "galletitas_plot <-ggpairs(galletitas,columns=c(4,5,6,7,8))\n",
        "galletitas_plot"
      ]
    },
    {
      "cell_type": "code",
      "execution_count": null,
      "id": "5718f9ab",
      "metadata": {
        "id": "5718f9ab",
        "outputId": "02f40912-ac95-4f3e-caaa-41830939b065"
      },
      "outputs": [
        {
          "data": {
            "text/html": [
              "<dl>\n",
              "\t<dt>$estimate</dt>\n",
              "\t\t<dd><table class=\"dataframe\">\n",
              "<caption>A matrix: 5 × 5 of type dbl</caption>\n",
              "<thead>\n",
              "\t<tr><th></th><th scope=col>Calorias</th><th scope=col>Carbohidratos</th><th scope=col>Proteinas</th><th scope=col>Grasas</th><th scope=col>Sodio</th></tr>\n",
              "</thead>\n",
              "<tbody>\n",
              "\t<tr><th scope=row>Calorias</th><td>1.0000000</td><td> 0.9780720</td><td> 0.9005239</td><td> 0.9898045</td><td> 0.2057963</td></tr>\n",
              "\t<tr><th scope=row>Carbohidratos</th><td>0.9780720</td><td> 1.0000000</td><td>-0.9093259</td><td>-0.9877417</td><td>-0.1993137</td></tr>\n",
              "\t<tr><th scope=row>Proteinas</th><td>0.9005239</td><td>-0.9093259</td><td> 1.0000000</td><td>-0.9259745</td><td> 0.0826773</td></tr>\n",
              "\t<tr><th scope=row>Grasas</th><td>0.9898045</td><td>-0.9877417</td><td>-0.9259745</td><td> 1.0000000</td><td>-0.1392440</td></tr>\n",
              "\t<tr><th scope=row>Sodio</th><td>0.2057963</td><td>-0.1993137</td><td> 0.0826773</td><td>-0.1392440</td><td> 1.0000000</td></tr>\n",
              "</tbody>\n",
              "</table>\n",
              "</dd>\n",
              "\t<dt>$p.value</dt>\n",
              "\t\t<dd><table class=\"dataframe\">\n",
              "<caption>A matrix: 5 × 5 of type dbl</caption>\n",
              "<thead>\n",
              "\t<tr><th></th><th scope=col>Calorias</th><th scope=col>Carbohidratos</th><th scope=col>Proteinas</th><th scope=col>Grasas</th><th scope=col>Sodio</th></tr>\n",
              "</thead>\n",
              "<tbody>\n",
              "\t<tr><th scope=row>Calorias</th><td>0.000000e+00</td><td>1.531063e-09</td><td>1.125584e-05</td><td>1.586464e-11</td><td>0.4802877</td></tr>\n",
              "\t<tr><th scope=row>Carbohidratos</th><td>1.531063e-09</td><td>0.000000e+00</td><td>6.583730e-06</td><td>4.771419e-11</td><td>0.4945197</td></tr>\n",
              "\t<tr><th scope=row>Proteinas</th><td>1.125584e-05</td><td>6.583730e-06</td><td>0.000000e+00</td><td>2.022412e-06</td><td>0.7787189</td></tr>\n",
              "\t<tr><th scope=row>Grasas</th><td>1.586464e-11</td><td>4.771419e-11</td><td>2.022412e-06</td><td>0.000000e+00</td><td>0.6349632</td></tr>\n",
              "\t<tr><th scope=row>Sodio</th><td>4.802877e-01</td><td>4.945197e-01</td><td>7.787189e-01</td><td>6.349632e-01</td><td>0.0000000</td></tr>\n",
              "</tbody>\n",
              "</table>\n",
              "</dd>\n",
              "\t<dt>$statistic</dt>\n",
              "\t\t<dd><table class=\"dataframe\">\n",
              "<caption>A matrix: 5 × 5 of type dbl</caption>\n",
              "<thead>\n",
              "\t<tr><th></th><th scope=col>Calorias</th><th scope=col>Carbohidratos</th><th scope=col>Proteinas</th><th scope=col>Grasas</th><th scope=col>Sodio</th></tr>\n",
              "</thead>\n",
              "<tbody>\n",
              "\t<tr><th scope=row>Calorias</th><td> 0.0000000</td><td> 16.2682446</td><td> 7.1744708</td><td> 24.0730464</td><td> 0.7284927</td></tr>\n",
              "\t<tr><th scope=row>Carbohidratos</th><td>16.2682446</td><td>  0.0000000</td><td>-7.5705708</td><td>-21.9198761</td><td>-0.7045797</td></tr>\n",
              "\t<tr><th scope=row>Proteinas</th><td> 7.1744708</td><td> -7.5705708</td><td> 0.0000000</td><td> -8.4952044</td><td> 0.2873865</td></tr>\n",
              "\t<tr><th scope=row>Grasas</th><td>24.0730464</td><td>-21.9198761</td><td>-8.4952044</td><td>  0.0000000</td><td>-0.4871008</td></tr>\n",
              "\t<tr><th scope=row>Sodio</th><td> 0.7284927</td><td> -0.7045797</td><td> 0.2873865</td><td> -0.4871008</td><td> 0.0000000</td></tr>\n",
              "</tbody>\n",
              "</table>\n",
              "</dd>\n",
              "\t<dt>$n</dt>\n",
              "\t\t<dd>17</dd>\n",
              "\t<dt>$gp</dt>\n",
              "\t\t<dd>3</dd>\n",
              "\t<dt>$method</dt>\n",
              "\t\t<dd>'pearson'</dd>\n",
              "</dl>\n"
            ],
            "text/latex": [
              "\\begin{description}\n",
              "\\item[\\$estimate] A matrix: 5 × 5 of type dbl\n",
              "\\begin{tabular}{r|lllll}\n",
              "  & Calorias & Carbohidratos & Proteinas & Grasas & Sodio\\\\\n",
              "\\hline\n",
              "\tCalorias & 1.0000000 &  0.9780720 &  0.9005239 &  0.9898045 &  0.2057963\\\\\n",
              "\tCarbohidratos & 0.9780720 &  1.0000000 & -0.9093259 & -0.9877417 & -0.1993137\\\\\n",
              "\tProteinas & 0.9005239 & -0.9093259 &  1.0000000 & -0.9259745 &  0.0826773\\\\\n",
              "\tGrasas & 0.9898045 & -0.9877417 & -0.9259745 &  1.0000000 & -0.1392440\\\\\n",
              "\tSodio & 0.2057963 & -0.1993137 &  0.0826773 & -0.1392440 &  1.0000000\\\\\n",
              "\\end{tabular}\n",
              "\n",
              "\\item[\\$p.value] A matrix: 5 × 5 of type dbl\n",
              "\\begin{tabular}{r|lllll}\n",
              "  & Calorias & Carbohidratos & Proteinas & Grasas & Sodio\\\\\n",
              "\\hline\n",
              "\tCalorias & 0.000000e+00 & 1.531063e-09 & 1.125584e-05 & 1.586464e-11 & 0.4802877\\\\\n",
              "\tCarbohidratos & 1.531063e-09 & 0.000000e+00 & 6.583730e-06 & 4.771419e-11 & 0.4945197\\\\\n",
              "\tProteinas & 1.125584e-05 & 6.583730e-06 & 0.000000e+00 & 2.022412e-06 & 0.7787189\\\\\n",
              "\tGrasas & 1.586464e-11 & 4.771419e-11 & 2.022412e-06 & 0.000000e+00 & 0.6349632\\\\\n",
              "\tSodio & 4.802877e-01 & 4.945197e-01 & 7.787189e-01 & 6.349632e-01 & 0.0000000\\\\\n",
              "\\end{tabular}\n",
              "\n",
              "\\item[\\$statistic] A matrix: 5 × 5 of type dbl\n",
              "\\begin{tabular}{r|lllll}\n",
              "  & Calorias & Carbohidratos & Proteinas & Grasas & Sodio\\\\\n",
              "\\hline\n",
              "\tCalorias &  0.0000000 &  16.2682446 &  7.1744708 &  24.0730464 &  0.7284927\\\\\n",
              "\tCarbohidratos & 16.2682446 &   0.0000000 & -7.5705708 & -21.9198761 & -0.7045797\\\\\n",
              "\tProteinas &  7.1744708 &  -7.5705708 &  0.0000000 &  -8.4952044 &  0.2873865\\\\\n",
              "\tGrasas & 24.0730464 & -21.9198761 & -8.4952044 &   0.0000000 & -0.4871008\\\\\n",
              "\tSodio &  0.7284927 &  -0.7045797 &  0.2873865 &  -0.4871008 &  0.0000000\\\\\n",
              "\\end{tabular}\n",
              "\n",
              "\\item[\\$n] 17\n",
              "\\item[\\$gp] 3\n",
              "\\item[\\$method] 'pearson'\n",
              "\\end{description}\n"
            ],
            "text/markdown": [
              "$estimate\n",
              ":   \n",
              "A matrix: 5 × 5 of type dbl\n",
              "\n",
              "| <!--/--> | Calorias | Carbohidratos | Proteinas | Grasas | Sodio |\n",
              "|---|---|---|---|---|---|\n",
              "| Calorias | 1.0000000 |  0.9780720 |  0.9005239 |  0.9898045 |  0.2057963 |\n",
              "| Carbohidratos | 0.9780720 |  1.0000000 | -0.9093259 | -0.9877417 | -0.1993137 |\n",
              "| Proteinas | 0.9005239 | -0.9093259 |  1.0000000 | -0.9259745 |  0.0826773 |\n",
              "| Grasas | 0.9898045 | -0.9877417 | -0.9259745 |  1.0000000 | -0.1392440 |\n",
              "| Sodio | 0.2057963 | -0.1993137 |  0.0826773 | -0.1392440 |  1.0000000 |\n",
              "\n",
              "\n",
              "$p.value\n",
              ":   \n",
              "A matrix: 5 × 5 of type dbl\n",
              "\n",
              "| <!--/--> | Calorias | Carbohidratos | Proteinas | Grasas | Sodio |\n",
              "|---|---|---|---|---|---|\n",
              "| Calorias | 0.000000e+00 | 1.531063e-09 | 1.125584e-05 | 1.586464e-11 | 0.4802877 |\n",
              "| Carbohidratos | 1.531063e-09 | 0.000000e+00 | 6.583730e-06 | 4.771419e-11 | 0.4945197 |\n",
              "| Proteinas | 1.125584e-05 | 6.583730e-06 | 0.000000e+00 | 2.022412e-06 | 0.7787189 |\n",
              "| Grasas | 1.586464e-11 | 4.771419e-11 | 2.022412e-06 | 0.000000e+00 | 0.6349632 |\n",
              "| Sodio | 4.802877e-01 | 4.945197e-01 | 7.787189e-01 | 6.349632e-01 | 0.0000000 |\n",
              "\n",
              "\n",
              "$statistic\n",
              ":   \n",
              "A matrix: 5 × 5 of type dbl\n",
              "\n",
              "| <!--/--> | Calorias | Carbohidratos | Proteinas | Grasas | Sodio |\n",
              "|---|---|---|---|---|---|\n",
              "| Calorias |  0.0000000 |  16.2682446 |  7.1744708 |  24.0730464 |  0.7284927 |\n",
              "| Carbohidratos | 16.2682446 |   0.0000000 | -7.5705708 | -21.9198761 | -0.7045797 |\n",
              "| Proteinas |  7.1744708 |  -7.5705708 |  0.0000000 |  -8.4952044 |  0.2873865 |\n",
              "| Grasas | 24.0730464 | -21.9198761 | -8.4952044 |   0.0000000 | -0.4871008 |\n",
              "| Sodio |  0.7284927 |  -0.7045797 |  0.2873865 |  -0.4871008 |  0.0000000 |\n",
              "\n",
              "\n",
              "$n\n",
              ":   17\n",
              "$gp\n",
              ":   3\n",
              "$method\n",
              ":   'pearson'\n",
              "\n",
              "\n"
            ],
            "text/plain": [
              "$estimate\n",
              "               Calorias Carbohidratos  Proteinas     Grasas      Sodio\n",
              "Calorias      1.0000000     0.9780720  0.9005239  0.9898045  0.2057963\n",
              "Carbohidratos 0.9780720     1.0000000 -0.9093259 -0.9877417 -0.1993137\n",
              "Proteinas     0.9005239    -0.9093259  1.0000000 -0.9259745  0.0826773\n",
              "Grasas        0.9898045    -0.9877417 -0.9259745  1.0000000 -0.1392440\n",
              "Sodio         0.2057963    -0.1993137  0.0826773 -0.1392440  1.0000000\n",
              "\n",
              "$p.value\n",
              "                  Calorias Carbohidratos    Proteinas       Grasas     Sodio\n",
              "Calorias      0.000000e+00  1.531063e-09 1.125584e-05 1.586464e-11 0.4802877\n",
              "Carbohidratos 1.531063e-09  0.000000e+00 6.583730e-06 4.771419e-11 0.4945197\n",
              "Proteinas     1.125584e-05  6.583730e-06 0.000000e+00 2.022412e-06 0.7787189\n",
              "Grasas        1.586464e-11  4.771419e-11 2.022412e-06 0.000000e+00 0.6349632\n",
              "Sodio         4.802877e-01  4.945197e-01 7.787189e-01 6.349632e-01 0.0000000\n",
              "\n",
              "$statistic\n",
              "                Calorias Carbohidratos  Proteinas      Grasas      Sodio\n",
              "Calorias       0.0000000    16.2682446  7.1744708  24.0730464  0.7284927\n",
              "Carbohidratos 16.2682446     0.0000000 -7.5705708 -21.9198761 -0.7045797\n",
              "Proteinas      7.1744708    -7.5705708  0.0000000  -8.4952044  0.2873865\n",
              "Grasas        24.0730464   -21.9198761 -8.4952044   0.0000000 -0.4871008\n",
              "Sodio          0.7284927    -0.7045797  0.2873865  -0.4871008  0.0000000\n",
              "\n",
              "$n\n",
              "[1] 17\n",
              "\n",
              "$gp\n",
              "[1] 3\n",
              "\n",
              "$method\n",
              "[1] \"pearson\"\n"
            ]
          },
          "metadata": {},
          "output_type": "display_data"
        }
      ],
      "source": [
        "library(\"ppcor\")\n",
        "pcor(galletitas[,4:8])"
      ]
    },
    {
      "cell_type": "code",
      "execution_count": null,
      "id": "96cbae57",
      "metadata": {
        "id": "96cbae57",
        "outputId": "0cb39692-04b2-48f2-c5e5-11761b0b098b"
      },
      "outputs": [
        {
          "data": {
            "image/png": "[encoded data removed]",
            "text/plain": [
              "plot without title"
            ]
          },
          "metadata": {
            "image/png": {
              "height": 420,
              "width": 420
            }
          },
          "output_type": "display_data"
        }
      ],
      "source": [
        "galletitas_plot <-ggpairs(galletitas,columns=c(4,5,6,7,8),mapping=aes(color=as.factor(Compañia)))\n",
        "galletitas_plot"
      ]
    },
    {
      "cell_type": "markdown",
      "id": "ac5859f3",
      "metadata": {
        "id": "ac5859f3"
      },
      "source": [
        "# Gráficos Multivariados"
      ]
    },
    {
      "cell_type": "code",
      "execution_count": null,
      "id": "f8bcd2fb",
      "metadata": {
        "id": "f8bcd2fb"
      },
      "outputs": [],
      "source": [
        "library(GGally)"
      ]
    },
    {
      "cell_type": "code",
      "execution_count": null,
      "id": "17e4e8e0",
      "metadata": {
        "id": "17e4e8e0",
        "outputId": "fec753df-3837-4996-ef88-1b4927865c13"
      },
      "outputs": [
        {
          "data": {
            "image/png": "[encoded data removed]",
            "text/plain": [
              "plot without title"
            ]
          },
          "metadata": {
            "image/png": {
              "height": 420,
              "width": 420
            }
          },
          "output_type": "display_data"
        }
      ],
      "source": [
        "ggparcoord(data = galletitas,\n",
        "           columns = 4:8,\n",
        "           groupColumn = \"Compañia\",\n",
        "           showPoints = TRUE,\n",
        "           alphaLines = 0.8, #TRANSPERENCIA LINEAS\n",
        "           boxplot = FALSE) #DIBUJA BOXPLOT POR VARIABLE"
      ]
    },
    {
      "cell_type": "markdown",
      "id": "f310cbbc",
      "metadata": {
        "id": "f310cbbc"
      },
      "source": [
        "**Gráfico de Perfiles Paralelos"
      ]
    },
    {
      "cell_type": "code",
      "execution_count": null,
      "id": "3f54b4ba",
      "metadata": {
        "id": "3f54b4ba",
        "outputId": "ee78ed3f-9593-4abe-d544-2f67aa25e546"
      },
      "outputs": [
        {
          "data": {
            "text/html": [
              "<table class=\"dataframe\">\n",
              "<caption>A tibble: 3 × 8</caption>\n",
              "<thead>\n",
              "\t<tr><th scope=col>Compañia</th><th scope=col>Marca</th><th scope=col>Tipo</th><th scope=col>Calorias</th><th scope=col>Carbohidratos</th><th scope=col>Proteinas</th><th scope=col>Grasas</th><th scope=col>Sodio</th></tr>\n",
              "\t<tr><th scope=col>&lt;fct&gt;</th><th scope=col>&lt;dbl&gt;</th><th scope=col>&lt;dbl&gt;</th><th scope=col>&lt;dbl&gt;</th><th scope=col>&lt;dbl&gt;</th><th scope=col>&lt;dbl&gt;</th><th scope=col>&lt;dbl&gt;</th><th scope=col>&lt;dbl&gt;</th></tr>\n",
              "</thead>\n",
              "<tbody>\n",
              "\t<tr><td>A</td><td>NA</td><td>NA</td><td>435.8333</td><td>67.50000</td><td>7.95</td><td>15.0</td><td>362.1167</td></tr>\n",
              "\t<tr><td>B</td><td>NA</td><td>NA</td><td>429.0000</td><td>64.61667</td><td>8.80</td><td>15.0</td><td>241.8950</td></tr>\n",
              "\t<tr><td>C</td><td>NA</td><td>NA</td><td>468.6000</td><td>62.40000</td><td>8.64</td><td>20.4</td><td>712.6000</td></tr>\n",
              "</tbody>\n",
              "</table>\n"
            ],
            "text/latex": [
              "A tibble: 3 × 8\n",
              "\\begin{tabular}{llllllll}\n",
              " Compañia & Marca & Tipo & Calorias & Carbohidratos & Proteinas & Grasas & Sodio\\\\\n",
              " <fct> & <dbl> & <dbl> & <dbl> & <dbl> & <dbl> & <dbl> & <dbl>\\\\\n",
              "\\hline\n",
              "\t A & NA & NA & 435.8333 & 67.50000 & 7.95 & 15.0 & 362.1167\\\\\n",
              "\t B & NA & NA & 429.0000 & 64.61667 & 8.80 & 15.0 & 241.8950\\\\\n",
              "\t C & NA & NA & 468.6000 & 62.40000 & 8.64 & 20.4 & 712.6000\\\\\n",
              "\\end{tabular}\n"
            ],
            "text/markdown": [
              "\n",
              "A tibble: 3 × 8\n",
              "\n",
              "| Compañia &lt;fct&gt; | Marca &lt;dbl&gt; | Tipo &lt;dbl&gt; | Calorias &lt;dbl&gt; | Carbohidratos &lt;dbl&gt; | Proteinas &lt;dbl&gt; | Grasas &lt;dbl&gt; | Sodio &lt;dbl&gt; |\n",
              "|---|---|---|---|---|---|---|---|\n",
              "| A | NA | NA | 435.8333 | 67.50000 | 7.95 | 15.0 | 362.1167 |\n",
              "| B | NA | NA | 429.0000 | 64.61667 | 8.80 | 15.0 | 241.8950 |\n",
              "| C | NA | NA | 468.6000 | 62.40000 | 8.64 | 20.4 | 712.6000 |\n",
              "\n"
            ],
            "text/plain": [
              "  Compañia Marca Tipo Calorias Carbohidratos Proteinas Grasas Sodio   \n",
              "1 A        NA    NA   435.8333 67.50000      7.95      15.0   362.1167\n",
              "2 B        NA    NA   429.0000 64.61667      8.80      15.0   241.8950\n",
              "3 C        NA    NA   468.6000 62.40000      8.64      20.4   712.6000"
            ]
          },
          "metadata": {},
          "output_type": "display_data"
        }
      ],
      "source": [
        "perfil_medio"
      ]
    },
    {
      "cell_type": "code",
      "execution_count": null,
      "id": "c0d8f42f",
      "metadata": {
        "id": "c0d8f42f",
        "outputId": "fe67be9e-3b48-4d1f-fce7-185ff8ae25f2"
      },
      "outputs": [
        {
          "data": {
            "image/png": "[encoded data removed]",
            "text/plain": [
              "plot without title"
            ]
          },
          "metadata": {
            "image/png": {
              "height": 420,
              "width": 420
            }
          },
          "output_type": "display_data"
        }
      ],
      "source": [
        "ggparcoord(data = perfil_medio,\n",
        "           columns = 4:8,\n",
        "           groupColumn = \"Compañia\",\n",
        "           showPoints = TRUE,\n",
        "           scale = \"globalminmax\")\n"
      ]
    },
    {
      "cell_type": "markdown",
      "id": "ee31cb70",
      "metadata": {
        "id": "ee31cb70"
      },
      "source": [
        "**Gráfico Diagrama Radial"
      ]
    },
    {
      "cell_type": "code",
      "execution_count": null,
      "id": "db79e838",
      "metadata": {
        "id": "db79e838"
      },
      "outputs": [],
      "source": [
        "#correr en anaconda promp\n",
        "#conda install -c conda-forge r-devtools\n",
        "#correr en jupyter\n",
        "#devtools::install_github(\"ricardo-bion/ggradar\",  dependencies = TRUE)"
      ]
    },
    {
      "cell_type": "code",
      "execution_count": null,
      "id": "1f6df86a",
      "metadata": {
        "id": "1f6df86a"
      },
      "outputs": [],
      "source": [
        "library(ggplot2)\n",
        "library(ggradar)\n",
        "library(scales)"
      ]
    },
    {
      "cell_type": "code",
      "execution_count": null,
      "id": "07bc2a78",
      "metadata": {
        "id": "07bc2a78",
        "outputId": "2256c4bf-b26a-4b88-955d-0457675d57f6"
      },
      "outputs": [
        {
          "data": {
            "text/html": [
              "<table class=\"dataframe\">\n",
              "<caption>A data.frame: 3 × 10</caption>\n",
              "<thead>\n",
              "\t<tr><th scope=col>Grupo</th><th scope=col>Var 1</th><th scope=col>Var 2</th><th scope=col>Var 3</th><th scope=col>Var 4</th><th scope=col>Var 5</th><th scope=col>Var 6</th><th scope=col>Var 7</th><th scope=col>Var 8</th><th scope=col>Var 9</th></tr>\n",
              "\t<tr><th scope=col>&lt;chr&gt;</th><th scope=col>&lt;dbl&gt;</th><th scope=col>&lt;dbl&gt;</th><th scope=col>&lt;dbl&gt;</th><th scope=col>&lt;dbl&gt;</th><th scope=col>&lt;dbl&gt;</th><th scope=col>&lt;dbl&gt;</th><th scope=col>&lt;dbl&gt;</th><th scope=col>&lt;dbl&gt;</th><th scope=col>&lt;dbl&gt;</th></tr>\n",
              "</thead>\n",
              "<tbody>\n",
              "\t<tr><td>G1</td><td>0.2773750</td><td>0.7244059</td><td>0.07314447</td><td>0.1000535</td><td>0.4551024</td><td>0.9622046</td><td>0.9966129</td><td>0.6491614</td><td>0.8417462</td></tr>\n",
              "\t<tr><td>G2</td><td>0.8135742</td><td>0.9060922</td><td>0.75467503</td><td>0.9540688</td><td>0.9710557</td><td>0.7617024</td><td>0.5062709</td><td>0.8308064</td><td>0.5137017</td></tr>\n",
              "\t<tr><td>G3</td><td>0.2604278</td><td>0.9490402</td><td>0.28600062</td><td>0.4156071</td><td>0.5839880</td><td>0.7145085</td><td>0.4899432</td><td>0.4819990</td><td>0.5297775</td></tr>\n",
              "</tbody>\n",
              "</table>\n"
            ],
            "text/latex": [
              "A data.frame: 3 × 10\n",
              "\\begin{tabular}{llllllllll}\n",
              " Grupo & Var 1 & Var 2 & Var 3 & Var 4 & Var 5 & Var 6 & Var 7 & Var 8 & Var 9\\\\\n",
              " <chr> & <dbl> & <dbl> & <dbl> & <dbl> & <dbl> & <dbl> & <dbl> & <dbl> & <dbl>\\\\\n",
              "\\hline\n",
              "\t G1 & 0.2773750 & 0.7244059 & 0.07314447 & 0.1000535 & 0.4551024 & 0.9622046 & 0.9966129 & 0.6491614 & 0.8417462\\\\\n",
              "\t G2 & 0.8135742 & 0.9060922 & 0.75467503 & 0.9540688 & 0.9710557 & 0.7617024 & 0.5062709 & 0.8308064 & 0.5137017\\\\\n",
              "\t G3 & 0.2604278 & 0.9490402 & 0.28600062 & 0.4156071 & 0.5839880 & 0.7145085 & 0.4899432 & 0.4819990 & 0.5297775\\\\\n",
              "\\end{tabular}\n"
            ],
            "text/markdown": [
              "\n",
              "A data.frame: 3 × 10\n",
              "\n",
              "| Grupo &lt;chr&gt; | Var 1 &lt;dbl&gt; | Var 2 &lt;dbl&gt; | Var 3 &lt;dbl&gt; | Var 4 &lt;dbl&gt; | Var 5 &lt;dbl&gt; | Var 6 &lt;dbl&gt; | Var 7 &lt;dbl&gt; | Var 8 &lt;dbl&gt; | Var 9 &lt;dbl&gt; |\n",
              "|---|---|---|---|---|---|---|---|---|---|\n",
              "| G1 | 0.2773750 | 0.7244059 | 0.07314447 | 0.1000535 | 0.4551024 | 0.9622046 | 0.9966129 | 0.6491614 | 0.8417462 |\n",
              "| G2 | 0.8135742 | 0.9060922 | 0.75467503 | 0.9540688 | 0.9710557 | 0.7617024 | 0.5062709 | 0.8308064 | 0.5137017 |\n",
              "| G3 | 0.2604278 | 0.9490402 | 0.28600062 | 0.4156071 | 0.5839880 | 0.7145085 | 0.4899432 | 0.4819990 | 0.5297775 |\n",
              "\n"
            ],
            "text/plain": [
              "  Grupo Var 1     Var 2     Var 3      Var 4     Var 5     Var 6     Var 7    \n",
              "1 G1    0.2773750 0.7244059 0.07314447 0.1000535 0.4551024 0.9622046 0.9966129\n",
              "2 G2    0.8135742 0.9060922 0.75467503 0.9540688 0.9710557 0.7617024 0.5062709\n",
              "3 G3    0.2604278 0.9490402 0.28600062 0.4156071 0.5839880 0.7145085 0.4899432\n",
              "  Var 8     Var 9    \n",
              "1 0.6491614 0.8417462\n",
              "2 0.8308064 0.5137017\n",
              "3 0.4819990 0.5297775"
            ]
          },
          "metadata": {},
          "output_type": "display_data"
        }
      ],
      "source": [
        "set.seed(4)\n",
        "df <- data.frame(matrix(runif(30), ncol = 10))\n",
        "df[, 1] <- paste0(\"G\", 1:3)\n",
        "colnames(df) <- c(\"Grupo\", paste(\"Var\", 1:9))\n",
        "df"
      ]
    },
    {
      "cell_type": "code",
      "execution_count": null,
      "id": "2be8f352",
      "metadata": {
        "id": "2be8f352",
        "outputId": "45a9aa44-60fa-445f-fcc1-9936bfed6918"
      },
      "outputs": [
        {
          "data": {
            "text/html": [
              "<table class=\"dataframe\">\n",
              "<caption>A data.frame: 17 × 6</caption>\n",
              "<thead>\n",
              "\t<tr><th scope=col>Compañia</th><th scope=col>Calorias</th><th scope=col>Carbohidratos</th><th scope=col>Proteinas</th><th scope=col>Grasas</th><th scope=col>Sodio</th></tr>\n",
              "\t<tr><th scope=col>&lt;fct&gt;</th><th scope=col>&lt;dbl&gt;</th><th scope=col>&lt;dbl&gt;</th><th scope=col>&lt;dbl&gt;</th><th scope=col>&lt;dbl&gt;</th><th scope=col>&lt;dbl&gt;</th></tr>\n",
              "</thead>\n",
              "<tbody>\n",
              "\t<tr><td>A</td><td>0.37209302</td><td>0.55555556</td><td>1.00000000</td><td>0.25000000</td><td>0.53320683</td></tr>\n",
              "\t<tr><td>C</td><td>0.68604651</td><td>0.11111111</td><td>0.81481481</td><td>0.83333333</td><td>0.77419355</td></tr>\n",
              "\t<tr><td>B</td><td>0.44186047</td><td>0.77777778</td><td>1.00000000</td><td>0.16666667</td><td>0.00000000</td></tr>\n",
              "\t<tr><td>C</td><td>0.82558140</td><td>0.66666667</td><td>0.00000000</td><td>0.75000000</td><td>0.33301708</td></tr>\n",
              "\t<tr><td>A</td><td>0.66279070</td><td>0.83333333</td><td>0.12962963</td><td>0.50000000</td><td>0.23814042</td></tr>\n",
              "\t<tr><td>A</td><td>0.65116279</td><td>0.61111111</td><td>0.27777778</td><td>0.58333333</td><td>0.11764706</td></tr>\n",
              "\t<tr><td>B</td><td>0.36046512</td><td>0.77777778</td><td>1.00000000</td><td>0.08333333</td><td>0.39753321</td></tr>\n",
              "\t<tr><td>A</td><td>0.12790698</td><td>0.77777778</td><td>0.12962963</td><td>0.08333333</td><td>0.17931689</td></tr>\n",
              "\t<tr><td>B</td><td>0.18604651</td><td>0.83333333</td><td>0.22222222</td><td>0.08333333</td><td>0.21726755</td></tr>\n",
              "\t<tr><td>C</td><td>0.43023256</td><td>1.00000000</td><td>0.62962963</td><td>0.08333333</td><td>0.34440228</td></tr>\n",
              "\t<tr><td>A</td><td>0.00000000</td><td>0.83333333</td><td>0.07407407</td><td>0.00000000</td><td>0.08984820</td></tr>\n",
              "\t<tr><td>B</td><td>0.34883721</td><td>0.27777778</td><td>0.20370370</td><td>0.50000000</td><td>0.06135674</td></tr>\n",
              "\t<tr><td>B</td><td>0.03488372</td><td>0.09444444</td><td>0.12962963</td><td>0.50000000</td><td>0.05189753</td></tr>\n",
              "\t<tr><td>C</td><td>1.00000000</td><td>0.27777778</td><td>0.37037037</td><td>1.00000000</td><td>1.00000000</td></tr>\n",
              "\t<tr><td>A</td><td>0.19767442</td><td>0.55555556</td><td>1.00000000</td><td>0.08333333</td><td>0.83491461</td></tr>\n",
              "\t<tr><td>C</td><td>0.63953488</td><td>0.00000000</td><td>1.00000000</td><td>0.83333333</td><td>0.87191651</td></tr>\n",
              "\t<tr><td>B</td><td>0.16279070</td><td>0.44444444</td><td>1.00000000</td><td>0.16666667</td><td>0.58064516</td></tr>\n",
              "</tbody>\n",
              "</table>\n"
            ],
            "text/latex": [
              "A data.frame: 17 × 6\n",
              "\\begin{tabular}{llllll}\n",
              " Compañia & Calorias & Carbohidratos & Proteinas & Grasas & Sodio\\\\\n",
              " <fct> & <dbl> & <dbl> & <dbl> & <dbl> & <dbl>\\\\\n",
              "\\hline\n",
              "\t A & 0.37209302 & 0.55555556 & 1.00000000 & 0.25000000 & 0.53320683\\\\\n",
              "\t C & 0.68604651 & 0.11111111 & 0.81481481 & 0.83333333 & 0.77419355\\\\\n",
              "\t B & 0.44186047 & 0.77777778 & 1.00000000 & 0.16666667 & 0.00000000\\\\\n",
              "\t C & 0.82558140 & 0.66666667 & 0.00000000 & 0.75000000 & 0.33301708\\\\\n",
              "\t A & 0.66279070 & 0.83333333 & 0.12962963 & 0.50000000 & 0.23814042\\\\\n",
              "\t A & 0.65116279 & 0.61111111 & 0.27777778 & 0.58333333 & 0.11764706\\\\\n",
              "\t B & 0.36046512 & 0.77777778 & 1.00000000 & 0.08333333 & 0.39753321\\\\\n",
              "\t A & 0.12790698 & 0.77777778 & 0.12962963 & 0.08333333 & 0.17931689\\\\\n",
              "\t B & 0.18604651 & 0.83333333 & 0.22222222 & 0.08333333 & 0.21726755\\\\\n",
              "\t C & 0.43023256 & 1.00000000 & 0.62962963 & 0.08333333 & 0.34440228\\\\\n",
              "\t A & 0.00000000 & 0.83333333 & 0.07407407 & 0.00000000 & 0.08984820\\\\\n",
              "\t B & 0.34883721 & 0.27777778 & 0.20370370 & 0.50000000 & 0.06135674\\\\\n",
              "\t B & 0.03488372 & 0.09444444 & 0.12962963 & 0.50000000 & 0.05189753\\\\\n",
              "\t C & 1.00000000 & 0.27777778 & 0.37037037 & 1.00000000 & 1.00000000\\\\\n",
              "\t A & 0.19767442 & 0.55555556 & 1.00000000 & 0.08333333 & 0.83491461\\\\\n",
              "\t C & 0.63953488 & 0.00000000 & 1.00000000 & 0.83333333 & 0.87191651\\\\\n",
              "\t B & 0.16279070 & 0.44444444 & 1.00000000 & 0.16666667 & 0.58064516\\\\\n",
              "\\end{tabular}\n"
            ],
            "text/markdown": [
              "\n",
              "A data.frame: 17 × 6\n",
              "\n",
              "| Compañia &lt;fct&gt; | Calorias &lt;dbl&gt; | Carbohidratos &lt;dbl&gt; | Proteinas &lt;dbl&gt; | Grasas &lt;dbl&gt; | Sodio &lt;dbl&gt; |\n",
              "|---|---|---|---|---|---|\n",
              "| A | 0.37209302 | 0.55555556 | 1.00000000 | 0.25000000 | 0.53320683 |\n",
              "| C | 0.68604651 | 0.11111111 | 0.81481481 | 0.83333333 | 0.77419355 |\n",
              "| B | 0.44186047 | 0.77777778 | 1.00000000 | 0.16666667 | 0.00000000 |\n",
              "| C | 0.82558140 | 0.66666667 | 0.00000000 | 0.75000000 | 0.33301708 |\n",
              "| A | 0.66279070 | 0.83333333 | 0.12962963 | 0.50000000 | 0.23814042 |\n",
              "| A | 0.65116279 | 0.61111111 | 0.27777778 | 0.58333333 | 0.11764706 |\n",
              "| B | 0.36046512 | 0.77777778 | 1.00000000 | 0.08333333 | 0.39753321 |\n",
              "| A | 0.12790698 | 0.77777778 | 0.12962963 | 0.08333333 | 0.17931689 |\n",
              "| B | 0.18604651 | 0.83333333 | 0.22222222 | 0.08333333 | 0.21726755 |\n",
              "| C | 0.43023256 | 1.00000000 | 0.62962963 | 0.08333333 | 0.34440228 |\n",
              "| A | 0.00000000 | 0.83333333 | 0.07407407 | 0.00000000 | 0.08984820 |\n",
              "| B | 0.34883721 | 0.27777778 | 0.20370370 | 0.50000000 | 0.06135674 |\n",
              "| B | 0.03488372 | 0.09444444 | 0.12962963 | 0.50000000 | 0.05189753 |\n",
              "| C | 1.00000000 | 0.27777778 | 0.37037037 | 1.00000000 | 1.00000000 |\n",
              "| A | 0.19767442 | 0.55555556 | 1.00000000 | 0.08333333 | 0.83491461 |\n",
              "| C | 0.63953488 | 0.00000000 | 1.00000000 | 0.83333333 | 0.87191651 |\n",
              "| B | 0.16279070 | 0.44444444 | 1.00000000 | 0.16666667 | 0.58064516 |\n",
              "\n"
            ],
            "text/plain": [
              "   Compañia Calorias   Carbohidratos Proteinas  Grasas     Sodio     \n",
              "1  A        0.37209302 0.55555556    1.00000000 0.25000000 0.53320683\n",
              "2  C        0.68604651 0.11111111    0.81481481 0.83333333 0.77419355\n",
              "3  B        0.44186047 0.77777778    1.00000000 0.16666667 0.00000000\n",
              "4  C        0.82558140 0.66666667    0.00000000 0.75000000 0.33301708\n",
              "5  A        0.66279070 0.83333333    0.12962963 0.50000000 0.23814042\n",
              "6  A        0.65116279 0.61111111    0.27777778 0.58333333 0.11764706\n",
              "7  B        0.36046512 0.77777778    1.00000000 0.08333333 0.39753321\n",
              "8  A        0.12790698 0.77777778    0.12962963 0.08333333 0.17931689\n",
              "9  B        0.18604651 0.83333333    0.22222222 0.08333333 0.21726755\n",
              "10 C        0.43023256 1.00000000    0.62962963 0.08333333 0.34440228\n",
              "11 A        0.00000000 0.83333333    0.07407407 0.00000000 0.08984820\n",
              "12 B        0.34883721 0.27777778    0.20370370 0.50000000 0.06135674\n",
              "13 B        0.03488372 0.09444444    0.12962963 0.50000000 0.05189753\n",
              "14 C        1.00000000 0.27777778    0.37037037 1.00000000 1.00000000\n",
              "15 A        0.19767442 0.55555556    1.00000000 0.08333333 0.83491461\n",
              "16 C        0.63953488 0.00000000    1.00000000 0.83333333 0.87191651\n",
              "17 B        0.16279070 0.44444444    1.00000000 0.16666667 0.58064516"
            ]
          },
          "metadata": {},
          "output_type": "display_data"
        },
        {
          "data": {
            "text/html": [
              "<table class=\"dataframe\">\n",
              "<caption>A tibble: 3 × 6</caption>\n",
              "<thead>\n",
              "\t<tr><th scope=col>Compañia</th><th scope=col>Calorias</th><th scope=col>Carbohidratos</th><th scope=col>Proteinas</th><th scope=col>Grasas</th><th scope=col>Sodio</th></tr>\n",
              "\t<tr><th scope=col>&lt;fct&gt;</th><th scope=col>&lt;dbl&gt;</th><th scope=col>&lt;dbl&gt;</th><th scope=col>&lt;dbl&gt;</th><th scope=col>&lt;dbl&gt;</th><th scope=col>&lt;dbl&gt;</th></tr>\n",
              "</thead>\n",
              "<tbody>\n",
              "\t<tr><td>A</td><td>0.3352713</td><td>0.6944444</td><td>0.4351852</td><td>0.25</td><td>0.3321790</td></tr>\n",
              "\t<tr><td>B</td><td>0.2558140</td><td>0.5342593</td><td>0.5925926</td><td>0.25</td><td>0.2181167</td></tr>\n",
              "\t<tr><td>C</td><td>0.7162791</td><td>0.4111111</td><td>0.5629630</td><td>0.70</td><td>0.6647059</td></tr>\n",
              "</tbody>\n",
              "</table>\n"
            ],
            "text/latex": [
              "A tibble: 3 × 6\n",
              "\\begin{tabular}{llllll}\n",
              " Compañia & Calorias & Carbohidratos & Proteinas & Grasas & Sodio\\\\\n",
              " <fct> & <dbl> & <dbl> & <dbl> & <dbl> & <dbl>\\\\\n",
              "\\hline\n",
              "\t A & 0.3352713 & 0.6944444 & 0.4351852 & 0.25 & 0.3321790\\\\\n",
              "\t B & 0.2558140 & 0.5342593 & 0.5925926 & 0.25 & 0.2181167\\\\\n",
              "\t C & 0.7162791 & 0.4111111 & 0.5629630 & 0.70 & 0.6647059\\\\\n",
              "\\end{tabular}\n"
            ],
            "text/markdown": [
              "\n",
              "A tibble: 3 × 6\n",
              "\n",
              "| Compañia &lt;fct&gt; | Calorias &lt;dbl&gt; | Carbohidratos &lt;dbl&gt; | Proteinas &lt;dbl&gt; | Grasas &lt;dbl&gt; | Sodio &lt;dbl&gt; |\n",
              "|---|---|---|---|---|---|\n",
              "| A | 0.3352713 | 0.6944444 | 0.4351852 | 0.25 | 0.3321790 |\n",
              "| B | 0.2558140 | 0.5342593 | 0.5925926 | 0.25 | 0.2181167 |\n",
              "| C | 0.7162791 | 0.4111111 | 0.5629630 | 0.70 | 0.6647059 |\n",
              "\n"
            ],
            "text/plain": [
              "  Compañia Calorias  Carbohidratos Proteinas Grasas Sodio    \n",
              "1 A        0.3352713 0.6944444     0.4351852 0.25   0.3321790\n",
              "2 B        0.2558140 0.5342593     0.5925926 0.25   0.2181167\n",
              "3 C        0.7162791 0.4111111     0.5629630 0.70   0.6647059"
            ]
          },
          "metadata": {},
          "output_type": "display_data"
        },
        {
          "data": {
            "image/png": "[encoded data removed]",
            "text/plain": [
              "plot without title"
            ]
          },
          "metadata": {
            "image/png": {
              "height": 420,
              "width": 420
            }
          },
          "output_type": "display_data"
        }
      ],
      "source": [
        "dat <- data.frame(\"Compañia\"=galletitas$Compañia,\"Calorias\"=rescale(galletitas$Calorias,to=c(0,1)),\n",
        "                  \"Carbohidratos\"=rescale(galletitas$Carbohidratos,to=c(0,1)),\n",
        "                  \"Proteinas\"=rescale(galletitas$Proteinas,to=c(0,1)),\n",
        "                  \"Grasas\"=rescale(galletitas$Grasas,to=c(0,1)),\n",
        "                  \"Sodio\"=rescale(galletitas$Sodio,to=c(0,1)))\n",
        "dat\n",
        "perfil_medio_escalado<- dat %>% group_by(Compañia) %>% summarise_all(mean)\n",
        "perfil_medio_escalado\n",
        "\n",
        "lcols <- c(\"#EEA236\", \"#5CB85C\", \"#46B8DA\")\n",
        "ggradar(perfil_medio_escalado, grid.min=0, grid.max=1,\n",
        "        values.radar = c(0, 0.5, 1),\n",
        "        background.circle.colour = \"white\",\n",
        "        axis.line.colour = \"gray60\",\n",
        "        gridline.min.colour = \"gray60\",\n",
        "        gridline.mid.colour = \"gray60\",\n",
        "        gridline.max.colour = \"gray60\",\n",
        "        group.colours = lcols,\n",
        "       legend.title = \"Compañia\",\n",
        "        legend.position = \"bottom\") +\n",
        "  labs(title = \"Comparación de Composición de Galletitas\")\n"
      ]
    },
    {
      "cell_type": "markdown",
      "id": "0a62aa20",
      "metadata": {
        "id": "0a62aa20"
      },
      "source": [
        "**Gráfico de Chernoff"
      ]
    },
    {
      "cell_type": "code",
      "execution_count": null,
      "id": "760b2125",
      "metadata": {
        "id": "760b2125"
      },
      "outputs": [],
      "source": [
        "library(\"aplpack\") #conda install -c conda-forge r-aplpack"
      ]
    },
    {
      "cell_type": "code",
      "execution_count": null,
      "id": "6854dedb",
      "metadata": {
        "id": "6854dedb",
        "outputId": "3e707ec7-585c-402e-cfd9-230b693342c9"
      },
      "outputs": [
        {
          "name": "stdout",
          "output_type": "stream",
          "text": [
            "effect of variables:\n",
            " modified item       Var            \n",
            " \"height of face   \" \"Calorias\"     \n",
            " \"width of face    \" \"Carbohidratos\"\n",
            " \"structure of face\" \"Proteinas\"    \n",
            " \"height of mouth  \" \"Grasas\"       \n",
            " \"width of mouth   \" \"Sodio\"        \n",
            " \"smiling          \" \"Calorias\"     \n",
            " \"height of eyes   \" \"Carbohidratos\"\n",
            " \"width of eyes    \" \"Proteinas\"    \n",
            " \"height of hair   \" \"Grasas\"       \n",
            " \"width of hair   \"  \"Sodio\"        \n",
            " \"style of hair   \"  \"Calorias\"     \n",
            " \"height of nose  \"  \"Carbohidratos\"\n",
            " \"width of nose   \"  \"Proteinas\"    \n",
            " \"width of ear    \"  \"Grasas\"       \n",
            " \"height of ear   \"  \"Sodio\"        \n"
          ]
        },
        {
          "data": {
            "image/png": "[encoded data removed]",
            "text/plain": [
              "Plot with title \"Marcas de Galletitas\""
            ]
          },
          "metadata": {
            "image/png": {
              "height": 420,
              "width": 420
            }
          },
          "output_type": "display_data"
        }
      ],
      "source": [
        "Caras<-faces(galletitas[,4:8],face.type=1, main =\"Marcas de Galletitas\", labels=galletitas$Marca,\n",
        "    print.info = 1, nrow.plot = 5, ncol.plot = 4, plot.faces = TRUE, cex = 2)"
      ]
    },
    {
      "cell_type": "markdown",
      "id": "b17fbe39",
      "metadata": {
        "id": "b17fbe39"
      },
      "source": [
        "# COMPARACIÓN DE MEDIAS MULTIVARIADAS"
      ]
    },
    {
      "cell_type": "markdown",
      "id": "6727522d",
      "metadata": {
        "id": "6727522d"
      },
      "source": [
        "**Test de normalidad multivariante**"
      ]
    },
    {
      "cell_type": "code",
      "execution_count": null,
      "id": "3760b0fd",
      "metadata": {
        "id": "3760b0fd"
      },
      "outputs": [],
      "source": [
        "#Función de Mardia\n",
        "mardia2<-function(datos){\n",
        "  n<-nrow(datos)\n",
        "  k<-ncol(datos)\n",
        "\n",
        "  x<-as.matrix(datos)\n",
        "  media<-colMeans(datos)\n",
        "  matriz.media<-matrix(media,nrow=n,ncol=k,byrow=TRUE)\n",
        "\n",
        "  S<-cov(datos)*(n-1)/n\n",
        "  SI<-solve(S)   #Inversa de la matriz de covarianzas\n",
        "\n",
        "  distm<-((x-matriz.media)%*%SI)%*%t((x-matriz.media))\n",
        "\n",
        "  gl<-k*(k+1)*(k+2)/6\n",
        "\n",
        "  # Medida de Asimetría Multivariada\n",
        "  AM<-sum(distm^3)/n^2\n",
        "\n",
        "  if (n<30){\n",
        "  # Test Multivariado de Asimetría de Mardia - Muestras Pequeñas\n",
        "  c<-(n+1)*(n+3)*(k+1)/(n*((n+1)*(k+1)-6))\n",
        "  TAM<-n*c/6*AM\n",
        "  valor_p1<-pchisq(TAM,gl,lower.tail = FALSE)\n",
        "  } else {\n",
        "    # Test Multivariado de Asimetríıa de Mardia - Muestras grandes\n",
        "  TAM<-n/6*AM\n",
        "  valor_p1<-pchisq(TAM,gl,lower.tail = FALSE)\n",
        "  }\n",
        "  #Medida de Kurtosis Multivariado\n",
        "  KM<-sum((diag(distm))^2)/n\n",
        "\n",
        "  #Test Multivariado de Kurtosis de Mardia\n",
        "  TKM<-(KM-k*(k+2))*sqrt(n/(8*k*(k+2)))\n",
        "  TKM2<-TKM^2\n",
        "  valor_p2<-pchisq(TKM2,1,lower.tail = FALSE)\n",
        "\n",
        "  cat(\"Test de Normalidad Multivariada\", \"\\n\" ,\n",
        "      \"Ho: Los datos siguen una Distribución Normal Multivariada\",\"\\n\")\n",
        "  cat(\"----------------------------------------------------------------\",\"\\n\")\n",
        "  cat(\"Prueba de Mardia - Asimetría\",\"\\n\",\n",
        "      \"Asimetría Multivariada =\", AM, \"\\n\",\n",
        "      \"Valor de TAM =\",TAM, \"\\n\",\n",
        "      \"Valor p=\", valor_p1, \"\\n\")\n",
        "  cat(\"----------------------------------------------------------------\",\"\\n\")\n",
        "  cat(\"Prueba de Mardia - Curtosis\",\"\\n\",\n",
        "      \"Curtosis Multivariado =\", KM, \"\\n\",\n",
        "      \"Valor de TKM =\",TKM2, \"\\n\",\n",
        "      \"Valor p=\", valor_p2, \"\\n\")\n",
        "     }"
      ]
    },
    {
      "cell_type": "code",
      "execution_count": null,
      "id": "2411ee40",
      "metadata": {
        "id": "2411ee40",
        "outputId": "a5b23399-c4e7-46c6-cd75-0faa5182602a"
      },
      "outputs": [
        {
          "name": "stdout",
          "output_type": "stream",
          "text": [
            "Test de Normalidad Multivariada \n",
            " Ho: Los datos siguen una Distribución Normal Multivariada \n",
            "---------------------------------------------------------------- \n",
            "Prueba de Mardia - Asimetría \n",
            " Asimetría Multivariada = 14.12171 \n",
            " Valor de TAM = 49.84133 \n",
            " Valor p= 0.04961589 \n",
            "---------------------------------------------------------------- \n",
            "Prueba de Mardia - Curtosis \n",
            " Curtosis Multivariado = 33.89504 \n",
            " Valor de TKM = 0.07412829 \n",
            " Valor p= 0.7854182 \n"
          ]
        }
      ],
      "source": [
        "mardia2(galletitas[,4:8])"
      ]
    },
    {
      "cell_type": "markdown",
      "id": "849e1ffc",
      "metadata": {
        "id": "849e1ffc"
      },
      "source": [
        "**Comparar con un vector de medias (45,9,13,150) para ver si existe diferencia**"
      ]
    },
    {
      "cell_type": "code",
      "execution_count": null,
      "id": "355d0d70",
      "metadata": {
        "id": "355d0d70",
        "outputId": "7b60baee-e020-4c8d-d775-6f007ca9abd0"
      },
      "outputs": [
        {
          "data": {
            "text/html": [
              "<style>\n",
              ".dl-inline {width: auto; margin:0; padding: 0}\n",
              ".dl-inline>dt, .dl-inline>dd {float: none; width: auto; display: inline-block}\n",
              ".dl-inline>dt::after {content: \":\\0020\"; padding-right: .5ex}\n",
              ".dl-inline>dt:not(:first-of-type) {padding-left: .5ex}\n",
              "</style><dl class=dl-inline><dt>Carbohidratos</dt><dd>67.5</dd><dt>Proteinas</dt><dd>7.95</dd><dt>Grasas</dt><dd>15</dd><dt>Sodio</dt><dd>362.116666666667</dd></dl>\n"
            ],
            "text/latex": [
              "\\begin{description*}\n",
              "\\item[Carbohidratos] 67.5\n",
              "\\item[Proteinas] 7.95\n",
              "\\item[Grasas] 15\n",
              "\\item[Sodio] 362.116666666667\n",
              "\\end{description*}\n"
            ],
            "text/markdown": [
              "Carbohidratos\n",
              ":   67.5Proteinas\n",
              ":   7.95Grasas\n",
              ":   15Sodio\n",
              ":   362.116666666667\n",
              "\n"
            ],
            "text/plain": [
              "Carbohidratos     Proteinas        Grasas         Sodio \n",
              "      67.5000        7.9500       15.0000      362.1167 "
            ]
          },
          "metadata": {},
          "output_type": "display_data"
        },
        {
          "name": "stdout",
          "output_type": "stream",
          "text": [
            "[1] \" p VALOR F\"\n"
          ]
        },
        {
          "data": {
            "text/html": [
              "<table class=\"dataframe\">\n",
              "<caption>A matrix: 1 × 1 of type dbl</caption>\n",
              "<tbody>\n",
              "\t<tr><td>0.00376903</td></tr>\n",
              "</tbody>\n",
              "</table>\n"
            ],
            "text/latex": [
              "A matrix: 1 × 1 of type dbl\n",
              "\\begin{tabular}{l}\n",
              "\t 0.00376903\\\\\n",
              "\\end{tabular}\n"
            ],
            "text/markdown": [
              "\n",
              "A matrix: 1 × 1 of type dbl\n",
              "\n",
              "| 0.00376903 |\n",
              "\n"
            ],
            "text/plain": [
              "     [,1]      \n",
              "[1,] 0.00376903"
            ]
          },
          "metadata": {},
          "output_type": "display_data"
        }
      ],
      "source": [
        "Comp_A<-filter(galletitas,Compañia==\"A\")\n",
        "datos<-Comp_A[,5:8]\n",
        "vector_media_muestral=apply(datos,2,mean) #calculamos el vector de medias\n",
        "vector_media_muestral\n",
        "varmuestra=round(cov(datos),2) #calculamos matriz varianza y cov redondeamos a 2 decimales\n",
        "\n",
        "#si deseo comparar con un vector de medias (45,9,13,150) para ver si existe diferencia\n",
        "\n",
        "u0=c(45,9,13,150)\n",
        "n<-nrow(datos)\n",
        "p<-ncol(datos)\n",
        "\n",
        "F.obs=((n-p)/p)*t(vector_media_muestral-u0)%*%solve(varmuestra)%*%(vector_media_muestral-u0)\n",
        "print(\" p VALOR F\")\n",
        "\n",
        "1-pf(F.obs,p,n-p)"
      ]
    },
    {
      "cell_type": "markdown",
      "id": "c704ffd0",
      "metadata": {
        "id": "c704ffd0"
      },
      "source": [
        "**COMPARACION DE DOS POBLACIONES MULTIVARIADAS INDEPENDIENTES"
      ]
    },
    {
      "cell_type": "code",
      "execution_count": null,
      "id": "f26c1429",
      "metadata": {
        "id": "f26c1429",
        "outputId": "72cac9c6-cfbc-4086-dd7d-ac1dc9514c18"
      },
      "outputs": [
        {
          "data": {
            "text/html": [
              "<table class=\"dataframe\">\n",
              "<caption>A tibble: 2 × 8</caption>\n",
              "<thead>\n",
              "\t<tr><th scope=col>Tipo</th><th scope=col>Compañia</th><th scope=col>Marca</th><th scope=col>Calorias</th><th scope=col>Carbohidratos</th><th scope=col>Proteinas</th><th scope=col>Grasas</th><th scope=col>Sodio</th></tr>\n",
              "\t<tr><th scope=col>&lt;fct&gt;</th><th scope=col>&lt;dbl&gt;</th><th scope=col>&lt;dbl&gt;</th><th scope=col>&lt;dbl&gt;</th><th scope=col>&lt;dbl&gt;</th><th scope=col>&lt;dbl&gt;</th><th scope=col>&lt;dbl&gt;</th><th scope=col>&lt;dbl&gt;</th></tr>\n",
              "</thead>\n",
              "<tbody>\n",
              "\t<tr><td>Dulce </td><td>NA</td><td>NA</td><td>438.2222</td><td>66.85556</td><td> 6.677778</td><td>16.11111</td><td>203.23</td></tr>\n",
              "\t<tr><td>Salada</td><td>NA</td><td>NA</td><td>448.5000</td><td>62.87500</td><td>10.450000</td><td>17.12500</td><td>669.75</td></tr>\n",
              "</tbody>\n",
              "</table>\n"
            ],
            "text/latex": [
              "A tibble: 2 × 8\n",
              "\\begin{tabular}{llllllll}\n",
              " Tipo & Compañia & Marca & Calorias & Carbohidratos & Proteinas & Grasas & Sodio\\\\\n",
              " <fct> & <dbl> & <dbl> & <dbl> & <dbl> & <dbl> & <dbl> & <dbl>\\\\\n",
              "\\hline\n",
              "\t Dulce  & NA & NA & 438.2222 & 66.85556 &  6.677778 & 16.11111 & 203.23\\\\\n",
              "\t Salada & NA & NA & 448.5000 & 62.87500 & 10.450000 & 17.12500 & 669.75\\\\\n",
              "\\end{tabular}\n"
            ],
            "text/markdown": [
              "\n",
              "A tibble: 2 × 8\n",
              "\n",
              "| Tipo &lt;fct&gt; | Compañia &lt;dbl&gt; | Marca &lt;dbl&gt; | Calorias &lt;dbl&gt; | Carbohidratos &lt;dbl&gt; | Proteinas &lt;dbl&gt; | Grasas &lt;dbl&gt; | Sodio &lt;dbl&gt; |\n",
              "|---|---|---|---|---|---|---|---|\n",
              "| Dulce  | NA | NA | 438.2222 | 66.85556 |  6.677778 | 16.11111 | 203.23 |\n",
              "| Salada | NA | NA | 448.5000 | 62.87500 | 10.450000 | 17.12500 | 669.75 |\n",
              "\n"
            ],
            "text/plain": [
              "  Tipo   Compañia Marca Calorias Carbohidratos Proteinas Grasas   Sodio \n",
              "1 Dulce  NA       NA    438.2222 66.85556       6.677778 16.11111 203.23\n",
              "2 Salada NA       NA    448.5000 62.87500      10.450000 17.12500 669.75"
            ]
          },
          "metadata": {},
          "output_type": "display_data"
        },
        {
          "data": {
            "image/png": "[encoded data removed]",
            "text/plain": [
              "plot without title"
            ]
          },
          "metadata": {
            "image/png": {
              "height": 420,
              "width": 420
            }
          },
          "output_type": "display_data"
        }
      ],
      "source": [
        "perfil_medio_tipo<- galletitas %>% group_by(Tipo) %>% summarise_all(mean)\n",
        "perfil_medio_tipo\n",
        "ggparcoord(data = perfil_medio_tipo,\n",
        "           columns = 4:8,\n",
        "           groupColumn = \"Tipo\",\n",
        "           showPoints = TRUE,\n",
        "           scale = \"globalminmax\")"
      ]
    },
    {
      "cell_type": "code",
      "execution_count": null,
      "id": "62a6d05e",
      "metadata": {
        "scrolled": true,
        "id": "62a6d05e",
        "outputId": "7b76becc-ecfd-4ba9-f6c3-792d259c4702"
      },
      "outputs": [
        {
          "data": {
            "text/html": [
              "<style>\n",
              ".dl-inline {width: auto; margin:0; padding: 0}\n",
              ".dl-inline>dt, .dl-inline>dd {float: none; width: auto; display: inline-block}\n",
              ".dl-inline>dt::after {content: \":\\0020\"; padding-right: .5ex}\n",
              ".dl-inline>dt:not(:first-of-type) {padding-left: .5ex}\n",
              "</style><dl class=dl-inline><dt>Calorias</dt><dd>438.222222222222</dd><dt>Carbohidratos</dt><dd>66.8555555555556</dd><dt>Proteinas</dt><dd>6.67777777777778</dd><dt>Grasas</dt><dd>16.1111111111111</dd><dt>Sodio</dt><dd>203.23</dd></dl>\n"
            ],
            "text/latex": [
              "\\begin{description*}\n",
              "\\item[Calorias] 438.222222222222\n",
              "\\item[Carbohidratos] 66.8555555555556\n",
              "\\item[Proteinas] 6.67777777777778\n",
              "\\item[Grasas] 16.1111111111111\n",
              "\\item[Sodio] 203.23\n",
              "\\end{description*}\n"
            ],
            "text/markdown": [
              "Calorias\n",
              ":   438.222222222222Carbohidratos\n",
              ":   66.8555555555556Proteinas\n",
              ":   6.67777777777778Grasas\n",
              ":   16.1111111111111Sodio\n",
              ":   203.23\n",
              "\n"
            ],
            "text/plain": [
              "     Calorias Carbohidratos     Proteinas        Grasas         Sodio \n",
              "   438.222222     66.855556      6.677778     16.111111    203.230000 "
            ]
          },
          "metadata": {},
          "output_type": "display_data"
        },
        {
          "data": {
            "text/html": [
              "<style>\n",
              ".dl-inline {width: auto; margin:0; padding: 0}\n",
              ".dl-inline>dt, .dl-inline>dd {float: none; width: auto; display: inline-block}\n",
              ".dl-inline>dt::after {content: \":\\0020\"; padding-right: .5ex}\n",
              ".dl-inline>dt:not(:first-of-type) {padding-left: .5ex}\n",
              "</style><dl class=dl-inline><dt>Calorias</dt><dd>448.5</dd><dt>Carbohidratos</dt><dd>62.875</dd><dt>Proteinas</dt><dd>10.45</dd><dt>Grasas</dt><dd>17.125</dd><dt>Sodio</dt><dd>669.75</dd></dl>\n"
            ],
            "text/latex": [
              "\\begin{description*}\n",
              "\\item[Calorias] 448.5\n",
              "\\item[Carbohidratos] 62.875\n",
              "\\item[Proteinas] 10.45\n",
              "\\item[Grasas] 17.125\n",
              "\\item[Sodio] 669.75\n",
              "\\end{description*}\n"
            ],
            "text/markdown": [
              "Calorias\n",
              ":   448.5Carbohidratos\n",
              ":   62.875Proteinas\n",
              ":   10.45Grasas\n",
              ":   17.125Sodio\n",
              ":   669.75\n",
              "\n"
            ],
            "text/plain": [
              "     Calorias Carbohidratos     Proteinas        Grasas         Sodio \n",
              "      448.500        62.875        10.450        17.125       669.750 "
            ]
          },
          "metadata": {},
          "output_type": "display_data"
        },
        {
          "data": {
            "text/html": [
              "<table class=\"dataframe\">\n",
              "<caption>A matrix: 5 × 5 of type dbl</caption>\n",
              "<thead>\n",
              "\t<tr><th></th><th scope=col>Calorias</th><th scope=col>Carbohidratos</th><th scope=col>Proteinas</th><th scope=col>Grasas</th><th scope=col>Sodio</th></tr>\n",
              "</thead>\n",
              "<tbody>\n",
              "\t<tr><th scope=row>Calorias</th><td> 663.444444</td><td> 25.836111</td><td> 1.1055556</td><td>59.972222</td><td> 1714.32125</td></tr>\n",
              "\t<tr><th scope=row>Carbohidratos</th><td>  25.836111</td><td> 27.862778</td><td> 1.7113889</td><td>-9.556944</td><td>  423.57487</td></tr>\n",
              "\t<tr><th scope=row>Proteinas</th><td>   1.105556</td><td>  1.711389</td><td> 0.9544444</td><td>-1.134722</td><td>   36.92200</td></tr>\n",
              "\t<tr><th scope=row>Grasas</th><td>  59.972222</td><td> -9.556944</td><td>-1.1347222</td><td>11.111111</td><td>   -5.66125</td></tr>\n",
              "\t<tr><th scope=row>Sodio</th><td>1714.321250</td><td>423.574875</td><td>36.9220000</td><td>-5.661250</td><td>13566.39660</td></tr>\n",
              "</tbody>\n",
              "</table>\n"
            ],
            "text/latex": [
              "A matrix: 5 × 5 of type dbl\n",
              "\\begin{tabular}{r|lllll}\n",
              "  & Calorias & Carbohidratos & Proteinas & Grasas & Sodio\\\\\n",
              "\\hline\n",
              "\tCalorias &  663.444444 &  25.836111 &  1.1055556 & 59.972222 &  1714.32125\\\\\n",
              "\tCarbohidratos &   25.836111 &  27.862778 &  1.7113889 & -9.556944 &   423.57487\\\\\n",
              "\tProteinas &    1.105556 &   1.711389 &  0.9544444 & -1.134722 &    36.92200\\\\\n",
              "\tGrasas &   59.972222 &  -9.556944 & -1.1347222 & 11.111111 &    -5.66125\\\\\n",
              "\tSodio & 1714.321250 & 423.574875 & 36.9220000 & -5.661250 & 13566.39660\\\\\n",
              "\\end{tabular}\n"
            ],
            "text/markdown": [
              "\n",
              "A matrix: 5 × 5 of type dbl\n",
              "\n",
              "| <!--/--> | Calorias | Carbohidratos | Proteinas | Grasas | Sodio |\n",
              "|---|---|---|---|---|---|\n",
              "| Calorias |  663.444444 |  25.836111 |  1.1055556 | 59.972222 |  1714.32125 |\n",
              "| Carbohidratos |   25.836111 |  27.862778 |  1.7113889 | -9.556944 |   423.57487 |\n",
              "| Proteinas |    1.105556 |   1.711389 |  0.9544444 | -1.134722 |    36.92200 |\n",
              "| Grasas |   59.972222 |  -9.556944 | -1.1347222 | 11.111111 |    -5.66125 |\n",
              "| Sodio | 1714.321250 | 423.574875 | 36.9220000 | -5.661250 | 13566.39660 |\n",
              "\n"
            ],
            "text/plain": [
              "              Calorias    Carbohidratos Proteinas  Grasas    Sodio      \n",
              "Calorias       663.444444  25.836111     1.1055556 59.972222  1714.32125\n",
              "Carbohidratos   25.836111  27.862778     1.7113889 -9.556944   423.57487\n",
              "Proteinas        1.105556   1.711389     0.9544444 -1.134722    36.92200\n",
              "Grasas          59.972222  -9.556944    -1.1347222 11.111111    -5.66125\n",
              "Sodio         1714.321250 423.574875    36.9220000 -5.661250 13566.39660"
            ]
          },
          "metadata": {},
          "output_type": "display_data"
        },
        {
          "data": {
            "text/html": [
              "<table class=\"dataframe\">\n",
              "<caption>A matrix: 5 × 5 of type dbl</caption>\n",
              "<thead>\n",
              "\t<tr><th></th><th scope=col>Calorias</th><th scope=col>Carbohidratos</th><th scope=col>Proteinas</th><th scope=col>Grasas</th><th scope=col>Sodio</th></tr>\n",
              "</thead>\n",
              "<tbody>\n",
              "\t<tr><th scope=row>Calorias</th><td> 576.85714</td><td>  -71.214286</td><td> -24.114286</td><td> 102.642857</td><td>  3637.2857</td></tr>\n",
              "\t<tr><th scope=row>Carbohidratos</th><td> -71.21429</td><td>   26.982143</td><td>   2.235714</td><td> -20.696429</td><td> -1336.3214</td></tr>\n",
              "\t<tr><th scope=row>Proteinas</th><td> -24.11429</td><td>    2.235714</td><td>   1.448571</td><td>  -4.035714</td><td>  -215.0714</td></tr>\n",
              "\t<tr><th scope=row>Grasas</th><td> 102.64286</td><td>  -20.696429</td><td>  -4.035714</td><td>  21.839286</td><td>  1034.1786</td></tr>\n",
              "\t<tr><th scope=row>Sodio</th><td>3637.28571</td><td>-1336.321429</td><td>-215.071429</td><td>1034.178571</td><td>114371.6429</td></tr>\n",
              "</tbody>\n",
              "</table>\n"
            ],
            "text/latex": [
              "A matrix: 5 × 5 of type dbl\n",
              "\\begin{tabular}{r|lllll}\n",
              "  & Calorias & Carbohidratos & Proteinas & Grasas & Sodio\\\\\n",
              "\\hline\n",
              "\tCalorias &  576.85714 &   -71.214286 &  -24.114286 &  102.642857 &   3637.2857\\\\\n",
              "\tCarbohidratos &  -71.21429 &    26.982143 &    2.235714 &  -20.696429 &  -1336.3214\\\\\n",
              "\tProteinas &  -24.11429 &     2.235714 &    1.448571 &   -4.035714 &   -215.0714\\\\\n",
              "\tGrasas &  102.64286 &   -20.696429 &   -4.035714 &   21.839286 &   1034.1786\\\\\n",
              "\tSodio & 3637.28571 & -1336.321429 & -215.071429 & 1034.178571 & 114371.6429\\\\\n",
              "\\end{tabular}\n"
            ],
            "text/markdown": [
              "\n",
              "A matrix: 5 × 5 of type dbl\n",
              "\n",
              "| <!--/--> | Calorias | Carbohidratos | Proteinas | Grasas | Sodio |\n",
              "|---|---|---|---|---|---|\n",
              "| Calorias |  576.85714 |   -71.214286 |  -24.114286 |  102.642857 |   3637.2857 |\n",
              "| Carbohidratos |  -71.21429 |    26.982143 |    2.235714 |  -20.696429 |  -1336.3214 |\n",
              "| Proteinas |  -24.11429 |     2.235714 |    1.448571 |   -4.035714 |   -215.0714 |\n",
              "| Grasas |  102.64286 |   -20.696429 |   -4.035714 |   21.839286 |   1034.1786 |\n",
              "| Sodio | 3637.28571 | -1336.321429 | -215.071429 | 1034.178571 | 114371.6429 |\n",
              "\n"
            ],
            "text/plain": [
              "              Calorias   Carbohidratos Proteinas   Grasas      Sodio      \n",
              "Calorias       576.85714   -71.214286   -24.114286  102.642857   3637.2857\n",
              "Carbohidratos  -71.21429    26.982143     2.235714  -20.696429  -1336.3214\n",
              "Proteinas      -24.11429     2.235714     1.448571   -4.035714   -215.0714\n",
              "Grasas         102.64286   -20.696429    -4.035714   21.839286   1034.1786\n",
              "Sodio         3637.28571 -1336.321429  -215.071429 1034.178571 114371.6429"
            ]
          },
          "metadata": {},
          "output_type": "display_data"
        },
        {
          "data": {
            "text/html": [
              "9"
            ],
            "text/latex": [
              "9"
            ],
            "text/markdown": [
              "9"
            ],
            "text/plain": [
              "[1] 9"
            ]
          },
          "metadata": {},
          "output_type": "display_data"
        },
        {
          "data": {
            "text/html": [
              "8"
            ],
            "text/latex": [
              "8"
            ],
            "text/markdown": [
              "8"
            ],
            "text/plain": [
              "[1] 8"
            ]
          },
          "metadata": {},
          "output_type": "display_data"
        },
        {
          "data": {
            "text/html": [
              "<table class=\"dataframe\">\n",
              "<caption>A matrix: 5 × 5 of type dbl</caption>\n",
              "<thead>\n",
              "\t<tr><th></th><th scope=col>Calorias</th><th scope=col>Carbohidratos</th><th scope=col>Proteinas</th><th scope=col>Grasas</th><th scope=col>Sodio</th></tr>\n",
              "</thead>\n",
              "<tbody>\n",
              "\t<tr><th scope=row>Calorias</th><td> 623.03704</td><td> -19.454074</td><td>-10.663704</td><td> 79.885185</td><td> 2611.70467</td></tr>\n",
              "\t<tr><th scope=row>Carbohidratos</th><td> -19.45407</td><td>  27.451815</td><td>  1.956074</td><td>-14.755370</td><td> -397.71007</td></tr>\n",
              "\t<tr><th scope=row>Proteinas</th><td> -10.66370</td><td>   1.956074</td><td>  1.185037</td><td> -2.488519</td><td>  -80.67493</td></tr>\n",
              "\t<tr><th scope=row>Grasas</th><td>  79.88519</td><td> -14.755370</td><td> -2.488519</td><td> 16.117593</td><td>  479.59733</td></tr>\n",
              "\t<tr><th scope=row>Sodio</th><td>2611.70467</td><td>-397.710067</td><td>-80.674933</td><td>479.597333</td><td>60608.84485</td></tr>\n",
              "</tbody>\n",
              "</table>\n"
            ],
            "text/latex": [
              "A matrix: 5 × 5 of type dbl\n",
              "\\begin{tabular}{r|lllll}\n",
              "  & Calorias & Carbohidratos & Proteinas & Grasas & Sodio\\\\\n",
              "\\hline\n",
              "\tCalorias &  623.03704 &  -19.454074 & -10.663704 &  79.885185 &  2611.70467\\\\\n",
              "\tCarbohidratos &  -19.45407 &   27.451815 &   1.956074 & -14.755370 &  -397.71007\\\\\n",
              "\tProteinas &  -10.66370 &    1.956074 &   1.185037 &  -2.488519 &   -80.67493\\\\\n",
              "\tGrasas &   79.88519 &  -14.755370 &  -2.488519 &  16.117593 &   479.59733\\\\\n",
              "\tSodio & 2611.70467 & -397.710067 & -80.674933 & 479.597333 & 60608.84485\\\\\n",
              "\\end{tabular}\n"
            ],
            "text/markdown": [
              "\n",
              "A matrix: 5 × 5 of type dbl\n",
              "\n",
              "| <!--/--> | Calorias | Carbohidratos | Proteinas | Grasas | Sodio |\n",
              "|---|---|---|---|---|---|\n",
              "| Calorias |  623.03704 |  -19.454074 | -10.663704 |  79.885185 |  2611.70467 |\n",
              "| Carbohidratos |  -19.45407 |   27.451815 |   1.956074 | -14.755370 |  -397.71007 |\n",
              "| Proteinas |  -10.66370 |    1.956074 |   1.185037 |  -2.488519 |   -80.67493 |\n",
              "| Grasas |   79.88519 |  -14.755370 |  -2.488519 |  16.117593 |   479.59733 |\n",
              "| Sodio | 2611.70467 | -397.710067 | -80.674933 | 479.597333 | 60608.84485 |\n",
              "\n"
            ],
            "text/plain": [
              "              Calorias   Carbohidratos Proteinas  Grasas     Sodio      \n",
              "Calorias       623.03704  -19.454074   -10.663704  79.885185  2611.70467\n",
              "Carbohidratos  -19.45407   27.451815     1.956074 -14.755370  -397.71007\n",
              "Proteinas      -10.66370    1.956074     1.185037  -2.488519   -80.67493\n",
              "Grasas          79.88519  -14.755370    -2.488519  16.117593   479.59733\n",
              "Sodio         2611.70467 -397.710067   -80.674933 479.597333 60608.84485"
            ]
          },
          "metadata": {},
          "output_type": "display_data"
        },
        {
          "data": {
            "text/html": [
              "<table class=\"dataframe\">\n",
              "<caption>A matrix: 1 × 1 of type dbl</caption>\n",
              "<tbody>\n",
              "\t<tr><td>24.70309</td></tr>\n",
              "</tbody>\n",
              "</table>\n"
            ],
            "text/latex": [
              "A matrix: 1 × 1 of type dbl\n",
              "\\begin{tabular}{l}\n",
              "\t 24.70309\\\\\n",
              "\\end{tabular}\n"
            ],
            "text/markdown": [
              "\n",
              "A matrix: 1 × 1 of type dbl\n",
              "\n",
              "| 24.70309 |\n",
              "\n"
            ],
            "text/plain": [
              "     [,1]    \n",
              "[1,] 24.70309"
            ]
          },
          "metadata": {},
          "output_type": "display_data"
        },
        {
          "data": {
            "text/html": [
              "<table class=\"dataframe\">\n",
              "<caption>A matrix: 1 × 1 of type dbl</caption>\n",
              "<tbody>\n",
              "\t<tr><td>104.6248</td></tr>\n",
              "</tbody>\n",
              "</table>\n"
            ],
            "text/latex": [
              "A matrix: 1 × 1 of type dbl\n",
              "\\begin{tabular}{l}\n",
              "\t 104.6248\\\\\n",
              "\\end{tabular}\n"
            ],
            "text/markdown": [
              "\n",
              "A matrix: 1 × 1 of type dbl\n",
              "\n",
              "| 104.6248 |\n",
              "\n"
            ],
            "text/plain": [
              "     [,1]    \n",
              "[1,] 104.6248"
            ]
          },
          "metadata": {},
          "output_type": "display_data"
        },
        {
          "data": {
            "text/html": [
              "<table class=\"dataframe\">\n",
              "<caption>A matrix: 1 × 1 of type dbl</caption>\n",
              "<tbody>\n",
              "\t<tr><td>15.34498</td></tr>\n",
              "</tbody>\n",
              "</table>\n"
            ],
            "text/latex": [
              "A matrix: 1 × 1 of type dbl\n",
              "\\begin{tabular}{l}\n",
              "\t 15.34498\\\\\n",
              "\\end{tabular}\n"
            ],
            "text/markdown": [
              "\n",
              "A matrix: 1 × 1 of type dbl\n",
              "\n",
              "| 15.34498 |\n",
              "\n"
            ],
            "text/plain": [
              "     [,1]    \n",
              "[1,] 15.34498"
            ]
          },
          "metadata": {},
          "output_type": "display_data"
        },
        {
          "data": {
            "text/html": [
              "3.20387426272962"
            ],
            "text/latex": [
              "3.20387426272962"
            ],
            "text/markdown": [
              "3.20387426272962"
            ],
            "text/plain": [
              "[1] 3.203874"
            ]
          },
          "metadata": {},
          "output_type": "display_data"
        },
        {
          "data": {
            "text/html": [
              "<table class=\"dataframe\">\n",
              "<caption>A matrix: 1 × 1 of type dbl</caption>\n",
              "<tbody>\n",
              "\t<tr><td>0.0001221933</td></tr>\n",
              "</tbody>\n",
              "</table>\n"
            ],
            "text/latex": [
              "A matrix: 1 × 1 of type dbl\n",
              "\\begin{tabular}{l}\n",
              "\t 0.0001221933\\\\\n",
              "\\end{tabular}\n"
            ],
            "text/markdown": [
              "\n",
              "A matrix: 1 × 1 of type dbl\n",
              "\n",
              "| 0.0001221933 |\n",
              "\n"
            ],
            "text/plain": [
              "     [,1]        \n",
              "[1,] 0.0001221933"
            ]
          },
          "metadata": {},
          "output_type": "display_data"
        }
      ],
      "source": [
        "Dulce=filter(galletitas, Tipo==\"Dulce\")[,4:8]\n",
        "Salada=filter(galletitas, Tipo==\"Salada\")[,4:8]\n",
        "prom.Dulce =apply(Dulce, 2, mean)\n",
        "prom.Dulce\n",
        "prom.Salada= apply(Salada, 2, mean)\n",
        "prom.Salada\n",
        "\n",
        "s1 = cov(Dulce)\n",
        "s1\n",
        "s2 = cov(Salada)\n",
        "s2\n",
        "\n",
        "n1 = nrow(Dulce)\n",
        "n1\n",
        "n2 = nrow(Salada)\n",
        "n2\n",
        "p = ncol(Dulce)\n",
        "\n",
        "s = ((n1-1)*s1 + (n2-1)*s2) / (n1 + n2 - 2)\n",
        "s\n",
        "\n",
        "d2 = t(prom.Dulce-prom.Salada)%*%solve(s)%*%(prom.Dulce-prom.Salada)\n",
        "d2\n",
        "t2 = d2*((n1*n2) / (n1+n2))\n",
        "t2\n",
        "f = (n1+n2-p-1)/((n1+n2-2)*p) * t2\n",
        "f\n",
        "alfa = 0.05\n",
        "\n",
        "qf(p=0.05, df1=5, df2=11, lower.tail=FALSE) #valor de constraste F\n",
        "\n",
        "pf(f, p, n1+n2-p-1 ,lower.tail = F)  # p valor"
      ]
    },
    {
      "cell_type": "code",
      "execution_count": null,
      "id": "4149b985",
      "metadata": {
        "id": "4149b985",
        "outputId": "8c090d63-1cd9-4cf1-a83f-11ed27ea6107"
      },
      "outputs": [
        {
          "name": "stderr",
          "output_type": "stream",
          "text": [
            "Loading required package: corpcor\n",
            "\n",
            "\n",
            "Attaching package: 'Hotelling'\n",
            "\n",
            "\n",
            "The following object is masked from 'package:dplyr':\n",
            "\n",
            "    summarise\n",
            "\n",
            "\n"
          ]
        }
      ],
      "source": [
        "#conda install -c conda-forge r-hotelling\n",
        "library(Hotelling)"
      ]
    },
    {
      "cell_type": "code",
      "execution_count": null,
      "id": "07e269bc",
      "metadata": {
        "id": "07e269bc",
        "outputId": "7d821c74-1f58-4e45-85e6-fa30275a0cbf"
      },
      "outputs": [
        {
          "data": {
            "text/plain": [
              "Test stat:  104.62 \n",
              "Numerator df:  5 \n",
              "Denominator df:  11 \n",
              "P-value:  0.0001222 "
            ]
          },
          "metadata": {},
          "output_type": "display_data"
        }
      ],
      "source": [
        "galletitas_N<-dplyr::select(galletitas,Tipo,Calorias,Carbohidratos,Proteinas,Grasas,Sodio)\n",
        "fit = hotelling.test(.~Tipo, data = galletitas_N)\n",
        "fit # Rechazo H0, igualdad de vectores medios y puedo seguir"
      ]
    },
    {
      "cell_type": "markdown",
      "id": "d22a3c4b",
      "metadata": {
        "id": "d22a3c4b"
      },
      "source": [
        "**COMPARACION DE TRES O MÁS POBLACIONES MULTIVARIADAS INDEPENDIENTES"
      ]
    },
    {
      "cell_type": "code",
      "execution_count": null,
      "id": "dbc67635",
      "metadata": {
        "id": "dbc67635",
        "outputId": "abc69f80-4ce1-44dc-b313-283354dd3cde"
      },
      "outputs": [
        {
          "data": {
            "text/plain": [
              "          Df Pillai approx F num Df den Df Pr(>F)\n",
              "Compañia   2 0.8952   1.7826     10     22 0.1242\n",
              "Residuals 14                                     "
            ]
          },
          "metadata": {},
          "output_type": "display_data"
        }
      ],
      "source": [
        "mod1<-manova(cbind(Calorias,Carbohidratos,Proteinas,Grasas,Sodio)~Compañia,data=galletitas)\n",
        "summary(mod1)"
      ]
    },
    {
      "cell_type": "code",
      "execution_count": null,
      "id": "87832ce5",
      "metadata": {
        "id": "87832ce5",
        "outputId": "14dac4c1-0bb1-47eb-d94f-1a608fdc6814"
      },
      "outputs": [
        {
          "data": {
            "text/plain": [
              " Response Calorias :\n",
              "            Df Sum Sq Mean Sq F value   Pr(>F)   \n",
              "Compañia     2 4760.9 2380.45  6.6228 0.009458 **\n",
              "Residuals   14 5032.0  359.43                    \n",
              "---\n",
              "Signif. codes:  0 '***' 0.001 '**' 0.01 '*' 0.05 '.' 0.1 ' ' 1\n",
              "\n",
              " Response Carbohidratos :\n",
              "            Df Sum Sq Mean Sq F value Pr(>F)\n",
              "Compañia     2  72.18  36.088  1.2423 0.3187\n",
              "Residuals   14 406.71  29.051               \n",
              "\n",
              " Response Proteinas :\n",
              "            Df Sum Sq Mean Sq F value Pr(>F)\n",
              "Compañia     2  2.415  1.2077  0.2236 0.8025\n",
              "Residuals   14 75.627  5.4019               \n",
              "\n",
              " Response Grasas :\n",
              "            Df Sum Sq Mean Sq F value  Pr(>F)  \n",
              "Compañia     2 102.92  51.459  5.0309 0.02257 *\n",
              "Residuals   14 143.20  10.229                  \n",
              "---\n",
              "Signif. codes:  0 '***' 0.001 '**' 0.01 '*' 0.05 '.' 0.1 ' ' 1\n",
              "\n",
              " Response Sodio :\n",
              "            Df  Sum Sq Mean Sq F value  Pr(>F)  \n",
              "Compañia     2  638375  319187  3.7472 0.04973 *\n",
              "Residuals   14 1192531   85181                  \n",
              "---\n",
              "Signif. codes:  0 '***' 0.001 '**' 0.01 '*' 0.05 '.' 0.1 ' ' 1\n"
            ]
          },
          "metadata": {},
          "output_type": "display_data"
        }
      ],
      "source": [
        "summary.aov(mod1)"
      ]
    },
    {
      "cell_type": "markdown",
      "id": "b634861a",
      "metadata": {
        "id": "b634861a"
      },
      "source": [
        "Supuestos del modelo"
      ]
    },
    {
      "cell_type": "code",
      "execution_count": null,
      "id": "bcc7380b",
      "metadata": {
        "id": "bcc7380b",
        "outputId": "69fa8ada-f848-4fec-8bf5-e0f8a8bb868a"
      },
      "outputs": [
        {
          "data": {
            "text/html": [
              "<table class=\"dataframe\">\n",
              "<caption>A tibble: 15 × 4</caption>\n",
              "<thead>\n",
              "\t<tr><th scope=col>Compañia</th><th scope=col>variable</th><th scope=col>statistic</th><th scope=col>p</th></tr>\n",
              "\t<tr><th scope=col>&lt;fct&gt;</th><th scope=col>&lt;chr&gt;</th><th scope=col>&lt;dbl&gt;</th><th scope=col>&lt;dbl&gt;</th></tr>\n",
              "</thead>\n",
              "<tbody>\n",
              "\t<tr><td>A</td><td>Calorias     </td><td>0.9046407</td><td>0.40208704</td></tr>\n",
              "\t<tr><td>A</td><td>Carbohidratos</td><td>0.8083189</td><td>0.06973474</td></tr>\n",
              "\t<tr><td>A</td><td>Grasas       </td><td>0.8804031</td><td>0.27091345</td></tr>\n",
              "\t<tr><td>A</td><td>Proteinas    </td><td>0.7420558</td><td>0.01663660</td></tr>\n",
              "\t<tr><td>A</td><td>Sodio        </td><td>0.8395023</td><td>0.12913234</td></tr>\n",
              "\t<tr><td>B</td><td>Calorias     </td><td>0.9430552</td><td>0.68390055</td></tr>\n",
              "\t<tr><td>B</td><td>Carbohidratos</td><td>0.8748408</td><td>0.24619181</td></tr>\n",
              "\t<tr><td>B</td><td>Grasas       </td><td>0.7617782</td><td>0.02591262</td></tr>\n",
              "\t<tr><td>B</td><td>Proteinas    </td><td>0.7250561</td><td>0.01123199</td></tr>\n",
              "\t<tr><td>B</td><td>Sodio        </td><td>0.8898186</td><td>0.31723823</td></tr>\n",
              "\t<tr><td>C</td><td>Calorias     </td><td>0.9909484</td><td>0.98290838</td></tr>\n",
              "\t<tr><td>C</td><td>Carbohidratos</td><td>0.9260806</td><td>0.56989807</td></tr>\n",
              "\t<tr><td>C</td><td>Grasas       </td><td>0.7792162</td><td>0.05427193</td></tr>\n",
              "\t<tr><td>C</td><td>Proteinas    </td><td>0.9721832</td><td>0.88907252</td></tr>\n",
              "\t<tr><td>C</td><td>Sodio        </td><td>0.8569678</td><td>0.21756488</td></tr>\n",
              "</tbody>\n",
              "</table>\n"
            ],
            "text/latex": [
              "A tibble: 15 × 4\n",
              "\\begin{tabular}{llll}\n",
              " Compañia & variable & statistic & p\\\\\n",
              " <fct> & <chr> & <dbl> & <dbl>\\\\\n",
              "\\hline\n",
              "\t A & Calorias      & 0.9046407 & 0.40208704\\\\\n",
              "\t A & Carbohidratos & 0.8083189 & 0.06973474\\\\\n",
              "\t A & Grasas        & 0.8804031 & 0.27091345\\\\\n",
              "\t A & Proteinas     & 0.7420558 & 0.01663660\\\\\n",
              "\t A & Sodio         & 0.8395023 & 0.12913234\\\\\n",
              "\t B & Calorias      & 0.9430552 & 0.68390055\\\\\n",
              "\t B & Carbohidratos & 0.8748408 & 0.24619181\\\\\n",
              "\t B & Grasas        & 0.7617782 & 0.02591262\\\\\n",
              "\t B & Proteinas     & 0.7250561 & 0.01123199\\\\\n",
              "\t B & Sodio         & 0.8898186 & 0.31723823\\\\\n",
              "\t C & Calorias      & 0.9909484 & 0.98290838\\\\\n",
              "\t C & Carbohidratos & 0.9260806 & 0.56989807\\\\\n",
              "\t C & Grasas        & 0.7792162 & 0.05427193\\\\\n",
              "\t C & Proteinas     & 0.9721832 & 0.88907252\\\\\n",
              "\t C & Sodio         & 0.8569678 & 0.21756488\\\\\n",
              "\\end{tabular}\n"
            ],
            "text/markdown": [
              "\n",
              "A tibble: 15 × 4\n",
              "\n",
              "| Compañia &lt;fct&gt; | variable &lt;chr&gt; | statistic &lt;dbl&gt; | p &lt;dbl&gt; |\n",
              "|---|---|---|---|\n",
              "| A | Calorias      | 0.9046407 | 0.40208704 |\n",
              "| A | Carbohidratos | 0.8083189 | 0.06973474 |\n",
              "| A | Grasas        | 0.8804031 | 0.27091345 |\n",
              "| A | Proteinas     | 0.7420558 | 0.01663660 |\n",
              "| A | Sodio         | 0.8395023 | 0.12913234 |\n",
              "| B | Calorias      | 0.9430552 | 0.68390055 |\n",
              "| B | Carbohidratos | 0.8748408 | 0.24619181 |\n",
              "| B | Grasas        | 0.7617782 | 0.02591262 |\n",
              "| B | Proteinas     | 0.7250561 | 0.01123199 |\n",
              "| B | Sodio         | 0.8898186 | 0.31723823 |\n",
              "| C | Calorias      | 0.9909484 | 0.98290838 |\n",
              "| C | Carbohidratos | 0.9260806 | 0.56989807 |\n",
              "| C | Grasas        | 0.7792162 | 0.05427193 |\n",
              "| C | Proteinas     | 0.9721832 | 0.88907252 |\n",
              "| C | Sodio         | 0.8569678 | 0.21756488 |\n",
              "\n"
            ],
            "text/plain": [
              "   Compañia variable      statistic p         \n",
              "1  A        Calorias      0.9046407 0.40208704\n",
              "2  A        Carbohidratos 0.8083189 0.06973474\n",
              "3  A        Grasas        0.8804031 0.27091345\n",
              "4  A        Proteinas     0.7420558 0.01663660\n",
              "5  A        Sodio         0.8395023 0.12913234\n",
              "6  B        Calorias      0.9430552 0.68390055\n",
              "7  B        Carbohidratos 0.8748408 0.24619181\n",
              "8  B        Grasas        0.7617782 0.02591262\n",
              "9  B        Proteinas     0.7250561 0.01123199\n",
              "10 B        Sodio         0.8898186 0.31723823\n",
              "11 C        Calorias      0.9909484 0.98290838\n",
              "12 C        Carbohidratos 0.9260806 0.56989807\n",
              "13 C        Grasas        0.7792162 0.05427193\n",
              "14 C        Proteinas     0.9721832 0.88907252\n",
              "15 C        Sodio         0.8569678 0.21756488"
            ]
          },
          "metadata": {},
          "output_type": "display_data"
        }
      ],
      "source": [
        "#Supuestos de normalidad\n",
        "library(rstatix) #conda install -c conda-forge r-rstatix\n",
        "galletitas %>% group_by(Compañia) %>%  shapiro_test(Calorias,Carbohidratos,Proteinas,Grasas,Sodio)"
      ]
    },
    {
      "cell_type": "code",
      "execution_count": null,
      "id": "733f6e63",
      "metadata": {
        "id": "733f6e63",
        "outputId": "4437df1b-75a6-4c0d-ffc7-063a061086f6"
      },
      "outputs": [
        {
          "name": "stdout",
          "output_type": "stream",
          "text": [
            "Test de Normalidad Multivariada \n",
            " Ho: Los datos siguen una Distribución Normal Multivariada \n",
            "---------------------------------------------------------------- \n",
            "Prueba de Mardia - Asimetría \n",
            " Asimetría Multivariada = 14.12171 \n",
            " Valor de TAM = 49.84133 \n",
            " Valor p= 0.04961589 \n",
            "---------------------------------------------------------------- \n",
            "Prueba de Mardia - Curtosis \n",
            " Curtosis Multivariado = 33.89504 \n",
            " Valor de TKM = 0.07412829 \n",
            " Valor p= 0.7854182 \n"
          ]
        }
      ],
      "source": [
        "#Supuestos de normalidad multivariante\n",
        "mardia2(galletitas[, c(\"Calorias\", \"Carbohidratos\",\"Proteinas\",\"Grasas\",\"Sodio\")])"
      ]
    },
    {
      "cell_type": "code",
      "execution_count": null,
      "id": "7f987030",
      "metadata": {
        "id": "7f987030",
        "outputId": "ff2061b5-3ad5-4695-b3b4-292422c82722"
      },
      "outputs": [
        {
          "name": "stderr",
          "output_type": "stream",
          "text": [
            "Loading required package: car\n",
            "\n",
            "Loading required package: carData\n",
            "\n",
            "\n",
            "Attaching package: 'car'\n",
            "\n",
            "\n",
            "The following object is masked from 'package:dplyr':\n",
            "\n",
            "    recode\n",
            "\n",
            "\n",
            "Loading required package: broom\n",
            "\n"
          ]
        },
        {
          "data": {
            "text/plain": [
              "\n",
              "\tBox's M-test for Homogeneity of Covariance Matrices\n",
              "\n",
              "data:  galletitas[, c(\"Calorias\", \"Carbohidratos\", \"Proteinas\", \"Grasas\",     \"Sodio\")]\n",
              "Chi-Sq (approx.) = 108.45, df = 30, p-value = 8.227e-11\n"
            ]
          },
          "metadata": {},
          "output_type": "display_data"
        }
      ],
      "source": [
        "#prueba M de Box para evaluar la homogeneidad de las matrices de varianza-covarianza. Hipótesis nula: Las matrices de varianza-covarianza son iguales para cada combinación formada por cada grupo en la variable independiente\n",
        "library(heplots) #conda install -c conda-forge r-heplots\n",
        "boxM(Y =galletitas[, c(\"Calorias\", \"Carbohidratos\",\"Proteinas\",\"Grasas\",\"Sodio\")], group = galletitas$Compañia)"
      ]
    }
  ],
  "metadata": {
    "kernelspec": {
      "display_name": "R",
      "language": "R",
      "name": "ir"
    },
    "language_info": {
      "codemirror_mode": "r",
      "file_extension": ".r",
      "mimetype": "text/x-r-source",
      "name": "R",
      "pygments_lexer": "r",
      "version": "4.1.3"
    },
    "colab": {
      "provenance": []
    }
  },
  "nbformat": 4,
  "nbformat_minor": 5
}