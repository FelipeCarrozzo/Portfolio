{
 "cells": [
  {
   "cell_type": "code",
   "execution_count": null,
   "id": "41c573e7",
   "metadata": {
    "vscode": {
     "languageId": "r"
    }
   },
   "outputs": [
    {
     "name": "stderr",
     "output_type": "stream",
     "text": [
      "also installing the dependencies 'cli', 'pillar', 'tibble', 'tzdb', 'glue', 'timechange', 'lifecycle', 'rlang', 'scales', 'vctrs', 'dplyr', 'clock', 'hardhat', 'ipred', 'lubridate', 'purrr', 'tidyselect', 'ggplot2', 'recipes'\n",
      "\n"
     ]
    },
    {
     "name": "stdout",
     "output_type": "stream",
     "text": [
      "\n",
      "  There are binary versions available but the source versions are later:\n",
      "           binary source needs_compilation\n",
      "cli         2.5.0  3.6.1              TRUE\n",
      "pillar      1.6.0  1.9.0             FALSE\n",
      "tibble      3.1.1  3.2.1              TRUE\n",
      "tzdb        0.1.1  0.4.0              TRUE\n",
      "glue        1.4.2  1.6.2              TRUE\n",
      "timechange  0.0.2  0.2.0              TRUE\n",
      "lifecycle   1.0.0  1.0.3             FALSE\n",
      "rlang      0.4.11  1.1.1              TRUE\n",
      "scales      1.1.1  1.2.1             FALSE\n",
      "vctrs       0.3.8  0.6.2              TRUE\n",
      "dplyr       1.0.6  1.1.2              TRUE\n",
      "clock       0.3.0  0.7.0              TRUE\n",
      "hardhat     0.1.5  1.3.0             FALSE\n",
      "ipred      0.9-11 0.9-14              TRUE\n",
      "lubridate  1.7.10  1.9.2              TRUE\n",
      "purrr       0.3.4  1.0.1              TRUE\n",
      "tidyselect  1.1.1  1.2.0             FALSE\n",
      "ggplot2     3.3.3  3.4.2             FALSE\n",
      "recipes    0.1.16  1.0.6             FALSE\n",
      "caret      6.0-86 6.0-94              TRUE\n",
      "\n",
      "  Binaries will be installed\n",
      "package 'cli' successfully unpacked and MD5 sums checked\n",
      "package 'tibble' successfully unpacked and MD5 sums checked\n",
      "package 'tzdb' successfully unpacked and MD5 sums checked\n",
      "package 'glue' successfully unpacked and MD5 sums checked\n",
      "package 'timechange' successfully unpacked and MD5 sums checked\n",
      "package 'rlang' successfully unpacked and MD5 sums checked\n",
      "package 'vctrs' successfully unpacked and MD5 sums checked\n",
      "package 'dplyr' successfully unpacked and MD5 sums checked\n",
      "package 'clock' successfully unpacked and MD5 sums checked\n",
      "package 'ipred' successfully unpacked and MD5 sums checked\n",
      "package 'lubridate' successfully unpacked and MD5 sums checked\n",
      "package 'purrr' successfully unpacked and MD5 sums checked\n",
      "package 'caret' successfully unpacked and MD5 sums checked\n",
      "\n",
      "The downloaded binary packages are in\n",
      "\tC:\\Users\\usr\\AppData\\Local\\Temp\\RtmpgVk23Z\\downloaded_packages\n"
     ]
    },
    {
     "name": "stderr",
     "output_type": "stream",
     "text": [
      "installing the source packages 'pillar', 'lifecycle', 'scales', 'hardhat', 'tidyselect', 'ggplot2', 'recipes'\n",
      "\n",
      "Warning message in install.packages(\"caret\"):\n",
      "\"installation of package 'lifecycle' had non-zero exit status\"Warning message in install.packages(\"caret\"):\n",
      "\"installation of package 'hardhat' had non-zero exit status\"Warning message in install.packages(\"caret\"):\n",
      "\"installation of package 'pillar' had non-zero exit status\"Warning message in install.packages(\"caret\"):\n",
      "\"installation of package 'scales' had non-zero exit status\"Warning message in install.packages(\"caret\"):\n",
      "\"installation of package 'tidyselect' had non-zero exit status\"Warning message in install.packages(\"caret\"):\n",
      "\"installation of package 'ggplot2' had non-zero exit status\"Warning message in install.packages(\"caret\"):\n",
      "\"installation of package 'recipes' had non-zero exit status\""
     ]
    },
    {
     "ename": "",
     "evalue": "",
     "output_type": "error",
     "traceback": [
      "\u001b[1;31mCanceled future for execute_request message before replies were done"
     ]
    },
    {
     "ename": "",
     "evalue": "",
     "output_type": "error",
     "traceback": [
      "\u001b[1;31mEl Kernel se bloqueó al ejecutar código en la celda actual o en una celda anterior. Revise el código de las celdas para identificar una posible causa del error. Haga clic <a href='https://aka.ms/vscodeJupyterKernelCrash'>aquí</a> para obtener más información. Vea el [registro] de Jupyter (command:jupyter.viewOutput) para obtener más detalles."
     ]
    }
   ],
   "source": [
    "library(caret)\n",
    "library(pROC)\n",
    "library(ISLR)\n",
    "library(readxl)"
   ]
  }
 ],
 "metadata": {
  "kernelspec": {
   "display_name": "R",
   "language": "R",
   "name": "ir"
  },
  "language_info": {
   "codemirror_mode": "r",
   "file_extension": ".r",
   "mimetype": "text/x-r-source",
   "name": "R",
   "pygments_lexer": "r",
   "version": "3.6.1"
  }
 },
 "nbformat": 4,
 "nbformat_minor": 5
}
