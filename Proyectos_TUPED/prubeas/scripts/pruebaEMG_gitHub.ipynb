{
 "cells": [
  {
   "cell_type": "code",
   "execution_count": null,
   "metadata": {},
   "outputs": [],
   "source": [
    "# # Imports python libraries\n",
    "# import numpy as np\n",
    "# import random as rd\n",
    "# import wave\n",
    "# import sys\n",
    "# import matplotlib.pyplot as plt\n",
    "# from matplotlib.pyplot import figure\n",
    "# sys.path.insert(1, r'./../functions') # add to pythonpath\n",
    "\n",
    "# #For creating animations and plotting in 3D\n",
    "# from matplotlib import rc\n",
    "# import matplotlib.animation as animation\n",
    "# from JSAnimation import IPython_display\n",
    "# from mpl_toolkits.mplot3d import Axes3D\n",
    "\n",
    "\n",
    "# # commands to create high-resolution figures with large labels\n",
    "# %config InlineBackend.figure_formats = {'png', 'retina'} \n",
    "# plt.rcParams['axes.labelsize'] = 16 # fontsize for figure labels\n",
    "# plt.rcParams['axes.titlesize'] = 18 # fontsize for figure titles\n",
    "# plt.rcParams['font.size'] = 14 # fontsize for figure numbers\n",
    "# plt.rcParams['lines.linewidth'] = 1.4 # line width for plotting"
   ]
  },
  {
   "cell_type": "code",
   "execution_count": 6,
   "metadata": {},
   "outputs": [],
   "source": [
    "import wave\n",
    "import numpy as np\n",
    "import pandas as pd"
   ]
  },
  {
   "cell_type": "code",
   "execution_count": 37,
   "metadata": {},
   "outputs": [
    {
     "data": {
      "text/html": [
       "<div>\n",
       "<style scoped>\n",
       "    .dataframe tbody tr th:only-of-type {\n",
       "        vertical-align: middle;\n",
       "    }\n",
       "\n",
       "    .dataframe tbody tr th {\n",
       "        vertical-align: top;\n",
       "    }\n",
       "\n",
       "    .dataframe thead th {\n",
       "        text-align: right;\n",
       "    }\n",
       "</style>\n",
       "<table border=\"1\" class=\"dataframe\">\n",
       "  <thead>\n",
       "    <tr style=\"text-align: right;\">\n",
       "      <th></th>\n",
       "      <th>EXG Channel 0</th>\n",
       "      <th>EXG Channel 1</th>\n",
       "      <th>EXG Channel 2</th>\n",
       "      <th>EXG Channel 3</th>\n",
       "      <th>EXG Channel 4</th>\n",
       "      <th>EXG Channel 5</th>\n",
       "      <th>EXG Channel 6</th>\n",
       "      <th>EXG Channel 7</th>\n",
       "    </tr>\n",
       "  </thead>\n",
       "  <tbody>\n",
       "    <tr>\n",
       "      <th>200</th>\n",
       "      <td>5834.274689</td>\n",
       "      <td>5170.450231</td>\n",
       "      <td>3933.750562</td>\n",
       "      <td>2805.725074</td>\n",
       "      <td>3913.164605</td>\n",
       "      <td>-1546.807772</td>\n",
       "      <td>1442.939215</td>\n",
       "      <td>-2874.188468</td>\n",
       "    </tr>\n",
       "    <tr>\n",
       "      <th>201</th>\n",
       "      <td>5835.951070</td>\n",
       "      <td>5175.009987</td>\n",
       "      <td>3940.143161</td>\n",
       "      <td>2812.050618</td>\n",
       "      <td>3918.573727</td>\n",
       "      <td>-1539.968138</td>\n",
       "      <td>1446.739012</td>\n",
       "      <td>-2865.404232</td>\n",
       "    </tr>\n",
       "    <tr>\n",
       "      <th>202</th>\n",
       "      <td>5848.758620</td>\n",
       "      <td>5185.671769</td>\n",
       "      <td>3948.078030</td>\n",
       "      <td>2823.651174</td>\n",
       "      <td>3927.693239</td>\n",
       "      <td>-1533.195559</td>\n",
       "      <td>1450.404698</td>\n",
       "      <td>-2859.190447</td>\n",
       "    </tr>\n",
       "    <tr>\n",
       "      <th>203</th>\n",
       "      <td>5805.507994</td>\n",
       "      <td>5133.435742</td>\n",
       "      <td>3889.851736</td>\n",
       "      <td>2778.545353</td>\n",
       "      <td>3875.256047</td>\n",
       "      <td>-1583.218763</td>\n",
       "      <td>1388.289200</td>\n",
       "      <td>-2918.601384</td>\n",
       "    </tr>\n",
       "    <tr>\n",
       "      <th>204</th>\n",
       "      <td>5831.726591</td>\n",
       "      <td>5153.932292</td>\n",
       "      <td>3908.269573</td>\n",
       "      <td>2802.148795</td>\n",
       "      <td>3892.399835</td>\n",
       "      <td>-1568.846592</td>\n",
       "      <td>1399.710941</td>\n",
       "      <td>-2903.581012</td>\n",
       "    </tr>\n",
       "  </tbody>\n",
       "</table>\n",
       "</div>"
      ],
      "text/plain": [
       "      EXG Channel 0   EXG Channel 1   EXG Channel 2   EXG Channel 3  \\\n",
       "200     5834.274689     5170.450231     3933.750562     2805.725074   \n",
       "201     5835.951070     5175.009987     3940.143161     2812.050618   \n",
       "202     5848.758620     5185.671769     3948.078030     2823.651174   \n",
       "203     5805.507994     5133.435742     3889.851736     2778.545353   \n",
       "204     5831.726591     5153.932292     3908.269573     2802.148795   \n",
       "\n",
       "      EXG Channel 4   EXG Channel 5   EXG Channel 6   EXG Channel 7  \n",
       "200     3913.164605    -1546.807772     1442.939215    -2874.188468  \n",
       "201     3918.573727    -1539.968138     1446.739012    -2865.404232  \n",
       "202     3927.693239    -1533.195559     1450.404698    -2859.190447  \n",
       "203     3875.256047    -1583.218763     1388.289200    -2918.601384  \n",
       "204     3892.399835    -1568.846592     1399.710941    -2903.581012  "
      ]
     },
     "execution_count": 37,
     "metadata": {},
     "output_type": "execute_result"
    }
   ],
   "source": [
    "rutaPre = \"C:/Users/felip/OneDrive/Documentos/TUPED/2doAño/PROYECTO CIRINS/11/TEST/11 pre RF.txt\"\n",
    "senal_pre = pd.read_csv(rutaPre, sep=',', header=4, engine='python')\n",
    "senal_pre = senal_pre.iloc[200:, 1:9]\n",
    "senal_pre.head()"
   ]
  },
  {
   "cell_type": "code",
   "execution_count": 39,
   "metadata": {},
   "outputs": [
    {
     "name": "stdout",
     "output_type": "stream",
     "text": [
      "<wave.Wave_write object at 0x0F79C0D0>\n"
     ]
    }
   ],
   "source": [
    "# Supongamos que cada línea del archivo contiene un valor de amplitud --ERROR POSIBLE\n",
    "# data = [float(line.strip()) for line in senal_pre]\n",
    "\n",
    "# Convierte la lista de datos a un array de numpy\n",
    "# audio_data = np.array(senal_pre)\n",
    "\n",
    "# Configura los parámetros del archivo WAV\n",
    "sample_rate = 44100  # Frecuencia de muestreo en Hz\n",
    "audio_format = wave.Wave_write('archivo_convertido.wav')\n",
    "\n",
    "# Ajusta los parámetros según tus necesidades\n",
    "audio_format.setnchannels(1)  # 1 para mono, 2 para estéreo\n",
    "audio_format.setsampwidth(2)  # 2 bytes para profundidad de bits de 16 bits\n",
    "audio_format.setframerate(sample_rate)\n",
    "audio_format.setnframes(len(senal_pre))\n",
    "# audio_format.writeframesraw(senal_pre.tobytes())\n",
    "audio_format.close()\n",
    "\n",
    "#mostrar primeras lineas de audio_format\n",
    "print(audio_format)\n"
   ]
  },
  {
   "cell_type": "code",
   "execution_count": 40,
   "metadata": {},
   "outputs": [],
   "source": [
    "#Function that extracts the number of recording channels, sampling rate, time and signal\n",
    "#variable is the path and filename of the .wav file\n",
    "def ecg(variable):\n",
    "    record = wave.open(variable, 'r') # load the data\n",
    "\n",
    "    # Get the number of channels, sample rate, etc.\n",
    "    numChannels = record.getnchannels() #number of channels\n",
    "    numFrames = record.getnframes() #number of frames\n",
    "    sampleRate = record.getframerate() #sampling rate\n",
    "    sampleWidth = record.getsampwidth()\n",
    "    \n",
    "    # Get wave data\n",
    "    dstr = record.readframes(numFrames * numChannels)\n",
    "    waveData = np.frombuffer(dstr, np.int16)\n",
    "\n",
    "    # Get time window\n",
    "    timeEMG = np.linspace(0, len(waveData)/sampleRate, num=len(waveData))\n",
    "\n",
    "    return timeEMG, waveData"
   ]
  },
  {
   "cell_type": "code",
   "execution_count": 41,
   "metadata": {},
   "outputs": [
    {
     "ename": "AttributeError",
     "evalue": "'Wave_write' object has no attribute 'read'",
     "output_type": "error",
     "traceback": [
      "\u001b[1;31m---------------------------------------------------------------------------\u001b[0m",
      "\u001b[1;31mAttributeError\u001b[0m                            Traceback (most recent call last)",
      "\u001b[1;32mc:\\Users\\felip\\OneDrive\\Documentos\\TUPED\\prubeas\\scripts\\pruebaEMG_gitHub.ipynb Celda 6\u001b[0m line \u001b[0;36m1\n\u001b[1;32m----> <a href='vscode-notebook-cell:/c%3A/Users/felip/OneDrive/Documentos/TUPED/prubeas/scripts/pruebaEMG_gitHub.ipynb#W3sZmlsZQ%3D%3D?line=0'>1</a>\u001b[0m prueba \u001b[39m=\u001b[39m ecg(audio_format)\n",
      "\u001b[1;32mc:\\Users\\felip\\OneDrive\\Documentos\\TUPED\\prubeas\\scripts\\pruebaEMG_gitHub.ipynb Celda 6\u001b[0m line \u001b[0;36m4\n\u001b[0;32m      <a href='vscode-notebook-cell:/c%3A/Users/felip/OneDrive/Documentos/TUPED/prubeas/scripts/pruebaEMG_gitHub.ipynb#W3sZmlsZQ%3D%3D?line=2'>3</a>\u001b[0m \u001b[39mdef\u001b[39;00m \u001b[39mecg\u001b[39m(variable):\n\u001b[1;32m----> <a href='vscode-notebook-cell:/c%3A/Users/felip/OneDrive/Documentos/TUPED/prubeas/scripts/pruebaEMG_gitHub.ipynb#W3sZmlsZQ%3D%3D?line=3'>4</a>\u001b[0m     record \u001b[39m=\u001b[39m wave\u001b[39m.\u001b[39;49mopen(variable, \u001b[39m'\u001b[39;49m\u001b[39mr\u001b[39;49m\u001b[39m'\u001b[39;49m) \u001b[39m# load the data\u001b[39;00m\n\u001b[0;32m      <a href='vscode-notebook-cell:/c%3A/Users/felip/OneDrive/Documentos/TUPED/prubeas/scripts/pruebaEMG_gitHub.ipynb#W3sZmlsZQ%3D%3D?line=5'>6</a>\u001b[0m     \u001b[39m# Get the number of channels, sample rate, etc.\u001b[39;00m\n\u001b[0;32m      <a href='vscode-notebook-cell:/c%3A/Users/felip/OneDrive/Documentos/TUPED/prubeas/scripts/pruebaEMG_gitHub.ipynb#W3sZmlsZQ%3D%3D?line=6'>7</a>\u001b[0m     numChannels \u001b[39m=\u001b[39m record\u001b[39m.\u001b[39mgetnchannels() \u001b[39m#number of channels\u001b[39;00m\n",
      "File \u001b[1;32mc:\\Program Files (x86)\\Python311-32\\Lib\\wave.py:631\u001b[0m, in \u001b[0;36mopen\u001b[1;34m(f, mode)\u001b[0m\n\u001b[0;32m    629\u001b[0m         mode \u001b[39m=\u001b[39m \u001b[39m'\u001b[39m\u001b[39mrb\u001b[39m\u001b[39m'\u001b[39m\n\u001b[0;32m    630\u001b[0m \u001b[39mif\u001b[39;00m mode \u001b[39min\u001b[39;00m (\u001b[39m'\u001b[39m\u001b[39mr\u001b[39m\u001b[39m'\u001b[39m, \u001b[39m'\u001b[39m\u001b[39mrb\u001b[39m\u001b[39m'\u001b[39m):\n\u001b[1;32m--> 631\u001b[0m     \u001b[39mreturn\u001b[39;00m Wave_read(f)\n\u001b[0;32m    632\u001b[0m \u001b[39melif\u001b[39;00m mode \u001b[39min\u001b[39;00m (\u001b[39m'\u001b[39m\u001b[39mw\u001b[39m\u001b[39m'\u001b[39m, \u001b[39m'\u001b[39m\u001b[39mwb\u001b[39m\u001b[39m'\u001b[39m):\n\u001b[0;32m    633\u001b[0m     \u001b[39mreturn\u001b[39;00m Wave_write(f)\n",
      "File \u001b[1;32mc:\\Program Files (x86)\\Python311-32\\Lib\\wave.py:283\u001b[0m, in \u001b[0;36mWave_read.__init__\u001b[1;34m(self, f)\u001b[0m\n\u001b[0;32m    281\u001b[0m \u001b[39m# else, assume it is an open file object already\u001b[39;00m\n\u001b[0;32m    282\u001b[0m \u001b[39mtry\u001b[39;00m:\n\u001b[1;32m--> 283\u001b[0m     \u001b[39mself\u001b[39;49m\u001b[39m.\u001b[39;49minitfp(f)\n\u001b[0;32m    284\u001b[0m \u001b[39mexcept\u001b[39;00m:\n\u001b[0;32m    285\u001b[0m     \u001b[39mif\u001b[39;00m \u001b[39mself\u001b[39m\u001b[39m.\u001b[39m_i_opened_the_file:\n",
      "File \u001b[1;32mc:\\Program Files (x86)\\Python311-32\\Lib\\wave.py:248\u001b[0m, in \u001b[0;36mWave_read.initfp\u001b[1;34m(self, file)\u001b[0m\n\u001b[0;32m    246\u001b[0m \u001b[39mself\u001b[39m\u001b[39m.\u001b[39m_convert \u001b[39m=\u001b[39m \u001b[39mNone\u001b[39;00m\n\u001b[0;32m    247\u001b[0m \u001b[39mself\u001b[39m\u001b[39m.\u001b[39m_soundpos \u001b[39m=\u001b[39m \u001b[39m0\u001b[39m\n\u001b[1;32m--> 248\u001b[0m \u001b[39mself\u001b[39m\u001b[39m.\u001b[39m_file \u001b[39m=\u001b[39m _Chunk(file, bigendian \u001b[39m=\u001b[39;49m \u001b[39m0\u001b[39;49m)\n\u001b[0;32m    249\u001b[0m \u001b[39mif\u001b[39;00m \u001b[39mself\u001b[39m\u001b[39m.\u001b[39m_file\u001b[39m.\u001b[39mgetname() \u001b[39m!=\u001b[39m \u001b[39mb\u001b[39m\u001b[39m'\u001b[39m\u001b[39mRIFF\u001b[39m\u001b[39m'\u001b[39m:\n\u001b[0;32m    250\u001b[0m     \u001b[39mraise\u001b[39;00m Error(\u001b[39m'\u001b[39m\u001b[39mfile does not start with RIFF id\u001b[39m\u001b[39m'\u001b[39m)\n",
      "File \u001b[1;32mc:\\Program Files (x86)\\Python311-32\\Lib\\wave.py:112\u001b[0m, in \u001b[0;36m_Chunk.__init__\u001b[1;34m(self, file, align, bigendian, inclheader)\u001b[0m\n\u001b[0;32m    110\u001b[0m     strflag \u001b[39m=\u001b[39m \u001b[39m'\u001b[39m\u001b[39m<\u001b[39m\u001b[39m'\u001b[39m\n\u001b[0;32m    111\u001b[0m \u001b[39mself\u001b[39m\u001b[39m.\u001b[39mfile \u001b[39m=\u001b[39m file\n\u001b[1;32m--> 112\u001b[0m \u001b[39mself\u001b[39m\u001b[39m.\u001b[39mchunkname \u001b[39m=\u001b[39m file\u001b[39m.\u001b[39;49mread(\u001b[39m4\u001b[39m)\n\u001b[0;32m    113\u001b[0m \u001b[39mif\u001b[39;00m \u001b[39mlen\u001b[39m(\u001b[39mself\u001b[39m\u001b[39m.\u001b[39mchunkname) \u001b[39m<\u001b[39m \u001b[39m4\u001b[39m:\n\u001b[0;32m    114\u001b[0m     \u001b[39mraise\u001b[39;00m \u001b[39mEOFError\u001b[39;00m\n",
      "\u001b[1;31mAttributeError\u001b[0m: 'Wave_write' object has no attribute 'read'"
     ]
    }
   ],
   "source": [
    "prueba = ecg(audio_format)"
   ]
  }
 ],
 "metadata": {
  "kernelspec": {
   "display_name": "Python 3",
   "language": "python",
   "name": "python3"
  },
  "language_info": {
   "codemirror_mode": {
    "name": "ipython",
    "version": 3
   },
   "file_extension": ".py",
   "mimetype": "text/x-python",
   "name": "python",
   "nbconvert_exporter": "python",
   "pygments_lexer": "ipython3",
   "version": "3.11.4"
  },
  "orig_nbformat": 4
 },
 "nbformat": 4,
 "nbformat_minor": 2
}
