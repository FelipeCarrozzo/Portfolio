{
 "cells": [
  {
   "cell_type": "code",
   "execution_count": null,
   "id": "bab023b9",
   "metadata": {},
   "outputs": [
    {
     "name": "stdout",
     "output_type": "stream",
     "text": [
      "[WindowsPath('C:/Users/usr/Documents/CV/Portafolio/DW_CentroSalud/data/areas.csv'), WindowsPath('C:/Users/usr/Documents/CV/Portafolio/DW_CentroSalud/data/atenciones.csv'), WindowsPath('C:/Users/usr/Documents/CV/Portafolio/DW_CentroSalud/data/cat_procedimientos.csv'), WindowsPath('C:/Users/usr/Documents/CV/Portafolio/DW_CentroSalud/data/departamentos_provincias.csv'), WindowsPath('C:/Users/usr/Documents/CV/Portafolio/DW_CentroSalud/data/especialidades.csv'), WindowsPath('C:/Users/usr/Documents/CV/Portafolio/DW_CentroSalud/data/medicos.csv'), WindowsPath('C:/Users/usr/Documents/CV/Portafolio/DW_CentroSalud/data/oss.csv'), WindowsPath('C:/Users/usr/Documents/CV/Portafolio/DW_CentroSalud/data/pacientes.csv'), WindowsPath('C:/Users/usr/Documents/CV/Portafolio/DW_CentroSalud/data/procedimientos.csv'), WindowsPath('C:/Users/usr/Documents/CV/Portafolio/DW_CentroSalud/data/README.md'), WindowsPath('C:/Users/usr/Documents/CV/Portafolio/DW_CentroSalud/data/tipos_procedimientos.csv')]\n"
     ]
    }
   ],
   "source": [
    "from pathlib import Path\n",
    "\n",
    "data_path = Path(\"..\") / \"data\"\n",
    "\n",
    "data_path = data_path.resolve()\n",
    "\n",
    "print(list(data_path.iterdir()))"
   ]
  },
  {
   "cell_type": "code",
   "execution_count": 11,
   "id": "b16a9dfa",
   "metadata": {},
   "outputs": [],
   "source": [
    "import pandas as pd\n",
    "\n",
    "df_pacientes = pd.read_csv(data_path / \"pacientes.csv\")\n",
    "df_medicos = pd.read_csv(data_path / \"medicos.csv\")\n",
    "df_procedimientos = pd.read_csv(data_path / \"procedimientos.csv\")\n",
    "df_atenciones = pd.read_csv(data_path / \"atenciones.csv\")"
   ]
  }
 ],
 "metadata": {
  "kernelspec": {
   "display_name": ".venv",
   "language": "python",
   "name": "python3"
  },
  "language_info": {
   "codemirror_mode": {
    "name": "ipython",
    "version": 3
   },
   "file_extension": ".py",
   "mimetype": "text/x-python",
   "name": "python",
   "nbconvert_exporter": "python",
   "pygments_lexer": "ipython3",
   "version": "3.12.4"
  }
 },
 "nbformat": 4,
 "nbformat_minor": 5
}
